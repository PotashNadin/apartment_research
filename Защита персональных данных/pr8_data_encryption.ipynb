{
 "cells": [
  {
   "cell_type": "markdown",
   "metadata": {
    "toc": true
   },
   "source": [
    "<h1>Содержание<span class=\"tocSkip\"></span></h1>\n",
    "<div class=\"toc\"><ul class=\"toc-item\"><li><span><a href=\"#Загрузка-данных\" data-toc-modified-id=\"Загрузка-данных-1\"><span class=\"toc-item-num\">1&nbsp;&nbsp;</span>Загрузка данных</a></span></li><li><span><a href=\"#Умножение-матриц\" data-toc-modified-id=\"Умножение-матриц-2\"><span class=\"toc-item-num\">2&nbsp;&nbsp;</span>Умножение матриц</a></span></li><li><span><a href=\"#Доказательство\" data-toc-modified-id=\"Доказательство-3\"><span class=\"toc-item-num\">3&nbsp;&nbsp;</span>Доказательство</a></span></li><li><span><a href=\"#Чек-лист-проверки\" data-toc-modified-id=\"Чек-лист-проверки-4\"><span class=\"toc-item-num\">4&nbsp;&nbsp;</span>Чек-лист проверки</a></span></li></ul></div>"
   ]
  },
  {
   "cell_type": "markdown",
   "metadata": {},
   "source": [
    "# Защита персональных данных клиентов"
   ]
  },
  {
   "cell_type": "markdown",
   "metadata": {},
   "source": [
    "## Загрузка данных"
   ]
  },
  {
   "cell_type": "code",
   "execution_count": 5,
   "metadata": {},
   "outputs": [],
   "source": [
    "import pandas as pd\n",
    "import numpy as np\n",
    "from sklearn.metrics import r2_score\n",
    "from sklearn.linear_model import LinearRegression"
   ]
  },
  {
   "cell_type": "code",
   "execution_count": 6,
   "metadata": {
    "scrolled": false
   },
   "outputs": [
    {
     "data": {
      "text/html": [
       "<div>\n",
       "<style scoped>\n",
       "    .dataframe tbody tr th:only-of-type {\n",
       "        vertical-align: middle;\n",
       "    }\n",
       "\n",
       "    .dataframe tbody tr th {\n",
       "        vertical-align: top;\n",
       "    }\n",
       "\n",
       "    .dataframe thead th {\n",
       "        text-align: right;\n",
       "    }\n",
       "</style>\n",
       "<table border=\"1\" class=\"dataframe\">\n",
       "  <thead>\n",
       "    <tr style=\"text-align: right;\">\n",
       "      <th></th>\n",
       "      <th>Пол</th>\n",
       "      <th>Возраст</th>\n",
       "      <th>Зарплата</th>\n",
       "      <th>Члены семьи</th>\n",
       "      <th>Страховые выплаты</th>\n",
       "    </tr>\n",
       "  </thead>\n",
       "  <tbody>\n",
       "    <tr>\n",
       "      <th>0</th>\n",
       "      <td>1</td>\n",
       "      <td>41.0</td>\n",
       "      <td>49600.0</td>\n",
       "      <td>1</td>\n",
       "      <td>0</td>\n",
       "    </tr>\n",
       "    <tr>\n",
       "      <th>1</th>\n",
       "      <td>0</td>\n",
       "      <td>46.0</td>\n",
       "      <td>38000.0</td>\n",
       "      <td>1</td>\n",
       "      <td>1</td>\n",
       "    </tr>\n",
       "    <tr>\n",
       "      <th>2</th>\n",
       "      <td>0</td>\n",
       "      <td>29.0</td>\n",
       "      <td>21000.0</td>\n",
       "      <td>0</td>\n",
       "      <td>0</td>\n",
       "    </tr>\n",
       "    <tr>\n",
       "      <th>3</th>\n",
       "      <td>0</td>\n",
       "      <td>21.0</td>\n",
       "      <td>41700.0</td>\n",
       "      <td>2</td>\n",
       "      <td>0</td>\n",
       "    </tr>\n",
       "    <tr>\n",
       "      <th>4</th>\n",
       "      <td>1</td>\n",
       "      <td>28.0</td>\n",
       "      <td>26100.0</td>\n",
       "      <td>0</td>\n",
       "      <td>0</td>\n",
       "    </tr>\n",
       "    <tr>\n",
       "      <th>...</th>\n",
       "      <td>...</td>\n",
       "      <td>...</td>\n",
       "      <td>...</td>\n",
       "      <td>...</td>\n",
       "      <td>...</td>\n",
       "    </tr>\n",
       "    <tr>\n",
       "      <th>4995</th>\n",
       "      <td>0</td>\n",
       "      <td>28.0</td>\n",
       "      <td>35700.0</td>\n",
       "      <td>2</td>\n",
       "      <td>0</td>\n",
       "    </tr>\n",
       "    <tr>\n",
       "      <th>4996</th>\n",
       "      <td>0</td>\n",
       "      <td>34.0</td>\n",
       "      <td>52400.0</td>\n",
       "      <td>1</td>\n",
       "      <td>0</td>\n",
       "    </tr>\n",
       "    <tr>\n",
       "      <th>4997</th>\n",
       "      <td>0</td>\n",
       "      <td>20.0</td>\n",
       "      <td>33900.0</td>\n",
       "      <td>2</td>\n",
       "      <td>0</td>\n",
       "    </tr>\n",
       "    <tr>\n",
       "      <th>4998</th>\n",
       "      <td>1</td>\n",
       "      <td>22.0</td>\n",
       "      <td>32700.0</td>\n",
       "      <td>3</td>\n",
       "      <td>0</td>\n",
       "    </tr>\n",
       "    <tr>\n",
       "      <th>4999</th>\n",
       "      <td>1</td>\n",
       "      <td>28.0</td>\n",
       "      <td>40600.0</td>\n",
       "      <td>1</td>\n",
       "      <td>0</td>\n",
       "    </tr>\n",
       "  </tbody>\n",
       "</table>\n",
       "<p>5000 rows × 5 columns</p>\n",
       "</div>"
      ],
      "text/plain": [
       "      Пол  Возраст  Зарплата  Члены семьи  Страховые выплаты\n",
       "0       1     41.0   49600.0            1                  0\n",
       "1       0     46.0   38000.0            1                  1\n",
       "2       0     29.0   21000.0            0                  0\n",
       "3       0     21.0   41700.0            2                  0\n",
       "4       1     28.0   26100.0            0                  0\n",
       "...   ...      ...       ...          ...                ...\n",
       "4995    0     28.0   35700.0            2                  0\n",
       "4996    0     34.0   52400.0            1                  0\n",
       "4997    0     20.0   33900.0            2                  0\n",
       "4998    1     22.0   32700.0            3                  0\n",
       "4999    1     28.0   40600.0            1                  0\n",
       "\n",
       "[5000 rows x 5 columns]"
      ]
     },
     "execution_count": 6,
     "metadata": {},
     "output_type": "execute_result"
    }
   ],
   "source": [
    "df = pd.read_csv('/datasets/insurance.csv')\n",
    "df"
   ]
  },
  {
   "cell_type": "code",
   "execution_count": 7,
   "metadata": {},
   "outputs": [
    {
     "name": "stdout",
     "output_type": "stream",
     "text": [
      "<class 'pandas.core.frame.DataFrame'>\n",
      "RangeIndex: 5000 entries, 0 to 4999\n",
      "Data columns (total 5 columns):\n",
      " #   Column             Non-Null Count  Dtype  \n",
      "---  ------             --------------  -----  \n",
      " 0   Пол                5000 non-null   int64  \n",
      " 1   Возраст            5000 non-null   float64\n",
      " 2   Зарплата           5000 non-null   float64\n",
      " 3   Члены семьи        5000 non-null   int64  \n",
      " 4   Страховые выплаты  5000 non-null   int64  \n",
      "dtypes: float64(2), int64(3)\n",
      "memory usage: 195.4 KB\n"
     ]
    }
   ],
   "source": [
    "df.info()"
   ]
  },
  {
   "cell_type": "code",
   "execution_count": 8,
   "metadata": {},
   "outputs": [],
   "source": [
    "features = df.drop('Страховые выплаты',axis=1)\n",
    "target = df['Страховые выплаты']"
   ]
  },
  {
   "cell_type": "code",
   "execution_count": 9,
   "metadata": {},
   "outputs": [
    {
     "data": {
      "text/plain": [
       "array([[1.00e+00, 4.10e+01, 4.96e+04, 1.00e+00],\n",
       "       [0.00e+00, 4.60e+01, 3.80e+04, 1.00e+00],\n",
       "       [0.00e+00, 2.90e+01, 2.10e+04, 0.00e+00],\n",
       "       ...,\n",
       "       [0.00e+00, 2.00e+01, 3.39e+04, 2.00e+00],\n",
       "       [1.00e+00, 2.20e+01, 3.27e+04, 3.00e+00],\n",
       "       [1.00e+00, 2.80e+01, 4.06e+04, 1.00e+00]])"
      ]
     },
     "execution_count": 9,
     "metadata": {},
     "output_type": "execute_result"
    }
   ],
   "source": [
    "matrix_features = features.values\n",
    "matrix_features"
   ]
  },
  {
   "cell_type": "code",
   "execution_count": 10,
   "metadata": {},
   "outputs": [
    {
     "data": {
      "text/plain": [
       "array([0, 1, 0, ..., 0, 0, 0])"
      ]
     },
     "execution_count": 10,
     "metadata": {},
     "output_type": "execute_result"
    }
   ],
   "source": [
    "vector_target = target.values\n",
    "vector_target"
   ]
  },
  {
   "cell_type": "markdown",
   "metadata": {},
   "source": [
    "Предоставленные данные не дублируются, в них отсутствуют пропуски и выбросы. Данные представлены в нужном нам численном формате, который подходит для решения задачи регрессии. Все признаки числовые.\n",
    "\n",
    "Можно приступать к обучению модели."
   ]
  },
  {
   "cell_type": "markdown",
   "metadata": {},
   "source": [
    "## Умножение матриц"
   ]
  },
  {
   "cell_type": "code",
   "execution_count": 11,
   "metadata": {},
   "outputs": [
    {
     "data": {
      "text/plain": [
       "0.4249455028666801"
      ]
     },
     "execution_count": 11,
     "metadata": {},
     "output_type": "execute_result"
    }
   ],
   "source": [
    "model = LinearRegression()\n",
    "model.fit(matrix_features,vector_target)\n",
    "predictions = model.predict(matrix_features)\n",
    "metrics = r2_score(vector_target,predictions)\n",
    "metrics"
   ]
  },
  {
   "cell_type": "code",
   "execution_count": 12,
   "metadata": {},
   "outputs": [],
   "source": [
    "def rnd_matrix(n):\n",
    "    random_matrix = np.random.normal(size=(n, n))\n",
    "    try:\n",
    "        np.linalg.inv(random_matrix) # выполняется операция создания обратной матрицы\n",
    "    except LinAlgError: # если возникает ошибка, т.е. обратной матрицы не существует, выполняется еще одна попытка\n",
    "        rnd_matrix(n)\n",
    "    return random_matrix"
   ]
  },
  {
   "cell_type": "code",
   "execution_count": 13,
   "metadata": {},
   "outputs": [
    {
     "data": {
      "text/plain": [
       "(5000, 4)"
      ]
     },
     "execution_count": 13,
     "metadata": {},
     "output_type": "execute_result"
    }
   ],
   "source": [
    "random_matrix = rnd_matrix(4)\n",
    "encoded_matrix = matrix_features @ random_matrix\n",
    "encoded_matrix.shape"
   ]
  },
  {
   "cell_type": "code",
   "execution_count": 14,
   "metadata": {},
   "outputs": [
    {
     "data": {
      "text/plain": [
       "0.4249455028666801"
      ]
     },
     "execution_count": 14,
     "metadata": {},
     "output_type": "execute_result"
    }
   ],
   "source": [
    "model = LinearRegression()\n",
    "model.fit(encoded_matrix,vector_target)\n",
    "predictions = model.predict(encoded_matrix)\n",
    "metrics = r2_score(vector_target,predictions)\n",
    "metrics"
   ]
  },
  {
   "cell_type": "markdown",
   "metadata": {},
   "source": [
    "Использовав рэндомную матрицу , нам удалось зашифровать данные и не потерять в качестве метрики(в данном случае R2) при обучении и предсказании модели.\n",
    "\n",
    "Однако, что бы доказать что данные преобразования будут верны при умножении на любую другую матрицу, необходимо обратиться к математическим формулам и доказать что данные линейные преобразования не влияют на обучение/предсказания модели Линейной регресии. "
   ]
  },
  {
   "cell_type": "markdown",
   "metadata": {},
   "source": [
    "## Доказательство"
   ]
  },
  {
   "cell_type": "markdown",
   "metadata": {},
   "source": [
    "Обозначения:\n",
    "\n",
    "- $X$ — матрица признаков (нулевой столбец состоит из единиц)\n",
    "\n",
    "- $y$ — вектор целевого признака\n",
    "\n",
    "- $P$ — матрица, на которую умножаются признаки\n",
    "\n",
    "- $w$ — вектор весов линейной регрессии (нулевой элемент равен сдвигу)"
   ]
  },
  {
   "cell_type": "markdown",
   "metadata": {},
   "source": [
    "Предсказания:\n",
    "\n",
    "$$\n",
    "a = Xw\n",
    "$$\n",
    "\n",
    "Задача обучения:\n",
    "\n",
    "$$\n",
    "w = \\arg\\min_w MSE(Xw, y)\n",
    "$$\n",
    "\n",
    "Формула обучения:\n",
    "\n",
    "$$\n",
    "w = (X^T X)^{-1} X^T y\n",
    "$$\n",
    "\n",
    "\n",
    "\n"
   ]
  },
  {
   "cell_type": "markdown",
   "metadata": {},
   "source": [
    "**Пусть предсказание на преобразованной выборке будет равно:**\n",
    "$$\n",
    "a_1= X_1w_1, где X_1=XP\n",
    "$$\n",
    "\n",
    "\n",
    "Задача обучения:\n",
    "\n",
    "$$\n",
    "w_1 = \\arg\\min_w MSE(X_1w_1, y)\n",
    "$$\n",
    "\n",
    "Формула обучения:\n",
    "\n",
    "$$\n",
    "w_1 = (X_1^T X_1)^{-1} X_1^T y\n",
    "$$"
   ]
  },
  {
   "cell_type": "markdown",
   "metadata": {},
   "source": [
    "Требуется доказать,  что $a_1=a$ "
   ]
  },
  {
   "cell_type": "markdown",
   "metadata": {},
   "source": [
    "Доказательство:\n",
    "\n",
    "Сналача преобразуем показатель $w_1$:\n",
    "\n",
    "$$\n",
    "((XP)^T XP)^{-1} (XP)^T y = (P^T X^T XP)^{-1} P^T X^T y = P^{-1} (X^T X)^{-1} (P^T)^{-1} P^T X^T y = P^{-1} (X^T X)^{-1} (P^{-1}P)^T X^T y = P^{-1} (X^T X)^{-1}X^T y\n",
    "$$\n",
    "\n",
    "Далее, подставим в формулу $a = a_1$ получившееся выражение:\n",
    "$$\n",
    "Xw = X_1w_1\n",
    "$$\n",
    "$$\n",
    "Xw = XPw_1\n",
    "$$\n",
    "$$\n",
    "X (X^T X)^{-1} X^T y = X P P^{-1} (X^T X)^{-1}X^T y\n",
    "$$\n",
    "$$\n",
    "X (X^T X)^{-1} X^T y = X (X^T X)^{-1}X^T y\n",
    "$$"
   ]
  },
  {
   "cell_type": "markdown",
   "metadata": {},
   "source": [
    "Таким образом, мы можем утверждать,что линейные преобразования с исходными данными не влияют на обучение и предсказание моделей линейной регрессии."
   ]
  }
 ],
 "metadata": {
  "ExecuteTimeLog": [
   {
    "duration": 524,
    "start_time": "2022-06-03T03:27:03.446Z"
   },
   {
    "duration": 88,
    "start_time": "2022-06-03T03:27:43.367Z"
   },
   {
    "duration": 11,
    "start_time": "2022-06-03T03:29:54.476Z"
   },
   {
    "duration": 12,
    "start_time": "2022-06-03T03:30:06.112Z"
   },
   {
    "duration": 7,
    "start_time": "2022-06-03T03:30:48.598Z"
   },
   {
    "duration": 17,
    "start_time": "2022-06-03T03:31:11.247Z"
   },
   {
    "duration": 25,
    "start_time": "2022-06-03T03:31:39.264Z"
   },
   {
    "duration": 4,
    "start_time": "2022-06-03T04:38:16.908Z"
   },
   {
    "duration": 6,
    "start_time": "2022-06-03T04:38:18.880Z"
   },
   {
    "duration": 3,
    "start_time": "2022-06-03T04:39:53.268Z"
   },
   {
    "duration": 6,
    "start_time": "2022-06-03T04:39:57.254Z"
   },
   {
    "duration": 646,
    "start_time": "2022-06-03T05:06:05.556Z"
   },
   {
    "duration": 102,
    "start_time": "2022-06-03T05:40:54.757Z"
   },
   {
    "duration": 3,
    "start_time": "2022-06-03T05:41:09.514Z"
   },
   {
    "duration": 49,
    "start_time": "2022-06-03T05:41:09.520Z"
   },
   {
    "duration": 4,
    "start_time": "2022-06-03T05:41:09.572Z"
   },
   {
    "duration": 8,
    "start_time": "2022-06-03T05:41:09.577Z"
   },
   {
    "duration": 5,
    "start_time": "2022-06-03T05:41:09.587Z"
   },
   {
    "duration": 8,
    "start_time": "2022-06-03T05:41:11.973Z"
   },
   {
    "duration": 4,
    "start_time": "2022-06-03T05:51:34.934Z"
   },
   {
    "duration": 7,
    "start_time": "2022-06-03T05:51:36.852Z"
   },
   {
    "duration": 9,
    "start_time": "2022-06-03T05:51:46.172Z"
   },
   {
    "duration": 39,
    "start_time": "2022-06-03T05:52:40.328Z"
   },
   {
    "duration": 13,
    "start_time": "2022-06-03T05:53:25.510Z"
   },
   {
    "duration": 18,
    "start_time": "2022-06-03T05:53:31.870Z"
   },
   {
    "duration": 980,
    "start_time": "2022-06-03T11:03:02.457Z"
   },
   {
    "duration": 163,
    "start_time": "2022-06-03T11:03:03.440Z"
   },
   {
    "duration": 4,
    "start_time": "2022-06-03T11:03:03.604Z"
   },
   {
    "duration": 11,
    "start_time": "2022-06-03T11:03:03.610Z"
   },
   {
    "duration": 6,
    "start_time": "2022-06-03T11:03:03.624Z"
   },
   {
    "duration": 59,
    "start_time": "2022-06-03T11:03:03.632Z"
   },
   {
    "duration": 98,
    "start_time": "2022-06-03T11:03:03.694Z"
   },
   {
    "duration": 8,
    "start_time": "2022-06-03T11:03:03.795Z"
   },
   {
    "duration": 90,
    "start_time": "2022-06-03T11:03:03.805Z"
   },
   {
    "duration": 58,
    "start_time": "2022-06-06T05:59:41.120Z"
   },
   {
    "duration": 903,
    "start_time": "2022-06-06T05:59:45.397Z"
   },
   {
    "duration": 148,
    "start_time": "2022-06-06T05:59:47.040Z"
   },
   {
    "duration": 11,
    "start_time": "2022-06-06T05:59:49.489Z"
   },
   {
    "duration": 3,
    "start_time": "2022-06-06T06:03:55.463Z"
   },
   {
    "duration": 42,
    "start_time": "2022-06-06T06:03:55.468Z"
   },
   {
    "duration": 11,
    "start_time": "2022-06-06T06:03:55.512Z"
   },
   {
    "duration": 4,
    "start_time": "2022-06-06T06:03:55.525Z"
   },
   {
    "duration": 7,
    "start_time": "2022-06-06T06:03:55.531Z"
   },
   {
    "duration": 5,
    "start_time": "2022-06-06T06:03:55.539Z"
   },
   {
    "duration": 120,
    "start_time": "2022-06-06T06:03:55.546Z"
   },
   {
    "duration": 102,
    "start_time": "2022-06-06T06:03:55.668Z"
   },
   {
    "duration": 8,
    "start_time": "2022-06-06T06:03:55.772Z"
   },
   {
    "duration": 84,
    "start_time": "2022-06-06T06:03:55.782Z"
   }
  ],
  "kernelspec": {
   "display_name": "Python 3 (ipykernel)",
   "language": "python",
   "name": "python3"
  },
  "language_info": {
   "codemirror_mode": {
    "name": "ipython",
    "version": 3
   },
   "file_extension": ".py",
   "mimetype": "text/x-python",
   "name": "python",
   "nbconvert_exporter": "python",
   "pygments_lexer": "ipython3",
   "version": "3.9.7"
  },
  "toc": {
   "base_numbering": 1,
   "nav_menu": {},
   "number_sections": true,
   "sideBar": true,
   "skip_h1_title": true,
   "title_cell": "Содержание",
   "title_sidebar": "Contents",
   "toc_cell": true,
   "toc_position": {
    "height": "calc(100% - 180px)",
    "left": "10px",
    "top": "150px",
    "width": "165px"
   },
   "toc_section_display": true,
   "toc_window_display": false
  }
 },
 "nbformat": 4,
 "nbformat_minor": 2
}

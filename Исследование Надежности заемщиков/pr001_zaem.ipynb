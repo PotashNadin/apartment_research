{
 "cells": [
  {
   "cell_type": "markdown",
   "id": "74465849",
   "metadata": {},
   "source": [
    "# Исследование надежности заемщиков"
   ]
  },
  {
   "cell_type": "markdown",
   "id": "f5dc4945",
   "metadata": {},
   "source": [
    "## Обзор данных"
   ]
  },
  {
   "cell_type": "code",
   "execution_count": 1,
   "id": "f1816d3f",
   "metadata": {
    "scrolled": false
   },
   "outputs": [
    {
     "data": {
      "text/html": [
       "<div>\n",
       "<style scoped>\n",
       "    .dataframe tbody tr th:only-of-type {\n",
       "        vertical-align: middle;\n",
       "    }\n",
       "\n",
       "    .dataframe tbody tr th {\n",
       "        vertical-align: top;\n",
       "    }\n",
       "\n",
       "    .dataframe thead th {\n",
       "        text-align: right;\n",
       "    }\n",
       "</style>\n",
       "<table border=\"1\" class=\"dataframe\">\n",
       "  <thead>\n",
       "    <tr style=\"text-align: right;\">\n",
       "      <th></th>\n",
       "      <th>children</th>\n",
       "      <th>days_employed</th>\n",
       "      <th>dob_years</th>\n",
       "      <th>education</th>\n",
       "      <th>education_id</th>\n",
       "      <th>family_status</th>\n",
       "      <th>family_status_id</th>\n",
       "      <th>gender</th>\n",
       "      <th>income_type</th>\n",
       "      <th>debt</th>\n",
       "      <th>total_income</th>\n",
       "      <th>purpose</th>\n",
       "    </tr>\n",
       "  </thead>\n",
       "  <tbody>\n",
       "    <tr>\n",
       "      <td>0</td>\n",
       "      <td>1</td>\n",
       "      <td>-8437.673028</td>\n",
       "      <td>42</td>\n",
       "      <td>высшее</td>\n",
       "      <td>0</td>\n",
       "      <td>женат / замужем</td>\n",
       "      <td>0</td>\n",
       "      <td>F</td>\n",
       "      <td>сотрудник</td>\n",
       "      <td>0</td>\n",
       "      <td>253875.639453</td>\n",
       "      <td>покупка жилья</td>\n",
       "    </tr>\n",
       "    <tr>\n",
       "      <td>1</td>\n",
       "      <td>1</td>\n",
       "      <td>-4024.803754</td>\n",
       "      <td>36</td>\n",
       "      <td>среднее</td>\n",
       "      <td>1</td>\n",
       "      <td>женат / замужем</td>\n",
       "      <td>0</td>\n",
       "      <td>F</td>\n",
       "      <td>сотрудник</td>\n",
       "      <td>0</td>\n",
       "      <td>112080.014102</td>\n",
       "      <td>приобретение автомобиля</td>\n",
       "    </tr>\n",
       "    <tr>\n",
       "      <td>2</td>\n",
       "      <td>0</td>\n",
       "      <td>-5623.422610</td>\n",
       "      <td>33</td>\n",
       "      <td>Среднее</td>\n",
       "      <td>1</td>\n",
       "      <td>женат / замужем</td>\n",
       "      <td>0</td>\n",
       "      <td>M</td>\n",
       "      <td>сотрудник</td>\n",
       "      <td>0</td>\n",
       "      <td>145885.952297</td>\n",
       "      <td>покупка жилья</td>\n",
       "    </tr>\n",
       "    <tr>\n",
       "      <td>3</td>\n",
       "      <td>3</td>\n",
       "      <td>-4124.747207</td>\n",
       "      <td>32</td>\n",
       "      <td>среднее</td>\n",
       "      <td>1</td>\n",
       "      <td>женат / замужем</td>\n",
       "      <td>0</td>\n",
       "      <td>M</td>\n",
       "      <td>сотрудник</td>\n",
       "      <td>0</td>\n",
       "      <td>267628.550329</td>\n",
       "      <td>дополнительное образование</td>\n",
       "    </tr>\n",
       "    <tr>\n",
       "      <td>4</td>\n",
       "      <td>0</td>\n",
       "      <td>340266.072047</td>\n",
       "      <td>53</td>\n",
       "      <td>среднее</td>\n",
       "      <td>1</td>\n",
       "      <td>гражданский брак</td>\n",
       "      <td>1</td>\n",
       "      <td>F</td>\n",
       "      <td>пенсионер</td>\n",
       "      <td>0</td>\n",
       "      <td>158616.077870</td>\n",
       "      <td>сыграть свадьбу</td>\n",
       "    </tr>\n",
       "    <tr>\n",
       "      <td>5</td>\n",
       "      <td>0</td>\n",
       "      <td>-926.185831</td>\n",
       "      <td>27</td>\n",
       "      <td>высшее</td>\n",
       "      <td>0</td>\n",
       "      <td>гражданский брак</td>\n",
       "      <td>1</td>\n",
       "      <td>M</td>\n",
       "      <td>компаньон</td>\n",
       "      <td>0</td>\n",
       "      <td>255763.565419</td>\n",
       "      <td>покупка жилья</td>\n",
       "    </tr>\n",
       "    <tr>\n",
       "      <td>6</td>\n",
       "      <td>0</td>\n",
       "      <td>-2879.202052</td>\n",
       "      <td>43</td>\n",
       "      <td>высшее</td>\n",
       "      <td>0</td>\n",
       "      <td>женат / замужем</td>\n",
       "      <td>0</td>\n",
       "      <td>F</td>\n",
       "      <td>компаньон</td>\n",
       "      <td>0</td>\n",
       "      <td>240525.971920</td>\n",
       "      <td>операции с жильем</td>\n",
       "    </tr>\n",
       "    <tr>\n",
       "      <td>7</td>\n",
       "      <td>0</td>\n",
       "      <td>-152.779569</td>\n",
       "      <td>50</td>\n",
       "      <td>СРЕДНЕЕ</td>\n",
       "      <td>1</td>\n",
       "      <td>женат / замужем</td>\n",
       "      <td>0</td>\n",
       "      <td>M</td>\n",
       "      <td>сотрудник</td>\n",
       "      <td>0</td>\n",
       "      <td>135823.934197</td>\n",
       "      <td>образование</td>\n",
       "    </tr>\n",
       "    <tr>\n",
       "      <td>8</td>\n",
       "      <td>2</td>\n",
       "      <td>-6929.865299</td>\n",
       "      <td>35</td>\n",
       "      <td>ВЫСШЕЕ</td>\n",
       "      <td>0</td>\n",
       "      <td>гражданский брак</td>\n",
       "      <td>1</td>\n",
       "      <td>F</td>\n",
       "      <td>сотрудник</td>\n",
       "      <td>0</td>\n",
       "      <td>95856.832424</td>\n",
       "      <td>на проведение свадьбы</td>\n",
       "    </tr>\n",
       "    <tr>\n",
       "      <td>9</td>\n",
       "      <td>0</td>\n",
       "      <td>-2188.756445</td>\n",
       "      <td>41</td>\n",
       "      <td>среднее</td>\n",
       "      <td>1</td>\n",
       "      <td>женат / замужем</td>\n",
       "      <td>0</td>\n",
       "      <td>M</td>\n",
       "      <td>сотрудник</td>\n",
       "      <td>0</td>\n",
       "      <td>144425.938277</td>\n",
       "      <td>покупка жилья для семьи</td>\n",
       "    </tr>\n",
       "  </tbody>\n",
       "</table>\n",
       "</div>"
      ],
      "text/plain": [
       "   children  days_employed  dob_years education  education_id  \\\n",
       "0         1   -8437.673028         42    высшее             0   \n",
       "1         1   -4024.803754         36   среднее             1   \n",
       "2         0   -5623.422610         33   Среднее             1   \n",
       "3         3   -4124.747207         32   среднее             1   \n",
       "4         0  340266.072047         53   среднее             1   \n",
       "5         0    -926.185831         27    высшее             0   \n",
       "6         0   -2879.202052         43    высшее             0   \n",
       "7         0    -152.779569         50   СРЕДНЕЕ             1   \n",
       "8         2   -6929.865299         35    ВЫСШЕЕ             0   \n",
       "9         0   -2188.756445         41   среднее             1   \n",
       "\n",
       "      family_status  family_status_id gender income_type  debt   total_income  \\\n",
       "0   женат / замужем                 0      F   сотрудник     0  253875.639453   \n",
       "1   женат / замужем                 0      F   сотрудник     0  112080.014102   \n",
       "2   женат / замужем                 0      M   сотрудник     0  145885.952297   \n",
       "3   женат / замужем                 0      M   сотрудник     0  267628.550329   \n",
       "4  гражданский брак                 1      F   пенсионер     0  158616.077870   \n",
       "5  гражданский брак                 1      M   компаньон     0  255763.565419   \n",
       "6   женат / замужем                 0      F   компаньон     0  240525.971920   \n",
       "7   женат / замужем                 0      M   сотрудник     0  135823.934197   \n",
       "8  гражданский брак                 1      F   сотрудник     0   95856.832424   \n",
       "9   женат / замужем                 0      M   сотрудник     0  144425.938277   \n",
       "\n",
       "                      purpose  \n",
       "0               покупка жилья  \n",
       "1     приобретение автомобиля  \n",
       "2               покупка жилья  \n",
       "3  дополнительное образование  \n",
       "4             сыграть свадьбу  \n",
       "5               покупка жилья  \n",
       "6           операции с жильем  \n",
       "7                 образование  \n",
       "8       на проведение свадьбы  \n",
       "9     покупка жилья для семьи  "
      ]
     },
     "execution_count": 1,
     "metadata": {},
     "output_type": "execute_result"
    }
   ],
   "source": [
    "import pandas as pd\n",
    "df = pd.read_csv('/datasets/data.csv')\n",
    "df.head(10)"
   ]
  },
  {
   "cell_type": "code",
   "execution_count": 2,
   "id": "8d6d9934",
   "metadata": {},
   "outputs": [
    {
     "name": "stdout",
     "output_type": "stream",
     "text": [
      "<class 'pandas.core.frame.DataFrame'>\n",
      "RangeIndex: 21525 entries, 0 to 21524\n",
      "Data columns (total 12 columns):\n",
      "children            21525 non-null int64\n",
      "days_employed       19351 non-null float64\n",
      "dob_years           21525 non-null int64\n",
      "education           21525 non-null object\n",
      "education_id        21525 non-null int64\n",
      "family_status       21525 non-null object\n",
      "family_status_id    21525 non-null int64\n",
      "gender              21525 non-null object\n",
      "income_type         21525 non-null object\n",
      "debt                21525 non-null int64\n",
      "total_income        19351 non-null float64\n",
      "purpose             21525 non-null object\n",
      "dtypes: float64(2), int64(5), object(5)\n",
      "memory usage: 2.0+ MB\n"
     ]
    }
   ],
   "source": [
    "df.info()"
   ]
  },
  {
   "cell_type": "markdown",
   "id": "8a6ab5f3",
   "metadata": {},
   "source": [
    "\n",
    "При просмотре таблицы  внимание сразу фокусируется на отрицательных значениях столбца `days_employed`, а так же видим что столбец `total_income` имеет неудачный тип данных `float64` для работы с данными(сравнения,заполнения пропусков и пр.). Так же присутствуют пустые ячейки в обоих столбцах `days_employed` и `total_income`. Приступим к обработке данных.\n"
   ]
  },
  {
   "cell_type": "markdown",
   "id": "855bbe45",
   "metadata": {},
   "source": [
    "###  Заполнение пропусков и проверка данных на аномалии"
   ]
  },
  {
   "cell_type": "code",
   "execution_count": 3,
   "id": "beeda2b6",
   "metadata": {},
   "outputs": [
    {
     "data": {
      "text/plain": [
       "children            0.000000\n",
       "days_employed       0.100999\n",
       "dob_years           0.000000\n",
       "education           0.000000\n",
       "education_id        0.000000\n",
       "family_status       0.000000\n",
       "family_status_id    0.000000\n",
       "gender              0.000000\n",
       "income_type         0.000000\n",
       "debt                0.000000\n",
       "total_income        0.100999\n",
       "purpose             0.000000\n",
       "dtype: float64"
      ]
     },
     "execution_count": 3,
     "metadata": {},
     "output_type": "execute_result"
    }
   ],
   "source": [
    "df.isna().mean()"
   ]
  },
  {
   "cell_type": "markdown",
   "id": "ee10ef0a",
   "metadata": {},
   "source": [
    "Используя метод `isna()`, обнаружены пробелы в основной таблице `df`. \n",
    "\n",
    "Доля пропусков в столбцах `days_emploed` и `total_income` составила **0,101**.\n",
    "\n",
    "*Можно предположить, что данные в столбцах `days_employed` и `total_income` не заполнены  по причине отсутсвия трудовой деятельности клиента на момент формирования данной выгрузки.*\n",
    "\n",
    "Обратим внимание на данные в `days_employed`: в столбце есть отрицательные значения. Возьмем среднюю по сгруппированным по `income_type` столбцам, проверим, везде ли присутствует минус."
   ]
  },
  {
   "cell_type": "code",
   "execution_count": 4,
   "id": "9d32d38d",
   "metadata": {},
   "outputs": [
    {
     "data": {
      "text/plain": [
       "income_type\n",
       "безработный        366413.652744\n",
       "в декрете           -3296.759962\n",
       "госслужащий         -3399.896902\n",
       "компаньон           -2111.524398\n",
       "пенсионер          365003.491245\n",
       "предприниматель      -520.848083\n",
       "сотрудник           -2326.499216\n",
       "студент              -578.751554\n",
       "Name: days_employed, dtype: float64"
      ]
     },
     "execution_count": 4,
     "metadata": {},
     "output_type": "execute_result"
    }
   ],
   "source": [
    "df.groupby('income_type')['days_employed'].mean()"
   ]
  },
  {
   "cell_type": "markdown",
   "id": "3a74533f",
   "metadata": {},
   "source": [
    "Отрицательные значения присутствуют только у клиентов, работающих в данный момент.\n",
    "В категории *пенсионер* и *безработный* данный показатель положительный. \n",
    "\n",
    "Могу предположить, что для работающих клиентов столбец `days_employed` является результатом вычитания текущего дня из дня, когда трудоустроился клиент. А для неработающих - посчитанная константа. \n",
    "\n",
    "Воспользуемся методом `agg()` и применим математическую функцию модуля `'abs'` к столбцу `days_employed`."
   ]
  },
  {
   "cell_type": "code",
   "execution_count": 5,
   "id": "b3aa640e",
   "metadata": {
    "scrolled": true
   },
   "outputs": [
    {
     "data": {
      "text/html": [
       "<div>\n",
       "<style scoped>\n",
       "    .dataframe tbody tr th:only-of-type {\n",
       "        vertical-align: middle;\n",
       "    }\n",
       "\n",
       "    .dataframe tbody tr th {\n",
       "        vertical-align: top;\n",
       "    }\n",
       "\n",
       "    .dataframe thead th {\n",
       "        text-align: right;\n",
       "    }\n",
       "</style>\n",
       "<table border=\"1\" class=\"dataframe\">\n",
       "  <thead>\n",
       "    <tr style=\"text-align: right;\">\n",
       "      <th></th>\n",
       "      <th>children</th>\n",
       "      <th>days_employed</th>\n",
       "      <th>dob_years</th>\n",
       "      <th>education</th>\n",
       "      <th>education_id</th>\n",
       "      <th>family_status</th>\n",
       "      <th>family_status_id</th>\n",
       "      <th>gender</th>\n",
       "      <th>income_type</th>\n",
       "      <th>debt</th>\n",
       "      <th>total_income</th>\n",
       "      <th>purpose</th>\n",
       "    </tr>\n",
       "  </thead>\n",
       "  <tbody>\n",
       "    <tr>\n",
       "      <td>0</td>\n",
       "      <td>1</td>\n",
       "      <td>8437.673028</td>\n",
       "      <td>42</td>\n",
       "      <td>высшее</td>\n",
       "      <td>0</td>\n",
       "      <td>женат / замужем</td>\n",
       "      <td>0</td>\n",
       "      <td>F</td>\n",
       "      <td>сотрудник</td>\n",
       "      <td>0</td>\n",
       "      <td>253875.639453</td>\n",
       "      <td>покупка жилья</td>\n",
       "    </tr>\n",
       "    <tr>\n",
       "      <td>1</td>\n",
       "      <td>1</td>\n",
       "      <td>4024.803754</td>\n",
       "      <td>36</td>\n",
       "      <td>среднее</td>\n",
       "      <td>1</td>\n",
       "      <td>женат / замужем</td>\n",
       "      <td>0</td>\n",
       "      <td>F</td>\n",
       "      <td>сотрудник</td>\n",
       "      <td>0</td>\n",
       "      <td>112080.014102</td>\n",
       "      <td>приобретение автомобиля</td>\n",
       "    </tr>\n",
       "    <tr>\n",
       "      <td>2</td>\n",
       "      <td>0</td>\n",
       "      <td>5623.422610</td>\n",
       "      <td>33</td>\n",
       "      <td>Среднее</td>\n",
       "      <td>1</td>\n",
       "      <td>женат / замужем</td>\n",
       "      <td>0</td>\n",
       "      <td>M</td>\n",
       "      <td>сотрудник</td>\n",
       "      <td>0</td>\n",
       "      <td>145885.952297</td>\n",
       "      <td>покупка жилья</td>\n",
       "    </tr>\n",
       "    <tr>\n",
       "      <td>3</td>\n",
       "      <td>3</td>\n",
       "      <td>4124.747207</td>\n",
       "      <td>32</td>\n",
       "      <td>среднее</td>\n",
       "      <td>1</td>\n",
       "      <td>женат / замужем</td>\n",
       "      <td>0</td>\n",
       "      <td>M</td>\n",
       "      <td>сотрудник</td>\n",
       "      <td>0</td>\n",
       "      <td>267628.550329</td>\n",
       "      <td>дополнительное образование</td>\n",
       "    </tr>\n",
       "    <tr>\n",
       "      <td>4</td>\n",
       "      <td>0</td>\n",
       "      <td>340266.072047</td>\n",
       "      <td>53</td>\n",
       "      <td>среднее</td>\n",
       "      <td>1</td>\n",
       "      <td>гражданский брак</td>\n",
       "      <td>1</td>\n",
       "      <td>F</td>\n",
       "      <td>пенсионер</td>\n",
       "      <td>0</td>\n",
       "      <td>158616.077870</td>\n",
       "      <td>сыграть свадьбу</td>\n",
       "    </tr>\n",
       "  </tbody>\n",
       "</table>\n",
       "</div>"
      ],
      "text/plain": [
       "   children  days_employed  dob_years education  education_id  \\\n",
       "0         1    8437.673028         42    высшее             0   \n",
       "1         1    4024.803754         36   среднее             1   \n",
       "2         0    5623.422610         33   Среднее             1   \n",
       "3         3    4124.747207         32   среднее             1   \n",
       "4         0  340266.072047         53   среднее             1   \n",
       "\n",
       "      family_status  family_status_id gender income_type  debt   total_income  \\\n",
       "0   женат / замужем                 0      F   сотрудник     0  253875.639453   \n",
       "1   женат / замужем                 0      F   сотрудник     0  112080.014102   \n",
       "2   женат / замужем                 0      M   сотрудник     0  145885.952297   \n",
       "3   женат / замужем                 0      M   сотрудник     0  267628.550329   \n",
       "4  гражданский брак                 1      F   пенсионер     0  158616.077870   \n",
       "\n",
       "                      purpose  \n",
       "0               покупка жилья  \n",
       "1     приобретение автомобиля  \n",
       "2               покупка жилья  \n",
       "3  дополнительное образование  \n",
       "4             сыграть свадьбу  "
      ]
     },
     "execution_count": 5,
     "metadata": {},
     "output_type": "execute_result"
    }
   ],
   "source": [
    "df['days_employed'] = df['days_employed'].agg(['abs'])\n",
    "df.head()"
   ]
  },
  {
   "cell_type": "markdown",
   "id": "bb5b1a12",
   "metadata": {},
   "source": [
    "Далее, обратим внимание на значения в ячейках столбца `days_employed`: например количество дней *340266.072047* из ячейки с индексом *4*.\n",
    "Данные не соответствует реальности, ведь тогда \n",
    "\n",
    "**340266.072047 : 365 = 932 года** - стаж работы сотрудника, что не может быть правдой.\n",
    "\n",
    "\n",
    "Предполагать, что все значения в столбце это часы, мы также не можем.\n",
    "Для этого достаточно обратить внимание на минимальное значение по столбцу `days_employed` = *24.14163324048118*, и тогда, переведя данное число в дни, получим: \n",
    "\n",
    "**24.14163324048118 : 24 = 1.01 дней**\n",
    "\n",
    "что означает, что клиент пропработал лишь день , и при этом его `total_income` составляет *166*тыс, что маловероятно. \n",
    "\n",
    "Отсюда я рискну предположить, что скорее всего в столбце содержатся значения и часов и дней.\n",
    "\n",
    "Напишем функцию, которая будет определять что именно это за значения: "
   ]
  },
  {
   "cell_type": "code",
   "execution_count": 6,
   "id": "97767cf9",
   "metadata": {
    "scrolled": true
   },
   "outputs": [],
   "source": [
    "#предположим что все таки в столбце days_employed есть значения и в часах и в днях, тогда напишем функцию,\n",
    "#которая отличит дни от часов. полученный стаж в годах будем вычитать из возраста клиента. если разница будет менее 18\n",
    "#(то есть клиенту на момент трудойтройства было меньше 18),  тогда ,будем понимать что это часы,иначе - дни.\n",
    "\n",
    "def days_empl_func(value):\n",
    "    time = value['days_employed'] / 365\n",
    "    if value['dob_years'] - time < 18: \n",
    "        return value['days_employed'] / 24\n",
    "    return value['days_employed']\n",
    "#проверка работоспособности функции была проведена.не знаю надо ли это здесь отображать?        \n",
    "\n",
    "df['days_employed'] = df.apply(days_empl_func,axis=1)#убедившись что функция работает верно, можно применить ее к изначальному столбцу и перезаписать значения на корректные. "
   ]
  },
  {
   "cell_type": "code",
   "execution_count": 7,
   "id": "3decfba1",
   "metadata": {},
   "outputs": [
    {
     "data": {
      "text/plain": [
       "dob_years\n",
       "0      2896.504379\n",
       "19       66.923270\n",
       "20      213.806070\n",
       "21      423.649111\n",
       "22      687.701751\n",
       "23      682.172781\n",
       "24      853.546233\n",
       "25      905.619393\n",
       "26     1167.344763\n",
       "27     1297.489049\n",
       "28     1332.564406\n",
       "29     1391.093824\n",
       "30     1601.018889\n",
       "31     1576.443670\n",
       "32     1722.873940\n",
       "33     1844.806617\n",
       "34     1917.445563\n",
       "35     1980.065909\n",
       "36     2151.492921\n",
       "37     2193.458161\n",
       "38     2287.321211\n",
       "39     2340.447377\n",
       "40     2393.813220\n",
       "41     2451.961488\n",
       "42     2799.285751\n",
       "43     2616.787680\n",
       "44     2734.291472\n",
       "45     3055.343252\n",
       "46     2979.185946\n",
       "47     3156.449973\n",
       "48     3306.055596\n",
       "49     3738.783894\n",
       "50     4526.929001\n",
       "51     5084.490936\n",
       "52     5832.085397\n",
       "53     6110.069576\n",
       "54     7160.744930\n",
       "55     8296.909977\n",
       "56     8263.787892\n",
       "57     9599.449333\n",
       "58     9381.056663\n",
       "59    10813.607517\n",
       "60    11929.023301\n",
       "61    11379.944191\n",
       "62    12162.903348\n",
       "63    13064.947300\n",
       "64    12819.442547\n",
       "65    12826.601390\n",
       "66    13617.535941\n",
       "67    13670.378087\n",
       "68    14105.341962\n",
       "69    14369.789848\n",
       "70    13830.027920\n",
       "71    14115.537934\n",
       "72    14494.869602\n",
       "73    13546.481526\n",
       "74    11396.274039\n",
       "75     1678.969771\n",
       "Name: days_employed, dtype: float64"
      ]
     },
     "execution_count": 7,
     "metadata": {},
     "output_type": "execute_result"
    }
   ],
   "source": [
    "df.groupby('dob_years')['days_employed'].mean()"
   ]
  },
  {
   "cell_type": "markdown",
   "id": "02995044",
   "metadata": {},
   "source": [
    "Из таблицы выше можно увидеть, что с увеличением возраста так же увеличивается рабочий стаж. Будем считать что данные верны.\n",
    "Есть некие аномальные значения, в виде *0* в строке `dob_years`, но эти данные не должны повлиять на итоговые выводы. \n",
    "\n",
    "Данные из столбцов  `days_employed` и `total_income` считаются количественными данными(так как их можно сравнивать между собой).\n",
    "Для получения общей картины по датасету и, во избежание ошибок при работе с данными, лучше будет заменить пропуски `NaN` на характерные для выборки значения - на среднее медианное(методом `median()`).\n",
    "\n",
    "В данном случае не подойдет среднее арифметическое ,так как значения в столбцах сильно отличаются друг от друга. \n",
    "\n"
   ]
  },
  {
   "cell_type": "code",
   "execution_count": 8,
   "id": "c6ad45f2",
   "metadata": {},
   "outputs": [
    {
     "data": {
      "text/plain": [
       "children            0.000000\n",
       "days_employed       0.000000\n",
       "dob_years           0.000000\n",
       "education           0.000000\n",
       "education_id        0.000000\n",
       "family_status       0.000000\n",
       "family_status_id    0.000000\n",
       "gender              0.000000\n",
       "income_type         0.000000\n",
       "debt                0.000000\n",
       "total_income        0.100999\n",
       "purpose             0.000000\n",
       "dtype: float64"
      ]
     },
     "execution_count": 8,
     "metadata": {},
     "output_type": "execute_result"
    }
   ],
   "source": [
    "df['days_employed'] = df['days_employed'].fillna(df['days_employed'].median()) #используем метод fillna() для замены пропусков\n",
    "df.isna().mean() # проверяем произведена ли замена "
   ]
  },
  {
   "cell_type": "code",
   "execution_count": 9,
   "id": "aed3544f",
   "metadata": {
    "scrolled": true
   },
   "outputs": [
    {
     "data": {
      "text/plain": [
       "children            0.0\n",
       "days_employed       0.0\n",
       "dob_years           0.0\n",
       "education           0.0\n",
       "education_id        0.0\n",
       "family_status       0.0\n",
       "family_status_id    0.0\n",
       "gender              0.0\n",
       "income_type         0.0\n",
       "debt                0.0\n",
       "total_income        0.0\n",
       "purpose             0.0\n",
       "dtype: float64"
      ]
     },
     "execution_count": 9,
     "metadata": {},
     "output_type": "execute_result"
    }
   ],
   "source": [
    "df['total_income'] = df['total_income'].fillna(df['total_income'].median()) #используем метод fillna() для замены пропусков\n",
    "df.isna().mean() # проверяем произведена ли замена "
   ]
  },
  {
   "cell_type": "markdown",
   "id": "3a1dba4e",
   "metadata": {},
   "source": [
    "\n",
    "Обратим внимание на столбец `children`, проверим есть ли в данном столбце какие либо аномалии:\n"
   ]
  },
  {
   "cell_type": "code",
   "execution_count": 10,
   "id": "a26b36b7",
   "metadata": {
    "scrolled": true
   },
   "outputs": [
    {
     "data": {
      "text/plain": [
       " 0     14149\n",
       " 1      4818\n",
       " 2      2055\n",
       " 3       330\n",
       " 20       76\n",
       "-1        47\n",
       " 4        41\n",
       " 5         9\n",
       "Name: children, dtype: int64"
      ]
     },
     "execution_count": 10,
     "metadata": {},
     "output_type": "execute_result"
    }
   ],
   "source": [
    "df['children'].value_counts()"
   ]
  },
  {
   "cell_type": "markdown",
   "id": "789bc6a4",
   "metadata": {},
   "source": [
    "Аномальные значения здесь это *-1* и *20*. В сумме *123* строки, что не является и 1% от датасета обьемом в *21525* строк.\n",
    "\n",
    "Мы можем удалить данные строки без вреда итоговым выводам, или можем написать фукнцию которая скорректирует данные. Я выбрала первый вариант.\n",
    "\n",
    "А в реальности, лучше уточнить у источника данных почему такие ошибки были допущены и предотвратить их."
   ]
  },
  {
   "cell_type": "code",
   "execution_count": 11,
   "id": "f054fc0d",
   "metadata": {
    "scrolled": true
   },
   "outputs": [
    {
     "data": {
      "text/plain": [
       "0    14149\n",
       "1     4818\n",
       "2     2055\n",
       "3      330\n",
       "4       41\n",
       "5        9\n",
       "Name: children, dtype: int64"
      ]
     },
     "execution_count": 11,
     "metadata": {},
     "output_type": "execute_result"
    }
   ],
   "source": [
    "df = df[df['children'] != 20]\n",
    "df = df[df['children'] != -1]\n",
    "df['children'].value_counts()# проверяем удаление"
   ]
  },
  {
   "cell_type": "code",
   "execution_count": 12,
   "id": "43a4c3cb",
   "metadata": {},
   "outputs": [
    {
     "name": "stdout",
     "output_type": "stream",
     "text": [
      "<class 'pandas.core.frame.DataFrame'>\n",
      "Int64Index: 21402 entries, 0 to 21524\n",
      "Data columns (total 12 columns):\n",
      "children            21402 non-null int64\n",
      "days_employed       21402 non-null float64\n",
      "dob_years           21402 non-null int64\n",
      "education           21402 non-null object\n",
      "education_id        21402 non-null int64\n",
      "family_status       21402 non-null object\n",
      "family_status_id    21402 non-null int64\n",
      "gender              21402 non-null object\n",
      "income_type         21402 non-null object\n",
      "debt                21402 non-null int64\n",
      "total_income        21402 non-null float64\n",
      "purpose             21402 non-null object\n",
      "dtypes: float64(2), int64(5), object(5)\n",
      "memory usage: 2.1+ MB\n"
     ]
    }
   ],
   "source": [
    "df.info()#видим, что размерность таблицы уменьшилась ровно на 123 строки"
   ]
  },
  {
   "cell_type": "markdown",
   "id": "6f4c2301",
   "metadata": {},
   "source": [
    "### Изменение типов данных"
   ]
  },
  {
   "cell_type": "markdown",
   "id": "457c4656",
   "metadata": {},
   "source": [
    "\n",
    "Произведем замену типа данных в столбце `total_income` для удобства подсчета и восприятия данных.\n"
   ]
  },
  {
   "cell_type": "code",
   "execution_count": 13,
   "id": "4fd7604b",
   "metadata": {},
   "outputs": [
    {
     "data": {
      "text/html": [
       "<div>\n",
       "<style scoped>\n",
       "    .dataframe tbody tr th:only-of-type {\n",
       "        vertical-align: middle;\n",
       "    }\n",
       "\n",
       "    .dataframe tbody tr th {\n",
       "        vertical-align: top;\n",
       "    }\n",
       "\n",
       "    .dataframe thead th {\n",
       "        text-align: right;\n",
       "    }\n",
       "</style>\n",
       "<table border=\"1\" class=\"dataframe\">\n",
       "  <thead>\n",
       "    <tr style=\"text-align: right;\">\n",
       "      <th></th>\n",
       "      <th>children</th>\n",
       "      <th>days_employed</th>\n",
       "      <th>dob_years</th>\n",
       "      <th>education</th>\n",
       "      <th>education_id</th>\n",
       "      <th>family_status</th>\n",
       "      <th>family_status_id</th>\n",
       "      <th>gender</th>\n",
       "      <th>income_type</th>\n",
       "      <th>debt</th>\n",
       "      <th>total_income</th>\n",
       "      <th>purpose</th>\n",
       "    </tr>\n",
       "  </thead>\n",
       "  <tbody>\n",
       "    <tr>\n",
       "      <td>0</td>\n",
       "      <td>1</td>\n",
       "      <td>8437.673028</td>\n",
       "      <td>42</td>\n",
       "      <td>высшее</td>\n",
       "      <td>0</td>\n",
       "      <td>женат / замужем</td>\n",
       "      <td>0</td>\n",
       "      <td>F</td>\n",
       "      <td>сотрудник</td>\n",
       "      <td>0</td>\n",
       "      <td>253875</td>\n",
       "      <td>покупка жилья</td>\n",
       "    </tr>\n",
       "    <tr>\n",
       "      <td>1</td>\n",
       "      <td>1</td>\n",
       "      <td>4024.803754</td>\n",
       "      <td>36</td>\n",
       "      <td>среднее</td>\n",
       "      <td>1</td>\n",
       "      <td>женат / замужем</td>\n",
       "      <td>0</td>\n",
       "      <td>F</td>\n",
       "      <td>сотрудник</td>\n",
       "      <td>0</td>\n",
       "      <td>112080</td>\n",
       "      <td>приобретение автомобиля</td>\n",
       "    </tr>\n",
       "    <tr>\n",
       "      <td>2</td>\n",
       "      <td>0</td>\n",
       "      <td>234.309275</td>\n",
       "      <td>33</td>\n",
       "      <td>Среднее</td>\n",
       "      <td>1</td>\n",
       "      <td>женат / замужем</td>\n",
       "      <td>0</td>\n",
       "      <td>M</td>\n",
       "      <td>сотрудник</td>\n",
       "      <td>0</td>\n",
       "      <td>145885</td>\n",
       "      <td>покупка жилья</td>\n",
       "    </tr>\n",
       "    <tr>\n",
       "      <td>3</td>\n",
       "      <td>3</td>\n",
       "      <td>4124.747207</td>\n",
       "      <td>32</td>\n",
       "      <td>среднее</td>\n",
       "      <td>1</td>\n",
       "      <td>женат / замужем</td>\n",
       "      <td>0</td>\n",
       "      <td>M</td>\n",
       "      <td>сотрудник</td>\n",
       "      <td>0</td>\n",
       "      <td>267628</td>\n",
       "      <td>дополнительное образование</td>\n",
       "    </tr>\n",
       "    <tr>\n",
       "      <td>4</td>\n",
       "      <td>0</td>\n",
       "      <td>14177.753002</td>\n",
       "      <td>53</td>\n",
       "      <td>среднее</td>\n",
       "      <td>1</td>\n",
       "      <td>гражданский брак</td>\n",
       "      <td>1</td>\n",
       "      <td>F</td>\n",
       "      <td>пенсионер</td>\n",
       "      <td>0</td>\n",
       "      <td>158616</td>\n",
       "      <td>сыграть свадьбу</td>\n",
       "    </tr>\n",
       "  </tbody>\n",
       "</table>\n",
       "</div>"
      ],
      "text/plain": [
       "   children  days_employed  dob_years education  education_id  \\\n",
       "0         1    8437.673028         42    высшее             0   \n",
       "1         1    4024.803754         36   среднее             1   \n",
       "2         0     234.309275         33   Среднее             1   \n",
       "3         3    4124.747207         32   среднее             1   \n",
       "4         0   14177.753002         53   среднее             1   \n",
       "\n",
       "      family_status  family_status_id gender income_type  debt  total_income  \\\n",
       "0   женат / замужем                 0      F   сотрудник     0        253875   \n",
       "1   женат / замужем                 0      F   сотрудник     0        112080   \n",
       "2   женат / замужем                 0      M   сотрудник     0        145885   \n",
       "3   женат / замужем                 0      M   сотрудник     0        267628   \n",
       "4  гражданский брак                 1      F   пенсионер     0        158616   \n",
       "\n",
       "                      purpose  \n",
       "0               покупка жилья  \n",
       "1     приобретение автомобиля  \n",
       "2               покупка жилья  \n",
       "3  дополнительное образование  \n",
       "4             сыграть свадьбу  "
      ]
     },
     "execution_count": 13,
     "metadata": {},
     "output_type": "execute_result"
    }
   ],
   "source": [
    "df['total_income'] = df['total_income'].astype('int')\n",
    "df.head()#проверяем сработал ли astype()"
   ]
  },
  {
   "cell_type": "markdown",
   "id": "6d89b421",
   "metadata": {},
   "source": [
    "### Удаление дубликатов."
   ]
  },
  {
   "cell_type": "markdown",
   "id": "b09ff845",
   "metadata": {},
   "source": [
    "Проверим датасет на наличие явных и неявных дубликатов. \n",
    "\n",
    "В столбцах `children, days_employed , dob_years , education_id, family_status_id, debt, total_income` дубликатов быть не может, так как типы данных-численные. \n",
    "\n",
    "Проверим оставшиеся столбцы `education, ,family_status, gender, income_type, purpose` на дубликаты:"
   ]
  },
  {
   "cell_type": "code",
   "execution_count": 14,
   "id": "11ae9c6e",
   "metadata": {},
   "outputs": [
    {
     "data": {
      "text/plain": [
       "array(['высшее', 'среднее', 'Среднее', 'СРЕДНЕЕ', 'ВЫСШЕЕ',\n",
       "       'неоконченное высшее', 'начальное', 'Высшее',\n",
       "       'НЕОКОНЧЕННОЕ ВЫСШЕЕ', 'Неоконченное высшее', 'НАЧАЛЬНОЕ',\n",
       "       'Начальное', 'Ученая степень', 'УЧЕНАЯ СТЕПЕНЬ', 'ученая степень'],\n",
       "      dtype=object)"
      ]
     },
     "execution_count": 14,
     "metadata": {},
     "output_type": "execute_result"
    }
   ],
   "source": [
    "df['education'].unique()#есть над чем поработать"
   ]
  },
  {
   "cell_type": "code",
   "execution_count": 15,
   "id": "355c878a",
   "metadata": {},
   "outputs": [
    {
     "data": {
      "text/plain": [
       "array(['женат / замужем', 'гражданский брак', 'вдовец / вдова',\n",
       "       'в разводе', 'Не женат / не замужем'], dtype=object)"
      ]
     },
     "execution_count": 15,
     "metadata": {},
     "output_type": "execute_result"
    }
   ],
   "source": [
    "df['family_status'].unique()#all clear"
   ]
  },
  {
   "cell_type": "code",
   "execution_count": 16,
   "id": "f6dd6ba1",
   "metadata": {},
   "outputs": [
    {
     "data": {
      "text/plain": [
       "array(['F', 'M', 'XNA'], dtype=object)"
      ]
     },
     "execution_count": 16,
     "metadata": {},
     "output_type": "execute_result"
    }
   ],
   "source": [
    "df['gender'].unique()#all clear"
   ]
  },
  {
   "cell_type": "code",
   "execution_count": 17,
   "id": "f59e8424",
   "metadata": {
    "scrolled": true
   },
   "outputs": [
    {
     "data": {
      "text/plain": [
       "array(['сотрудник', 'пенсионер', 'компаньон', 'госслужащий',\n",
       "       'безработный', 'предприниматель', 'студент', 'в декрете'],\n",
       "      dtype=object)"
      ]
     },
     "execution_count": 17,
     "metadata": {},
     "output_type": "execute_result"
    }
   ],
   "source": [
    "df['income_type'].unique()#all clear"
   ]
  },
  {
   "cell_type": "code",
   "execution_count": 18,
   "id": "a8718104",
   "metadata": {
    "scrolled": true
   },
   "outputs": [
    {
     "data": {
      "text/plain": [
       "array(['покупка жилья', 'приобретение автомобиля',\n",
       "       'дополнительное образование', 'сыграть свадьбу',\n",
       "       'операции с жильем', 'образование', 'на проведение свадьбы',\n",
       "       'покупка жилья для семьи', 'покупка недвижимости',\n",
       "       'покупка коммерческой недвижимости', 'покупка жилой недвижимости',\n",
       "       'строительство собственной недвижимости', 'недвижимость',\n",
       "       'строительство недвижимости', 'на покупку подержанного автомобиля',\n",
       "       'на покупку своего автомобиля',\n",
       "       'операции с коммерческой недвижимостью',\n",
       "       'строительство жилой недвижимости', 'жилье',\n",
       "       'операции со своей недвижимостью', 'автомобили',\n",
       "       'заняться образованием', 'сделка с подержанным автомобилем',\n",
       "       'получение образования', 'автомобиль', 'свадьба',\n",
       "       'получение дополнительного образования', 'покупка своего жилья',\n",
       "       'операции с недвижимостью', 'получение высшего образования',\n",
       "       'свой автомобиль', 'сделка с автомобилем',\n",
       "       'профильное образование', 'высшее образование',\n",
       "       'покупка жилья для сдачи', 'на покупку автомобиля', 'ремонт жилью',\n",
       "       'заняться высшим образованием'], dtype=object)"
      ]
     },
     "execution_count": 18,
     "metadata": {},
     "output_type": "execute_result"
    }
   ],
   "source": [
    "df['purpose'].unique()#множество неявных дубликатов"
   ]
  },
  {
   "cell_type": "markdown",
   "id": "b214ef22",
   "metadata": {},
   "source": [
    "\n",
    "Сначала проведем работу над столбцом `education`. \n",
    "\n",
    "Предположительно, ошибка в данном столбце вызвана человеческим фактором.\n"
   ]
  },
  {
   "cell_type": "code",
   "execution_count": 19,
   "id": "f0851865",
   "metadata": {
    "scrolled": true
   },
   "outputs": [
    {
     "data": {
      "text/plain": [
       "array(['высшее', 'среднее', 'неоконченное высшее', 'начальное',\n",
       "       'ученая степень'], dtype=object)"
      ]
     },
     "execution_count": 19,
     "metadata": {},
     "output_type": "execute_result"
    }
   ],
   "source": [
    "df['education'] = df['education'].str.lower()#сделали все буквы строчными, дубликаты устранены\n",
    "df['education'].unique()#проверяем уникальные значения."
   ]
  },
  {
   "cell_type": "markdown",
   "id": "fa0fe010",
   "metadata": {},
   "source": [
    "Проведена работа с неявными дубликатами в таблице. Теперь рассмотрим наличие явных строк дубликатов в нашем датафрейме."
   ]
  },
  {
   "cell_type": "code",
   "execution_count": 20,
   "id": "0134d630",
   "metadata": {
    "scrolled": true
   },
   "outputs": [
    {
     "data": {
      "text/html": [
       "<div>\n",
       "<style scoped>\n",
       "    .dataframe tbody tr th:only-of-type {\n",
       "        vertical-align: middle;\n",
       "    }\n",
       "\n",
       "    .dataframe tbody tr th {\n",
       "        vertical-align: top;\n",
       "    }\n",
       "\n",
       "    .dataframe thead th {\n",
       "        text-align: right;\n",
       "    }\n",
       "</style>\n",
       "<table border=\"1\" class=\"dataframe\">\n",
       "  <thead>\n",
       "    <tr style=\"text-align: right;\">\n",
       "      <th></th>\n",
       "      <th>children</th>\n",
       "      <th>days_employed</th>\n",
       "      <th>dob_years</th>\n",
       "      <th>education</th>\n",
       "      <th>education_id</th>\n",
       "      <th>family_status</th>\n",
       "      <th>family_status_id</th>\n",
       "      <th>gender</th>\n",
       "      <th>income_type</th>\n",
       "      <th>debt</th>\n",
       "      <th>total_income</th>\n",
       "      <th>purpose</th>\n",
       "    </tr>\n",
       "  </thead>\n",
       "  <tbody>\n",
       "    <tr>\n",
       "      <td>2849</td>\n",
       "      <td>0</td>\n",
       "      <td>2048.094985</td>\n",
       "      <td>41</td>\n",
       "      <td>среднее</td>\n",
       "      <td>1</td>\n",
       "      <td>женат / замужем</td>\n",
       "      <td>0</td>\n",
       "      <td>F</td>\n",
       "      <td>сотрудник</td>\n",
       "      <td>0</td>\n",
       "      <td>145017</td>\n",
       "      <td>покупка жилья для семьи</td>\n",
       "    </tr>\n",
       "    <tr>\n",
       "      <td>3290</td>\n",
       "      <td>0</td>\n",
       "      <td>2048.094985</td>\n",
       "      <td>58</td>\n",
       "      <td>среднее</td>\n",
       "      <td>1</td>\n",
       "      <td>гражданский брак</td>\n",
       "      <td>1</td>\n",
       "      <td>F</td>\n",
       "      <td>пенсионер</td>\n",
       "      <td>0</td>\n",
       "      <td>145017</td>\n",
       "      <td>сыграть свадьбу</td>\n",
       "    </tr>\n",
       "    <tr>\n",
       "      <td>4182</td>\n",
       "      <td>1</td>\n",
       "      <td>2048.094985</td>\n",
       "      <td>34</td>\n",
       "      <td>высшее</td>\n",
       "      <td>0</td>\n",
       "      <td>гражданский брак</td>\n",
       "      <td>1</td>\n",
       "      <td>F</td>\n",
       "      <td>сотрудник</td>\n",
       "      <td>0</td>\n",
       "      <td>145017</td>\n",
       "      <td>свадьба</td>\n",
       "    </tr>\n",
       "    <tr>\n",
       "      <td>4851</td>\n",
       "      <td>0</td>\n",
       "      <td>2048.094985</td>\n",
       "      <td>60</td>\n",
       "      <td>среднее</td>\n",
       "      <td>1</td>\n",
       "      <td>гражданский брак</td>\n",
       "      <td>1</td>\n",
       "      <td>F</td>\n",
       "      <td>пенсионер</td>\n",
       "      <td>0</td>\n",
       "      <td>145017</td>\n",
       "      <td>свадьба</td>\n",
       "    </tr>\n",
       "    <tr>\n",
       "      <td>5557</td>\n",
       "      <td>0</td>\n",
       "      <td>2048.094985</td>\n",
       "      <td>58</td>\n",
       "      <td>среднее</td>\n",
       "      <td>1</td>\n",
       "      <td>гражданский брак</td>\n",
       "      <td>1</td>\n",
       "      <td>F</td>\n",
       "      <td>пенсионер</td>\n",
       "      <td>0</td>\n",
       "      <td>145017</td>\n",
       "      <td>сыграть свадьбу</td>\n",
       "    </tr>\n",
       "    <tr>\n",
       "      <td>...</td>\n",
       "      <td>...</td>\n",
       "      <td>...</td>\n",
       "      <td>...</td>\n",
       "      <td>...</td>\n",
       "      <td>...</td>\n",
       "      <td>...</td>\n",
       "      <td>...</td>\n",
       "      <td>...</td>\n",
       "      <td>...</td>\n",
       "      <td>...</td>\n",
       "      <td>...</td>\n",
       "      <td>...</td>\n",
       "    </tr>\n",
       "    <tr>\n",
       "      <td>20702</td>\n",
       "      <td>0</td>\n",
       "      <td>2048.094985</td>\n",
       "      <td>64</td>\n",
       "      <td>среднее</td>\n",
       "      <td>1</td>\n",
       "      <td>женат / замужем</td>\n",
       "      <td>0</td>\n",
       "      <td>F</td>\n",
       "      <td>пенсионер</td>\n",
       "      <td>0</td>\n",
       "      <td>145017</td>\n",
       "      <td>дополнительное образование</td>\n",
       "    </tr>\n",
       "    <tr>\n",
       "      <td>21032</td>\n",
       "      <td>0</td>\n",
       "      <td>2048.094985</td>\n",
       "      <td>60</td>\n",
       "      <td>среднее</td>\n",
       "      <td>1</td>\n",
       "      <td>женат / замужем</td>\n",
       "      <td>0</td>\n",
       "      <td>F</td>\n",
       "      <td>пенсионер</td>\n",
       "      <td>0</td>\n",
       "      <td>145017</td>\n",
       "      <td>заняться образованием</td>\n",
       "    </tr>\n",
       "    <tr>\n",
       "      <td>21132</td>\n",
       "      <td>0</td>\n",
       "      <td>2048.094985</td>\n",
       "      <td>47</td>\n",
       "      <td>среднее</td>\n",
       "      <td>1</td>\n",
       "      <td>женат / замужем</td>\n",
       "      <td>0</td>\n",
       "      <td>F</td>\n",
       "      <td>сотрудник</td>\n",
       "      <td>0</td>\n",
       "      <td>145017</td>\n",
       "      <td>ремонт жилью</td>\n",
       "    </tr>\n",
       "    <tr>\n",
       "      <td>21281</td>\n",
       "      <td>1</td>\n",
       "      <td>2048.094985</td>\n",
       "      <td>30</td>\n",
       "      <td>высшее</td>\n",
       "      <td>0</td>\n",
       "      <td>женат / замужем</td>\n",
       "      <td>0</td>\n",
       "      <td>F</td>\n",
       "      <td>сотрудник</td>\n",
       "      <td>0</td>\n",
       "      <td>145017</td>\n",
       "      <td>покупка коммерческой недвижимости</td>\n",
       "    </tr>\n",
       "    <tr>\n",
       "      <td>21415</td>\n",
       "      <td>0</td>\n",
       "      <td>2048.094985</td>\n",
       "      <td>54</td>\n",
       "      <td>среднее</td>\n",
       "      <td>1</td>\n",
       "      <td>женат / замужем</td>\n",
       "      <td>0</td>\n",
       "      <td>F</td>\n",
       "      <td>пенсионер</td>\n",
       "      <td>0</td>\n",
       "      <td>145017</td>\n",
       "      <td>операции с жильем</td>\n",
       "    </tr>\n",
       "  </tbody>\n",
       "</table>\n",
       "<p>71 rows × 12 columns</p>\n",
       "</div>"
      ],
      "text/plain": [
       "       children  days_employed  dob_years education  education_id  \\\n",
       "2849          0    2048.094985         41   среднее             1   \n",
       "3290          0    2048.094985         58   среднее             1   \n",
       "4182          1    2048.094985         34    высшее             0   \n",
       "4851          0    2048.094985         60   среднее             1   \n",
       "5557          0    2048.094985         58   среднее             1   \n",
       "...         ...            ...        ...       ...           ...   \n",
       "20702         0    2048.094985         64   среднее             1   \n",
       "21032         0    2048.094985         60   среднее             1   \n",
       "21132         0    2048.094985         47   среднее             1   \n",
       "21281         1    2048.094985         30    высшее             0   \n",
       "21415         0    2048.094985         54   среднее             1   \n",
       "\n",
       "          family_status  family_status_id gender income_type  debt  \\\n",
       "2849    женат / замужем                 0      F   сотрудник     0   \n",
       "3290   гражданский брак                 1      F   пенсионер     0   \n",
       "4182   гражданский брак                 1      F   сотрудник     0   \n",
       "4851   гражданский брак                 1      F   пенсионер     0   \n",
       "5557   гражданский брак                 1      F   пенсионер     0   \n",
       "...                 ...               ...    ...         ...   ...   \n",
       "20702   женат / замужем                 0      F   пенсионер     0   \n",
       "21032   женат / замужем                 0      F   пенсионер     0   \n",
       "21132   женат / замужем                 0      F   сотрудник     0   \n",
       "21281   женат / замужем                 0      F   сотрудник     0   \n",
       "21415   женат / замужем                 0      F   пенсионер     0   \n",
       "\n",
       "       total_income                            purpose  \n",
       "2849         145017            покупка жилья для семьи  \n",
       "3290         145017                    сыграть свадьбу  \n",
       "4182         145017                            свадьба  \n",
       "4851         145017                            свадьба  \n",
       "5557         145017                    сыграть свадьбу  \n",
       "...             ...                                ...  \n",
       "20702        145017         дополнительное образование  \n",
       "21032        145017              заняться образованием  \n",
       "21132        145017                       ремонт жилью  \n",
       "21281        145017  покупка коммерческой недвижимости  \n",
       "21415        145017                  операции с жильем  \n",
       "\n",
       "[71 rows x 12 columns]"
      ]
     },
     "execution_count": 20,
     "metadata": {},
     "output_type": "execute_result"
    }
   ],
   "source": [
    "df[df.duplicated()] #выведем таблицу дубликатов"
   ]
  },
  {
   "cell_type": "code",
   "execution_count": 21,
   "id": "6d97e100",
   "metadata": {},
   "outputs": [
    {
     "name": "stdout",
     "output_type": "stream",
     "text": [
      "<class 'pandas.core.frame.DataFrame'>\n",
      "RangeIndex: 21331 entries, 0 to 21330\n",
      "Data columns (total 12 columns):\n",
      "children            21331 non-null int64\n",
      "days_employed       21331 non-null float64\n",
      "dob_years           21331 non-null int64\n",
      "education           21331 non-null object\n",
      "education_id        21331 non-null int64\n",
      "family_status       21331 non-null object\n",
      "family_status_id    21331 non-null int64\n",
      "gender              21331 non-null object\n",
      "income_type         21331 non-null object\n",
      "debt                21331 non-null int64\n",
      "total_income        21331 non-null int64\n",
      "purpose             21331 non-null object\n",
      "dtypes: float64(1), int64(6), object(5)\n",
      "memory usage: 2.0+ MB\n"
     ]
    }
   ],
   "source": [
    "df = df.drop_duplicates().reset_index(drop=True) # удаляем дубликаты в таблице, при этом выравниваем индексацию.\n",
    "df.info()#проверка.удаление проведено, размерность датафрейма уменьшилась ровно на 71 строку"
   ]
  },
  {
   "cell_type": "markdown",
   "id": "b71da8b0",
   "metadata": {},
   "source": [
    "###  Формирование дополнительных датафреймов словарей, декомпозиция исходного датафрейма."
   ]
  },
  {
   "cell_type": "markdown",
   "id": "7d6e9e5f",
   "metadata": {},
   "source": [
    "\n",
    "Далее, проведем работу над столбцом `purpose`. В столцбе есть неявные дубликаты, а так же данный столбец лучше поделить на категории, что бы в дальнейшем использовать их для построения наглядного отчета.\n"
   ]
  },
  {
   "cell_type": "code",
   "execution_count": 22,
   "id": "983886de",
   "metadata": {
    "scrolled": true
   },
   "outputs": [
    {
     "data": {
      "text/html": [
       "<div>\n",
       "<style scoped>\n",
       "    .dataframe tbody tr th:only-of-type {\n",
       "        vertical-align: middle;\n",
       "    }\n",
       "\n",
       "    .dataframe tbody tr th {\n",
       "        vertical-align: top;\n",
       "    }\n",
       "\n",
       "    .dataframe thead th {\n",
       "        text-align: right;\n",
       "    }\n",
       "</style>\n",
       "<table border=\"1\" class=\"dataframe\">\n",
       "  <thead>\n",
       "    <tr style=\"text-align: right;\">\n",
       "      <th></th>\n",
       "      <th>children</th>\n",
       "      <th>days_employed</th>\n",
       "      <th>dob_years</th>\n",
       "      <th>education</th>\n",
       "      <th>education_id</th>\n",
       "      <th>family_status</th>\n",
       "      <th>family_status_id</th>\n",
       "      <th>gender</th>\n",
       "      <th>income_type</th>\n",
       "      <th>debt</th>\n",
       "      <th>total_income</th>\n",
       "      <th>purpose</th>\n",
       "      <th>purpose_category</th>\n",
       "    </tr>\n",
       "  </thead>\n",
       "  <tbody>\n",
       "    <tr>\n",
       "      <td>0</td>\n",
       "      <td>1</td>\n",
       "      <td>8437.673028</td>\n",
       "      <td>42</td>\n",
       "      <td>высшее</td>\n",
       "      <td>0</td>\n",
       "      <td>женат / замужем</td>\n",
       "      <td>0</td>\n",
       "      <td>F</td>\n",
       "      <td>сотрудник</td>\n",
       "      <td>0</td>\n",
       "      <td>253875</td>\n",
       "      <td>покупка жилья</td>\n",
       "      <td>операции с недвижимостью</td>\n",
       "    </tr>\n",
       "    <tr>\n",
       "      <td>1</td>\n",
       "      <td>1</td>\n",
       "      <td>4024.803754</td>\n",
       "      <td>36</td>\n",
       "      <td>среднее</td>\n",
       "      <td>1</td>\n",
       "      <td>женат / замужем</td>\n",
       "      <td>0</td>\n",
       "      <td>F</td>\n",
       "      <td>сотрудник</td>\n",
       "      <td>0</td>\n",
       "      <td>112080</td>\n",
       "      <td>приобретение автомобиля</td>\n",
       "      <td>операции с автомобилем</td>\n",
       "    </tr>\n",
       "    <tr>\n",
       "      <td>2</td>\n",
       "      <td>0</td>\n",
       "      <td>234.309275</td>\n",
       "      <td>33</td>\n",
       "      <td>среднее</td>\n",
       "      <td>1</td>\n",
       "      <td>женат / замужем</td>\n",
       "      <td>0</td>\n",
       "      <td>M</td>\n",
       "      <td>сотрудник</td>\n",
       "      <td>0</td>\n",
       "      <td>145885</td>\n",
       "      <td>покупка жилья</td>\n",
       "      <td>операции с недвижимостью</td>\n",
       "    </tr>\n",
       "    <tr>\n",
       "      <td>3</td>\n",
       "      <td>3</td>\n",
       "      <td>4124.747207</td>\n",
       "      <td>32</td>\n",
       "      <td>среднее</td>\n",
       "      <td>1</td>\n",
       "      <td>женат / замужем</td>\n",
       "      <td>0</td>\n",
       "      <td>M</td>\n",
       "      <td>сотрудник</td>\n",
       "      <td>0</td>\n",
       "      <td>267628</td>\n",
       "      <td>дополнительное образование</td>\n",
       "      <td>получение образования</td>\n",
       "    </tr>\n",
       "    <tr>\n",
       "      <td>4</td>\n",
       "      <td>0</td>\n",
       "      <td>14177.753002</td>\n",
       "      <td>53</td>\n",
       "      <td>среднее</td>\n",
       "      <td>1</td>\n",
       "      <td>гражданский брак</td>\n",
       "      <td>1</td>\n",
       "      <td>F</td>\n",
       "      <td>пенсионер</td>\n",
       "      <td>0</td>\n",
       "      <td>158616</td>\n",
       "      <td>сыграть свадьбу</td>\n",
       "      <td>проведение свадьбы</td>\n",
       "    </tr>\n",
       "  </tbody>\n",
       "</table>\n",
       "</div>"
      ],
      "text/plain": [
       "   children  days_employed  dob_years education  education_id  \\\n",
       "0         1    8437.673028         42    высшее             0   \n",
       "1         1    4024.803754         36   среднее             1   \n",
       "2         0     234.309275         33   среднее             1   \n",
       "3         3    4124.747207         32   среднее             1   \n",
       "4         0   14177.753002         53   среднее             1   \n",
       "\n",
       "      family_status  family_status_id gender income_type  debt  total_income  \\\n",
       "0   женат / замужем                 0      F   сотрудник     0        253875   \n",
       "1   женат / замужем                 0      F   сотрудник     0        112080   \n",
       "2   женат / замужем                 0      M   сотрудник     0        145885   \n",
       "3   женат / замужем                 0      M   сотрудник     0        267628   \n",
       "4  гражданский брак                 1      F   пенсионер     0        158616   \n",
       "\n",
       "                      purpose          purpose_category  \n",
       "0               покупка жилья  операции с недвижимостью  \n",
       "1     приобретение автомобиля    операции с автомобилем  \n",
       "2               покупка жилья  операции с недвижимостью  \n",
       "3  дополнительное образование     получение образования  \n",
       "4             сыграть свадьбу        проведение свадьбы  "
      ]
     },
     "execution_count": 22,
     "metadata": {},
     "output_type": "execute_result"
    }
   ],
   "source": [
    "#предполагаемые категории жилье/недвижимость, свадьба, автомобиль, образование\n",
    "def purpose_category(value):\n",
    "    if 'свадь' in value:\n",
    "        return 'проведение свадьбы'\n",
    "    if 'жиль' in value:\n",
    "        return 'операции с недвижимостью'\n",
    "    if 'недвиж' in value:\n",
    "        return 'операции с недвижимостью'\n",
    "    if 'авто' in value:\n",
    "        return 'операции с автомобилем'\n",
    "    if 'образов' in value:\n",
    "        return 'получение образования'\n",
    "    return 'non category' #введя данную категорию я убедилась в корректности работающей функции.\n",
    "#если данное значение 'non category' появится в выгрузке уникальных значений ,то значит фукнция отработала не корерктно.\n",
    "    \n",
    "    \n",
    "df['purpose_category'] = df['purpose'].apply(purpose_category)\n",
    "\n",
    "df.head() #проверим, что добавление нового столбца прошло успешно."
   ]
  },
  {
   "cell_type": "markdown",
   "id": "dd50c5f9",
   "metadata": {},
   "source": [
    "\n",
    "Сформируем таблицы-словари, что бы избавить основной дата фрейм от лишних данных `object`, которые дублируют друг друга.\n"
   ]
  },
  {
   "cell_type": "code",
   "execution_count": 23,
   "id": "8f6e2084",
   "metadata": {},
   "outputs": [],
   "source": [
    "df_education = df[['education_id','education']] #вводим новый датафрейм словарь\n",
    "df_family_status = df[['family_status_id','family_status']] #вводим новый датафрейм словарь"
   ]
  },
  {
   "cell_type": "code",
   "execution_count": 24,
   "id": "2704a75b",
   "metadata": {
    "scrolled": true
   },
   "outputs": [
    {
     "data": {
      "text/html": [
       "<div>\n",
       "<style scoped>\n",
       "    .dataframe tbody tr th:only-of-type {\n",
       "        vertical-align: middle;\n",
       "    }\n",
       "\n",
       "    .dataframe tbody tr th {\n",
       "        vertical-align: top;\n",
       "    }\n",
       "\n",
       "    .dataframe thead th {\n",
       "        text-align: right;\n",
       "    }\n",
       "</style>\n",
       "<table border=\"1\" class=\"dataframe\">\n",
       "  <thead>\n",
       "    <tr style=\"text-align: right;\">\n",
       "      <th></th>\n",
       "      <th>education_id</th>\n",
       "      <th>education</th>\n",
       "    </tr>\n",
       "  </thead>\n",
       "  <tbody>\n",
       "    <tr>\n",
       "      <td>0</td>\n",
       "      <td>0</td>\n",
       "      <td>высшее</td>\n",
       "    </tr>\n",
       "    <tr>\n",
       "      <td>1</td>\n",
       "      <td>1</td>\n",
       "      <td>среднее</td>\n",
       "    </tr>\n",
       "    <tr>\n",
       "      <td>2</td>\n",
       "      <td>2</td>\n",
       "      <td>неоконченное высшее</td>\n",
       "    </tr>\n",
       "    <tr>\n",
       "      <td>3</td>\n",
       "      <td>3</td>\n",
       "      <td>начальное</td>\n",
       "    </tr>\n",
       "    <tr>\n",
       "      <td>4</td>\n",
       "      <td>4</td>\n",
       "      <td>ученая степень</td>\n",
       "    </tr>\n",
       "  </tbody>\n",
       "</table>\n",
       "</div>"
      ],
      "text/plain": [
       "   education_id            education\n",
       "0             0               высшее\n",
       "1             1              среднее\n",
       "2             2  неоконченное высшее\n",
       "3             3            начальное\n",
       "4             4       ученая степень"
      ]
     },
     "execution_count": 24,
     "metadata": {},
     "output_type": "execute_result"
    }
   ],
   "source": [
    "df_education = df_education.drop_duplicates().reset_index(drop=True)\n",
    "df_education"
   ]
  },
  {
   "cell_type": "code",
   "execution_count": 25,
   "id": "74b63767",
   "metadata": {},
   "outputs": [
    {
     "data": {
      "text/html": [
       "<div>\n",
       "<style scoped>\n",
       "    .dataframe tbody tr th:only-of-type {\n",
       "        vertical-align: middle;\n",
       "    }\n",
       "\n",
       "    .dataframe tbody tr th {\n",
       "        vertical-align: top;\n",
       "    }\n",
       "\n",
       "    .dataframe thead th {\n",
       "        text-align: right;\n",
       "    }\n",
       "</style>\n",
       "<table border=\"1\" class=\"dataframe\">\n",
       "  <thead>\n",
       "    <tr style=\"text-align: right;\">\n",
       "      <th></th>\n",
       "      <th>family_status_id</th>\n",
       "      <th>family_status</th>\n",
       "    </tr>\n",
       "  </thead>\n",
       "  <tbody>\n",
       "    <tr>\n",
       "      <td>0</td>\n",
       "      <td>0</td>\n",
       "      <td>женат / замужем</td>\n",
       "    </tr>\n",
       "    <tr>\n",
       "      <td>1</td>\n",
       "      <td>1</td>\n",
       "      <td>гражданский брак</td>\n",
       "    </tr>\n",
       "    <tr>\n",
       "      <td>2</td>\n",
       "      <td>2</td>\n",
       "      <td>вдовец / вдова</td>\n",
       "    </tr>\n",
       "    <tr>\n",
       "      <td>3</td>\n",
       "      <td>3</td>\n",
       "      <td>в разводе</td>\n",
       "    </tr>\n",
       "    <tr>\n",
       "      <td>4</td>\n",
       "      <td>4</td>\n",
       "      <td>Не женат / не замужем</td>\n",
       "    </tr>\n",
       "  </tbody>\n",
       "</table>\n",
       "</div>"
      ],
      "text/plain": [
       "   family_status_id          family_status\n",
       "0                 0        женат / замужем\n",
       "1                 1       гражданский брак\n",
       "2                 2         вдовец / вдова\n",
       "3                 3              в разводе\n",
       "4                 4  Не женат / не замужем"
      ]
     },
     "execution_count": 25,
     "metadata": {},
     "output_type": "execute_result"
    }
   ],
   "source": [
    "df_family_status = df_family_status.drop_duplicates().reset_index(drop=True)\n",
    "df_family_status"
   ]
  },
  {
   "cell_type": "code",
   "execution_count": 26,
   "id": "a133b047",
   "metadata": {},
   "outputs": [],
   "source": [
    "df = df.drop(['education', 'family_status'], axis=1)#удаляем из основного датафрейма данные,упрощаем таблицу. "
   ]
  },
  {
   "cell_type": "code",
   "execution_count": 27,
   "id": "c8693f68",
   "metadata": {},
   "outputs": [
    {
     "data": {
      "text/html": [
       "<div>\n",
       "<style scoped>\n",
       "    .dataframe tbody tr th:only-of-type {\n",
       "        vertical-align: middle;\n",
       "    }\n",
       "\n",
       "    .dataframe tbody tr th {\n",
       "        vertical-align: top;\n",
       "    }\n",
       "\n",
       "    .dataframe thead th {\n",
       "        text-align: right;\n",
       "    }\n",
       "</style>\n",
       "<table border=\"1\" class=\"dataframe\">\n",
       "  <thead>\n",
       "    <tr style=\"text-align: right;\">\n",
       "      <th></th>\n",
       "      <th>children</th>\n",
       "      <th>days_employed</th>\n",
       "      <th>dob_years</th>\n",
       "      <th>education_id</th>\n",
       "      <th>family_status_id</th>\n",
       "      <th>gender</th>\n",
       "      <th>income_type</th>\n",
       "      <th>debt</th>\n",
       "      <th>total_income</th>\n",
       "      <th>purpose</th>\n",
       "      <th>purpose_category</th>\n",
       "      <th>total_income_category</th>\n",
       "    </tr>\n",
       "  </thead>\n",
       "  <tbody>\n",
       "    <tr>\n",
       "      <td>0</td>\n",
       "      <td>1</td>\n",
       "      <td>8437.673028</td>\n",
       "      <td>42</td>\n",
       "      <td>0</td>\n",
       "      <td>0</td>\n",
       "      <td>F</td>\n",
       "      <td>сотрудник</td>\n",
       "      <td>0</td>\n",
       "      <td>253875</td>\n",
       "      <td>покупка жилья</td>\n",
       "      <td>операции с недвижимостью</td>\n",
       "      <td>B</td>\n",
       "    </tr>\n",
       "    <tr>\n",
       "      <td>1</td>\n",
       "      <td>1</td>\n",
       "      <td>4024.803754</td>\n",
       "      <td>36</td>\n",
       "      <td>1</td>\n",
       "      <td>0</td>\n",
       "      <td>F</td>\n",
       "      <td>сотрудник</td>\n",
       "      <td>0</td>\n",
       "      <td>112080</td>\n",
       "      <td>приобретение автомобиля</td>\n",
       "      <td>операции с автомобилем</td>\n",
       "      <td>C</td>\n",
       "    </tr>\n",
       "    <tr>\n",
       "      <td>2</td>\n",
       "      <td>0</td>\n",
       "      <td>234.309275</td>\n",
       "      <td>33</td>\n",
       "      <td>1</td>\n",
       "      <td>0</td>\n",
       "      <td>M</td>\n",
       "      <td>сотрудник</td>\n",
       "      <td>0</td>\n",
       "      <td>145885</td>\n",
       "      <td>покупка жилья</td>\n",
       "      <td>операции с недвижимостью</td>\n",
       "      <td>C</td>\n",
       "    </tr>\n",
       "    <tr>\n",
       "      <td>3</td>\n",
       "      <td>3</td>\n",
       "      <td>4124.747207</td>\n",
       "      <td>32</td>\n",
       "      <td>1</td>\n",
       "      <td>0</td>\n",
       "      <td>M</td>\n",
       "      <td>сотрудник</td>\n",
       "      <td>0</td>\n",
       "      <td>267628</td>\n",
       "      <td>дополнительное образование</td>\n",
       "      <td>получение образования</td>\n",
       "      <td>B</td>\n",
       "    </tr>\n",
       "    <tr>\n",
       "      <td>4</td>\n",
       "      <td>0</td>\n",
       "      <td>14177.753002</td>\n",
       "      <td>53</td>\n",
       "      <td>1</td>\n",
       "      <td>1</td>\n",
       "      <td>F</td>\n",
       "      <td>пенсионер</td>\n",
       "      <td>0</td>\n",
       "      <td>158616</td>\n",
       "      <td>сыграть свадьбу</td>\n",
       "      <td>проведение свадьбы</td>\n",
       "      <td>C</td>\n",
       "    </tr>\n",
       "  </tbody>\n",
       "</table>\n",
       "</div>"
      ],
      "text/plain": [
       "   children  days_employed  dob_years  education_id  family_status_id gender  \\\n",
       "0         1    8437.673028         42             0                 0      F   \n",
       "1         1    4024.803754         36             1                 0      F   \n",
       "2         0     234.309275         33             1                 0      M   \n",
       "3         3    4124.747207         32             1                 0      M   \n",
       "4         0   14177.753002         53             1                 1      F   \n",
       "\n",
       "  income_type  debt  total_income                     purpose  \\\n",
       "0   сотрудник     0        253875               покупка жилья   \n",
       "1   сотрудник     0        112080     приобретение автомобиля   \n",
       "2   сотрудник     0        145885               покупка жилья   \n",
       "3   сотрудник     0        267628  дополнительное образование   \n",
       "4   пенсионер     0        158616             сыграть свадьбу   \n",
       "\n",
       "           purpose_category total_income_category  \n",
       "0  операции с недвижимостью                     B  \n",
       "1    операции с автомобилем                     C  \n",
       "2  операции с недвижимостью                     C  \n",
       "3     получение образования                     B  \n",
       "4        проведение свадьбы                     C  "
      ]
     },
     "execution_count": 27,
     "metadata": {},
     "output_type": "execute_result"
    }
   ],
   "source": [
    "#Создадим функцию income_category которая разделит на категории столбец total_income, так проще будет обнаружить зависимости в данных.\n",
    "#с помощью функции income_category создадим отдельный столбец и запишем туда необходимые значения\n",
    "def income_category(value):\n",
    "    if value <= 30000:\n",
    "        return 'E'\n",
    "    if value <= 50000:\n",
    "        return 'D'\n",
    "    if value <= 200000:\n",
    "        return 'C'\n",
    "    if value <= 1000000:\n",
    "        return 'B'\n",
    "    return 'A'\n",
    "#проверка работоспособности функции была проведена.не знаю надо ли это здесь отображать?\n",
    "\n",
    "df['total_income_category'] = df['total_income'].apply(income_category)\n",
    "\n",
    "df.head()"
   ]
  },
  {
   "cell_type": "markdown",
   "id": "f881c435",
   "metadata": {},
   "source": [
    "## Ответы на вопросы."
   ]
  },
  {
   "cell_type": "markdown",
   "id": "2f824443",
   "metadata": {},
   "source": [
    "### Есть ли зависимость между количеством детей и возвратом кредита в срок?\n",
    "\n",
    "Воспользуемся встроенными методами простроения графиков в библиотеке `pandas`,  что бы вызуализировать данные и найти ответы."
   ]
  },
  {
   "cell_type": "code",
   "execution_count": 28,
   "id": "dacd7da1",
   "metadata": {},
   "outputs": [
    {
     "data": {
      "text/html": [
       "<div>\n",
       "<style scoped>\n",
       "    .dataframe tbody tr th:only-of-type {\n",
       "        vertical-align: middle;\n",
       "    }\n",
       "\n",
       "    .dataframe tbody tr th {\n",
       "        vertical-align: top;\n",
       "    }\n",
       "\n",
       "    .dataframe thead tr th {\n",
       "        text-align: left;\n",
       "    }\n",
       "\n",
       "    .dataframe thead tr:last-of-type th {\n",
       "        text-align: right;\n",
       "    }\n",
       "</style>\n",
       "<table border=\"1\" class=\"dataframe\">\n",
       "  <thead>\n",
       "    <tr>\n",
       "      <th></th>\n",
       "      <th colspan=\"2\" halign=\"left\">debt</th>\n",
       "      <th>share_debt</th>\n",
       "    </tr>\n",
       "    <tr>\n",
       "      <th></th>\n",
       "      <th>count</th>\n",
       "      <th>sum</th>\n",
       "      <th></th>\n",
       "    </tr>\n",
       "    <tr>\n",
       "      <th>children</th>\n",
       "      <th></th>\n",
       "      <th></th>\n",
       "      <th></th>\n",
       "    </tr>\n",
       "  </thead>\n",
       "  <tbody>\n",
       "    <tr>\n",
       "      <td>0</td>\n",
       "      <td>14091</td>\n",
       "      <td>1063</td>\n",
       "      <td>0.075438</td>\n",
       "    </tr>\n",
       "    <tr>\n",
       "      <td>1</td>\n",
       "      <td>4808</td>\n",
       "      <td>444</td>\n",
       "      <td>0.092346</td>\n",
       "    </tr>\n",
       "    <tr>\n",
       "      <td>2</td>\n",
       "      <td>2052</td>\n",
       "      <td>194</td>\n",
       "      <td>0.094542</td>\n",
       "    </tr>\n",
       "    <tr>\n",
       "      <td>3</td>\n",
       "      <td>330</td>\n",
       "      <td>27</td>\n",
       "      <td>0.081818</td>\n",
       "    </tr>\n",
       "    <tr>\n",
       "      <td>4</td>\n",
       "      <td>41</td>\n",
       "      <td>4</td>\n",
       "      <td>0.097561</td>\n",
       "    </tr>\n",
       "    <tr>\n",
       "      <td>5</td>\n",
       "      <td>9</td>\n",
       "      <td>0</td>\n",
       "      <td>0.000000</td>\n",
       "    </tr>\n",
       "  </tbody>\n",
       "</table>\n",
       "</div>"
      ],
      "text/plain": [
       "           debt       share_debt\n",
       "          count   sum           \n",
       "children                        \n",
       "0         14091  1063   0.075438\n",
       "1          4808   444   0.092346\n",
       "2          2052   194   0.094542\n",
       "3           330    27   0.081818\n",
       "4            41     4   0.097561\n",
       "5             9     0   0.000000"
      ]
     },
     "execution_count": 28,
     "metadata": {},
     "output_type": "execute_result"
    }
   ],
   "source": [
    "df_child_debt = df.groupby('children').agg({'debt':['count', 'sum']})\n",
    "df_child_debt['share_debt'] = df_child_debt['debt']['sum'] / df_child_debt['debt']['count']\n",
    "df_child_debt# в стобце share видим отношение общего числа клиентов к клиентам, которые имели задолженость по кредиту\n"
   ]
  },
  {
   "cell_type": "code",
   "execution_count": 29,
   "id": "4e09c374",
   "metadata": {
    "scrolled": false
   },
   "outputs": [
    {
     "data": {
      "text/plain": [
       "<matplotlib.axes._subplots.AxesSubplot at 0x7fe0fb967ad0>"
      ]
     },
     "execution_count": 29,
     "metadata": {},
     "output_type": "execute_result"
    },
    {
     "data": {
      "image/png": "[encoded data removed]",
      "text/plain": [
       "<Figure size 432x288 with 1 Axes>"
      ]
     },
     "metadata": {
      "needs_background": "light"
     },
     "output_type": "display_data"
    }
   ],
   "source": [
    "df_child_debt.plot(y='share_debt', kind='bar', title='Доля задолженности по кредиту в каждой из групп')"
   ]
  },
  {
   "cell_type": "markdown",
   "id": "d4f9cd54",
   "metadata": {},
   "source": [
    "**Вывод:**\n",
    "По группе клиентов, у которых 5 детей - нет клиентов, у которых была бы просрочка.\n",
    "В группе людей, у которых нет детей или три ребенка , просчроку допускают 8 процентов клиентов.\n",
    "в остальных группах (1,2,4 ребенка) -  просрочку допускают 9 процентов клиентов.\n",
    "Прямой зависимости возврата кредита в срок с количеством детей я не наблюдаю.\n"
   ]
  },
  {
   "cell_type": "markdown",
   "id": "7dd94e32",
   "metadata": {},
   "source": [
    "###  Есть ли зависимость между семейным положением и возвратом кредита в срок?"
   ]
  },
  {
   "cell_type": "code",
   "execution_count": 30,
   "id": "4f27022b",
   "metadata": {},
   "outputs": [
    {
     "data": {
      "text/html": [
       "<div>\n",
       "<style scoped>\n",
       "    .dataframe tbody tr th:only-of-type {\n",
       "        vertical-align: middle;\n",
       "    }\n",
       "\n",
       "    .dataframe tbody tr th {\n",
       "        vertical-align: top;\n",
       "    }\n",
       "\n",
       "    .dataframe thead tr th {\n",
       "        text-align: left;\n",
       "    }\n",
       "\n",
       "    .dataframe thead tr:last-of-type th {\n",
       "        text-align: right;\n",
       "    }\n",
       "</style>\n",
       "<table border=\"1\" class=\"dataframe\">\n",
       "  <thead>\n",
       "    <tr>\n",
       "      <th></th>\n",
       "      <th colspan=\"2\" halign=\"left\">debt</th>\n",
       "      <th>share_debt</th>\n",
       "    </tr>\n",
       "    <tr>\n",
       "      <th></th>\n",
       "      <th>count</th>\n",
       "      <th>sum</th>\n",
       "      <th></th>\n",
       "    </tr>\n",
       "    <tr>\n",
       "      <th>family_status_id</th>\n",
       "      <th></th>\n",
       "      <th></th>\n",
       "      <th></th>\n",
       "    </tr>\n",
       "  </thead>\n",
       "  <tbody>\n",
       "    <tr>\n",
       "      <td>0</td>\n",
       "      <td>12261</td>\n",
       "      <td>927</td>\n",
       "      <td>0.075606</td>\n",
       "    </tr>\n",
       "    <tr>\n",
       "      <td>1</td>\n",
       "      <td>4134</td>\n",
       "      <td>385</td>\n",
       "      <td>0.093130</td>\n",
       "    </tr>\n",
       "    <tr>\n",
       "      <td>2</td>\n",
       "      <td>951</td>\n",
       "      <td>63</td>\n",
       "      <td>0.066246</td>\n",
       "    </tr>\n",
       "    <tr>\n",
       "      <td>3</td>\n",
       "      <td>1189</td>\n",
       "      <td>84</td>\n",
       "      <td>0.070648</td>\n",
       "    </tr>\n",
       "    <tr>\n",
       "      <td>4</td>\n",
       "      <td>2796</td>\n",
       "      <td>273</td>\n",
       "      <td>0.097639</td>\n",
       "    </tr>\n",
       "  </tbody>\n",
       "</table>\n",
       "</div>"
      ],
      "text/plain": [
       "                   debt      share_debt\n",
       "                  count  sum           \n",
       "family_status_id                       \n",
       "0                 12261  927   0.075606\n",
       "1                  4134  385   0.093130\n",
       "2                   951   63   0.066246\n",
       "3                  1189   84   0.070648\n",
       "4                  2796  273   0.097639"
      ]
     },
     "execution_count": 30,
     "metadata": {},
     "output_type": "execute_result"
    }
   ],
   "source": [
    "df_family_debt = df.groupby('family_status_id').agg({'debt':['count', 'sum']})\n",
    "df_family_debt['share_debt'] = df_family_debt['debt']['sum'] / df_family_debt['debt']['count']\n",
    "df_family_debt"
   ]
  },
  {
   "cell_type": "code",
   "execution_count": 31,
   "id": "3757f81f",
   "metadata": {},
   "outputs": [
    {
     "name": "stdout",
     "output_type": "stream",
     "text": [
      "   family_status_id          family_status\n",
      "0                 0        женат / замужем\n",
      "1                 1       гражданский брак\n",
      "2                 2         вдовец / вдова\n",
      "3                 3              в разводе\n",
      "4                 4  Не женат / не замужем\n"
     ]
    },
    {
     "data": {
      "text/plain": [
       "<matplotlib.axes._subplots.AxesSubplot at 0x7fe0fbfec990>"
      ]
     },
     "execution_count": 31,
     "metadata": {},
     "output_type": "execute_result"
    },
    {
     "data": {
      "image/png": "[encoded data removed]",
      "text/plain": [
       "<Figure size 432x288 with 1 Axes>"
      ]
     },
     "metadata": {
      "needs_background": "light"
     },
     "output_type": "display_data"
    }
   ],
   "source": [
    "print(df_family_status)\n",
    "df_family_debt.plot(y='share_debt', kind='bar', title='Доля задолженности по кредиту в каждой из групп')"
   ]
  },
  {
   "cell_type": "markdown",
   "id": "78d246b1",
   "metadata": {},
   "source": [
    "**Вывод:**\n",
    "Клиенты из группы 1 и 4 не возвращали кредит в срок чаще остальных - 9%.\n",
    "Клиенты из группы 2 и 3 меньше всех допустили просрочку в возврате кредита - 7%.\n",
    "\n",
    "Зависимость есть, но все же требуется больше данных и лучше бы что бы клиентов в каждой категориии было примерно одинаковое количество."
   ]
  },
  {
   "cell_type": "markdown",
   "id": "fc387328",
   "metadata": {},
   "source": [
    "###  Есть ли зависимость между уровнем дохода и возвратом кредита в срок?"
   ]
  },
  {
   "cell_type": "code",
   "execution_count": 32,
   "id": "c3ffe530",
   "metadata": {
    "scrolled": false
   },
   "outputs": [
    {
     "data": {
      "text/html": [
       "<div>\n",
       "<style scoped>\n",
       "    .dataframe tbody tr th:only-of-type {\n",
       "        vertical-align: middle;\n",
       "    }\n",
       "\n",
       "    .dataframe tbody tr th {\n",
       "        vertical-align: top;\n",
       "    }\n",
       "\n",
       "    .dataframe thead tr th {\n",
       "        text-align: left;\n",
       "    }\n",
       "\n",
       "    .dataframe thead tr:last-of-type th {\n",
       "        text-align: right;\n",
       "    }\n",
       "</style>\n",
       "<table border=\"1\" class=\"dataframe\">\n",
       "  <thead>\n",
       "    <tr>\n",
       "      <th></th>\n",
       "      <th colspan=\"2\" halign=\"left\">debt</th>\n",
       "      <th>share_debt</th>\n",
       "    </tr>\n",
       "    <tr>\n",
       "      <th></th>\n",
       "      <th>count</th>\n",
       "      <th>sum</th>\n",
       "      <th></th>\n",
       "    </tr>\n",
       "    <tr>\n",
       "      <th>total_income_category</th>\n",
       "      <th></th>\n",
       "      <th></th>\n",
       "      <th></th>\n",
       "    </tr>\n",
       "  </thead>\n",
       "  <tbody>\n",
       "    <tr>\n",
       "      <td>A</td>\n",
       "      <td>25</td>\n",
       "      <td>2</td>\n",
       "      <td>0.080000</td>\n",
       "    </tr>\n",
       "    <tr>\n",
       "      <td>B</td>\n",
       "      <td>5013</td>\n",
       "      <td>354</td>\n",
       "      <td>0.070616</td>\n",
       "    </tr>\n",
       "    <tr>\n",
       "      <td>C</td>\n",
       "      <td>15922</td>\n",
       "      <td>1353</td>\n",
       "      <td>0.084977</td>\n",
       "    </tr>\n",
       "    <tr>\n",
       "      <td>D</td>\n",
       "      <td>349</td>\n",
       "      <td>21</td>\n",
       "      <td>0.060172</td>\n",
       "    </tr>\n",
       "    <tr>\n",
       "      <td>E</td>\n",
       "      <td>22</td>\n",
       "      <td>2</td>\n",
       "      <td>0.090909</td>\n",
       "    </tr>\n",
       "  </tbody>\n",
       "</table>\n",
       "</div>"
      ],
      "text/plain": [
       "                        debt       share_debt\n",
       "                       count   sum           \n",
       "total_income_category                        \n",
       "A                         25     2   0.080000\n",
       "B                       5013   354   0.070616\n",
       "C                      15922  1353   0.084977\n",
       "D                        349    21   0.060172\n",
       "E                         22     2   0.090909"
      ]
     },
     "execution_count": 32,
     "metadata": {},
     "output_type": "execute_result"
    }
   ],
   "source": [
    "df_total_income_debt = df.groupby('total_income_category').agg({'debt':['count', 'sum']})\n",
    "df_total_income_debt['share_debt'] = df_total_income_debt['debt']['sum'] / df_total_income_debt['debt']['count']\n",
    "df_total_income_debt"
   ]
  },
  {
   "cell_type": "code",
   "execution_count": 33,
   "id": "bbfeb090",
   "metadata": {},
   "outputs": [
    {
     "data": {
      "text/plain": [
       "<matplotlib.axes._subplots.AxesSubplot at 0x7fe0f2fa2fd0>"
      ]
     },
     "execution_count": 33,
     "metadata": {},
     "output_type": "execute_result"
    },
    {
     "data": {
      "image/png": "[encoded data removed]",
      "text/plain": [
       "<Figure size 432x288 with 1 Axes>"
      ]
     },
     "metadata": {
      "needs_background": "light"
     },
     "output_type": "display_data"
    }
   ],
   "source": [
    "df_total_income_debt.plot(y='share_debt', kind='bar', title='Доля задолженности по кредиту в каждой из групп')"
   ]
  },
  {
   "cell_type": "markdown",
   "id": "e321913d",
   "metadata": {},
   "source": [
    "**Вывод:**\n",
    "Клиенты в категории D возвращают кредит в срок лучше других категорий. у них самый низкий показатель просрочки- 6%.\n",
    "Самый худший показатель возврата кредита в срок у клиентов категории Е - 9%.\n"
   ]
  },
  {
   "cell_type": "markdown",
   "id": "24a37ab1",
   "metadata": {},
   "source": [
    "###  Как разные цели кредита влияют на его возврат в срок?"
   ]
  },
  {
   "cell_type": "code",
   "execution_count": 34,
   "id": "6e4048d6",
   "metadata": {},
   "outputs": [
    {
     "data": {
      "text/html": [
       "<div>\n",
       "<style scoped>\n",
       "    .dataframe tbody tr th:only-of-type {\n",
       "        vertical-align: middle;\n",
       "    }\n",
       "\n",
       "    .dataframe tbody tr th {\n",
       "        vertical-align: top;\n",
       "    }\n",
       "\n",
       "    .dataframe thead tr th {\n",
       "        text-align: left;\n",
       "    }\n",
       "\n",
       "    .dataframe thead tr:last-of-type th {\n",
       "        text-align: right;\n",
       "    }\n",
       "</style>\n",
       "<table border=\"1\" class=\"dataframe\">\n",
       "  <thead>\n",
       "    <tr>\n",
       "      <th></th>\n",
       "      <th colspan=\"2\" halign=\"left\">debt</th>\n",
       "      <th>share_debt</th>\n",
       "    </tr>\n",
       "    <tr>\n",
       "      <th></th>\n",
       "      <th>count</th>\n",
       "      <th>sum</th>\n",
       "      <th></th>\n",
       "    </tr>\n",
       "    <tr>\n",
       "      <th>purpose_category</th>\n",
       "      <th></th>\n",
       "      <th></th>\n",
       "      <th></th>\n",
       "    </tr>\n",
       "  </thead>\n",
       "  <tbody>\n",
       "    <tr>\n",
       "      <td>операции с автомобилем</td>\n",
       "      <td>4279</td>\n",
       "      <td>400</td>\n",
       "      <td>0.093480</td>\n",
       "    </tr>\n",
       "    <tr>\n",
       "      <td>операции с недвижимостью</td>\n",
       "      <td>10751</td>\n",
       "      <td>780</td>\n",
       "      <td>0.072551</td>\n",
       "    </tr>\n",
       "    <tr>\n",
       "      <td>получение образования</td>\n",
       "      <td>3988</td>\n",
       "      <td>369</td>\n",
       "      <td>0.092528</td>\n",
       "    </tr>\n",
       "    <tr>\n",
       "      <td>проведение свадьбы</td>\n",
       "      <td>2313</td>\n",
       "      <td>183</td>\n",
       "      <td>0.079118</td>\n",
       "    </tr>\n",
       "  </tbody>\n",
       "</table>\n",
       "</div>"
      ],
      "text/plain": [
       "                           debt      share_debt\n",
       "                          count  sum           \n",
       "purpose_category                               \n",
       "операции с автомобилем     4279  400   0.093480\n",
       "операции с недвижимостью  10751  780   0.072551\n",
       "получение образования      3988  369   0.092528\n",
       "проведение свадьбы         2313  183   0.079118"
      ]
     },
     "execution_count": 34,
     "metadata": {},
     "output_type": "execute_result"
    }
   ],
   "source": [
    "df_purpose_debt = df.groupby('purpose_category').agg({'debt':['count', 'sum']})\n",
    "df_purpose_debt['share_debt'] = df_purpose_debt['debt']['sum'] / df_purpose_debt['debt']['count']\n",
    "df_purpose_debt"
   ]
  },
  {
   "cell_type": "code",
   "execution_count": 35,
   "id": "273eea86",
   "metadata": {},
   "outputs": [
    {
     "data": {
      "text/plain": [
       "<matplotlib.axes._subplots.AxesSubplot at 0x7fe0f2ea67d0>"
      ]
     },
     "execution_count": 35,
     "metadata": {},
     "output_type": "execute_result"
    },
    {
     "data": {
      "image/png": "[encoded data removed]",
      "text/plain": [
       "<Figure size 432x288 with 1 Axes>"
      ]
     },
     "metadata": {
      "needs_background": "light"
     },
     "output_type": "display_data"
    }
   ],
   "source": [
    "df_purpose_debt.plot(y='share_debt', kind='bar', title='Доля задолженности по кредиту в каждой из групп')"
   ]
  },
  {
   "cell_type": "markdown",
   "id": "328ce917",
   "metadata": {},
   "source": [
    "**Вывод:**\n",
    "Клиенты, которые брали кредит на автомобиль или образование, допускали просрочку по кредиту больше других. Таких клиентов - 9%.\n",
    "Клиенты, которые брали кредит на недвижимость или на свадьбу, возвращали кредит немного лучше. Доля просрочки у них - 7%.\n"
   ]
  },
  {
   "cell_type": "markdown",
   "id": "eb2ed764",
   "metadata": {},
   "source": [
    "## Общий вывод:\n",
    "\n",
    "Опираясь на предоставленную выгрузку, и обобщая все вышесказанное, можно предположить, что:\n",
    "\n",
    "- <font color='green'>Прямой зависимости возврата кредита от количества детей в семье я не наблюдаю. Клиенты, у которых нет детей допускают просрочку в 7% случаев, тогда как клиенты, у которых есть дети, допускают просрочку в 9% случаев. Разница небольшая.</font>\n",
    "- <font color='red'>Клиенты, находящиеся в категории \"гражданский брак\" и \"не замужем/не женат\" допускают просрочек по кредиту чаще остальных</font>\n",
    "- <font color='green'>Клиенты, находящиеся в категории \"вдовец / вдова\" и \"в разводе\" реже допускают просрочку по кредиту</font>\n",
    "- <font color='green'>Клиенты, чей средний ежемесячный доход от 30тыс - 50 тыс(категория D) допускают просрочку меньше остальных - всего 6% людей из данной группы.</font>\n",
    "- <font color='green'>Клиенты, которые брали кредит на автомобиль или образование допускают просрочку чаще на 2%, чем клиенты которые брали кредит на недвижимость или на свадьбу </font>\n"
   ]
  }
 ],
 "metadata": {
  "ExecuteTimeLog": [
   {
    "duration": 932,
    "start_time": "2022-02-09T05:46:03.940Z"
   },
   {
    "duration": 15,
    "start_time": "2022-02-09T05:50:03.125Z"
   },
   {
    "duration": 12,
    "start_time": "2022-02-09T05:53:01.319Z"
   },
   {
    "duration": 12,
    "start_time": "2022-02-09T06:01:34.948Z"
   },
   {
    "duration": 14,
    "start_time": "2022-02-09T06:01:46.347Z"
   },
   {
    "duration": 12,
    "start_time": "2022-02-09T06:01:53.302Z"
   },
   {
    "duration": 14,
    "start_time": "2022-02-09T06:02:27.324Z"
   },
   {
    "duration": 13,
    "start_time": "2022-02-09T06:03:04.200Z"
   },
   {
    "duration": 89,
    "start_time": "2022-02-09T06:12:36.135Z"
   },
   {
    "duration": 76,
    "start_time": "2022-02-09T06:13:52.274Z"
   },
   {
    "duration": 10,
    "start_time": "2022-02-09T06:21:06.467Z"
   },
   {
    "duration": 7,
    "start_time": "2022-02-09T06:21:32.380Z"
   },
   {
    "duration": 10,
    "start_time": "2022-02-09T06:24:00.283Z"
   },
   {
    "duration": 91,
    "start_time": "2022-02-09T06:26:58.606Z"
   },
   {
    "duration": 81,
    "start_time": "2022-02-09T06:29:08.456Z"
   },
   {
    "duration": 565,
    "start_time": "2022-02-09T06:43:45.073Z"
   },
   {
    "duration": -20,
    "start_time": "2022-02-09T06:44:05.193Z"
   },
   {
    "duration": -18,
    "start_time": "2022-02-09T06:44:17.368Z"
   },
   {
    "duration": 7747,
    "start_time": "2022-02-09T06:44:19.531Z"
   },
   {
    "duration": 6,
    "start_time": "2022-02-09T06:45:42.417Z"
   },
   {
    "duration": 100,
    "start_time": "2022-02-09T06:46:18.976Z"
   },
   {
    "duration": 14,
    "start_time": "2022-02-09T06:46:29.294Z"
   },
   {
    "duration": 19,
    "start_time": "2022-02-09T06:48:15.210Z"
   },
   {
    "duration": 6,
    "start_time": "2022-02-09T06:53:26.093Z"
   },
   {
    "duration": 7,
    "start_time": "2022-02-09T06:53:54.748Z"
   },
   {
    "duration": 7,
    "start_time": "2022-02-09T06:54:52.779Z"
   },
   {
    "duration": 6,
    "start_time": "2022-02-09T06:55:36.442Z"
   },
   {
    "duration": 113,
    "start_time": "2022-02-09T07:04:14.960Z"
   },
   {
    "duration": 666,
    "start_time": "2022-02-09T07:04:41.518Z"
   },
   {
    "duration": 757,
    "start_time": "2022-02-09T07:05:04.261Z"
   },
   {
    "duration": 337,
    "start_time": "2022-02-09T07:05:31.776Z"
   },
   {
    "duration": 368,
    "start_time": "2022-02-09T07:14:59.772Z"
   },
   {
    "duration": 18,
    "start_time": "2022-02-09T07:15:20.575Z"
   },
   {
    "duration": 331,
    "start_time": "2022-02-09T07:17:07.075Z"
   },
   {
    "duration": 308,
    "start_time": "2022-02-09T07:17:41.451Z"
   },
   {
    "duration": 751,
    "start_time": "2022-02-09T07:18:11.476Z"
   },
   {
    "duration": 18,
    "start_time": "2022-02-09T07:20:30.686Z"
   },
   {
    "duration": 18,
    "start_time": "2022-02-09T07:20:42.612Z"
   },
   {
    "duration": 3167,
    "start_time": "2022-02-09T07:23:56.404Z"
   },
   {
    "duration": 417,
    "start_time": "2022-02-09T07:27:40.667Z"
   },
   {
    "duration": 356,
    "start_time": "2022-02-09T07:30:51.574Z"
   },
   {
    "duration": 11,
    "start_time": "2022-02-09T07:35:17.467Z"
   },
   {
    "duration": 21,
    "start_time": "2022-02-09T07:35:43.765Z"
   },
   {
    "duration": 317,
    "start_time": "2022-02-09T07:39:12.476Z"
   },
   {
    "duration": 22,
    "start_time": "2022-02-09T07:39:35.671Z"
   },
   {
    "duration": 1031,
    "start_time": "2022-02-09T07:40:06.424Z"
   },
   {
    "duration": 20,
    "start_time": "2022-02-09T07:47:18.828Z"
   },
   {
    "duration": 28,
    "start_time": "2022-02-09T09:10:27.275Z"
   },
   {
    "duration": 15,
    "start_time": "2022-02-09T09:10:34.402Z"
   },
   {
    "duration": 24,
    "start_time": "2022-02-09T09:12:45.237Z"
   },
   {
    "duration": 19,
    "start_time": "2022-02-09T09:13:03.270Z"
   },
   {
    "duration": 20,
    "start_time": "2022-02-09T09:14:07.852Z"
   },
   {
    "duration": 20,
    "start_time": "2022-02-09T09:15:33.994Z"
   },
   {
    "duration": 19,
    "start_time": "2022-02-09T09:15:45.257Z"
   },
   {
    "duration": 18,
    "start_time": "2022-02-09T09:15:57.483Z"
   },
   {
    "duration": 22,
    "start_time": "2022-02-09T09:16:02.531Z"
   },
   {
    "duration": 17,
    "start_time": "2022-02-09T09:16:09.168Z"
   },
   {
    "duration": 35,
    "start_time": "2022-02-09T09:16:13.038Z"
   },
   {
    "duration": 19,
    "start_time": "2022-02-09T09:16:24.341Z"
   },
   {
    "duration": 75,
    "start_time": "2022-02-09T09:16:32.486Z"
   },
   {
    "duration": 15,
    "start_time": "2022-02-09T09:16:40.061Z"
   },
   {
    "duration": 18,
    "start_time": "2022-02-09T09:16:42.954Z"
   },
   {
    "duration": 15,
    "start_time": "2022-02-09T09:16:46.672Z"
   },
   {
    "duration": 34,
    "start_time": "2022-02-09T09:16:50.355Z"
   },
   {
    "duration": 28,
    "start_time": "2022-02-09T09:16:53.407Z"
   },
   {
    "duration": 18,
    "start_time": "2022-02-09T09:24:37.773Z"
   },
   {
    "duration": 20,
    "start_time": "2022-02-09T09:24:42.099Z"
   },
   {
    "duration": 17,
    "start_time": "2022-02-09T09:24:48.089Z"
   },
   {
    "duration": 18,
    "start_time": "2022-02-09T09:24:51.333Z"
   },
   {
    "duration": 20,
    "start_time": "2022-02-09T09:24:54.252Z"
   },
   {
    "duration": 19,
    "start_time": "2022-02-09T09:25:03.882Z"
   },
   {
    "duration": 77,
    "start_time": "2022-02-09T09:25:19.854Z"
   },
   {
    "duration": 13,
    "start_time": "2022-02-09T09:25:19.934Z"
   },
   {
    "duration": 19,
    "start_time": "2022-02-09T09:25:19.950Z"
   },
   {
    "duration": 14,
    "start_time": "2022-02-09T09:25:19.972Z"
   },
   {
    "duration": 13,
    "start_time": "2022-02-09T09:25:19.988Z"
   },
   {
    "duration": 19,
    "start_time": "2022-02-09T09:25:34.404Z"
   },
   {
    "duration": 16,
    "start_time": "2022-02-09T09:25:48.258Z"
   },
   {
    "duration": 40,
    "start_time": "2022-02-09T09:27:21.814Z"
   },
   {
    "duration": 8,
    "start_time": "2022-02-09T09:28:56.161Z"
   },
   {
    "duration": 7,
    "start_time": "2022-02-09T09:29:53.816Z"
   },
   {
    "duration": 78,
    "start_time": "2022-02-09T09:30:08.169Z"
   },
   {
    "duration": 14,
    "start_time": "2022-02-09T09:30:08.250Z"
   },
   {
    "duration": 13,
    "start_time": "2022-02-09T09:30:08.267Z"
   },
   {
    "duration": 7,
    "start_time": "2022-02-09T09:30:10.458Z"
   },
   {
    "duration": 18,
    "start_time": "2022-02-09T09:41:09.040Z"
   },
   {
    "duration": 20,
    "start_time": "2022-02-09T09:42:00.801Z"
   },
   {
    "duration": 6,
    "start_time": "2022-02-09T09:42:16.619Z"
   },
   {
    "duration": 78,
    "start_time": "2022-02-09T09:42:28.463Z"
   },
   {
    "duration": 15,
    "start_time": "2022-02-09T09:42:28.544Z"
   },
   {
    "duration": 13,
    "start_time": "2022-02-09T09:42:28.561Z"
   },
   {
    "duration": 6,
    "start_time": "2022-02-09T09:42:35.864Z"
   },
   {
    "duration": 18,
    "start_time": "2022-02-09T09:42:40.494Z"
   },
   {
    "duration": 90,
    "start_time": "2022-02-09T09:45:03.969Z"
   },
   {
    "duration": 19,
    "start_time": "2022-02-09T09:45:04.063Z"
   },
   {
    "duration": 15,
    "start_time": "2022-02-09T09:45:04.086Z"
   },
   {
    "duration": 38,
    "start_time": "2022-02-09T09:45:25.306Z"
   },
   {
    "duration": 36,
    "start_time": "2022-02-09T09:45:54.948Z"
   },
   {
    "duration": 29,
    "start_time": "2022-02-09T09:46:37.423Z"
   },
   {
    "duration": 16,
    "start_time": "2022-02-09T09:46:56.138Z"
   },
   {
    "duration": 18,
    "start_time": "2022-02-09T09:48:09.025Z"
   },
   {
    "duration": 20,
    "start_time": "2022-02-09T09:48:58.614Z"
   },
   {
    "duration": 7,
    "start_time": "2022-02-09T09:49:58.372Z"
   },
   {
    "duration": 6,
    "start_time": "2022-02-09T09:50:05.845Z"
   },
   {
    "duration": 6,
    "start_time": "2022-02-09T09:50:16.571Z"
   },
   {
    "duration": 64,
    "start_time": "2022-02-09T09:54:25.750Z"
   },
   {
    "duration": 44,
    "start_time": "2022-02-09T09:54:40.908Z"
   },
   {
    "duration": 27,
    "start_time": "2022-02-09T09:59:56.814Z"
   },
   {
    "duration": 26,
    "start_time": "2022-02-09T10:00:20.437Z"
   },
   {
    "duration": 6,
    "start_time": "2022-02-09T10:02:05.755Z"
   },
   {
    "duration": 6,
    "start_time": "2022-02-09T10:02:17.505Z"
   },
   {
    "duration": 18359,
    "start_time": "2022-02-09T10:03:41.505Z"
   },
   {
    "duration": 6,
    "start_time": "2022-02-09T10:04:12.378Z"
   },
   {
    "duration": 108,
    "start_time": "2022-02-09T10:09:16.908Z"
   },
   {
    "duration": 103,
    "start_time": "2022-02-09T10:11:10.351Z"
   },
   {
    "duration": 5,
    "start_time": "2022-02-09T10:11:39.055Z"
   },
   {
    "duration": 8,
    "start_time": "2022-02-09T10:11:53.407Z"
   },
   {
    "duration": 6,
    "start_time": "2022-02-09T10:13:16.586Z"
   },
   {
    "duration": 117,
    "start_time": "2022-02-09T10:17:06.712Z"
   },
   {
    "duration": 8,
    "start_time": "2022-02-09T10:17:27.877Z"
   },
   {
    "duration": 8,
    "start_time": "2022-02-09T10:17:52.670Z"
   },
   {
    "duration": 28,
    "start_time": "2022-02-09T10:19:38.662Z"
   },
   {
    "duration": 27,
    "start_time": "2022-02-09T10:22:11.296Z"
   },
   {
    "duration": 18,
    "start_time": "2022-02-09T10:27:00.697Z"
   },
   {
    "duration": 15,
    "start_time": "2022-02-09T10:28:24.685Z"
   },
   {
    "duration": 7,
    "start_time": "2022-02-09T10:28:49.655Z"
   },
   {
    "duration": 17,
    "start_time": "2022-02-09T10:29:20.820Z"
   },
   {
    "duration": 7,
    "start_time": "2022-02-09T10:29:36.973Z"
   },
   {
    "duration": 114,
    "start_time": "2022-02-09T10:59:19.327Z"
   },
   {
    "duration": 19,
    "start_time": "2022-02-09T10:59:25.738Z"
   },
   {
    "duration": 20,
    "start_time": "2022-02-09T11:01:12.647Z"
   },
   {
    "duration": 8,
    "start_time": "2022-02-09T11:08:26.194Z"
   },
   {
    "duration": 7,
    "start_time": "2022-02-09T11:08:41.603Z"
   },
   {
    "duration": 6,
    "start_time": "2022-02-09T11:10:03.408Z"
   },
   {
    "duration": 7,
    "start_time": "2022-02-09T11:10:57.158Z"
   },
   {
    "duration": 7,
    "start_time": "2022-02-09T11:11:52.095Z"
   },
   {
    "duration": 7,
    "start_time": "2022-02-09T11:12:43.836Z"
   },
   {
    "duration": 9,
    "start_time": "2022-02-09T11:15:08.782Z"
   },
   {
    "duration": 6,
    "start_time": "2022-02-09T11:16:25.899Z"
   },
   {
    "duration": 8,
    "start_time": "2022-02-09T11:16:28.384Z"
   },
   {
    "duration": 941,
    "start_time": "2022-02-09T11:20:27.872Z"
   },
   {
    "duration": 22,
    "start_time": "2022-02-09T11:21:41.948Z"
   },
   {
    "duration": 10,
    "start_time": "2022-02-09T11:27:25.064Z"
   },
   {
    "duration": 14,
    "start_time": "2022-02-09T11:44:07.716Z"
   },
   {
    "duration": 20,
    "start_time": "2022-02-09T11:44:52.358Z"
   },
   {
    "duration": 10,
    "start_time": "2022-02-09T11:47:47.947Z"
   },
   {
    "duration": 18,
    "start_time": "2022-02-09T11:48:47.293Z"
   },
   {
    "duration": 21,
    "start_time": "2022-02-09T11:56:29.380Z"
   },
   {
    "duration": 329,
    "start_time": "2022-02-09T11:56:58.131Z"
   },
   {
    "duration": 1700,
    "start_time": "2022-02-09T11:57:27.704Z"
   },
   {
    "duration": 707,
    "start_time": "2022-02-09T11:58:10.674Z"
   },
   {
    "duration": 456,
    "start_time": "2022-02-09T11:58:19.528Z"
   },
   {
    "duration": 15,
    "start_time": "2022-02-09T11:58:46.495Z"
   },
   {
    "duration": 19,
    "start_time": "2022-02-09T11:59:05.797Z"
   },
   {
    "duration": 15,
    "start_time": "2022-02-09T11:59:08.819Z"
   },
   {
    "duration": 13824,
    "start_time": "2022-02-09T11:59:34.157Z"
   },
   {
    "duration": 80,
    "start_time": "2022-02-09T12:00:23.751Z"
   },
   {
    "duration": 27,
    "start_time": "2022-02-09T12:00:23.833Z"
   },
   {
    "duration": 11,
    "start_time": "2022-02-09T12:00:23.863Z"
   },
   {
    "duration": 25,
    "start_time": "2022-02-09T12:00:23.877Z"
   },
   {
    "duration": 6,
    "start_time": "2022-02-09T12:00:23.904Z"
   },
   {
    "duration": 47,
    "start_time": "2022-02-09T12:00:23.912Z"
   },
   {
    "duration": 8,
    "start_time": "2022-02-09T12:00:23.961Z"
   },
   {
    "duration": 25,
    "start_time": "2022-02-09T12:00:23.971Z"
   },
   {
    "duration": 24,
    "start_time": "2022-02-09T12:00:24.000Z"
   },
   {
    "duration": 47,
    "start_time": "2022-02-09T12:00:24.027Z"
   },
   {
    "duration": 7,
    "start_time": "2022-02-09T12:00:24.076Z"
   },
   {
    "duration": 14,
    "start_time": "2022-02-09T12:00:24.086Z"
   },
   {
    "duration": 6,
    "start_time": "2022-02-09T12:00:24.103Z"
   },
   {
    "duration": 60,
    "start_time": "2022-02-09T12:00:24.112Z"
   },
   {
    "duration": 18,
    "start_time": "2022-02-09T12:00:24.174Z"
   },
   {
    "duration": 7,
    "start_time": "2022-02-09T12:00:24.194Z"
   },
   {
    "duration": 7,
    "start_time": "2022-02-09T12:00:24.203Z"
   },
   {
    "duration": 48,
    "start_time": "2022-02-09T12:00:24.212Z"
   },
   {
    "duration": 8,
    "start_time": "2022-02-09T12:00:24.263Z"
   },
   {
    "duration": 7,
    "start_time": "2022-02-09T12:00:24.273Z"
   },
   {
    "duration": 22,
    "start_time": "2022-02-09T12:00:24.282Z"
   },
   {
    "duration": 55,
    "start_time": "2022-02-09T12:00:24.306Z"
   },
   {
    "duration": 18,
    "start_time": "2022-02-09T12:00:24.364Z"
   },
   {
    "duration": 22,
    "start_time": "2022-02-09T12:00:39.301Z"
   },
   {
    "duration": 13,
    "start_time": "2022-02-09T12:00:48.888Z"
   },
   {
    "duration": 14,
    "start_time": "2022-02-09T12:00:56.446Z"
   },
   {
    "duration": 8,
    "start_time": "2022-02-09T12:01:30.639Z"
   },
   {
    "duration": 7,
    "start_time": "2022-02-09T12:02:16.164Z"
   },
   {
    "duration": 7,
    "start_time": "2022-02-09T12:02:19.249Z"
   },
   {
    "duration": 10,
    "start_time": "2022-02-09T12:02:32.161Z"
   },
   {
    "duration": 562,
    "start_time": "2022-02-09T12:10:32.601Z"
   },
   {
    "duration": 6,
    "start_time": "2022-02-09T12:13:13.445Z"
   },
   {
    "duration": 5,
    "start_time": "2022-02-09T12:13:23.802Z"
   },
   {
    "duration": 5,
    "start_time": "2022-02-09T12:13:29.521Z"
   },
   {
    "duration": 5,
    "start_time": "2022-02-09T12:13:34.536Z"
   },
   {
    "duration": 28,
    "start_time": "2022-02-09T12:14:59.939Z"
   },
   {
    "duration": 106,
    "start_time": "2022-02-10T05:55:43.627Z"
   },
   {
    "duration": 362,
    "start_time": "2022-02-10T05:55:50.720Z"
   },
   {
    "duration": 837,
    "start_time": "2022-02-10T05:56:03.622Z"
   },
   {
    "duration": 18,
    "start_time": "2022-02-10T05:56:04.462Z"
   },
   {
    "duration": 14,
    "start_time": "2022-02-10T05:56:04.484Z"
   },
   {
    "duration": 22,
    "start_time": "2022-02-10T05:56:04.524Z"
   },
   {
    "duration": 10,
    "start_time": "2022-02-10T05:56:04.549Z"
   },
   {
    "duration": 6,
    "start_time": "2022-02-10T05:56:04.562Z"
   },
   {
    "duration": 56,
    "start_time": "2022-02-10T05:56:04.571Z"
   },
   {
    "duration": 25,
    "start_time": "2022-02-10T05:56:04.630Z"
   },
   {
    "duration": 67,
    "start_time": "2022-02-10T05:56:04.658Z"
   },
   {
    "duration": 612,
    "start_time": "2022-02-10T05:56:07.588Z"
   },
   {
    "duration": 104,
    "start_time": "2022-02-10T05:58:40.109Z"
   },
   {
    "duration": 265,
    "start_time": "2022-02-10T05:58:49.700Z"
   },
   {
    "duration": 378,
    "start_time": "2022-02-10T06:00:32.900Z"
   },
   {
    "duration": 314,
    "start_time": "2022-02-10T06:00:54.405Z"
   },
   {
    "duration": 55,
    "start_time": "2022-02-10T06:02:16.539Z"
   },
   {
    "duration": 74,
    "start_time": "2022-02-10T06:03:48.179Z"
   },
   {
    "duration": 16,
    "start_time": "2022-02-10T06:03:48.256Z"
   },
   {
    "duration": 12,
    "start_time": "2022-02-10T06:03:48.275Z"
   },
   {
    "duration": 50,
    "start_time": "2022-02-10T06:03:48.290Z"
   },
   {
    "duration": 6,
    "start_time": "2022-02-10T06:03:48.343Z"
   },
   {
    "duration": 12,
    "start_time": "2022-02-10T06:03:48.352Z"
   },
   {
    "duration": 7,
    "start_time": "2022-02-10T06:03:48.366Z"
   },
   {
    "duration": 65,
    "start_time": "2022-02-10T06:03:48.375Z"
   },
   {
    "duration": 27,
    "start_time": "2022-02-10T06:03:48.443Z"
   },
   {
    "duration": 801,
    "start_time": "2022-02-10T06:03:51.269Z"
   },
   {
    "duration": 1166,
    "start_time": "2022-02-10T06:06:22.674Z"
   },
   {
    "duration": 759,
    "start_time": "2022-02-10T06:06:33.511Z"
   },
   {
    "duration": 783,
    "start_time": "2022-02-10T06:07:06.307Z"
   },
   {
    "duration": 1347,
    "start_time": "2022-02-10T06:25:17.285Z"
   },
   {
    "duration": 11910,
    "start_time": "2022-02-10T06:32:13.015Z"
   },
   {
    "duration": 814,
    "start_time": "2022-02-10T06:34:07.327Z"
   },
   {
    "duration": 77,
    "start_time": "2022-02-10T06:38:19.051Z"
   },
   {
    "duration": 17,
    "start_time": "2022-02-10T06:38:19.131Z"
   },
   {
    "duration": 23,
    "start_time": "2022-02-10T06:38:19.152Z"
   },
   {
    "duration": 53,
    "start_time": "2022-02-10T06:38:19.179Z"
   },
   {
    "duration": 7,
    "start_time": "2022-02-10T06:38:22.946Z"
   },
   {
    "duration": 1164,
    "start_time": "2022-02-10T06:40:37.745Z"
   },
   {
    "duration": 808,
    "start_time": "2022-02-10T06:42:56.694Z"
   },
   {
    "duration": 1186,
    "start_time": "2022-02-10T06:43:31.498Z"
   },
   {
    "duration": 999,
    "start_time": "2022-02-10T06:43:52.986Z"
   },
   {
    "duration": 5,
    "start_time": "2022-02-10T06:45:47.871Z"
   },
   {
    "duration": 778,
    "start_time": "2022-02-10T06:45:56.802Z"
   },
   {
    "duration": 73,
    "start_time": "2022-02-10T06:46:21.737Z"
   },
   {
    "duration": 16,
    "start_time": "2022-02-10T06:46:21.814Z"
   },
   {
    "duration": 14,
    "start_time": "2022-02-10T06:46:21.834Z"
   },
   {
    "duration": 21,
    "start_time": "2022-02-10T06:46:21.851Z"
   },
   {
    "duration": 9,
    "start_time": "2022-02-10T06:46:26.303Z"
   },
   {
    "duration": 696,
    "start_time": "2022-02-10T06:46:30.902Z"
   },
   {
    "duration": 73,
    "start_time": "2022-02-10T06:49:25.780Z"
   },
   {
    "duration": 13,
    "start_time": "2022-02-10T06:49:25.856Z"
   },
   {
    "duration": 12,
    "start_time": "2022-02-10T06:49:25.873Z"
   },
   {
    "duration": 51,
    "start_time": "2022-02-10T06:49:25.888Z"
   },
   {
    "duration": 9,
    "start_time": "2022-02-10T06:49:28.857Z"
   },
   {
    "duration": 5,
    "start_time": "2022-02-10T06:49:49.385Z"
   },
   {
    "duration": 34,
    "start_time": "2022-02-10T06:49:59.715Z"
   },
   {
    "duration": 32,
    "start_time": "2022-02-10T06:50:09.424Z"
   },
   {
    "duration": 839,
    "start_time": "2022-02-10T06:50:25.670Z"
   },
   {
    "duration": 72,
    "start_time": "2022-02-10T06:53:44.002Z"
   },
   {
    "duration": 14,
    "start_time": "2022-02-10T06:53:44.077Z"
   },
   {
    "duration": 12,
    "start_time": "2022-02-10T06:53:44.094Z"
   },
   {
    "duration": 19,
    "start_time": "2022-02-10T06:53:44.125Z"
   },
   {
    "duration": 34,
    "start_time": "2022-02-10T06:53:47.031Z"
   },
   {
    "duration": 846,
    "start_time": "2022-02-10T06:54:02.299Z"
   },
   {
    "duration": 1270,
    "start_time": "2022-02-10T06:54:19.604Z"
   },
   {
    "duration": 848,
    "start_time": "2022-02-10T06:54:51.388Z"
   },
   {
    "duration": 1079,
    "start_time": "2022-02-10T06:55:13.519Z"
   },
   {
    "duration": 57,
    "start_time": "2022-02-10T07:01:38.922Z"
   },
   {
    "duration": 76,
    "start_time": "2022-02-10T07:01:50.848Z"
   },
   {
    "duration": 16,
    "start_time": "2022-02-10T07:01:50.927Z"
   },
   {
    "duration": 15,
    "start_time": "2022-02-10T07:01:50.946Z"
   },
   {
    "duration": 36,
    "start_time": "2022-02-10T07:01:54.473Z"
   },
   {
    "duration": 73,
    "start_time": "2022-02-10T07:10:50.058Z"
   },
   {
    "duration": 13,
    "start_time": "2022-02-10T07:10:50.134Z"
   },
   {
    "duration": 12,
    "start_time": "2022-02-10T07:10:50.150Z"
   },
   {
    "duration": 64,
    "start_time": "2022-02-10T07:10:50.165Z"
   },
   {
    "duration": -559,
    "start_time": "2022-02-10T07:13:29.084Z"
   },
   {
    "duration": 17284,
    "start_time": "2022-02-10T07:13:51.557Z"
   },
   {
    "duration": 93967,
    "start_time": "2022-02-10T07:15:09.607Z"
   },
   {
    "duration": 79,
    "start_time": "2022-02-10T07:20:34.823Z"
   },
   {
    "duration": 23,
    "start_time": "2022-02-10T07:20:34.906Z"
   },
   {
    "duration": 14,
    "start_time": "2022-02-10T07:20:34.933Z"
   },
   {
    "duration": 21,
    "start_time": "2022-02-10T07:20:34.950Z"
   },
   {
    "duration": 30,
    "start_time": "2022-02-10T07:20:41.748Z"
   },
   {
    "duration": 893,
    "start_time": "2022-02-10T07:20:50.211Z"
   },
   {
    "duration": 864,
    "start_time": "2022-02-10T07:21:13.136Z"
   },
   {
    "duration": 115,
    "start_time": "2022-02-10T07:23:09.955Z"
   },
   {
    "duration": 28,
    "start_time": "2022-02-10T07:23:10.073Z"
   },
   {
    "duration": 35,
    "start_time": "2022-02-10T07:23:10.105Z"
   },
   {
    "duration": 29,
    "start_time": "2022-02-10T07:23:10.143Z"
   },
   {
    "duration": 74,
    "start_time": "2022-02-10T07:23:10.176Z"
   },
   {
    "duration": 814,
    "start_time": "2022-02-10T07:23:14.057Z"
   },
   {
    "duration": 72,
    "start_time": "2022-02-10T07:23:28.587Z"
   },
   {
    "duration": 14,
    "start_time": "2022-02-10T07:23:28.662Z"
   },
   {
    "duration": 11,
    "start_time": "2022-02-10T07:23:28.679Z"
   },
   {
    "duration": 49,
    "start_time": "2022-02-10T07:23:28.692Z"
   },
   {
    "duration": 29,
    "start_time": "2022-02-10T07:23:28.743Z"
   },
   {
    "duration": 824,
    "start_time": "2022-02-10T07:23:30.908Z"
   },
   {
    "duration": 824,
    "start_time": "2022-02-10T07:24:06.299Z"
   },
   {
    "duration": 798,
    "start_time": "2022-02-10T07:24:22.568Z"
   },
   {
    "duration": 112,
    "start_time": "2022-02-10T07:24:31.475Z"
   },
   {
    "duration": 18,
    "start_time": "2022-02-10T07:24:31.590Z"
   },
   {
    "duration": 21,
    "start_time": "2022-02-10T07:24:31.625Z"
   },
   {
    "duration": 20,
    "start_time": "2022-02-10T07:24:31.649Z"
   },
   {
    "duration": 75,
    "start_time": "2022-02-10T07:24:31.672Z"
   },
   {
    "duration": 886,
    "start_time": "2022-02-10T07:24:33.355Z"
   },
   {
    "duration": 73,
    "start_time": "2022-02-10T07:25:11.204Z"
   },
   {
    "duration": 16,
    "start_time": "2022-02-10T07:25:11.280Z"
   },
   {
    "duration": 31,
    "start_time": "2022-02-10T07:25:11.299Z"
   },
   {
    "duration": 27,
    "start_time": "2022-02-10T07:25:11.333Z"
   },
   {
    "duration": 62,
    "start_time": "2022-02-10T07:25:11.363Z"
   },
   {
    "duration": 924,
    "start_time": "2022-02-10T07:25:13.185Z"
   },
   {
    "duration": 75,
    "start_time": "2022-02-10T07:27:11.373Z"
   },
   {
    "duration": 15,
    "start_time": "2022-02-10T07:27:11.451Z"
   },
   {
    "duration": 12,
    "start_time": "2022-02-10T07:27:11.469Z"
   },
   {
    "duration": 49,
    "start_time": "2022-02-10T07:27:11.484Z"
   },
   {
    "duration": 30,
    "start_time": "2022-02-10T07:27:11.536Z"
   },
   {
    "duration": 1649,
    "start_time": "2022-02-10T07:27:25.914Z"
   },
   {
    "duration": 84,
    "start_time": "2022-02-10T07:33:28.092Z"
   },
   {
    "duration": 20,
    "start_time": "2022-02-10T07:33:28.180Z"
   },
   {
    "duration": 31,
    "start_time": "2022-02-10T07:33:28.203Z"
   },
   {
    "duration": 29,
    "start_time": "2022-02-10T07:33:28.238Z"
   },
   {
    "duration": 203,
    "start_time": "2022-02-10T07:33:30.133Z"
   },
   {
    "duration": 89,
    "start_time": "2022-02-10T07:34:26.717Z"
   },
   {
    "duration": 25,
    "start_time": "2022-02-10T07:34:26.809Z"
   },
   {
    "duration": 14,
    "start_time": "2022-02-10T07:34:26.837Z"
   },
   {
    "duration": 19,
    "start_time": "2022-02-10T07:34:26.854Z"
   },
   {
    "duration": 30,
    "start_time": "2022-02-10T07:34:28.971Z"
   },
   {
    "duration": 783,
    "start_time": "2022-02-10T07:35:00.673Z"
   },
   {
    "duration": 69,
    "start_time": "2022-02-10T07:35:27.576Z"
   },
   {
    "duration": 15,
    "start_time": "2022-02-10T07:35:27.648Z"
   },
   {
    "duration": 13,
    "start_time": "2022-02-10T07:35:27.665Z"
   },
   {
    "duration": 18,
    "start_time": "2022-02-10T07:35:27.680Z"
   },
   {
    "duration": 27,
    "start_time": "2022-02-10T07:35:29.849Z"
   },
   {
    "duration": 944,
    "start_time": "2022-02-10T07:35:37.923Z"
   },
   {
    "duration": 73,
    "start_time": "2022-02-10T07:36:46.401Z"
   },
   {
    "duration": 15,
    "start_time": "2022-02-10T07:36:46.477Z"
   },
   {
    "duration": 33,
    "start_time": "2022-02-10T07:36:46.495Z"
   },
   {
    "duration": 19,
    "start_time": "2022-02-10T07:36:46.531Z"
   },
   {
    "duration": 29,
    "start_time": "2022-02-10T07:36:52.052Z"
   },
   {
    "duration": 1220,
    "start_time": "2022-02-10T07:36:55.594Z"
   },
   {
    "duration": 72,
    "start_time": "2022-02-10T07:37:10.863Z"
   },
   {
    "duration": 14,
    "start_time": "2022-02-10T07:37:10.937Z"
   },
   {
    "duration": 12,
    "start_time": "2022-02-10T07:37:10.955Z"
   },
   {
    "duration": 18,
    "start_time": "2022-02-10T07:37:10.970Z"
   },
   {
    "duration": 27,
    "start_time": "2022-02-10T07:37:13.100Z"
   },
   {
    "duration": 859,
    "start_time": "2022-02-10T07:37:18.121Z"
   },
   {
    "duration": 73,
    "start_time": "2022-02-10T07:38:13.360Z"
   },
   {
    "duration": 17,
    "start_time": "2022-02-10T07:38:13.436Z"
   },
   {
    "duration": 14,
    "start_time": "2022-02-10T07:38:13.457Z"
   },
   {
    "duration": 57,
    "start_time": "2022-02-10T07:38:13.474Z"
   },
   {
    "duration": 685,
    "start_time": "2022-02-10T07:38:19.256Z"
   },
   {
    "duration": 74,
    "start_time": "2022-02-10T07:39:03.591Z"
   },
   {
    "duration": 15,
    "start_time": "2022-02-10T07:39:03.667Z"
   },
   {
    "duration": 13,
    "start_time": "2022-02-10T07:39:03.685Z"
   },
   {
    "duration": 41,
    "start_time": "2022-02-10T07:39:03.701Z"
   },
   {
    "duration": 612,
    "start_time": "2022-02-10T07:39:05.824Z"
   },
   {
    "duration": 74,
    "start_time": "2022-02-10T07:44:04.143Z"
   },
   {
    "duration": 13,
    "start_time": "2022-02-10T07:44:04.220Z"
   },
   {
    "duration": 13,
    "start_time": "2022-02-10T07:44:04.236Z"
   },
   {
    "duration": 21,
    "start_time": "2022-02-10T07:44:04.252Z"
   },
   {
    "duration": 348,
    "start_time": "2022-02-10T07:44:07.790Z"
   },
   {
    "duration": 68,
    "start_time": "2022-02-10T08:06:12.474Z"
   },
   {
    "duration": 16,
    "start_time": "2022-02-10T08:06:12.545Z"
   },
   {
    "duration": 12,
    "start_time": "2022-02-10T08:06:12.564Z"
   },
   {
    "duration": 50,
    "start_time": "2022-02-10T08:06:12.578Z"
   },
   {
    "duration": 644,
    "start_time": "2022-02-10T08:06:14.983Z"
   },
   {
    "duration": 69,
    "start_time": "2022-02-10T08:07:10.185Z"
   },
   {
    "duration": 16,
    "start_time": "2022-02-10T08:07:10.256Z"
   },
   {
    "duration": 14,
    "start_time": "2022-02-10T08:07:10.275Z"
   },
   {
    "duration": 47,
    "start_time": "2022-02-10T08:07:10.292Z"
   },
   {
    "duration": 592,
    "start_time": "2022-02-10T08:07:20.806Z"
   },
   {
    "duration": 74,
    "start_time": "2022-02-10T08:17:14.611Z"
   },
   {
    "duration": 15,
    "start_time": "2022-02-10T08:17:14.688Z"
   },
   {
    "duration": 13,
    "start_time": "2022-02-10T08:17:14.723Z"
   },
   {
    "duration": 20,
    "start_time": "2022-02-10T08:17:14.739Z"
   },
   {
    "duration": 788,
    "start_time": "2022-02-10T08:17:19.137Z"
   },
   {
    "duration": 76,
    "start_time": "2022-02-10T08:28:50.348Z"
   },
   {
    "duration": 14,
    "start_time": "2022-02-10T08:28:50.426Z"
   },
   {
    "duration": 13,
    "start_time": "2022-02-10T08:28:50.444Z"
   },
   {
    "duration": 18,
    "start_time": "2022-02-10T08:28:50.460Z"
   },
   {
    "duration": 1294,
    "start_time": "2022-02-10T08:28:50.480Z"
   },
   {
    "duration": 14,
    "start_time": "2022-02-10T08:28:51.777Z"
   },
   {
    "duration": 31,
    "start_time": "2022-02-10T08:28:51.793Z"
   },
   {
    "duration": 394,
    "start_time": "2022-02-10T08:29:43.079Z"
   },
   {
    "duration": 85,
    "start_time": "2022-02-10T08:30:29.937Z"
   },
   {
    "duration": 14,
    "start_time": "2022-02-10T08:30:30.025Z"
   },
   {
    "duration": 13,
    "start_time": "2022-02-10T08:30:30.042Z"
   },
   {
    "duration": 23,
    "start_time": "2022-02-10T08:30:30.058Z"
   },
   {
    "duration": 806,
    "start_time": "2022-02-10T08:30:30.083Z"
   },
   {
    "duration": 16,
    "start_time": "2022-02-10T08:30:30.891Z"
   },
   {
    "duration": 15,
    "start_time": "2022-02-10T08:30:30.924Z"
   },
   {
    "duration": 21,
    "start_time": "2022-02-10T08:30:30.942Z"
   },
   {
    "duration": 8,
    "start_time": "2022-02-10T08:30:30.968Z"
   },
   {
    "duration": 45,
    "start_time": "2022-02-10T08:30:30.979Z"
   },
   {
    "duration": 16,
    "start_time": "2022-02-10T08:30:31.027Z"
   },
   {
    "duration": 19,
    "start_time": "2022-02-10T08:30:31.046Z"
   },
   {
    "duration": 22,
    "start_time": "2022-02-10T08:30:31.068Z"
   },
   {
    "duration": 40,
    "start_time": "2022-02-10T08:30:31.093Z"
   },
   {
    "duration": 29,
    "start_time": "2022-02-10T08:30:31.135Z"
   },
   {
    "duration": 20,
    "start_time": "2022-02-10T08:30:31.167Z"
   },
   {
    "duration": 24,
    "start_time": "2022-02-10T08:30:31.191Z"
   },
   {
    "duration": 48,
    "start_time": "2022-02-10T08:30:31.223Z"
   },
   {
    "duration": 13,
    "start_time": "2022-02-10T09:04:21.469Z"
   },
   {
    "duration": 70,
    "start_time": "2022-02-10T09:04:44.149Z"
   },
   {
    "duration": 16,
    "start_time": "2022-02-10T09:04:44.221Z"
   },
   {
    "duration": 15,
    "start_time": "2022-02-10T09:04:44.240Z"
   },
   {
    "duration": 10,
    "start_time": "2022-02-10T09:04:47.149Z"
   },
   {
    "duration": 15,
    "start_time": "2022-02-10T09:29:19.581Z"
   },
   {
    "duration": 8,
    "start_time": "2022-02-10T09:29:29.621Z"
   },
   {
    "duration": 10,
    "start_time": "2022-02-10T09:31:46.289Z"
   },
   {
    "duration": 156,
    "start_time": "2022-02-10T09:31:54.871Z"
   },
   {
    "duration": 6,
    "start_time": "2022-02-10T09:31:56.917Z"
   },
   {
    "duration": 337,
    "start_time": "2022-02-10T09:32:57.057Z"
   },
   {
    "duration": 321,
    "start_time": "2022-02-10T09:33:28.838Z"
   },
   {
    "duration": 20,
    "start_time": "2022-02-10T09:34:03.368Z"
   },
   {
    "duration": 7,
    "start_time": "2022-02-10T09:40:02.584Z"
   },
   {
    "duration": 11,
    "start_time": "2022-02-10T09:58:43.591Z"
   },
   {
    "duration": 363,
    "start_time": "2022-02-10T09:59:40.951Z"
   },
   {
    "duration": 18,
    "start_time": "2022-02-10T10:00:31.423Z"
   },
   {
    "duration": 15,
    "start_time": "2022-02-10T10:01:15.380Z"
   },
   {
    "duration": 73,
    "start_time": "2022-02-10T10:14:08.469Z"
   },
   {
    "duration": 14,
    "start_time": "2022-02-10T10:14:08.545Z"
   },
   {
    "duration": 14,
    "start_time": "2022-02-10T10:14:08.564Z"
   },
   {
    "duration": 42,
    "start_time": "2022-02-10T10:14:08.581Z"
   },
   {
    "duration": 21,
    "start_time": "2022-02-10T10:14:08.625Z"
   },
   {
    "duration": 832,
    "start_time": "2022-02-10T10:14:08.648Z"
   },
   {
    "duration": 14,
    "start_time": "2022-02-10T10:14:09.483Z"
   },
   {
    "duration": 34,
    "start_time": "2022-02-10T10:14:09.501Z"
   },
   {
    "duration": 9,
    "start_time": "2022-02-10T10:14:09.538Z"
   },
   {
    "duration": 22,
    "start_time": "2022-02-10T10:14:09.551Z"
   },
   {
    "duration": 53,
    "start_time": "2022-02-10T10:14:09.577Z"
   },
   {
    "duration": 27,
    "start_time": "2022-02-10T10:14:09.633Z"
   },
   {
    "duration": 12,
    "start_time": "2022-02-10T10:14:09.663Z"
   },
   {
    "duration": 8,
    "start_time": "2022-02-10T10:14:09.677Z"
   },
   {
    "duration": 9,
    "start_time": "2022-02-10T10:14:09.723Z"
   },
   {
    "duration": 9,
    "start_time": "2022-02-10T10:14:09.734Z"
   },
   {
    "duration": 9,
    "start_time": "2022-02-10T10:14:09.745Z"
   },
   {
    "duration": 65,
    "start_time": "2022-02-10T10:14:09.757Z"
   },
   {
    "duration": 21,
    "start_time": "2022-02-10T10:14:09.825Z"
   },
   {
    "duration": 11,
    "start_time": "2022-02-10T10:14:09.848Z"
   },
   {
    "duration": 6,
    "start_time": "2022-02-10T10:14:09.862Z"
   },
   {
    "duration": 70,
    "start_time": "2022-02-10T10:14:09.871Z"
   },
   {
    "duration": 132,
    "start_time": "2022-02-10T10:14:09.946Z"
   },
   {
    "duration": 756,
    "start_time": "2022-02-10T10:15:54.950Z"
   },
   {
    "duration": 988,
    "start_time": "2022-02-10T10:17:52.026Z"
   },
   {
    "duration": 924,
    "start_time": "2022-02-10T10:18:29.405Z"
   },
   {
    "duration": 1944,
    "start_time": "2022-02-10T10:19:27.870Z"
   },
   {
    "duration": 1765,
    "start_time": "2022-02-10T10:23:04.670Z"
   },
   {
    "duration": 9,
    "start_time": "2022-02-10T10:24:08.386Z"
   },
   {
    "duration": 254,
    "start_time": "2022-02-10T10:24:18.307Z"
   },
   {
    "duration": 305,
    "start_time": "2022-02-10T10:24:45.411Z"
   },
   {
    "duration": 250,
    "start_time": "2022-02-10T10:25:10.150Z"
   },
   {
    "duration": 265,
    "start_time": "2022-02-10T10:25:49.609Z"
   },
   {
    "duration": 524,
    "start_time": "2022-02-10T10:28:16.578Z"
   },
   {
    "duration": 339,
    "start_time": "2022-02-10T10:29:20.580Z"
   },
   {
    "duration": 238,
    "start_time": "2022-02-10T10:29:33.803Z"
   },
   {
    "duration": 229,
    "start_time": "2022-02-10T10:31:05.044Z"
   },
   {
    "duration": 296,
    "start_time": "2022-02-10T10:31:31.995Z"
   },
   {
    "duration": 250,
    "start_time": "2022-02-10T10:31:50.458Z"
   },
   {
    "duration": 222,
    "start_time": "2022-02-10T10:32:06.773Z"
   },
   {
    "duration": 18,
    "start_time": "2022-02-10T10:37:04.062Z"
   },
   {
    "duration": 109,
    "start_time": "2022-02-10T10:37:48.018Z"
   },
   {
    "duration": 10,
    "start_time": "2022-02-10T10:37:51.806Z"
   },
   {
    "duration": 9,
    "start_time": "2022-02-10T10:38:18.078Z"
   },
   {
    "duration": 11,
    "start_time": "2022-02-10T10:38:37.079Z"
   },
   {
    "duration": 288,
    "start_time": "2022-02-10T10:42:07.041Z"
   },
   {
    "duration": 214,
    "start_time": "2022-02-10T10:42:13.344Z"
   },
   {
    "duration": 249,
    "start_time": "2022-02-11T04:54:23.164Z"
   },
   {
    "duration": 632,
    "start_time": "2022-02-11T04:54:29.534Z"
   },
   {
    "duration": 10,
    "start_time": "2022-02-11T04:54:30.168Z"
   },
   {
    "duration": 11,
    "start_time": "2022-02-11T04:54:30.180Z"
   },
   {
    "duration": 15,
    "start_time": "2022-02-11T04:54:30.193Z"
   },
   {
    "duration": 18,
    "start_time": "2022-02-11T04:54:30.210Z"
   },
   {
    "duration": 520,
    "start_time": "2022-02-11T04:54:30.230Z"
   },
   {
    "duration": 244,
    "start_time": "2022-02-11T04:54:32.820Z"
   },
   {
    "duration": 8,
    "start_time": "2022-02-11T04:56:38.968Z"
   },
   {
    "duration": 503,
    "start_time": "2022-02-11T04:57:27.884Z"
   },
   {
    "duration": 217,
    "start_time": "2022-02-11T05:09:06.984Z"
   },
   {
    "duration": 219,
    "start_time": "2022-02-11T05:09:14.708Z"
   },
   {
    "duration": 255,
    "start_time": "2022-02-11T05:10:26.341Z"
   },
   {
    "duration": 693,
    "start_time": "2022-02-11T05:10:41.292Z"
   },
   {
    "duration": 11,
    "start_time": "2022-02-11T05:10:41.987Z"
   },
   {
    "duration": 10,
    "start_time": "2022-02-11T05:10:42.000Z"
   },
   {
    "duration": 7,
    "start_time": "2022-02-11T05:10:42.012Z"
   },
   {
    "duration": 14,
    "start_time": "2022-02-11T05:10:42.021Z"
   },
   {
    "duration": 531,
    "start_time": "2022-02-11T05:10:42.037Z"
   },
   {
    "duration": 693,
    "start_time": "2022-02-11T05:11:09.818Z"
   },
   {
    "duration": 12,
    "start_time": "2022-02-11T05:11:10.513Z"
   },
   {
    "duration": 11,
    "start_time": "2022-02-11T05:11:10.527Z"
   },
   {
    "duration": 8,
    "start_time": "2022-02-11T05:11:10.540Z"
   },
   {
    "duration": 14,
    "start_time": "2022-02-11T05:11:10.550Z"
   },
   {
    "duration": 534,
    "start_time": "2022-02-11T05:11:10.566Z"
   },
   {
    "duration": 7,
    "start_time": "2022-02-11T05:11:11.102Z"
   },
   {
    "duration": 26,
    "start_time": "2022-02-11T05:11:11.112Z"
   },
   {
    "duration": 12,
    "start_time": "2022-02-11T05:11:11.140Z"
   },
   {
    "duration": 5,
    "start_time": "2022-02-11T05:11:11.154Z"
   },
   {
    "duration": 14,
    "start_time": "2022-02-11T05:11:11.161Z"
   },
   {
    "duration": 29,
    "start_time": "2022-02-11T05:11:11.177Z"
   },
   {
    "duration": 13,
    "start_time": "2022-02-11T05:11:11.209Z"
   },
   {
    "duration": 6,
    "start_time": "2022-02-11T05:11:11.224Z"
   },
   {
    "duration": 7,
    "start_time": "2022-02-11T05:11:11.232Z"
   },
   {
    "duration": 5,
    "start_time": "2022-02-11T05:11:11.241Z"
   },
   {
    "duration": 52,
    "start_time": "2022-02-11T05:11:11.248Z"
   },
   {
    "duration": 7,
    "start_time": "2022-02-11T05:11:11.302Z"
   },
   {
    "duration": 17,
    "start_time": "2022-02-11T05:11:11.311Z"
   },
   {
    "duration": 15,
    "start_time": "2022-02-11T05:11:11.331Z"
   },
   {
    "duration": 10,
    "start_time": "2022-02-11T05:11:11.348Z"
   },
   {
    "duration": 38,
    "start_time": "2022-02-11T05:11:11.360Z"
   },
   {
    "duration": 23,
    "start_time": "2022-02-11T05:11:11.402Z"
   },
   {
    "duration": 272,
    "start_time": "2022-02-11T05:11:11.428Z"
   },
   {
    "duration": 7,
    "start_time": "2022-02-11T05:14:25.660Z"
   },
   {
    "duration": 289,
    "start_time": "2022-02-11T05:18:32.114Z"
   },
   {
    "duration": 259,
    "start_time": "2022-02-11T05:20:36.016Z"
   },
   {
    "duration": 686,
    "start_time": "2022-02-11T05:20:41.093Z"
   },
   {
    "duration": 11,
    "start_time": "2022-02-11T05:20:41.781Z"
   },
   {
    "duration": 10,
    "start_time": "2022-02-11T05:20:41.794Z"
   },
   {
    "duration": 7,
    "start_time": "2022-02-11T05:20:41.805Z"
   },
   {
    "duration": 14,
    "start_time": "2022-02-11T05:20:41.814Z"
   },
   {
    "duration": 508,
    "start_time": "2022-02-11T05:20:41.829Z"
   },
   {
    "duration": 6,
    "start_time": "2022-02-11T05:20:42.339Z"
   },
   {
    "duration": 13,
    "start_time": "2022-02-11T05:20:42.348Z"
   },
   {
    "duration": 11,
    "start_time": "2022-02-11T05:20:42.363Z"
   },
   {
    "duration": 27,
    "start_time": "2022-02-11T05:20:42.376Z"
   },
   {
    "duration": 16,
    "start_time": "2022-02-11T05:20:42.405Z"
   },
   {
    "duration": 12,
    "start_time": "2022-02-11T05:20:42.423Z"
   },
   {
    "duration": 16,
    "start_time": "2022-02-11T05:20:42.437Z"
   },
   {
    "duration": 5,
    "start_time": "2022-02-11T05:20:42.455Z"
   },
   {
    "duration": 40,
    "start_time": "2022-02-11T05:20:42.461Z"
   },
   {
    "duration": 5,
    "start_time": "2022-02-11T05:20:42.502Z"
   },
   {
    "duration": 7,
    "start_time": "2022-02-11T05:20:42.509Z"
   },
   {
    "duration": 7,
    "start_time": "2022-02-11T05:20:42.517Z"
   },
   {
    "duration": 17,
    "start_time": "2022-02-11T05:20:42.525Z"
   },
   {
    "duration": 16,
    "start_time": "2022-02-11T05:20:42.544Z"
   },
   {
    "duration": 40,
    "start_time": "2022-02-11T05:20:42.562Z"
   },
   {
    "duration": 6,
    "start_time": "2022-02-11T05:20:42.604Z"
   },
   {
    "duration": 20,
    "start_time": "2022-02-11T05:20:42.613Z"
   },
   {
    "duration": 253,
    "start_time": "2022-02-11T05:20:42.635Z"
   },
   {
    "duration": 8,
    "start_time": "2022-02-11T05:20:45.402Z"
   },
   {
    "duration": 184,
    "start_time": "2022-02-11T05:24:34.870Z"
   },
   {
    "duration": 64,
    "start_time": "2022-02-11T05:25:52.874Z"
   },
   {
    "duration": 12,
    "start_time": "2022-02-11T05:25:52.939Z"
   },
   {
    "duration": 12,
    "start_time": "2022-02-11T05:25:52.953Z"
   },
   {
    "duration": 38,
    "start_time": "2022-02-11T05:25:52.967Z"
   },
   {
    "duration": 15,
    "start_time": "2022-02-11T05:25:53.007Z"
   },
   {
    "duration": 498,
    "start_time": "2022-02-11T05:25:53.024Z"
   },
   {
    "duration": 8,
    "start_time": "2022-02-11T05:25:53.524Z"
   },
   {
    "duration": 13,
    "start_time": "2022-02-11T05:25:53.537Z"
   },
   {
    "duration": 14,
    "start_time": "2022-02-11T05:25:53.552Z"
   },
   {
    "duration": 35,
    "start_time": "2022-02-11T05:25:53.568Z"
   },
   {
    "duration": 12,
    "start_time": "2022-02-11T05:25:53.606Z"
   },
   {
    "duration": 12,
    "start_time": "2022-02-11T05:25:53.620Z"
   },
   {
    "duration": 15,
    "start_time": "2022-02-11T05:25:53.634Z"
   },
   {
    "duration": 46,
    "start_time": "2022-02-11T05:25:53.651Z"
   },
   {
    "duration": 7,
    "start_time": "2022-02-11T05:25:53.700Z"
   },
   {
    "duration": 6,
    "start_time": "2022-02-11T05:25:53.709Z"
   },
   {
    "duration": 7,
    "start_time": "2022-02-11T05:25:53.717Z"
   },
   {
    "duration": 8,
    "start_time": "2022-02-11T05:25:53.725Z"
   },
   {
    "duration": 64,
    "start_time": "2022-02-11T05:25:53.735Z"
   },
   {
    "duration": 14,
    "start_time": "2022-02-11T05:25:53.801Z"
   },
   {
    "duration": 7,
    "start_time": "2022-02-11T05:25:53.816Z"
   },
   {
    "duration": 9,
    "start_time": "2022-02-11T05:25:53.825Z"
   },
   {
    "duration": 21,
    "start_time": "2022-02-11T05:25:53.837Z"
   },
   {
    "duration": 198,
    "start_time": "2022-02-11T05:25:53.861Z"
   },
   {
    "duration": 221,
    "start_time": "2022-02-11T05:26:01.173Z"
   },
   {
    "duration": 168,
    "start_time": "2022-02-11T05:26:38.556Z"
   },
   {
    "duration": 177,
    "start_time": "2022-02-11T05:28:41.270Z"
   },
   {
    "duration": 185,
    "start_time": "2022-02-11T05:29:16.133Z"
   },
   {
    "duration": 271,
    "start_time": "2022-02-11T05:34:46.884Z"
   },
   {
    "duration": 200,
    "start_time": "2022-02-11T05:35:07.300Z"
   },
   {
    "duration": 182,
    "start_time": "2022-02-11T05:36:09.561Z"
   },
   {
    "duration": 7,
    "start_time": "2022-02-11T05:37:14.897Z"
   },
   {
    "duration": 25,
    "start_time": "2022-02-11T05:43:08.672Z"
   },
   {
    "duration": 39,
    "start_time": "2022-02-11T05:43:17.388Z"
   },
   {
    "duration": 37,
    "start_time": "2022-02-11T05:43:42.716Z"
   },
   {
    "duration": 36,
    "start_time": "2022-02-11T05:45:05.330Z"
   },
   {
    "duration": 25,
    "start_time": "2022-02-11T05:45:52.735Z"
   },
   {
    "duration": 19,
    "start_time": "2022-02-11T05:49:46.800Z"
   },
   {
    "duration": 231,
    "start_time": "2022-02-11T06:04:42.333Z"
   },
   {
    "duration": 19,
    "start_time": "2022-02-11T06:05:10.770Z"
   },
   {
    "duration": 249,
    "start_time": "2022-02-11T06:08:17.023Z"
   },
   {
    "duration": 526,
    "start_time": "2022-02-11T06:08:34.949Z"
   },
   {
    "duration": 696,
    "start_time": "2022-02-11T06:08:59.509Z"
   },
   {
    "duration": 712,
    "start_time": "2022-02-11T06:09:21.269Z"
   },
   {
    "duration": 230,
    "start_time": "2022-02-11T06:10:17.708Z"
   },
   {
    "duration": 782,
    "start_time": "2022-02-11T06:10:36.508Z"
   },
   {
    "duration": 513,
    "start_time": "2022-02-11T06:11:06.045Z"
   },
   {
    "duration": 163,
    "start_time": "2022-02-11T06:11:15.482Z"
   },
   {
    "duration": 425,
    "start_time": "2022-02-11T06:27:57.803Z"
   },
   {
    "duration": 246,
    "start_time": "2022-02-11T06:28:44.744Z"
   },
   {
    "duration": 381,
    "start_time": "2022-02-11T06:28:57.339Z"
   },
   {
    "duration": 264,
    "start_time": "2022-02-11T06:32:02.149Z"
   },
   {
    "duration": 170,
    "start_time": "2022-02-11T06:32:29.718Z"
   },
   {
    "duration": 325,
    "start_time": "2022-02-11T06:34:29.602Z"
   },
   {
    "duration": 177,
    "start_time": "2022-02-11T06:34:41.541Z"
   },
   {
    "duration": 547,
    "start_time": "2022-02-11T06:35:51.421Z"
   },
   {
    "duration": 232,
    "start_time": "2022-02-11T06:36:38.721Z"
   },
   {
    "duration": 322,
    "start_time": "2022-02-11T06:37:40.899Z"
   },
   {
    "duration": 181,
    "start_time": "2022-02-11T07:28:32.912Z"
   },
   {
    "duration": 191,
    "start_time": "2022-02-11T07:28:43.483Z"
   },
   {
    "duration": 179,
    "start_time": "2022-02-11T08:15:52.635Z"
   },
   {
    "duration": 176,
    "start_time": "2022-02-11T08:16:16.512Z"
   },
   {
    "duration": 69,
    "start_time": "2022-02-11T08:18:53.975Z"
   },
   {
    "duration": 6,
    "start_time": "2022-02-11T08:18:57.692Z"
   },
   {
    "duration": 185,
    "start_time": "2022-02-11T08:20:17.581Z"
   },
   {
    "duration": 167,
    "start_time": "2022-02-11T08:20:49.333Z"
   },
   {
    "duration": 16,
    "start_time": "2022-02-11T08:21:58.451Z"
   },
   {
    "duration": 79,
    "start_time": "2022-02-11T08:22:29.772Z"
   },
   {
    "duration": 8,
    "start_time": "2022-02-11T08:22:32.747Z"
   },
   {
    "duration": 185,
    "start_time": "2022-02-11T08:23:24.936Z"
   },
   {
    "duration": 191,
    "start_time": "2022-02-11T08:24:23.736Z"
   },
   {
    "duration": 165,
    "start_time": "2022-02-11T08:24:45.000Z"
   },
   {
    "duration": 214,
    "start_time": "2022-02-11T08:25:03.338Z"
   },
   {
    "duration": 282,
    "start_time": "2022-02-11T08:25:28.490Z"
   },
   {
    "duration": 82,
    "start_time": "2022-02-11T08:25:42.330Z"
   },
   {
    "duration": 204,
    "start_time": "2022-02-11T08:27:09.115Z"
   },
   {
    "duration": 7,
    "start_time": "2022-02-11T08:27:24.059Z"
   },
   {
    "duration": 91,
    "start_time": "2022-02-11T08:27:40.979Z"
   },
   {
    "duration": 174,
    "start_time": "2022-02-11T08:28:27.025Z"
   },
   {
    "duration": 10,
    "start_time": "2022-02-11T08:44:46.709Z"
   },
   {
    "duration": 8,
    "start_time": "2022-02-11T08:45:03.563Z"
   },
   {
    "duration": 763,
    "start_time": "2022-02-17T12:12:39.981Z"
   },
   {
    "duration": 20,
    "start_time": "2022-02-17T12:12:40.746Z"
   },
   {
    "duration": 13,
    "start_time": "2022-02-17T12:12:40.769Z"
   },
   {
    "duration": 30,
    "start_time": "2022-02-17T12:12:40.785Z"
   },
   {
    "duration": 20,
    "start_time": "2022-02-17T12:12:40.817Z"
   },
   {
    "duration": 600,
    "start_time": "2022-02-17T12:12:40.839Z"
   },
   {
    "duration": 9,
    "start_time": "2022-02-17T12:12:41.442Z"
   },
   {
    "duration": 15,
    "start_time": "2022-02-17T12:12:41.453Z"
   },
   {
    "duration": 47,
    "start_time": "2022-02-17T12:12:41.472Z"
   },
   {
    "duration": 6,
    "start_time": "2022-02-17T12:12:41.522Z"
   },
   {
    "duration": 14,
    "start_time": "2022-02-17T12:12:41.531Z"
   },
   {
    "duration": 18,
    "start_time": "2022-02-17T12:12:41.547Z"
   },
   {
    "duration": 60,
    "start_time": "2022-02-17T12:12:41.567Z"
   },
   {
    "duration": 8,
    "start_time": "2022-02-17T12:12:41.629Z"
   },
   {
    "duration": 7,
    "start_time": "2022-02-17T12:12:41.639Z"
   },
   {
    "duration": 9,
    "start_time": "2022-02-17T12:12:41.648Z"
   },
   {
    "duration": 7,
    "start_time": "2022-02-17T12:12:41.659Z"
   },
   {
    "duration": 8,
    "start_time": "2022-02-17T12:12:41.711Z"
   },
   {
    "duration": 21,
    "start_time": "2022-02-17T12:12:41.722Z"
   },
   {
    "duration": 21,
    "start_time": "2022-02-17T12:12:41.746Z"
   },
   {
    "duration": 45,
    "start_time": "2022-02-17T12:12:41.769Z"
   },
   {
    "duration": 4,
    "start_time": "2022-02-17T12:12:41.816Z"
   },
   {
    "duration": 27,
    "start_time": "2022-02-17T12:12:41.823Z"
   },
   {
    "duration": 7,
    "start_time": "2022-02-17T12:12:41.853Z"
   },
   {
    "duration": 2306,
    "start_time": "2022-02-17T12:12:41.863Z"
   },
   {
    "duration": 254,
    "start_time": "2022-02-17T12:12:44.172Z"
   },
   {
    "duration": 1042,
    "start_time": "2022-02-17T12:12:44.430Z"
   },
   {
    "duration": 303,
    "start_time": "2022-02-17T12:12:45.474Z"
   },
   {
    "duration": 265,
    "start_time": "2022-02-17T12:12:45.779Z"
   },
   {
    "duration": 13,
    "start_time": "2022-02-17T12:47:30.404Z"
   },
   {
    "duration": 568,
    "start_time": "2022-02-17T13:04:01.953Z"
   },
   {
    "duration": 30,
    "start_time": "2022-02-17T13:04:09.946Z"
   },
   {
    "duration": 359,
    "start_time": "2022-02-18T05:01:37.921Z"
   },
   {
    "duration": 857,
    "start_time": "2022-02-18T05:01:42.951Z"
   },
   {
    "duration": 17,
    "start_time": "2022-02-18T05:01:43.811Z"
   },
   {
    "duration": 39,
    "start_time": "2022-02-18T05:01:43.833Z"
   },
   {
    "duration": 12,
    "start_time": "2022-02-18T05:01:43.876Z"
   },
   {
    "duration": 19,
    "start_time": "2022-02-18T05:01:43.891Z"
   },
   {
    "duration": 831,
    "start_time": "2022-02-18T05:01:43.914Z"
   },
   {
    "duration": 15,
    "start_time": "2022-02-18T05:01:44.748Z"
   },
   {
    "duration": 18,
    "start_time": "2022-02-18T05:01:44.765Z"
   },
   {
    "duration": 16,
    "start_time": "2022-02-18T05:01:44.788Z"
   },
   {
    "duration": 7,
    "start_time": "2022-02-18T05:01:44.807Z"
   },
   {
    "duration": 60,
    "start_time": "2022-02-18T05:01:44.816Z"
   },
   {
    "duration": 15,
    "start_time": "2022-02-18T05:01:44.878Z"
   },
   {
    "duration": 20,
    "start_time": "2022-02-18T05:01:44.896Z"
   },
   {
    "duration": 47,
    "start_time": "2022-02-18T05:01:44.919Z"
   },
   {
    "duration": 7,
    "start_time": "2022-02-18T05:01:44.969Z"
   },
   {
    "duration": 7,
    "start_time": "2022-02-18T05:01:44.978Z"
   },
   {
    "duration": 8,
    "start_time": "2022-02-18T05:01:44.987Z"
   },
   {
    "duration": 10,
    "start_time": "2022-02-18T05:01:44.997Z"
   },
   {
    "duration": 76,
    "start_time": "2022-02-18T05:01:45.010Z"
   },
   {
    "duration": 25,
    "start_time": "2022-02-18T05:01:48.140Z"
   },
   {
    "duration": 49,
    "start_time": "2022-02-18T05:02:58.621Z"
   },
   {
    "duration": 45,
    "start_time": "2022-02-18T05:08:57.893Z"
   },
   {
    "duration": 40,
    "start_time": "2022-02-18T05:11:12.704Z"
   },
   {
    "duration": 36,
    "start_time": "2022-02-18T05:11:29.278Z"
   },
   {
    "duration": 32,
    "start_time": "2022-02-18T05:16:39.040Z"
   },
   {
    "duration": 10,
    "start_time": "2022-02-18T05:22:33.599Z"
   },
   {
    "duration": 353,
    "start_time": "2022-02-18T05:23:12.335Z"
   },
   {
    "duration": 9,
    "start_time": "2022-02-18T05:23:25.878Z"
   },
   {
    "duration": 14,
    "start_time": "2022-02-18T05:24:32.726Z"
   },
   {
    "duration": 13,
    "start_time": "2022-02-18T05:25:09.310Z"
   },
   {
    "duration": 8,
    "start_time": "2022-02-18T05:26:38.005Z"
   },
   {
    "duration": 76,
    "start_time": "2022-02-18T05:26:54.504Z"
   },
   {
    "duration": 15,
    "start_time": "2022-02-18T05:26:54.582Z"
   },
   {
    "duration": 12,
    "start_time": "2022-02-18T05:26:54.601Z"
   },
   {
    "duration": 9,
    "start_time": "2022-02-18T05:26:54.615Z"
   },
   {
    "duration": 51,
    "start_time": "2022-02-18T05:26:54.626Z"
   },
   {
    "duration": 825,
    "start_time": "2022-02-18T05:26:54.679Z"
   },
   {
    "duration": 10,
    "start_time": "2022-02-18T05:26:55.506Z"
   },
   {
    "duration": 20,
    "start_time": "2022-02-18T05:26:55.519Z"
   },
   {
    "duration": 18,
    "start_time": "2022-02-18T05:26:55.563Z"
   },
   {
    "duration": 10,
    "start_time": "2022-02-18T05:26:55.583Z"
   },
   {
    "duration": 19,
    "start_time": "2022-02-18T05:26:55.596Z"
   },
   {
    "duration": 54,
    "start_time": "2022-02-18T05:26:55.618Z"
   },
   {
    "duration": 20,
    "start_time": "2022-02-18T05:26:55.675Z"
   },
   {
    "duration": 7,
    "start_time": "2022-02-18T05:26:55.698Z"
   },
   {
    "duration": 11,
    "start_time": "2022-02-18T05:26:55.707Z"
   },
   {
    "duration": 8,
    "start_time": "2022-02-18T05:26:55.761Z"
   },
   {
    "duration": 18,
    "start_time": "2022-02-18T05:26:55.771Z"
   },
   {
    "duration": 11,
    "start_time": "2022-02-18T05:26:55.791Z"
   },
   {
    "duration": 21,
    "start_time": "2022-02-18T05:26:55.805Z"
   },
   {
    "duration": 80,
    "start_time": "2022-02-18T05:26:55.829Z"
   },
   {
    "duration": 57,
    "start_time": "2022-02-18T05:26:55.912Z"
   },
   {
    "duration": 29,
    "start_time": "2022-02-18T05:26:55.972Z"
   },
   {
    "duration": 10,
    "start_time": "2022-02-18T05:26:56.005Z"
   },
   {
    "duration": 44,
    "start_time": "2022-02-18T05:26:56.017Z"
   },
   {
    "duration": 15,
    "start_time": "2022-02-18T05:26:56.064Z"
   },
   {
    "duration": 7,
    "start_time": "2022-02-18T05:26:56.082Z"
   },
   {
    "duration": 31,
    "start_time": "2022-02-18T05:26:56.092Z"
   },
   {
    "duration": 12,
    "start_time": "2022-02-18T05:32:50.239Z"
   },
   {
    "duration": 19,
    "start_time": "2022-02-18T05:34:40.151Z"
   },
   {
    "duration": 15,
    "start_time": "2022-02-18T05:40:29.488Z"
   },
   {
    "duration": 9,
    "start_time": "2022-02-18T05:43:28.555Z"
   },
   {
    "duration": 10,
    "start_time": "2022-02-18T05:43:49.238Z"
   },
   {
    "duration": 381,
    "start_time": "2022-02-18T05:47:01.939Z"
   },
   {
    "duration": 353,
    "start_time": "2022-02-18T05:47:35.138Z"
   },
   {
    "duration": 132,
    "start_time": "2022-02-18T05:47:43.205Z"
   },
   {
    "duration": 348,
    "start_time": "2022-02-18T05:48:08.353Z"
   },
   {
    "duration": 623,
    "start_time": "2022-02-18T05:51:16.112Z"
   },
   {
    "duration": 428,
    "start_time": "2022-02-18T05:52:27.608Z"
   },
   {
    "duration": 341,
    "start_time": "2022-02-18T05:52:47.767Z"
   },
   {
    "duration": 956,
    "start_time": "2022-02-18T05:54:13.695Z"
   },
   {
    "duration": 994,
    "start_time": "2022-02-18T05:54:30.695Z"
   },
   {
    "duration": 634,
    "start_time": "2022-02-18T05:55:39.131Z"
   },
   {
    "duration": 733,
    "start_time": "2022-02-18T05:57:56.559Z"
   },
   {
    "duration": 307,
    "start_time": "2022-02-18T06:02:17.422Z"
   },
   {
    "duration": 236,
    "start_time": "2022-02-18T06:02:57.290Z"
   },
   {
    "duration": 234,
    "start_time": "2022-02-18T06:03:22.695Z"
   },
   {
    "duration": 262,
    "start_time": "2022-02-18T06:05:38.364Z"
   },
   {
    "duration": 448,
    "start_time": "2022-02-18T06:06:17.959Z"
   },
   {
    "duration": 226,
    "start_time": "2022-02-18T06:06:29.407Z"
   },
   {
    "duration": 415,
    "start_time": "2022-02-18T06:07:18.142Z"
   },
   {
    "duration": 232,
    "start_time": "2022-02-18T06:07:51.531Z"
   },
   {
    "duration": 625,
    "start_time": "2022-02-18T06:08:07.645Z"
   },
   {
    "duration": 239,
    "start_time": "2022-02-18T06:08:19.189Z"
   },
   {
    "duration": 61,
    "start_time": "2022-02-18T06:15:17.322Z"
   },
   {
    "duration": 17,
    "start_time": "2022-02-18T06:18:17.391Z"
   },
   {
    "duration": 30,
    "start_time": "2022-02-18T06:19:04.162Z"
   },
   {
    "duration": 33,
    "start_time": "2022-02-18T06:19:12.764Z"
   },
   {
    "duration": 31,
    "start_time": "2022-02-18T06:19:22.236Z"
   },
   {
    "duration": 8015,
    "start_time": "2022-02-18T06:21:27.276Z"
   },
   {
    "duration": 33,
    "start_time": "2022-02-18T06:21:52.679Z"
   },
   {
    "duration": 8083,
    "start_time": "2022-02-18T06:22:10.926Z"
   },
   {
    "duration": 14,
    "start_time": "2022-02-18T06:22:44.921Z"
   },
   {
    "duration": 13,
    "start_time": "2022-02-18T06:23:06.661Z"
   },
   {
    "duration": 12,
    "start_time": "2022-02-18T06:23:30.277Z"
   },
   {
    "duration": 18,
    "start_time": "2022-02-18T06:23:38.519Z"
   },
   {
    "duration": 22,
    "start_time": "2022-02-18T06:25:09.857Z"
   },
   {
    "duration": 21,
    "start_time": "2022-02-18T06:31:25.777Z"
   },
   {
    "duration": 490,
    "start_time": "2022-02-18T06:31:43.502Z"
   },
   {
    "duration": 250,
    "start_time": "2022-02-18T06:32:43.141Z"
   },
   {
    "duration": 307,
    "start_time": "2022-02-18T06:33:07.525Z"
   },
   {
    "duration": 13,
    "start_time": "2022-02-18T06:33:25.706Z"
   },
   {
    "duration": 405,
    "start_time": "2022-02-18T06:34:25.110Z"
   },
   {
    "duration": 282,
    "start_time": "2022-02-18T06:35:06.378Z"
   },
   {
    "duration": 23,
    "start_time": "2022-02-18T06:35:47.280Z"
   },
   {
    "duration": 416,
    "start_time": "2022-02-18T06:35:50.218Z"
   },
   {
    "duration": 15,
    "start_time": "2022-02-18T06:37:32.415Z"
   },
   {
    "duration": 23,
    "start_time": "2022-02-18T06:37:38.401Z"
   },
   {
    "duration": 290,
    "start_time": "2022-02-18T06:39:39.974Z"
   },
   {
    "duration": 24,
    "start_time": "2022-02-18T06:46:20.618Z"
   },
   {
    "duration": 278,
    "start_time": "2022-02-18T06:46:59.838Z"
   },
   {
    "duration": 284,
    "start_time": "2022-02-18T06:47:26.555Z"
   },
   {
    "duration": 268,
    "start_time": "2022-02-18T06:47:40.495Z"
   },
   {
    "duration": 361,
    "start_time": "2022-02-18T06:57:43.132Z"
   },
   {
    "duration": 295,
    "start_time": "2022-02-18T06:57:49.510Z"
   },
   {
    "duration": 328,
    "start_time": "2022-02-18T06:58:49.939Z"
   },
   {
    "duration": 368,
    "start_time": "2022-02-18T06:59:27.139Z"
   },
   {
    "duration": 340,
    "start_time": "2022-02-18T06:59:35.213Z"
   },
   {
    "duration": 345,
    "start_time": "2022-02-18T07:03:26.852Z"
   },
   {
    "duration": 378,
    "start_time": "2022-02-18T07:03:52.303Z"
   },
   {
    "duration": 25,
    "start_time": "2022-02-18T07:07:42.405Z"
   },
   {
    "duration": 362,
    "start_time": "2022-02-18T07:07:49.246Z"
   },
   {
    "duration": 286,
    "start_time": "2022-02-18T07:08:01.320Z"
   },
   {
    "duration": 23,
    "start_time": "2022-02-18T07:08:09.650Z"
   },
   {
    "duration": 405,
    "start_time": "2022-02-18T07:08:13.312Z"
   },
   {
    "duration": 280,
    "start_time": "2022-02-18T07:13:38.931Z"
   },
   {
    "duration": 264,
    "start_time": "2022-02-18T07:13:59.781Z"
   },
   {
    "duration": 567,
    "start_time": "2022-02-18T07:14:21.827Z"
   },
   {
    "duration": 110,
    "start_time": "2022-02-18T07:16:03.891Z"
   },
   {
    "duration": 112,
    "start_time": "2022-02-18T07:16:14.695Z"
   },
   {
    "duration": 277,
    "start_time": "2022-02-18T07:16:25.593Z"
   },
   {
    "duration": 257,
    "start_time": "2022-02-18T07:17:43.004Z"
   },
   {
    "duration": 265,
    "start_time": "2022-02-18T07:18:06.203Z"
   },
   {
    "duration": 356,
    "start_time": "2022-02-18T07:22:23.234Z"
   },
   {
    "duration": 381,
    "start_time": "2022-02-18T07:22:44.643Z"
   },
   {
    "duration": 200,
    "start_time": "2022-02-18T07:23:33.254Z"
   },
   {
    "duration": 241,
    "start_time": "2022-02-18T07:23:54.190Z"
   },
   {
    "duration": 287,
    "start_time": "2022-02-18T07:24:19.921Z"
   },
   {
    "duration": 259,
    "start_time": "2022-02-18T07:28:04.184Z"
   },
   {
    "duration": 29,
    "start_time": "2022-02-18T07:32:04.379Z"
   },
   {
    "duration": 463,
    "start_time": "2022-02-18T07:32:58.526Z"
   },
   {
    "duration": 340,
    "start_time": "2022-02-18T07:42:38.601Z"
   },
   {
    "duration": 336,
    "start_time": "2022-02-18T07:42:59.776Z"
   },
   {
    "duration": 25,
    "start_time": "2022-02-18T07:44:42.530Z"
   },
   {
    "duration": 345,
    "start_time": "2022-02-18T07:45:38.285Z"
   },
   {
    "duration": 350,
    "start_time": "2022-02-18T07:46:33.896Z"
   },
   {
    "duration": 31,
    "start_time": "2022-02-18T07:57:59.755Z"
   },
   {
    "duration": 339,
    "start_time": "2022-02-18T07:58:58.643Z"
   },
   {
    "duration": 31,
    "start_time": "2022-02-18T08:01:04.212Z"
   },
   {
    "duration": 43,
    "start_time": "2022-02-18T08:01:54.483Z"
   },
   {
    "duration": 496,
    "start_time": "2022-02-18T08:02:44.023Z"
   },
   {
    "duration": 336,
    "start_time": "2022-02-18T08:03:29.304Z"
   },
   {
    "duration": 29,
    "start_time": "2022-02-18T08:33:40.122Z"
   },
   {
    "duration": 348,
    "start_time": "2022-02-18T08:33:52.260Z"
   },
   {
    "duration": 305,
    "start_time": "2022-02-18T08:34:10.277Z"
   },
   {
    "duration": 27,
    "start_time": "2022-02-18T08:37:55.492Z"
   },
   {
    "duration": 285,
    "start_time": "2022-02-18T08:38:08.023Z"
   },
   {
    "duration": 44,
    "start_time": "2022-02-18T08:40:42.964Z"
   },
   {
    "duration": 338,
    "start_time": "2022-02-18T08:40:47.801Z"
   },
   {
    "duration": 271,
    "start_time": "2022-02-18T08:43:16.324Z"
   },
   {
    "duration": 245,
    "start_time": "2022-02-18T08:43:31.100Z"
   },
   {
    "duration": 253,
    "start_time": "2022-02-18T08:43:57.875Z"
   },
   {
    "duration": 9,
    "start_time": "2022-02-18T08:44:02.532Z"
   },
   {
    "duration": 27,
    "start_time": "2022-02-18T08:45:28.787Z"
   },
   {
    "duration": 489,
    "start_time": "2022-02-18T08:45:31.212Z"
   },
   {
    "duration": 40,
    "start_time": "2022-02-18T08:47:20.599Z"
   },
   {
    "duration": 338,
    "start_time": "2022-02-18T08:47:24.088Z"
   },
   {
    "duration": 32,
    "start_time": "2022-02-18T08:57:33.259Z"
   },
   {
    "duration": 487,
    "start_time": "2022-02-18T09:13:48.444Z"
   },
   {
    "duration": 692,
    "start_time": "2022-02-18T09:14:06.185Z"
   },
   {
    "duration": 678,
    "start_time": "2022-02-18T09:14:22.669Z"
   },
   {
    "duration": 329,
    "start_time": "2022-02-18T09:15:16.974Z"
   },
   {
    "duration": 375,
    "start_time": "2022-02-18T09:15:27.081Z"
   },
   {
    "duration": 32,
    "start_time": "2022-02-18T09:15:30.006Z"
   },
   {
    "duration": 437,
    "start_time": "2022-02-18T09:15:32.840Z"
   },
   {
    "duration": 410,
    "start_time": "2022-02-18T09:16:27.312Z"
   },
   {
    "duration": 345,
    "start_time": "2022-02-18T09:17:04.008Z"
   },
   {
    "duration": 39,
    "start_time": "2022-02-18T09:21:39.806Z"
   },
   {
    "duration": 23,
    "start_time": "2022-02-18T09:42:25.874Z"
   },
   {
    "duration": 282,
    "start_time": "2022-02-18T09:42:31.393Z"
   },
   {
    "duration": 148,
    "start_time": "2022-02-18T09:47:36.404Z"
   },
   {
    "duration": 326,
    "start_time": "2022-02-18T09:47:40.929Z"
   },
   {
    "duration": 289,
    "start_time": "2022-02-18T09:52:51.821Z"
   },
   {
    "duration": 379,
    "start_time": "2022-02-18T09:54:49.173Z"
   },
   {
    "duration": 103,
    "start_time": "2022-02-18T09:54:56.896Z"
   },
   {
    "duration": 107,
    "start_time": "2022-02-18T09:55:03.544Z"
   },
   {
    "duration": 342,
    "start_time": "2022-02-18T09:55:32.926Z"
   },
   {
    "duration": 30,
    "start_time": "2022-02-18T09:57:29.257Z"
   },
   {
    "duration": 336,
    "start_time": "2022-02-18T09:57:37.477Z"
   },
   {
    "duration": 26,
    "start_time": "2022-02-18T09:57:55.178Z"
   },
   {
    "duration": 339,
    "start_time": "2022-02-18T09:57:58.049Z"
   },
   {
    "duration": 274,
    "start_time": "2022-02-18T09:59:18.634Z"
   },
   {
    "duration": 375,
    "start_time": "2022-02-18T10:00:05.934Z"
   },
   {
    "duration": 27,
    "start_time": "2022-02-18T10:04:06.793Z"
   },
   {
    "duration": 26,
    "start_time": "2022-02-18T10:04:25.649Z"
   },
   {
    "duration": 192,
    "start_time": "2022-02-18T10:04:32.083Z"
   },
   {
    "duration": 310,
    "start_time": "2022-02-18T10:04:43.289Z"
   },
   {
    "duration": 295,
    "start_time": "2022-02-18T10:06:09.773Z"
   },
   {
    "duration": 299,
    "start_time": "2022-02-18T10:06:47.207Z"
   },
   {
    "duration": 299,
    "start_time": "2022-02-18T10:07:26.373Z"
   },
   {
    "duration": 24,
    "start_time": "2022-02-18T10:07:28.356Z"
   },
   {
    "duration": 24,
    "start_time": "2022-02-18T10:07:49.588Z"
   },
   {
    "duration": 412,
    "start_time": "2022-02-18T10:07:58.432Z"
   },
   {
    "duration": 359,
    "start_time": "2022-02-18T10:25:02.050Z"
   },
   {
    "duration": 24,
    "start_time": "2022-02-18T10:25:10.730Z"
   },
   {
    "duration": 265,
    "start_time": "2022-02-18T10:25:14.164Z"
   },
   {
    "duration": 289,
    "start_time": "2022-02-18T10:35:28.162Z"
   },
   {
    "duration": 261,
    "start_time": "2022-02-18T10:53:19.812Z"
   },
   {
    "duration": 76,
    "start_time": "2022-02-18T11:10:46.435Z"
   },
   {
    "duration": 14,
    "start_time": "2022-02-18T11:10:46.514Z"
   },
   {
    "duration": 12,
    "start_time": "2022-02-18T11:10:46.562Z"
   },
   {
    "duration": 9,
    "start_time": "2022-02-18T11:10:46.577Z"
   },
   {
    "duration": 19,
    "start_time": "2022-02-18T11:10:46.588Z"
   },
   {
    "duration": 816,
    "start_time": "2022-02-18T11:10:46.611Z"
   },
   {
    "duration": 12,
    "start_time": "2022-02-18T11:10:47.430Z"
   },
   {
    "duration": 29,
    "start_time": "2022-02-18T11:10:47.446Z"
   },
   {
    "duration": 16,
    "start_time": "2022-02-18T11:10:47.479Z"
   },
   {
    "duration": 11,
    "start_time": "2022-02-18T11:10:47.498Z"
   },
   {
    "duration": 62,
    "start_time": "2022-02-18T11:10:47.511Z"
   },
   {
    "duration": 16,
    "start_time": "2022-02-18T11:10:47.576Z"
   },
   {
    "duration": 19,
    "start_time": "2022-02-18T11:10:47.595Z"
   },
   {
    "duration": 46,
    "start_time": "2022-02-18T11:10:47.617Z"
   },
   {
    "duration": 9,
    "start_time": "2022-02-18T11:10:47.667Z"
   },
   {
    "duration": 6,
    "start_time": "2022-02-18T11:10:47.678Z"
   },
   {
    "duration": 8,
    "start_time": "2022-02-18T11:10:47.686Z"
   },
   {
    "duration": 8,
    "start_time": "2022-02-18T11:10:47.697Z"
   },
   {
    "duration": 70,
    "start_time": "2022-02-18T11:10:47.708Z"
   },
   {
    "duration": 50,
    "start_time": "2022-02-18T11:10:47.780Z"
   },
   {
    "duration": 59,
    "start_time": "2022-02-18T11:10:47.832Z"
   },
   {
    "duration": 30,
    "start_time": "2022-02-18T11:10:47.894Z"
   },
   {
    "duration": 33,
    "start_time": "2022-02-18T11:10:47.928Z"
   },
   {
    "duration": 14,
    "start_time": "2022-02-18T11:10:47.964Z"
   },
   {
    "duration": 15,
    "start_time": "2022-02-18T11:10:47.980Z"
   },
   {
    "duration": 7,
    "start_time": "2022-02-18T11:10:47.997Z"
   },
   {
    "duration": 67,
    "start_time": "2022-02-18T11:10:48.007Z"
   },
   {
    "duration": 24,
    "start_time": "2022-02-18T11:10:48.076Z"
   },
   {
    "duration": 319,
    "start_time": "2022-02-18T11:10:48.102Z"
   },
   {
    "duration": 39,
    "start_time": "2022-02-18T11:10:48.423Z"
   },
   {
    "duration": 308,
    "start_time": "2022-02-18T11:10:48.465Z"
   },
   {
    "duration": 21,
    "start_time": "2022-02-18T11:10:48.776Z"
   },
   {
    "duration": 347,
    "start_time": "2022-02-18T11:10:48.800Z"
   },
   {
    "duration": 34,
    "start_time": "2022-02-18T11:10:49.150Z"
   },
   {
    "duration": 292,
    "start_time": "2022-02-18T11:10:49.187Z"
   },
   {
    "duration": 902,
    "start_time": "2022-02-19T09:16:33.520Z"
   },
   {
    "duration": 14,
    "start_time": "2022-02-19T09:16:34.424Z"
   },
   {
    "duration": 30,
    "start_time": "2022-02-19T09:16:34.441Z"
   },
   {
    "duration": 10,
    "start_time": "2022-02-19T09:16:34.474Z"
   },
   {
    "duration": 20,
    "start_time": "2022-02-19T09:16:34.486Z"
   },
   {
    "duration": 871,
    "start_time": "2022-02-19T09:16:34.509Z"
   },
   {
    "duration": 8,
    "start_time": "2022-02-19T09:16:35.383Z"
   },
   {
    "duration": 16,
    "start_time": "2022-02-19T09:16:35.395Z"
   },
   {
    "duration": 15,
    "start_time": "2022-02-19T09:16:35.414Z"
   },
   {
    "duration": 37,
    "start_time": "2022-02-19T09:16:35.431Z"
   },
   {
    "duration": 23,
    "start_time": "2022-02-19T09:16:35.470Z"
   },
   {
    "duration": 16,
    "start_time": "2022-02-19T09:16:35.495Z"
   },
   {
    "duration": 59,
    "start_time": "2022-02-19T09:16:35.513Z"
   },
   {
    "duration": 8,
    "start_time": "2022-02-19T09:16:35.574Z"
   },
   {
    "duration": 13,
    "start_time": "2022-02-19T09:16:35.584Z"
   },
   {
    "duration": 6,
    "start_time": "2022-02-19T09:16:35.600Z"
   },
   {
    "duration": 7,
    "start_time": "2022-02-19T09:16:35.609Z"
   },
   {
    "duration": 44,
    "start_time": "2022-02-19T09:16:35.619Z"
   },
   {
    "duration": 23,
    "start_time": "2022-02-19T09:16:35.666Z"
   },
   {
    "duration": 83,
    "start_time": "2022-02-19T09:16:35.692Z"
   },
   {
    "duration": 39,
    "start_time": "2022-02-19T09:16:35.778Z"
   },
   {
    "duration": 54,
    "start_time": "2022-02-19T09:16:35.819Z"
   },
   {
    "duration": 17,
    "start_time": "2022-02-19T09:16:35.878Z"
   },
   {
    "duration": 12,
    "start_time": "2022-02-19T09:16:35.898Z"
   },
   {
    "duration": 12,
    "start_time": "2022-02-19T09:16:35.912Z"
   },
   {
    "duration": 37,
    "start_time": "2022-02-19T09:16:35.927Z"
   },
   {
    "duration": 34,
    "start_time": "2022-02-19T09:16:35.967Z"
   },
   {
    "duration": 32,
    "start_time": "2022-02-19T09:16:36.004Z"
   },
   {
    "duration": 407,
    "start_time": "2022-02-19T09:16:36.061Z"
   },
   {
    "duration": 22,
    "start_time": "2022-02-19T09:16:36.471Z"
   },
   {
    "duration": 305,
    "start_time": "2022-02-19T09:16:36.495Z"
   },
   {
    "duration": 23,
    "start_time": "2022-02-19T09:16:36.802Z"
   },
   {
    "duration": 306,
    "start_time": "2022-02-19T09:16:36.828Z"
   },
   {
    "duration": 34,
    "start_time": "2022-02-19T09:16:37.136Z"
   },
   {
    "duration": 349,
    "start_time": "2022-02-19T09:16:37.173Z"
   },
   {
    "duration": 5,
    "start_time": "2022-02-19T09:21:22.633Z"
   },
   {
    "duration": 5,
    "start_time": "2022-02-19T09:21:28.472Z"
   }
  ],
  "kernelspec": {
   "display_name": "Python 3 (ipykernel)",
   "language": "python",
   "name": "python3"
  },
  "language_info": {
   "codemirror_mode": {
    "name": "ipython",
    "version": 3
   },
   "file_extension": ".py",
   "mimetype": "text/x-python",
   "name": "python",
   "nbconvert_exporter": "python",
   "pygments_lexer": "ipython3",
   "version": "3.9.7"
  },
  "toc": {
   "base_numbering": 1,
   "nav_menu": {},
   "number_sections": true,
   "sideBar": true,
   "skip_h1_title": true,
   "title_cell": "Table of Contents",
   "title_sidebar": "Contents",
   "toc_cell": false,
   "toc_position": {},
   "toc_section_display": true,
   "toc_window_display": false
  }
 },
 "nbformat": 4,
 "nbformat_minor": 5
}

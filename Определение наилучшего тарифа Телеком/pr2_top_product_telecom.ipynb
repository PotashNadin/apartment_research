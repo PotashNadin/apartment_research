{
 "cells": [
  {
   "cell_type": "markdown",
   "id": "9dd26d24",
   "metadata": {},
   "source": [
    "# Определение перспективного тарифа для телеком-компании Megaline"
   ]
  },
  {
   "cell_type": "markdown",
   "id": "0db5917a",
   "metadata": {},
   "source": [
    "## Обзор данных"
   ]
  },
  {
   "cell_type": "code",
   "execution_count": 1,
   "id": "82811783",
   "metadata": {},
   "outputs": [
    {
     "data": {
      "text/html": [
       "<div>\n",
       "<style scoped>\n",
       "    .dataframe tbody tr th:only-of-type {\n",
       "        vertical-align: middle;\n",
       "    }\n",
       "\n",
       "    .dataframe tbody tr th {\n",
       "        vertical-align: top;\n",
       "    }\n",
       "\n",
       "    .dataframe thead th {\n",
       "        text-align: right;\n",
       "    }\n",
       "</style>\n",
       "<table border=\"1\" class=\"dataframe\">\n",
       "  <thead>\n",
       "    <tr style=\"text-align: right;\">\n",
       "      <th></th>\n",
       "      <th>id</th>\n",
       "      <th>call_date</th>\n",
       "      <th>duration</th>\n",
       "      <th>user_id</th>\n",
       "    </tr>\n",
       "  </thead>\n",
       "  <tbody>\n",
       "    <tr>\n",
       "      <th>0</th>\n",
       "      <td>1000_0</td>\n",
       "      <td>2018-07-25</td>\n",
       "      <td>0.00</td>\n",
       "      <td>1000</td>\n",
       "    </tr>\n",
       "    <tr>\n",
       "      <th>1</th>\n",
       "      <td>1000_1</td>\n",
       "      <td>2018-08-17</td>\n",
       "      <td>0.00</td>\n",
       "      <td>1000</td>\n",
       "    </tr>\n",
       "    <tr>\n",
       "      <th>2</th>\n",
       "      <td>1000_2</td>\n",
       "      <td>2018-06-11</td>\n",
       "      <td>2.85</td>\n",
       "      <td>1000</td>\n",
       "    </tr>\n",
       "    <tr>\n",
       "      <th>3</th>\n",
       "      <td>1000_3</td>\n",
       "      <td>2018-09-21</td>\n",
       "      <td>13.80</td>\n",
       "      <td>1000</td>\n",
       "    </tr>\n",
       "    <tr>\n",
       "      <th>4</th>\n",
       "      <td>1000_4</td>\n",
       "      <td>2018-12-15</td>\n",
       "      <td>5.18</td>\n",
       "      <td>1000</td>\n",
       "    </tr>\n",
       "  </tbody>\n",
       "</table>\n",
       "</div>"
      ],
      "text/plain": [
       "       id   call_date  duration  user_id\n",
       "0  1000_0  2018-07-25      0.00     1000\n",
       "1  1000_1  2018-08-17      0.00     1000\n",
       "2  1000_2  2018-06-11      2.85     1000\n",
       "3  1000_3  2018-09-21     13.80     1000\n",
       "4  1000_4  2018-12-15      5.18     1000"
      ]
     },
     "metadata": {},
     "output_type": "display_data"
    },
    {
     "name": "stdout",
     "output_type": "stream",
     "text": [
      "<class 'pandas.core.frame.DataFrame'>\n",
      "RangeIndex: 202607 entries, 0 to 202606\n",
      "Data columns (total 4 columns):\n",
      " #   Column     Non-Null Count   Dtype  \n",
      "---  ------     --------------   -----  \n",
      " 0   id         202607 non-null  object \n",
      " 1   call_date  202607 non-null  object \n",
      " 2   duration   202607 non-null  float64\n",
      " 3   user_id    202607 non-null  int64  \n",
      "dtypes: float64(1), int64(1), object(2)\n",
      "memory usage: 6.2+ MB\n"
     ]
    }
   ],
   "source": [
    "from scipy import stats as st\n",
    "import pandas as pd\n",
    "import numpy as np\n",
    "from functools import reduce\n",
    "import matplotlib.pyplot as plt\n",
    "\n",
    "df_calls = pd.read_csv('/datasets/calls.csv')\n",
    "display(df_calls.head())\n",
    "df_calls.info()"
   ]
  },
  {
   "cell_type": "code",
   "execution_count": 2,
   "id": "e5ecdaa7",
   "metadata": {
    "scrolled": false
   },
   "outputs": [
    {
     "data": {
      "text/html": [
       "<div>\n",
       "<style scoped>\n",
       "    .dataframe tbody tr th:only-of-type {\n",
       "        vertical-align: middle;\n",
       "    }\n",
       "\n",
       "    .dataframe tbody tr th {\n",
       "        vertical-align: top;\n",
       "    }\n",
       "\n",
       "    .dataframe thead th {\n",
       "        text-align: right;\n",
       "    }\n",
       "</style>\n",
       "<table border=\"1\" class=\"dataframe\">\n",
       "  <thead>\n",
       "    <tr style=\"text-align: right;\">\n",
       "      <th></th>\n",
       "      <th>user_id</th>\n",
       "      <th>age</th>\n",
       "      <th>churn_date</th>\n",
       "      <th>city</th>\n",
       "      <th>first_name</th>\n",
       "      <th>last_name</th>\n",
       "      <th>reg_date</th>\n",
       "      <th>tariff</th>\n",
       "    </tr>\n",
       "  </thead>\n",
       "  <tbody>\n",
       "    <tr>\n",
       "      <th>0</th>\n",
       "      <td>1000</td>\n",
       "      <td>52</td>\n",
       "      <td>NaN</td>\n",
       "      <td>Краснодар</td>\n",
       "      <td>Рафаил</td>\n",
       "      <td>Верещагин</td>\n",
       "      <td>2018-05-25</td>\n",
       "      <td>ultra</td>\n",
       "    </tr>\n",
       "    <tr>\n",
       "      <th>1</th>\n",
       "      <td>1001</td>\n",
       "      <td>41</td>\n",
       "      <td>NaN</td>\n",
       "      <td>Москва</td>\n",
       "      <td>Иван</td>\n",
       "      <td>Ежов</td>\n",
       "      <td>2018-11-01</td>\n",
       "      <td>smart</td>\n",
       "    </tr>\n",
       "    <tr>\n",
       "      <th>2</th>\n",
       "      <td>1002</td>\n",
       "      <td>59</td>\n",
       "      <td>NaN</td>\n",
       "      <td>Стерлитамак</td>\n",
       "      <td>Евгений</td>\n",
       "      <td>Абрамович</td>\n",
       "      <td>2018-06-17</td>\n",
       "      <td>smart</td>\n",
       "    </tr>\n",
       "    <tr>\n",
       "      <th>3</th>\n",
       "      <td>1003</td>\n",
       "      <td>23</td>\n",
       "      <td>NaN</td>\n",
       "      <td>Москва</td>\n",
       "      <td>Белла</td>\n",
       "      <td>Белякова</td>\n",
       "      <td>2018-08-17</td>\n",
       "      <td>ultra</td>\n",
       "    </tr>\n",
       "    <tr>\n",
       "      <th>4</th>\n",
       "      <td>1004</td>\n",
       "      <td>68</td>\n",
       "      <td>NaN</td>\n",
       "      <td>Новокузнецк</td>\n",
       "      <td>Татьяна</td>\n",
       "      <td>Авдеенко</td>\n",
       "      <td>2018-05-14</td>\n",
       "      <td>ultra</td>\n",
       "    </tr>\n",
       "  </tbody>\n",
       "</table>\n",
       "</div>"
      ],
      "text/plain": [
       "   user_id  age churn_date         city first_name  last_name    reg_date  \\\n",
       "0     1000   52        NaN    Краснодар     Рафаил  Верещагин  2018-05-25   \n",
       "1     1001   41        NaN       Москва       Иван       Ежов  2018-11-01   \n",
       "2     1002   59        NaN  Стерлитамак    Евгений  Абрамович  2018-06-17   \n",
       "3     1003   23        NaN       Москва      Белла   Белякова  2018-08-17   \n",
       "4     1004   68        NaN  Новокузнецк    Татьяна   Авдеенко  2018-05-14   \n",
       "\n",
       "  tariff  \n",
       "0  ultra  \n",
       "1  smart  \n",
       "2  smart  \n",
       "3  ultra  \n",
       "4  ultra  "
      ]
     },
     "metadata": {},
     "output_type": "display_data"
    },
    {
     "name": "stdout",
     "output_type": "stream",
     "text": [
      "<class 'pandas.core.frame.DataFrame'>\n",
      "RangeIndex: 500 entries, 0 to 499\n",
      "Data columns (total 8 columns):\n",
      " #   Column      Non-Null Count  Dtype \n",
      "---  ------      --------------  ----- \n",
      " 0   user_id     500 non-null    int64 \n",
      " 1   age         500 non-null    int64 \n",
      " 2   churn_date  38 non-null     object\n",
      " 3   city        500 non-null    object\n",
      " 4   first_name  500 non-null    object\n",
      " 5   last_name   500 non-null    object\n",
      " 6   reg_date    500 non-null    object\n",
      " 7   tariff      500 non-null    object\n",
      "dtypes: int64(2), object(6)\n",
      "memory usage: 31.4+ KB\n"
     ]
    }
   ],
   "source": [
    "df_users = pd.read_csv('/datasets/users.csv')\n",
    "display(df_users.head())\n",
    "df_users.info()"
   ]
  },
  {
   "cell_type": "code",
   "execution_count": 3,
   "id": "5edf4049",
   "metadata": {},
   "outputs": [
    {
     "data": {
      "text/html": [
       "<div>\n",
       "<style scoped>\n",
       "    .dataframe tbody tr th:only-of-type {\n",
       "        vertical-align: middle;\n",
       "    }\n",
       "\n",
       "    .dataframe tbody tr th {\n",
       "        vertical-align: top;\n",
       "    }\n",
       "\n",
       "    .dataframe thead th {\n",
       "        text-align: right;\n",
       "    }\n",
       "</style>\n",
       "<table border=\"1\" class=\"dataframe\">\n",
       "  <thead>\n",
       "    <tr style=\"text-align: right;\">\n",
       "      <th></th>\n",
       "      <th>id</th>\n",
       "      <th>message_date</th>\n",
       "      <th>user_id</th>\n",
       "    </tr>\n",
       "  </thead>\n",
       "  <tbody>\n",
       "    <tr>\n",
       "      <th>0</th>\n",
       "      <td>1000_0</td>\n",
       "      <td>2018-06-27</td>\n",
       "      <td>1000</td>\n",
       "    </tr>\n",
       "    <tr>\n",
       "      <th>1</th>\n",
       "      <td>1000_1</td>\n",
       "      <td>2018-10-08</td>\n",
       "      <td>1000</td>\n",
       "    </tr>\n",
       "    <tr>\n",
       "      <th>2</th>\n",
       "      <td>1000_2</td>\n",
       "      <td>2018-08-04</td>\n",
       "      <td>1000</td>\n",
       "    </tr>\n",
       "    <tr>\n",
       "      <th>3</th>\n",
       "      <td>1000_3</td>\n",
       "      <td>2018-06-16</td>\n",
       "      <td>1000</td>\n",
       "    </tr>\n",
       "    <tr>\n",
       "      <th>4</th>\n",
       "      <td>1000_4</td>\n",
       "      <td>2018-12-05</td>\n",
       "      <td>1000</td>\n",
       "    </tr>\n",
       "  </tbody>\n",
       "</table>\n",
       "</div>"
      ],
      "text/plain": [
       "       id message_date  user_id\n",
       "0  1000_0   2018-06-27     1000\n",
       "1  1000_1   2018-10-08     1000\n",
       "2  1000_2   2018-08-04     1000\n",
       "3  1000_3   2018-06-16     1000\n",
       "4  1000_4   2018-12-05     1000"
      ]
     },
     "metadata": {},
     "output_type": "display_data"
    },
    {
     "name": "stdout",
     "output_type": "stream",
     "text": [
      "<class 'pandas.core.frame.DataFrame'>\n",
      "RangeIndex: 123036 entries, 0 to 123035\n",
      "Data columns (total 3 columns):\n",
      " #   Column        Non-Null Count   Dtype \n",
      "---  ------        --------------   ----- \n",
      " 0   id            123036 non-null  object\n",
      " 1   message_date  123036 non-null  object\n",
      " 2   user_id       123036 non-null  int64 \n",
      "dtypes: int64(1), object(2)\n",
      "memory usage: 2.8+ MB\n"
     ]
    }
   ],
   "source": [
    "df_messages = pd.read_csv('/datasets/messages.csv')\n",
    "display(df_messages.head())\n",
    "df_messages.info()"
   ]
  },
  {
   "cell_type": "code",
   "execution_count": 4,
   "id": "2cff1185",
   "metadata": {},
   "outputs": [
    {
     "data": {
      "text/html": [
       "<div>\n",
       "<style scoped>\n",
       "    .dataframe tbody tr th:only-of-type {\n",
       "        vertical-align: middle;\n",
       "    }\n",
       "\n",
       "    .dataframe tbody tr th {\n",
       "        vertical-align: top;\n",
       "    }\n",
       "\n",
       "    .dataframe thead th {\n",
       "        text-align: right;\n",
       "    }\n",
       "</style>\n",
       "<table border=\"1\" class=\"dataframe\">\n",
       "  <thead>\n",
       "    <tr style=\"text-align: right;\">\n",
       "      <th></th>\n",
       "      <th>messages_included</th>\n",
       "      <th>mb_per_month_included</th>\n",
       "      <th>minutes_included</th>\n",
       "      <th>rub_monthly_fee</th>\n",
       "      <th>rub_per_gb</th>\n",
       "      <th>rub_per_message</th>\n",
       "      <th>rub_per_minute</th>\n",
       "      <th>tariff_name</th>\n",
       "    </tr>\n",
       "  </thead>\n",
       "  <tbody>\n",
       "    <tr>\n",
       "      <th>0</th>\n",
       "      <td>50</td>\n",
       "      <td>15360</td>\n",
       "      <td>500</td>\n",
       "      <td>550</td>\n",
       "      <td>200</td>\n",
       "      <td>3</td>\n",
       "      <td>3</td>\n",
       "      <td>smart</td>\n",
       "    </tr>\n",
       "    <tr>\n",
       "      <th>1</th>\n",
       "      <td>1000</td>\n",
       "      <td>30720</td>\n",
       "      <td>3000</td>\n",
       "      <td>1950</td>\n",
       "      <td>150</td>\n",
       "      <td>1</td>\n",
       "      <td>1</td>\n",
       "      <td>ultra</td>\n",
       "    </tr>\n",
       "  </tbody>\n",
       "</table>\n",
       "</div>"
      ],
      "text/plain": [
       "   messages_included  mb_per_month_included  minutes_included  \\\n",
       "0                 50                  15360               500   \n",
       "1               1000                  30720              3000   \n",
       "\n",
       "   rub_monthly_fee  rub_per_gb  rub_per_message  rub_per_minute tariff_name  \n",
       "0              550         200                3               3       smart  \n",
       "1             1950         150                1               1       ultra  "
      ]
     },
     "metadata": {},
     "output_type": "display_data"
    },
    {
     "name": "stdout",
     "output_type": "stream",
     "text": [
      "<class 'pandas.core.frame.DataFrame'>\n",
      "RangeIndex: 2 entries, 0 to 1\n",
      "Data columns (total 8 columns):\n",
      " #   Column                 Non-Null Count  Dtype \n",
      "---  ------                 --------------  ----- \n",
      " 0   messages_included      2 non-null      int64 \n",
      " 1   mb_per_month_included  2 non-null      int64 \n",
      " 2   minutes_included       2 non-null      int64 \n",
      " 3   rub_monthly_fee        2 non-null      int64 \n",
      " 4   rub_per_gb             2 non-null      int64 \n",
      " 5   rub_per_message        2 non-null      int64 \n",
      " 6   rub_per_minute         2 non-null      int64 \n",
      " 7   tariff_name            2 non-null      object\n",
      "dtypes: int64(7), object(1)\n",
      "memory usage: 256.0+ bytes\n"
     ]
    }
   ],
   "source": [
    "df_tariffs = pd.read_csv('/datasets/tariffs.csv')\n",
    "display(df_tariffs.head())\n",
    "df_tariffs.info()"
   ]
  },
  {
   "cell_type": "code",
   "execution_count": 5,
   "id": "0d82081a",
   "metadata": {},
   "outputs": [
    {
     "data": {
      "text/html": [
       "<div>\n",
       "<style scoped>\n",
       "    .dataframe tbody tr th:only-of-type {\n",
       "        vertical-align: middle;\n",
       "    }\n",
       "\n",
       "    .dataframe tbody tr th {\n",
       "        vertical-align: top;\n",
       "    }\n",
       "\n",
       "    .dataframe thead th {\n",
       "        text-align: right;\n",
       "    }\n",
       "</style>\n",
       "<table border=\"1\" class=\"dataframe\">\n",
       "  <thead>\n",
       "    <tr style=\"text-align: right;\">\n",
       "      <th></th>\n",
       "      <th>Unnamed: 0</th>\n",
       "      <th>id</th>\n",
       "      <th>mb_used</th>\n",
       "      <th>session_date</th>\n",
       "      <th>user_id</th>\n",
       "    </tr>\n",
       "  </thead>\n",
       "  <tbody>\n",
       "    <tr>\n",
       "      <th>0</th>\n",
       "      <td>0</td>\n",
       "      <td>1000_0</td>\n",
       "      <td>112.95</td>\n",
       "      <td>2018-11-25</td>\n",
       "      <td>1000</td>\n",
       "    </tr>\n",
       "    <tr>\n",
       "      <th>1</th>\n",
       "      <td>1</td>\n",
       "      <td>1000_1</td>\n",
       "      <td>1052.81</td>\n",
       "      <td>2018-09-07</td>\n",
       "      <td>1000</td>\n",
       "    </tr>\n",
       "    <tr>\n",
       "      <th>2</th>\n",
       "      <td>2</td>\n",
       "      <td>1000_2</td>\n",
       "      <td>1197.26</td>\n",
       "      <td>2018-06-25</td>\n",
       "      <td>1000</td>\n",
       "    </tr>\n",
       "    <tr>\n",
       "      <th>3</th>\n",
       "      <td>3</td>\n",
       "      <td>1000_3</td>\n",
       "      <td>550.27</td>\n",
       "      <td>2018-08-22</td>\n",
       "      <td>1000</td>\n",
       "    </tr>\n",
       "    <tr>\n",
       "      <th>4</th>\n",
       "      <td>4</td>\n",
       "      <td>1000_4</td>\n",
       "      <td>302.56</td>\n",
       "      <td>2018-09-24</td>\n",
       "      <td>1000</td>\n",
       "    </tr>\n",
       "  </tbody>\n",
       "</table>\n",
       "</div>"
      ],
      "text/plain": [
       "   Unnamed: 0      id  mb_used session_date  user_id\n",
       "0           0  1000_0   112.95   2018-11-25     1000\n",
       "1           1  1000_1  1052.81   2018-09-07     1000\n",
       "2           2  1000_2  1197.26   2018-06-25     1000\n",
       "3           3  1000_3   550.27   2018-08-22     1000\n",
       "4           4  1000_4   302.56   2018-09-24     1000"
      ]
     },
     "metadata": {},
     "output_type": "display_data"
    },
    {
     "name": "stdout",
     "output_type": "stream",
     "text": [
      "<class 'pandas.core.frame.DataFrame'>\n",
      "RangeIndex: 149396 entries, 0 to 149395\n",
      "Data columns (total 5 columns):\n",
      " #   Column        Non-Null Count   Dtype  \n",
      "---  ------        --------------   -----  \n",
      " 0   Unnamed: 0    149396 non-null  int64  \n",
      " 1   id            149396 non-null  object \n",
      " 2   mb_used       149396 non-null  float64\n",
      " 3   session_date  149396 non-null  object \n",
      " 4   user_id       149396 non-null  int64  \n",
      "dtypes: float64(1), int64(2), object(2)\n",
      "memory usage: 5.7+ MB\n"
     ]
    }
   ],
   "source": [
    "df_internet = pd.read_csv('/datasets/internet.csv')\n",
    "display(df_internet.head())\n",
    "df_internet.info()"
   ]
  },
  {
   "cell_type": "markdown",
   "id": "d8643937",
   "metadata": {},
   "source": [
    "Данные предоставленны хорошие: наименования столбцов названы корректно,типы данных почти всегде верные."
   ]
  },
  {
   "cell_type": "markdown",
   "id": "d7c43bdc",
   "metadata": {},
   "source": [
    "### Приведение данных к нужному типу"
   ]
  },
  {
   "cell_type": "code",
   "execution_count": 6,
   "id": "3fbc740b",
   "metadata": {},
   "outputs": [],
   "source": [
    "#переводим столбцы с датами в удобный формат datetime\n",
    "df_internet['session_date'] = pd.to_datetime(df_internet['session_date'],format='%Y-%m-%d')\n",
    "df_messages['message_date'] = pd.to_datetime(df_messages['message_date'],format='%Y-%m-%d')\n",
    "df_users['reg_date'] = pd.to_datetime(df_users['reg_date'],format='%Y-%m-%d')\n",
    "df_users['churn_date'] = pd.to_datetime(df_users['churn_date'],format='%Y-%m-%d')\n",
    "df_calls['call_date'] = pd.to_datetime(df_calls['call_date'],format='%Y-%m-%d')"
   ]
  },
  {
   "cell_type": "markdown",
   "id": "878893d9",
   "metadata": {},
   "source": [
    "### Исправление ошибок в данных"
   ]
  },
  {
   "cell_type": "code",
   "execution_count": 7,
   "id": "a5259f74",
   "metadata": {
    "scrolled": true
   },
   "outputs": [
    {
     "name": "stdout",
     "output_type": "stream",
     "text": [
      "0\n",
      "0\n",
      "0\n",
      "0\n"
     ]
    }
   ],
   "source": [
    "print(df_calls.duplicated().sum())#проверили датасеты на дубликаты\n",
    "print(df_internet.duplicated().sum())\n",
    "print(df_messages.duplicated().sum())\n",
    "print(df_users.duplicated().sum())"
   ]
  },
  {
   "cell_type": "code",
   "execution_count": 8,
   "id": "5cc77598",
   "metadata": {
    "scrolled": false
   },
   "outputs": [
    {
     "name": "stdout",
     "output_type": "stream",
     "text": [
      "id           0\n",
      "call_date    0\n",
      "duration     0\n",
      "user_id      0\n",
      "dtype: int64\n",
      "Unnamed: 0      0\n",
      "id              0\n",
      "mb_used         0\n",
      "session_date    0\n",
      "user_id         0\n",
      "dtype: int64\n",
      "id              0\n",
      "message_date    0\n",
      "user_id         0\n",
      "dtype: int64\n",
      "user_id         0\n",
      "age             0\n",
      "churn_date    462\n",
      "city            0\n",
      "first_name      0\n",
      "last_name       0\n",
      "reg_date        0\n",
      "tariff          0\n",
      "dtype: int64\n"
     ]
    }
   ],
   "source": [
    "# проверили датасеты на пустоты\n",
    "print(df_calls.isna().sum())\n",
    "print(df_internet.isna().sum())\n",
    "print(df_messages.isna().sum())\n",
    "print(df_users.isna().sum())"
   ]
  },
  {
   "cell_type": "markdown",
   "id": "b66c3928",
   "metadata": {},
   "source": [
    "Дубликатов и пустот не обнаружено.\n",
    "В значении `churn_date` обнаружены пустые значения - 462, однако так и должно быть.Это значит что на момент выгрузки пользователь оставался клиентом компании с выбранным тарифом. "
   ]
  },
  {
   "cell_type": "code",
   "execution_count": 9,
   "id": "8f709e9b",
   "metadata": {
    "scrolled": true
   },
   "outputs": [
    {
     "name": "stdout",
     "output_type": "stream",
     "text": [
      "<class 'pandas.core.frame.DataFrame'>\n",
      "RangeIndex: 149396 entries, 0 to 149395\n",
      "Data columns (total 4 columns):\n",
      " #   Column        Non-Null Count   Dtype         \n",
      "---  ------        --------------   -----         \n",
      " 0   id            149396 non-null  object        \n",
      " 1   mb_used       149396 non-null  float64       \n",
      " 2   session_date  149396 non-null  datetime64[ns]\n",
      " 3   user_id       149396 non-null  int64         \n",
      "dtypes: datetime64[ns](1), float64(1), int64(1), object(1)\n",
      "memory usage: 4.6+ MB\n"
     ]
    }
   ],
   "source": [
    "df_internet = df_internet[['id', 'mb_used', 'session_date', 'user_id']]# убрали столбец 'Unnamed: 0' дублирующий индексы\n",
    "df_internet.info()"
   ]
  },
  {
   "cell_type": "markdown",
   "id": "12487629",
   "metadata": {},
   "source": [
    "## Производим необходимые расчеты"
   ]
  },
  {
   "cell_type": "markdown",
   "id": "920e165a",
   "metadata": {},
   "source": [
    "Нам предстоит сформировать таблицы, показывающие, сколько было израсходовано трафика(минут,мегабайт,сообщений) клиентами с определенным тарифом в месяц."
   ]
  },
  {
   "cell_type": "code",
   "execution_count": 10,
   "id": "ecf493a3",
   "metadata": {},
   "outputs": [],
   "source": [
    "df_calls['date_month'] = df_calls['call_date'].astype('datetime64[M]')#создаем столбец со значением месяца\n",
    "df_messages['date_month'] = df_messages['message_date'].astype('datetime64[M]')\n",
    "df_internet['date_month'] = df_internet['session_date'].astype('datetime64[M]')"
   ]
  },
  {
   "cell_type": "markdown",
   "id": "7837ecd5",
   "metadata": {},
   "source": [
    "### Количество произведенных звонков и израсходованных минут в месяц"
   ]
  },
  {
   "cell_type": "markdown",
   "id": "57c6189e",
   "metadata": {},
   "source": [
    "Нам известно, что оператор округляет значение по использованным минутам в моменте. Значит, все значения в столбце `duration` в таблице `df_calls` необходимо округлить до целого значения в большую сторону."
   ]
  },
  {
   "cell_type": "code",
   "execution_count": 11,
   "id": "cc79dd23",
   "metadata": {},
   "outputs": [
    {
     "data": {
      "text/plain": [
       "0          0.00\n",
       "1          0.00\n",
       "2          2.85\n",
       "3         13.80\n",
       "4          5.18\n",
       "          ...  \n",
       "202602     0.76\n",
       "202603    18.83\n",
       "202604    10.81\n",
       "202605     4.27\n",
       "202606    19.62\n",
       "Name: duration, Length: 202607, dtype: float64"
      ]
     },
     "execution_count": 11,
     "metadata": {},
     "output_type": "execute_result"
    }
   ],
   "source": [
    "#значения до округления\n",
    "df_calls['duration']"
   ]
  },
  {
   "cell_type": "code",
   "execution_count": 12,
   "id": "1f9e4547",
   "metadata": {
    "scrolled": true
   },
   "outputs": [
    {
     "data": {
      "text/plain": [
       "0          0.0\n",
       "1          0.0\n",
       "2          3.0\n",
       "3         14.0\n",
       "4          6.0\n",
       "          ... \n",
       "202602     1.0\n",
       "202603    19.0\n",
       "202604    11.0\n",
       "202605     5.0\n",
       "202606    20.0\n",
       "Name: duration, Length: 202607, dtype: float64"
      ]
     },
     "execution_count": 12,
     "metadata": {},
     "output_type": "execute_result"
    }
   ],
   "source": [
    "#значения после округления\n",
    "df_calls['duration'] = np.ceil(df_calls['duration'])\n",
    "df_calls['duration']"
   ]
  },
  {
   "cell_type": "code",
   "execution_count": 13,
   "id": "aca551c6",
   "metadata": {
    "scrolled": true
   },
   "outputs": [
    {
     "data": {
      "text/html": [
       "<div>\n",
       "<style scoped>\n",
       "    .dataframe tbody tr th:only-of-type {\n",
       "        vertical-align: middle;\n",
       "    }\n",
       "\n",
       "    .dataframe tbody tr th {\n",
       "        vertical-align: top;\n",
       "    }\n",
       "\n",
       "    .dataframe thead th {\n",
       "        text-align: right;\n",
       "    }\n",
       "</style>\n",
       "<table border=\"1\" class=\"dataframe\">\n",
       "  <thead>\n",
       "    <tr style=\"text-align: right;\">\n",
       "      <th></th>\n",
       "      <th>user_id</th>\n",
       "      <th>date_month</th>\n",
       "      <th>all_calls</th>\n",
       "      <th>duration</th>\n",
       "    </tr>\n",
       "  </thead>\n",
       "  <tbody>\n",
       "    <tr>\n",
       "      <th>0</th>\n",
       "      <td>1000</td>\n",
       "      <td>2018-05-01</td>\n",
       "      <td>22</td>\n",
       "      <td>159.0</td>\n",
       "    </tr>\n",
       "    <tr>\n",
       "      <th>1</th>\n",
       "      <td>1000</td>\n",
       "      <td>2018-06-01</td>\n",
       "      <td>43</td>\n",
       "      <td>172.0</td>\n",
       "    </tr>\n",
       "    <tr>\n",
       "      <th>2</th>\n",
       "      <td>1000</td>\n",
       "      <td>2018-07-01</td>\n",
       "      <td>47</td>\n",
       "      <td>340.0</td>\n",
       "    </tr>\n",
       "    <tr>\n",
       "      <th>3</th>\n",
       "      <td>1000</td>\n",
       "      <td>2018-08-01</td>\n",
       "      <td>52</td>\n",
       "      <td>408.0</td>\n",
       "    </tr>\n",
       "    <tr>\n",
       "      <th>4</th>\n",
       "      <td>1000</td>\n",
       "      <td>2018-09-01</td>\n",
       "      <td>58</td>\n",
       "      <td>466.0</td>\n",
       "    </tr>\n",
       "  </tbody>\n",
       "</table>\n",
       "</div>"
      ],
      "text/plain": [
       "   user_id date_month  all_calls  duration\n",
       "0     1000 2018-05-01         22     159.0\n",
       "1     1000 2018-06-01         43     172.0\n",
       "2     1000 2018-07-01         47     340.0\n",
       "3     1000 2018-08-01         52     408.0\n",
       "4     1000 2018-09-01         58     466.0"
      ]
     },
     "execution_count": 13,
     "metadata": {},
     "output_type": "execute_result"
    }
   ],
   "source": [
    "# таблица количество сделанных звонков и израсходованных минут разговора по месяцам\n",
    "calls_to_month = df_calls.groupby(['user_id','date_month']).agg({'id':'count','duration':'sum'})\n",
    "calls_to_month = calls_to_month.reset_index()\n",
    "calls_to_month.rename(columns={'id':'all_calls'},inplace=True)\n",
    "calls_to_month.head()"
   ]
  },
  {
   "cell_type": "markdown",
   "id": "9f9b5722",
   "metadata": {},
   "source": [
    "### Количество отправленных сообщений в месяц"
   ]
  },
  {
   "cell_type": "code",
   "execution_count": 14,
   "id": "a63e2619",
   "metadata": {
    "scrolled": true
   },
   "outputs": [
    {
     "data": {
      "text/html": [
       "<div>\n",
       "<style scoped>\n",
       "    .dataframe tbody tr th:only-of-type {\n",
       "        vertical-align: middle;\n",
       "    }\n",
       "\n",
       "    .dataframe tbody tr th {\n",
       "        vertical-align: top;\n",
       "    }\n",
       "\n",
       "    .dataframe thead th {\n",
       "        text-align: right;\n",
       "    }\n",
       "</style>\n",
       "<table border=\"1\" class=\"dataframe\">\n",
       "  <thead>\n",
       "    <tr style=\"text-align: right;\">\n",
       "      <th></th>\n",
       "      <th>user_id</th>\n",
       "      <th>date_month</th>\n",
       "      <th>all_sent</th>\n",
       "    </tr>\n",
       "  </thead>\n",
       "  <tbody>\n",
       "    <tr>\n",
       "      <th>0</th>\n",
       "      <td>1000</td>\n",
       "      <td>2018-05-01</td>\n",
       "      <td>22</td>\n",
       "    </tr>\n",
       "    <tr>\n",
       "      <th>1</th>\n",
       "      <td>1000</td>\n",
       "      <td>2018-06-01</td>\n",
       "      <td>60</td>\n",
       "    </tr>\n",
       "    <tr>\n",
       "      <th>2</th>\n",
       "      <td>1000</td>\n",
       "      <td>2018-07-01</td>\n",
       "      <td>75</td>\n",
       "    </tr>\n",
       "    <tr>\n",
       "      <th>3</th>\n",
       "      <td>1000</td>\n",
       "      <td>2018-08-01</td>\n",
       "      <td>81</td>\n",
       "    </tr>\n",
       "    <tr>\n",
       "      <th>4</th>\n",
       "      <td>1000</td>\n",
       "      <td>2018-09-01</td>\n",
       "      <td>57</td>\n",
       "    </tr>\n",
       "  </tbody>\n",
       "</table>\n",
       "</div>"
      ],
      "text/plain": [
       "   user_id date_month  all_sent\n",
       "0     1000 2018-05-01        22\n",
       "1     1000 2018-06-01        60\n",
       "2     1000 2018-07-01        75\n",
       "3     1000 2018-08-01        81\n",
       "4     1000 2018-09-01        57"
      ]
     },
     "execution_count": 14,
     "metadata": {},
     "output_type": "execute_result"
    }
   ],
   "source": [
    "# количество отправленных сообщений по месяцам\n",
    "messages_to_month = df_messages.groupby(['user_id','date_month']).agg({'id':'count'})\n",
    "messages_to_month = messages_to_month.reset_index()\n",
    "messages_to_month.rename(columns={'id':'all_sent'},inplace=True)\n",
    "messages_to_month.head()"
   ]
  },
  {
   "cell_type": "markdown",
   "id": "71253cca",
   "metadata": {},
   "source": [
    "### Количество израсходованного интернет-трафика по месяцам"
   ]
  },
  {
   "cell_type": "code",
   "execution_count": 15,
   "id": "f2ad70d0",
   "metadata": {
    "scrolled": false
   },
   "outputs": [
    {
     "data": {
      "text/html": [
       "<div>\n",
       "<style scoped>\n",
       "    .dataframe tbody tr th:only-of-type {\n",
       "        vertical-align: middle;\n",
       "    }\n",
       "\n",
       "    .dataframe tbody tr th {\n",
       "        vertical-align: top;\n",
       "    }\n",
       "\n",
       "    .dataframe thead th {\n",
       "        text-align: right;\n",
       "    }\n",
       "</style>\n",
       "<table border=\"1\" class=\"dataframe\">\n",
       "  <thead>\n",
       "    <tr style=\"text-align: right;\">\n",
       "      <th></th>\n",
       "      <th>user_id</th>\n",
       "      <th>date_month</th>\n",
       "      <th>mb_used</th>\n",
       "    </tr>\n",
       "  </thead>\n",
       "  <tbody>\n",
       "    <tr>\n",
       "      <th>0</th>\n",
       "      <td>1000</td>\n",
       "      <td>2018-05-01</td>\n",
       "      <td>2253.49</td>\n",
       "    </tr>\n",
       "    <tr>\n",
       "      <th>1</th>\n",
       "      <td>1000</td>\n",
       "      <td>2018-06-01</td>\n",
       "      <td>23233.77</td>\n",
       "    </tr>\n",
       "    <tr>\n",
       "      <th>2</th>\n",
       "      <td>1000</td>\n",
       "      <td>2018-07-01</td>\n",
       "      <td>14003.64</td>\n",
       "    </tr>\n",
       "    <tr>\n",
       "      <th>3</th>\n",
       "      <td>1000</td>\n",
       "      <td>2018-08-01</td>\n",
       "      <td>14055.93</td>\n",
       "    </tr>\n",
       "    <tr>\n",
       "      <th>4</th>\n",
       "      <td>1000</td>\n",
       "      <td>2018-09-01</td>\n",
       "      <td>14568.91</td>\n",
       "    </tr>\n",
       "  </tbody>\n",
       "</table>\n",
       "</div>"
      ],
      "text/plain": [
       "   user_id date_month   mb_used\n",
       "0     1000 2018-05-01   2253.49\n",
       "1     1000 2018-06-01  23233.77\n",
       "2     1000 2018-07-01  14003.64\n",
       "3     1000 2018-08-01  14055.93\n",
       "4     1000 2018-09-01  14568.91"
      ]
     },
     "execution_count": 15,
     "metadata": {},
     "output_type": "execute_result"
    }
   ],
   "source": [
    "#объем израсходованного интернет-трафика по месяцам\n",
    "internet_to_month = df_internet.groupby(['user_id','date_month']).agg({'mb_used':'sum'})\n",
    "internet_to_month = internet_to_month.reset_index()\n",
    "internet_to_month.head()"
   ]
  },
  {
   "cell_type": "markdown",
   "id": "1adc11d4",
   "metadata": {},
   "source": [
    "Теперь необходимо округлить значения использованного интернет трафика до целого числа в большую сторону. Эти данные указаны в задании: \"Для веб-трафика отдельные сессии не считаются. Вместо этого общая сумма за месяц округляется в бо́льшую сторону. Если абонент использует 1025 мегабайт в этом месяце, с него возьмут плату за 2 гигабайта.\"\n",
    "\n",
    "Округлением займемся в функции `profit_cash`, которая будет описана чуть ниже."
   ]
  },
  {
   "cell_type": "markdown",
   "id": "3e7499a1",
   "metadata": {},
   "source": [
    "### Таблица \"Прибыль с каждого клиента по месяцам\""
   ]
  },
  {
   "cell_type": "markdown",
   "id": "b989ae2b",
   "metadata": {},
   "source": [
    "Сформируем из трех таблиц одну общую, это позволит нам с помощью функции произвести расчеты и посчитать прибыль с каждого клиента в месяц."
   ]
  },
  {
   "cell_type": "code",
   "execution_count": 16,
   "id": "95f5de8b",
   "metadata": {},
   "outputs": [
    {
     "data": {
      "text/html": [
       "<div>\n",
       "<style scoped>\n",
       "    .dataframe tbody tr th:only-of-type {\n",
       "        vertical-align: middle;\n",
       "    }\n",
       "\n",
       "    .dataframe tbody tr th {\n",
       "        vertical-align: top;\n",
       "    }\n",
       "\n",
       "    .dataframe thead th {\n",
       "        text-align: right;\n",
       "    }\n",
       "</style>\n",
       "<table border=\"1\" class=\"dataframe\">\n",
       "  <thead>\n",
       "    <tr style=\"text-align: right;\">\n",
       "      <th></th>\n",
       "      <th>user_id</th>\n",
       "      <th>date_month</th>\n",
       "      <th>all_calls</th>\n",
       "      <th>duration</th>\n",
       "      <th>mb_used</th>\n",
       "      <th>all_sent</th>\n",
       "    </tr>\n",
       "  </thead>\n",
       "  <tbody>\n",
       "    <tr>\n",
       "      <th>0</th>\n",
       "      <td>1000</td>\n",
       "      <td>2018-05-01</td>\n",
       "      <td>22.0</td>\n",
       "      <td>159.0</td>\n",
       "      <td>2253.49</td>\n",
       "      <td>22.0</td>\n",
       "    </tr>\n",
       "    <tr>\n",
       "      <th>1</th>\n",
       "      <td>1000</td>\n",
       "      <td>2018-06-01</td>\n",
       "      <td>43.0</td>\n",
       "      <td>172.0</td>\n",
       "      <td>23233.77</td>\n",
       "      <td>60.0</td>\n",
       "    </tr>\n",
       "    <tr>\n",
       "      <th>2</th>\n",
       "      <td>1000</td>\n",
       "      <td>2018-07-01</td>\n",
       "      <td>47.0</td>\n",
       "      <td>340.0</td>\n",
       "      <td>14003.64</td>\n",
       "      <td>75.0</td>\n",
       "    </tr>\n",
       "    <tr>\n",
       "      <th>3</th>\n",
       "      <td>1000</td>\n",
       "      <td>2018-08-01</td>\n",
       "      <td>52.0</td>\n",
       "      <td>408.0</td>\n",
       "      <td>14055.93</td>\n",
       "      <td>81.0</td>\n",
       "    </tr>\n",
       "    <tr>\n",
       "      <th>4</th>\n",
       "      <td>1000</td>\n",
       "      <td>2018-09-01</td>\n",
       "      <td>58.0</td>\n",
       "      <td>466.0</td>\n",
       "      <td>14568.91</td>\n",
       "      <td>57.0</td>\n",
       "    </tr>\n",
       "    <tr>\n",
       "      <th>5</th>\n",
       "      <td>1000</td>\n",
       "      <td>2018-10-01</td>\n",
       "      <td>57.0</td>\n",
       "      <td>350.0</td>\n",
       "      <td>14702.49</td>\n",
       "      <td>73.0</td>\n",
       "    </tr>\n",
       "    <tr>\n",
       "      <th>6</th>\n",
       "      <td>1000</td>\n",
       "      <td>2018-11-01</td>\n",
       "      <td>43.0</td>\n",
       "      <td>338.0</td>\n",
       "      <td>14756.47</td>\n",
       "      <td>58.0</td>\n",
       "    </tr>\n",
       "    <tr>\n",
       "      <th>7</th>\n",
       "      <td>1000</td>\n",
       "      <td>2018-12-01</td>\n",
       "      <td>46.0</td>\n",
       "      <td>333.0</td>\n",
       "      <td>9817.61</td>\n",
       "      <td>70.0</td>\n",
       "    </tr>\n",
       "    <tr>\n",
       "      <th>8</th>\n",
       "      <td>1001</td>\n",
       "      <td>2018-11-01</td>\n",
       "      <td>59.0</td>\n",
       "      <td>430.0</td>\n",
       "      <td>18429.34</td>\n",
       "      <td>NaN</td>\n",
       "    </tr>\n",
       "    <tr>\n",
       "      <th>9</th>\n",
       "      <td>1001</td>\n",
       "      <td>2018-12-01</td>\n",
       "      <td>63.0</td>\n",
       "      <td>414.0</td>\n",
       "      <td>14036.66</td>\n",
       "      <td>NaN</td>\n",
       "    </tr>\n",
       "  </tbody>\n",
       "</table>\n",
       "</div>"
      ],
      "text/plain": [
       "   user_id date_month  all_calls  duration   mb_used  all_sent\n",
       "0     1000 2018-05-01       22.0     159.0   2253.49      22.0\n",
       "1     1000 2018-06-01       43.0     172.0  23233.77      60.0\n",
       "2     1000 2018-07-01       47.0     340.0  14003.64      75.0\n",
       "3     1000 2018-08-01       52.0     408.0  14055.93      81.0\n",
       "4     1000 2018-09-01       58.0     466.0  14568.91      57.0\n",
       "5     1000 2018-10-01       57.0     350.0  14702.49      73.0\n",
       "6     1000 2018-11-01       43.0     338.0  14756.47      58.0\n",
       "7     1000 2018-12-01       46.0     333.0   9817.61      70.0\n",
       "8     1001 2018-11-01       59.0     430.0  18429.34       NaN\n",
       "9     1001 2018-12-01       63.0     414.0  14036.66       NaN"
      ]
     },
     "execution_count": 16,
     "metadata": {},
     "output_type": "execute_result"
    }
   ],
   "source": [
    "#схлапываем в одну таблицу \n",
    "data_frames = [calls_to_month, internet_to_month, messages_to_month]\n",
    "profit_to_month = reduce(lambda  left,right: pd.merge(left,right,how='outer'), data_frames)\n",
    "profit_to_month.head(10)"
   ]
  },
  {
   "cell_type": "code",
   "execution_count": 17,
   "id": "ec44a338",
   "metadata": {},
   "outputs": [],
   "source": [
    "#схлапываем в одну таблицу \n",
    "#profit_to_month = calls_to_month.merge(internet_to_month,how='outer')\n",
    "#profit_to_month = profit_to_month.merge(messages_to_month,how='outer')\n",
    "#profit_to_month.head(10)"
   ]
  },
  {
   "cell_type": "code",
   "execution_count": 18,
   "id": "1f803903",
   "metadata": {
    "scrolled": false
   },
   "outputs": [
    {
     "data": {
      "text/html": [
       "<div>\n",
       "<style scoped>\n",
       "    .dataframe tbody tr th:only-of-type {\n",
       "        vertical-align: middle;\n",
       "    }\n",
       "\n",
       "    .dataframe tbody tr th {\n",
       "        vertical-align: top;\n",
       "    }\n",
       "\n",
       "    .dataframe thead th {\n",
       "        text-align: right;\n",
       "    }\n",
       "</style>\n",
       "<table border=\"1\" class=\"dataframe\">\n",
       "  <thead>\n",
       "    <tr style=\"text-align: right;\">\n",
       "      <th></th>\n",
       "      <th>user_id</th>\n",
       "      <th>date_month</th>\n",
       "      <th>all_calls</th>\n",
       "      <th>duration</th>\n",
       "      <th>mb_used</th>\n",
       "      <th>all_sent</th>\n",
       "      <th>tariff</th>\n",
       "      <th>city</th>\n",
       "    </tr>\n",
       "  </thead>\n",
       "  <tbody>\n",
       "    <tr>\n",
       "      <th>0</th>\n",
       "      <td>1000</td>\n",
       "      <td>2018-05-01</td>\n",
       "      <td>22.0</td>\n",
       "      <td>159.0</td>\n",
       "      <td>2253.49</td>\n",
       "      <td>22.0</td>\n",
       "      <td>ultra</td>\n",
       "      <td>Краснодар</td>\n",
       "    </tr>\n",
       "    <tr>\n",
       "      <th>1</th>\n",
       "      <td>1000</td>\n",
       "      <td>2018-06-01</td>\n",
       "      <td>43.0</td>\n",
       "      <td>172.0</td>\n",
       "      <td>23233.77</td>\n",
       "      <td>60.0</td>\n",
       "      <td>ultra</td>\n",
       "      <td>Краснодар</td>\n",
       "    </tr>\n",
       "    <tr>\n",
       "      <th>2</th>\n",
       "      <td>1000</td>\n",
       "      <td>2018-07-01</td>\n",
       "      <td>47.0</td>\n",
       "      <td>340.0</td>\n",
       "      <td>14003.64</td>\n",
       "      <td>75.0</td>\n",
       "      <td>ultra</td>\n",
       "      <td>Краснодар</td>\n",
       "    </tr>\n",
       "    <tr>\n",
       "      <th>3</th>\n",
       "      <td>1000</td>\n",
       "      <td>2018-08-01</td>\n",
       "      <td>52.0</td>\n",
       "      <td>408.0</td>\n",
       "      <td>14055.93</td>\n",
       "      <td>81.0</td>\n",
       "      <td>ultra</td>\n",
       "      <td>Краснодар</td>\n",
       "    </tr>\n",
       "    <tr>\n",
       "      <th>4</th>\n",
       "      <td>1000</td>\n",
       "      <td>2018-09-01</td>\n",
       "      <td>58.0</td>\n",
       "      <td>466.0</td>\n",
       "      <td>14568.91</td>\n",
       "      <td>57.0</td>\n",
       "      <td>ultra</td>\n",
       "      <td>Краснодар</td>\n",
       "    </tr>\n",
       "  </tbody>\n",
       "</table>\n",
       "</div>"
      ],
      "text/plain": [
       "   user_id date_month  all_calls  duration   mb_used  all_sent tariff  \\\n",
       "0     1000 2018-05-01       22.0     159.0   2253.49      22.0  ultra   \n",
       "1     1000 2018-06-01       43.0     172.0  23233.77      60.0  ultra   \n",
       "2     1000 2018-07-01       47.0     340.0  14003.64      75.0  ultra   \n",
       "3     1000 2018-08-01       52.0     408.0  14055.93      81.0  ultra   \n",
       "4     1000 2018-09-01       58.0     466.0  14568.91      57.0  ultra   \n",
       "\n",
       "        city  \n",
       "0  Краснодар  \n",
       "1  Краснодар  \n",
       "2  Краснодар  \n",
       "3  Краснодар  \n",
       "4  Краснодар  "
      ]
     },
     "execution_count": 18,
     "metadata": {},
     "output_type": "execute_result"
    }
   ],
   "source": [
    "df_tariffs.rename(columns={'tariff_name':'tariff'},inplace=True)#переименовываем на одинаковое название столбец тариф\n",
    "df_tarif_users = df_users[['user_id','tariff']]# таблица с клиентом и его тарифом\n",
    "df_user_location = df_users[['user_id','city']]#таблица с клиентом и его локацией\n",
    "\n",
    "profit_to_month = profit_to_month.merge(df_tarif_users,on='user_id', how='left' )#добавим к основной таблице значения тарифа \n",
    "profit_to_month = profit_to_month.merge(df_user_location,on='user_id', how='left' )#добавляем к основнов табл значения локации.\n",
    "profit_to_month.head()"
   ]
  },
  {
   "cell_type": "code",
   "execution_count": 19,
   "id": "58ca5aa3",
   "metadata": {
    "scrolled": false
   },
   "outputs": [
    {
     "data": {
      "text/html": [
       "<div>\n",
       "<style scoped>\n",
       "    .dataframe tbody tr th:only-of-type {\n",
       "        vertical-align: middle;\n",
       "    }\n",
       "\n",
       "    .dataframe tbody tr th {\n",
       "        vertical-align: top;\n",
       "    }\n",
       "\n",
       "    .dataframe thead th {\n",
       "        text-align: right;\n",
       "    }\n",
       "</style>\n",
       "<table border=\"1\" class=\"dataframe\">\n",
       "  <thead>\n",
       "    <tr style=\"text-align: right;\">\n",
       "      <th></th>\n",
       "      <th>user_id</th>\n",
       "      <th>date_month</th>\n",
       "      <th>all_calls</th>\n",
       "      <th>duration</th>\n",
       "      <th>mb_used</th>\n",
       "      <th>all_sent</th>\n",
       "      <th>tariff</th>\n",
       "      <th>city</th>\n",
       "      <th>messages_included</th>\n",
       "      <th>mb_per_month_included</th>\n",
       "      <th>minutes_included</th>\n",
       "      <th>rub_monthly_fee</th>\n",
       "      <th>rub_per_gb</th>\n",
       "      <th>rub_per_message</th>\n",
       "      <th>rub_per_minute</th>\n",
       "    </tr>\n",
       "  </thead>\n",
       "  <tbody>\n",
       "    <tr>\n",
       "      <th>0</th>\n",
       "      <td>1000</td>\n",
       "      <td>2018-05-01</td>\n",
       "      <td>22.0</td>\n",
       "      <td>159.0</td>\n",
       "      <td>2253.49</td>\n",
       "      <td>22.0</td>\n",
       "      <td>ultra</td>\n",
       "      <td>Краснодар</td>\n",
       "      <td>1000</td>\n",
       "      <td>30720</td>\n",
       "      <td>3000</td>\n",
       "      <td>1950</td>\n",
       "      <td>150</td>\n",
       "      <td>1</td>\n",
       "      <td>1</td>\n",
       "    </tr>\n",
       "    <tr>\n",
       "      <th>1</th>\n",
       "      <td>1000</td>\n",
       "      <td>2018-06-01</td>\n",
       "      <td>43.0</td>\n",
       "      <td>172.0</td>\n",
       "      <td>23233.77</td>\n",
       "      <td>60.0</td>\n",
       "      <td>ultra</td>\n",
       "      <td>Краснодар</td>\n",
       "      <td>1000</td>\n",
       "      <td>30720</td>\n",
       "      <td>3000</td>\n",
       "      <td>1950</td>\n",
       "      <td>150</td>\n",
       "      <td>1</td>\n",
       "      <td>1</td>\n",
       "    </tr>\n",
       "    <tr>\n",
       "      <th>2</th>\n",
       "      <td>1000</td>\n",
       "      <td>2018-07-01</td>\n",
       "      <td>47.0</td>\n",
       "      <td>340.0</td>\n",
       "      <td>14003.64</td>\n",
       "      <td>75.0</td>\n",
       "      <td>ultra</td>\n",
       "      <td>Краснодар</td>\n",
       "      <td>1000</td>\n",
       "      <td>30720</td>\n",
       "      <td>3000</td>\n",
       "      <td>1950</td>\n",
       "      <td>150</td>\n",
       "      <td>1</td>\n",
       "      <td>1</td>\n",
       "    </tr>\n",
       "    <tr>\n",
       "      <th>3</th>\n",
       "      <td>1000</td>\n",
       "      <td>2018-08-01</td>\n",
       "      <td>52.0</td>\n",
       "      <td>408.0</td>\n",
       "      <td>14055.93</td>\n",
       "      <td>81.0</td>\n",
       "      <td>ultra</td>\n",
       "      <td>Краснодар</td>\n",
       "      <td>1000</td>\n",
       "      <td>30720</td>\n",
       "      <td>3000</td>\n",
       "      <td>1950</td>\n",
       "      <td>150</td>\n",
       "      <td>1</td>\n",
       "      <td>1</td>\n",
       "    </tr>\n",
       "    <tr>\n",
       "      <th>4</th>\n",
       "      <td>1000</td>\n",
       "      <td>2018-09-01</td>\n",
       "      <td>58.0</td>\n",
       "      <td>466.0</td>\n",
       "      <td>14568.91</td>\n",
       "      <td>57.0</td>\n",
       "      <td>ultra</td>\n",
       "      <td>Краснодар</td>\n",
       "      <td>1000</td>\n",
       "      <td>30720</td>\n",
       "      <td>3000</td>\n",
       "      <td>1950</td>\n",
       "      <td>150</td>\n",
       "      <td>1</td>\n",
       "      <td>1</td>\n",
       "    </tr>\n",
       "  </tbody>\n",
       "</table>\n",
       "</div>"
      ],
      "text/plain": [
       "   user_id date_month  all_calls  duration   mb_used  all_sent tariff  \\\n",
       "0     1000 2018-05-01       22.0     159.0   2253.49      22.0  ultra   \n",
       "1     1000 2018-06-01       43.0     172.0  23233.77      60.0  ultra   \n",
       "2     1000 2018-07-01       47.0     340.0  14003.64      75.0  ultra   \n",
       "3     1000 2018-08-01       52.0     408.0  14055.93      81.0  ultra   \n",
       "4     1000 2018-09-01       58.0     466.0  14568.91      57.0  ultra   \n",
       "\n",
       "        city  messages_included  mb_per_month_included  minutes_included  \\\n",
       "0  Краснодар               1000                  30720              3000   \n",
       "1  Краснодар               1000                  30720              3000   \n",
       "2  Краснодар               1000                  30720              3000   \n",
       "3  Краснодар               1000                  30720              3000   \n",
       "4  Краснодар               1000                  30720              3000   \n",
       "\n",
       "   rub_monthly_fee  rub_per_gb  rub_per_message  rub_per_minute  \n",
       "0             1950         150                1               1  \n",
       "1             1950         150                1               1  \n",
       "2             1950         150                1               1  \n",
       "3             1950         150                1               1  \n",
       "4             1950         150                1               1  "
      ]
     },
     "execution_count": 19,
     "metadata": {},
     "output_type": "execute_result"
    }
   ],
   "source": [
    "#добавим теперь описание тарифов по ключевому полю тариф\n",
    "profit_to_month = profit_to_month.merge(df_tariffs,on='tariff', how='left' )\n",
    "profit_to_month.head()"
   ]
  },
  {
   "cell_type": "markdown",
   "id": "ab2135cc",
   "metadata": {},
   "source": [
    "Получили нашу предъитоговую таблицу.\n",
    "\n",
    "Теперь напишем функцию для расчета прибыли с каждого клиента, с учетом его тарифа, абонентской платы и стоимостью услуг сверх тарифной платы. "
   ]
  },
  {
   "cell_type": "code",
   "execution_count": 20,
   "id": "5b46a008",
   "metadata": {},
   "outputs": [],
   "source": [
    "def profit_cash(value):#считаем помесячную выручку с каждого пользователя \n",
    "    i = 0   \n",
    "    c = 0\n",
    "    m = 0\n",
    "    substr_in = np.ceil(value['mb_used']/1024) - (value['mb_per_month_included']/1024)\n",
    "    #substr_in = np.ceil(substr_in / 1024)\n",
    "    if substr_in > 0:\n",
    "        i = substr_in * value['rub_per_gb']\n",
    "    substr_call = value['duration'] - value['minutes_included']\n",
    "    if substr_call > 0:\n",
    "        c = substr_call * value['rub_per_minute']\n",
    "    substr_mesag = value['all_sent'] - value['messages_included']\n",
    "    if substr_mesag > 0:\n",
    "        m = substr_mesag * value['rub_per_message']\n",
    "    return i + c + m + value['rub_monthly_fee']\n",
    "\n"
   ]
  },
  {
   "cell_type": "code",
   "execution_count": 21,
   "id": "b7c725c8",
   "metadata": {
    "scrolled": true
   },
   "outputs": [
    {
     "data": {
      "text/html": [
       "<div>\n",
       "<style scoped>\n",
       "    .dataframe tbody tr th:only-of-type {\n",
       "        vertical-align: middle;\n",
       "    }\n",
       "\n",
       "    .dataframe tbody tr th {\n",
       "        vertical-align: top;\n",
       "    }\n",
       "\n",
       "    .dataframe thead th {\n",
       "        text-align: right;\n",
       "    }\n",
       "</style>\n",
       "<table border=\"1\" class=\"dataframe\">\n",
       "  <thead>\n",
       "    <tr style=\"text-align: right;\">\n",
       "      <th></th>\n",
       "      <th>user_id</th>\n",
       "      <th>date_month</th>\n",
       "      <th>all_calls</th>\n",
       "      <th>duration</th>\n",
       "      <th>mb_used</th>\n",
       "      <th>all_sent</th>\n",
       "      <th>tariff</th>\n",
       "      <th>city</th>\n",
       "      <th>messages_included</th>\n",
       "      <th>mb_per_month_included</th>\n",
       "      <th>minutes_included</th>\n",
       "      <th>rub_monthly_fee</th>\n",
       "      <th>rub_per_gb</th>\n",
       "      <th>rub_per_message</th>\n",
       "      <th>rub_per_minute</th>\n",
       "      <th>profit</th>\n",
       "    </tr>\n",
       "  </thead>\n",
       "  <tbody>\n",
       "    <tr>\n",
       "      <th>0</th>\n",
       "      <td>1000</td>\n",
       "      <td>2018-05-01</td>\n",
       "      <td>22.0</td>\n",
       "      <td>159.0</td>\n",
       "      <td>2253.49</td>\n",
       "      <td>22.0</td>\n",
       "      <td>ultra</td>\n",
       "      <td>Краснодар</td>\n",
       "      <td>1000</td>\n",
       "      <td>30720</td>\n",
       "      <td>3000</td>\n",
       "      <td>1950</td>\n",
       "      <td>150</td>\n",
       "      <td>1</td>\n",
       "      <td>1</td>\n",
       "      <td>1950.0</td>\n",
       "    </tr>\n",
       "    <tr>\n",
       "      <th>1</th>\n",
       "      <td>1000</td>\n",
       "      <td>2018-06-01</td>\n",
       "      <td>43.0</td>\n",
       "      <td>172.0</td>\n",
       "      <td>23233.77</td>\n",
       "      <td>60.0</td>\n",
       "      <td>ultra</td>\n",
       "      <td>Краснодар</td>\n",
       "      <td>1000</td>\n",
       "      <td>30720</td>\n",
       "      <td>3000</td>\n",
       "      <td>1950</td>\n",
       "      <td>150</td>\n",
       "      <td>1</td>\n",
       "      <td>1</td>\n",
       "      <td>1950.0</td>\n",
       "    </tr>\n",
       "    <tr>\n",
       "      <th>2</th>\n",
       "      <td>1000</td>\n",
       "      <td>2018-07-01</td>\n",
       "      <td>47.0</td>\n",
       "      <td>340.0</td>\n",
       "      <td>14003.64</td>\n",
       "      <td>75.0</td>\n",
       "      <td>ultra</td>\n",
       "      <td>Краснодар</td>\n",
       "      <td>1000</td>\n",
       "      <td>30720</td>\n",
       "      <td>3000</td>\n",
       "      <td>1950</td>\n",
       "      <td>150</td>\n",
       "      <td>1</td>\n",
       "      <td>1</td>\n",
       "      <td>1950.0</td>\n",
       "    </tr>\n",
       "    <tr>\n",
       "      <th>3</th>\n",
       "      <td>1000</td>\n",
       "      <td>2018-08-01</td>\n",
       "      <td>52.0</td>\n",
       "      <td>408.0</td>\n",
       "      <td>14055.93</td>\n",
       "      <td>81.0</td>\n",
       "      <td>ultra</td>\n",
       "      <td>Краснодар</td>\n",
       "      <td>1000</td>\n",
       "      <td>30720</td>\n",
       "      <td>3000</td>\n",
       "      <td>1950</td>\n",
       "      <td>150</td>\n",
       "      <td>1</td>\n",
       "      <td>1</td>\n",
       "      <td>1950.0</td>\n",
       "    </tr>\n",
       "    <tr>\n",
       "      <th>4</th>\n",
       "      <td>1000</td>\n",
       "      <td>2018-09-01</td>\n",
       "      <td>58.0</td>\n",
       "      <td>466.0</td>\n",
       "      <td>14568.91</td>\n",
       "      <td>57.0</td>\n",
       "      <td>ultra</td>\n",
       "      <td>Краснодар</td>\n",
       "      <td>1000</td>\n",
       "      <td>30720</td>\n",
       "      <td>3000</td>\n",
       "      <td>1950</td>\n",
       "      <td>150</td>\n",
       "      <td>1</td>\n",
       "      <td>1</td>\n",
       "      <td>1950.0</td>\n",
       "    </tr>\n",
       "  </tbody>\n",
       "</table>\n",
       "</div>"
      ],
      "text/plain": [
       "   user_id date_month  all_calls  duration   mb_used  all_sent tariff  \\\n",
       "0     1000 2018-05-01       22.0     159.0   2253.49      22.0  ultra   \n",
       "1     1000 2018-06-01       43.0     172.0  23233.77      60.0  ultra   \n",
       "2     1000 2018-07-01       47.0     340.0  14003.64      75.0  ultra   \n",
       "3     1000 2018-08-01       52.0     408.0  14055.93      81.0  ultra   \n",
       "4     1000 2018-09-01       58.0     466.0  14568.91      57.0  ultra   \n",
       "\n",
       "        city  messages_included  mb_per_month_included  minutes_included  \\\n",
       "0  Краснодар               1000                  30720              3000   \n",
       "1  Краснодар               1000                  30720              3000   \n",
       "2  Краснодар               1000                  30720              3000   \n",
       "3  Краснодар               1000                  30720              3000   \n",
       "4  Краснодар               1000                  30720              3000   \n",
       "\n",
       "   rub_monthly_fee  rub_per_gb  rub_per_message  rub_per_minute  profit  \n",
       "0             1950         150                1               1  1950.0  \n",
       "1             1950         150                1               1  1950.0  \n",
       "2             1950         150                1               1  1950.0  \n",
       "3             1950         150                1               1  1950.0  \n",
       "4             1950         150                1               1  1950.0  "
      ]
     },
     "execution_count": 21,
     "metadata": {},
     "output_type": "execute_result"
    }
   ],
   "source": [
    "profit_to_month['profit'] = profit_to_month.apply(profit_cash,axis=1)#применим функцию для подсчета выручки с каждого пользователя по месяцам\n",
    "profit_to_month.head()"
   ]
  },
  {
   "cell_type": "markdown",
   "id": "69288609",
   "metadata": {},
   "source": [
    "Таблица готова, прибыль с каждого клиента помесячно рассчитана и добавлена в столбец `profit`"
   ]
  },
  {
   "cell_type": "markdown",
   "id": "28dacf58",
   "metadata": {},
   "source": [
    "### Количество использованных минут "
   ]
  },
  {
   "cell_type": "code",
   "execution_count": 22,
   "id": "4ef84d31",
   "metadata": {
    "scrolled": false
   },
   "outputs": [
    {
     "data": {
      "image/png": "[encoded data removed]",
      "text/plain": [
       "<Figure size 432x288 with 1 Axes>"
      ]
     },
     "metadata": {
      "needs_background": "light"
     },
     "output_type": "display_data"
    }
   ],
   "source": [
    "#график отражающий сколько потраченно минут каждым клиентом в месяц, в разных тарифах\n",
    "ax = profit_to_month[profit_to_month['tariff'] == 'ultra'].plot(x='user_id', y=['duration'], kind='hist',bins=20);\n",
    "plt.xlabel(\"Кол-во минут\")\n",
    "plt.title(\"Количество использованных минут\")\n",
    "profit_to_month[profit_to_month['tariff'] == 'smart'].plot(x='user_id', y=['duration'], kind='hist', ax=ax,  alpha=0.5, bins=20);\n",
    "plt.ylabel(\"Кол-во клиентов\");"
   ]
  },
  {
   "cell_type": "code",
   "execution_count": 23,
   "id": "5e235246",
   "metadata": {},
   "outputs": [
    {
     "data": {
      "text/html": [
       "<div>\n",
       "<style scoped>\n",
       "    .dataframe tbody tr th:only-of-type {\n",
       "        vertical-align: middle;\n",
       "    }\n",
       "\n",
       "    .dataframe tbody tr th {\n",
       "        vertical-align: top;\n",
       "    }\n",
       "\n",
       "    .dataframe thead tr th {\n",
       "        text-align: left;\n",
       "    }\n",
       "\n",
       "    .dataframe thead tr:last-of-type th {\n",
       "        text-align: right;\n",
       "    }\n",
       "</style>\n",
       "<table border=\"1\" class=\"dataframe\">\n",
       "  <thead>\n",
       "    <tr>\n",
       "      <th></th>\n",
       "      <th>mean</th>\n",
       "      <th>var</th>\n",
       "      <th>std</th>\n",
       "    </tr>\n",
       "    <tr>\n",
       "      <th></th>\n",
       "      <th>duration</th>\n",
       "      <th>duration</th>\n",
       "      <th>duration</th>\n",
       "    </tr>\n",
       "    <tr>\n",
       "      <th>tariff</th>\n",
       "      <th></th>\n",
       "      <th></th>\n",
       "      <th></th>\n",
       "    </tr>\n",
       "  </thead>\n",
       "  <tbody>\n",
       "    <tr>\n",
       "      <th>smart</th>\n",
       "      <td>419.062978</td>\n",
       "      <td>35844.189551</td>\n",
       "      <td>189.325618</td>\n",
       "    </tr>\n",
       "    <tr>\n",
       "      <th>ultra</th>\n",
       "      <td>545.451104</td>\n",
       "      <td>94203.418396</td>\n",
       "      <td>306.925754</td>\n",
       "    </tr>\n",
       "  </tbody>\n",
       "</table>\n",
       "</div>"
      ],
      "text/plain": [
       "              mean           var         std\n",
       "          duration      duration    duration\n",
       "tariff                                      \n",
       "smart   419.062978  35844.189551  189.325618\n",
       "ultra   545.451104  94203.418396  306.925754"
      ]
     },
     "execution_count": 23,
     "metadata": {},
     "output_type": "execute_result"
    }
   ],
   "source": [
    "profit_to_month.pivot_table(index= 'tariff',values= 'duration', aggfunc=['mean', 'var','std'])"
   ]
  },
  {
   "cell_type": "markdown",
   "id": "228138e1",
   "metadata": {},
   "source": [
    "На графике мы видим нормальное распределение по обоим величинам. Однако мы видим, что по тарифу Смарт распределение симетричное, а по тарифу Ультра данные немного скошены вправо.\n",
    "\n",
    "Обратим внимание на среднее значения по каждым велечинам:\n",
    "\n",
    "Среднее значение по минутам в тарифе Ultra: 514, при этом стандартное отклонение 289. Довольно сильный разброс данных. А так же замечу, что клиенты данного тарифа не выходят за рамки обозначенного по минутам трафика в тарифе.\n",
    "\n",
    "Среднее значение по минутам в тарифе Smart: 395, при этом стандартное отклонение 179. Данное распределение более вытянуто(менее разбросано) и похоже на колокол. При этом клиенты данного тарифа в 1/3 случаев выходят за рамки обозначенного по минутам трафика по тарифу. Среднее 395,а всего бесплатных минут входит 500."
   ]
  },
  {
   "cell_type": "markdown",
   "id": "ffbfd4bd",
   "metadata": {},
   "source": [
    "### Количество использованных мегабайт"
   ]
  },
  {
   "cell_type": "code",
   "execution_count": 24,
   "id": "adb32322",
   "metadata": {
    "scrolled": false
   },
   "outputs": [
    {
     "data": {
      "image/png": "[encoded data removed]",
      "text/plain": [
       "<Figure size 432x288 with 1 Axes>"
      ]
     },
     "metadata": {
      "needs_background": "light"
     },
     "output_type": "display_data"
    }
   ],
   "source": [
    "#график отражающий сколько потрачено каждым клиентом мб в месяц, в разных тарифах.\n",
    "ay = profit_to_month[profit_to_month['tariff'] == 'ultra'].plot(x='user_id', y=['mb_used'], kind='hist',bins=20);\n",
    "plt.xlabel(\"Кол-во мегабайт\")\n",
    "plt.title(\"Количество использованных мегабайт\")\n",
    "profit_to_month[profit_to_month['tariff'] == 'smart'].plot(x='user_id', y=['mb_used'], kind='hist', ax=ay,  alpha=0.5,bins=20);\n",
    "plt.ylabel(\"Кол-во клиентов\");"
   ]
  },
  {
   "cell_type": "code",
   "execution_count": 25,
   "id": "74920294",
   "metadata": {},
   "outputs": [
    {
     "data": {
      "text/html": [
       "<div>\n",
       "<style scoped>\n",
       "    .dataframe tbody tr th:only-of-type {\n",
       "        vertical-align: middle;\n",
       "    }\n",
       "\n",
       "    .dataframe tbody tr th {\n",
       "        vertical-align: top;\n",
       "    }\n",
       "\n",
       "    .dataframe thead tr th {\n",
       "        text-align: left;\n",
       "    }\n",
       "\n",
       "    .dataframe thead tr:last-of-type th {\n",
       "        text-align: right;\n",
       "    }\n",
       "</style>\n",
       "<table border=\"1\" class=\"dataframe\">\n",
       "  <thead>\n",
       "    <tr>\n",
       "      <th></th>\n",
       "      <th>mean</th>\n",
       "      <th>var</th>\n",
       "      <th>std</th>\n",
       "    </tr>\n",
       "    <tr>\n",
       "      <th></th>\n",
       "      <th>mb_used</th>\n",
       "      <th>mb_used</th>\n",
       "      <th>mb_used</th>\n",
       "    </tr>\n",
       "    <tr>\n",
       "      <th>tariff</th>\n",
       "      <th></th>\n",
       "      <th></th>\n",
       "      <th></th>\n",
       "    </tr>\n",
       "  </thead>\n",
       "  <tbody>\n",
       "    <tr>\n",
       "      <th>smart</th>\n",
       "      <td>16215.661849</td>\n",
       "      <td>3.435995e+07</td>\n",
       "      <td>5861.736234</td>\n",
       "    </tr>\n",
       "    <tr>\n",
       "      <th>ultra</th>\n",
       "      <td>19668.485262</td>\n",
       "      <td>9.886425e+07</td>\n",
       "      <td>9943.050284</td>\n",
       "    </tr>\n",
       "  </tbody>\n",
       "</table>\n",
       "</div>"
      ],
      "text/plain": [
       "                mean           var          std\n",
       "             mb_used       mb_used      mb_used\n",
       "tariff                                         \n",
       "smart   16215.661849  3.435995e+07  5861.736234\n",
       "ultra   19668.485262  9.886425e+07  9943.050284"
      ]
     },
     "execution_count": 25,
     "metadata": {},
     "output_type": "execute_result"
    }
   ],
   "source": [
    "profit_to_month.pivot_table(index= 'tariff',values= 'mb_used', aggfunc=['mean', 'var','std'])"
   ]
  },
  {
   "cell_type": "markdown",
   "id": "ae22ef48",
   "metadata": {},
   "source": [
    "На данном графике, отображающем количество использованных мегабайт, мы снова видим нормальное распределение по обоим величинам. Картина схожа с предыдущим графиком. \n",
    "\n",
    "Обратим внимание на среднее значения по каждым велечинам:\n",
    "\n",
    "Среднее значение по Мб в тарифе Ultra: 19668, при этом стандартное отклонение 9943. В данном случае видим, что в среднем клиенты не выходят за рамки обозначенного трафика - 30000Мб. За рамки трафика выходят только значения из 2 и 3 сигм, то есть более удаленные от среднего значения.  \n",
    "\n",
    "Среднее значение по Мб в тарифе Smart: 16215, при этом стандартное отклонение 5861. \n",
    "При этом, большая часть распределения значений лежит за границей 15000мб - то есть почти каждый второй клиент тарифа Смарт выходит за рамки трафика,обозначенного в тарифе, таким образом приносит компании дополнительный доход сверх абонентской платы. "
   ]
  },
  {
   "cell_type": "markdown",
   "id": "c9ca5f0b",
   "metadata": {},
   "source": [
    "### Количество потраченных сообщений"
   ]
  },
  {
   "cell_type": "code",
   "execution_count": 26,
   "id": "104f73be",
   "metadata": {
    "scrolled": true
   },
   "outputs": [
    {
     "data": {
      "image/png": "[encoded data removed]",
      "text/plain": [
       "<Figure size 432x288 with 1 Axes>"
      ]
     },
     "metadata": {
      "needs_background": "light"
     },
     "output_type": "display_data"
    }
   ],
   "source": [
    "#график отражающий сколько потрачено каждым клиентом смс в месяц, в разных тарифах.\n",
    "az = profit_to_month[profit_to_month['tariff'] == 'ultra'].plot(x='user_id', y=['all_sent'], kind='hist',bins=10);\n",
    "plt.xlabel(\"Кол-во сообщений\")\n",
    "plt.title(\"Количество потраченных сообщений\")\n",
    "profit_to_month[profit_to_month['tariff'] == 'smart'].plot(x='user_id', y=['all_sent'], kind='hist', ax=az,  alpha=0.5,bins=10);\n",
    "plt.ylabel(\"Кол-во клиентов\");"
   ]
  },
  {
   "cell_type": "code",
   "execution_count": 27,
   "id": "0b99a3a8",
   "metadata": {},
   "outputs": [
    {
     "data": {
      "text/html": [
       "<div>\n",
       "<style scoped>\n",
       "    .dataframe tbody tr th:only-of-type {\n",
       "        vertical-align: middle;\n",
       "    }\n",
       "\n",
       "    .dataframe tbody tr th {\n",
       "        vertical-align: top;\n",
       "    }\n",
       "\n",
       "    .dataframe thead tr th {\n",
       "        text-align: left;\n",
       "    }\n",
       "\n",
       "    .dataframe thead tr:last-of-type th {\n",
       "        text-align: right;\n",
       "    }\n",
       "</style>\n",
       "<table border=\"1\" class=\"dataframe\">\n",
       "  <thead>\n",
       "    <tr>\n",
       "      <th></th>\n",
       "      <th>mean</th>\n",
       "      <th>var</th>\n",
       "      <th>std</th>\n",
       "    </tr>\n",
       "    <tr>\n",
       "      <th></th>\n",
       "      <th>all_sent</th>\n",
       "      <th>all_sent</th>\n",
       "      <th>all_sent</th>\n",
       "    </tr>\n",
       "    <tr>\n",
       "      <th>tariff</th>\n",
       "      <th></th>\n",
       "      <th></th>\n",
       "      <th></th>\n",
       "    </tr>\n",
       "  </thead>\n",
       "  <tbody>\n",
       "    <tr>\n",
       "      <th>smart</th>\n",
       "      <td>38.716441</td>\n",
       "      <td>717.594201</td>\n",
       "      <td>26.787949</td>\n",
       "    </tr>\n",
       "    <tr>\n",
       "      <th>ultra</th>\n",
       "      <td>61.161006</td>\n",
       "      <td>2109.659183</td>\n",
       "      <td>45.931026</td>\n",
       "    </tr>\n",
       "  </tbody>\n",
       "</table>\n",
       "</div>"
      ],
      "text/plain": [
       "             mean          var        std\n",
       "         all_sent     all_sent   all_sent\n",
       "tariff                                   \n",
       "smart   38.716441   717.594201  26.787949\n",
       "ultra   61.161006  2109.659183  45.931026"
      ]
     },
     "execution_count": 27,
     "metadata": {},
     "output_type": "execute_result"
    }
   ],
   "source": [
    "profit_to_month.pivot_table(index= 'tariff',values= 'all_sent', aggfunc=['mean', 'var','std'])"
   ]
  },
  {
   "cell_type": "markdown",
   "id": "9b1724f8",
   "metadata": {},
   "source": [
    "На данном графике, отображающем количество отправленных смс, мы видим распределение Пуассона по обоим величинам. По тарифу Ультра данные немного скошены вправо(график более пологий).\n",
    "\n",
    "Обратим внимание на среднее значения по каждым велечинам:\n",
    "\n",
    "Среднее значение по Мб в тарифе Ultra: 61, при этом стандартное отклонение 45. При лимите в 1000 сообщений, включенных в тариф, клиенты даже 10% трафика не используют.  \n",
    "\n",
    "Среднее значение по Мб в тарифе Smart: 38, стандартное отклонение 26. В распределении Пуассона видно, что за границу в 50руб выходит достаточно большой процент значений, что для компании означает дополнительный доход.  "
   ]
  },
  {
   "cell_type": "markdown",
   "id": "335a45ff",
   "metadata": {},
   "source": [
    "## Проверка гипотез"
   ]
  },
  {
   "cell_type": "markdown",
   "id": "7707803a",
   "metadata": {},
   "source": [
    "### Выручка по тарифу Smart"
   ]
  },
  {
   "cell_type": "code",
   "execution_count": 28,
   "id": "f9f5c0cc",
   "metadata": {
    "scrolled": true
   },
   "outputs": [
    {
     "data": {
      "image/png": "[encoded data removed]",
      "text/plain": [
       "<Figure size 432x288 with 1 Axes>"
      ]
     },
     "metadata": {
      "needs_background": "light"
     },
     "output_type": "display_data"
    }
   ],
   "source": [
    "profit_to_month[profit_to_month['tariff'] == 'smart'].plot(x='user_id', y=['profit'], kind='scatter', alpha=0.3);\n",
    "plt.ylabel(\"Выручка\");\n",
    "plt.xlabel(\"Клиенты\")\n",
    "plt.title(\"Выручка по тарифу Smart\");"
   ]
  },
  {
   "cell_type": "code",
   "execution_count": 29,
   "id": "223e3334",
   "metadata": {},
   "outputs": [
    {
     "data": {
      "text/html": [
       "<div>\n",
       "<style scoped>\n",
       "    .dataframe tbody tr th:only-of-type {\n",
       "        vertical-align: middle;\n",
       "    }\n",
       "\n",
       "    .dataframe tbody tr th {\n",
       "        vertical-align: top;\n",
       "    }\n",
       "\n",
       "    .dataframe thead tr th {\n",
       "        text-align: left;\n",
       "    }\n",
       "\n",
       "    .dataframe thead tr:last-of-type th {\n",
       "        text-align: right;\n",
       "    }\n",
       "</style>\n",
       "<table border=\"1\" class=\"dataframe\">\n",
       "  <thead>\n",
       "    <tr>\n",
       "      <th></th>\n",
       "      <th>mean</th>\n",
       "      <th>var</th>\n",
       "      <th>std</th>\n",
       "      <th>sum</th>\n",
       "    </tr>\n",
       "    <tr>\n",
       "      <th></th>\n",
       "      <th>profit</th>\n",
       "      <th>profit</th>\n",
       "      <th>profit</th>\n",
       "      <th>profit</th>\n",
       "    </tr>\n",
       "    <tr>\n",
       "      <th>tariff</th>\n",
       "      <th></th>\n",
       "      <th></th>\n",
       "      <th></th>\n",
       "      <th></th>\n",
       "    </tr>\n",
       "  </thead>\n",
       "  <tbody>\n",
       "    <tr>\n",
       "      <th>smart</th>\n",
       "      <td>1289.973531</td>\n",
       "      <td>669785.708006</td>\n",
       "      <td>818.404367</td>\n",
       "      <td>2875351.0</td>\n",
       "    </tr>\n",
       "    <tr>\n",
       "      <th>ultra</th>\n",
       "      <td>2070.152284</td>\n",
       "      <td>141516.745079</td>\n",
       "      <td>376.187114</td>\n",
       "      <td>2039100.0</td>\n",
       "    </tr>\n",
       "  </tbody>\n",
       "</table>\n",
       "</div>"
      ],
      "text/plain": [
       "               mean            var         std        sum\n",
       "             profit         profit      profit     profit\n",
       "tariff                                                   \n",
       "smart   1289.973531  669785.708006  818.404367  2875351.0\n",
       "ultra   2070.152284  141516.745079  376.187114  2039100.0"
      ]
     },
     "execution_count": 29,
     "metadata": {},
     "output_type": "execute_result"
    }
   ],
   "source": [
    "profit_to_month.pivot_table(index= 'tariff',values= 'profit', aggfunc=['mean', 'var','std','sum'])"
   ]
  },
  {
   "cell_type": "markdown",
   "id": "67e72261",
   "metadata": {},
   "source": [
    "В тарифе Смарт среднее значение по выручке - 1289руб, при том что абонентская плата составляет 550руб.\n",
    "Это означает, что большая часть клиентов в месяц тратит намного больше, чем абонентская плата по тарифу. \n",
    "Есть клиенты, которые платят в два, а то и в три раза больше установленного тарифным планом. На графике это достаточно хорошо видно."
   ]
  },
  {
   "cell_type": "markdown",
   "id": "a38d7555",
   "metadata": {},
   "source": [
    "### Выручка по тарифу Ultra"
   ]
  },
  {
   "cell_type": "code",
   "execution_count": 30,
   "id": "fbe08ca5",
   "metadata": {
    "scrolled": true
   },
   "outputs": [
    {
     "data": {
      "image/png": "[encoded data removed]",
      "text/plain": [
       "<Figure size 432x288 with 1 Axes>"
      ]
     },
     "metadata": {
      "needs_background": "light"
     },
     "output_type": "display_data"
    }
   ],
   "source": [
    "profit_to_month[profit_to_month['tariff'] == 'ultra'].plot(x='user_id', y=['profit'], kind='scatter');\n",
    "plt.ylabel(\"Выручка\");\n",
    "plt.xlabel(\"Клиенты\")\n",
    "plt.title(\"Выручка по тарифу Ultra\");"
   ]
  },
  {
   "cell_type": "code",
   "execution_count": 31,
   "id": "75ebe371",
   "metadata": {},
   "outputs": [
    {
     "data": {
      "text/html": [
       "<div>\n",
       "<style scoped>\n",
       "    .dataframe tbody tr th:only-of-type {\n",
       "        vertical-align: middle;\n",
       "    }\n",
       "\n",
       "    .dataframe tbody tr th {\n",
       "        vertical-align: top;\n",
       "    }\n",
       "\n",
       "    .dataframe thead tr th {\n",
       "        text-align: left;\n",
       "    }\n",
       "\n",
       "    .dataframe thead tr:last-of-type th {\n",
       "        text-align: right;\n",
       "    }\n",
       "</style>\n",
       "<table border=\"1\" class=\"dataframe\">\n",
       "  <thead>\n",
       "    <tr>\n",
       "      <th></th>\n",
       "      <th>mean</th>\n",
       "      <th>var</th>\n",
       "      <th>std</th>\n",
       "      <th>sum</th>\n",
       "    </tr>\n",
       "    <tr>\n",
       "      <th></th>\n",
       "      <th>profit</th>\n",
       "      <th>profit</th>\n",
       "      <th>profit</th>\n",
       "      <th>profit</th>\n",
       "    </tr>\n",
       "    <tr>\n",
       "      <th>tariff</th>\n",
       "      <th></th>\n",
       "      <th></th>\n",
       "      <th></th>\n",
       "      <th></th>\n",
       "    </tr>\n",
       "  </thead>\n",
       "  <tbody>\n",
       "    <tr>\n",
       "      <th>smart</th>\n",
       "      <td>1289.973531</td>\n",
       "      <td>669785.708006</td>\n",
       "      <td>818.404367</td>\n",
       "      <td>2875351.0</td>\n",
       "    </tr>\n",
       "    <tr>\n",
       "      <th>ultra</th>\n",
       "      <td>2070.152284</td>\n",
       "      <td>141516.745079</td>\n",
       "      <td>376.187114</td>\n",
       "      <td>2039100.0</td>\n",
       "    </tr>\n",
       "  </tbody>\n",
       "</table>\n",
       "</div>"
      ],
      "text/plain": [
       "               mean            var         std        sum\n",
       "             profit         profit      profit     profit\n",
       "tariff                                                   \n",
       "smart   1289.973531  669785.708006  818.404367  2875351.0\n",
       "ultra   2070.152284  141516.745079  376.187114  2039100.0"
      ]
     },
     "execution_count": 31,
     "metadata": {},
     "output_type": "execute_result"
    }
   ],
   "source": [
    "profit_to_month.pivot_table(index= 'tariff',values= 'profit', aggfunc=['mean', 'var','std','sum'])"
   ]
  },
  {
   "cell_type": "markdown",
   "id": "fef9ef5b",
   "metadata": {},
   "source": [
    "На графике распределения величин мы видим,что основная масса величин сосредоточена на значении 1950руб-значении абонентской платы в месяц. Очень редки те клиенты, которые превышают лимит и доплачивают за трафик дополнительно. Это же доказывает и наша средняя по выгрузке,она равна 2070, и она очень близка к цене абонентской платы.\n",
    "\n"
   ]
  },
  {
   "cell_type": "markdown",
   "id": "4c86de17",
   "metadata": {},
   "source": [
    "### Гипотеза \"Средняя выручка пользователей тарифов «Ультра» и «Смарт» равны\""
   ]
  },
  {
   "cell_type": "markdown",
   "id": "8dc224e7",
   "metadata": {},
   "source": [
    "\n",
    "Нулевая гипотеза будет звучать так : **Средняя выручка пользователей тарифов «Ультра» и «Смарт» равны.**\n",
    "\n",
    "Альтернативная гипотеза(двусторонняя): **Средняя выручка пользователей тарифов «Ультра» и «Смарт» различаются.**\n",
    "В данном случае в гипотезе(из задания) нам не уточнено в какую сторону идет различие, поэтому рассматриваем двустороннюю гипотезу.\n",
    "Наш датасет довольно маленький, можно было просто сравнить средние значения по каждой выборке. Но, для практики, мы воспользуемся методом `st.ttest_ind`. "
   ]
  },
  {
   "cell_type": "code",
   "execution_count": 32,
   "id": "d79810eb",
   "metadata": {
    "scrolled": true
   },
   "outputs": [
    {
     "name": "stdout",
     "output_type": "stream",
     "text": [
      "p-значение: 4.2606313931076085e-250\n",
      "Отвергаем нулевую гипотезу\n"
     ]
    }
   ],
   "source": [
    "ultra = profit_to_month[profit_to_month['tariff'] == 'ultra']['profit']#выручка по ультра\n",
    "smart = profit_to_month[profit_to_month['tariff'] == 'smart']['profit']#выручка по смарт\n",
    "alpha = .01\n",
    "\n",
    "results = st.ttest_ind(#используем такой тест так как наши выборки независимы и нормально распределены\n",
    "    ultra, smart, \n",
    "    equal_var=False)#устанавливаем значение false так как наши дисперсии не равны\n",
    "\n",
    "print('p-значение:', results.pvalue)\n",
    "\n",
    "if results.pvalue < alpha:\n",
    "    print(\"Отвергаем нулевую гипотезу\")\n",
    "else:\n",
    "    print(\"Не получилось отвергнуть нулевую гипотезу\") "
   ]
  },
  {
   "cell_type": "markdown",
   "id": "d4bcf4ac",
   "metadata": {},
   "source": [
    "C помощью метода `st.ttest_ind` нам удалось посчитать уровень значимости. Он оказался намного меньше уровня статистической значимости 0,1. Значит, мы можем предположить, что гипотеза \"Средняя выручка пользователей тарифов «Ультра» и «Смарт» равны\" не верна."
   ]
  },
  {
   "cell_type": "markdown",
   "id": "c44c605e",
   "metadata": {},
   "source": [
    "### Гипотеза \"Средняя выручка клиентов из города \"Москва\" равна средней выручке клиентов из других городов.\""
   ]
  },
  {
   "cell_type": "markdown",
   "id": "50f24deb",
   "metadata": {},
   "source": [
    "\n",
    "Нулевая гипотеза будет звучать так : **Средняя выручка клиентов из города \"Москва\" равна средней выручке клиентов из других городов.**\n",
    "\n",
    "Альтернативная гипотеза(двусторонняя): **Средняя выручка клиентов из Москвы различается со средней выручкой клиентов из других городов.**\n"
   ]
  },
  {
   "cell_type": "code",
   "execution_count": 33,
   "id": "7d00958c",
   "metadata": {},
   "outputs": [
    {
     "name": "stdout",
     "output_type": "stream",
     "text": [
      "p-значение: 0.5257376663729298\n",
      "Не получилось отвергнуть нулевую гипотезу\n"
     ]
    }
   ],
   "source": [
    "loc_moscow = profit_to_month[profit_to_month['city'] == 'Москва']['profit']#выручка по москве\n",
    "loc_other = profit_to_month[profit_to_month['city'] != 'Москва']['profit']#выручка по другим локациям\n",
    "alpha = .05\n",
    "\n",
    "results = st.ttest_ind(\n",
    "    loc_moscow, loc_other, \n",
    "    equal_var=False)#устанавливаем значение false так как наши дисперсии не равны\n",
    "\n",
    "print('p-значение:', results.pvalue)\n",
    "\n",
    "if results.pvalue < alpha:\n",
    "    print(\"Отвергаем нулевую гипотезу\")\n",
    "else:\n",
    "    print(\"Не получилось отвергнуть нулевую гипотезу\") "
   ]
  },
  {
   "cell_type": "code",
   "execution_count": 34,
   "id": "c53cb3ff",
   "metadata": {},
   "outputs": [
    {
     "data": {
      "text/plain": [
       "1546.7135842880523"
      ]
     },
     "execution_count": 34,
     "metadata": {},
     "output_type": "execute_result"
    }
   ],
   "source": [
    "profit_to_month[profit_to_month['city'] == 'Москва']['profit'].mean()\n"
   ]
  },
  {
   "cell_type": "code",
   "execution_count": 35,
   "id": "c6abf03f",
   "metadata": {},
   "outputs": [
    {
     "data": {
      "text/plain": [
       "1524.9362274298885"
      ]
     },
     "execution_count": 35,
     "metadata": {},
     "output_type": "execute_result"
    }
   ],
   "source": [
    "profit_to_month[profit_to_month['city'] != 'Москва']['profit'].mean()"
   ]
  },
  {
   "cell_type": "markdown",
   "id": "bac4f65b",
   "metadata": {},
   "source": [
    "Произведя расчеты, мы с большой уверенностью можем сказать, что гипотеза \"Средняя выручка клиентов из города \"Москва\" равна средней выручке клиентов из других городов\" верна. Р-значение равно почти 0,5, при значении уровня статистической значимость в 0,05. Данная гипотеза определенно имеет место быть. \n",
    "Для дополнительной проверки, найдем среднее по выручке в городе Москва и в других локациях: 1526 и 1501 соответственно. Два значения  различаются всего в 25руб.\n",
    "\n",
    "То есть гипотеза, представленная в задании, которая звучит как \"Средняя выручка клиентов из Москвы различается со средней выручкой клиентов из других городов\", не верна."
   ]
  },
  {
   "cell_type": "markdown",
   "id": "6b40c587",
   "metadata": {},
   "source": [
    "## Общий вывод:"
   ]
  },
  {
   "cell_type": "markdown",
   "id": "5801045e",
   "metadata": {},
   "source": [
    "Произведя необходимые расчеты, мы узнали, что :\n",
    "- Нулевая гипотеза Средняя выручка пользователей тарифов «Ультра» и «Смарт» равны **не верна**.\n",
    "Будет **верна** альтернативная ей гипотеза : Средняя выручка пользователей тарифов «Ультра» и «Смарт» различаются.\n",
    "\n",
    "- Нулевая гипотеза Средняя выручка клиентов из города \"Москва\" равна средней выручке клиентов из других городов **верна**. Альтернативная гипотеза Средняя выручка клиентов из Москвы различается со средней выручкой клиентов из других городов **не верна**."
   ]
  },
  {
   "cell_type": "markdown",
   "id": "d1097113",
   "metadata": {},
   "source": [
    "Опираясь на проведенный анализ, можно утверждать следующее:\n",
    "- Прибыль от тарифа Смарт за 2018г была больше, чем прибыль от тарифа Ультра, на 800.000руб\n",
    "- Клиенты, использующие тариф Смарт платят сверх абонентской платы намного чаще, чем клиенты тарифа Ультра.\n",
    "- Абонентская плата за тариф Смарт является доступной для большего количества клиентов. Разница в абонентской плате за Смарт и Ультра - аж 1400руб.\n",
    "\n",
    "Возможно, с точки зрения клиентоориентированности, можно было предложить клиентам тарифа Смарт перейти на тариф Ультра, но только тем кто тратит больше 1950руб в месяц. Тогда и клиент доволен - не выходит за рамки абонентской платы, и компания довольна - тариф Ультра будет приносить в компанию ровно по 1950руб ежемесячно,ни больше и ни меньше.\n",
    "Однако, боюсь что такая цена за тариф может отпугнуть клиентов, кто выходит за эти рамки трат не так часто, и в целом почти всегда тратит меньше 1500руб в месяц, и так же это может повлиять на новых клиентов.\n",
    "\n",
    "Поэтому я рискну предположить, что Тариф Смарт является наиболее удачным тарифом для компании."
   ]
  }
 ],
 "metadata": {
  "ExecuteTimeLog": [
   {
    "duration": 932,
    "start_time": "2022-02-09T05:46:03.940Z"
   },
   {
    "duration": 15,
    "start_time": "2022-02-09T05:50:03.125Z"
   },
   {
    "duration": 12,
    "start_time": "2022-02-09T05:53:01.319Z"
   },
   {
    "duration": 12,
    "start_time": "2022-02-09T06:01:34.948Z"
   },
   {
    "duration": 14,
    "start_time": "2022-02-09T06:01:46.347Z"
   },
   {
    "duration": 12,
    "start_time": "2022-02-09T06:01:53.302Z"
   },
   {
    "duration": 14,
    "start_time": "2022-02-09T06:02:27.324Z"
   },
   {
    "duration": 13,
    "start_time": "2022-02-09T06:03:04.200Z"
   },
   {
    "duration": 89,
    "start_time": "2022-02-09T06:12:36.135Z"
   },
   {
    "duration": 76,
    "start_time": "2022-02-09T06:13:52.274Z"
   },
   {
    "duration": 10,
    "start_time": "2022-02-09T06:21:06.467Z"
   },
   {
    "duration": 7,
    "start_time": "2022-02-09T06:21:32.380Z"
   },
   {
    "duration": 10,
    "start_time": "2022-02-09T06:24:00.283Z"
   },
   {
    "duration": 91,
    "start_time": "2022-02-09T06:26:58.606Z"
   },
   {
    "duration": 81,
    "start_time": "2022-02-09T06:29:08.456Z"
   },
   {
    "duration": 565,
    "start_time": "2022-02-09T06:43:45.073Z"
   },
   {
    "duration": -20,
    "start_time": "2022-02-09T06:44:05.193Z"
   },
   {
    "duration": -18,
    "start_time": "2022-02-09T06:44:17.368Z"
   },
   {
    "duration": 7747,
    "start_time": "2022-02-09T06:44:19.531Z"
   },
   {
    "duration": 6,
    "start_time": "2022-02-09T06:45:42.417Z"
   },
   {
    "duration": 100,
    "start_time": "2022-02-09T06:46:18.976Z"
   },
   {
    "duration": 14,
    "start_time": "2022-02-09T06:46:29.294Z"
   },
   {
    "duration": 19,
    "start_time": "2022-02-09T06:48:15.210Z"
   },
   {
    "duration": 6,
    "start_time": "2022-02-09T06:53:26.093Z"
   },
   {
    "duration": 7,
    "start_time": "2022-02-09T06:53:54.748Z"
   },
   {
    "duration": 7,
    "start_time": "2022-02-09T06:54:52.779Z"
   },
   {
    "duration": 6,
    "start_time": "2022-02-09T06:55:36.442Z"
   },
   {
    "duration": 113,
    "start_time": "2022-02-09T07:04:14.960Z"
   },
   {
    "duration": 666,
    "start_time": "2022-02-09T07:04:41.518Z"
   },
   {
    "duration": 757,
    "start_time": "2022-02-09T07:05:04.261Z"
   },
   {
    "duration": 337,
    "start_time": "2022-02-09T07:05:31.776Z"
   },
   {
    "duration": 368,
    "start_time": "2022-02-09T07:14:59.772Z"
   },
   {
    "duration": 18,
    "start_time": "2022-02-09T07:15:20.575Z"
   },
   {
    "duration": 331,
    "start_time": "2022-02-09T07:17:07.075Z"
   },
   {
    "duration": 308,
    "start_time": "2022-02-09T07:17:41.451Z"
   },
   {
    "duration": 751,
    "start_time": "2022-02-09T07:18:11.476Z"
   },
   {
    "duration": 18,
    "start_time": "2022-02-09T07:20:30.686Z"
   },
   {
    "duration": 18,
    "start_time": "2022-02-09T07:20:42.612Z"
   },
   {
    "duration": 3167,
    "start_time": "2022-02-09T07:23:56.404Z"
   },
   {
    "duration": 417,
    "start_time": "2022-02-09T07:27:40.667Z"
   },
   {
    "duration": 356,
    "start_time": "2022-02-09T07:30:51.574Z"
   },
   {
    "duration": 11,
    "start_time": "2022-02-09T07:35:17.467Z"
   },
   {
    "duration": 21,
    "start_time": "2022-02-09T07:35:43.765Z"
   },
   {
    "duration": 317,
    "start_time": "2022-02-09T07:39:12.476Z"
   },
   {
    "duration": 22,
    "start_time": "2022-02-09T07:39:35.671Z"
   },
   {
    "duration": 1031,
    "start_time": "2022-02-09T07:40:06.424Z"
   },
   {
    "duration": 20,
    "start_time": "2022-02-09T07:47:18.828Z"
   },
   {
    "duration": 28,
    "start_time": "2022-02-09T09:10:27.275Z"
   },
   {
    "duration": 15,
    "start_time": "2022-02-09T09:10:34.402Z"
   },
   {
    "duration": 24,
    "start_time": "2022-02-09T09:12:45.237Z"
   },
   {
    "duration": 19,
    "start_time": "2022-02-09T09:13:03.270Z"
   },
   {
    "duration": 20,
    "start_time": "2022-02-09T09:14:07.852Z"
   },
   {
    "duration": 20,
    "start_time": "2022-02-09T09:15:33.994Z"
   },
   {
    "duration": 19,
    "start_time": "2022-02-09T09:15:45.257Z"
   },
   {
    "duration": 18,
    "start_time": "2022-02-09T09:15:57.483Z"
   },
   {
    "duration": 22,
    "start_time": "2022-02-09T09:16:02.531Z"
   },
   {
    "duration": 17,
    "start_time": "2022-02-09T09:16:09.168Z"
   },
   {
    "duration": 35,
    "start_time": "2022-02-09T09:16:13.038Z"
   },
   {
    "duration": 19,
    "start_time": "2022-02-09T09:16:24.341Z"
   },
   {
    "duration": 75,
    "start_time": "2022-02-09T09:16:32.486Z"
   },
   {
    "duration": 15,
    "start_time": "2022-02-09T09:16:40.061Z"
   },
   {
    "duration": 18,
    "start_time": "2022-02-09T09:16:42.954Z"
   },
   {
    "duration": 15,
    "start_time": "2022-02-09T09:16:46.672Z"
   },
   {
    "duration": 34,
    "start_time": "2022-02-09T09:16:50.355Z"
   },
   {
    "duration": 28,
    "start_time": "2022-02-09T09:16:53.407Z"
   },
   {
    "duration": 18,
    "start_time": "2022-02-09T09:24:37.773Z"
   },
   {
    "duration": 20,
    "start_time": "2022-02-09T09:24:42.099Z"
   },
   {
    "duration": 17,
    "start_time": "2022-02-09T09:24:48.089Z"
   },
   {
    "duration": 18,
    "start_time": "2022-02-09T09:24:51.333Z"
   },
   {
    "duration": 20,
    "start_time": "2022-02-09T09:24:54.252Z"
   },
   {
    "duration": 19,
    "start_time": "2022-02-09T09:25:03.882Z"
   },
   {
    "duration": 77,
    "start_time": "2022-02-09T09:25:19.854Z"
   },
   {
    "duration": 13,
    "start_time": "2022-02-09T09:25:19.934Z"
   },
   {
    "duration": 19,
    "start_time": "2022-02-09T09:25:19.950Z"
   },
   {
    "duration": 14,
    "start_time": "2022-02-09T09:25:19.972Z"
   },
   {
    "duration": 13,
    "start_time": "2022-02-09T09:25:19.988Z"
   },
   {
    "duration": 19,
    "start_time": "2022-02-09T09:25:34.404Z"
   },
   {
    "duration": 16,
    "start_time": "2022-02-09T09:25:48.258Z"
   },
   {
    "duration": 40,
    "start_time": "2022-02-09T09:27:21.814Z"
   },
   {
    "duration": 8,
    "start_time": "2022-02-09T09:28:56.161Z"
   },
   {
    "duration": 7,
    "start_time": "2022-02-09T09:29:53.816Z"
   },
   {
    "duration": 78,
    "start_time": "2022-02-09T09:30:08.169Z"
   },
   {
    "duration": 14,
    "start_time": "2022-02-09T09:30:08.250Z"
   },
   {
    "duration": 13,
    "start_time": "2022-02-09T09:30:08.267Z"
   },
   {
    "duration": 7,
    "start_time": "2022-02-09T09:30:10.458Z"
   },
   {
    "duration": 18,
    "start_time": "2022-02-09T09:41:09.040Z"
   },
   {
    "duration": 20,
    "start_time": "2022-02-09T09:42:00.801Z"
   },
   {
    "duration": 6,
    "start_time": "2022-02-09T09:42:16.619Z"
   },
   {
    "duration": 78,
    "start_time": "2022-02-09T09:42:28.463Z"
   },
   {
    "duration": 15,
    "start_time": "2022-02-09T09:42:28.544Z"
   },
   {
    "duration": 13,
    "start_time": "2022-02-09T09:42:28.561Z"
   },
   {
    "duration": 6,
    "start_time": "2022-02-09T09:42:35.864Z"
   },
   {
    "duration": 18,
    "start_time": "2022-02-09T09:42:40.494Z"
   },
   {
    "duration": 90,
    "start_time": "2022-02-09T09:45:03.969Z"
   },
   {
    "duration": 19,
    "start_time": "2022-02-09T09:45:04.063Z"
   },
   {
    "duration": 15,
    "start_time": "2022-02-09T09:45:04.086Z"
   },
   {
    "duration": 38,
    "start_time": "2022-02-09T09:45:25.306Z"
   },
   {
    "duration": 36,
    "start_time": "2022-02-09T09:45:54.948Z"
   },
   {
    "duration": 29,
    "start_time": "2022-02-09T09:46:37.423Z"
   },
   {
    "duration": 16,
    "start_time": "2022-02-09T09:46:56.138Z"
   },
   {
    "duration": 18,
    "start_time": "2022-02-09T09:48:09.025Z"
   },
   {
    "duration": 20,
    "start_time": "2022-02-09T09:48:58.614Z"
   },
   {
    "duration": 7,
    "start_time": "2022-02-09T09:49:58.372Z"
   },
   {
    "duration": 6,
    "start_time": "2022-02-09T09:50:05.845Z"
   },
   {
    "duration": 6,
    "start_time": "2022-02-09T09:50:16.571Z"
   },
   {
    "duration": 64,
    "start_time": "2022-02-09T09:54:25.750Z"
   },
   {
    "duration": 44,
    "start_time": "2022-02-09T09:54:40.908Z"
   },
   {
    "duration": 27,
    "start_time": "2022-02-09T09:59:56.814Z"
   },
   {
    "duration": 26,
    "start_time": "2022-02-09T10:00:20.437Z"
   },
   {
    "duration": 6,
    "start_time": "2022-02-09T10:02:05.755Z"
   },
   {
    "duration": 6,
    "start_time": "2022-02-09T10:02:17.505Z"
   },
   {
    "duration": 18359,
    "start_time": "2022-02-09T10:03:41.505Z"
   },
   {
    "duration": 6,
    "start_time": "2022-02-09T10:04:12.378Z"
   },
   {
    "duration": 108,
    "start_time": "2022-02-09T10:09:16.908Z"
   },
   {
    "duration": 103,
    "start_time": "2022-02-09T10:11:10.351Z"
   },
   {
    "duration": 5,
    "start_time": "2022-02-09T10:11:39.055Z"
   },
   {
    "duration": 8,
    "start_time": "2022-02-09T10:11:53.407Z"
   },
   {
    "duration": 6,
    "start_time": "2022-02-09T10:13:16.586Z"
   },
   {
    "duration": 117,
    "start_time": "2022-02-09T10:17:06.712Z"
   },
   {
    "duration": 8,
    "start_time": "2022-02-09T10:17:27.877Z"
   },
   {
    "duration": 8,
    "start_time": "2022-02-09T10:17:52.670Z"
   },
   {
    "duration": 28,
    "start_time": "2022-02-09T10:19:38.662Z"
   },
   {
    "duration": 27,
    "start_time": "2022-02-09T10:22:11.296Z"
   },
   {
    "duration": 18,
    "start_time": "2022-02-09T10:27:00.697Z"
   },
   {
    "duration": 15,
    "start_time": "2022-02-09T10:28:24.685Z"
   },
   {
    "duration": 7,
    "start_time": "2022-02-09T10:28:49.655Z"
   },
   {
    "duration": 17,
    "start_time": "2022-02-09T10:29:20.820Z"
   },
   {
    "duration": 7,
    "start_time": "2022-02-09T10:29:36.973Z"
   },
   {
    "duration": 114,
    "start_time": "2022-02-09T10:59:19.327Z"
   },
   {
    "duration": 19,
    "start_time": "2022-02-09T10:59:25.738Z"
   },
   {
    "duration": 20,
    "start_time": "2022-02-09T11:01:12.647Z"
   },
   {
    "duration": 8,
    "start_time": "2022-02-09T11:08:26.194Z"
   },
   {
    "duration": 7,
    "start_time": "2022-02-09T11:08:41.603Z"
   },
   {
    "duration": 6,
    "start_time": "2022-02-09T11:10:03.408Z"
   },
   {
    "duration": 7,
    "start_time": "2022-02-09T11:10:57.158Z"
   },
   {
    "duration": 7,
    "start_time": "2022-02-09T11:11:52.095Z"
   },
   {
    "duration": 7,
    "start_time": "2022-02-09T11:12:43.836Z"
   },
   {
    "duration": 9,
    "start_time": "2022-02-09T11:15:08.782Z"
   },
   {
    "duration": 6,
    "start_time": "2022-02-09T11:16:25.899Z"
   },
   {
    "duration": 8,
    "start_time": "2022-02-09T11:16:28.384Z"
   },
   {
    "duration": 941,
    "start_time": "2022-02-09T11:20:27.872Z"
   },
   {
    "duration": 22,
    "start_time": "2022-02-09T11:21:41.948Z"
   },
   {
    "duration": 10,
    "start_time": "2022-02-09T11:27:25.064Z"
   },
   {
    "duration": 14,
    "start_time": "2022-02-09T11:44:07.716Z"
   },
   {
    "duration": 20,
    "start_time": "2022-02-09T11:44:52.358Z"
   },
   {
    "duration": 10,
    "start_time": "2022-02-09T11:47:47.947Z"
   },
   {
    "duration": 18,
    "start_time": "2022-02-09T11:48:47.293Z"
   },
   {
    "duration": 21,
    "start_time": "2022-02-09T11:56:29.380Z"
   },
   {
    "duration": 329,
    "start_time": "2022-02-09T11:56:58.131Z"
   },
   {
    "duration": 1700,
    "start_time": "2022-02-09T11:57:27.704Z"
   },
   {
    "duration": 707,
    "start_time": "2022-02-09T11:58:10.674Z"
   },
   {
    "duration": 456,
    "start_time": "2022-02-09T11:58:19.528Z"
   },
   {
    "duration": 15,
    "start_time": "2022-02-09T11:58:46.495Z"
   },
   {
    "duration": 19,
    "start_time": "2022-02-09T11:59:05.797Z"
   },
   {
    "duration": 15,
    "start_time": "2022-02-09T11:59:08.819Z"
   },
   {
    "duration": 13824,
    "start_time": "2022-02-09T11:59:34.157Z"
   },
   {
    "duration": 80,
    "start_time": "2022-02-09T12:00:23.751Z"
   },
   {
    "duration": 27,
    "start_time": "2022-02-09T12:00:23.833Z"
   },
   {
    "duration": 11,
    "start_time": "2022-02-09T12:00:23.863Z"
   },
   {
    "duration": 25,
    "start_time": "2022-02-09T12:00:23.877Z"
   },
   {
    "duration": 6,
    "start_time": "2022-02-09T12:00:23.904Z"
   },
   {
    "duration": 47,
    "start_time": "2022-02-09T12:00:23.912Z"
   },
   {
    "duration": 8,
    "start_time": "2022-02-09T12:00:23.961Z"
   },
   {
    "duration": 25,
    "start_time": "2022-02-09T12:00:23.971Z"
   },
   {
    "duration": 24,
    "start_time": "2022-02-09T12:00:24.000Z"
   },
   {
    "duration": 47,
    "start_time": "2022-02-09T12:00:24.027Z"
   },
   {
    "duration": 7,
    "start_time": "2022-02-09T12:00:24.076Z"
   },
   {
    "duration": 14,
    "start_time": "2022-02-09T12:00:24.086Z"
   },
   {
    "duration": 6,
    "start_time": "2022-02-09T12:00:24.103Z"
   },
   {
    "duration": 60,
    "start_time": "2022-02-09T12:00:24.112Z"
   },
   {
    "duration": 18,
    "start_time": "2022-02-09T12:00:24.174Z"
   },
   {
    "duration": 7,
    "start_time": "2022-02-09T12:00:24.194Z"
   },
   {
    "duration": 7,
    "start_time": "2022-02-09T12:00:24.203Z"
   },
   {
    "duration": 48,
    "start_time": "2022-02-09T12:00:24.212Z"
   },
   {
    "duration": 8,
    "start_time": "2022-02-09T12:00:24.263Z"
   },
   {
    "duration": 7,
    "start_time": "2022-02-09T12:00:24.273Z"
   },
   {
    "duration": 22,
    "start_time": "2022-02-09T12:00:24.282Z"
   },
   {
    "duration": 55,
    "start_time": "2022-02-09T12:00:24.306Z"
   },
   {
    "duration": 18,
    "start_time": "2022-02-09T12:00:24.364Z"
   },
   {
    "duration": 22,
    "start_time": "2022-02-09T12:00:39.301Z"
   },
   {
    "duration": 13,
    "start_time": "2022-02-09T12:00:48.888Z"
   },
   {
    "duration": 14,
    "start_time": "2022-02-09T12:00:56.446Z"
   },
   {
    "duration": 8,
    "start_time": "2022-02-09T12:01:30.639Z"
   },
   {
    "duration": 7,
    "start_time": "2022-02-09T12:02:16.164Z"
   },
   {
    "duration": 7,
    "start_time": "2022-02-09T12:02:19.249Z"
   },
   {
    "duration": 10,
    "start_time": "2022-02-09T12:02:32.161Z"
   },
   {
    "duration": 562,
    "start_time": "2022-02-09T12:10:32.601Z"
   },
   {
    "duration": 6,
    "start_time": "2022-02-09T12:13:13.445Z"
   },
   {
    "duration": 5,
    "start_time": "2022-02-09T12:13:23.802Z"
   },
   {
    "duration": 5,
    "start_time": "2022-02-09T12:13:29.521Z"
   },
   {
    "duration": 5,
    "start_time": "2022-02-09T12:13:34.536Z"
   },
   {
    "duration": 28,
    "start_time": "2022-02-09T12:14:59.939Z"
   },
   {
    "duration": 276,
    "start_time": "2022-03-10T05:24:52.038Z"
   },
   {
    "duration": 3088,
    "start_time": "2022-03-10T05:24:57.688Z"
   },
   {
    "duration": 358,
    "start_time": "2022-03-10T05:25:00.421Z"
   },
   {
    "duration": 353,
    "start_time": "2022-03-10T05:25:00.427Z"
   },
   {
    "duration": 349,
    "start_time": "2022-03-10T05:25:00.432Z"
   },
   {
    "duration": 350,
    "start_time": "2022-03-10T05:25:00.433Z"
   },
   {
    "duration": 349,
    "start_time": "2022-03-10T05:25:00.435Z"
   },
   {
    "duration": 349,
    "start_time": "2022-03-10T05:25:00.436Z"
   },
   {
    "duration": 348,
    "start_time": "2022-03-10T05:25:00.438Z"
   },
   {
    "duration": 348,
    "start_time": "2022-03-10T05:25:00.439Z"
   },
   {
    "duration": 347,
    "start_time": "2022-03-10T05:25:00.441Z"
   },
   {
    "duration": 346,
    "start_time": "2022-03-10T05:25:00.443Z"
   },
   {
    "duration": 346,
    "start_time": "2022-03-10T05:25:00.444Z"
   },
   {
    "duration": 343,
    "start_time": "2022-03-10T05:25:00.448Z"
   },
   {
    "duration": 343,
    "start_time": "2022-03-10T05:25:00.449Z"
   },
   {
    "duration": 343,
    "start_time": "2022-03-10T05:25:00.450Z"
   },
   {
    "duration": 237,
    "start_time": "2022-03-10T05:25:12.299Z"
   },
   {
    "duration": 1448,
    "start_time": "2022-03-10T05:25:24.921Z"
   },
   {
    "duration": 363,
    "start_time": "2022-03-10T05:25:26.009Z"
   },
   {
    "duration": 362,
    "start_time": "2022-03-10T05:25:26.011Z"
   },
   {
    "duration": 358,
    "start_time": "2022-03-10T05:25:26.017Z"
   },
   {
    "duration": 357,
    "start_time": "2022-03-10T05:25:26.019Z"
   },
   {
    "duration": 356,
    "start_time": "2022-03-10T05:25:26.022Z"
   },
   {
    "duration": 357,
    "start_time": "2022-03-10T05:25:26.023Z"
   },
   {
    "duration": 355,
    "start_time": "2022-03-10T05:25:26.026Z"
   },
   {
    "duration": 356,
    "start_time": "2022-03-10T05:25:26.027Z"
   },
   {
    "duration": 354,
    "start_time": "2022-03-10T05:25:26.031Z"
   },
   {
    "duration": 354,
    "start_time": "2022-03-10T05:25:26.032Z"
   },
   {
    "duration": 353,
    "start_time": "2022-03-10T05:25:26.034Z"
   },
   {
    "duration": 353,
    "start_time": "2022-03-10T05:25:26.035Z"
   },
   {
    "duration": 353,
    "start_time": "2022-03-10T05:25:26.036Z"
   },
   {
    "duration": 190,
    "start_time": "2022-03-10T05:26:00.150Z"
   },
   {
    "duration": 180,
    "start_time": "2022-03-10T05:26:32.464Z"
   },
   {
    "duration": 27,
    "start_time": "2022-03-10T05:26:32.646Z"
   },
   {
    "duration": 126,
    "start_time": "2022-03-10T05:26:32.675Z"
   },
   {
    "duration": 20,
    "start_time": "2022-03-10T05:26:32.803Z"
   },
   {
    "duration": 8,
    "start_time": "2022-03-10T05:26:46.404Z"
   },
   {
    "duration": 150,
    "start_time": "2022-03-10T05:26:52.796Z"
   },
   {
    "duration": 70,
    "start_time": "2022-03-10T05:26:56.237Z"
   },
   {
    "duration": 8,
    "start_time": "2022-03-10T05:26:59.099Z"
   },
   {
    "duration": 6,
    "start_time": "2022-03-10T05:27:00.802Z"
   },
   {
    "duration": 20,
    "start_time": "2022-03-10T05:27:03.569Z"
   },
   {
    "duration": 53,
    "start_time": "2022-03-10T05:27:16.290Z"
   },
   {
    "duration": 66,
    "start_time": "2022-03-10T05:27:17.997Z"
   },
   {
    "duration": 38,
    "start_time": "2022-03-10T05:27:20.563Z"
   },
   {
    "duration": 34,
    "start_time": "2022-03-10T05:27:23.225Z"
   },
   {
    "duration": 95,
    "start_time": "2022-03-10T05:27:26.660Z"
   },
   {
    "duration": 90,
    "start_time": "2022-03-10T05:27:33.884Z"
   },
   {
    "duration": 93,
    "start_time": "2022-03-10T05:28:09.954Z"
   },
   {
    "duration": 129,
    "start_time": "2022-03-10T05:31:29.886Z"
   },
   {
    "duration": 178,
    "start_time": "2022-03-10T05:38:17.581Z"
   },
   {
    "duration": 29,
    "start_time": "2022-03-10T05:38:17.762Z"
   },
   {
    "duration": 112,
    "start_time": "2022-03-10T05:38:17.793Z"
   },
   {
    "duration": 22,
    "start_time": "2022-03-10T05:38:17.908Z"
   },
   {
    "duration": 172,
    "start_time": "2022-03-10T05:38:17.931Z"
   },
   {
    "duration": 71,
    "start_time": "2022-03-10T05:38:18.105Z"
   },
   {
    "duration": 25,
    "start_time": "2022-03-10T05:38:18.178Z"
   },
   {
    "duration": 8,
    "start_time": "2022-03-10T05:38:18.205Z"
   },
   {
    "duration": 20,
    "start_time": "2022-03-10T05:38:18.217Z"
   },
   {
    "duration": 3,
    "start_time": "2022-03-10T05:38:18.240Z"
   },
   {
    "duration": 89,
    "start_time": "2022-03-10T05:38:18.245Z"
   },
   {
    "duration": 50,
    "start_time": "2022-03-10T05:38:18.336Z"
   },
   {
    "duration": 37,
    "start_time": "2022-03-10T05:38:18.402Z"
   },
   {
    "duration": 34,
    "start_time": "2022-03-10T05:38:18.441Z"
   },
   {
    "duration": 74,
    "start_time": "2022-03-10T05:38:20.087Z"
   },
   {
    "duration": 129,
    "start_time": "2022-03-10T05:56:13.500Z"
   },
   {
    "duration": 191,
    "start_time": "2022-03-10T05:56:28.031Z"
   },
   {
    "duration": 29,
    "start_time": "2022-03-10T05:56:28.225Z"
   },
   {
    "duration": 116,
    "start_time": "2022-03-10T05:56:28.257Z"
   },
   {
    "duration": 35,
    "start_time": "2022-03-10T05:56:28.376Z"
   },
   {
    "duration": 228,
    "start_time": "2022-03-10T05:56:28.413Z"
   },
   {
    "duration": 118,
    "start_time": "2022-03-10T05:56:28.644Z"
   },
   {
    "duration": 10,
    "start_time": "2022-03-10T05:56:28.765Z"
   },
   {
    "duration": 8,
    "start_time": "2022-03-10T05:56:28.777Z"
   },
   {
    "duration": 19,
    "start_time": "2022-03-10T05:56:28.801Z"
   },
   {
    "duration": 8,
    "start_time": "2022-03-10T05:56:28.823Z"
   },
   {
    "duration": 74,
    "start_time": "2022-03-10T05:56:28.833Z"
   },
   {
    "duration": 64,
    "start_time": "2022-03-10T05:56:28.908Z"
   },
   {
    "duration": 58,
    "start_time": "2022-03-10T05:56:28.974Z"
   },
   {
    "duration": 35,
    "start_time": "2022-03-10T05:56:29.034Z"
   },
   {
    "duration": 132,
    "start_time": "2022-03-10T05:57:11.211Z"
   },
   {
    "duration": 195,
    "start_time": "2022-03-10T05:58:29.695Z"
   },
   {
    "duration": 178,
    "start_time": "2022-03-10T05:58:39.601Z"
   },
   {
    "duration": 178,
    "start_time": "2022-03-10T06:01:21.389Z"
   },
   {
    "duration": 19,
    "start_time": "2022-03-10T06:03:18.369Z"
   },
   {
    "duration": 19,
    "start_time": "2022-03-10T06:08:27.784Z"
   },
   {
    "duration": 29,
    "start_time": "2022-03-10T06:13:59.202Z"
   },
   {
    "duration": 54,
    "start_time": "2022-03-10T06:32:00.812Z"
   },
   {
    "duration": 7071,
    "start_time": "2022-03-10T06:35:08.963Z"
   },
   {
    "duration": 7475,
    "start_time": "2022-03-10T06:35:28.092Z"
   },
   {
    "duration": 330,
    "start_time": "2022-03-10T06:36:23.317Z"
   },
   {
    "duration": 313,
    "start_time": "2022-03-10T06:36:34.071Z"
   },
   {
    "duration": 16,
    "start_time": "2022-03-10T06:40:57.151Z"
   },
   {
    "duration": 17,
    "start_time": "2022-03-10T06:41:01.934Z"
   },
   {
    "duration": 35,
    "start_time": "2022-03-10T06:42:46.494Z"
   },
   {
    "duration": 18,
    "start_time": "2022-03-10T07:21:15.439Z"
   },
   {
    "duration": 3,
    "start_time": "2022-03-10T07:22:02.054Z"
   },
   {
    "duration": 180,
    "start_time": "2022-03-10T07:22:38.585Z"
   },
   {
    "duration": 28,
    "start_time": "2022-03-10T07:22:38.767Z"
   },
   {
    "duration": 104,
    "start_time": "2022-03-10T07:22:38.797Z"
   },
   {
    "duration": 21,
    "start_time": "2022-03-10T07:22:38.903Z"
   },
   {
    "duration": 169,
    "start_time": "2022-03-10T07:22:38.926Z"
   },
   {
    "duration": 72,
    "start_time": "2022-03-10T07:22:39.102Z"
   },
   {
    "duration": 26,
    "start_time": "2022-03-10T07:22:39.176Z"
   },
   {
    "duration": 7,
    "start_time": "2022-03-10T07:22:39.203Z"
   },
   {
    "duration": 25,
    "start_time": "2022-03-10T07:22:39.213Z"
   },
   {
    "duration": 12,
    "start_time": "2022-03-10T07:22:39.241Z"
   },
   {
    "duration": 76,
    "start_time": "2022-03-10T07:22:39.256Z"
   },
   {
    "duration": 50,
    "start_time": "2022-03-10T07:22:39.334Z"
   },
   {
    "duration": 46,
    "start_time": "2022-03-10T07:22:39.387Z"
   },
   {
    "duration": 32,
    "start_time": "2022-03-10T07:22:39.435Z"
   },
   {
    "duration": 184,
    "start_time": "2022-03-10T07:22:39.469Z"
   },
   {
    "duration": 2,
    "start_time": "2022-03-10T07:22:39.656Z"
   },
   {
    "duration": 21,
    "start_time": "2022-03-10T07:22:39.660Z"
   },
   {
    "duration": 29,
    "start_time": "2022-03-10T07:22:39.683Z"
   },
   {
    "duration": 32,
    "start_time": "2022-03-10T07:22:43.181Z"
   },
   {
    "duration": 4997,
    "start_time": "2022-03-10T07:23:38.233Z"
   },
   {
    "duration": 17,
    "start_time": "2022-03-10T07:23:53.681Z"
   },
   {
    "duration": 5050,
    "start_time": "2022-03-10T07:24:16.206Z"
   },
   {
    "duration": 3030,
    "start_time": "2022-03-10T07:24:33.638Z"
   },
   {
    "duration": 16,
    "start_time": "2022-03-10T07:24:46.554Z"
   },
   {
    "duration": 11,
    "start_time": "2022-03-10T07:27:12.324Z"
   },
   {
    "duration": 21,
    "start_time": "2022-03-10T07:39:01.025Z"
   },
   {
    "duration": 5,
    "start_time": "2022-03-10T07:42:30.206Z"
   },
   {
    "duration": 1103,
    "start_time": "2022-03-10T07:42:33.970Z"
   },
   {
    "duration": 4,
    "start_time": "2022-03-10T07:42:50.420Z"
   },
   {
    "duration": 1213,
    "start_time": "2022-03-10T07:42:53.135Z"
   },
   {
    "duration": 169,
    "start_time": "2022-03-10T07:43:03.075Z"
   },
   {
    "duration": 28,
    "start_time": "2022-03-10T07:43:03.247Z"
   },
   {
    "duration": 112,
    "start_time": "2022-03-10T07:43:03.278Z"
   },
   {
    "duration": 22,
    "start_time": "2022-03-10T07:43:03.392Z"
   },
   {
    "duration": 173,
    "start_time": "2022-03-10T07:43:03.416Z"
   },
   {
    "duration": 74,
    "start_time": "2022-03-10T07:43:03.591Z"
   },
   {
    "duration": 9,
    "start_time": "2022-03-10T07:43:03.668Z"
   },
   {
    "duration": 45,
    "start_time": "2022-03-10T07:43:03.679Z"
   },
   {
    "duration": 37,
    "start_time": "2022-03-10T07:43:03.726Z"
   },
   {
    "duration": 35,
    "start_time": "2022-03-10T07:43:03.765Z"
   },
   {
    "duration": 73,
    "start_time": "2022-03-10T07:43:03.802Z"
   },
   {
    "duration": 51,
    "start_time": "2022-03-10T07:43:03.877Z"
   },
   {
    "duration": 33,
    "start_time": "2022-03-10T07:43:03.930Z"
   },
   {
    "duration": 38,
    "start_time": "2022-03-10T07:43:03.964Z"
   },
   {
    "duration": 173,
    "start_time": "2022-03-10T07:43:04.004Z"
   },
   {
    "duration": 3,
    "start_time": "2022-03-10T07:43:04.179Z"
   },
   {
    "duration": 4,
    "start_time": "2022-03-10T07:43:06.577Z"
   },
   {
    "duration": 1280,
    "start_time": "2022-03-10T07:43:09.034Z"
   },
   {
    "duration": 18,
    "start_time": "2022-03-10T07:43:53.539Z"
   },
   {
    "duration": 1115,
    "start_time": "2022-03-10T07:48:37.038Z"
   },
   {
    "duration": 4,
    "start_time": "2022-03-10T07:48:39.789Z"
   },
   {
    "duration": 1490,
    "start_time": "2022-03-10T07:48:41.947Z"
   },
   {
    "duration": 5,
    "start_time": "2022-03-10T07:49:15.830Z"
   },
   {
    "duration": 2101,
    "start_time": "2022-03-10T07:49:18.625Z"
   },
   {
    "duration": 13,
    "start_time": "2022-03-10T07:49:55.733Z"
   },
   {
    "duration": 236,
    "start_time": "2022-03-10T14:58:53.543Z"
   },
   {
    "duration": 755,
    "start_time": "2022-03-10T14:59:24.600Z"
   },
   {
    "duration": 25,
    "start_time": "2022-03-10T14:59:25.357Z"
   },
   {
    "duration": 97,
    "start_time": "2022-03-10T14:59:25.384Z"
   },
   {
    "duration": 19,
    "start_time": "2022-03-10T14:59:25.483Z"
   },
   {
    "duration": 138,
    "start_time": "2022-03-10T14:59:25.503Z"
   },
   {
    "duration": 76,
    "start_time": "2022-03-10T14:59:25.643Z"
   },
   {
    "duration": 7,
    "start_time": "2022-03-10T14:59:25.721Z"
   },
   {
    "duration": 16,
    "start_time": "2022-03-10T14:59:25.729Z"
   },
   {
    "duration": 27,
    "start_time": "2022-03-10T14:59:25.748Z"
   },
   {
    "duration": 4,
    "start_time": "2022-03-10T14:59:25.777Z"
   },
   {
    "duration": 73,
    "start_time": "2022-03-10T14:59:25.783Z"
   },
   {
    "duration": 57,
    "start_time": "2022-03-10T14:59:25.858Z"
   },
   {
    "duration": 31,
    "start_time": "2022-03-10T14:59:25.917Z"
   },
   {
    "duration": 38,
    "start_time": "2022-03-10T14:59:25.950Z"
   },
   {
    "duration": 176,
    "start_time": "2022-03-10T14:59:25.989Z"
   },
   {
    "duration": 2,
    "start_time": "2022-03-10T14:59:26.167Z"
   },
   {
    "duration": 15,
    "start_time": "2022-03-10T14:59:26.171Z"
   },
   {
    "duration": 5207,
    "start_time": "2022-03-10T14:59:31.797Z"
   },
   {
    "duration": 744,
    "start_time": "2022-03-10T15:00:36.874Z"
   },
   {
    "duration": 17,
    "start_time": "2022-03-10T15:02:24.269Z"
   },
   {
    "duration": 20,
    "start_time": "2022-03-10T15:02:50.241Z"
   },
   {
    "duration": 20,
    "start_time": "2022-03-10T15:03:31.373Z"
   },
   {
    "duration": 18,
    "start_time": "2022-03-10T15:03:49.132Z"
   },
   {
    "duration": 61,
    "start_time": "2022-03-10T15:11:24.621Z"
   },
   {
    "duration": 56,
    "start_time": "2022-03-10T15:12:55.781Z"
   },
   {
    "duration": 60,
    "start_time": "2022-03-10T15:14:13.072Z"
   },
   {
    "duration": 30,
    "start_time": "2022-03-10T15:17:06.063Z"
   },
   {
    "duration": 20,
    "start_time": "2022-03-10T15:20:08.577Z"
   },
   {
    "duration": 20,
    "start_time": "2022-03-10T15:20:24.506Z"
   },
   {
    "duration": 19,
    "start_time": "2022-03-10T15:21:35.008Z"
   },
   {
    "duration": 1014,
    "start_time": "2022-03-11T11:41:06.988Z"
   },
   {
    "duration": 33,
    "start_time": "2022-03-11T11:41:08.005Z"
   },
   {
    "duration": 140,
    "start_time": "2022-03-11T11:41:08.042Z"
   },
   {
    "duration": 30,
    "start_time": "2022-03-11T11:41:08.186Z"
   },
   {
    "duration": 214,
    "start_time": "2022-03-11T11:41:08.219Z"
   },
   {
    "duration": 120,
    "start_time": "2022-03-11T11:41:08.436Z"
   },
   {
    "duration": 24,
    "start_time": "2022-03-11T11:41:08.560Z"
   },
   {
    "duration": 15,
    "start_time": "2022-03-11T11:41:08.588Z"
   },
   {
    "duration": 56,
    "start_time": "2022-03-11T11:41:08.606Z"
   },
   {
    "duration": 95,
    "start_time": "2022-03-11T11:41:08.665Z"
   },
   {
    "duration": 62,
    "start_time": "2022-03-11T11:41:08.762Z"
   },
   {
    "duration": 60,
    "start_time": "2022-03-11T11:41:08.828Z"
   },
   {
    "duration": 42,
    "start_time": "2022-03-11T11:41:08.891Z"
   },
   {
    "duration": 72,
    "start_time": "2022-03-11T11:44:55.185Z"
   },
   {
    "duration": 84,
    "start_time": "2022-03-11T11:45:08.090Z"
   },
   {
    "duration": 123,
    "start_time": "2022-03-11T11:45:18.598Z"
   },
   {
    "duration": 4,
    "start_time": "2022-03-11T11:59:07.173Z"
   },
   {
    "duration": 445,
    "start_time": "2022-03-11T11:59:21.587Z"
   },
   {
    "duration": 470,
    "start_time": "2022-03-11T11:59:56.931Z"
   },
   {
    "duration": 470,
    "start_time": "2022-03-11T12:00:17.674Z"
   },
   {
    "duration": 411,
    "start_time": "2022-03-11T12:00:52.838Z"
   },
   {
    "duration": 5,
    "start_time": "2022-03-11T12:02:09.068Z"
   },
   {
    "duration": 129,
    "start_time": "2022-03-11T12:02:11.911Z"
   },
   {
    "duration": 147,
    "start_time": "2022-03-11T12:02:22.049Z"
   },
   {
    "duration": 5,
    "start_time": "2022-03-11T12:04:24.700Z"
   },
   {
    "duration": 138,
    "start_time": "2022-03-11T12:04:26.776Z"
   },
   {
    "duration": 249,
    "start_time": "2022-03-11T12:12:54.235Z"
   },
   {
    "duration": 44,
    "start_time": "2022-03-11T12:12:54.487Z"
   },
   {
    "duration": 140,
    "start_time": "2022-03-11T12:12:54.534Z"
   },
   {
    "duration": 35,
    "start_time": "2022-03-11T12:12:54.677Z"
   },
   {
    "duration": 226,
    "start_time": "2022-03-11T12:12:54.715Z"
   },
   {
    "duration": 111,
    "start_time": "2022-03-11T12:12:54.944Z"
   },
   {
    "duration": 10,
    "start_time": "2022-03-11T12:12:55.057Z"
   },
   {
    "duration": 12,
    "start_time": "2022-03-11T12:12:55.083Z"
   },
   {
    "duration": 33,
    "start_time": "2022-03-11T12:12:55.098Z"
   },
   {
    "duration": 92,
    "start_time": "2022-03-11T12:12:55.134Z"
   },
   {
    "duration": 38,
    "start_time": "2022-03-11T12:12:55.228Z"
   },
   {
    "duration": 200,
    "start_time": "2022-03-11T12:12:55.269Z"
   },
   {
    "duration": 38,
    "start_time": "2022-03-11T12:12:55.472Z"
   },
   {
    "duration": 44,
    "start_time": "2022-03-11T12:12:55.512Z"
   },
   {
    "duration": 4,
    "start_time": "2022-03-11T12:13:05.114Z"
   },
   {
    "duration": 154,
    "start_time": "2022-03-11T12:13:07.652Z"
   },
   {
    "duration": 224,
    "start_time": "2022-03-11T12:16:38.037Z"
   },
   {
    "duration": 45,
    "start_time": "2022-03-11T12:16:38.264Z"
   },
   {
    "duration": 148,
    "start_time": "2022-03-11T12:16:38.314Z"
   },
   {
    "duration": 41,
    "start_time": "2022-03-11T12:16:38.465Z"
   },
   {
    "duration": 210,
    "start_time": "2022-03-11T12:16:38.509Z"
   },
   {
    "duration": 106,
    "start_time": "2022-03-11T12:16:38.721Z"
   },
   {
    "duration": 14,
    "start_time": "2022-03-11T12:16:38.829Z"
   },
   {
    "duration": 11,
    "start_time": "2022-03-11T12:16:38.846Z"
   },
   {
    "duration": 49,
    "start_time": "2022-03-11T12:16:38.860Z"
   },
   {
    "duration": 83,
    "start_time": "2022-03-11T12:16:38.911Z"
   },
   {
    "duration": 45,
    "start_time": "2022-03-11T12:16:38.997Z"
   },
   {
    "duration": 59,
    "start_time": "2022-03-11T12:16:39.045Z"
   },
   {
    "duration": 24,
    "start_time": "2022-03-11T12:16:39.107Z"
   },
   {
    "duration": 71,
    "start_time": "2022-03-11T12:16:39.133Z"
   },
   {
    "duration": 5,
    "start_time": "2022-03-11T12:16:39.206Z"
   },
   {
    "duration": 146,
    "start_time": "2022-03-11T12:16:41.215Z"
   },
   {
    "duration": 145,
    "start_time": "2022-03-11T12:18:33.694Z"
   },
   {
    "duration": 57,
    "start_time": "2022-03-11T12:26:02.759Z"
   },
   {
    "duration": 59,
    "start_time": "2022-03-11T12:30:04.449Z"
   },
   {
    "duration": 45,
    "start_time": "2022-03-11T12:34:20.421Z"
   },
   {
    "duration": 64,
    "start_time": "2022-03-11T12:34:26.393Z"
   },
   {
    "duration": 207,
    "start_time": "2022-03-11T12:38:11.241Z"
   },
   {
    "duration": 38,
    "start_time": "2022-03-11T12:38:11.450Z"
   },
   {
    "duration": 124,
    "start_time": "2022-03-11T12:38:11.491Z"
   },
   {
    "duration": 27,
    "start_time": "2022-03-11T12:38:11.618Z"
   },
   {
    "duration": 196,
    "start_time": "2022-03-11T12:38:11.647Z"
   },
   {
    "duration": 97,
    "start_time": "2022-03-11T12:38:11.845Z"
   },
   {
    "duration": 10,
    "start_time": "2022-03-11T12:38:11.945Z"
   },
   {
    "duration": 26,
    "start_time": "2022-03-11T12:38:11.957Z"
   },
   {
    "duration": 25,
    "start_time": "2022-03-11T12:38:11.988Z"
   },
   {
    "duration": 91,
    "start_time": "2022-03-11T12:38:12.015Z"
   },
   {
    "duration": 41,
    "start_time": "2022-03-11T12:38:12.108Z"
   },
   {
    "duration": 50,
    "start_time": "2022-03-11T12:38:12.152Z"
   },
   {
    "duration": 24,
    "start_time": "2022-03-11T12:38:12.205Z"
   },
   {
    "duration": 61,
    "start_time": "2022-03-11T12:38:12.231Z"
   },
   {
    "duration": 6,
    "start_time": "2022-03-11T12:38:12.295Z"
   },
   {
    "duration": 317,
    "start_time": "2022-03-11T12:38:12.303Z"
   },
   {
    "duration": 15,
    "start_time": "2022-03-11T12:42:54.842Z"
   },
   {
    "duration": 19,
    "start_time": "2022-03-11T12:43:08.060Z"
   },
   {
    "duration": 14,
    "start_time": "2022-03-11T12:43:14.094Z"
   },
   {
    "duration": 55,
    "start_time": "2022-03-11T12:43:50.059Z"
   },
   {
    "duration": 52,
    "start_time": "2022-03-11T12:43:54.218Z"
   },
   {
    "duration": 117,
    "start_time": "2022-03-11T12:44:00.588Z"
   },
   {
    "duration": 24,
    "start_time": "2022-03-11T12:49:04.402Z"
   },
   {
    "duration": 23,
    "start_time": "2022-03-11T12:49:07.773Z"
   },
   {
    "duration": 323,
    "start_time": "2022-03-11T12:50:03.228Z"
   },
   {
    "duration": 19,
    "start_time": "2022-03-11T12:50:14.823Z"
   },
   {
    "duration": 21,
    "start_time": "2022-03-11T12:53:20.329Z"
   },
   {
    "duration": 18,
    "start_time": "2022-03-11T12:58:52.544Z"
   },
   {
    "duration": 15,
    "start_time": "2022-03-11T13:02:31.965Z"
   },
   {
    "duration": 80,
    "start_time": "2022-03-11T13:15:43.313Z"
   },
   {
    "duration": 25,
    "start_time": "2022-03-11T13:15:53.258Z"
   },
   {
    "duration": 23,
    "start_time": "2022-03-11T13:17:35.663Z"
   },
   {
    "duration": 20,
    "start_time": "2022-03-11T13:18:15.644Z"
   },
   {
    "duration": 38,
    "start_time": "2022-03-11T13:21:38.905Z"
   },
   {
    "duration": 43,
    "start_time": "2022-03-11T13:22:20.432Z"
   },
   {
    "duration": 45,
    "start_time": "2022-03-11T13:23:30.060Z"
   },
   {
    "duration": 312,
    "start_time": "2022-03-11T13:25:08.839Z"
   },
   {
    "duration": 903,
    "start_time": "2022-03-11T13:34:46.070Z"
   },
   {
    "duration": 255,
    "start_time": "2022-03-11T13:35:08.410Z"
   },
   {
    "duration": 248,
    "start_time": "2022-03-11T13:35:44.854Z"
   },
   {
    "duration": 251,
    "start_time": "2022-03-11T13:36:09.657Z"
   },
   {
    "duration": 33,
    "start_time": "2022-03-11T13:36:09.911Z"
   },
   {
    "duration": 144,
    "start_time": "2022-03-11T13:36:09.947Z"
   },
   {
    "duration": 26,
    "start_time": "2022-03-11T13:36:10.094Z"
   },
   {
    "duration": 207,
    "start_time": "2022-03-11T13:36:10.123Z"
   },
   {
    "duration": 112,
    "start_time": "2022-03-11T13:36:10.332Z"
   },
   {
    "duration": 108,
    "start_time": "2022-03-11T13:36:10.446Z"
   },
   {
    "duration": 14,
    "start_time": "2022-03-11T13:36:10.556Z"
   },
   {
    "duration": 25,
    "start_time": "2022-03-11T13:36:10.585Z"
   },
   {
    "duration": 94,
    "start_time": "2022-03-11T13:36:10.613Z"
   },
   {
    "duration": 38,
    "start_time": "2022-03-11T13:36:10.710Z"
   },
   {
    "duration": 45,
    "start_time": "2022-03-11T13:36:10.750Z"
   },
   {
    "duration": 24,
    "start_time": "2022-03-11T13:36:10.798Z"
   },
   {
    "duration": 68,
    "start_time": "2022-03-11T13:36:10.824Z"
   },
   {
    "duration": 7,
    "start_time": "2022-03-11T13:36:10.895Z"
   },
   {
    "duration": 335,
    "start_time": "2022-03-11T13:36:10.905Z"
   },
   {
    "duration": 23,
    "start_time": "2022-03-11T13:36:11.242Z"
   },
   {
    "duration": 38,
    "start_time": "2022-03-11T13:36:11.267Z"
   },
   {
    "duration": 298,
    "start_time": "2022-03-11T13:36:14.907Z"
   },
   {
    "duration": 340,
    "start_time": "2022-03-11T13:36:39.557Z"
   },
   {
    "duration": 236,
    "start_time": "2022-03-11T13:36:44.783Z"
   },
   {
    "duration": 223,
    "start_time": "2022-03-11T13:36:54.371Z"
   },
   {
    "duration": 28,
    "start_time": "2022-03-11T13:45:22.372Z"
   },
   {
    "duration": 29,
    "start_time": "2022-03-11T13:46:04.229Z"
   },
   {
    "duration": 24,
    "start_time": "2022-03-11T13:46:46.029Z"
   },
   {
    "duration": 47,
    "start_time": "2022-03-11T13:49:15.583Z"
   },
   {
    "duration": 33,
    "start_time": "2022-03-11T13:49:25.120Z"
   },
   {
    "duration": 43,
    "start_time": "2022-03-11T13:51:14.290Z"
   },
   {
    "duration": 32,
    "start_time": "2022-03-11T13:51:28.201Z"
   },
   {
    "duration": 68,
    "start_time": "2022-03-11T14:10:17.842Z"
   },
   {
    "duration": 370,
    "start_time": "2022-03-11T14:10:30.946Z"
   },
   {
    "duration": 333,
    "start_time": "2022-03-11T14:12:44.911Z"
   },
   {
    "duration": 228,
    "start_time": "2022-03-11T14:12:58.265Z"
   },
   {
    "duration": 34,
    "start_time": "2022-03-11T14:12:58.496Z"
   },
   {
    "duration": 143,
    "start_time": "2022-03-11T14:12:58.534Z"
   },
   {
    "duration": 28,
    "start_time": "2022-03-11T14:12:58.686Z"
   },
   {
    "duration": 212,
    "start_time": "2022-03-11T14:12:58.716Z"
   },
   {
    "duration": 106,
    "start_time": "2022-03-11T14:12:58.930Z"
   },
   {
    "duration": 104,
    "start_time": "2022-03-11T14:12:59.039Z"
   },
   {
    "duration": 13,
    "start_time": "2022-03-11T14:12:59.147Z"
   },
   {
    "duration": 45,
    "start_time": "2022-03-11T14:12:59.163Z"
   },
   {
    "duration": 92,
    "start_time": "2022-03-11T14:12:59.211Z"
   },
   {
    "duration": 42,
    "start_time": "2022-03-11T14:12:59.306Z"
   },
   {
    "duration": 57,
    "start_time": "2022-03-11T14:12:59.351Z"
   },
   {
    "duration": 24,
    "start_time": "2022-03-11T14:12:59.411Z"
   },
   {
    "duration": 72,
    "start_time": "2022-03-11T14:12:59.437Z"
   },
   {
    "duration": 6,
    "start_time": "2022-03-11T14:12:59.511Z"
   },
   {
    "duration": 255,
    "start_time": "2022-03-11T14:14:57.654Z"
   },
   {
    "duration": 364,
    "start_time": "2022-03-11T14:15:12.098Z"
   },
   {
    "duration": 13,
    "start_time": "2022-03-11T14:15:14.613Z"
   },
   {
    "duration": 247,
    "start_time": "2022-03-11T14:15:31.383Z"
   },
   {
    "duration": 226,
    "start_time": "2022-03-11T14:15:41.199Z"
   },
   {
    "duration": 33,
    "start_time": "2022-03-11T14:15:41.429Z"
   },
   {
    "duration": 143,
    "start_time": "2022-03-11T14:15:41.467Z"
   },
   {
    "duration": 26,
    "start_time": "2022-03-11T14:15:41.612Z"
   },
   {
    "duration": 220,
    "start_time": "2022-03-11T14:15:41.641Z"
   },
   {
    "duration": 105,
    "start_time": "2022-03-11T14:15:41.863Z"
   },
   {
    "duration": 116,
    "start_time": "2022-03-11T14:15:41.970Z"
   },
   {
    "duration": 16,
    "start_time": "2022-03-11T14:15:42.091Z"
   },
   {
    "duration": 23,
    "start_time": "2022-03-11T14:15:42.111Z"
   },
   {
    "duration": 101,
    "start_time": "2022-03-11T14:15:42.136Z"
   },
   {
    "duration": 63,
    "start_time": "2022-03-11T14:15:42.240Z"
   },
   {
    "duration": 28,
    "start_time": "2022-03-11T14:15:42.307Z"
   },
   {
    "duration": 57,
    "start_time": "2022-03-11T14:15:42.338Z"
   },
   {
    "duration": 60,
    "start_time": "2022-03-11T14:15:42.398Z"
   },
   {
    "duration": 24,
    "start_time": "2022-03-11T14:15:42.460Z"
   },
   {
    "duration": 349,
    "start_time": "2022-03-11T14:15:42.487Z"
   },
   {
    "duration": 32,
    "start_time": "2022-03-11T14:15:45.103Z"
   },
   {
    "duration": 23,
    "start_time": "2022-03-11T14:15:53.998Z"
   },
   {
    "duration": 18,
    "start_time": "2022-03-11T14:17:01.231Z"
   },
   {
    "duration": 231,
    "start_time": "2022-03-11T14:17:12.210Z"
   },
   {
    "duration": 41,
    "start_time": "2022-03-11T14:17:12.443Z"
   },
   {
    "duration": 136,
    "start_time": "2022-03-11T14:17:12.488Z"
   },
   {
    "duration": 27,
    "start_time": "2022-03-11T14:17:12.627Z"
   },
   {
    "duration": 213,
    "start_time": "2022-03-11T14:17:12.658Z"
   },
   {
    "duration": 108,
    "start_time": "2022-03-11T14:17:12.874Z"
   },
   {
    "duration": 107,
    "start_time": "2022-03-11T14:17:12.985Z"
   },
   {
    "duration": 15,
    "start_time": "2022-03-11T14:17:13.096Z"
   },
   {
    "duration": 23,
    "start_time": "2022-03-11T14:17:13.113Z"
   },
   {
    "duration": 99,
    "start_time": "2022-03-11T14:17:13.138Z"
   },
   {
    "duration": 59,
    "start_time": "2022-03-11T14:17:13.239Z"
   },
   {
    "duration": 27,
    "start_time": "2022-03-11T14:17:13.300Z"
   },
   {
    "duration": 27,
    "start_time": "2022-03-11T14:17:13.330Z"
   },
   {
    "duration": 45,
    "start_time": "2022-03-11T14:17:13.385Z"
   },
   {
    "duration": 7,
    "start_time": "2022-03-11T14:17:13.432Z"
   },
   {
    "duration": 351,
    "start_time": "2022-03-11T14:17:13.442Z"
   },
   {
    "duration": 25,
    "start_time": "2022-03-11T14:17:49.010Z"
   },
   {
    "duration": 255,
    "start_time": "2022-03-11T14:17:56.944Z"
   },
   {
    "duration": 222,
    "start_time": "2022-03-11T14:18:25.228Z"
   },
   {
    "duration": 228,
    "start_time": "2022-03-11T14:18:38.597Z"
   },
   {
    "duration": 33,
    "start_time": "2022-03-11T14:18:38.827Z"
   },
   {
    "duration": 147,
    "start_time": "2022-03-11T14:18:38.863Z"
   },
   {
    "duration": 25,
    "start_time": "2022-03-11T14:18:39.013Z"
   },
   {
    "duration": 220,
    "start_time": "2022-03-11T14:18:39.041Z"
   },
   {
    "duration": 104,
    "start_time": "2022-03-11T14:18:39.263Z"
   },
   {
    "duration": 105,
    "start_time": "2022-03-11T14:18:39.381Z"
   },
   {
    "duration": 17,
    "start_time": "2022-03-11T14:18:39.489Z"
   },
   {
    "duration": 40,
    "start_time": "2022-03-11T14:18:39.510Z"
   },
   {
    "duration": 90,
    "start_time": "2022-03-11T14:18:39.552Z"
   },
   {
    "duration": 49,
    "start_time": "2022-03-11T14:18:39.644Z"
   },
   {
    "duration": 28,
    "start_time": "2022-03-11T14:18:39.696Z"
   },
   {
    "duration": 62,
    "start_time": "2022-03-11T14:18:39.726Z"
   },
   {
    "duration": 45,
    "start_time": "2022-03-11T14:18:39.790Z"
   },
   {
    "duration": 6,
    "start_time": "2022-03-11T14:18:39.838Z"
   },
   {
    "duration": 373,
    "start_time": "2022-03-11T14:18:39.846Z"
   },
   {
    "duration": 10,
    "start_time": "2022-03-11T14:18:43.426Z"
   },
   {
    "duration": 26,
    "start_time": "2022-03-11T14:18:46.097Z"
   },
   {
    "duration": 25,
    "start_time": "2022-03-11T14:19:05.204Z"
   },
   {
    "duration": 230,
    "start_time": "2022-03-11T14:19:46.798Z"
   },
   {
    "duration": 33,
    "start_time": "2022-03-11T14:19:47.031Z"
   },
   {
    "duration": 156,
    "start_time": "2022-03-11T14:19:47.067Z"
   },
   {
    "duration": 25,
    "start_time": "2022-03-11T14:19:47.226Z"
   },
   {
    "duration": 218,
    "start_time": "2022-03-11T14:19:47.254Z"
   },
   {
    "duration": 109,
    "start_time": "2022-03-11T14:19:47.475Z"
   },
   {
    "duration": 116,
    "start_time": "2022-03-11T14:19:47.587Z"
   },
   {
    "duration": 12,
    "start_time": "2022-03-11T14:19:47.707Z"
   },
   {
    "duration": 33,
    "start_time": "2022-03-11T14:19:47.723Z"
   },
   {
    "duration": 90,
    "start_time": "2022-03-11T14:19:47.758Z"
   },
   {
    "duration": 51,
    "start_time": "2022-03-11T14:19:47.850Z"
   },
   {
    "duration": 28,
    "start_time": "2022-03-11T14:19:47.903Z"
   },
   {
    "duration": 57,
    "start_time": "2022-03-11T14:19:47.933Z"
   },
   {
    "duration": 47,
    "start_time": "2022-03-11T14:19:47.993Z"
   },
   {
    "duration": 23,
    "start_time": "2022-03-11T14:19:48.042Z"
   },
   {
    "duration": 410,
    "start_time": "2022-03-11T14:19:50.259Z"
   },
   {
    "duration": 363,
    "start_time": "2022-03-11T14:20:00.974Z"
   },
   {
    "duration": 29,
    "start_time": "2022-03-11T14:20:33.503Z"
   },
   {
    "duration": 11,
    "start_time": "2022-03-11T14:21:31.480Z"
   },
   {
    "duration": 26,
    "start_time": "2022-03-11T14:21:42.216Z"
   },
   {
    "duration": 7520,
    "start_time": "2022-03-11T14:23:10.832Z"
   },
   {
    "duration": 228,
    "start_time": "2022-03-11T14:23:22.706Z"
   },
   {
    "duration": 46,
    "start_time": "2022-03-11T14:23:22.937Z"
   },
   {
    "duration": 137,
    "start_time": "2022-03-11T14:23:22.986Z"
   },
   {
    "duration": 26,
    "start_time": "2022-03-11T14:23:23.126Z"
   },
   {
    "duration": 210,
    "start_time": "2022-03-11T14:23:23.155Z"
   },
   {
    "duration": 103,
    "start_time": "2022-03-11T14:23:23.368Z"
   },
   {
    "duration": 126,
    "start_time": "2022-03-11T14:23:23.473Z"
   },
   {
    "duration": 14,
    "start_time": "2022-03-11T14:23:23.603Z"
   },
   {
    "duration": 37,
    "start_time": "2022-03-11T14:23:23.620Z"
   },
   {
    "duration": 71,
    "start_time": "2022-03-11T14:23:23.683Z"
   },
   {
    "duration": 59,
    "start_time": "2022-03-11T14:23:23.756Z"
   },
   {
    "duration": 28,
    "start_time": "2022-03-11T14:23:23.817Z"
   },
   {
    "duration": 63,
    "start_time": "2022-03-11T14:23:23.848Z"
   },
   {
    "duration": 44,
    "start_time": "2022-03-11T14:23:23.914Z"
   },
   {
    "duration": 25,
    "start_time": "2022-03-11T14:23:23.960Z"
   },
   {
    "duration": 354,
    "start_time": "2022-03-11T14:23:26.005Z"
   },
   {
    "duration": 27,
    "start_time": "2022-03-11T14:23:46.410Z"
   },
   {
    "duration": 10,
    "start_time": "2022-03-11T14:23:52.663Z"
   },
   {
    "duration": 29,
    "start_time": "2022-03-11T14:23:56.592Z"
   },
   {
    "duration": 22,
    "start_time": "2022-03-11T14:24:07.450Z"
   },
   {
    "duration": 23,
    "start_time": "2022-03-11T14:26:19.482Z"
   },
   {
    "duration": 11,
    "start_time": "2022-03-11T14:26:44.726Z"
   },
   {
    "duration": 220,
    "start_time": "2022-03-11T14:27:11.742Z"
   },
   {
    "duration": 39,
    "start_time": "2022-03-11T14:27:11.965Z"
   },
   {
    "duration": 139,
    "start_time": "2022-03-11T14:27:12.007Z"
   },
   {
    "duration": 40,
    "start_time": "2022-03-11T14:27:12.149Z"
   },
   {
    "duration": 211,
    "start_time": "2022-03-11T14:27:12.193Z"
   },
   {
    "duration": 98,
    "start_time": "2022-03-11T14:27:12.407Z"
   },
   {
    "duration": 113,
    "start_time": "2022-03-11T14:27:12.508Z"
   },
   {
    "duration": 13,
    "start_time": "2022-03-11T14:27:12.625Z"
   },
   {
    "duration": 45,
    "start_time": "2022-03-11T14:27:12.641Z"
   },
   {
    "duration": 68,
    "start_time": "2022-03-11T14:27:12.689Z"
   },
   {
    "duration": 64,
    "start_time": "2022-03-11T14:27:12.760Z"
   },
   {
    "duration": 28,
    "start_time": "2022-03-11T14:27:12.827Z"
   },
   {
    "duration": 55,
    "start_time": "2022-03-11T14:27:12.858Z"
   },
   {
    "duration": 70,
    "start_time": "2022-03-11T14:27:12.915Z"
   },
   {
    "duration": 9,
    "start_time": "2022-03-11T14:27:12.988Z"
   },
   {
    "duration": 394,
    "start_time": "2022-03-11T14:27:15.930Z"
   },
   {
    "duration": 351,
    "start_time": "2022-03-11T14:27:58.031Z"
   },
   {
    "duration": 16,
    "start_time": "2022-03-11T14:28:04.956Z"
   },
   {
    "duration": 63,
    "start_time": "2022-03-11T14:28:11.427Z"
   },
   {
    "duration": 229,
    "start_time": "2022-03-11T14:28:48.306Z"
   },
   {
    "duration": 33,
    "start_time": "2022-03-11T14:28:48.537Z"
   },
   {
    "duration": 149,
    "start_time": "2022-03-11T14:28:48.583Z"
   },
   {
    "duration": 27,
    "start_time": "2022-03-11T14:28:48.736Z"
   },
   {
    "duration": 216,
    "start_time": "2022-03-11T14:28:48.766Z"
   },
   {
    "duration": 115,
    "start_time": "2022-03-11T14:28:48.985Z"
   },
   {
    "duration": 109,
    "start_time": "2022-03-11T14:28:49.103Z"
   },
   {
    "duration": 13,
    "start_time": "2022-03-11T14:28:49.216Z"
   },
   {
    "duration": 43,
    "start_time": "2022-03-11T14:28:49.232Z"
   },
   {
    "duration": 75,
    "start_time": "2022-03-11T14:28:49.281Z"
   },
   {
    "duration": 63,
    "start_time": "2022-03-11T14:28:49.358Z"
   },
   {
    "duration": 27,
    "start_time": "2022-03-11T14:28:49.423Z"
   },
   {
    "duration": 62,
    "start_time": "2022-03-11T14:28:49.452Z"
   },
   {
    "duration": 45,
    "start_time": "2022-03-11T14:28:49.517Z"
   },
   {
    "duration": 19,
    "start_time": "2022-03-11T14:28:49.564Z"
   },
   {
    "duration": 360,
    "start_time": "2022-03-11T14:28:55.573Z"
   },
   {
    "duration": 17,
    "start_time": "2022-03-11T14:28:59.797Z"
   },
   {
    "duration": 11,
    "start_time": "2022-03-11T14:29:27.644Z"
   },
   {
    "duration": 25,
    "start_time": "2022-03-11T14:29:29.886Z"
   },
   {
    "duration": 254,
    "start_time": "2022-03-11T14:30:27.780Z"
   },
   {
    "duration": 34,
    "start_time": "2022-03-11T14:30:28.037Z"
   },
   {
    "duration": 153,
    "start_time": "2022-03-11T14:30:28.083Z"
   },
   {
    "duration": 25,
    "start_time": "2022-03-11T14:30:28.239Z"
   },
   {
    "duration": 221,
    "start_time": "2022-03-11T14:30:28.266Z"
   },
   {
    "duration": 105,
    "start_time": "2022-03-11T14:30:28.491Z"
   },
   {
    "duration": 113,
    "start_time": "2022-03-11T14:30:28.599Z"
   },
   {
    "duration": 14,
    "start_time": "2022-03-11T14:30:28.716Z"
   },
   {
    "duration": 61,
    "start_time": "2022-03-11T14:30:28.732Z"
   },
   {
    "duration": 73,
    "start_time": "2022-03-11T14:30:28.796Z"
   },
   {
    "duration": 55,
    "start_time": "2022-03-11T14:30:28.871Z"
   },
   {
    "duration": 31,
    "start_time": "2022-03-11T14:30:28.928Z"
   },
   {
    "duration": 31,
    "start_time": "2022-03-11T14:30:28.983Z"
   },
   {
    "duration": 66,
    "start_time": "2022-03-11T14:30:29.017Z"
   },
   {
    "duration": 10,
    "start_time": "2022-03-11T14:30:29.086Z"
   },
   {
    "duration": 369,
    "start_time": "2022-03-11T14:30:31.764Z"
   },
   {
    "duration": 16,
    "start_time": "2022-03-11T14:30:38.353Z"
   },
   {
    "duration": 348,
    "start_time": "2022-03-11T14:30:50.972Z"
   },
   {
    "duration": 22,
    "start_time": "2022-03-11T14:30:55.782Z"
   },
   {
    "duration": 338,
    "start_time": "2022-03-11T14:31:07.053Z"
   },
   {
    "duration": 343,
    "start_time": "2022-03-11T14:31:10.798Z"
   },
   {
    "duration": 14,
    "start_time": "2022-03-11T14:31:15.129Z"
   },
   {
    "duration": 331,
    "start_time": "2022-03-11T14:31:46.942Z"
   },
   {
    "duration": 14,
    "start_time": "2022-03-11T14:31:53.142Z"
   },
   {
    "duration": 348,
    "start_time": "2022-03-11T14:33:47.054Z"
   },
   {
    "duration": 23,
    "start_time": "2022-03-11T14:34:00.556Z"
   },
   {
    "duration": 350,
    "start_time": "2022-03-11T14:34:18.018Z"
   },
   {
    "duration": 567,
    "start_time": "2022-03-11T14:34:39.342Z"
   },
   {
    "duration": 367,
    "start_time": "2022-03-11T14:34:46.958Z"
   },
   {
    "duration": 13,
    "start_time": "2022-03-11T14:35:15.543Z"
   },
   {
    "duration": 16,
    "start_time": "2022-03-11T14:35:36.823Z"
   },
   {
    "duration": 359,
    "start_time": "2022-03-11T14:36:25.170Z"
   },
   {
    "duration": 225,
    "start_time": "2022-03-11T14:38:43.042Z"
   },
   {
    "duration": 43,
    "start_time": "2022-03-11T14:38:43.270Z"
   },
   {
    "duration": 139,
    "start_time": "2022-03-11T14:38:43.316Z"
   },
   {
    "duration": 37,
    "start_time": "2022-03-11T14:38:43.458Z"
   },
   {
    "duration": 214,
    "start_time": "2022-03-11T14:38:43.499Z"
   },
   {
    "duration": 121,
    "start_time": "2022-03-11T14:38:43.716Z"
   },
   {
    "duration": 130,
    "start_time": "2022-03-11T14:38:43.840Z"
   },
   {
    "duration": 23,
    "start_time": "2022-03-11T14:38:43.973Z"
   },
   {
    "duration": 38,
    "start_time": "2022-03-11T14:38:44.001Z"
   },
   {
    "duration": 86,
    "start_time": "2022-03-11T14:38:44.042Z"
   },
   {
    "duration": 37,
    "start_time": "2022-03-11T14:38:44.131Z"
   },
   {
    "duration": 34,
    "start_time": "2022-03-11T14:38:44.183Z"
   },
   {
    "duration": 26,
    "start_time": "2022-03-11T14:38:44.220Z"
   },
   {
    "duration": 74,
    "start_time": "2022-03-11T14:38:44.249Z"
   },
   {
    "duration": 6,
    "start_time": "2022-03-11T14:38:44.326Z"
   },
   {
    "duration": 355,
    "start_time": "2022-03-11T14:38:52.654Z"
   },
   {
    "duration": 360,
    "start_time": "2022-03-11T14:39:19.043Z"
   },
   {
    "duration": 343,
    "start_time": "2022-03-11T14:39:30.713Z"
   },
   {
    "duration": 375,
    "start_time": "2022-03-11T14:39:37.145Z"
   },
   {
    "duration": 225,
    "start_time": "2022-03-11T14:42:03.102Z"
   },
   {
    "duration": 33,
    "start_time": "2022-03-11T14:42:03.330Z"
   },
   {
    "duration": 148,
    "start_time": "2022-03-11T14:42:03.367Z"
   },
   {
    "duration": 24,
    "start_time": "2022-03-11T14:42:03.518Z"
   },
   {
    "duration": 212,
    "start_time": "2022-03-11T14:42:03.545Z"
   },
   {
    "duration": 99,
    "start_time": "2022-03-11T14:42:03.760Z"
   },
   {
    "duration": 114,
    "start_time": "2022-03-11T14:42:03.861Z"
   },
   {
    "duration": 20,
    "start_time": "2022-03-11T14:42:03.988Z"
   },
   {
    "duration": 22,
    "start_time": "2022-03-11T14:42:04.011Z"
   },
   {
    "duration": 100,
    "start_time": "2022-03-11T14:42:04.036Z"
   },
   {
    "duration": 46,
    "start_time": "2022-03-11T14:42:04.138Z"
   },
   {
    "duration": 36,
    "start_time": "2022-03-11T14:42:04.188Z"
   },
   {
    "duration": 25,
    "start_time": "2022-03-11T14:42:04.226Z"
   },
   {
    "duration": 73,
    "start_time": "2022-03-11T14:42:04.253Z"
   },
   {
    "duration": 7,
    "start_time": "2022-03-11T14:42:04.329Z"
   },
   {
    "duration": 367,
    "start_time": "2022-03-11T14:42:04.338Z"
   },
   {
    "duration": 10,
    "start_time": "2022-03-11T14:42:06.668Z"
   },
   {
    "duration": 30,
    "start_time": "2022-03-11T14:42:09.336Z"
   },
   {
    "duration": 35,
    "start_time": "2022-03-11T14:42:14.400Z"
   },
   {
    "duration": 35,
    "start_time": "2022-03-11T14:42:34.442Z"
   },
   {
    "duration": 43,
    "start_time": "2022-03-11T14:42:57.558Z"
   },
   {
    "duration": 245,
    "start_time": "2022-03-11T14:44:11.968Z"
   },
   {
    "duration": 36,
    "start_time": "2022-03-11T14:44:12.215Z"
   },
   {
    "duration": 150,
    "start_time": "2022-03-11T14:44:12.253Z"
   },
   {
    "duration": 24,
    "start_time": "2022-03-11T14:44:12.406Z"
   },
   {
    "duration": 208,
    "start_time": "2022-03-11T14:44:12.433Z"
   },
   {
    "duration": 105,
    "start_time": "2022-03-11T14:44:12.643Z"
   },
   {
    "duration": 118,
    "start_time": "2022-03-11T14:44:12.751Z"
   },
   {
    "duration": 19,
    "start_time": "2022-03-11T14:44:12.873Z"
   },
   {
    "duration": 33,
    "start_time": "2022-03-11T14:44:12.895Z"
   },
   {
    "duration": 94,
    "start_time": "2022-03-11T14:44:12.930Z"
   },
   {
    "duration": 41,
    "start_time": "2022-03-11T14:44:13.026Z"
   },
   {
    "duration": 47,
    "start_time": "2022-03-11T14:44:13.069Z"
   },
   {
    "duration": 25,
    "start_time": "2022-03-11T14:44:13.118Z"
   },
   {
    "duration": 76,
    "start_time": "2022-03-11T14:44:13.146Z"
   },
   {
    "duration": 8,
    "start_time": "2022-03-11T14:44:13.224Z"
   },
   {
    "duration": 348,
    "start_time": "2022-03-11T14:44:15.060Z"
   },
   {
    "duration": 10,
    "start_time": "2022-03-11T14:45:04.355Z"
   },
   {
    "duration": 32,
    "start_time": "2022-03-11T14:45:06.212Z"
   },
   {
    "duration": 306,
    "start_time": "2022-03-11T14:51:32.887Z"
   },
   {
    "duration": 42,
    "start_time": "2022-03-11T14:51:33.200Z"
   },
   {
    "duration": 203,
    "start_time": "2022-03-11T14:51:33.246Z"
   },
   {
    "duration": 42,
    "start_time": "2022-03-11T14:51:33.453Z"
   },
   {
    "duration": 301,
    "start_time": "2022-03-11T14:51:33.497Z"
   },
   {
    "duration": 123,
    "start_time": "2022-03-11T14:51:33.801Z"
   },
   {
    "duration": 115,
    "start_time": "2022-03-11T14:51:33.927Z"
   },
   {
    "duration": 14,
    "start_time": "2022-03-11T14:51:34.045Z"
   },
   {
    "duration": 46,
    "start_time": "2022-03-11T14:51:34.062Z"
   },
   {
    "duration": 130,
    "start_time": "2022-03-11T14:51:34.111Z"
   },
   {
    "duration": 56,
    "start_time": "2022-03-11T14:51:34.244Z"
   },
   {
    "duration": 48,
    "start_time": "2022-03-11T14:51:43.444Z"
   },
   {
    "duration": 38,
    "start_time": "2022-03-11T14:51:54.777Z"
   },
   {
    "duration": 32,
    "start_time": "2022-03-11T14:52:01.531Z"
   },
   {
    "duration": 30,
    "start_time": "2022-03-11T14:52:04.855Z"
   },
   {
    "duration": 27,
    "start_time": "2022-03-11T14:52:09.895Z"
   },
   {
    "duration": 34,
    "start_time": "2022-03-11T14:54:31.989Z"
   },
   {
    "duration": 30,
    "start_time": "2022-03-11T14:54:44.657Z"
   },
   {
    "duration": 28,
    "start_time": "2022-03-11T14:55:03.613Z"
   },
   {
    "duration": 29,
    "start_time": "2022-03-11T14:59:22.284Z"
   },
   {
    "duration": 15,
    "start_time": "2022-03-11T15:01:49.656Z"
   },
   {
    "duration": 252,
    "start_time": "2022-03-11T15:01:55.454Z"
   },
   {
    "duration": 33,
    "start_time": "2022-03-11T15:02:09.452Z"
   },
   {
    "duration": 209,
    "start_time": "2022-03-11T15:02:22.848Z"
   },
   {
    "duration": 38,
    "start_time": "2022-03-11T15:02:23.060Z"
   },
   {
    "duration": 149,
    "start_time": "2022-03-11T15:02:23.102Z"
   },
   {
    "duration": 33,
    "start_time": "2022-03-11T15:02:23.253Z"
   },
   {
    "duration": 194,
    "start_time": "2022-03-11T15:02:23.288Z"
   },
   {
    "duration": 83,
    "start_time": "2022-03-11T15:02:23.485Z"
   },
   {
    "duration": 122,
    "start_time": "2022-03-11T15:02:23.571Z"
   },
   {
    "duration": 13,
    "start_time": "2022-03-11T15:02:23.697Z"
   },
   {
    "duration": 27,
    "start_time": "2022-03-11T15:02:23.712Z"
   },
   {
    "duration": 87,
    "start_time": "2022-03-11T15:02:23.742Z"
   },
   {
    "duration": 51,
    "start_time": "2022-03-11T15:02:23.832Z"
   },
   {
    "duration": 28,
    "start_time": "2022-03-11T15:02:23.885Z"
   },
   {
    "duration": 24,
    "start_time": "2022-03-11T15:02:23.915Z"
   },
   {
    "duration": 130,
    "start_time": "2022-03-11T15:02:23.941Z"
   },
   {
    "duration": 9,
    "start_time": "2022-03-11T15:02:24.073Z"
   },
   {
    "duration": 31,
    "start_time": "2022-03-11T15:02:32.311Z"
   },
   {
    "duration": 10,
    "start_time": "2022-03-11T15:02:36.575Z"
   },
   {
    "duration": 208,
    "start_time": "2022-03-11T15:02:47.304Z"
   },
   {
    "duration": 33,
    "start_time": "2022-03-11T15:02:47.515Z"
   },
   {
    "duration": 132,
    "start_time": "2022-03-11T15:02:47.551Z"
   },
   {
    "duration": 52,
    "start_time": "2022-03-11T15:02:47.686Z"
   },
   {
    "duration": 178,
    "start_time": "2022-03-11T15:02:47.742Z"
   },
   {
    "duration": 101,
    "start_time": "2022-03-11T15:02:47.923Z"
   },
   {
    "duration": 106,
    "start_time": "2022-03-11T15:02:48.027Z"
   },
   {
    "duration": 13,
    "start_time": "2022-03-11T15:02:48.136Z"
   },
   {
    "duration": 42,
    "start_time": "2022-03-11T15:02:48.152Z"
   },
   {
    "duration": 65,
    "start_time": "2022-03-11T15:02:48.197Z"
   },
   {
    "duration": 50,
    "start_time": "2022-03-11T15:02:48.265Z"
   },
   {
    "duration": 27,
    "start_time": "2022-03-11T15:02:48.318Z"
   },
   {
    "duration": 48,
    "start_time": "2022-03-11T15:02:48.348Z"
   },
   {
    "duration": 32,
    "start_time": "2022-03-11T15:02:48.399Z"
   },
   {
    "duration": 4,
    "start_time": "2022-03-11T15:02:48.434Z"
   },
   {
    "duration": 65,
    "start_time": "2022-03-11T15:02:48.440Z"
   },
   {
    "duration": 42,
    "start_time": "2022-03-11T15:02:50.353Z"
   },
   {
    "duration": 82,
    "start_time": "2022-03-11T15:18:27.408Z"
   },
   {
    "duration": 89,
    "start_time": "2022-03-11T15:18:49.951Z"
   },
   {
    "duration": 8,
    "start_time": "2022-03-11T15:19:28.911Z"
   },
   {
    "duration": 451,
    "start_time": "2022-03-11T15:19:33.388Z"
   },
   {
    "duration": 557,
    "start_time": "2022-03-11T15:20:02.216Z"
   },
   {
    "duration": 215,
    "start_time": "2022-03-11T15:20:09.462Z"
   },
   {
    "duration": 33,
    "start_time": "2022-03-11T15:20:09.683Z"
   },
   {
    "duration": 128,
    "start_time": "2022-03-11T15:20:09.719Z"
   },
   {
    "duration": 34,
    "start_time": "2022-03-11T15:20:09.850Z"
   },
   {
    "duration": 181,
    "start_time": "2022-03-11T15:20:09.887Z"
   },
   {
    "duration": 96,
    "start_time": "2022-03-11T15:20:10.071Z"
   },
   {
    "duration": 105,
    "start_time": "2022-03-11T15:20:10.182Z"
   },
   {
    "duration": 13,
    "start_time": "2022-03-11T15:20:10.289Z"
   },
   {
    "duration": 35,
    "start_time": "2022-03-11T15:20:10.306Z"
   },
   {
    "duration": 86,
    "start_time": "2022-03-11T15:20:10.345Z"
   },
   {
    "duration": 56,
    "start_time": "2022-03-11T15:20:10.433Z"
   },
   {
    "duration": 33,
    "start_time": "2022-03-11T15:20:10.492Z"
   },
   {
    "duration": 56,
    "start_time": "2022-03-11T15:20:10.528Z"
   },
   {
    "duration": 32,
    "start_time": "2022-03-11T15:20:10.587Z"
   },
   {
    "duration": 3,
    "start_time": "2022-03-11T15:20:10.622Z"
   },
   {
    "duration": 64,
    "start_time": "2022-03-11T15:20:10.627Z"
   },
   {
    "duration": 31,
    "start_time": "2022-03-11T15:20:10.694Z"
   },
   {
    "duration": 7,
    "start_time": "2022-03-11T15:22:38.071Z"
   },
   {
    "duration": 461,
    "start_time": "2022-03-11T15:22:42.543Z"
   },
   {
    "duration": 7,
    "start_time": "2022-03-11T15:23:45.252Z"
   },
   {
    "duration": 207,
    "start_time": "2022-03-11T15:23:52.848Z"
   },
   {
    "duration": 42,
    "start_time": "2022-03-11T15:23:53.057Z"
   },
   {
    "duration": 130,
    "start_time": "2022-03-11T15:23:53.102Z"
   },
   {
    "duration": 25,
    "start_time": "2022-03-11T15:23:53.235Z"
   },
   {
    "duration": 197,
    "start_time": "2022-03-11T15:23:53.262Z"
   },
   {
    "duration": 100,
    "start_time": "2022-03-11T15:23:53.463Z"
   },
   {
    "duration": 120,
    "start_time": "2022-03-11T15:23:53.566Z"
   },
   {
    "duration": 15,
    "start_time": "2022-03-11T15:23:53.689Z"
   },
   {
    "duration": 24,
    "start_time": "2022-03-11T15:23:53.709Z"
   },
   {
    "duration": 100,
    "start_time": "2022-03-11T15:23:53.736Z"
   },
   {
    "duration": 47,
    "start_time": "2022-03-11T15:23:53.838Z"
   },
   {
    "duration": 28,
    "start_time": "2022-03-11T15:23:53.887Z"
   },
   {
    "duration": 24,
    "start_time": "2022-03-11T15:23:53.918Z"
   },
   {
    "duration": 56,
    "start_time": "2022-03-11T15:23:53.944Z"
   },
   {
    "duration": 3,
    "start_time": "2022-03-11T15:23:54.003Z"
   },
   {
    "duration": 36,
    "start_time": "2022-03-11T15:23:54.008Z"
   },
   {
    "duration": 59,
    "start_time": "2022-03-11T15:23:54.046Z"
   },
   {
    "duration": 7,
    "start_time": "2022-03-11T15:23:57.772Z"
   },
   {
    "duration": 501,
    "start_time": "2022-03-11T15:24:00.597Z"
   },
   {
    "duration": 7,
    "start_time": "2022-03-11T15:25:18.695Z"
   },
   {
    "duration": 129,
    "start_time": "2022-03-11T15:25:22.854Z"
   },
   {
    "duration": 33,
    "start_time": "2022-03-11T15:25:36.540Z"
   },
   {
    "duration": 41,
    "start_time": "2022-03-11T15:25:47.536Z"
   },
   {
    "duration": 86,
    "start_time": "2022-03-11T15:27:48.729Z"
   },
   {
    "duration": 7,
    "start_time": "2022-03-11T15:28:10.959Z"
   },
   {
    "duration": 330,
    "start_time": "2022-03-11T15:28:16.710Z"
   },
   {
    "duration": 37,
    "start_time": "2022-03-11T15:28:19.611Z"
   },
   {
    "duration": 93,
    "start_time": "2022-03-11T15:29:45.320Z"
   },
   {
    "duration": 6,
    "start_time": "2022-03-11T15:31:38.758Z"
   },
   {
    "duration": 298,
    "start_time": "2022-03-11T15:31:43.211Z"
   },
   {
    "duration": 38,
    "start_time": "2022-03-11T15:31:47.071Z"
   },
   {
    "duration": 822,
    "start_time": "2022-03-12T13:39:30.526Z"
   },
   {
    "duration": 30,
    "start_time": "2022-03-12T13:39:31.350Z"
   },
   {
    "duration": 144,
    "start_time": "2022-03-12T13:39:31.383Z"
   },
   {
    "duration": 21,
    "start_time": "2022-03-12T13:39:31.530Z"
   },
   {
    "duration": 173,
    "start_time": "2022-03-12T13:39:31.553Z"
   },
   {
    "duration": 117,
    "start_time": "2022-03-12T13:39:31.729Z"
   },
   {
    "duration": 105,
    "start_time": "2022-03-12T13:39:31.848Z"
   },
   {
    "duration": 13,
    "start_time": "2022-03-12T13:39:31.955Z"
   },
   {
    "duration": 46,
    "start_time": "2022-03-12T13:39:31.971Z"
   },
   {
    "duration": 66,
    "start_time": "2022-03-12T13:39:32.019Z"
   },
   {
    "duration": 48,
    "start_time": "2022-03-12T13:39:32.088Z"
   },
   {
    "duration": 27,
    "start_time": "2022-03-12T13:39:32.138Z"
   },
   {
    "duration": 58,
    "start_time": "2022-03-12T13:39:32.166Z"
   },
   {
    "duration": 23,
    "start_time": "2022-03-12T13:39:32.226Z"
   },
   {
    "duration": 23,
    "start_time": "2022-03-12T13:39:32.251Z"
   },
   {
    "duration": 59,
    "start_time": "2022-03-12T13:39:32.277Z"
   },
   {
    "duration": 6,
    "start_time": "2022-03-12T13:39:32.338Z"
   },
   {
    "duration": 245,
    "start_time": "2022-03-12T13:39:32.346Z"
   },
   {
    "duration": 21,
    "start_time": "2022-03-12T13:45:50.115Z"
   },
   {
    "duration": 16,
    "start_time": "2022-03-12T13:48:11.111Z"
   },
   {
    "duration": 17,
    "start_time": "2022-03-12T13:48:48.751Z"
   },
   {
    "duration": 20,
    "start_time": "2022-03-12T13:50:53.860Z"
   },
   {
    "duration": 16,
    "start_time": "2022-03-12T13:51:12.855Z"
   },
   {
    "duration": 378,
    "start_time": "2022-03-13T05:13:48.880Z"
   },
   {
    "duration": 1056,
    "start_time": "2022-03-13T05:13:53.431Z"
   },
   {
    "duration": 34,
    "start_time": "2022-03-13T05:13:54.490Z"
   },
   {
    "duration": 146,
    "start_time": "2022-03-13T05:13:54.527Z"
   },
   {
    "duration": 28,
    "start_time": "2022-03-13T05:13:54.676Z"
   },
   {
    "duration": 212,
    "start_time": "2022-03-13T05:13:54.706Z"
   },
   {
    "duration": 121,
    "start_time": "2022-03-13T05:13:54.920Z"
   },
   {
    "duration": 138,
    "start_time": "2022-03-13T05:13:55.044Z"
   },
   {
    "duration": 13,
    "start_time": "2022-03-13T05:13:55.184Z"
   },
   {
    "duration": 26,
    "start_time": "2022-03-13T05:13:55.202Z"
   },
   {
    "duration": 104,
    "start_time": "2022-03-13T05:13:55.231Z"
   },
   {
    "duration": 59,
    "start_time": "2022-03-13T05:13:55.337Z"
   },
   {
    "duration": 32,
    "start_time": "2022-03-13T05:13:55.398Z"
   },
   {
    "duration": 46,
    "start_time": "2022-03-13T05:13:55.432Z"
   },
   {
    "duration": 32,
    "start_time": "2022-03-13T05:13:55.480Z"
   },
   {
    "duration": 31,
    "start_time": "2022-03-13T05:13:55.514Z"
   },
   {
    "duration": 35,
    "start_time": "2022-03-13T05:13:55.574Z"
   },
   {
    "duration": 6,
    "start_time": "2022-03-13T05:13:55.612Z"
   },
   {
    "duration": 348,
    "start_time": "2022-03-13T05:13:55.620Z"
   },
   {
    "duration": 400,
    "start_time": "2022-03-13T05:13:58.045Z"
   },
   {
    "duration": 316,
    "start_time": "2022-03-13T05:14:21.677Z"
   },
   {
    "duration": 321,
    "start_time": "2022-03-13T05:15:46.268Z"
   },
   {
    "duration": 361,
    "start_time": "2022-03-13T05:18:25.168Z"
   },
   {
    "duration": 38,
    "start_time": "2022-03-13T05:18:29.544Z"
   },
   {
    "duration": 318,
    "start_time": "2022-03-13T05:18:55.758Z"
   },
   {
    "duration": 375,
    "start_time": "2022-03-13T05:21:06.440Z"
   },
   {
    "duration": 297,
    "start_time": "2022-03-13T05:21:16.101Z"
   },
   {
    "duration": 39,
    "start_time": "2022-03-13T05:21:19.164Z"
   },
   {
    "duration": 345,
    "start_time": "2022-03-13T05:21:29.689Z"
   },
   {
    "duration": 310,
    "start_time": "2022-03-13T05:23:46.646Z"
   },
   {
    "duration": 342,
    "start_time": "2022-03-13T05:27:14.642Z"
   },
   {
    "duration": 329,
    "start_time": "2022-03-13T05:27:38.420Z"
   },
   {
    "duration": 425,
    "start_time": "2022-03-13T05:28:03.408Z"
   },
   {
    "duration": 329,
    "start_time": "2022-03-13T05:28:18.919Z"
   },
   {
    "duration": 650,
    "start_time": "2022-03-13T05:29:01.087Z"
   },
   {
    "duration": 478,
    "start_time": "2022-03-13T05:29:56.571Z"
   },
   {
    "duration": 389,
    "start_time": "2022-03-13T05:30:49.458Z"
   },
   {
    "duration": 394,
    "start_time": "2022-03-13T05:31:00.819Z"
   },
   {
    "duration": 422,
    "start_time": "2022-03-13T05:31:07.581Z"
   },
   {
    "duration": 336,
    "start_time": "2022-03-13T05:31:33.340Z"
   },
   {
    "duration": 367,
    "start_time": "2022-03-13T05:32:46.614Z"
   },
   {
    "duration": 376,
    "start_time": "2022-03-13T05:33:35.837Z"
   },
   {
    "duration": 366,
    "start_time": "2022-03-13T05:36:01.635Z"
   },
   {
    "duration": 587,
    "start_time": "2022-03-13T05:36:40.521Z"
   },
   {
    "duration": 589,
    "start_time": "2022-03-13T05:37:18.748Z"
   },
   {
    "duration": 16148,
    "start_time": "2022-03-13T05:37:30.495Z"
   },
   {
    "duration": 679,
    "start_time": "2022-03-13T05:38:13.367Z"
   },
   {
    "duration": 627,
    "start_time": "2022-03-13T05:38:36.067Z"
   },
   {
    "duration": 461,
    "start_time": "2022-03-13T05:38:50.959Z"
   },
   {
    "duration": 304,
    "start_time": "2022-03-13T05:38:58.294Z"
   },
   {
    "duration": 831,
    "start_time": "2022-03-13T05:39:07.895Z"
   },
   {
    "duration": 291,
    "start_time": "2022-03-13T05:39:22.846Z"
   },
   {
    "duration": 294,
    "start_time": "2022-03-13T05:41:01.681Z"
   },
   {
    "duration": 386,
    "start_time": "2022-03-13T05:41:36.681Z"
   },
   {
    "duration": 683,
    "start_time": "2022-03-13T05:43:25.437Z"
   },
   {
    "duration": 691,
    "start_time": "2022-03-13T05:43:48.956Z"
   },
   {
    "duration": 386,
    "start_time": "2022-03-13T05:44:08.606Z"
   },
   {
    "duration": 396,
    "start_time": "2022-03-13T05:44:28.366Z"
   },
   {
    "duration": 405,
    "start_time": "2022-03-13T05:44:42.706Z"
   },
   {
    "duration": 342,
    "start_time": "2022-03-13T05:51:53.733Z"
   },
   {
    "duration": 343,
    "start_time": "2022-03-13T05:52:19.643Z"
   },
   {
    "duration": 403,
    "start_time": "2022-03-13T05:53:11.098Z"
   },
   {
    "duration": 411,
    "start_time": "2022-03-13T05:53:29.747Z"
   },
   {
    "duration": 416,
    "start_time": "2022-03-13T05:53:46.460Z"
   },
   {
    "duration": 341,
    "start_time": "2022-03-13T05:59:51.327Z"
   },
   {
    "duration": 393,
    "start_time": "2022-03-13T06:00:05.233Z"
   },
   {
    "duration": 438,
    "start_time": "2022-03-13T06:03:19.893Z"
   },
   {
    "duration": 73,
    "start_time": "2022-03-13T06:12:56.630Z"
   },
   {
    "duration": 295,
    "start_time": "2022-03-14T05:46:53.507Z"
   },
   {
    "duration": 821,
    "start_time": "2022-03-14T05:46:57.856Z"
   },
   {
    "duration": 36,
    "start_time": "2022-03-14T05:46:58.679Z"
   },
   {
    "duration": 111,
    "start_time": "2022-03-14T05:46:58.717Z"
   },
   {
    "duration": 25,
    "start_time": "2022-03-14T05:46:58.830Z"
   },
   {
    "duration": 167,
    "start_time": "2022-03-14T05:46:58.857Z"
   },
   {
    "duration": 91,
    "start_time": "2022-03-14T05:46:59.025Z"
   },
   {
    "duration": 106,
    "start_time": "2022-03-14T05:46:59.118Z"
   },
   {
    "duration": 11,
    "start_time": "2022-03-14T05:46:59.225Z"
   },
   {
    "duration": 20,
    "start_time": "2022-03-14T05:46:59.239Z"
   },
   {
    "duration": 53,
    "start_time": "2022-03-14T05:46:59.278Z"
   },
   {
    "duration": 60,
    "start_time": "2022-03-14T05:46:59.333Z"
   },
   {
    "duration": 24,
    "start_time": "2022-03-14T05:46:59.394Z"
   },
   {
    "duration": 19,
    "start_time": "2022-03-14T05:46:59.420Z"
   },
   {
    "duration": 46,
    "start_time": "2022-03-14T05:46:59.441Z"
   },
   {
    "duration": 22,
    "start_time": "2022-03-14T05:46:59.489Z"
   },
   {
    "duration": 23,
    "start_time": "2022-03-14T05:46:59.513Z"
   },
   {
    "duration": 4,
    "start_time": "2022-03-14T05:46:59.538Z"
   },
   {
    "duration": 242,
    "start_time": "2022-03-14T05:46:59.544Z"
   },
   {
    "duration": 48,
    "start_time": "2022-03-14T05:46:59.788Z"
   },
   {
    "duration": 385,
    "start_time": "2022-03-14T05:46:59.838Z"
   },
   {
    "duration": 288,
    "start_time": "2022-03-14T05:47:00.226Z"
   },
   {
    "duration": 328,
    "start_time": "2022-03-14T05:47:00.517Z"
   },
   {
    "duration": 348,
    "start_time": "2022-03-14T05:47:00.847Z"
   },
   {
    "duration": 316,
    "start_time": "2022-03-14T05:47:01.197Z"
   },
   {
    "duration": 269,
    "start_time": "2022-03-14T05:47:03.288Z"
   },
   {
    "duration": 7,
    "start_time": "2022-03-14T05:47:10.054Z"
   },
   {
    "duration": 2,
    "start_time": "2022-03-14T05:55:42.335Z"
   },
   {
    "duration": 311,
    "start_time": "2022-03-14T05:55:47.440Z"
   },
   {
    "duration": 301,
    "start_time": "2022-03-14T05:56:10.009Z"
   },
   {
    "duration": 310,
    "start_time": "2022-03-14T05:56:23.914Z"
   },
   {
    "duration": 310,
    "start_time": "2022-03-14T05:58:01.012Z"
   },
   {
    "duration": 266,
    "start_time": "2022-03-14T06:09:23.213Z"
   },
   {
    "duration": 296,
    "start_time": "2022-03-14T06:09:44.506Z"
   },
   {
    "duration": 6,
    "start_time": "2022-03-14T06:10:52.589Z"
   },
   {
    "duration": 6,
    "start_time": "2022-03-14T06:11:10.414Z"
   },
   {
    "duration": 276,
    "start_time": "2022-03-14T06:12:11.918Z"
   },
   {
    "duration": 232,
    "start_time": "2022-03-14T06:12:59.290Z"
   },
   {
    "duration": 278,
    "start_time": "2022-03-14T06:13:20.367Z"
   },
   {
    "duration": 409,
    "start_time": "2022-03-14T06:14:09.045Z"
   },
   {
    "duration": 413,
    "start_time": "2022-03-14T06:14:38.057Z"
   },
   {
    "duration": 313,
    "start_time": "2022-03-14T06:15:28.691Z"
   },
   {
    "duration": 324,
    "start_time": "2022-03-14T06:16:15.058Z"
   },
   {
    "duration": 316,
    "start_time": "2022-03-14T06:16:27.935Z"
   },
   {
    "duration": 471,
    "start_time": "2022-03-14T06:18:52.748Z"
   },
   {
    "duration": 296,
    "start_time": "2022-03-14T06:19:08.243Z"
   },
   {
    "duration": 7,
    "start_time": "2022-03-14T06:27:26.761Z"
   },
   {
    "duration": 7,
    "start_time": "2022-03-14T06:27:28.992Z"
   },
   {
    "duration": 254,
    "start_time": "2022-03-14T06:33:08.918Z"
   },
   {
    "duration": 235,
    "start_time": "2022-03-14T06:33:20.228Z"
   },
   {
    "duration": 219,
    "start_time": "2022-03-14T06:33:54.527Z"
   },
   {
    "duration": 229,
    "start_time": "2022-03-14T06:34:05.658Z"
   },
   {
    "duration": 41,
    "start_time": "2022-03-14T06:35:04.761Z"
   },
   {
    "duration": 14,
    "start_time": "2022-03-14T06:35:15.853Z"
   },
   {
    "duration": 9,
    "start_time": "2022-03-14T06:35:29.596Z"
   },
   {
    "duration": 81,
    "start_time": "2022-03-14T06:37:18.765Z"
   },
   {
    "duration": 10,
    "start_time": "2022-03-14T06:37:24.644Z"
   },
   {
    "duration": 8,
    "start_time": "2022-03-14T06:42:43.954Z"
   },
   {
    "duration": 7,
    "start_time": "2022-03-14T06:43:06.751Z"
   },
   {
    "duration": 7,
    "start_time": "2022-03-14T06:44:50.675Z"
   },
   {
    "duration": 7,
    "start_time": "2022-03-14T06:46:07.835Z"
   },
   {
    "duration": 8,
    "start_time": "2022-03-14T06:47:09.639Z"
   },
   {
    "duration": 7,
    "start_time": "2022-03-14T06:47:23.617Z"
   },
   {
    "duration": 7,
    "start_time": "2022-03-14T06:47:25.471Z"
   },
   {
    "duration": 7,
    "start_time": "2022-03-14T06:47:36.206Z"
   },
   {
    "duration": 7,
    "start_time": "2022-03-14T06:47:38.348Z"
   },
   {
    "duration": 7,
    "start_time": "2022-03-14T06:52:42.021Z"
   },
   {
    "duration": 7,
    "start_time": "2022-03-14T06:52:54.125Z"
   },
   {
    "duration": 7,
    "start_time": "2022-03-14T06:54:47.923Z"
   },
   {
    "duration": 7,
    "start_time": "2022-03-14T06:56:29.993Z"
   },
   {
    "duration": 304,
    "start_time": "2022-03-14T06:59:50.662Z"
   },
   {
    "duration": 247,
    "start_time": "2022-03-14T07:00:56.868Z"
   },
   {
    "duration": 302,
    "start_time": "2022-03-14T07:05:24.977Z"
   },
   {
    "duration": 329,
    "start_time": "2022-03-14T07:06:05.444Z"
   },
   {
    "duration": 452,
    "start_time": "2022-03-14T07:06:19.286Z"
   },
   {
    "duration": 303,
    "start_time": "2022-03-14T07:06:31.891Z"
   },
   {
    "duration": 290,
    "start_time": "2022-03-14T07:06:50.658Z"
   },
   {
    "duration": 457,
    "start_time": "2022-03-14T07:07:04.067Z"
   },
   {
    "duration": 453,
    "start_time": "2022-03-14T07:07:15.732Z"
   },
   {
    "duration": 444,
    "start_time": "2022-03-14T07:07:23.833Z"
   },
   {
    "duration": 335,
    "start_time": "2022-03-14T07:07:43.045Z"
   },
   {
    "duration": 8,
    "start_time": "2022-03-14T07:13:19.363Z"
   },
   {
    "duration": 9,
    "start_time": "2022-03-14T07:15:53.799Z"
   },
   {
    "duration": 80,
    "start_time": "2022-03-14T07:16:54.272Z"
   },
   {
    "duration": 9,
    "start_time": "2022-03-14T07:17:05.073Z"
   },
   {
    "duration": 288,
    "start_time": "2022-03-14T07:22:00.750Z"
   },
   {
    "duration": 422,
    "start_time": "2022-03-14T07:22:24.812Z"
   },
   {
    "duration": 339,
    "start_time": "2022-03-14T07:22:30.876Z"
   },
   {
    "duration": 11,
    "start_time": "2022-03-14T07:24:59.289Z"
   },
   {
    "duration": 11,
    "start_time": "2022-03-14T07:25:01.739Z"
   },
   {
    "duration": 9,
    "start_time": "2022-03-14T07:25:04.428Z"
   },
   {
    "duration": 341,
    "start_time": "2022-03-14T07:27:53.666Z"
   },
   {
    "duration": 308,
    "start_time": "2022-03-14T07:28:08.338Z"
   },
   {
    "duration": 319,
    "start_time": "2022-03-14T07:28:21.617Z"
   },
   {
    "duration": 10,
    "start_time": "2022-03-14T07:29:48.511Z"
   },
   {
    "duration": 10,
    "start_time": "2022-03-14T07:29:50.669Z"
   },
   {
    "duration": 9,
    "start_time": "2022-03-14T07:29:52.774Z"
   },
   {
    "duration": 230,
    "start_time": "2022-03-14T07:32:07.894Z"
   },
   {
    "duration": 340,
    "start_time": "2022-03-14T07:32:32.829Z"
   },
   {
    "duration": 479,
    "start_time": "2022-03-14T07:32:46.416Z"
   },
   {
    "duration": 269,
    "start_time": "2022-03-14T07:33:00.043Z"
   },
   {
    "duration": 352,
    "start_time": "2022-03-14T07:34:04.387Z"
   },
   {
    "duration": 403,
    "start_time": "2022-03-14T07:34:12.737Z"
   },
   {
    "duration": 6,
    "start_time": "2022-03-14T07:36:47.879Z"
   },
   {
    "duration": 7,
    "start_time": "2022-03-14T07:37:25.917Z"
   },
   {
    "duration": 7,
    "start_time": "2022-03-14T07:37:43.032Z"
   },
   {
    "duration": 705,
    "start_time": "2022-03-14T08:03:44.453Z"
   },
   {
    "duration": 56,
    "start_time": "2022-03-14T08:03:45.160Z"
   },
   {
    "duration": 119,
    "start_time": "2022-03-14T08:03:45.219Z"
   },
   {
    "duration": 25,
    "start_time": "2022-03-14T08:03:45.340Z"
   },
   {
    "duration": 177,
    "start_time": "2022-03-14T08:03:45.367Z"
   },
   {
    "duration": 87,
    "start_time": "2022-03-14T08:03:45.546Z"
   },
   {
    "duration": 92,
    "start_time": "2022-03-14T08:03:45.635Z"
   },
   {
    "duration": 11,
    "start_time": "2022-03-14T08:03:45.729Z"
   },
   {
    "duration": 37,
    "start_time": "2022-03-14T08:03:45.743Z"
   },
   {
    "duration": 69,
    "start_time": "2022-03-14T08:03:45.782Z"
   },
   {
    "duration": 50,
    "start_time": "2022-03-14T08:03:45.853Z"
   },
   {
    "duration": 25,
    "start_time": "2022-03-14T08:03:45.906Z"
   },
   {
    "duration": 46,
    "start_time": "2022-03-14T08:03:45.933Z"
   },
   {
    "duration": 24,
    "start_time": "2022-03-14T08:03:45.982Z"
   },
   {
    "duration": 23,
    "start_time": "2022-03-14T08:03:46.007Z"
   },
   {
    "duration": 54,
    "start_time": "2022-03-14T08:03:46.031Z"
   },
   {
    "duration": 7,
    "start_time": "2022-03-14T08:03:46.087Z"
   },
   {
    "duration": 232,
    "start_time": "2022-03-14T08:03:46.096Z"
   },
   {
    "duration": 2,
    "start_time": "2022-03-14T08:03:46.330Z"
   },
   {
    "duration": 372,
    "start_time": "2022-03-14T08:03:46.334Z"
   },
   {
    "duration": 8,
    "start_time": "2022-03-14T08:03:46.707Z"
   },
   {
    "duration": 11,
    "start_time": "2022-03-14T08:03:46.717Z"
   },
   {
    "duration": 9,
    "start_time": "2022-03-14T08:03:46.732Z"
   },
   {
    "duration": 395,
    "start_time": "2022-03-14T08:03:46.744Z"
   },
   {
    "duration": 9,
    "start_time": "2022-03-14T08:03:47.141Z"
   },
   {
    "duration": 12,
    "start_time": "2022-03-14T08:03:47.152Z"
   },
   {
    "duration": 20,
    "start_time": "2022-03-14T08:03:47.179Z"
   },
   {
    "duration": 310,
    "start_time": "2022-03-14T08:03:47.202Z"
   },
   {
    "duration": 9,
    "start_time": "2022-03-14T08:03:47.514Z"
   },
   {
    "duration": 10,
    "start_time": "2022-03-14T08:03:47.524Z"
   },
   {
    "duration": 8,
    "start_time": "2022-03-14T08:03:47.536Z"
   },
   {
    "duration": 416,
    "start_time": "2022-03-14T08:03:47.546Z"
   },
   {
    "duration": 19,
    "start_time": "2022-03-14T08:03:47.963Z"
   },
   {
    "duration": 16,
    "start_time": "2022-03-14T08:03:47.984Z"
   },
   {
    "duration": 8,
    "start_time": "2022-03-14T08:03:48.002Z"
   },
   {
    "duration": 338,
    "start_time": "2022-03-14T08:03:48.012Z"
   },
   {
    "duration": 7,
    "start_time": "2022-03-14T08:03:48.352Z"
   },
   {
    "duration": 21,
    "start_time": "2022-03-14T08:03:48.361Z"
   },
   {
    "duration": 18,
    "start_time": "2022-03-14T08:03:48.384Z"
   },
   {
    "duration": 11,
    "start_time": "2022-03-14T08:10:23.203Z"
   },
   {
    "duration": 1447,
    "start_time": "2022-03-14T08:20:13.582Z"
   },
   {
    "duration": 39,
    "start_time": "2022-03-14T08:20:15.032Z"
   },
   {
    "duration": 118,
    "start_time": "2022-03-14T08:20:15.074Z"
   },
   {
    "duration": 26,
    "start_time": "2022-03-14T08:20:15.194Z"
   },
   {
    "duration": 170,
    "start_time": "2022-03-14T08:20:15.222Z"
   },
   {
    "duration": 89,
    "start_time": "2022-03-14T08:20:15.394Z"
   },
   {
    "duration": 107,
    "start_time": "2022-03-14T08:20:15.485Z"
   },
   {
    "duration": 11,
    "start_time": "2022-03-14T08:20:15.595Z"
   },
   {
    "duration": 20,
    "start_time": "2022-03-14T08:20:15.608Z"
   },
   {
    "duration": 80,
    "start_time": "2022-03-14T08:20:15.630Z"
   },
   {
    "duration": 39,
    "start_time": "2022-03-14T08:20:15.711Z"
   },
   {
    "duration": 37,
    "start_time": "2022-03-14T08:20:15.751Z"
   },
   {
    "duration": 20,
    "start_time": "2022-03-14T08:20:15.790Z"
   },
   {
    "duration": 22,
    "start_time": "2022-03-14T08:20:15.811Z"
   },
   {
    "duration": 62,
    "start_time": "2022-03-14T08:20:15.835Z"
   },
   {
    "duration": 27,
    "start_time": "2022-03-14T08:20:15.898Z"
   },
   {
    "duration": 5,
    "start_time": "2022-03-14T08:20:15.926Z"
   },
   {
    "duration": 239,
    "start_time": "2022-03-14T08:20:15.933Z"
   },
   {
    "duration": 3,
    "start_time": "2022-03-14T08:20:16.174Z"
   },
   {
    "duration": 474,
    "start_time": "2022-03-14T08:20:16.179Z"
   },
   {
    "duration": 8,
    "start_time": "2022-03-14T08:20:16.655Z"
   },
   {
    "duration": 9,
    "start_time": "2022-03-14T08:20:16.677Z"
   },
   {
    "duration": 12,
    "start_time": "2022-03-14T08:20:16.689Z"
   },
   {
    "duration": 382,
    "start_time": "2022-03-14T08:20:16.703Z"
   },
   {
    "duration": 9,
    "start_time": "2022-03-14T08:20:17.086Z"
   },
   {
    "duration": 11,
    "start_time": "2022-03-14T08:20:17.097Z"
   },
   {
    "duration": 9,
    "start_time": "2022-03-14T08:20:17.111Z"
   },
   {
    "duration": 314,
    "start_time": "2022-03-14T08:20:17.122Z"
   },
   {
    "duration": 8,
    "start_time": "2022-03-14T08:20:17.438Z"
   },
   {
    "duration": 13,
    "start_time": "2022-03-14T08:20:17.448Z"
   },
   {
    "duration": 9,
    "start_time": "2022-03-14T08:20:17.477Z"
   },
   {
    "duration": 362,
    "start_time": "2022-03-14T08:20:17.488Z"
   },
   {
    "duration": 7,
    "start_time": "2022-03-14T08:20:17.852Z"
   },
   {
    "duration": 19,
    "start_time": "2022-03-14T08:20:17.861Z"
   },
   {
    "duration": 6,
    "start_time": "2022-03-14T08:20:17.881Z"
   },
   {
    "duration": 337,
    "start_time": "2022-03-14T08:20:17.889Z"
   },
   {
    "duration": 6,
    "start_time": "2022-03-14T08:20:18.228Z"
   },
   {
    "duration": 8,
    "start_time": "2022-03-14T08:20:18.235Z"
   },
   {
    "duration": 6,
    "start_time": "2022-03-14T08:20:18.245Z"
   },
   {
    "duration": 9,
    "start_time": "2022-03-14T08:20:18.277Z"
   },
   {
    "duration": 7,
    "start_time": "2022-03-14T08:22:39.384Z"
   },
   {
    "duration": 10,
    "start_time": "2022-03-14T08:28:13.230Z"
   },
   {
    "duration": 7,
    "start_time": "2022-03-14T08:28:44.891Z"
   },
   {
    "duration": 7,
    "start_time": "2022-03-14T08:28:54.349Z"
   },
   {
    "duration": 7,
    "start_time": "2022-03-14T08:30:02.236Z"
   },
   {
    "duration": 9,
    "start_time": "2022-03-14T08:30:27.990Z"
   },
   {
    "duration": 185,
    "start_time": "2022-03-14T09:05:15.727Z"
   },
   {
    "duration": 191,
    "start_time": "2022-03-14T09:05:41.731Z"
   },
   {
    "duration": 34,
    "start_time": "2022-03-14T09:06:21.429Z"
   },
   {
    "duration": 6,
    "start_time": "2022-03-14T10:08:02.264Z"
   },
   {
    "duration": 7,
    "start_time": "2022-03-14T10:08:23.798Z"
   },
   {
    "duration": 7,
    "start_time": "2022-03-14T10:18:46.824Z"
   },
   {
    "duration": 7,
    "start_time": "2022-03-14T10:18:55.036Z"
   },
   {
    "duration": 242,
    "start_time": "2022-03-14T10:52:50.478Z"
   },
   {
    "duration": 343,
    "start_time": "2022-03-14T10:53:10.757Z"
   },
   {
    "duration": 325,
    "start_time": "2022-03-14T10:53:15.671Z"
   },
   {
    "duration": 330,
    "start_time": "2022-03-14T10:53:40.488Z"
   },
   {
    "duration": 269,
    "start_time": "2022-03-14T10:54:14.454Z"
   },
   {
    "duration": 234,
    "start_time": "2022-03-14T10:54:31.274Z"
   },
   {
    "duration": 278,
    "start_time": "2022-03-14T12:23:18.599Z"
   },
   {
    "duration": 265,
    "start_time": "2022-03-14T12:23:29.159Z"
   },
   {
    "duration": 274,
    "start_time": "2022-03-14T12:23:50.692Z"
   },
   {
    "duration": 275,
    "start_time": "2022-03-14T12:23:57.948Z"
   },
   {
    "duration": 231,
    "start_time": "2022-03-14T12:32:16.500Z"
   },
   {
    "duration": 220,
    "start_time": "2022-03-14T12:34:30.143Z"
   },
   {
    "duration": 213,
    "start_time": "2022-03-14T12:35:57.395Z"
   },
   {
    "duration": 564,
    "start_time": "2022-03-14T12:38:18.542Z"
   },
   {
    "duration": 333,
    "start_time": "2022-03-14T12:38:23.557Z"
   },
   {
    "duration": 386,
    "start_time": "2022-03-14T12:38:37.713Z"
   },
   {
    "duration": 396,
    "start_time": "2022-03-14T12:38:42.332Z"
   },
   {
    "duration": 450,
    "start_time": "2022-03-14T12:40:13.838Z"
   },
   {
    "duration": 8,
    "start_time": "2022-03-14T12:49:32.800Z"
   },
   {
    "duration": 8,
    "start_time": "2022-03-14T12:49:34.748Z"
   },
   {
    "duration": 10,
    "start_time": "2022-03-14T12:56:32.325Z"
   },
   {
    "duration": 10,
    "start_time": "2022-03-14T12:59:55.090Z"
   },
   {
    "duration": 1205,
    "start_time": "2022-03-14T13:44:27.961Z"
   },
   {
    "duration": 74,
    "start_time": "2022-03-14T13:44:29.168Z"
   },
   {
    "duration": 117,
    "start_time": "2022-03-14T13:44:29.244Z"
   },
   {
    "duration": 26,
    "start_time": "2022-03-14T13:44:29.363Z"
   },
   {
    "duration": 177,
    "start_time": "2022-03-14T13:44:29.391Z"
   },
   {
    "duration": 86,
    "start_time": "2022-03-14T13:44:29.570Z"
   },
   {
    "duration": 213,
    "start_time": "2022-03-14T13:44:29.658Z"
   },
   {
    "duration": 31,
    "start_time": "2022-03-14T13:44:29.872Z"
   },
   {
    "duration": 32,
    "start_time": "2022-03-14T13:44:29.906Z"
   },
   {
    "duration": 65,
    "start_time": "2022-03-14T13:44:29.940Z"
   },
   {
    "duration": 46,
    "start_time": "2022-03-14T13:44:30.007Z"
   },
   {
    "duration": 24,
    "start_time": "2022-03-14T13:44:30.055Z"
   },
   {
    "duration": 40,
    "start_time": "2022-03-14T13:44:30.081Z"
   },
   {
    "duration": 28,
    "start_time": "2022-03-14T13:44:30.122Z"
   },
   {
    "duration": 28,
    "start_time": "2022-03-14T13:44:30.152Z"
   },
   {
    "duration": 25,
    "start_time": "2022-03-14T13:44:30.182Z"
   },
   {
    "duration": 5,
    "start_time": "2022-03-14T13:44:30.232Z"
   },
   {
    "duration": 229,
    "start_time": "2022-03-14T13:44:30.239Z"
   },
   {
    "duration": 462,
    "start_time": "2022-03-14T13:44:30.470Z"
   },
   {
    "duration": 9,
    "start_time": "2022-03-14T13:44:30.933Z"
   },
   {
    "duration": 27,
    "start_time": "2022-03-14T13:44:30.943Z"
   },
   {
    "duration": 31,
    "start_time": "2022-03-14T13:44:30.972Z"
   },
   {
    "duration": 357,
    "start_time": "2022-03-14T13:44:31.005Z"
   },
   {
    "duration": 8,
    "start_time": "2022-03-14T13:44:31.364Z"
   },
   {
    "duration": 14,
    "start_time": "2022-03-14T13:44:31.374Z"
   },
   {
    "duration": 9,
    "start_time": "2022-03-14T13:44:31.390Z"
   },
   {
    "duration": 319,
    "start_time": "2022-03-14T13:44:31.403Z"
   },
   {
    "duration": 13,
    "start_time": "2022-03-14T13:44:31.724Z"
   },
   {
    "duration": 11,
    "start_time": "2022-03-14T13:44:31.739Z"
   },
   {
    "duration": 9,
    "start_time": "2022-03-14T13:44:31.752Z"
   },
   {
    "duration": 357,
    "start_time": "2022-03-14T13:44:31.762Z"
   },
   {
    "duration": 11,
    "start_time": "2022-03-14T13:44:32.121Z"
   },
   {
    "duration": 6,
    "start_time": "2022-03-14T13:44:32.134Z"
   },
   {
    "duration": 12,
    "start_time": "2022-03-14T13:44:32.141Z"
   },
   {
    "duration": 12,
    "start_time": "2022-03-14T13:44:32.155Z"
   },
   {
    "duration": 307,
    "start_time": "2022-03-14T13:44:32.169Z"
   },
   {
    "duration": 6,
    "start_time": "2022-03-14T13:44:32.478Z"
   },
   {
    "duration": 10,
    "start_time": "2022-03-14T13:44:32.486Z"
   },
   {
    "duration": 9,
    "start_time": "2022-03-14T13:44:32.498Z"
   },
   {
    "duration": 27,
    "start_time": "2022-03-14T13:44:32.509Z"
   },
   {
    "duration": 17,
    "start_time": "2022-03-14T13:44:32.538Z"
   },
   {
    "duration": 11,
    "start_time": "2022-03-14T13:44:32.557Z"
   },
   {
    "duration": 18,
    "start_time": "2022-03-14T13:44:32.569Z"
   },
   {
    "duration": 16,
    "start_time": "2022-03-14T13:44:32.589Z"
   },
   {
    "duration": 8,
    "start_time": "2022-03-14T13:47:07.977Z"
   },
   {
    "duration": 9,
    "start_time": "2022-03-14T13:47:27.265Z"
   },
   {
    "duration": 20,
    "start_time": "2022-03-14T13:49:19.187Z"
   },
   {
    "duration": 20,
    "start_time": "2022-03-14T13:50:09.110Z"
   },
   {
    "duration": 20,
    "start_time": "2022-03-14T13:50:27.434Z"
   },
   {
    "duration": 980,
    "start_time": "2022-03-18T13:17:31.637Z"
   },
   {
    "duration": 84,
    "start_time": "2022-03-18T13:17:32.619Z"
   },
   {
    "duration": 106,
    "start_time": "2022-03-18T13:17:32.705Z"
   },
   {
    "duration": 27,
    "start_time": "2022-03-18T13:17:32.813Z"
   },
   {
    "duration": 155,
    "start_time": "2022-03-18T13:17:32.841Z"
   },
   {
    "duration": 69,
    "start_time": "2022-03-18T13:17:32.997Z"
   },
   {
    "duration": 200,
    "start_time": "2022-03-18T13:17:33.068Z"
   },
   {
    "duration": 34,
    "start_time": "2022-03-18T13:17:33.269Z"
   },
   {
    "duration": 21,
    "start_time": "2022-03-18T13:17:33.305Z"
   },
   {
    "duration": 68,
    "start_time": "2022-03-18T13:17:33.329Z"
   },
   {
    "duration": 34,
    "start_time": "2022-03-18T13:17:33.399Z"
   },
   {
    "duration": 25,
    "start_time": "2022-03-18T13:17:33.434Z"
   },
   {
    "duration": 21,
    "start_time": "2022-03-18T13:17:33.481Z"
   },
   {
    "duration": 20,
    "start_time": "2022-03-18T13:17:33.504Z"
   },
   {
    "duration": 23,
    "start_time": "2022-03-18T13:17:33.526Z"
   },
   {
    "duration": 51,
    "start_time": "2022-03-18T13:17:33.550Z"
   },
   {
    "duration": 5,
    "start_time": "2022-03-18T13:17:33.603Z"
   },
   {
    "duration": 112,
    "start_time": "2022-03-18T13:17:33.610Z"
   },
   {
    "duration": 510,
    "start_time": "2022-03-18T13:17:33.724Z"
   },
   {
    "duration": 8,
    "start_time": "2022-03-18T13:17:34.236Z"
   },
   {
    "duration": 7,
    "start_time": "2022-03-18T13:17:34.246Z"
   },
   {
    "duration": 42,
    "start_time": "2022-03-18T13:17:34.255Z"
   },
   {
    "duration": 196,
    "start_time": "2022-03-18T13:17:34.299Z"
   },
   {
    "duration": 7,
    "start_time": "2022-03-18T13:17:34.497Z"
   },
   {
    "duration": 8,
    "start_time": "2022-03-18T13:17:34.506Z"
   },
   {
    "duration": 6,
    "start_time": "2022-03-18T13:17:34.516Z"
   },
   {
    "duration": 189,
    "start_time": "2022-03-18T13:17:34.524Z"
   },
   {
    "duration": 8,
    "start_time": "2022-03-18T13:17:34.716Z"
   },
   {
    "duration": 12,
    "start_time": "2022-03-18T13:17:34.725Z"
   },
   {
    "duration": 6,
    "start_time": "2022-03-18T13:17:34.739Z"
   },
   {
    "duration": 153,
    "start_time": "2022-03-18T13:17:34.747Z"
   },
   {
    "duration": 5,
    "start_time": "2022-03-18T13:17:34.902Z"
   },
   {
    "duration": 8,
    "start_time": "2022-03-18T13:17:34.909Z"
   },
   {
    "duration": 10,
    "start_time": "2022-03-18T13:17:34.918Z"
   },
   {
    "duration": 7,
    "start_time": "2022-03-18T13:17:34.930Z"
   },
   {
    "duration": 144,
    "start_time": "2022-03-18T13:17:34.939Z"
   },
   {
    "duration": 6,
    "start_time": "2022-03-18T13:17:35.085Z"
   },
   {
    "duration": 10,
    "start_time": "2022-03-18T13:17:35.092Z"
   },
   {
    "duration": 8,
    "start_time": "2022-03-18T13:17:35.103Z"
   },
   {
    "duration": 7,
    "start_time": "2022-03-18T13:17:35.112Z"
   },
   {
    "duration": 8,
    "start_time": "2022-03-18T13:17:35.120Z"
   },
   {
    "duration": 8,
    "start_time": "2022-03-18T13:17:35.129Z"
   },
   {
    "duration": 44,
    "start_time": "2022-03-18T13:17:35.138Z"
   },
   {
    "duration": 6,
    "start_time": "2022-03-18T13:17:35.184Z"
   },
   {
    "duration": 56,
    "start_time": "2022-03-18T13:19:22.946Z"
   },
   {
    "duration": 1220,
    "start_time": "2022-03-21T05:59:11.565Z"
   },
   {
    "duration": 43,
    "start_time": "2022-03-21T05:59:12.788Z"
   },
   {
    "duration": 137,
    "start_time": "2022-03-21T05:59:12.833Z"
   },
   {
    "duration": 34,
    "start_time": "2022-03-21T05:59:12.972Z"
   },
   {
    "duration": 213,
    "start_time": "2022-03-21T05:59:13.010Z"
   },
   {
    "duration": 125,
    "start_time": "2022-03-21T05:59:13.226Z"
   },
   {
    "duration": 274,
    "start_time": "2022-03-21T05:59:13.353Z"
   },
   {
    "duration": 51,
    "start_time": "2022-03-21T05:59:13.629Z"
   },
   {
    "duration": 30,
    "start_time": "2022-03-21T05:59:13.683Z"
   },
   {
    "duration": 91,
    "start_time": "2022-03-21T05:59:13.715Z"
   },
   {
    "duration": 7,
    "start_time": "2022-03-21T05:59:15.205Z"
   },
   {
    "duration": 3710,
    "start_time": "2022-03-21T06:00:28.592Z"
   },
   {
    "duration": 34,
    "start_time": "2022-03-21T06:00:48.451Z"
   },
   {
    "duration": 73,
    "start_time": "2022-03-21T06:01:23.271Z"
   },
   {
    "duration": 50,
    "start_time": "2022-03-21T06:02:31.083Z"
   },
   {
    "duration": 19,
    "start_time": "2022-03-21T06:03:35.094Z"
   },
   {
    "duration": 32,
    "start_time": "2022-03-21T06:03:45.275Z"
   },
   {
    "duration": 45,
    "start_time": "2022-03-21T06:03:52.533Z"
   },
   {
    "duration": 7,
    "start_time": "2022-03-21T06:15:00.420Z"
   },
   {
    "duration": 12,
    "start_time": "2022-03-21T06:15:05.809Z"
   },
   {
    "duration": 10,
    "start_time": "2022-03-21T06:15:31.556Z"
   },
   {
    "duration": 47,
    "start_time": "2022-03-21T06:16:08.326Z"
   },
   {
    "duration": 242,
    "start_time": "2022-03-21T06:17:10.546Z"
   },
   {
    "duration": 46,
    "start_time": "2022-03-21T06:17:10.790Z"
   },
   {
    "duration": 143,
    "start_time": "2022-03-21T06:17:10.839Z"
   },
   {
    "duration": 30,
    "start_time": "2022-03-21T06:17:10.985Z"
   },
   {
    "duration": 210,
    "start_time": "2022-03-21T06:17:11.018Z"
   },
   {
    "duration": 118,
    "start_time": "2022-03-21T06:17:11.230Z"
   },
   {
    "duration": 281,
    "start_time": "2022-03-21T06:17:11.350Z"
   },
   {
    "duration": 49,
    "start_time": "2022-03-21T06:17:11.633Z"
   },
   {
    "duration": 29,
    "start_time": "2022-03-21T06:17:11.685Z"
   },
   {
    "duration": 2297,
    "start_time": "2022-03-21T06:17:11.718Z"
   },
   {
    "duration": 0,
    "start_time": "2022-03-21T06:17:14.017Z"
   },
   {
    "duration": 0,
    "start_time": "2022-03-21T06:17:14.019Z"
   },
   {
    "duration": 232,
    "start_time": "2022-03-21T06:18:13.982Z"
   },
   {
    "duration": 45,
    "start_time": "2022-03-21T06:18:14.217Z"
   },
   {
    "duration": 151,
    "start_time": "2022-03-21T06:18:14.268Z"
   },
   {
    "duration": 47,
    "start_time": "2022-03-21T06:18:14.421Z"
   },
   {
    "duration": 231,
    "start_time": "2022-03-21T06:18:14.471Z"
   },
   {
    "duration": 124,
    "start_time": "2022-03-21T06:18:14.705Z"
   },
   {
    "duration": 266,
    "start_time": "2022-03-21T06:18:14.831Z"
   },
   {
    "duration": 40,
    "start_time": "2022-03-21T06:18:15.099Z"
   },
   {
    "duration": 50,
    "start_time": "2022-03-21T06:18:15.141Z"
   },
   {
    "duration": 83,
    "start_time": "2022-03-21T06:18:15.194Z"
   },
   {
    "duration": 7,
    "start_time": "2022-03-21T06:18:15.279Z"
   },
   {
    "duration": 17,
    "start_time": "2022-03-21T06:18:15.288Z"
   },
   {
    "duration": 42,
    "start_time": "2022-03-21T06:18:20.529Z"
   },
   {
    "duration": 33,
    "start_time": "2022-03-21T06:18:31.203Z"
   },
   {
    "duration": 27,
    "start_time": "2022-03-21T06:18:35.965Z"
   },
   {
    "duration": 38,
    "start_time": "2022-03-21T06:18:46.708Z"
   },
   {
    "duration": 47,
    "start_time": "2022-03-21T06:18:58.781Z"
   },
   {
    "duration": 38,
    "start_time": "2022-03-21T06:19:08.131Z"
   },
   {
    "duration": 9,
    "start_time": "2022-03-21T06:23:56.553Z"
   },
   {
    "duration": 237,
    "start_time": "2022-03-21T06:40:46.583Z"
   },
   {
    "duration": 51,
    "start_time": "2022-03-21T06:40:46.824Z"
   },
   {
    "duration": 145,
    "start_time": "2022-03-21T06:40:46.877Z"
   },
   {
    "duration": 30,
    "start_time": "2022-03-21T06:40:47.026Z"
   },
   {
    "duration": 209,
    "start_time": "2022-03-21T06:40:47.069Z"
   },
   {
    "duration": 118,
    "start_time": "2022-03-21T06:40:47.280Z"
   },
   {
    "duration": 268,
    "start_time": "2022-03-21T06:40:47.400Z"
   },
   {
    "duration": 41,
    "start_time": "2022-03-21T06:40:47.670Z"
   },
   {
    "duration": 29,
    "start_time": "2022-03-21T06:40:47.713Z"
   },
   {
    "duration": 86,
    "start_time": "2022-03-21T06:40:47.746Z"
   },
   {
    "duration": 13,
    "start_time": "2022-03-21T06:40:47.834Z"
   },
   {
    "duration": 9,
    "start_time": "2022-03-21T06:40:47.869Z"
   },
   {
    "duration": 86,
    "start_time": "2022-03-21T06:40:47.881Z"
   },
   {
    "duration": 32,
    "start_time": "2022-03-21T06:40:47.970Z"
   },
   {
    "duration": 27,
    "start_time": "2022-03-21T06:40:48.005Z"
   },
   {
    "duration": 21,
    "start_time": "2022-03-21T06:40:53.813Z"
   },
   {
    "duration": 40,
    "start_time": "2022-03-21T06:41:00.825Z"
   },
   {
    "duration": 37,
    "start_time": "2022-03-21T06:41:29.416Z"
   },
   {
    "duration": 2,
    "start_time": "2022-03-21T06:45:47.211Z"
   },
   {
    "duration": 234,
    "start_time": "2022-03-21T06:46:35.516Z"
   },
   {
    "duration": 44,
    "start_time": "2022-03-21T06:46:35.753Z"
   },
   {
    "duration": 152,
    "start_time": "2022-03-21T06:46:35.799Z"
   },
   {
    "duration": 37,
    "start_time": "2022-03-21T06:46:35.953Z"
   },
   {
    "duration": 217,
    "start_time": "2022-03-21T06:46:35.992Z"
   },
   {
    "duration": 115,
    "start_time": "2022-03-21T06:46:36.212Z"
   },
   {
    "duration": 266,
    "start_time": "2022-03-21T06:46:36.330Z"
   },
   {
    "duration": 40,
    "start_time": "2022-03-21T06:46:36.598Z"
   },
   {
    "duration": 68,
    "start_time": "2022-03-21T06:46:36.640Z"
   },
   {
    "duration": 115,
    "start_time": "2022-03-21T06:46:36.714Z"
   },
   {
    "duration": 8,
    "start_time": "2022-03-21T06:46:36.832Z"
   },
   {
    "duration": 27,
    "start_time": "2022-03-21T06:46:36.843Z"
   },
   {
    "duration": 43,
    "start_time": "2022-03-21T06:46:36.873Z"
   },
   {
    "duration": 59,
    "start_time": "2022-03-21T06:46:36.918Z"
   },
   {
    "duration": 29,
    "start_time": "2022-03-21T06:46:36.980Z"
   },
   {
    "duration": 63,
    "start_time": "2022-03-21T06:46:37.012Z"
   },
   {
    "duration": 4,
    "start_time": "2022-03-21T06:46:37.078Z"
   },
   {
    "duration": 45,
    "start_time": "2022-03-21T06:46:37.085Z"
   },
   {
    "duration": 63,
    "start_time": "2022-03-21T06:46:37.133Z"
   },
   {
    "duration": 6,
    "start_time": "2022-03-21T06:46:37.199Z"
   },
   {
    "duration": 190,
    "start_time": "2022-03-21T06:46:40.864Z"
   },
   {
    "duration": 38,
    "start_time": "2022-03-21T06:47:11.249Z"
   },
   {
    "duration": 354,
    "start_time": "2022-03-21T06:51:24.782Z"
   },
   {
    "duration": 59,
    "start_time": "2022-03-21T06:51:25.139Z"
   },
   {
    "duration": 229,
    "start_time": "2022-03-21T06:51:25.200Z"
   },
   {
    "duration": 53,
    "start_time": "2022-03-21T06:51:25.433Z"
   },
   {
    "duration": 229,
    "start_time": "2022-03-21T06:51:25.488Z"
   },
   {
    "duration": 130,
    "start_time": "2022-03-21T06:51:25.720Z"
   },
   {
    "duration": 276,
    "start_time": "2022-03-21T06:51:25.853Z"
   },
   {
    "duration": 72,
    "start_time": "2022-03-21T06:51:26.132Z"
   },
   {
    "duration": 29,
    "start_time": "2022-03-21T06:51:26.207Z"
   },
   {
    "duration": 86,
    "start_time": "2022-03-21T06:51:26.240Z"
   },
   {
    "duration": 9,
    "start_time": "2022-03-21T06:51:26.328Z"
   },
   {
    "duration": 29,
    "start_time": "2022-03-21T06:51:26.340Z"
   },
   {
    "duration": 45,
    "start_time": "2022-03-21T06:51:26.373Z"
   },
   {
    "duration": 65,
    "start_time": "2022-03-21T06:51:26.421Z"
   },
   {
    "duration": 29,
    "start_time": "2022-03-21T06:51:26.489Z"
   },
   {
    "duration": 61,
    "start_time": "2022-03-21T06:51:26.520Z"
   },
   {
    "duration": 4,
    "start_time": "2022-03-21T06:51:26.583Z"
   },
   {
    "duration": 44,
    "start_time": "2022-03-21T06:51:26.589Z"
   },
   {
    "duration": 62,
    "start_time": "2022-03-21T06:51:26.635Z"
   },
   {
    "duration": 6,
    "start_time": "2022-03-21T06:51:26.699Z"
   },
   {
    "duration": 209,
    "start_time": "2022-03-21T06:51:26.708Z"
   },
   {
    "duration": 67,
    "start_time": "2022-03-21T06:51:26.921Z"
   },
   {
    "duration": 1456,
    "start_time": "2022-03-21T06:51:26.991Z"
   },
   {
    "duration": 21,
    "start_time": "2022-03-21T06:51:28.451Z"
   },
   {
    "duration": 11,
    "start_time": "2022-03-21T06:51:28.475Z"
   },
   {
    "duration": 13,
    "start_time": "2022-03-21T06:51:28.489Z"
   },
   {
    "duration": 352,
    "start_time": "2022-03-21T06:51:37.590Z"
   },
   {
    "duration": 331,
    "start_time": "2022-03-21T06:51:45.879Z"
   },
   {
    "duration": 254,
    "start_time": "2022-03-21T06:54:32.693Z"
   },
   {
    "duration": 389,
    "start_time": "2022-03-21T06:55:57.345Z"
   },
   {
    "duration": 319,
    "start_time": "2022-03-21T06:56:12.104Z"
   },
   {
    "duration": 328,
    "start_time": "2022-03-21T06:56:19.006Z"
   },
   {
    "duration": 253,
    "start_time": "2022-03-21T06:59:57.488Z"
   },
   {
    "duration": 73,
    "start_time": "2022-03-21T06:59:57.743Z"
   },
   {
    "duration": 154,
    "start_time": "2022-03-21T06:59:57.820Z"
   },
   {
    "duration": 37,
    "start_time": "2022-03-21T06:59:57.979Z"
   },
   {
    "duration": 233,
    "start_time": "2022-03-21T06:59:58.018Z"
   },
   {
    "duration": 124,
    "start_time": "2022-03-21T06:59:58.254Z"
   },
   {
    "duration": 302,
    "start_time": "2022-03-21T06:59:58.382Z"
   },
   {
    "duration": 39,
    "start_time": "2022-03-21T06:59:58.687Z"
   },
   {
    "duration": 62,
    "start_time": "2022-03-21T06:59:58.728Z"
   },
   {
    "duration": 76,
    "start_time": "2022-03-21T06:59:58.795Z"
   },
   {
    "duration": 9,
    "start_time": "2022-03-21T06:59:58.873Z"
   },
   {
    "duration": 32,
    "start_time": "2022-03-21T06:59:58.884Z"
   },
   {
    "duration": 85,
    "start_time": "2022-03-21T06:59:58.919Z"
   },
   {
    "duration": 30,
    "start_time": "2022-03-21T06:59:59.006Z"
   },
   {
    "duration": 44,
    "start_time": "2022-03-21T06:59:59.038Z"
   },
   {
    "duration": 50,
    "start_time": "2022-03-21T06:59:59.084Z"
   },
   {
    "duration": 5,
    "start_time": "2022-03-21T06:59:59.136Z"
   },
   {
    "duration": 85,
    "start_time": "2022-03-21T06:59:59.144Z"
   },
   {
    "duration": 38,
    "start_time": "2022-03-21T06:59:59.231Z"
   },
   {
    "duration": 11,
    "start_time": "2022-03-21T06:59:59.271Z"
   },
   {
    "duration": 214,
    "start_time": "2022-03-21T06:59:59.284Z"
   },
   {
    "duration": 41,
    "start_time": "2022-03-21T06:59:59.501Z"
   },
   {
    "duration": 541,
    "start_time": "2022-03-21T07:00:10.555Z"
   },
   {
    "duration": 371,
    "start_time": "2022-03-21T07:00:23.963Z"
   },
   {
    "duration": 365,
    "start_time": "2022-03-21T07:00:48.176Z"
   },
   {
    "duration": 517,
    "start_time": "2022-03-21T07:01:16.211Z"
   },
   {
    "duration": 342,
    "start_time": "2022-03-21T07:02:16.670Z"
   },
   {
    "duration": 621,
    "start_time": "2022-03-21T07:02:32.665Z"
   },
   {
    "duration": 605,
    "start_time": "2022-03-21T07:02:44.517Z"
   },
   {
    "duration": 358,
    "start_time": "2022-03-21T07:02:52.085Z"
   },
   {
    "duration": 290,
    "start_time": "2022-03-21T07:04:08.525Z"
   },
   {
    "duration": 357,
    "start_time": "2022-03-21T07:04:16.148Z"
   },
   {
    "duration": 118,
    "start_time": "2022-03-21T07:04:26.630Z"
   },
   {
    "duration": 352,
    "start_time": "2022-03-21T07:04:30.237Z"
   },
   {
    "duration": 353,
    "start_time": "2022-03-21T07:04:47.333Z"
   },
   {
    "duration": 349,
    "start_time": "2022-03-21T07:04:56.628Z"
   },
   {
    "duration": 388,
    "start_time": "2022-03-21T07:06:24.129Z"
   },
   {
    "duration": 355,
    "start_time": "2022-03-21T07:07:15.596Z"
   },
   {
    "duration": 494,
    "start_time": "2022-03-21T07:09:16.814Z"
   },
   {
    "duration": 402,
    "start_time": "2022-03-21T07:09:44.980Z"
   },
   {
    "duration": 461,
    "start_time": "2022-03-21T07:11:17.575Z"
   },
   {
    "duration": 368,
    "start_time": "2022-03-21T07:11:56.065Z"
   },
   {
    "duration": 481,
    "start_time": "2022-03-21T07:12:02.733Z"
   },
   {
    "duration": 456,
    "start_time": "2022-03-21T07:12:11.387Z"
   },
   {
    "duration": 43,
    "start_time": "2022-03-21T07:19:30.130Z"
   },
   {
    "duration": 37,
    "start_time": "2022-03-21T07:21:28.803Z"
   },
   {
    "duration": 38,
    "start_time": "2022-03-21T07:22:37.451Z"
   },
   {
    "duration": 382,
    "start_time": "2022-03-21T07:23:33.786Z"
   },
   {
    "duration": 249,
    "start_time": "2022-03-21T07:24:08.383Z"
   },
   {
    "duration": 307,
    "start_time": "2022-03-21T07:24:40.209Z"
   },
   {
    "duration": 66,
    "start_time": "2022-03-21T07:25:27.751Z"
   },
   {
    "duration": 1617,
    "start_time": "2022-03-21T07:28:19.177Z"
   },
   {
    "duration": 50,
    "start_time": "2022-03-21T07:28:20.797Z"
   },
   {
    "duration": 152,
    "start_time": "2022-03-21T07:28:20.850Z"
   },
   {
    "duration": 32,
    "start_time": "2022-03-21T07:28:21.004Z"
   },
   {
    "duration": 236,
    "start_time": "2022-03-21T07:28:21.040Z"
   },
   {
    "duration": 129,
    "start_time": "2022-03-21T07:28:21.278Z"
   },
   {
    "duration": 292,
    "start_time": "2022-03-21T07:28:21.409Z"
   },
   {
    "duration": 41,
    "start_time": "2022-03-21T07:28:21.704Z"
   },
   {
    "duration": 48,
    "start_time": "2022-03-21T07:28:21.747Z"
   },
   {
    "duration": 90,
    "start_time": "2022-03-21T07:28:21.797Z"
   },
   {
    "duration": 9,
    "start_time": "2022-03-21T07:28:21.890Z"
   },
   {
    "duration": 14,
    "start_time": "2022-03-21T07:28:21.902Z"
   },
   {
    "duration": 84,
    "start_time": "2022-03-21T07:28:21.918Z"
   },
   {
    "duration": 35,
    "start_time": "2022-03-21T07:28:22.006Z"
   },
   {
    "duration": 52,
    "start_time": "2022-03-21T07:28:22.043Z"
   },
   {
    "duration": 36,
    "start_time": "2022-03-21T07:28:22.097Z"
   },
   {
    "duration": 4,
    "start_time": "2022-03-21T07:28:22.135Z"
   },
   {
    "duration": 42,
    "start_time": "2022-03-21T07:28:22.168Z"
   },
   {
    "duration": 67,
    "start_time": "2022-03-21T07:28:22.212Z"
   },
   {
    "duration": 6,
    "start_time": "2022-03-21T07:28:22.282Z"
   },
   {
    "duration": 219,
    "start_time": "2022-03-21T07:28:22.290Z"
   },
   {
    "duration": 63,
    "start_time": "2022-03-21T07:28:22.512Z"
   },
   {
    "duration": 593,
    "start_time": "2022-03-21T07:28:22.577Z"
   },
   {
    "duration": 54,
    "start_time": "2022-03-21T07:28:23.173Z"
   },
   {
    "duration": 549,
    "start_time": "2022-03-21T07:28:23.230Z"
   },
   {
    "duration": 51,
    "start_time": "2022-03-21T07:28:23.781Z"
   },
   {
    "duration": 463,
    "start_time": "2022-03-21T07:28:23.834Z"
   },
   {
    "duration": 73,
    "start_time": "2022-03-21T07:28:24.300Z"
   },
   {
    "duration": 288,
    "start_time": "2022-03-21T07:28:24.376Z"
   },
   {
    "duration": 54,
    "start_time": "2022-03-21T07:28:24.668Z"
   },
   {
    "duration": 237,
    "start_time": "2022-03-21T07:28:24.725Z"
   },
   {
    "duration": 47,
    "start_time": "2022-03-21T07:28:24.969Z"
   },
   {
    "duration": 12,
    "start_time": "2022-03-21T07:28:25.019Z"
   },
   {
    "duration": 42,
    "start_time": "2022-03-21T07:28:25.034Z"
   },
   {
    "duration": 10,
    "start_time": "2022-03-21T07:28:25.079Z"
   },
   {
    "duration": 9,
    "start_time": "2022-03-21T07:28:25.092Z"
   },
   {
    "duration": 1641,
    "start_time": "2022-03-21T07:35:52.358Z"
   },
   {
    "duration": 48,
    "start_time": "2022-03-21T07:35:54.002Z"
   },
   {
    "duration": 150,
    "start_time": "2022-03-21T07:35:54.053Z"
   },
   {
    "duration": 31,
    "start_time": "2022-03-21T07:35:54.208Z"
   },
   {
    "duration": 226,
    "start_time": "2022-03-21T07:35:54.241Z"
   },
   {
    "duration": 125,
    "start_time": "2022-03-21T07:35:54.470Z"
   },
   {
    "duration": 473,
    "start_time": "2022-03-21T07:35:54.598Z"
   },
   {
    "duration": 42,
    "start_time": "2022-03-21T07:35:55.074Z"
   },
   {
    "duration": 62,
    "start_time": "2022-03-21T07:35:55.119Z"
   },
   {
    "duration": 83,
    "start_time": "2022-03-21T07:35:55.187Z"
   },
   {
    "duration": 8,
    "start_time": "2022-03-21T07:35:55.272Z"
   },
   {
    "duration": 15,
    "start_time": "2022-03-21T07:35:55.282Z"
   },
   {
    "duration": 77,
    "start_time": "2022-03-21T07:35:55.300Z"
   },
   {
    "duration": 34,
    "start_time": "2022-03-21T07:35:55.379Z"
   },
   {
    "duration": 30,
    "start_time": "2022-03-21T07:35:55.415Z"
   },
   {
    "duration": 36,
    "start_time": "2022-03-21T07:35:55.467Z"
   },
   {
    "duration": 3,
    "start_time": "2022-03-21T07:35:55.506Z"
   },
   {
    "duration": 69,
    "start_time": "2022-03-21T07:35:55.512Z"
   },
   {
    "duration": 29,
    "start_time": "2022-03-21T07:35:55.584Z"
   },
   {
    "duration": 7,
    "start_time": "2022-03-21T07:35:55.615Z"
   },
   {
    "duration": 220,
    "start_time": "2022-03-21T07:35:55.624Z"
   },
   {
    "duration": 388,
    "start_time": "2022-03-21T07:35:55.846Z"
   },
   {
    "duration": 54,
    "start_time": "2022-03-21T07:35:56.236Z"
   },
   {
    "duration": 379,
    "start_time": "2022-03-21T07:35:56.292Z"
   },
   {
    "duration": 42,
    "start_time": "2022-03-21T07:35:56.674Z"
   },
   {
    "duration": 315,
    "start_time": "2022-03-21T07:35:56.718Z"
   },
   {
    "duration": 54,
    "start_time": "2022-03-21T07:35:57.035Z"
   },
   {
    "duration": 267,
    "start_time": "2022-03-21T07:35:57.093Z"
   },
   {
    "duration": 48,
    "start_time": "2022-03-21T07:35:57.362Z"
   },
   {
    "duration": 235,
    "start_time": "2022-03-21T07:35:57.412Z"
   },
   {
    "duration": 57,
    "start_time": "2022-03-21T07:35:57.649Z"
   },
   {
    "duration": 13,
    "start_time": "2022-03-21T07:35:57.709Z"
   },
   {
    "duration": 46,
    "start_time": "2022-03-21T07:35:57.724Z"
   },
   {
    "duration": 11,
    "start_time": "2022-03-21T07:35:57.773Z"
   },
   {
    "duration": 10,
    "start_time": "2022-03-21T07:35:57.787Z"
   }
  ],
  "kernelspec": {
   "display_name": "Python 3 (ipykernel)",
   "language": "python",
   "name": "python3"
  },
  "language_info": {
   "codemirror_mode": {
    "name": "ipython",
    "version": 3
   },
   "file_extension": ".py",
   "mimetype": "text/x-python",
   "name": "python",
   "nbconvert_exporter": "python",
   "pygments_lexer": "ipython3",
   "version": "3.9.7"
  },
  "toc": {
   "base_numbering": 1,
   "nav_menu": {
    "height": "295px",
    "width": "295px"
   },
   "number_sections": true,
   "sideBar": true,
   "skip_h1_title": true,
   "title_cell": "Table of Contents",
   "title_sidebar": "Contents",
   "toc_cell": false,
   "toc_position": {},
   "toc_section_display": true,
   "toc_window_display": false
  }
 },
 "nbformat": 4,
 "nbformat_minor": 5
}

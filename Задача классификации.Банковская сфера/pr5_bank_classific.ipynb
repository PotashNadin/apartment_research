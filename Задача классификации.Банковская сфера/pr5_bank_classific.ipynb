{
 "cells": [
  {
   "cell_type": "markdown",
   "metadata": {
    "toc": true
   },
   "source": [
    "<h1>Содержание<span class=\"tocSkip\"></span></h1>\n",
    "<div class=\"toc\"><ul class=\"toc-item\"><li><span><a href=\"#Описание-данных\" data-toc-modified-id=\"Описание-данных-1\"><span class=\"toc-item-num\">1&nbsp;&nbsp;</span>Описание данных</a></span></li><li><span><a href=\"#Подготовка-данных\" data-toc-modified-id=\"Подготовка-данных-2\"><span class=\"toc-item-num\">2&nbsp;&nbsp;</span>Подготовка данных</a></span></li><li><span><a href=\"#Исследование-задачи\" data-toc-modified-id=\"Исследование-задачи-3\"><span class=\"toc-item-num\">3&nbsp;&nbsp;</span>Исследование задачи</a></span><ul class=\"toc-item\"><li><span><a href=\"#Подбор-и-обучение-модели-без-учета-дисбаланса-класса.\" data-toc-modified-id=\"Подбор-и-обучение-модели-без-учета-дисбаланса-класса.-3.1\"><span class=\"toc-item-num\">3.1&nbsp;&nbsp;</span>Подбор и обучение модели без учета дисбаланса класса.</a></span><ul class=\"toc-item\"><li><span><a href=\"#DecisionTree\" data-toc-modified-id=\"DecisionTree-3.1.1\"><span class=\"toc-item-num\">3.1.1&nbsp;&nbsp;</span>DecisionTree</a></span></li><li><span><a href=\"#RandomForest\" data-toc-modified-id=\"RandomForest-3.1.2\"><span class=\"toc-item-num\">3.1.2&nbsp;&nbsp;</span>RandomForest</a></span></li><li><span><a href=\"#LogisticRegression\" data-toc-modified-id=\"LogisticRegression-3.1.3\"><span class=\"toc-item-num\">3.1.3&nbsp;&nbsp;</span>LogisticRegression</a></span></li></ul></li></ul></li><li><span><a href=\"#Борьба-с-дисбалансом\" data-toc-modified-id=\"Борьба-с-дисбалансом-4\"><span class=\"toc-item-num\">4&nbsp;&nbsp;</span>Борьба с дисбалансом</a></span><ul class=\"toc-item\"><li><span><a href=\"#Балансировка-класса-с-помощью-параметра-class_weight\" data-toc-modified-id=\"Балансировка-класса-с-помощью-параметра-class_weight-4.1\"><span class=\"toc-item-num\">4.1&nbsp;&nbsp;</span>Балансировка класса с помощью параметра class_weight</a></span><ul class=\"toc-item\"><li><span><a href=\"#Модель-LogisticRegression\" data-toc-modified-id=\"Модель-LogisticRegression-4.1.1\"><span class=\"toc-item-num\">4.1.1&nbsp;&nbsp;</span>Модель LogisticRegression</a></span></li><li><span><a href=\"#Модель-RandomForest\" data-toc-modified-id=\"Модель-RandomForest-4.1.2\"><span class=\"toc-item-num\">4.1.2&nbsp;&nbsp;</span>Модель RandomForest</a></span></li><li><span><a href=\"#Модель-DecisionTree\" data-toc-modified-id=\"Модель-DecisionTree-4.1.3\"><span class=\"toc-item-num\">4.1.3&nbsp;&nbsp;</span>Модель DecisionTree</a></span></li></ul></li><li><span><a href=\"#Балансировка-класса-с-помощью-метода-upsampling\" data-toc-modified-id=\"Балансировка-класса-с-помощью-метода-upsampling-4.2\"><span class=\"toc-item-num\">4.2&nbsp;&nbsp;</span>Балансировка класса с помощью метода upsampling</a></span><ul class=\"toc-item\"><li><span><a href=\"#Модель-LogisticRegression\" data-toc-modified-id=\"Модель-LogisticRegression-4.2.1\"><span class=\"toc-item-num\">4.2.1&nbsp;&nbsp;</span>Модель LogisticRegression</a></span></li><li><span><a href=\"#Модель-RandomForest\" data-toc-modified-id=\"Модель-RandomForest-4.2.2\"><span class=\"toc-item-num\">4.2.2&nbsp;&nbsp;</span>Модель RandomForest</a></span></li><li><span><a href=\"#Модель-DecisionTree\" data-toc-modified-id=\"Модель-DecisionTree-4.2.3\"><span class=\"toc-item-num\">4.2.3&nbsp;&nbsp;</span>Модель DecisionTree</a></span></li></ul></li><li><span><a href=\"#Балансировка-класса-с-помощью-downsampling\" data-toc-modified-id=\"Балансировка-класса-с-помощью-downsampling-4.3\"><span class=\"toc-item-num\">4.3&nbsp;&nbsp;</span>Балансировка класса с помощью downsampling</a></span><ul class=\"toc-item\"><li><span><a href=\"#Модель-LogisticRegression\" data-toc-modified-id=\"Модель-LogisticRegression-4.3.1\"><span class=\"toc-item-num\">4.3.1&nbsp;&nbsp;</span>Модель LogisticRegression</a></span></li><li><span><a href=\"#Модель-RandomForest\" data-toc-modified-id=\"Модель-RandomForest-4.3.2\"><span class=\"toc-item-num\">4.3.2&nbsp;&nbsp;</span>Модель RandomForest</a></span></li><li><span><a href=\"#Модель-DecisionTree\" data-toc-modified-id=\"Модель-DecisionTree-4.3.3\"><span class=\"toc-item-num\">4.3.3&nbsp;&nbsp;</span>Модель DecisionTree</a></span></li></ul></li></ul></li><li><span><a href=\"#Тестирование-модели\" data-toc-modified-id=\"Тестирование-модели-5\"><span class=\"toc-item-num\">5&nbsp;&nbsp;</span>Тестирование модели</a></span></li><li><span><a href=\"#Вывод\" data-toc-modified-id=\"Вывод-6\"><span class=\"toc-item-num\">6&nbsp;&nbsp;</span>Вывод</a></span></li><li><span><a href=\"#Чек-лист-готовности-проекта\" data-toc-modified-id=\"Чек-лист-готовности-проекта-7\"><span class=\"toc-item-num\">7&nbsp;&nbsp;</span>Чек-лист готовности проекта</a></span></li></ul></div>"
   ]
  },
  {
   "cell_type": "markdown",
   "metadata": {},
   "source": [
    "# Отток клиентов"
   ]
  },
  {
   "cell_type": "markdown",
   "metadata": {},
   "source": [
    "## Подготовка данных"
   ]
  },
  {
   "cell_type": "code",
   "execution_count": 1,
   "metadata": {},
   "outputs": [],
   "source": [
    "import pandas as pd\n",
    "import seaborn as sns\n",
    "import matplotlib.pyplot as plt\n",
    "from sklearn.model_selection import train_test_split\n",
    "from sklearn.ensemble import RandomForestClassifier\n",
    "from sklearn.tree import DecisionTreeClassifier\n",
    "from sklearn.linear_model import LogisticRegression\n",
    "from sklearn.metrics import f1_score, roc_curve, roc_auc_score\n",
    "from sklearn.utils import shuffle"
   ]
  },
  {
   "cell_type": "code",
   "execution_count": 2,
   "metadata": {
    "scrolled": true
   },
   "outputs": [
    {
     "data": {
      "text/html": [
       "<div>\n",
       "<style scoped>\n",
       "    .dataframe tbody tr th:only-of-type {\n",
       "        vertical-align: middle;\n",
       "    }\n",
       "\n",
       "    .dataframe tbody tr th {\n",
       "        vertical-align: top;\n",
       "    }\n",
       "\n",
       "    .dataframe thead th {\n",
       "        text-align: right;\n",
       "    }\n",
       "</style>\n",
       "<table border=\"1\" class=\"dataframe\">\n",
       "  <thead>\n",
       "    <tr style=\"text-align: right;\">\n",
       "      <th></th>\n",
       "      <th>RowNumber</th>\n",
       "      <th>CustomerId</th>\n",
       "      <th>Surname</th>\n",
       "      <th>CreditScore</th>\n",
       "      <th>Geography</th>\n",
       "      <th>Gender</th>\n",
       "      <th>Age</th>\n",
       "      <th>Tenure</th>\n",
       "      <th>Balance</th>\n",
       "      <th>NumOfProducts</th>\n",
       "      <th>HasCrCard</th>\n",
       "      <th>IsActiveMember</th>\n",
       "      <th>EstimatedSalary</th>\n",
       "      <th>Exited</th>\n",
       "    </tr>\n",
       "  </thead>\n",
       "  <tbody>\n",
       "    <tr>\n",
       "      <th>0</th>\n",
       "      <td>1</td>\n",
       "      <td>15634602</td>\n",
       "      <td>Hargrave</td>\n",
       "      <td>619</td>\n",
       "      <td>France</td>\n",
       "      <td>Female</td>\n",
       "      <td>42</td>\n",
       "      <td>2.0</td>\n",
       "      <td>0.00</td>\n",
       "      <td>1</td>\n",
       "      <td>1</td>\n",
       "      <td>1</td>\n",
       "      <td>101348.88</td>\n",
       "      <td>1</td>\n",
       "    </tr>\n",
       "    <tr>\n",
       "      <th>1</th>\n",
       "      <td>2</td>\n",
       "      <td>15647311</td>\n",
       "      <td>Hill</td>\n",
       "      <td>608</td>\n",
       "      <td>Spain</td>\n",
       "      <td>Female</td>\n",
       "      <td>41</td>\n",
       "      <td>1.0</td>\n",
       "      <td>83807.86</td>\n",
       "      <td>1</td>\n",
       "      <td>0</td>\n",
       "      <td>1</td>\n",
       "      <td>112542.58</td>\n",
       "      <td>0</td>\n",
       "    </tr>\n",
       "    <tr>\n",
       "      <th>2</th>\n",
       "      <td>3</td>\n",
       "      <td>15619304</td>\n",
       "      <td>Onio</td>\n",
       "      <td>502</td>\n",
       "      <td>France</td>\n",
       "      <td>Female</td>\n",
       "      <td>42</td>\n",
       "      <td>8.0</td>\n",
       "      <td>159660.80</td>\n",
       "      <td>3</td>\n",
       "      <td>1</td>\n",
       "      <td>0</td>\n",
       "      <td>113931.57</td>\n",
       "      <td>1</td>\n",
       "    </tr>\n",
       "    <tr>\n",
       "      <th>3</th>\n",
       "      <td>4</td>\n",
       "      <td>15701354</td>\n",
       "      <td>Boni</td>\n",
       "      <td>699</td>\n",
       "      <td>France</td>\n",
       "      <td>Female</td>\n",
       "      <td>39</td>\n",
       "      <td>1.0</td>\n",
       "      <td>0.00</td>\n",
       "      <td>2</td>\n",
       "      <td>0</td>\n",
       "      <td>0</td>\n",
       "      <td>93826.63</td>\n",
       "      <td>0</td>\n",
       "    </tr>\n",
       "    <tr>\n",
       "      <th>4</th>\n",
       "      <td>5</td>\n",
       "      <td>15737888</td>\n",
       "      <td>Mitchell</td>\n",
       "      <td>850</td>\n",
       "      <td>Spain</td>\n",
       "      <td>Female</td>\n",
       "      <td>43</td>\n",
       "      <td>2.0</td>\n",
       "      <td>125510.82</td>\n",
       "      <td>1</td>\n",
       "      <td>1</td>\n",
       "      <td>1</td>\n",
       "      <td>79084.10</td>\n",
       "      <td>0</td>\n",
       "    </tr>\n",
       "    <tr>\n",
       "      <th>5</th>\n",
       "      <td>6</td>\n",
       "      <td>15574012</td>\n",
       "      <td>Chu</td>\n",
       "      <td>645</td>\n",
       "      <td>Spain</td>\n",
       "      <td>Male</td>\n",
       "      <td>44</td>\n",
       "      <td>8.0</td>\n",
       "      <td>113755.78</td>\n",
       "      <td>2</td>\n",
       "      <td>1</td>\n",
       "      <td>0</td>\n",
       "      <td>149756.71</td>\n",
       "      <td>1</td>\n",
       "    </tr>\n",
       "    <tr>\n",
       "      <th>6</th>\n",
       "      <td>7</td>\n",
       "      <td>15592531</td>\n",
       "      <td>Bartlett</td>\n",
       "      <td>822</td>\n",
       "      <td>France</td>\n",
       "      <td>Male</td>\n",
       "      <td>50</td>\n",
       "      <td>7.0</td>\n",
       "      <td>0.00</td>\n",
       "      <td>2</td>\n",
       "      <td>1</td>\n",
       "      <td>1</td>\n",
       "      <td>10062.80</td>\n",
       "      <td>0</td>\n",
       "    </tr>\n",
       "    <tr>\n",
       "      <th>7</th>\n",
       "      <td>8</td>\n",
       "      <td>15656148</td>\n",
       "      <td>Obinna</td>\n",
       "      <td>376</td>\n",
       "      <td>Germany</td>\n",
       "      <td>Female</td>\n",
       "      <td>29</td>\n",
       "      <td>4.0</td>\n",
       "      <td>115046.74</td>\n",
       "      <td>4</td>\n",
       "      <td>1</td>\n",
       "      <td>0</td>\n",
       "      <td>119346.88</td>\n",
       "      <td>1</td>\n",
       "    </tr>\n",
       "    <tr>\n",
       "      <th>8</th>\n",
       "      <td>9</td>\n",
       "      <td>15792365</td>\n",
       "      <td>He</td>\n",
       "      <td>501</td>\n",
       "      <td>France</td>\n",
       "      <td>Male</td>\n",
       "      <td>44</td>\n",
       "      <td>4.0</td>\n",
       "      <td>142051.07</td>\n",
       "      <td>2</td>\n",
       "      <td>0</td>\n",
       "      <td>1</td>\n",
       "      <td>74940.50</td>\n",
       "      <td>0</td>\n",
       "    </tr>\n",
       "    <tr>\n",
       "      <th>9</th>\n",
       "      <td>10</td>\n",
       "      <td>15592389</td>\n",
       "      <td>H?</td>\n",
       "      <td>684</td>\n",
       "      <td>France</td>\n",
       "      <td>Male</td>\n",
       "      <td>27</td>\n",
       "      <td>2.0</td>\n",
       "      <td>134603.88</td>\n",
       "      <td>1</td>\n",
       "      <td>1</td>\n",
       "      <td>1</td>\n",
       "      <td>71725.73</td>\n",
       "      <td>0</td>\n",
       "    </tr>\n",
       "  </tbody>\n",
       "</table>\n",
       "</div>"
      ],
      "text/plain": [
       "   RowNumber  CustomerId   Surname  CreditScore Geography  Gender  Age  \\\n",
       "0          1    15634602  Hargrave          619    France  Female   42   \n",
       "1          2    15647311      Hill          608     Spain  Female   41   \n",
       "2          3    15619304      Onio          502    France  Female   42   \n",
       "3          4    15701354      Boni          699    France  Female   39   \n",
       "4          5    15737888  Mitchell          850     Spain  Female   43   \n",
       "5          6    15574012       Chu          645     Spain    Male   44   \n",
       "6          7    15592531  Bartlett          822    France    Male   50   \n",
       "7          8    15656148    Obinna          376   Germany  Female   29   \n",
       "8          9    15792365        He          501    France    Male   44   \n",
       "9         10    15592389        H?          684    France    Male   27   \n",
       "\n",
       "   Tenure    Balance  NumOfProducts  HasCrCard  IsActiveMember  \\\n",
       "0     2.0       0.00              1          1               1   \n",
       "1     1.0   83807.86              1          0               1   \n",
       "2     8.0  159660.80              3          1               0   \n",
       "3     1.0       0.00              2          0               0   \n",
       "4     2.0  125510.82              1          1               1   \n",
       "5     8.0  113755.78              2          1               0   \n",
       "6     7.0       0.00              2          1               1   \n",
       "7     4.0  115046.74              4          1               0   \n",
       "8     4.0  142051.07              2          0               1   \n",
       "9     2.0  134603.88              1          1               1   \n",
       "\n",
       "   EstimatedSalary  Exited  \n",
       "0        101348.88       1  \n",
       "1        112542.58       0  \n",
       "2        113931.57       1  \n",
       "3         93826.63       0  \n",
       "4         79084.10       0  \n",
       "5        149756.71       1  \n",
       "6         10062.80       0  \n",
       "7        119346.88       1  \n",
       "8         74940.50       0  \n",
       "9         71725.73       0  "
      ]
     },
     "execution_count": 2,
     "metadata": {},
     "output_type": "execute_result"
    }
   ],
   "source": [
    "df = pd.read_csv('/datasets/Churn.csv')\n",
    "df.head(10)"
   ]
  },
  {
   "cell_type": "code",
   "execution_count": 3,
   "metadata": {
    "scrolled": false
   },
   "outputs": [
    {
     "name": "stdout",
     "output_type": "stream",
     "text": [
      "<class 'pandas.core.frame.DataFrame'>\n",
      "RangeIndex: 10000 entries, 0 to 9999\n",
      "Data columns (total 14 columns):\n",
      " #   Column           Non-Null Count  Dtype  \n",
      "---  ------           --------------  -----  \n",
      " 0   RowNumber        10000 non-null  int64  \n",
      " 1   CustomerId       10000 non-null  int64  \n",
      " 2   Surname          10000 non-null  object \n",
      " 3   CreditScore      10000 non-null  int64  \n",
      " 4   Geography        10000 non-null  object \n",
      " 5   Gender           10000 non-null  object \n",
      " 6   Age              10000 non-null  int64  \n",
      " 7   Tenure           9091 non-null   float64\n",
      " 8   Balance          10000 non-null  float64\n",
      " 9   NumOfProducts    10000 non-null  int64  \n",
      " 10  HasCrCard        10000 non-null  int64  \n",
      " 11  IsActiveMember   10000 non-null  int64  \n",
      " 12  EstimatedSalary  10000 non-null  float64\n",
      " 13  Exited           10000 non-null  int64  \n",
      "dtypes: float64(3), int64(8), object(3)\n",
      "memory usage: 1.1+ MB\n"
     ]
    }
   ],
   "source": [
    "df.info()"
   ]
  },
  {
   "cell_type": "markdown",
   "metadata": {},
   "source": [
    "При просмотре данных по датасету видим,  что есть столбец RowNumber, дублирующий индексы - его нужно будет удалить.\n",
    "\n",
    "Далее, для красоты и удобства использования, необходимо перевести имена столбцов в змеиный регистр.\n",
    "\n",
    "И конечно, проверить что за пустоты в столбце Tenure.А так же убедиться что нет дубликатов. "
   ]
  },
  {
   "cell_type": "code",
   "execution_count": 4,
   "metadata": {},
   "outputs": [
    {
     "name": "stdout",
     "output_type": "stream",
     "text": [
      "<class 'pandas.core.frame.DataFrame'>\n",
      "RangeIndex: 10000 entries, 0 to 9999\n",
      "Data columns (total 13 columns):\n",
      " #   Column            Non-Null Count  Dtype  \n",
      "---  ------            --------------  -----  \n",
      " 0   customer_id       10000 non-null  int64  \n",
      " 1   surname           10000 non-null  object \n",
      " 2   credit_score      10000 non-null  int64  \n",
      " 3   geography         10000 non-null  object \n",
      " 4   gender            10000 non-null  object \n",
      " 5   age               10000 non-null  int64  \n",
      " 6   tenure            9091 non-null   float64\n",
      " 7   balance           10000 non-null  float64\n",
      " 8   num_of_products   10000 non-null  int64  \n",
      " 9   has_cr_card       10000 non-null  int64  \n",
      " 10  is_active_member  10000 non-null  int64  \n",
      " 11  estimated_salary  10000 non-null  float64\n",
      " 12  exited            10000 non-null  int64  \n",
      "dtypes: float64(3), int64(7), object(3)\n",
      "memory usage: 1015.8+ KB\n"
     ]
    }
   ],
   "source": [
    "df = df.drop('RowNumber',axis=1)#удаляем дублирующий индексы столбец\n",
    "df.columns = df.columns.str.lower()#переводим наименование столбцов в нижний регистр\n",
    "df.rename(columns = {\n",
    "    'customerid':'customer_id','creditscore':'credit_score',\n",
    "    'numofproducts':'num_of_products','hascrcard':'has_cr_card',\n",
    "    'isactivemember':'is_active_member','estimatedsalary':'estimated_salary'\n",
    "    },inplace=True)# переименование в змеиный регистр\n",
    "df.info()"
   ]
  },
  {
   "cell_type": "code",
   "execution_count": 5,
   "metadata": {},
   "outputs": [
    {
     "data": {
      "text/plain": [
       "0"
      ]
     },
     "execution_count": 5,
     "metadata": {},
     "output_type": "execute_result"
    }
   ],
   "source": [
    "df.duplicated().sum()#проверили на дубликаты"
   ]
  },
  {
   "cell_type": "code",
   "execution_count": 6,
   "metadata": {},
   "outputs": [
    {
     "data": {
      "text/plain": [
       "1.0     952\n",
       "2.0     950\n",
       "8.0     933\n",
       "3.0     928\n",
       "5.0     927\n",
       "7.0     925\n",
       "NaN     909\n",
       "4.0     885\n",
       "9.0     882\n",
       "6.0     881\n",
       "10.0    446\n",
       "0.0     382\n",
       "Name: tenure, dtype: int64"
      ]
     },
     "execution_count": 6,
     "metadata": {},
     "output_type": "execute_result"
    }
   ],
   "source": [
    "df['tenure'].value_counts(dropna=False)"
   ]
  },
  {
   "cell_type": "code",
   "execution_count": 7,
   "metadata": {},
   "outputs": [
    {
     "data": {
      "text/plain": [
       "<AxesSubplot:>"
      ]
     },
     "execution_count": 7,
     "metadata": {},
     "output_type": "execute_result"
    },
    {
     "data": {
      "image/png": "[encoded data removed]",
      "text/plain": [
       "<Figure size 432x288 with 1 Axes>"
      ]
     },
     "metadata": {
      "needs_background": "light"
     },
     "output_type": "display_data"
    }
   ],
   "source": [
    "df['tenure'].hist()"
   ]
  },
  {
   "cell_type": "markdown",
   "metadata": {},
   "source": [
    "Данный показатель \"tenure\" (сколько лет человек является клиентом банка) я считаю достаточно важным для принятия решения \"уйдет клиент или останется\", поэтому пропусков быть в столбце не должно. \n",
    "Заменить медианой или средним мы не можем, так как будут сильные вбросы, а так же нам не ясны причины пропуска.\n"
   ]
  },
  {
   "cell_type": "code",
   "execution_count": 8,
   "metadata": {
    "scrolled": false
   },
   "outputs": [
    {
     "data": {
      "text/html": [
       "<div>\n",
       "<style scoped>\n",
       "    .dataframe tbody tr th:only-of-type {\n",
       "        vertical-align: middle;\n",
       "    }\n",
       "\n",
       "    .dataframe tbody tr th {\n",
       "        vertical-align: top;\n",
       "    }\n",
       "\n",
       "    .dataframe thead th {\n",
       "        text-align: right;\n",
       "    }\n",
       "</style>\n",
       "<table border=\"1\" class=\"dataframe\">\n",
       "  <thead>\n",
       "    <tr style=\"text-align: right;\">\n",
       "      <th></th>\n",
       "      <th>customer_id</th>\n",
       "      <th>surname</th>\n",
       "      <th>credit_score</th>\n",
       "      <th>geography</th>\n",
       "      <th>gender</th>\n",
       "      <th>age</th>\n",
       "      <th>tenure</th>\n",
       "      <th>balance</th>\n",
       "      <th>num_of_products</th>\n",
       "      <th>has_cr_card</th>\n",
       "      <th>is_active_member</th>\n",
       "      <th>estimated_salary</th>\n",
       "      <th>exited</th>\n",
       "    </tr>\n",
       "  </thead>\n",
       "  <tbody>\n",
       "    <tr>\n",
       "      <th>0</th>\n",
       "      <td>15634602</td>\n",
       "      <td>Hargrave</td>\n",
       "      <td>619</td>\n",
       "      <td>France</td>\n",
       "      <td>Female</td>\n",
       "      <td>42</td>\n",
       "      <td>2.0</td>\n",
       "      <td>0.00</td>\n",
       "      <td>1</td>\n",
       "      <td>1</td>\n",
       "      <td>1</td>\n",
       "      <td>101348.88</td>\n",
       "      <td>1</td>\n",
       "    </tr>\n",
       "    <tr>\n",
       "      <th>1</th>\n",
       "      <td>15647311</td>\n",
       "      <td>Hill</td>\n",
       "      <td>608</td>\n",
       "      <td>Spain</td>\n",
       "      <td>Female</td>\n",
       "      <td>41</td>\n",
       "      <td>1.0</td>\n",
       "      <td>83807.86</td>\n",
       "      <td>1</td>\n",
       "      <td>0</td>\n",
       "      <td>1</td>\n",
       "      <td>112542.58</td>\n",
       "      <td>0</td>\n",
       "    </tr>\n",
       "    <tr>\n",
       "      <th>2</th>\n",
       "      <td>15619304</td>\n",
       "      <td>Onio</td>\n",
       "      <td>502</td>\n",
       "      <td>France</td>\n",
       "      <td>Female</td>\n",
       "      <td>42</td>\n",
       "      <td>8.0</td>\n",
       "      <td>159660.80</td>\n",
       "      <td>3</td>\n",
       "      <td>1</td>\n",
       "      <td>0</td>\n",
       "      <td>113931.57</td>\n",
       "      <td>1</td>\n",
       "    </tr>\n",
       "    <tr>\n",
       "      <th>3</th>\n",
       "      <td>15701354</td>\n",
       "      <td>Boni</td>\n",
       "      <td>699</td>\n",
       "      <td>France</td>\n",
       "      <td>Female</td>\n",
       "      <td>39</td>\n",
       "      <td>1.0</td>\n",
       "      <td>0.00</td>\n",
       "      <td>2</td>\n",
       "      <td>0</td>\n",
       "      <td>0</td>\n",
       "      <td>93826.63</td>\n",
       "      <td>0</td>\n",
       "    </tr>\n",
       "    <tr>\n",
       "      <th>4</th>\n",
       "      <td>15737888</td>\n",
       "      <td>Mitchell</td>\n",
       "      <td>850</td>\n",
       "      <td>Spain</td>\n",
       "      <td>Female</td>\n",
       "      <td>43</td>\n",
       "      <td>2.0</td>\n",
       "      <td>125510.82</td>\n",
       "      <td>1</td>\n",
       "      <td>1</td>\n",
       "      <td>1</td>\n",
       "      <td>79084.10</td>\n",
       "      <td>0</td>\n",
       "    </tr>\n",
       "    <tr>\n",
       "      <th>...</th>\n",
       "      <td>...</td>\n",
       "      <td>...</td>\n",
       "      <td>...</td>\n",
       "      <td>...</td>\n",
       "      <td>...</td>\n",
       "      <td>...</td>\n",
       "      <td>...</td>\n",
       "      <td>...</td>\n",
       "      <td>...</td>\n",
       "      <td>...</td>\n",
       "      <td>...</td>\n",
       "      <td>...</td>\n",
       "      <td>...</td>\n",
       "    </tr>\n",
       "    <tr>\n",
       "      <th>9994</th>\n",
       "      <td>15719294</td>\n",
       "      <td>Wood</td>\n",
       "      <td>800</td>\n",
       "      <td>France</td>\n",
       "      <td>Female</td>\n",
       "      <td>29</td>\n",
       "      <td>2.0</td>\n",
       "      <td>0.00</td>\n",
       "      <td>2</td>\n",
       "      <td>0</td>\n",
       "      <td>0</td>\n",
       "      <td>167773.55</td>\n",
       "      <td>0</td>\n",
       "    </tr>\n",
       "    <tr>\n",
       "      <th>9995</th>\n",
       "      <td>15606229</td>\n",
       "      <td>Obijiaku</td>\n",
       "      <td>771</td>\n",
       "      <td>France</td>\n",
       "      <td>Male</td>\n",
       "      <td>39</td>\n",
       "      <td>5.0</td>\n",
       "      <td>0.00</td>\n",
       "      <td>2</td>\n",
       "      <td>1</td>\n",
       "      <td>0</td>\n",
       "      <td>96270.64</td>\n",
       "      <td>0</td>\n",
       "    </tr>\n",
       "    <tr>\n",
       "      <th>9996</th>\n",
       "      <td>15569892</td>\n",
       "      <td>Johnstone</td>\n",
       "      <td>516</td>\n",
       "      <td>France</td>\n",
       "      <td>Male</td>\n",
       "      <td>35</td>\n",
       "      <td>10.0</td>\n",
       "      <td>57369.61</td>\n",
       "      <td>1</td>\n",
       "      <td>1</td>\n",
       "      <td>1</td>\n",
       "      <td>101699.77</td>\n",
       "      <td>0</td>\n",
       "    </tr>\n",
       "    <tr>\n",
       "      <th>9997</th>\n",
       "      <td>15584532</td>\n",
       "      <td>Liu</td>\n",
       "      <td>709</td>\n",
       "      <td>France</td>\n",
       "      <td>Female</td>\n",
       "      <td>36</td>\n",
       "      <td>7.0</td>\n",
       "      <td>0.00</td>\n",
       "      <td>1</td>\n",
       "      <td>0</td>\n",
       "      <td>1</td>\n",
       "      <td>42085.58</td>\n",
       "      <td>1</td>\n",
       "    </tr>\n",
       "    <tr>\n",
       "      <th>9998</th>\n",
       "      <td>15682355</td>\n",
       "      <td>Sabbatini</td>\n",
       "      <td>772</td>\n",
       "      <td>Germany</td>\n",
       "      <td>Male</td>\n",
       "      <td>42</td>\n",
       "      <td>3.0</td>\n",
       "      <td>75075.31</td>\n",
       "      <td>2</td>\n",
       "      <td>1</td>\n",
       "      <td>0</td>\n",
       "      <td>92888.52</td>\n",
       "      <td>1</td>\n",
       "    </tr>\n",
       "  </tbody>\n",
       "</table>\n",
       "<p>9091 rows × 13 columns</p>\n",
       "</div>"
      ],
      "text/plain": [
       "      customer_id    surname  credit_score geography  gender  age  tenure  \\\n",
       "0        15634602   Hargrave           619    France  Female   42     2.0   \n",
       "1        15647311       Hill           608     Spain  Female   41     1.0   \n",
       "2        15619304       Onio           502    France  Female   42     8.0   \n",
       "3        15701354       Boni           699    France  Female   39     1.0   \n",
       "4        15737888   Mitchell           850     Spain  Female   43     2.0   \n",
       "...           ...        ...           ...       ...     ...  ...     ...   \n",
       "9994     15719294       Wood           800    France  Female   29     2.0   \n",
       "9995     15606229   Obijiaku           771    France    Male   39     5.0   \n",
       "9996     15569892  Johnstone           516    France    Male   35    10.0   \n",
       "9997     15584532        Liu           709    France  Female   36     7.0   \n",
       "9998     15682355  Sabbatini           772   Germany    Male   42     3.0   \n",
       "\n",
       "        balance  num_of_products  has_cr_card  is_active_member  \\\n",
       "0          0.00                1            1                 1   \n",
       "1      83807.86                1            0                 1   \n",
       "2     159660.80                3            1                 0   \n",
       "3          0.00                2            0                 0   \n",
       "4     125510.82                1            1                 1   \n",
       "...         ...              ...          ...               ...   \n",
       "9994       0.00                2            0                 0   \n",
       "9995       0.00                2            1                 0   \n",
       "9996   57369.61                1            1                 1   \n",
       "9997       0.00                1            0                 1   \n",
       "9998   75075.31                2            1                 0   \n",
       "\n",
       "      estimated_salary  exited  \n",
       "0            101348.88       1  \n",
       "1            112542.58       0  \n",
       "2            113931.57       1  \n",
       "3             93826.63       0  \n",
       "4             79084.10       0  \n",
       "...                ...     ...  \n",
       "9994         167773.55       0  \n",
       "9995          96270.64       0  \n",
       "9996         101699.77       0  \n",
       "9997          42085.58       1  \n",
       "9998          92888.52       1  \n",
       "\n",
       "[9091 rows x 13 columns]"
      ]
     },
     "execution_count": 8,
     "metadata": {},
     "output_type": "execute_result"
    }
   ],
   "source": [
    "df = df.dropna(subset=['tenure'])#удалили пустоты\n",
    "df"
   ]
  },
  {
   "cell_type": "markdown",
   "metadata": {},
   "source": [
    "Данные обработаны и подготовлены к исследованию задачи.\n"
   ]
  },
  {
   "cell_type": "markdown",
   "metadata": {},
   "source": [
    "## Исследование задачи"
   ]
  },
  {
   "cell_type": "markdown",
   "metadata": {},
   "source": [
    "В данных есть столбцы customer_id и surname, которые не относятся к предсказанию модели(не повлияют на результат). Это не категориальные и не численные признаки, поэтому уберем эти данные,  перед тем как поделить датасет на выборки.\n",
    "А так же, изменим категориальные признаки в столбцах geography и gender на численные методом **OHE**."
   ]
  },
  {
   "cell_type": "code",
   "execution_count": 9,
   "metadata": {
    "scrolled": true
   },
   "outputs": [
    {
     "data": {
      "text/html": [
       "<div>\n",
       "<style scoped>\n",
       "    .dataframe tbody tr th:only-of-type {\n",
       "        vertical-align: middle;\n",
       "    }\n",
       "\n",
       "    .dataframe tbody tr th {\n",
       "        vertical-align: top;\n",
       "    }\n",
       "\n",
       "    .dataframe thead th {\n",
       "        text-align: right;\n",
       "    }\n",
       "</style>\n",
       "<table border=\"1\" class=\"dataframe\">\n",
       "  <thead>\n",
       "    <tr style=\"text-align: right;\">\n",
       "      <th></th>\n",
       "      <th>credit_score</th>\n",
       "      <th>age</th>\n",
       "      <th>tenure</th>\n",
       "      <th>balance</th>\n",
       "      <th>num_of_products</th>\n",
       "      <th>has_cr_card</th>\n",
       "      <th>is_active_member</th>\n",
       "      <th>estimated_salary</th>\n",
       "      <th>exited</th>\n",
       "      <th>geography_Germany</th>\n",
       "      <th>geography_Spain</th>\n",
       "      <th>gender_Male</th>\n",
       "    </tr>\n",
       "  </thead>\n",
       "  <tbody>\n",
       "    <tr>\n",
       "      <th>0</th>\n",
       "      <td>619</td>\n",
       "      <td>42</td>\n",
       "      <td>2.0</td>\n",
       "      <td>0.00</td>\n",
       "      <td>1</td>\n",
       "      <td>1</td>\n",
       "      <td>1</td>\n",
       "      <td>101348.88</td>\n",
       "      <td>1</td>\n",
       "      <td>0</td>\n",
       "      <td>0</td>\n",
       "      <td>0</td>\n",
       "    </tr>\n",
       "    <tr>\n",
       "      <th>1</th>\n",
       "      <td>608</td>\n",
       "      <td>41</td>\n",
       "      <td>1.0</td>\n",
       "      <td>83807.86</td>\n",
       "      <td>1</td>\n",
       "      <td>0</td>\n",
       "      <td>1</td>\n",
       "      <td>112542.58</td>\n",
       "      <td>0</td>\n",
       "      <td>0</td>\n",
       "      <td>1</td>\n",
       "      <td>0</td>\n",
       "    </tr>\n",
       "    <tr>\n",
       "      <th>2</th>\n",
       "      <td>502</td>\n",
       "      <td>42</td>\n",
       "      <td>8.0</td>\n",
       "      <td>159660.80</td>\n",
       "      <td>3</td>\n",
       "      <td>1</td>\n",
       "      <td>0</td>\n",
       "      <td>113931.57</td>\n",
       "      <td>1</td>\n",
       "      <td>0</td>\n",
       "      <td>0</td>\n",
       "      <td>0</td>\n",
       "    </tr>\n",
       "    <tr>\n",
       "      <th>3</th>\n",
       "      <td>699</td>\n",
       "      <td>39</td>\n",
       "      <td>1.0</td>\n",
       "      <td>0.00</td>\n",
       "      <td>2</td>\n",
       "      <td>0</td>\n",
       "      <td>0</td>\n",
       "      <td>93826.63</td>\n",
       "      <td>0</td>\n",
       "      <td>0</td>\n",
       "      <td>0</td>\n",
       "      <td>0</td>\n",
       "    </tr>\n",
       "    <tr>\n",
       "      <th>4</th>\n",
       "      <td>850</td>\n",
       "      <td>43</td>\n",
       "      <td>2.0</td>\n",
       "      <td>125510.82</td>\n",
       "      <td>1</td>\n",
       "      <td>1</td>\n",
       "      <td>1</td>\n",
       "      <td>79084.10</td>\n",
       "      <td>0</td>\n",
       "      <td>0</td>\n",
       "      <td>1</td>\n",
       "      <td>0</td>\n",
       "    </tr>\n",
       "  </tbody>\n",
       "</table>\n",
       "</div>"
      ],
      "text/plain": [
       "   credit_score  age  tenure    balance  num_of_products  has_cr_card  \\\n",
       "0           619   42     2.0       0.00                1            1   \n",
       "1           608   41     1.0   83807.86                1            0   \n",
       "2           502   42     8.0  159660.80                3            1   \n",
       "3           699   39     1.0       0.00                2            0   \n",
       "4           850   43     2.0  125510.82                1            1   \n",
       "\n",
       "   is_active_member  estimated_salary  exited  geography_Germany  \\\n",
       "0                 1         101348.88       1                  0   \n",
       "1                 1         112542.58       0                  0   \n",
       "2                 0         113931.57       1                  0   \n",
       "3                 0          93826.63       0                  0   \n",
       "4                 1          79084.10       0                  0   \n",
       "\n",
       "   geography_Spain  gender_Male  \n",
       "0                0            0  \n",
       "1                1            0  \n",
       "2                0            0  \n",
       "3                0            0  \n",
       "4                1            0  "
      ]
     },
     "execution_count": 9,
     "metadata": {},
     "output_type": "execute_result"
    }
   ],
   "source": [
    "df_ohe = df.drop(['customer_id','surname'],axis=1)\n",
    "df_ohe = pd.get_dummies(df_ohe,drop_first=True)#избегаем дамми-ловушку.\n",
    "df_ohe.head()"
   ]
  },
  {
   "cell_type": "markdown",
   "metadata": {},
   "source": [
    "Теперь все признаки численные, можно приступать к разделению датасета на три выборки - тренировочную, валидационную, тестовую."
   ]
  },
  {
   "cell_type": "code",
   "execution_count": 10,
   "metadata": {},
   "outputs": [
    {
     "name": "stdout",
     "output_type": "stream",
     "text": [
      "(5454, 12)\n",
      "(1818, 12)\n"
     ]
    },
    {
     "data": {
      "text/plain": [
       "(1819, 12)"
      ]
     },
     "execution_count": 10,
     "metadata": {},
     "output_type": "execute_result"
    }
   ],
   "source": [
    "# поделим на две выборки -  обучающую,валидационную и тестовую. в пропорции 60/20/20\n",
    "train, test_and_valid = train_test_split(df_ohe, test_size=0.4, random_state=42)\n",
    "test, valid = train_test_split(test_and_valid, test_size=0.5, random_state=42)\n",
    "print(train.shape)\n",
    "print(test.shape)#проверяем обьем выборок,деление произошло корректно\n",
    "valid.shape"
   ]
  },
  {
   "cell_type": "code",
   "execution_count": 11,
   "metadata": {},
   "outputs": [],
   "source": [
    "# обозначим целевой признак и признаки\n",
    "train_features = train.drop('exited',axis=1)\n",
    "train_target = train['exited']\n",
    "\n",
    "valid_features = valid.drop('exited',axis=1)\n",
    "valid_target = valid['exited']\n",
    "\n",
    "test_features = test.drop('exited',axis=1)\n",
    "test_target = test['exited']\n"
   ]
  },
  {
   "cell_type": "code",
   "execution_count": 12,
   "metadata": {
    "scrolled": false
   },
   "outputs": [
    {
     "data": {
      "text/plain": [
       "0    0.796296\n",
       "1    0.203704\n",
       "Name: exited, dtype: float64"
      ]
     },
     "execution_count": 12,
     "metadata": {},
     "output_type": "execute_result"
    }
   ],
   "source": [
    "train_target.value_counts(normalize=True)#проверяем, отношение 1 и 0 в выборке."
   ]
  },
  {
   "cell_type": "markdown",
   "metadata": {},
   "source": [
    "Видим, что объем класса \"1\" всего 20% от выборки. Наблюдаем дисбаланс классов."
   ]
  },
  {
   "cell_type": "markdown",
   "metadata": {},
   "source": [
    "### Подбор и обучение модели без учета дисбаланса класса."
   ]
  },
  {
   "cell_type": "markdown",
   "metadata": {},
   "source": [
    "При дисбалансе классов, Accuracy не является показательной метрикой. Поэтому будем использовать метрику F1.\n",
    "\n",
    "Рассмотрим наши модели без учета того, что классы не сбалансированы."
   ]
  },
  {
   "cell_type": "markdown",
   "metadata": {},
   "source": [
    "#### DecisionTree"
   ]
  },
  {
   "cell_type": "code",
   "execution_count": 13,
   "metadata": {
    "scrolled": true
   },
   "outputs": [
    {
     "name": "stdout",
     "output_type": "stream",
     "text": [
      "Глубина дерева = 8 Лучшее значение f1 метрики в данной модели: 0.565587734241908\n"
     ]
    }
   ],
   "source": [
    "best_score = 0\n",
    "best_depth = 0\n",
    "for depth in range(1,15):\n",
    "    model_dtc = DecisionTreeClassifier(max_depth = depth, random_state=42).fit(train_features,train_target)\n",
    "    prediction = model_dtc.predict(valid_features)\n",
    "    score = f1_score(valid_target, prediction)\n",
    "    if score > best_score:\n",
    "        best_score = score\n",
    "        best_depth = depth\n",
    "\n",
    "print('Глубина дерева =',best_depth,'Лучшее значение f1 метрики в данной модели:',best_score)"
   ]
  },
  {
   "cell_type": "markdown",
   "metadata": {},
   "source": [
    "#### RandomForest"
   ]
  },
  {
   "cell_type": "code",
   "execution_count": 14,
   "metadata": {},
   "outputs": [
    {
     "name": "stdout",
     "output_type": "stream",
     "text": [
      "f1 метрика наилучшей модели на валидационной выборке: 0.5774647887323944 Количество деревьев: 30 Максимальная глубина: 12\n"
     ]
    }
   ],
   "source": [
    "best_result = 0\n",
    "best_est = 0\n",
    "best_depth = 0\n",
    "for est in range(10, 101, 10):\n",
    "    for depth in range(1, 15):\n",
    "        model_rfc = RandomForestClassifier(random_state=42,n_estimators=est,max_depth=depth)\n",
    "        model_rfc.fit(train_features,train_target)\n",
    "        prediction = model_rfc.predict(valid_features)\n",
    "        score = f1_score(valid_target, prediction)\n",
    "        if score > best_result:\n",
    "            best_result = score\n",
    "            best_est = est\n",
    "            best_depth = depth\n",
    "\n",
    "print(\"f1 метрика наилучшей модели на валидационной выборке:\", best_result, \"Количество деревьев:\", best_est, \"Максимальная глубина:\", best_depth)"
   ]
  },
  {
   "cell_type": "markdown",
   "metadata": {},
   "source": [
    "#### LogisticRegression"
   ]
  },
  {
   "cell_type": "code",
   "execution_count": 15,
   "metadata": {
    "scrolled": true
   },
   "outputs": [
    {
     "data": {
      "text/plain": [
       "0.08933002481389578"
      ]
     },
     "execution_count": 15,
     "metadata": {},
     "output_type": "execute_result"
    }
   ],
   "source": [
    "model_lr = LogisticRegression(solver='liblinear', max_iter=1000, random_state=42)\n",
    "model_lr.fit(train_features,train_target)\n",
    "prediction = model_lr.predict(valid_features)\n",
    "score = f1_score(valid_target, prediction)\n",
    "score"
   ]
  },
  {
   "cell_type": "markdown",
   "metadata": {},
   "source": [
    "Качество всех моделей достаточно низкое. Видим на примере, что очень важно приводить к балансу классы, иначе модели хорошо работать не будут.\n",
    "\n",
    "Хуже всего себя показала модель логистической регрессии.\n",
    "\n",
    "Поработаем с балансом классов."
   ]
  },
  {
   "cell_type": "markdown",
   "metadata": {},
   "source": [
    "## Борьба с дисбалансом"
   ]
  },
  {
   "cell_type": "markdown",
   "metadata": {},
   "source": [
    "Для анализа метрики f1 и понимания картины в целом, мы воспользуемся дополнительной метрикой ROC-AUC.\n",
    "Построим график ROC-кривой и выведем значение измеряемой площади под ROC-кривой - значение ROC-AUC.\n",
    "\n",
    "Напишем функцию, что бы не дублировать код в тетрадке."
   ]
  },
  {
   "cell_type": "code",
   "execution_count": 16,
   "metadata": {},
   "outputs": [],
   "source": [
    "#Функция для построения ROC-кривой и вывода метрики auc_roc\n",
    "def func_auc_roc(model,features,target):\n",
    "    probabilities_valid = model.predict_proba(features)\n",
    "    probabilities_one_valid = probabilities_valid[:, 1]#берем только положительную вероятность\n",
    "    fpr, tpr, thresholds = roc_curve(target,probabilities_one_valid)\n",
    "    plt.figure();\n",
    "    plt.plot(fpr,tpr)\n",
    "    plt.plot([0, 1], [0, 1], linestyle='--')\n",
    "    plt.xlim([0.0, 1.0])\n",
    "    plt.ylim([0.0, 1.0])\n",
    "    plt.xlabel(\"False Positive Rate\")\n",
    "    plt.ylabel(\"True Positive Rate\")\n",
    "    plt.title(\"ROC-кривая\")\n",
    "    plt.show();\n",
    "    auc_roc = roc_auc_score(target,probabilities_one_valid)\n",
    "    return auc_roc"
   ]
  },
  {
   "cell_type": "markdown",
   "metadata": {},
   "source": [
    "### Балансировка класса с помощью параметра class_weight"
   ]
  },
  {
   "cell_type": "markdown",
   "metadata": {},
   "source": [
    "#### Модель LogisticRegression"
   ]
  },
  {
   "cell_type": "code",
   "execution_count": 17,
   "metadata": {},
   "outputs": [
    {
     "data": {
      "text/plain": [
       "0.4681255946717412"
      ]
     },
     "execution_count": 17,
     "metadata": {},
     "output_type": "execute_result"
    }
   ],
   "source": [
    "model_lr = LogisticRegression(\n",
    "    random_state=12345, solver='liblinear',class_weight='balanced',max_iter=1000).fit(train_features,train_target)\n",
    "prediction = model_lr.predict(valid_features)\n",
    "score = f1_score(valid_target, prediction)\n",
    "score"
   ]
  },
  {
   "cell_type": "code",
   "execution_count": 18,
   "metadata": {
    "scrolled": true
   },
   "outputs": [
    {
     "data": {
      "image/png": "[encoded data removed]",
      "text/plain": [
       "<Figure size 432x288 with 1 Axes>"
      ]
     },
     "metadata": {
      "needs_background": "light"
     },
     "output_type": "display_data"
    },
    {
     "data": {
      "text/plain": [
       "0.757745992863562"
      ]
     },
     "execution_count": 18,
     "metadata": {},
     "output_type": "execute_result"
    }
   ],
   "source": [
    "func_auc_roc(model_lr,valid_features,valid_target)"
   ]
  },
  {
   "cell_type": "markdown",
   "metadata": {},
   "source": [
    "Видим все еще очень низкое значение F1 метрики.\n",
    "\n",
    "Однако по сравнению с моделью логистической регрессии без параметра со значением \"balanced\", она значительно улучшила свои результаты: 0.4681 против 0.0893."
   ]
  },
  {
   "cell_type": "markdown",
   "metadata": {},
   "source": [
    "#### Модель RandomForest"
   ]
  },
  {
   "cell_type": "code",
   "execution_count": 19,
   "metadata": {},
   "outputs": [
    {
     "name": "stdout",
     "output_type": "stream",
     "text": [
      "f1 метрика наилучшей модели на валидационной выборке: 0.6211699164345404 Количество деревьев: 20 Максимальная глубина: 10\n"
     ]
    }
   ],
   "source": [
    "best_result = 0\n",
    "best_est = 0\n",
    "best_depth = 0\n",
    "for est in range(10, 101, 10):\n",
    "    for depth in range(1, 15):\n",
    "        model_rfc = RandomForestClassifier(random_state=42,n_estimators=est,max_depth=depth,class_weight='balanced')\n",
    "        model_rfc.fit(train_features,train_target)\n",
    "        prediction = model_rfc.predict(valid_features)\n",
    "        score = f1_score(valid_target, prediction)\n",
    "        if score > best_result:\n",
    "            best_result = score\n",
    "            best_est = est\n",
    "            best_depth = depth\n",
    "\n",
    "print(\"f1 метрика наилучшей модели на валидационной выборке:\", best_result, \"Количество деревьев:\", best_est, \"Максимальная глубина:\", best_depth)"
   ]
  },
  {
   "cell_type": "code",
   "execution_count": 20,
   "metadata": {
    "scrolled": true
   },
   "outputs": [
    {
     "data": {
      "image/png": "[encoded data removed]",
      "text/plain": [
       "<Figure size 432x288 with 1 Axes>"
      ]
     },
     "metadata": {
      "needs_background": "light"
     },
     "output_type": "display_data"
    },
    {
     "data": {
      "text/plain": [
       "0.8509586033513199"
      ]
     },
     "execution_count": 20,
     "metadata": {},
     "output_type": "execute_result"
    }
   ],
   "source": [
    "func_auc_roc(model_rfc,valid_features,valid_target)"
   ]
  },
  {
   "cell_type": "markdown",
   "metadata": {},
   "source": [
    "Отличные результаты у модели RandomForest. После балансировки класса они значительно улучшились и превысили указанный в задании порог в 0,59 на целых 3 процента: 0.6211.\n",
    "\n",
    "Из графика видим, что площадь между кривой ROC и случайной моделью близится к 1: 0.8509. Это достаточно хороший результат. \n",
    "\n",
    "Рассмотрим следующие модели."
   ]
  },
  {
   "cell_type": "markdown",
   "metadata": {},
   "source": [
    "#### Модель DecisionTree"
   ]
  },
  {
   "cell_type": "code",
   "execution_count": 21,
   "metadata": {},
   "outputs": [
    {
     "name": "stdout",
     "output_type": "stream",
     "text": [
      "Глубина дерева = 8 Лучшее значение f1 метрики в данной модели: 0.59837019790454\n"
     ]
    }
   ],
   "source": [
    "best_score = 0\n",
    "best_depth = 0\n",
    "for depth in range(1,15):\n",
    "    model_dtc = DecisionTreeClassifier(\n",
    "        max_depth = depth, random_state=42,class_weight='balanced').fit(train_features,train_target)\n",
    "    prediction = model_dtc.predict(valid_features)\n",
    "    score = f1_score(valid_target, prediction)\n",
    "    if score > best_score:\n",
    "        best_score = score\n",
    "        best_depth = depth\n",
    "\n",
    "print('Глубина дерева =',best_depth,'Лучшее значение f1 метрики в данной модели:',best_score)"
   ]
  },
  {
   "cell_type": "code",
   "execution_count": 22,
   "metadata": {},
   "outputs": [
    {
     "data": {
      "image/png": "[encoded data removed]",
      "text/plain": [
       "<Figure size 432x288 with 1 Axes>"
      ]
     },
     "metadata": {
      "needs_background": "light"
     },
     "output_type": "display_data"
    },
    {
     "data": {
      "text/plain": [
       "0.7078866739724781"
      ]
     },
     "execution_count": 22,
     "metadata": {},
     "output_type": "execute_result"
    }
   ],
   "source": [
    "func_auc_roc(model_dtc,valid_features,valid_target)"
   ]
  },
  {
   "cell_type": "markdown",
   "metadata": {},
   "source": [
    "Модель DecisionTree показала тоже хороший результат,после использования параметра со значением \"balanced\" - 0.5983.\n",
    "Видим, что площадь между кривой ROC и случайной моделью равна 0.7078, что на 15 процентов меньше чем у модели RandomForest."
   ]
  },
  {
   "cell_type": "markdown",
   "metadata": {},
   "source": [
    "### Балансировка класса с помощью метода upsampling"
   ]
  },
  {
   "cell_type": "markdown",
   "metadata": {},
   "source": [
    "Напишем функцию, которая с помощью метода upsampling(увеличение выборки) дополнит нашу выборку, тем самым сбалансирует классы \"1\" и \"0\", приблизит их соотношение к равным долям."
   ]
  },
  {
   "cell_type": "code",
   "execution_count": 23,
   "metadata": {},
   "outputs": [],
   "source": [
    "#используем функцию что бы преобразовать наш датасет\n",
    "def upsample(features, target, repeat):\n",
    "    features_zero = features[target == 0]#фильтруем признаки  когда целевой 0\n",
    "    features_one = features[target == 1]#фильтруем признаки  когда целевой 1\n",
    "    target_zero = target[target == 0]#фильтруем целевой признак равный 0\n",
    "    target_one = target[target == 1]#фильтруем целевой признак равный 1\n",
    "\n",
    "    features_upsampled = pd.concat([features_zero] + [features_one] * repeat)#итоговые признаки\n",
    "    target_upsampled = pd.concat([target_zero] + [target_one] * repeat)#итоговый целевой признак\n",
    "    \n",
    "    features_upsampled, target_upsampled = shuffle(\n",
    "        features_upsampled, target_upsampled, random_state=12345)#перемешиваем,что бы данные были не по порядку\n",
    "    \n",
    "    return features_upsampled, target_upsampled\n"
   ]
  },
  {
   "cell_type": "code",
   "execution_count": 24,
   "metadata": {},
   "outputs": [],
   "source": [
    "#умножим на 4 что бы выборка была в соотношении 1:1\n",
    "features_upsampled, target_upsampled = upsample(train_features, train_target, 4)"
   ]
  },
  {
   "cell_type": "code",
   "execution_count": 25,
   "metadata": {
    "scrolled": true
   },
   "outputs": [
    {
     "data": {
      "text/plain": [
       "1    4444\n",
       "0    4343\n",
       "Name: exited, dtype: int64"
      ]
     },
     "execution_count": 25,
     "metadata": {},
     "output_type": "execute_result"
    }
   ],
   "source": [
    "target_upsampled.value_counts()"
   ]
  },
  {
   "cell_type": "markdown",
   "metadata": {},
   "source": [
    "Выровняли соотношение классов, теперь примерно 1:1. \n",
    "\n",
    "Попробуем обучить наши модели с помощью измененной тренировочной выборки."
   ]
  },
  {
   "cell_type": "markdown",
   "metadata": {},
   "source": [
    "#### Модель LogisticRegression"
   ]
  },
  {
   "cell_type": "code",
   "execution_count": 26,
   "metadata": {},
   "outputs": [],
   "source": [
    "#создадим функцию\n",
    "def func_model_lr(features,target):\n",
    "    model_lr = LogisticRegression(\n",
    "    random_state=12345, solver='liblinear',max_iter=1000).fit(features, target)\n",
    "    prediction = model_lr.predict(valid_features)\n",
    "    score = f1_score(valid_target, prediction)\n",
    "    return score"
   ]
  },
  {
   "cell_type": "code",
   "execution_count": 27,
   "metadata": {},
   "outputs": [
    {
     "data": {
      "text/plain": [
       "0.4276841171251109"
      ]
     },
     "execution_count": 27,
     "metadata": {},
     "output_type": "execute_result"
    }
   ],
   "source": [
    "func_model_lr(features_upsampled, target_upsampled)"
   ]
  },
  {
   "cell_type": "code",
   "execution_count": 28,
   "metadata": {
    "scrolled": true
   },
   "outputs": [
    {
     "data": {
      "image/png": "[encoded data removed]",
      "text/plain": [
       "<Figure size 432x288 with 1 Axes>"
      ]
     },
     "metadata": {
      "needs_background": "light"
     },
     "output_type": "display_data"
    },
    {
     "data": {
      "text/plain": [
       "0.757745992863562"
      ]
     },
     "execution_count": 28,
     "metadata": {},
     "output_type": "execute_result"
    }
   ],
   "source": [
    "func_auc_roc(model_lr,valid_features,valid_target)"
   ]
  },
  {
   "cell_type": "markdown",
   "metadata": {},
   "source": [
    "Модель логистической регрессии все так же плоха. Думаю, можно было ее и не рассматривать уже после первого теста - очевидно, она не справляется с данной задачей классификации."
   ]
  },
  {
   "cell_type": "markdown",
   "metadata": {},
   "source": [
    "#### Модель RandomForest"
   ]
  },
  {
   "cell_type": "code",
   "execution_count": 54,
   "metadata": {},
   "outputs": [],
   "source": [
    "#создадим функцию\n",
    "def func_model_rfc(features,target):\n",
    "    best_result = 0\n",
    "    best_est = 0\n",
    "    best_depth = 0\n",
    "    for est in range(10, 41, 10):\n",
    "        for depth in range(1, 15):\n",
    "            model_rfc = RandomForestClassifier(\n",
    "                random_state=42,n_estimators=est,max_depth=depth).fit(features, target)\n",
    "            prediction = model_rfc.predict(valid_features)\n",
    "            score = f1_score(valid_target, prediction)\n",
    "            if score > best_result:\n",
    "                best_result = score\n",
    "                best_est = est\n",
    "                best_depth = depth\n",
    "    return print(\"f1 метрика наилучшей модели на валидационной выборке:\", best_result, \"Количество деревьев:\", best_est, \"Максимальная глубина:\", best_depth)"
   ]
  },
  {
   "cell_type": "code",
   "execution_count": 55,
   "metadata": {},
   "outputs": [
    {
     "name": "stdout",
     "output_type": "stream",
     "text": [
      "f1 метрика наилучшей модели на валидационной выборке: 0.6181318681318682 Количество деревьев: 40 Максимальная глубина: 13\n"
     ]
    }
   ],
   "source": [
    "func_model_rfc(features_upsampled, target_upsampled)"
   ]
  },
  {
   "cell_type": "code",
   "execution_count": 31,
   "metadata": {
    "scrolled": true
   },
   "outputs": [
    {
     "data": {
      "image/png": "[encoded data removed]",
      "text/plain": [
       "<Figure size 432x288 with 1 Axes>"
      ]
     },
     "metadata": {
      "needs_background": "light"
     },
     "output_type": "display_data"
    },
    {
     "data": {
      "text/plain": [
       "0.8509586033513199"
      ]
     },
     "execution_count": 31,
     "metadata": {},
     "output_type": "execute_result"
    }
   ],
   "source": [
    "func_auc_roc(model_rfc,valid_features,valid_target)"
   ]
  },
  {
   "cell_type": "markdown",
   "metadata": {},
   "source": [
    "И снова отличилась модель RandomForest. После балансировки класса с помощью метода увеличения выборки, значение метрики F1 стало еще немного лучше: 0.6219 против 0.6211.\n",
    "\n",
    "А также, показатель площади между кривой ROC и случайной моделью немного улучшился: 0.8515."
   ]
  },
  {
   "cell_type": "markdown",
   "metadata": {},
   "source": [
    "#### Модель DecisionTree"
   ]
  },
  {
   "cell_type": "code",
   "execution_count": 32,
   "metadata": {
    "scrolled": false
   },
   "outputs": [],
   "source": [
    "#создадим функцию\n",
    "def func_model_dtc(features, target):\n",
    "    best_score = 0\n",
    "    best_depth = 0\n",
    "    for depth in range(1,15):\n",
    "        model_dtc = DecisionTreeClassifier(\n",
    "            max_depth = depth, random_state=42).fit(features, target)\n",
    "        prediction = model_dtc.predict(valid_features)\n",
    "        score = f1_score(valid_target, prediction)\n",
    "        if score > best_score:\n",
    "            best_score = score\n",
    "            best_depth = depth\n",
    "    return print('Глубина дерева =',best_depth,'Лучшее значение f1 метрики в данной модели:',best_score)"
   ]
  },
  {
   "cell_type": "code",
   "execution_count": 33,
   "metadata": {},
   "outputs": [
    {
     "name": "stdout",
     "output_type": "stream",
     "text": [
      "Глубина дерева = 8 Лучшее значение f1 метрики в данной модели: 0.59837019790454\n"
     ]
    }
   ],
   "source": [
    "func_model_dtc(features_upsampled, target_upsampled)"
   ]
  },
  {
   "cell_type": "code",
   "execution_count": 34,
   "metadata": {},
   "outputs": [
    {
     "data": {
      "image/png": "[encoded data removed]",
      "text/plain": [
       "<Figure size 432x288 with 1 Axes>"
      ]
     },
     "metadata": {
      "needs_background": "light"
     },
     "output_type": "display_data"
    },
    {
     "data": {
      "text/plain": [
       "0.7078866739724781"
      ]
     },
     "execution_count": 34,
     "metadata": {},
     "output_type": "execute_result"
    }
   ],
   "source": [
    "func_auc_roc(model_dtc,valid_features,valid_target)"
   ]
  },
  {
   "cell_type": "markdown",
   "metadata": {},
   "source": [
    "DecisionTree на удивление не изменилась. Показатели f1 и auc_roc остались такими же.\n",
    "Улучшений в данной модели не наблюдаем."
   ]
  },
  {
   "cell_type": "markdown",
   "metadata": {},
   "source": [
    "### Балансировка класса с помощью downsampling"
   ]
  },
  {
   "cell_type": "markdown",
   "metadata": {},
   "source": [
    "Напишем функцию, которая с помощью метода downsampling(уменьшение выборки) дополнит нашу выборку, тем самым сбалансирует классы \"1\" и \"0\"."
   ]
  },
  {
   "cell_type": "code",
   "execution_count": 35,
   "metadata": {},
   "outputs": [],
   "source": [
    "def downsample(features, target, fraction):\n",
    "    features_zero = features[target == 0]\n",
    "    features_one = features[target == 1]\n",
    "    target_zero = target[target == 0]\n",
    "    target_one = target[target == 1]\n",
    "\n",
    "    features_downsampled = pd.concat(\n",
    "        [features_zero.sample(frac=fraction, random_state=12345)] + [features_one])\n",
    "    target_downsampled = pd.concat(\n",
    "        [target_zero.sample(frac=fraction, random_state=12345)] + [target_one])\n",
    "    \n",
    "    features_downsampled, target_downsampled = shuffle(\n",
    "        features_downsampled, target_downsampled, random_state=12345)\n",
    "    \n",
    "    return features_downsampled, target_downsampled"
   ]
  },
  {
   "cell_type": "code",
   "execution_count": 36,
   "metadata": {},
   "outputs": [],
   "source": [
    "#так как  соотношение наших выборок 80/20, то срежем хотя бы 0.3 для получнеия более менее равномерного отношения\n",
    "features_downsampled, target_downsampled = downsample(train_features, train_target, 0.3)"
   ]
  },
  {
   "cell_type": "code",
   "execution_count": 37,
   "metadata": {
    "scrolled": true
   },
   "outputs": [
    {
     "data": {
      "text/plain": [
       "0    1303\n",
       "1    1111\n",
       "Name: exited, dtype: int64"
      ]
     },
     "execution_count": 37,
     "metadata": {},
     "output_type": "execute_result"
    }
   ],
   "source": [
    "target_downsampled.value_counts()"
   ]
  },
  {
   "cell_type": "markdown",
   "metadata": {},
   "source": [
    "Соотношение получилось не очень равномерным, но лучше чем было. Если еще урезать выборку,то боюсь данных для анализа станет недостаточно.\n",
    "\n",
    "Думаю, что уменьшение выборки целесообразно будет использовать при больших обьемах данных."
   ]
  },
  {
   "cell_type": "markdown",
   "metadata": {},
   "source": [
    "#### Модель LogisticRegression"
   ]
  },
  {
   "cell_type": "code",
   "execution_count": 38,
   "metadata": {},
   "outputs": [
    {
     "data": {
      "text/plain": [
       "0.436028659160696"
      ]
     },
     "execution_count": 38,
     "metadata": {},
     "output_type": "execute_result"
    }
   ],
   "source": [
    "func_model_lr(features_downsampled, target_downsampled)"
   ]
  },
  {
   "cell_type": "code",
   "execution_count": 39,
   "metadata": {
    "scrolled": true
   },
   "outputs": [
    {
     "data": {
      "image/png": "[encoded data removed]",
      "text/plain": [
       "<Figure size 432x288 with 1 Axes>"
      ]
     },
     "metadata": {
      "needs_background": "light"
     },
     "output_type": "display_data"
    },
    {
     "data": {
      "text/plain": [
       "0.757745992863562"
      ]
     },
     "execution_count": 39,
     "metadata": {},
     "output_type": "execute_result"
    }
   ],
   "source": [
    "func_auc_roc(model_lr,valid_features,valid_target)"
   ]
  },
  {
   "cell_type": "markdown",
   "metadata": {},
   "source": [
    "С моделью логистической регрессии все понятно, выше 0.43 по метрике f1 значение видимо не поднимется.\n",
    "\n",
    "Не будем эту модель использовать на тестовой выборке."
   ]
  },
  {
   "cell_type": "markdown",
   "metadata": {},
   "source": [
    "#### Модель RandomForest"
   ]
  },
  {
   "cell_type": "code",
   "execution_count": 40,
   "metadata": {},
   "outputs": [
    {
     "name": "stdout",
     "output_type": "stream",
     "text": [
      "f1 метрика наилучшей модели на валидационной выборке: 0.6058394160583941 Количество деревьев: 90 Максимальная глубина: 9\n"
     ]
    }
   ],
   "source": [
    "func_model_rfc(features_downsampled, target_downsampled)"
   ]
  },
  {
   "cell_type": "code",
   "execution_count": 41,
   "metadata": {
    "scrolled": false
   },
   "outputs": [
    {
     "data": {
      "image/png": "[encoded data removed]",
      "text/plain": [
       "<Figure size 432x288 with 1 Axes>"
      ]
     },
     "metadata": {
      "needs_background": "light"
     },
     "output_type": "display_data"
    },
    {
     "data": {
      "text/plain": [
       "0.8509586033513199"
      ]
     },
     "execution_count": 41,
     "metadata": {},
     "output_type": "execute_result"
    }
   ],
   "source": [
    "func_auc_roc(model_rfc,valid_features,valid_target)"
   ]
  },
  {
   "cell_type": "markdown",
   "metadata": {},
   "source": [
    "При небольшой потере данных(уменьшении выборки), видим что модель RandomForest ухудшила свой показатель метрики F1 на 2%: 0.6058.\n",
    "Однако значение площади все так же хорошо: 0.8509."
   ]
  },
  {
   "cell_type": "markdown",
   "metadata": {},
   "source": [
    "#### Модель DecisionTree"
   ]
  },
  {
   "cell_type": "code",
   "execution_count": 42,
   "metadata": {
    "scrolled": true
   },
   "outputs": [
    {
     "name": "stdout",
     "output_type": "stream",
     "text": [
      "Глубина дерева = 8 Лучшее значение f1 метрики в данной модели: 0.5797752808988764\n"
     ]
    }
   ],
   "source": [
    "func_model_dtc(features_downsampled, target_downsampled)"
   ]
  },
  {
   "cell_type": "code",
   "execution_count": 43,
   "metadata": {},
   "outputs": [
    {
     "data": {
      "image/png": "[encoded data removed]",
      "text/plain": [
       "<Figure size 432x288 with 1 Axes>"
      ]
     },
     "metadata": {
      "needs_background": "light"
     },
     "output_type": "display_data"
    },
    {
     "data": {
      "text/plain": [
       "0.7078866739724781"
      ]
     },
     "execution_count": 43,
     "metadata": {},
     "output_type": "execute_result"
    }
   ],
   "source": [
    "func_auc_roc(model_dtc,valid_features,valid_target)"
   ]
  },
  {
   "cell_type": "markdown",
   "metadata": {},
   "source": [
    "У модели DecisionTree так же наблюдаем динамику ухудшения метрики f1 - 0.5797.\n",
    "\n",
    "Резюмируем получившиеся результаты в таблице."
   ]
  },
  {
   "cell_type": "code",
   "execution_count": 57,
   "metadata": {},
   "outputs": [
    {
     "data": {
      "text/html": [
       "<div>\n",
       "<style scoped>\n",
       "    .dataframe tbody tr th:only-of-type {\n",
       "        vertical-align: middle;\n",
       "    }\n",
       "\n",
       "    .dataframe tbody tr th {\n",
       "        vertical-align: top;\n",
       "    }\n",
       "\n",
       "    .dataframe thead th {\n",
       "        text-align: right;\n",
       "    }\n",
       "</style>\n",
       "<table border=\"1\" class=\"dataframe\">\n",
       "  <thead>\n",
       "    <tr style=\"text-align: right;\">\n",
       "      <th></th>\n",
       "      <th>Модель</th>\n",
       "      <th>Устранение дисбаланса</th>\n",
       "      <th>Гиперпараметры</th>\n",
       "      <th>F1-метрика</th>\n",
       "      <th>ROC-AUC</th>\n",
       "    </tr>\n",
       "  </thead>\n",
       "  <tbody>\n",
       "    <tr>\n",
       "      <th>0</th>\n",
       "      <td>LogisticRegression</td>\n",
       "      <td>параметр class_weight</td>\n",
       "      <td>None</td>\n",
       "      <td>0.4681</td>\n",
       "      <td>0.7577</td>\n",
       "    </tr>\n",
       "    <tr>\n",
       "      <th>1</th>\n",
       "      <td>RandomForest</td>\n",
       "      <td>параметр class_weight</td>\n",
       "      <td>e20d10</td>\n",
       "      <td>0.6211</td>\n",
       "      <td>0.8509</td>\n",
       "    </tr>\n",
       "    <tr>\n",
       "      <th>2</th>\n",
       "      <td>DecisionTree</td>\n",
       "      <td>параметр class_weight</td>\n",
       "      <td>d8</td>\n",
       "      <td>0.5983</td>\n",
       "      <td>0.7078</td>\n",
       "    </tr>\n",
       "    <tr>\n",
       "      <th>3</th>\n",
       "      <td>LogisticRegression</td>\n",
       "      <td>метод upsampling</td>\n",
       "      <td>None</td>\n",
       "      <td>0.4276</td>\n",
       "      <td>0.7046</td>\n",
       "    </tr>\n",
       "    <tr>\n",
       "      <th>4</th>\n",
       "      <td>RandomForest</td>\n",
       "      <td>метод upsampling</td>\n",
       "      <td>e40d13</td>\n",
       "      <td>0.6181</td>\n",
       "      <td>0.8515</td>\n",
       "    </tr>\n",
       "    <tr>\n",
       "      <th>5</th>\n",
       "      <td>DecisionTree</td>\n",
       "      <td>метод upsampling</td>\n",
       "      <td>d8</td>\n",
       "      <td>0.5983</td>\n",
       "      <td>0.7032</td>\n",
       "    </tr>\n",
       "    <tr>\n",
       "      <th>6</th>\n",
       "      <td>LogisticRegression</td>\n",
       "      <td>метод downsampling</td>\n",
       "      <td>None</td>\n",
       "      <td>0.4360</td>\n",
       "      <td>0.7577</td>\n",
       "    </tr>\n",
       "    <tr>\n",
       "      <th>7</th>\n",
       "      <td>RandomForest</td>\n",
       "      <td>метод downsampling</td>\n",
       "      <td>e90d9</td>\n",
       "      <td>0.6058</td>\n",
       "      <td>0.8509</td>\n",
       "    </tr>\n",
       "    <tr>\n",
       "      <th>8</th>\n",
       "      <td>DecisionTree</td>\n",
       "      <td>метод downsampling</td>\n",
       "      <td>d6</td>\n",
       "      <td>0.5797</td>\n",
       "      <td>0.7078</td>\n",
       "    </tr>\n",
       "  </tbody>\n",
       "</table>\n",
       "</div>"
      ],
      "text/plain": [
       "               Модель  Устранение дисбаланса Гиперпараметры  F1-метрика  \\\n",
       "0  LogisticRegression  параметр class_weight           None      0.4681   \n",
       "1        RandomForest  параметр class_weight         e20d10      0.6211   \n",
       "2        DecisionTree  параметр class_weight             d8      0.5983   \n",
       "3  LogisticRegression       метод upsampling           None      0.4276   \n",
       "4        RandomForest       метод upsampling         e40d13      0.6181   \n",
       "5        DecisionTree       метод upsampling             d8      0.5983   \n",
       "6  LogisticRegression     метод downsampling           None      0.4360   \n",
       "7        RandomForest     метод downsampling          e90d9      0.6058   \n",
       "8        DecisionTree     метод downsampling             d6      0.5797   \n",
       "\n",
       "   ROC-AUC  \n",
       "0   0.7577  \n",
       "1   0.8509  \n",
       "2   0.7078  \n",
       "3   0.7046  \n",
       "4   0.8515  \n",
       "5   0.7032  \n",
       "6   0.7577  \n",
       "7   0.8509  \n",
       "8   0.7078  "
      ]
     },
     "execution_count": 57,
     "metadata": {},
     "output_type": "execute_result"
    }
   ],
   "source": [
    "#Резюмируем результаты в таблице.\n",
    "table = [['LogisticRegression','параметр class_weight',None,0.4681,0.7577],\n",
    "         ['RandomForest','параметр class_weight','e20d10',0.6211,0.8509],\n",
    "         ['DecisionTree','параметр class_weight','d8',0.5983,0.7078],\n",
    "         ['LogisticRegression','метод upsampling',None,0.4276,0.7046],\n",
    "         ['RandomForest','метод upsampling','e40d13',0.6181,0.8515],\n",
    "         ['DecisionTree','метод upsampling','d8',0.5983,0.7032],\n",
    "         ['LogisticRegression','метод downsampling',None,0.4360,0.7577],\n",
    "         ['RandomForest','метод downsampling','e90d9',0.6058,0.8509],\n",
    "         ['DecisionTree','метод downsampling','d6',0.5797,0.7078]]\n",
    "pd.DataFrame(table, columns=[\"Модель\",\"Устранение дисбаланса\", \"Гиперпараметры\",'F1-метрика','ROC-AUC'])"
   ]
  },
  {
   "cell_type": "markdown",
   "metadata": {},
   "source": [
    "**Резюмируем:**\n",
    "Модель RandomForest\tпоказала лучшие результаты во испытаниях, с разными методами устранения дисбаланса. Значение ROC-AUC так же очень высокое.\n",
    "\n",
    "DecisionTree так же имеет хорошие показатели, которые подходят нам по критериям, указанным в задании. Поэтому мы их так же протестируем на тестовой выборке. Хотя,кажется, что победитель уже найден.\n"
   ]
  },
  {
   "cell_type": "markdown",
   "metadata": {},
   "source": [
    "## Тестирование модели"
   ]
  },
  {
   "cell_type": "markdown",
   "metadata": {},
   "source": [
    "Лучшая модель RandomForest со значениями гиперпараметров: 40 деревьев и 13 глубина деревьев. Дополнительно так же рассмотрим модель DecisionTree с гиперпараметром глубины деревьев 8.\n",
    "\n",
    "Проверим наши модели на тестовой выборке."
   ]
  },
  {
   "cell_type": "code",
   "execution_count": 56,
   "metadata": {},
   "outputs": [
    {
     "data": {
      "text/plain": [
       "0.606896551724138"
      ]
     },
     "execution_count": 56,
     "metadata": {},
     "output_type": "execute_result"
    }
   ],
   "source": [
    "model_rfc_test= RandomForestClassifier(\n",
    "            random_state=42,n_estimators=40,max_depth=13).fit(features_upsampled, target_upsampled)\n",
    "prediction = model_rfc_test.predict(test_features)\n",
    "score = f1_score(test_target, prediction)\n",
    "score"
   ]
  },
  {
   "cell_type": "code",
   "execution_count": 58,
   "metadata": {},
   "outputs": [
    {
     "data": {
      "image/png": "[encoded data removed]",
      "text/plain": [
       "<Figure size 432x288 with 1 Axes>"
      ]
     },
     "metadata": {
      "needs_background": "light"
     },
     "output_type": "display_data"
    },
    {
     "data": {
      "text/plain": [
       "0.8465050950050867"
      ]
     },
     "execution_count": 58,
     "metadata": {},
     "output_type": "execute_result"
    }
   ],
   "source": [
    "func_auc_roc(model_rfc_test,test_features,test_target)"
   ]
  },
  {
   "cell_type": "code",
   "execution_count": 59,
   "metadata": {},
   "outputs": [
    {
     "data": {
      "text/plain": [
       "0.570771001150748"
      ]
     },
     "execution_count": 59,
     "metadata": {},
     "output_type": "execute_result"
    }
   ],
   "source": [
    "model_dtc_test = DecisionTreeClassifier(\n",
    "        max_depth = 8, random_state=42,class_weight='balanced').fit(train_features,train_target)\n",
    "prediction = model_dtc_test.predict(test_features)\n",
    "score = f1_score(test_target, prediction)\n",
    "score"
   ]
  },
  {
   "cell_type": "code",
   "execution_count": 48,
   "metadata": {
    "scrolled": true
   },
   "outputs": [
    {
     "data": {
      "image/png": "[encoded data removed]",
      "text/plain": [
       "<Figure size 432x288 with 1 Axes>"
      ]
     },
     "metadata": {
      "needs_background": "light"
     },
     "output_type": "display_data"
    },
    {
     "data": {
      "text/plain": [
       "0.7818764303731345"
      ]
     },
     "execution_count": 48,
     "metadata": {},
     "output_type": "execute_result"
    }
   ],
   "source": [
    "func_auc_roc(model_dtc_test,test_features,test_target)"
   ]
  },
  {
   "cell_type": "markdown",
   "metadata": {},
   "source": [
    "## Вывод"
   ]
  },
  {
   "cell_type": "markdown",
   "metadata": {},
   "source": [
    "Видим одназначного победителя в нашем проекте. Модель RandomForest со значениями гиперпараметров: 40 деревьев и 13 глубина деревьев оказалась лучшей моделью.\n",
    "При данных параметрах было достигнуто значение F1-метрики на уровне 0.6068. Это на 1% больше заявленного в задании уровня. При этом, значение площади между ROC-кривой и случайной моделью тоже достаточно высокое - 0.8465.\n",
    "\n"
   ]
  },
  {
   "cell_type": "code",
   "execution_count": null,
   "metadata": {},
   "outputs": [],
   "source": []
  }
 ],
 "metadata": {
  "ExecuteTimeLog": [
   {
    "duration": 51,
    "start_time": "2022-04-14T05:19:03.814Z"
   },
   {
    "duration": 402,
    "start_time": "2022-04-14T05:19:07.177Z"
   },
   {
    "duration": 47,
    "start_time": "2022-04-14T05:19:09.202Z"
   },
   {
    "duration": 14,
    "start_time": "2022-04-14T05:20:01.472Z"
   },
   {
    "duration": 45,
    "start_time": "2022-04-14T05:24:26.709Z"
   },
   {
    "duration": 37,
    "start_time": "2022-04-14T05:25:00.920Z"
   },
   {
    "duration": 24,
    "start_time": "2022-04-14T05:29:48.201Z"
   },
   {
    "duration": 39,
    "start_time": "2022-04-14T05:33:42.538Z"
   },
   {
    "duration": 21,
    "start_time": "2022-04-14T05:33:51.129Z"
   },
   {
    "duration": 22,
    "start_time": "2022-04-14T05:34:21.523Z"
   },
   {
    "duration": 30,
    "start_time": "2022-04-14T05:38:36.755Z"
   },
   {
    "duration": 1771,
    "start_time": "2022-04-14T05:42:48.168Z"
   },
   {
    "duration": 1773,
    "start_time": "2022-04-14T05:42:59.191Z"
   },
   {
    "duration": 10,
    "start_time": "2022-04-14T05:43:09.178Z"
   },
   {
    "duration": 21,
    "start_time": "2022-04-14T05:43:26.405Z"
   },
   {
    "duration": 10,
    "start_time": "2022-04-14T05:47:02.419Z"
   },
   {
    "duration": 387,
    "start_time": "2022-04-14T05:48:11.431Z"
   },
   {
    "duration": 9,
    "start_time": "2022-04-14T05:48:40.376Z"
   },
   {
    "duration": 9,
    "start_time": "2022-04-14T05:48:53.948Z"
   },
   {
    "duration": 14,
    "start_time": "2022-04-14T05:50:25.790Z"
   },
   {
    "duration": 223,
    "start_time": "2022-04-14T05:52:40.999Z"
   },
   {
    "duration": 137,
    "start_time": "2022-04-14T05:52:59.690Z"
   },
   {
    "duration": 133,
    "start_time": "2022-04-14T05:53:03.606Z"
   },
   {
    "duration": 124,
    "start_time": "2022-04-14T05:53:09.558Z"
   },
   {
    "duration": 171,
    "start_time": "2022-04-14T05:53:11.904Z"
   },
   {
    "duration": 129,
    "start_time": "2022-04-14T05:53:20.289Z"
   },
   {
    "duration": 412,
    "start_time": "2022-04-14T05:56:56.938Z"
   },
   {
    "duration": 27,
    "start_time": "2022-04-14T05:57:09.482Z"
   },
   {
    "duration": 20,
    "start_time": "2022-04-14T05:57:44.615Z"
   },
   {
    "duration": 3,
    "start_time": "2022-04-14T05:58:28.109Z"
   },
   {
    "duration": 43,
    "start_time": "2022-04-14T05:58:28.114Z"
   },
   {
    "duration": 14,
    "start_time": "2022-04-14T05:58:28.159Z"
   },
   {
    "duration": 18,
    "start_time": "2022-04-14T05:58:28.176Z"
   },
   {
    "duration": 32,
    "start_time": "2022-04-14T05:58:28.195Z"
   },
   {
    "duration": 22,
    "start_time": "2022-04-14T05:58:28.229Z"
   },
   {
    "duration": 12,
    "start_time": "2022-04-14T05:58:28.253Z"
   },
   {
    "duration": 154,
    "start_time": "2022-04-14T05:58:28.267Z"
   },
   {
    "duration": 22,
    "start_time": "2022-04-14T05:59:03.466Z"
   },
   {
    "duration": 8,
    "start_time": "2022-04-14T05:59:29.578Z"
   },
   {
    "duration": 3,
    "start_time": "2022-04-14T06:00:09.277Z"
   },
   {
    "duration": 48,
    "start_time": "2022-04-14T06:00:09.282Z"
   },
   {
    "duration": 13,
    "start_time": "2022-04-14T06:00:09.332Z"
   },
   {
    "duration": 17,
    "start_time": "2022-04-14T06:00:09.348Z"
   },
   {
    "duration": 12,
    "start_time": "2022-04-14T06:00:09.367Z"
   },
   {
    "duration": 57,
    "start_time": "2022-04-14T06:00:09.381Z"
   },
   {
    "duration": 10,
    "start_time": "2022-04-14T06:00:09.439Z"
   },
   {
    "duration": 234,
    "start_time": "2022-04-14T06:00:09.451Z"
   },
   {
    "duration": 17,
    "start_time": "2022-04-14T06:00:11.714Z"
   },
   {
    "duration": 10,
    "start_time": "2022-04-14T06:00:24.938Z"
   },
   {
    "duration": 9,
    "start_time": "2022-04-14T06:00:59.529Z"
   },
   {
    "duration": 142,
    "start_time": "2022-04-14T06:01:48.922Z"
   },
   {
    "duration": 7,
    "start_time": "2022-04-14T06:12:33.642Z"
   },
   {
    "duration": 2,
    "start_time": "2022-04-14T06:13:30.824Z"
   },
   {
    "duration": 47,
    "start_time": "2022-04-14T06:13:30.829Z"
   },
   {
    "duration": 14,
    "start_time": "2022-04-14T06:13:30.878Z"
   },
   {
    "duration": 31,
    "start_time": "2022-04-14T06:13:30.894Z"
   },
   {
    "duration": 33,
    "start_time": "2022-04-14T06:13:30.927Z"
   },
   {
    "duration": 49,
    "start_time": "2022-04-14T06:13:30.961Z"
   },
   {
    "duration": 12,
    "start_time": "2022-04-14T06:13:31.011Z"
   },
   {
    "duration": 156,
    "start_time": "2022-04-14T06:13:31.025Z"
   },
   {
    "duration": 7,
    "start_time": "2022-04-14T06:13:33.180Z"
   },
   {
    "duration": 7,
    "start_time": "2022-04-14T06:13:54.132Z"
   },
   {
    "duration": 8,
    "start_time": "2022-04-14T06:14:01.149Z"
   },
   {
    "duration": 8,
    "start_time": "2022-04-14T06:14:12.768Z"
   },
   {
    "duration": 7,
    "start_time": "2022-04-14T06:14:53.734Z"
   },
   {
    "duration": 4,
    "start_time": "2022-04-14T06:25:21.667Z"
   },
   {
    "duration": 59,
    "start_time": "2022-04-14T06:25:21.673Z"
   },
   {
    "duration": 21,
    "start_time": "2022-04-14T06:25:21.734Z"
   },
   {
    "duration": 25,
    "start_time": "2022-04-14T06:25:21.758Z"
   },
   {
    "duration": 38,
    "start_time": "2022-04-14T06:25:21.785Z"
   },
   {
    "duration": 9,
    "start_time": "2022-04-14T06:25:21.825Z"
   },
   {
    "duration": 171,
    "start_time": "2022-04-14T06:25:21.836Z"
   },
   {
    "duration": 12,
    "start_time": "2022-04-14T06:25:23.666Z"
   },
   {
    "duration": 153,
    "start_time": "2022-04-14T06:25:35.495Z"
   },
   {
    "duration": 26,
    "start_time": "2022-04-14T06:25:39.635Z"
   },
   {
    "duration": 27,
    "start_time": "2022-04-14T06:25:52.341Z"
   },
   {
    "duration": 9,
    "start_time": "2022-04-14T06:29:07.252Z"
   },
   {
    "duration": 595,
    "start_time": "2022-04-14T06:29:29.690Z"
   },
   {
    "duration": 46152,
    "start_time": "2022-04-14T06:29:34.203Z"
   },
   {
    "duration": 36824,
    "start_time": "2022-04-14T06:34:19.261Z"
   },
   {
    "duration": 42,
    "start_time": "2022-04-14T06:40:25.719Z"
   },
   {
    "duration": 3,
    "start_time": "2022-04-14T06:41:00.448Z"
   },
   {
    "duration": 5,
    "start_time": "2022-04-14T06:47:03.483Z"
   },
   {
    "duration": 5,
    "start_time": "2022-04-14T06:48:54.052Z"
   },
   {
    "duration": 15,
    "start_time": "2022-04-14T06:54:26.720Z"
   },
   {
    "duration": 15,
    "start_time": "2022-04-14T06:54:35.811Z"
   },
   {
    "duration": 25,
    "start_time": "2022-04-14T06:54:47.130Z"
   },
   {
    "duration": 19,
    "start_time": "2022-04-14T06:59:12.853Z"
   },
   {
    "duration": 3,
    "start_time": "2022-04-14T07:08:20.948Z"
   },
   {
    "duration": 45,
    "start_time": "2022-04-14T07:08:20.953Z"
   },
   {
    "duration": 14,
    "start_time": "2022-04-14T07:08:21.000Z"
   },
   {
    "duration": 16,
    "start_time": "2022-04-14T07:08:21.016Z"
   },
   {
    "duration": 12,
    "start_time": "2022-04-14T07:08:21.034Z"
   },
   {
    "duration": 6,
    "start_time": "2022-04-14T07:08:21.048Z"
   },
   {
    "duration": 165,
    "start_time": "2022-04-14T07:08:21.055Z"
   },
   {
    "duration": 37,
    "start_time": "2022-04-14T07:08:21.223Z"
   },
   {
    "duration": 34,
    "start_time": "2022-04-14T07:08:23.219Z"
   },
   {
    "duration": 16,
    "start_time": "2022-04-14T07:09:28.817Z"
   },
   {
    "duration": 12,
    "start_time": "2022-04-14T07:09:45.164Z"
   },
   {
    "duration": 400,
    "start_time": "2022-04-14T07:10:48.170Z"
   },
   {
    "duration": 9,
    "start_time": "2022-04-14T07:10:53.933Z"
   },
   {
    "duration": 5,
    "start_time": "2022-04-14T07:11:20.193Z"
   },
   {
    "duration": 6,
    "start_time": "2022-04-14T07:11:27.911Z"
   },
   {
    "duration": 27,
    "start_time": "2022-04-14T07:17:44.285Z"
   },
   {
    "duration": 5,
    "start_time": "2022-04-14T07:17:51.477Z"
   },
   {
    "duration": 42,
    "start_time": "2022-04-14T07:17:51.485Z"
   },
   {
    "duration": 19,
    "start_time": "2022-04-14T07:17:51.529Z"
   },
   {
    "duration": 24,
    "start_time": "2022-04-14T07:17:51.551Z"
   },
   {
    "duration": 45,
    "start_time": "2022-04-14T07:17:51.577Z"
   },
   {
    "duration": 9,
    "start_time": "2022-04-14T07:17:51.625Z"
   },
   {
    "duration": 161,
    "start_time": "2022-04-14T07:17:51.636Z"
   },
   {
    "duration": 34,
    "start_time": "2022-04-14T07:17:51.799Z"
   },
   {
    "duration": 24,
    "start_time": "2022-04-14T07:17:51.834Z"
   },
   {
    "duration": 11,
    "start_time": "2022-04-14T07:17:51.861Z"
   },
   {
    "duration": 45,
    "start_time": "2022-04-14T07:17:51.873Z"
   },
   {
    "duration": 6,
    "start_time": "2022-04-14T07:17:55.861Z"
   },
   {
    "duration": 7,
    "start_time": "2022-04-14T07:19:54.901Z"
   },
   {
    "duration": 17,
    "start_time": "2022-04-14T07:27:42.516Z"
   },
   {
    "duration": 4,
    "start_time": "2022-04-14T07:27:59.478Z"
   },
   {
    "duration": 4,
    "start_time": "2022-04-14T07:28:08.503Z"
   },
   {
    "duration": 64,
    "start_time": "2022-04-14T07:28:08.509Z"
   },
   {
    "duration": 14,
    "start_time": "2022-04-14T07:28:08.575Z"
   },
   {
    "duration": 21,
    "start_time": "2022-04-14T07:28:08.592Z"
   },
   {
    "duration": 15,
    "start_time": "2022-04-14T07:28:08.615Z"
   },
   {
    "duration": 14,
    "start_time": "2022-04-14T07:28:08.634Z"
   },
   {
    "duration": 158,
    "start_time": "2022-04-14T07:28:08.650Z"
   },
   {
    "duration": 40,
    "start_time": "2022-04-14T07:28:08.810Z"
   },
   {
    "duration": 23,
    "start_time": "2022-04-14T07:28:08.852Z"
   },
   {
    "duration": 42,
    "start_time": "2022-04-14T07:28:08.878Z"
   },
   {
    "duration": 11,
    "start_time": "2022-04-14T07:28:08.922Z"
   },
   {
    "duration": 23,
    "start_time": "2022-04-14T07:28:08.935Z"
   },
   {
    "duration": 28,
    "start_time": "2022-04-14T07:29:07.583Z"
   },
   {
    "duration": 18,
    "start_time": "2022-04-14T07:30:46.483Z"
   },
   {
    "duration": 19,
    "start_time": "2022-04-14T07:31:10.386Z"
   },
   {
    "duration": 20,
    "start_time": "2022-04-14T07:32:20.691Z"
   },
   {
    "duration": 5,
    "start_time": "2022-04-14T07:33:17.260Z"
   },
   {
    "duration": 8,
    "start_time": "2022-04-14T07:33:25.722Z"
   },
   {
    "duration": 4,
    "start_time": "2022-04-14T07:34:13.072Z"
   },
   {
    "duration": 49,
    "start_time": "2022-04-14T07:34:13.079Z"
   },
   {
    "duration": 20,
    "start_time": "2022-04-14T07:34:13.130Z"
   },
   {
    "duration": 25,
    "start_time": "2022-04-14T07:34:13.153Z"
   },
   {
    "duration": 43,
    "start_time": "2022-04-14T07:34:13.180Z"
   },
   {
    "duration": 9,
    "start_time": "2022-04-14T07:34:13.226Z"
   },
   {
    "duration": 163,
    "start_time": "2022-04-14T07:34:13.237Z"
   },
   {
    "duration": 40,
    "start_time": "2022-04-14T07:34:13.402Z"
   },
   {
    "duration": 23,
    "start_time": "2022-04-14T07:34:13.444Z"
   },
   {
    "duration": 12,
    "start_time": "2022-04-14T07:34:13.470Z"
   },
   {
    "duration": 34,
    "start_time": "2022-04-14T07:34:13.484Z"
   },
   {
    "duration": 9,
    "start_time": "2022-04-14T07:34:13.521Z"
   },
   {
    "duration": 313,
    "start_time": "2022-04-14T07:34:15.190Z"
   },
   {
    "duration": 314,
    "start_time": "2022-04-14T07:36:54.227Z"
   },
   {
    "duration": 305,
    "start_time": "2022-04-14T07:37:03.368Z"
   },
   {
    "duration": 297,
    "start_time": "2022-04-14T07:38:36.381Z"
   },
   {
    "duration": 42963,
    "start_time": "2022-04-14T07:41:42.235Z"
   },
   {
    "duration": 79,
    "start_time": "2022-04-14T07:43:29.555Z"
   },
   {
    "duration": 93,
    "start_time": "2022-04-14T07:43:40.337Z"
   },
   {
    "duration": 56,
    "start_time": "2022-04-14T07:43:44.566Z"
   },
   {
    "duration": 51,
    "start_time": "2022-04-14T07:43:53.670Z"
   },
   {
    "duration": 33,
    "start_time": "2022-04-14T07:43:58.275Z"
   },
   {
    "duration": 78,
    "start_time": "2022-04-14T07:44:37.243Z"
   },
   {
    "duration": 416,
    "start_time": "2022-04-14T07:45:08.603Z"
   },
   {
    "duration": 176320,
    "start_time": "2022-04-14T07:49:01.744Z"
   },
   {
    "duration": 699,
    "start_time": "2022-04-14T07:52:36.085Z"
   },
   {
    "duration": 54,
    "start_time": "2022-04-14T07:57:15.996Z"
   },
   {
    "duration": 202,
    "start_time": "2022-04-14T07:59:03.791Z"
   },
   {
    "duration": 59,
    "start_time": "2022-04-14T08:00:20.992Z"
   },
   {
    "duration": 215,
    "start_time": "2022-04-14T08:00:26.417Z"
   },
   {
    "duration": 33,
    "start_time": "2022-04-14T08:01:11.493Z"
   },
   {
    "duration": 626,
    "start_time": "2022-04-14T08:02:07.838Z"
   },
   {
    "duration": 119,
    "start_time": "2022-04-14T08:03:23.731Z"
   },
   {
    "duration": 5,
    "start_time": "2022-04-14T08:07:41.804Z"
   },
   {
    "duration": 9,
    "start_time": "2022-04-14T08:16:47.446Z"
   },
   {
    "duration": 5,
    "start_time": "2022-04-14T08:18:28.353Z"
   },
   {
    "duration": 57,
    "start_time": "2022-04-14T08:18:28.360Z"
   },
   {
    "duration": 18,
    "start_time": "2022-04-14T08:18:28.420Z"
   },
   {
    "duration": 23,
    "start_time": "2022-04-14T08:18:28.442Z"
   },
   {
    "duration": 17,
    "start_time": "2022-04-14T08:18:28.467Z"
   },
   {
    "duration": 37,
    "start_time": "2022-04-14T08:18:28.486Z"
   },
   {
    "duration": 157,
    "start_time": "2022-04-14T08:18:28.525Z"
   },
   {
    "duration": 36,
    "start_time": "2022-04-14T08:18:28.684Z"
   },
   {
    "duration": 28,
    "start_time": "2022-04-14T08:18:28.723Z"
   },
   {
    "duration": 14,
    "start_time": "2022-04-14T08:18:28.755Z"
   },
   {
    "duration": 8,
    "start_time": "2022-04-14T08:18:28.771Z"
   },
   {
    "duration": 41,
    "start_time": "2022-04-14T08:18:28.781Z"
   },
   {
    "duration": 308,
    "start_time": "2022-04-14T08:18:28.824Z"
   },
   {
    "duration": 38826,
    "start_time": "2022-04-14T08:18:29.134Z"
   },
   {
    "duration": 158,
    "start_time": "2022-04-14T08:19:07.962Z"
   },
   {
    "duration": 132187,
    "start_time": "2022-04-14T08:19:08.123Z"
   },
   {
    "duration": 602,
    "start_time": "2022-04-14T08:21:20.312Z"
   },
   {
    "duration": 100,
    "start_time": "2022-04-14T08:21:20.919Z"
   },
   {
    "duration": 304,
    "start_time": "2022-04-14T08:21:21.022Z"
   },
   {
    "duration": 29,
    "start_time": "2022-04-14T08:21:21.328Z"
   },
   {
    "duration": 710,
    "start_time": "2022-04-14T08:21:21.359Z"
   },
   {
    "duration": 5,
    "start_time": "2022-04-14T08:22:30.177Z"
   },
   {
    "duration": 11,
    "start_time": "2022-04-14T08:22:32.485Z"
   },
   {
    "duration": 12,
    "start_time": "2022-04-14T08:22:50.619Z"
   },
   {
    "duration": 54,
    "start_time": "2022-04-14T08:22:56.878Z"
   },
   {
    "duration": 269,
    "start_time": "2022-04-14T08:22:59.559Z"
   },
   {
    "duration": 36,
    "start_time": "2022-04-14T08:23:04.706Z"
   },
   {
    "duration": 23,
    "start_time": "2022-04-14T08:28:05.363Z"
   },
   {
    "duration": 359,
    "start_time": "2022-04-14T08:34:52.468Z"
   },
   {
    "duration": 50143,
    "start_time": "2022-04-14T08:35:32.504Z"
   },
   {
    "duration": 354,
    "start_time": "2022-04-14T08:36:48.253Z"
   },
   {
    "duration": 38202,
    "start_time": "2022-04-14T08:37:32.875Z"
   },
   {
    "duration": 167,
    "start_time": "2022-04-14T08:39:27.953Z"
   },
   {
    "duration": 5,
    "start_time": "2022-04-14T08:51:55.861Z"
   },
   {
    "duration": 47,
    "start_time": "2022-04-14T08:51:55.868Z"
   },
   {
    "duration": 21,
    "start_time": "2022-04-14T08:51:55.917Z"
   },
   {
    "duration": 27,
    "start_time": "2022-04-14T08:51:55.941Z"
   },
   {
    "duration": 13,
    "start_time": "2022-04-14T08:51:55.971Z"
   },
   {
    "duration": 33,
    "start_time": "2022-04-14T08:51:55.986Z"
   },
   {
    "duration": 231,
    "start_time": "2022-04-14T08:51:56.024Z"
   },
   {
    "duration": 38,
    "start_time": "2022-04-14T08:51:56.258Z"
   },
   {
    "duration": 51,
    "start_time": "2022-04-14T08:51:56.298Z"
   },
   {
    "duration": 16,
    "start_time": "2022-04-14T08:51:56.353Z"
   },
   {
    "duration": 11,
    "start_time": "2022-04-14T08:51:56.371Z"
   },
   {
    "duration": 40,
    "start_time": "2022-04-14T08:51:56.385Z"
   },
   {
    "duration": 310,
    "start_time": "2022-04-14T08:52:01.857Z"
   },
   {
    "duration": 40677,
    "start_time": "2022-04-14T08:52:08.622Z"
   },
   {
    "duration": 216,
    "start_time": "2022-04-14T08:53:14.709Z"
   },
   {
    "duration": 88,
    "start_time": "2022-04-14T08:53:30.537Z"
   },
   {
    "duration": 40530,
    "start_time": "2022-04-14T08:53:38.215Z"
   },
   {
    "duration": 310,
    "start_time": "2022-04-14T08:54:37.404Z"
   },
   {
    "duration": 4,
    "start_time": "2022-04-14T08:55:46.263Z"
   },
   {
    "duration": 17,
    "start_time": "2022-04-14T08:55:50.540Z"
   },
   {
    "duration": 8,
    "start_time": "2022-04-14T08:55:52.584Z"
   },
   {
    "duration": 42,
    "start_time": "2022-04-14T08:55:57.862Z"
   },
   {
    "duration": 62731,
    "start_time": "2022-04-14T08:56:05.718Z"
   },
   {
    "duration": 408,
    "start_time": "2022-04-14T08:57:39.847Z"
   },
   {
    "duration": 6,
    "start_time": "2022-04-14T08:59:43.024Z"
   },
   {
    "duration": 11,
    "start_time": "2022-04-14T08:59:45.585Z"
   },
   {
    "duration": 7,
    "start_time": "2022-04-14T08:59:48.182Z"
   },
   {
    "duration": 88,
    "start_time": "2022-04-14T08:59:55.361Z"
   },
   {
    "duration": 32911,
    "start_time": "2022-04-14T08:59:57.875Z"
   },
   {
    "duration": 305,
    "start_time": "2022-04-14T09:00:36.837Z"
   },
   {
    "duration": 14,
    "start_time": "2022-04-14T09:08:49.046Z"
   },
   {
    "duration": 13,
    "start_time": "2022-04-14T09:09:07.336Z"
   },
   {
    "duration": 28,
    "start_time": "2022-04-14T09:09:14.135Z"
   },
   {
    "duration": 18,
    "start_time": "2022-04-14T09:09:25.374Z"
   },
   {
    "duration": 16,
    "start_time": "2022-04-14T09:09:58.695Z"
   },
   {
    "duration": 7,
    "start_time": "2022-04-14T09:10:20.942Z"
   },
   {
    "duration": 474,
    "start_time": "2022-04-14T09:11:59.524Z"
   },
   {
    "duration": 501,
    "start_time": "2022-04-14T09:13:08.635Z"
   },
   {
    "duration": 196,
    "start_time": "2022-04-14T09:14:02.088Z"
   },
   {
    "duration": 2388,
    "start_time": "2022-04-18T07:07:16.989Z"
   },
   {
    "duration": 54,
    "start_time": "2022-04-18T07:07:19.381Z"
   },
   {
    "duration": 22,
    "start_time": "2022-04-18T07:07:19.438Z"
   },
   {
    "duration": 23,
    "start_time": "2022-04-18T07:07:19.483Z"
   },
   {
    "duration": 16,
    "start_time": "2022-04-18T07:07:19.511Z"
   },
   {
    "duration": 8,
    "start_time": "2022-04-18T07:07:19.529Z"
   },
   {
    "duration": 264,
    "start_time": "2022-04-18T07:07:19.539Z"
   },
   {
    "duration": 37,
    "start_time": "2022-04-18T07:07:19.805Z"
   },
   {
    "duration": 58,
    "start_time": "2022-04-18T07:07:19.845Z"
   },
   {
    "duration": 14,
    "start_time": "2022-04-18T07:07:19.905Z"
   },
   {
    "duration": 12,
    "start_time": "2022-04-18T07:07:19.921Z"
   },
   {
    "duration": 8,
    "start_time": "2022-04-18T07:07:19.935Z"
   },
   {
    "duration": 430,
    "start_time": "2022-04-18T07:07:19.945Z"
   },
   {
    "duration": 54103,
    "start_time": "2022-04-18T07:07:20.383Z"
   },
   {
    "duration": 103,
    "start_time": "2022-04-18T07:08:14.488Z"
   },
   {
    "duration": 146,
    "start_time": "2022-04-18T07:08:57.544Z"
   },
   {
    "duration": 168,
    "start_time": "2022-04-18T07:09:00.097Z"
   },
   {
    "duration": 105,
    "start_time": "2022-04-18T07:09:09.284Z"
   },
   {
    "duration": 6,
    "start_time": "2022-04-18T07:10:02.985Z"
   },
   {
    "duration": 201,
    "start_time": "2022-04-18T07:10:26.181Z"
   },
   {
    "duration": 7,
    "start_time": "2022-04-18T07:11:00.127Z"
   },
   {
    "duration": 383,
    "start_time": "2022-04-18T07:11:04.943Z"
   },
   {
    "duration": 52480,
    "start_time": "2022-04-18T07:11:45.287Z"
   },
   {
    "duration": 232,
    "start_time": "2022-04-18T07:12:41.159Z"
   },
   {
    "duration": 565,
    "start_time": "2022-04-18T07:12:51.844Z"
   },
   {
    "duration": 185,
    "start_time": "2022-04-18T07:12:54.318Z"
   },
   {
    "duration": 6,
    "start_time": "2022-04-18T07:39:26.323Z"
   },
   {
    "duration": 16,
    "start_time": "2022-04-18T07:39:27.467Z"
   },
   {
    "duration": 10,
    "start_time": "2022-04-18T07:39:28.408Z"
   },
   {
    "duration": 100,
    "start_time": "2022-04-18T07:39:33.797Z"
   },
   {
    "duration": 320,
    "start_time": "2022-04-18T07:39:51.845Z"
   },
   {
    "duration": 81415,
    "start_time": "2022-04-18T07:40:11.212Z"
   },
   {
    "duration": 259,
    "start_time": "2022-04-18T07:44:12.484Z"
   },
   {
    "duration": 492,
    "start_time": "2022-04-18T07:44:19.725Z"
   },
   {
    "duration": 184,
    "start_time": "2022-04-18T07:44:22.047Z"
   },
   {
    "duration": 5,
    "start_time": "2022-04-18T07:47:23.932Z"
   },
   {
    "duration": 203,
    "start_time": "2022-04-18T07:47:34.287Z"
   },
   {
    "duration": 371,
    "start_time": "2022-04-18T07:47:36.455Z"
   },
   {
    "duration": 398,
    "start_time": "2022-04-18T07:47:45.170Z"
   },
   {
    "duration": 349,
    "start_time": "2022-04-18T07:47:56.253Z"
   },
   {
    "duration": 6,
    "start_time": "2022-04-18T07:50:04.501Z"
   },
   {
    "duration": 73,
    "start_time": "2022-04-18T07:50:04.510Z"
   },
   {
    "duration": 19,
    "start_time": "2022-04-18T07:50:04.586Z"
   },
   {
    "duration": 23,
    "start_time": "2022-04-18T07:50:04.609Z"
   },
   {
    "duration": 58,
    "start_time": "2022-04-18T07:50:04.634Z"
   },
   {
    "duration": 9,
    "start_time": "2022-04-18T07:50:04.695Z"
   },
   {
    "duration": 233,
    "start_time": "2022-04-18T07:50:04.707Z"
   },
   {
    "duration": 54,
    "start_time": "2022-04-18T07:50:04.943Z"
   },
   {
    "duration": 32,
    "start_time": "2022-04-18T07:50:04.999Z"
   },
   {
    "duration": 46,
    "start_time": "2022-04-18T07:50:05.037Z"
   },
   {
    "duration": 11,
    "start_time": "2022-04-18T07:50:05.086Z"
   },
   {
    "duration": 12,
    "start_time": "2022-04-18T07:50:05.100Z"
   },
   {
    "duration": 502,
    "start_time": "2022-04-18T07:50:05.115Z"
   },
   {
    "duration": 55324,
    "start_time": "2022-04-18T07:50:05.620Z"
   },
   {
    "duration": 142,
    "start_time": "2022-04-18T07:51:00.946Z"
   },
   {
    "duration": 198,
    "start_time": "2022-04-18T07:51:01.092Z"
   },
   {
    "duration": 498,
    "start_time": "2022-04-18T07:51:01.298Z"
   },
   {
    "duration": 56375,
    "start_time": "2022-04-18T07:51:01.798Z"
   },
   {
    "duration": 272,
    "start_time": "2022-04-18T07:51:58.176Z"
   },
   {
    "duration": 431,
    "start_time": "2022-04-18T07:51:58.451Z"
   },
   {
    "duration": 215,
    "start_time": "2022-04-18T07:51:58.886Z"
   },
   {
    "duration": 6,
    "start_time": "2022-04-18T07:51:59.103Z"
   },
   {
    "duration": 20,
    "start_time": "2022-04-18T07:51:59.112Z"
   },
   {
    "duration": 7,
    "start_time": "2022-04-18T07:51:59.134Z"
   },
   {
    "duration": 146,
    "start_time": "2022-04-18T07:51:59.143Z"
   },
   {
    "duration": 572,
    "start_time": "2022-04-18T07:51:59.292Z"
   },
   {
    "duration": 76596,
    "start_time": "2022-04-18T07:51:59.867Z"
   },
   {
    "duration": 280,
    "start_time": "2022-04-18T07:53:16.467Z"
   },
   {
    "duration": 556,
    "start_time": "2022-04-18T07:53:16.749Z"
   },
   {
    "duration": 225,
    "start_time": "2022-04-18T07:53:17.308Z"
   },
   {
    "duration": 6,
    "start_time": "2022-04-18T08:05:41.345Z"
   },
   {
    "duration": 15,
    "start_time": "2022-04-18T08:05:42.723Z"
   },
   {
    "duration": 7,
    "start_time": "2022-04-18T08:05:44.026Z"
   },
   {
    "duration": 98,
    "start_time": "2022-04-18T08:05:45.690Z"
   },
   {
    "duration": 344,
    "start_time": "2022-04-18T08:05:47.107Z"
   },
   {
    "duration": 38778,
    "start_time": "2022-04-18T08:05:50.618Z"
   },
   {
    "duration": 254,
    "start_time": "2022-04-18T08:06:54.360Z"
   },
   {
    "duration": 275,
    "start_time": "2022-04-18T08:06:58.795Z"
   },
   {
    "duration": 213,
    "start_time": "2022-04-18T08:07:01.503Z"
   },
   {
    "duration": 16,
    "start_time": "2022-04-18T08:27:49.898Z"
   },
   {
    "duration": 22,
    "start_time": "2022-04-18T08:35:18.911Z"
   },
   {
    "duration": 20,
    "start_time": "2022-04-18T08:36:30.045Z"
   },
   {
    "duration": 11,
    "start_time": "2022-04-18T08:37:50.401Z"
   },
   {
    "duration": 12,
    "start_time": "2022-04-18T08:38:06.935Z"
   },
   {
    "duration": 18,
    "start_time": "2022-04-18T08:38:14.497Z"
   },
   {
    "duration": 17,
    "start_time": "2022-04-18T08:39:06.171Z"
   },
   {
    "duration": 17,
    "start_time": "2022-04-18T08:39:12.080Z"
   },
   {
    "duration": 19,
    "start_time": "2022-04-18T08:39:35.008Z"
   },
   {
    "duration": 293,
    "start_time": "2022-04-18T08:47:24.289Z"
   },
   {
    "duration": 9,
    "start_time": "2022-04-18T08:48:39.779Z"
   },
   {
    "duration": 449,
    "start_time": "2022-04-18T08:48:43.015Z"
   },
   {
    "duration": 541,
    "start_time": "2022-04-18T08:50:12.931Z"
   },
   {
    "duration": 13,
    "start_time": "2022-04-18T08:50:27.851Z"
   },
   {
    "duration": 11,
    "start_time": "2022-04-18T08:50:38.142Z"
   },
   {
    "duration": 220,
    "start_time": "2022-04-18T08:50:43.762Z"
   },
   {
    "duration": 650,
    "start_time": "2022-04-18T08:59:03.194Z"
   },
   {
    "duration": 56,
    "start_time": "2022-04-18T08:59:06.101Z"
   },
   {
    "duration": 41,
    "start_time": "2022-04-18T09:00:17.905Z"
   },
   {
    "duration": 48,
    "start_time": "2022-04-18T09:01:29.375Z"
   },
   {
    "duration": 6,
    "start_time": "2022-04-18T09:02:32.104Z"
   },
   {
    "duration": 205,
    "start_time": "2022-04-18T09:02:38.337Z"
   },
   {
    "duration": 38,
    "start_time": "2022-04-18T09:02:42.843Z"
   },
   {
    "duration": 183,
    "start_time": "2022-04-18T09:02:44.702Z"
   },
   {
    "duration": 2035,
    "start_time": "2022-04-18T09:03:08.791Z"
   },
   {
    "duration": 55,
    "start_time": "2022-04-18T09:03:10.830Z"
   },
   {
    "duration": 19,
    "start_time": "2022-04-18T09:03:10.888Z"
   },
   {
    "duration": 23,
    "start_time": "2022-04-18T09:03:10.910Z"
   },
   {
    "duration": 55,
    "start_time": "2022-04-18T09:03:10.937Z"
   },
   {
    "duration": 10,
    "start_time": "2022-04-18T09:03:10.995Z"
   },
   {
    "duration": 242,
    "start_time": "2022-04-18T09:03:11.007Z"
   },
   {
    "duration": 61,
    "start_time": "2022-04-18T09:03:11.252Z"
   },
   {
    "duration": 43,
    "start_time": "2022-04-18T09:03:11.316Z"
   },
   {
    "duration": 34,
    "start_time": "2022-04-18T09:03:11.361Z"
   },
   {
    "duration": 12,
    "start_time": "2022-04-18T09:03:11.398Z"
   },
   {
    "duration": 14,
    "start_time": "2022-04-18T09:03:11.412Z"
   },
   {
    "duration": 407,
    "start_time": "2022-04-18T09:03:11.429Z"
   },
   {
    "duration": 54795,
    "start_time": "2022-04-18T09:03:11.841Z"
   },
   {
    "duration": 150,
    "start_time": "2022-04-18T09:04:06.638Z"
   },
   {
    "duration": 94,
    "start_time": "2022-04-18T09:04:06.790Z"
   },
   {
    "duration": 101,
    "start_time": "2022-04-18T09:04:06.886Z"
   },
   {
    "duration": 464,
    "start_time": "2022-04-18T09:04:06.990Z"
   },
   {
    "duration": 57359,
    "start_time": "2022-04-18T09:04:07.457Z"
   },
   {
    "duration": 248,
    "start_time": "2022-04-18T09:05:04.819Z"
   },
   {
    "duration": 425,
    "start_time": "2022-04-18T09:05:05.070Z"
   },
   {
    "duration": 261,
    "start_time": "2022-04-18T09:05:05.498Z"
   },
   {
    "duration": 22,
    "start_time": "2022-04-18T09:05:05.762Z"
   },
   {
    "duration": 24,
    "start_time": "2022-04-18T09:05:05.787Z"
   },
   {
    "duration": 10,
    "start_time": "2022-04-18T09:05:05.813Z"
   },
   {
    "duration": 258,
    "start_time": "2022-04-18T09:05:05.826Z"
   },
   {
    "duration": 367,
    "start_time": "2022-04-18T09:05:06.087Z"
   },
   {
    "duration": 75858,
    "start_time": "2022-04-18T09:05:06.457Z"
   },
   {
    "duration": 240,
    "start_time": "2022-04-18T09:06:22.317Z"
   },
   {
    "duration": 494,
    "start_time": "2022-04-18T09:06:22.559Z"
   },
   {
    "duration": 197,
    "start_time": "2022-04-18T09:06:23.056Z"
   },
   {
    "duration": 7,
    "start_time": "2022-04-18T09:06:23.256Z"
   },
   {
    "duration": 14,
    "start_time": "2022-04-18T09:06:23.281Z"
   },
   {
    "duration": 8,
    "start_time": "2022-04-18T09:06:23.298Z"
   },
   {
    "duration": 179,
    "start_time": "2022-04-18T09:06:23.308Z"
   },
   {
    "duration": 443,
    "start_time": "2022-04-18T09:06:23.490Z"
   },
   {
    "duration": 38876,
    "start_time": "2022-04-18T09:06:23.935Z"
   },
   {
    "duration": 243,
    "start_time": "2022-04-18T09:07:02.813Z"
   },
   {
    "duration": 274,
    "start_time": "2022-04-18T09:07:03.058Z"
   },
   {
    "duration": 200,
    "start_time": "2022-04-18T09:07:03.335Z"
   },
   {
    "duration": 19,
    "start_time": "2022-04-18T09:07:03.540Z"
   },
   {
    "duration": 785,
    "start_time": "2022-04-18T09:07:03.562Z"
   },
   {
    "duration": 231,
    "start_time": "2022-04-18T09:07:04.351Z"
   },
   {
    "duration": 38,
    "start_time": "2022-04-18T09:07:04.584Z"
   },
   {
    "duration": 208,
    "start_time": "2022-04-18T09:07:04.625Z"
   },
   {
    "duration": 5,
    "start_time": "2022-04-18T10:37:03.999Z"
   },
   {
    "duration": 58,
    "start_time": "2022-04-18T10:37:04.007Z"
   },
   {
    "duration": 19,
    "start_time": "2022-04-18T10:37:04.067Z"
   },
   {
    "duration": 21,
    "start_time": "2022-04-18T10:37:04.089Z"
   },
   {
    "duration": 15,
    "start_time": "2022-04-18T10:37:04.113Z"
   },
   {
    "duration": 52,
    "start_time": "2022-04-18T10:37:04.131Z"
   },
   {
    "duration": 231,
    "start_time": "2022-04-18T10:37:04.186Z"
   },
   {
    "duration": 37,
    "start_time": "2022-04-18T10:37:04.420Z"
   },
   {
    "duration": 46,
    "start_time": "2022-04-18T10:37:04.459Z"
   },
   {
    "duration": 13,
    "start_time": "2022-04-18T10:37:04.507Z"
   },
   {
    "duration": 9,
    "start_time": "2022-04-18T10:37:04.524Z"
   },
   {
    "duration": 24,
    "start_time": "2022-04-18T10:37:04.535Z"
   },
   {
    "duration": 383,
    "start_time": "2022-04-18T10:37:04.582Z"
   },
   {
    "duration": 52711,
    "start_time": "2022-04-18T10:37:04.967Z"
   },
   {
    "duration": 102,
    "start_time": "2022-04-18T10:37:57.682Z"
   },
   {
    "duration": 102,
    "start_time": "2022-04-18T10:37:57.788Z"
   },
   {
    "duration": 103,
    "start_time": "2022-04-18T10:37:57.893Z"
   },
   {
    "duration": 405,
    "start_time": "2022-04-18T10:37:58.084Z"
   },
   {
    "duration": 51959,
    "start_time": "2022-04-18T10:37:58.492Z"
   },
   {
    "duration": 246,
    "start_time": "2022-04-18T10:38:50.453Z"
   },
   {
    "duration": 402,
    "start_time": "2022-04-18T10:38:50.701Z"
   },
   {
    "duration": 209,
    "start_time": "2022-04-18T10:38:51.105Z"
   },
   {
    "duration": 7,
    "start_time": "2022-04-18T10:38:51.317Z"
   },
   {
    "duration": 16,
    "start_time": "2022-04-18T10:38:51.326Z"
   },
   {
    "duration": 38,
    "start_time": "2022-04-18T10:38:51.344Z"
   },
   {
    "duration": 103,
    "start_time": "2022-04-18T10:38:51.384Z"
   },
   {
    "duration": 446,
    "start_time": "2022-04-18T10:38:51.490Z"
   },
   {
    "duration": 71471,
    "start_time": "2022-04-18T10:38:51.938Z"
   },
   {
    "duration": 240,
    "start_time": "2022-04-18T10:40:03.414Z"
   },
   {
    "duration": 499,
    "start_time": "2022-04-18T10:40:03.656Z"
   },
   {
    "duration": 298,
    "start_time": "2022-04-18T10:40:04.157Z"
   },
   {
    "duration": 6,
    "start_time": "2022-04-18T10:40:04.458Z"
   },
   {
    "duration": 27,
    "start_time": "2022-04-18T10:40:04.467Z"
   },
   {
    "duration": 9,
    "start_time": "2022-04-18T10:40:04.496Z"
   },
   {
    "duration": 80,
    "start_time": "2022-04-18T10:40:04.507Z"
   },
   {
    "duration": 511,
    "start_time": "2022-04-18T10:40:04.590Z"
   },
   {
    "duration": 53105,
    "start_time": "2022-04-18T10:40:05.104Z"
   },
   {
    "duration": 383,
    "start_time": "2022-04-18T10:40:58.212Z"
   },
   {
    "duration": 516,
    "start_time": "2022-04-18T10:40:58.598Z"
   },
   {
    "duration": 308,
    "start_time": "2022-04-18T10:40:59.117Z"
   },
   {
    "duration": 54,
    "start_time": "2022-04-18T10:40:59.428Z"
   },
   {
    "duration": 1069,
    "start_time": "2022-04-18T10:40:59.485Z"
   },
   {
    "duration": 291,
    "start_time": "2022-04-18T10:41:00.556Z"
   },
   {
    "duration": 68,
    "start_time": "2022-04-18T10:41:00.849Z"
   },
   {
    "duration": 264,
    "start_time": "2022-04-18T10:41:00.919Z"
   },
   {
    "duration": 2039,
    "start_time": "2022-04-18T18:27:52.877Z"
   },
   {
    "duration": 56,
    "start_time": "2022-04-18T18:27:54.919Z"
   },
   {
    "duration": 24,
    "start_time": "2022-04-18T18:27:54.977Z"
   },
   {
    "duration": 21,
    "start_time": "2022-04-18T18:27:55.004Z"
   },
   {
    "duration": 17,
    "start_time": "2022-04-18T18:27:55.027Z"
   },
   {
    "duration": 8,
    "start_time": "2022-04-18T18:27:55.046Z"
   },
   {
    "duration": 218,
    "start_time": "2022-04-18T18:27:55.092Z"
   },
   {
    "duration": 34,
    "start_time": "2022-04-18T18:27:55.312Z"
   },
   {
    "duration": 53,
    "start_time": "2022-04-18T18:27:55.348Z"
   },
   {
    "duration": 13,
    "start_time": "2022-04-18T18:27:55.405Z"
   },
   {
    "duration": 9,
    "start_time": "2022-04-18T18:27:55.420Z"
   },
   {
    "duration": 14,
    "start_time": "2022-04-18T18:27:55.431Z"
   },
   {
    "duration": 383,
    "start_time": "2022-04-18T18:27:55.447Z"
   },
   {
    "duration": 48131,
    "start_time": "2022-04-18T18:27:55.833Z"
   },
   {
    "duration": 129,
    "start_time": "2022-04-18T18:28:43.966Z"
   },
   {
    "duration": 102,
    "start_time": "2022-04-18T18:28:44.098Z"
   },
   {
    "duration": 92,
    "start_time": "2022-04-18T18:28:44.203Z"
   },
   {
    "duration": 462,
    "start_time": "2022-04-18T18:28:44.298Z"
   },
   {
    "duration": 48633,
    "start_time": "2022-04-18T18:28:44.763Z"
   },
   {
    "duration": 254,
    "start_time": "2022-04-18T18:29:33.398Z"
   },
   {
    "duration": 383,
    "start_time": "2022-04-18T18:29:33.654Z"
   },
   {
    "duration": 189,
    "start_time": "2022-04-18T18:29:34.039Z"
   },
   {
    "duration": 6,
    "start_time": "2022-04-18T18:29:34.230Z"
   },
   {
    "duration": 19,
    "start_time": "2022-04-18T18:29:34.238Z"
   },
   {
    "duration": 7,
    "start_time": "2022-04-18T18:29:34.259Z"
   },
   {
    "duration": 107,
    "start_time": "2022-04-18T18:29:34.294Z"
   },
   {
    "duration": 373,
    "start_time": "2022-04-18T18:29:34.494Z"
   },
   {
    "duration": 65967,
    "start_time": "2022-04-18T18:29:34.872Z"
   },
   {
    "duration": 246,
    "start_time": "2022-04-18T18:30:40.841Z"
   },
   {
    "duration": 486,
    "start_time": "2022-04-18T18:30:41.092Z"
   },
   {
    "duration": 205,
    "start_time": "2022-04-18T18:30:41.580Z"
   },
   {
    "duration": 6,
    "start_time": "2022-04-18T18:30:41.793Z"
   },
   {
    "duration": 19,
    "start_time": "2022-04-18T18:30:41.801Z"
   },
   {
    "duration": 7,
    "start_time": "2022-04-18T18:30:41.823Z"
   },
   {
    "duration": 73,
    "start_time": "2022-04-18T18:30:41.832Z"
   },
   {
    "duration": 417,
    "start_time": "2022-04-18T18:30:41.994Z"
   },
   {
    "duration": 35547,
    "start_time": "2022-04-18T18:30:42.413Z"
   },
   {
    "duration": 250,
    "start_time": "2022-04-18T18:31:17.963Z"
   },
   {
    "duration": 278,
    "start_time": "2022-04-18T18:31:18.215Z"
   },
   {
    "duration": 197,
    "start_time": "2022-04-18T18:31:18.500Z"
   },
   {
    "duration": 21,
    "start_time": "2022-04-18T18:31:18.701Z"
   },
   {
    "duration": 755,
    "start_time": "2022-04-18T18:31:18.724Z"
   },
   {
    "duration": 227,
    "start_time": "2022-04-18T18:31:19.482Z"
   },
   {
    "duration": 39,
    "start_time": "2022-04-18T18:31:19.712Z"
   },
   {
    "duration": 218,
    "start_time": "2022-04-18T18:31:19.753Z"
   },
   {
    "duration": 2279,
    "start_time": "2022-04-21T05:04:22.803Z"
   },
   {
    "duration": 56,
    "start_time": "2022-04-21T05:04:25.085Z"
   },
   {
    "duration": 20,
    "start_time": "2022-04-21T05:04:25.143Z"
   },
   {
    "duration": 35,
    "start_time": "2022-04-21T05:04:25.165Z"
   },
   {
    "duration": 17,
    "start_time": "2022-04-21T05:04:25.203Z"
   },
   {
    "duration": 8,
    "start_time": "2022-04-21T05:04:25.222Z"
   },
   {
    "duration": 253,
    "start_time": "2022-04-21T05:04:25.233Z"
   },
   {
    "duration": 37,
    "start_time": "2022-04-21T05:04:25.488Z"
   },
   {
    "duration": 55,
    "start_time": "2022-04-21T05:04:25.527Z"
   },
   {
    "duration": 14,
    "start_time": "2022-04-21T05:04:25.584Z"
   },
   {
    "duration": 13,
    "start_time": "2022-04-21T05:04:25.600Z"
   },
   {
    "duration": 15,
    "start_time": "2022-04-21T05:04:25.615Z"
   },
   {
    "duration": 407,
    "start_time": "2022-04-21T05:04:25.632Z"
   },
   {
    "duration": 50248,
    "start_time": "2022-04-21T05:04:26.043Z"
   },
   {
    "duration": 92,
    "start_time": "2022-04-21T05:05:16.293Z"
   },
   {
    "duration": 95,
    "start_time": "2022-04-21T05:05:16.388Z"
   },
   {
    "duration": 98,
    "start_time": "2022-04-21T05:05:16.485Z"
   },
   {
    "duration": 473,
    "start_time": "2022-04-21T05:05:16.587Z"
   },
   {
    "duration": 51589,
    "start_time": "2022-04-21T05:05:17.063Z"
   },
   {
    "duration": 259,
    "start_time": "2022-04-21T05:06:08.656Z"
   },
   {
    "duration": 410,
    "start_time": "2022-04-21T05:06:08.917Z"
   },
   {
    "duration": 206,
    "start_time": "2022-04-21T05:06:09.330Z"
   },
   {
    "duration": 6,
    "start_time": "2022-04-21T05:06:24.072Z"
   },
   {
    "duration": 192,
    "start_time": "2022-04-21T05:06:27.986Z"
   },
   {
    "duration": 6,
    "start_time": "2022-04-21T05:08:25.686Z"
   },
   {
    "duration": 29,
    "start_time": "2022-04-21T05:08:28.360Z"
   },
   {
    "duration": 7,
    "start_time": "2022-04-21T05:11:49.750Z"
   },
   {
    "duration": 14,
    "start_time": "2022-04-21T05:11:53.428Z"
   },
   {
    "duration": 8,
    "start_time": "2022-04-21T05:11:56.519Z"
   },
   {
    "duration": 6,
    "start_time": "2022-04-21T05:12:08.981Z"
   },
   {
    "duration": 14,
    "start_time": "2022-04-21T05:12:24.418Z"
   },
   {
    "duration": 7,
    "start_time": "2022-04-21T05:12:26.885Z"
   },
   {
    "duration": 8,
    "start_time": "2022-04-21T05:13:28.188Z"
   },
   {
    "duration": 12,
    "start_time": "2022-04-21T05:13:31.055Z"
   },
   {
    "duration": 7,
    "start_time": "2022-04-21T05:13:34.402Z"
   },
   {
    "duration": 7,
    "start_time": "2022-04-21T05:14:17.428Z"
   },
   {
    "duration": 20,
    "start_time": "2022-04-21T05:14:20.450Z"
   },
   {
    "duration": 7,
    "start_time": "2022-04-21T05:14:22.659Z"
   },
   {
    "duration": 5,
    "start_time": "2022-04-21T05:34:15.047Z"
   },
   {
    "duration": 79,
    "start_time": "2022-04-21T05:34:17.245Z"
   },
   {
    "duration": 7,
    "start_time": "2022-04-21T05:34:45.937Z"
   },
   {
    "duration": 101,
    "start_time": "2022-04-21T05:34:48.083Z"
   },
   {
    "duration": 8,
    "start_time": "2022-04-21T05:35:04.243Z"
   },
   {
    "duration": 74372,
    "start_time": "2022-04-21T05:35:15.742Z"
   },
   {
    "duration": 5,
    "start_time": "2022-04-21T05:36:59.309Z"
   },
   {
    "duration": 511,
    "start_time": "2022-04-21T05:37:01.898Z"
   },
   {
    "duration": 11,
    "start_time": "2022-04-21T05:37:54.359Z"
   },
   {
    "duration": 6,
    "start_time": "2022-04-21T05:37:58.880Z"
   },
   {
    "duration": 13,
    "start_time": "2022-04-21T05:38:02.257Z"
   },
   {
    "duration": 7,
    "start_time": "2022-04-21T05:38:05.222Z"
   },
   {
    "duration": 44,
    "start_time": "2022-04-21T05:38:07.757Z"
   },
   {
    "duration": 42495,
    "start_time": "2022-04-21T05:38:37.468Z"
   },
   {
    "duration": 283,
    "start_time": "2022-04-21T05:39:24.709Z"
   },
   {
    "duration": 6,
    "start_time": "2022-04-21T05:58:39.290Z"
   },
   {
    "duration": 14,
    "start_time": "2022-04-21T05:58:41.466Z"
   },
   {
    "duration": 7,
    "start_time": "2022-04-21T05:58:43.469Z"
   },
   {
    "duration": 6,
    "start_time": "2022-04-21T05:58:57.465Z"
   },
   {
    "duration": 15,
    "start_time": "2022-04-21T05:58:59.768Z"
   },
   {
    "duration": 7,
    "start_time": "2022-04-21T05:59:02.079Z"
   },
   {
    "duration": 14,
    "start_time": "2022-04-21T05:59:09.096Z"
   },
   {
    "duration": 7,
    "start_time": "2022-04-21T05:59:10.048Z"
   },
   {
    "duration": 1361,
    "start_time": "2022-04-21T06:00:01.497Z"
   },
   {
    "duration": 23,
    "start_time": "2022-04-21T06:00:29.539Z"
   },
   {
    "duration": 5,
    "start_time": "2022-04-21T06:01:10.640Z"
   },
   {
    "duration": 68,
    "start_time": "2022-04-21T06:01:24.918Z"
   },
   {
    "duration": 31515,
    "start_time": "2022-04-21T06:01:38.433Z"
   },
   {
    "duration": 235,
    "start_time": "2022-04-21T06:02:24.933Z"
   },
   {
    "duration": 217,
    "start_time": "2022-04-21T06:02:28.006Z"
   },
   {
    "duration": 187,
    "start_time": "2022-04-21T06:02:30.256Z"
   },
   {
    "duration": 236,
    "start_time": "2022-04-21T06:03:24.612Z"
   },
   {
    "duration": 683,
    "start_time": "2022-04-21T06:05:12.721Z"
   },
   {
    "duration": 210,
    "start_time": "2022-04-21T06:05:52.534Z"
   },
   {
    "duration": 39,
    "start_time": "2022-04-21T06:05:55.337Z"
   },
   {
    "duration": 195,
    "start_time": "2022-04-21T06:06:06.414Z"
   },
   {
    "duration": 2105,
    "start_time": "2022-04-21T06:06:28.390Z"
   },
   {
    "duration": 56,
    "start_time": "2022-04-21T06:06:30.499Z"
   },
   {
    "duration": 33,
    "start_time": "2022-04-21T06:06:30.557Z"
   },
   {
    "duration": 21,
    "start_time": "2022-04-21T06:06:30.593Z"
   },
   {
    "duration": 16,
    "start_time": "2022-04-21T06:06:30.616Z"
   },
   {
    "duration": 8,
    "start_time": "2022-04-21T06:06:30.634Z"
   },
   {
    "duration": 262,
    "start_time": "2022-04-21T06:06:30.644Z"
   },
   {
    "duration": 36,
    "start_time": "2022-04-21T06:06:30.909Z"
   },
   {
    "duration": 51,
    "start_time": "2022-04-21T06:06:30.947Z"
   },
   {
    "duration": 13,
    "start_time": "2022-04-21T06:06:31.001Z"
   },
   {
    "duration": 9,
    "start_time": "2022-04-21T06:06:31.017Z"
   },
   {
    "duration": 18,
    "start_time": "2022-04-21T06:06:31.028Z"
   },
   {
    "duration": 413,
    "start_time": "2022-04-21T06:06:31.048Z"
   },
   {
    "duration": 50113,
    "start_time": "2022-04-21T06:06:31.463Z"
   },
   {
    "duration": 104,
    "start_time": "2022-04-21T06:07:21.582Z"
   },
   {
    "duration": 96,
    "start_time": "2022-04-21T06:07:21.690Z"
   },
   {
    "duration": 95,
    "start_time": "2022-04-21T06:07:21.789Z"
   },
   {
    "duration": 462,
    "start_time": "2022-04-21T06:07:21.886Z"
   },
   {
    "duration": 51113,
    "start_time": "2022-04-21T06:07:22.351Z"
   },
   {
    "duration": 247,
    "start_time": "2022-04-21T06:08:13.466Z"
   },
   {
    "duration": 403,
    "start_time": "2022-04-21T06:08:13.715Z"
   },
   {
    "duration": 197,
    "start_time": "2022-04-21T06:08:14.120Z"
   },
   {
    "duration": 6,
    "start_time": "2022-04-21T06:08:14.319Z"
   },
   {
    "duration": 18,
    "start_time": "2022-04-21T06:08:14.327Z"
   },
   {
    "duration": 7,
    "start_time": "2022-04-21T06:08:14.347Z"
   },
   {
    "duration": 5,
    "start_time": "2022-04-21T06:08:14.381Z"
   },
   {
    "duration": 103,
    "start_time": "2022-04-21T06:08:14.388Z"
   },
   {
    "duration": 366,
    "start_time": "2022-04-21T06:08:14.587Z"
   },
   {
    "duration": 6,
    "start_time": "2022-04-21T06:08:14.956Z"
   },
   {
    "duration": 70711,
    "start_time": "2022-04-21T06:08:14.964Z"
   },
   {
    "duration": 243,
    "start_time": "2022-04-21T06:09:25.681Z"
   },
   {
    "duration": 6,
    "start_time": "2022-04-21T06:09:25.926Z"
   },
   {
    "duration": 506,
    "start_time": "2022-04-21T06:09:25.934Z"
   },
   {
    "duration": 198,
    "start_time": "2022-04-21T06:09:26.442Z"
   },
   {
    "duration": 6,
    "start_time": "2022-04-21T06:09:26.642Z"
   },
   {
    "duration": 32,
    "start_time": "2022-04-21T06:09:26.650Z"
   },
   {
    "duration": 7,
    "start_time": "2022-04-21T06:09:26.684Z"
   },
   {
    "duration": 95,
    "start_time": "2022-04-21T06:09:26.693Z"
   },
   {
    "duration": 373,
    "start_time": "2022-04-21T06:09:26.881Z"
   },
   {
    "duration": 32944,
    "start_time": "2022-04-21T06:09:27.257Z"
   },
   {
    "duration": 245,
    "start_time": "2022-04-21T06:10:00.203Z"
   },
   {
    "duration": 233,
    "start_time": "2022-04-21T06:10:00.450Z"
   },
   {
    "duration": 196,
    "start_time": "2022-04-21T06:10:00.685Z"
   },
   {
    "duration": 19,
    "start_time": "2022-04-21T06:10:00.884Z"
   },
   {
    "duration": 676,
    "start_time": "2022-04-21T06:10:00.905Z"
   },
   {
    "duration": 217,
    "start_time": "2022-04-21T06:10:01.584Z"
   },
   {
    "duration": 39,
    "start_time": "2022-04-21T06:10:01.803Z"
   },
   {
    "duration": 212,
    "start_time": "2022-04-21T06:10:01.845Z"
   },
   {
    "duration": 633,
    "start_time": "2022-04-21T06:15:01.829Z"
   },
   {
    "duration": 39,
    "start_time": "2022-04-21T06:17:11.525Z"
   },
   {
    "duration": 235,
    "start_time": "2022-04-21T06:24:37.967Z"
   },
   {
    "duration": 199,
    "start_time": "2022-04-21T06:24:43.638Z"
   },
   {
    "duration": 37,
    "start_time": "2022-04-21T06:24:47.221Z"
   },
   {
    "duration": 6,
    "start_time": "2022-04-21T06:29:52.709Z"
   },
   {
    "duration": 13263,
    "start_time": "2022-04-21T06:29:55.103Z"
   },
   {
    "duration": 536,
    "start_time": "2022-04-21T06:32:05.507Z"
   },
   {
    "duration": 18,
    "start_time": "2022-04-21T06:33:46.330Z"
   },
   {
    "duration": 202,
    "start_time": "2022-04-21T06:34:12.330Z"
   },
   {
    "duration": 38,
    "start_time": "2022-04-21T06:34:15.879Z"
   }
  ],
  "kernelspec": {
   "display_name": "Python 3 (ipykernel)",
   "language": "python",
   "name": "python3"
  },
  "language_info": {
   "codemirror_mode": {
    "name": "ipython",
    "version": 3
   },
   "file_extension": ".py",
   "mimetype": "text/x-python",
   "name": "python",
   "nbconvert_exporter": "python",
   "pygments_lexer": "ipython3",
   "version": "3.9.7"
  },
  "toc": {
   "base_numbering": 1,
   "nav_menu": {},
   "number_sections": true,
   "sideBar": true,
   "skip_h1_title": true,
   "title_cell": "Содержание",
   "title_sidebar": "Contents",
   "toc_cell": true,
   "toc_position": {
    "height": "calc(100% - 180px)",
    "left": "10px",
    "top": "150px",
    "width": "165px"
   },
   "toc_section_display": true,
   "toc_window_display": true
  }
 },
 "nbformat": 4,
 "nbformat_minor": 2
}

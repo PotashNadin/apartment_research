{
 "cells": [
  {
   "cell_type": "markdown",
   "metadata": {
    "toc": true
   },
   "source": [
    "<h1>Содержание<span class=\"tocSkip\"></span></h1>\n",
    "<div class=\"toc\"><ul class=\"toc-item\"><li><span><a href=\"#Описание-данных\" data-toc-modified-id=\"Описание-данных-1\"><span class=\"toc-item-num\">1&nbsp;&nbsp;</span>Описание данных</a></span></li><li><span><a href=\"#Изучение-данных-из-файла\" data-toc-modified-id=\"Изучение-данных-из-файла-2\"><span class=\"toc-item-num\">2&nbsp;&nbsp;</span>Изучение данных из файла</a></span><ul class=\"toc-item\"><li><span><a href=\"#Вывод-о-представленных-данных\" data-toc-modified-id=\"Вывод-о-представленных-данных-2.1\"><span class=\"toc-item-num\">2.1&nbsp;&nbsp;</span>Вывод о представленных данных</a></span></li></ul></li><li><span><a href=\"#Предобработка-данных\" data-toc-modified-id=\"Предобработка-данных-3\"><span class=\"toc-item-num\">3&nbsp;&nbsp;</span>Предобработка данных</a></span><ul class=\"toc-item\"><li><span><a href=\"#Работа-с-пропусками-в-датасете\" data-toc-modified-id=\"Работа-с-пропусками-в-датасете-3.1\"><span class=\"toc-item-num\">3.1&nbsp;&nbsp;</span>Работа с пропусками в датасете</a></span></li><li><span><a href=\"#Замена-типов-данных\" data-toc-modified-id=\"Замена-типов-данных-3.2\"><span class=\"toc-item-num\">3.2&nbsp;&nbsp;</span>Замена типов данных</a></span></li></ul></li><li><span><a href=\"#Расчёты-и-добавление-результатов-в-таблицу\" data-toc-modified-id=\"Расчёты-и-добавление-результатов-в-таблицу-4\"><span class=\"toc-item-num\">4&nbsp;&nbsp;</span>Расчёты и добавление результатов в таблицу</a></span></li><li><span><a href=\"#Исследовательский-анализ-данных\" data-toc-modified-id=\"Исследовательский-анализ-данных-5\"><span class=\"toc-item-num\">5&nbsp;&nbsp;</span>Исследовательский анализ данных</a></span><ul class=\"toc-item\"><li><span><a href=\"#Гистограммы.-Выявление-аномальностей/вбросов-в-данных\" data-toc-modified-id=\"Гистограммы.-Выявление-аномальностей/вбросов-в-данных-5.1\"><span class=\"toc-item-num\">5.1&nbsp;&nbsp;</span>Гистограммы. Выявление аномальностей/вбросов в данных</a></span><ul class=\"toc-item\"><li><span><a href=\"#Гистограмма-по-столбцу-&quot;rooms&quot;\" data-toc-modified-id=\"Гистограмма-по-столбцу-&quot;rooms&quot;-5.1.1\"><span class=\"toc-item-num\">5.1.1&nbsp;&nbsp;</span>Гистограмма по столбцу \"rooms\"</a></span></li><li><span><a href=\"#Гистограмма-по-столбцу-&quot;ceiling_height&quot;\" data-toc-modified-id=\"Гистограмма-по-столбцу-&quot;ceiling_height&quot;-5.1.2\"><span class=\"toc-item-num\">5.1.2&nbsp;&nbsp;</span>Гистограмма по столбцу \"ceiling_height\"</a></span></li><li><span><a href=\"#Гистограмма-по-столбцу-&quot;total_area&quot;\" data-toc-modified-id=\"Гистограмма-по-столбцу-&quot;total_area&quot;-5.1.3\"><span class=\"toc-item-num\">5.1.3&nbsp;&nbsp;</span>Гистограмма по столбцу \"total_area\"</a></span></li><li><span><a href=\"#Гистограмма-по-столбцу-&quot;last_price&quot;\" data-toc-modified-id=\"Гистограмма-по-столбцу-&quot;last_price&quot;-5.1.4\"><span class=\"toc-item-num\">5.1.4&nbsp;&nbsp;</span>Гистограмма по столбцу \"last_price\"</a></span></li><li><span><a href=\"#Гистограмма-по-столбцу-&quot;days_exposition&quot;\" data-toc-modified-id=\"Гистограмма-по-столбцу-&quot;days_exposition&quot;-5.1.5\"><span class=\"toc-item-num\">5.1.5&nbsp;&nbsp;</span>Гистограмма по столбцу \"days_exposition\"</a></span></li></ul></li><li><span><a href=\"#Разбор-аномальных-значений\" data-toc-modified-id=\"Разбор-аномальных-значений-5.2\"><span class=\"toc-item-num\">5.2&nbsp;&nbsp;</span>Разбор аномальных значений</a></span><ul class=\"toc-item\"><li><span><a href=\"#Аномальные-значения.-Столбец-&quot;ceiling_height&quot;\" data-toc-modified-id=\"Аномальные-значения.-Столбец-&quot;ceiling_height&quot;-5.2.1\"><span class=\"toc-item-num\">5.2.1&nbsp;&nbsp;</span>Аномальные значения. Столбец \"ceiling_height\"</a></span></li><li><span><a href=\"#Аномальные-значения.-Столбец-&quot;rooms&quot;\" data-toc-modified-id=\"Аномальные-значения.-Столбец-&quot;rooms&quot;-5.2.2\"><span class=\"toc-item-num\">5.2.2&nbsp;&nbsp;</span>Аномальные значения. Столбец \"rooms\"</a></span></li><li><span><a href=\"#Аномальные-значения.-Столбец-&quot;total_area&quot;\" data-toc-modified-id=\"Аномальные-значения.-Столбец-&quot;total_area&quot;-5.2.3\"><span class=\"toc-item-num\">5.2.3&nbsp;&nbsp;</span>Аномальные значения. Столбец \"total_area\"</a></span></li></ul></li></ul></li><li><span><a href=\"#Поиск-зависимости-цен-на-недвижимость-от-других-показателей.\" data-toc-modified-id=\"Поиск-зависимости-цен-на-недвижимость-от-других-показателей.-6\"><span class=\"toc-item-num\">6&nbsp;&nbsp;</span>Поиск зависимости цен на недвижимость от других показателей.</a></span><ul class=\"toc-item\"><li><span><a href=\"#Зависимость-цены-от-площади-квартиры\" data-toc-modified-id=\"Зависимость-цены-от-площади-квартиры-6.1\"><span class=\"toc-item-num\">6.1&nbsp;&nbsp;</span>Зависимость цены от площади квартиры</a></span></li><li><span><a href=\"#Зависимость-цены-от-количества-комнат-в-квартире\" data-toc-modified-id=\"Зависимость-цены-от-количества-комнат-в-квартире-6.2\"><span class=\"toc-item-num\">6.2&nbsp;&nbsp;</span>Зависимость цены от количества комнат в квартире</a></span></li><li><span><a href=\"#Зависимость-цены-от-этажа-размещения-квартиры.\" data-toc-modified-id=\"Зависимость-цены-от-этажа-размещения-квартиры.-6.3\"><span class=\"toc-item-num\">6.3&nbsp;&nbsp;</span>Зависимость цены от этажа размещения квартиры.</a></span></li><li><span><a href=\"#Зависимость-цены-квартиры-от-удаленности-от-центра.\" data-toc-modified-id=\"Зависимость-цены-квартиры-от-удаленности-от-центра.-6.4\"><span class=\"toc-item-num\">6.4&nbsp;&nbsp;</span>Зависимость цены квартиры от удаленности от центра.</a></span></li><li><span><a href=\"#Зависимость-цен-на-квартиры-от-дня-размещения\" data-toc-modified-id=\"Зависимость-цен-на-квартиры-от-дня-размещения-6.5\"><span class=\"toc-item-num\">6.5&nbsp;&nbsp;</span>Зависимость цен на квартиры от дня размещения</a></span></li><li><span><a href=\"#Зависимость-цен-на-квартиры-от-месяца-размещения.\" data-toc-modified-id=\"Зависимость-цен-на-квартиры-от-месяца-размещения.-6.6\"><span class=\"toc-item-num\">6.6&nbsp;&nbsp;</span>Зависимость цен на квартиры от месяца размещения.</a></span></li><li><span><a href=\"#Зависимость-цен-на-квартиры-от-года-размещения-объявления.\" data-toc-modified-id=\"Зависимость-цен-на-квартиры-от-года-размещения-объявления.-6.7\"><span class=\"toc-item-num\">6.7&nbsp;&nbsp;</span>Зависимость цен на квартиры от года размещения объявления.</a></span></li></ul></li><li><span><a href=\"#Топ-10-населенных-пунктов-по-количеству-объявлений\" data-toc-modified-id=\"Топ-10-населенных-пунктов-по-количеству-объявлений-7\"><span class=\"toc-item-num\">7&nbsp;&nbsp;</span>Топ 10 населенных пунктов по количеству объявлений</a></span></li><li><span><a href=\"#Цены-на-жилую-недвижимость-в-Санкт---Петербурге\" data-toc-modified-id=\"Цены-на-жилую-недвижимость-в-Санкт---Петербурге-8\"><span class=\"toc-item-num\">8&nbsp;&nbsp;</span>Цены на жилую недвижимость в Санкт - Петербурге</a></span><ul class=\"toc-item\"><li><span><a href=\"#Зависимость-цены--от-этажа-размещения-квартиры.\" data-toc-modified-id=\"Зависимость-цены--от-этажа-размещения-квартиры.-8.1\"><span class=\"toc-item-num\">8.1&nbsp;&nbsp;</span>Зависимость цены  от этажа размещения квартиры.</a></span></li><li><span><a href=\"#Зависимость-цены--от-количества-комнат-в-квартире.\" data-toc-modified-id=\"Зависимость-цены--от-количества-комнат-в-квартире.-8.2\"><span class=\"toc-item-num\">8.2&nbsp;&nbsp;</span>Зависимость цены  от количества комнат в квартире.</a></span></li><li><span><a href=\"#Зависимость-цены--от-удаленности-от-центра.\" data-toc-modified-id=\"Зависимость-цены--от-удаленности-от-центра.-8.3\"><span class=\"toc-item-num\">8.3&nbsp;&nbsp;</span>Зависимость цены  от удаленности от центра.</a></span></li><li><span><a href=\"#Зависимость-цены--от-даты-размещения-объявления\" data-toc-modified-id=\"Зависимость-цены--от-даты-размещения-объявления-8.4\"><span class=\"toc-item-num\">8.4&nbsp;&nbsp;</span>Зависимость цены  от даты размещения объявления</a></span></li></ul></li><li><span><a href=\"#Общий-вывод\" data-toc-modified-id=\"Общий-вывод-9\"><span class=\"toc-item-num\">9&nbsp;&nbsp;</span>Общий вывод</a></span></li><li><span><a href=\"#Чек-лист-готовности-проекта\" data-toc-modified-id=\"Чек-лист-готовности-проекта-10\"><span class=\"toc-item-num\">10&nbsp;&nbsp;</span>Чек-лист готовности проекта</a></span></li></ul></div>"
   ]
  },
  {
   "cell_type": "markdown",
   "metadata": {},
   "source": [
    "# Исследование объявлений о продаже квартир\n"
   ]
  },
  {
   "cell_type": "markdown",
   "metadata": {},
   "source": [
    "**Цель:**\n",
    "\n",
    "Научиться определять рыночную стоимость объектов недвижимости. Рассмотреть, какие показатели влияют на стоимость, а какие - нет."
   ]
  },
  {
   "cell_type": "markdown",
   "metadata": {},
   "source": [
    "## Изучение данных из файла"
   ]
  },
  {
   "cell_type": "code",
   "execution_count": 1,
   "metadata": {},
   "outputs": [
    {
     "data": {
      "text/html": [
       "<div>\n",
       "<style scoped>\n",
       "    .dataframe tbody tr th:only-of-type {\n",
       "        vertical-align: middle;\n",
       "    }\n",
       "\n",
       "    .dataframe tbody tr th {\n",
       "        vertical-align: top;\n",
       "    }\n",
       "\n",
       "    .dataframe thead th {\n",
       "        text-align: right;\n",
       "    }\n",
       "</style>\n",
       "<table border=\"1\" class=\"dataframe\">\n",
       "  <thead>\n",
       "    <tr style=\"text-align: right;\">\n",
       "      <th></th>\n",
       "      <th>total_images</th>\n",
       "      <th>last_price</th>\n",
       "      <th>total_area</th>\n",
       "      <th>first_day_exposition</th>\n",
       "      <th>rooms</th>\n",
       "      <th>ceiling_height</th>\n",
       "      <th>floors_total</th>\n",
       "      <th>living_area</th>\n",
       "      <th>floor</th>\n",
       "      <th>is_apartment</th>\n",
       "      <th>...</th>\n",
       "      <th>kitchen_area</th>\n",
       "      <th>balcony</th>\n",
       "      <th>locality_name</th>\n",
       "      <th>airports_nearest</th>\n",
       "      <th>cityCenters_nearest</th>\n",
       "      <th>parks_around3000</th>\n",
       "      <th>parks_nearest</th>\n",
       "      <th>ponds_around3000</th>\n",
       "      <th>ponds_nearest</th>\n",
       "      <th>days_exposition</th>\n",
       "    </tr>\n",
       "  </thead>\n",
       "  <tbody>\n",
       "    <tr>\n",
       "      <td>0</td>\n",
       "      <td>20</td>\n",
       "      <td>13000000.0</td>\n",
       "      <td>108.0</td>\n",
       "      <td>2019-03-07T00:00:00</td>\n",
       "      <td>3</td>\n",
       "      <td>2.70</td>\n",
       "      <td>16.0</td>\n",
       "      <td>51.0</td>\n",
       "      <td>8</td>\n",
       "      <td>NaN</td>\n",
       "      <td>...</td>\n",
       "      <td>25.0</td>\n",
       "      <td>NaN</td>\n",
       "      <td>Санкт-Петербург</td>\n",
       "      <td>18863.0</td>\n",
       "      <td>16028.0</td>\n",
       "      <td>1.0</td>\n",
       "      <td>482.0</td>\n",
       "      <td>2.0</td>\n",
       "      <td>755.0</td>\n",
       "      <td>NaN</td>\n",
       "    </tr>\n",
       "    <tr>\n",
       "      <td>1</td>\n",
       "      <td>7</td>\n",
       "      <td>3350000.0</td>\n",
       "      <td>40.4</td>\n",
       "      <td>2018-12-04T00:00:00</td>\n",
       "      <td>1</td>\n",
       "      <td>NaN</td>\n",
       "      <td>11.0</td>\n",
       "      <td>18.6</td>\n",
       "      <td>1</td>\n",
       "      <td>NaN</td>\n",
       "      <td>...</td>\n",
       "      <td>11.0</td>\n",
       "      <td>2.0</td>\n",
       "      <td>посёлок Шушары</td>\n",
       "      <td>12817.0</td>\n",
       "      <td>18603.0</td>\n",
       "      <td>0.0</td>\n",
       "      <td>NaN</td>\n",
       "      <td>0.0</td>\n",
       "      <td>NaN</td>\n",
       "      <td>81.0</td>\n",
       "    </tr>\n",
       "    <tr>\n",
       "      <td>2</td>\n",
       "      <td>10</td>\n",
       "      <td>5196000.0</td>\n",
       "      <td>56.0</td>\n",
       "      <td>2015-08-20T00:00:00</td>\n",
       "      <td>2</td>\n",
       "      <td>NaN</td>\n",
       "      <td>5.0</td>\n",
       "      <td>34.3</td>\n",
       "      <td>4</td>\n",
       "      <td>NaN</td>\n",
       "      <td>...</td>\n",
       "      <td>8.3</td>\n",
       "      <td>0.0</td>\n",
       "      <td>Санкт-Петербург</td>\n",
       "      <td>21741.0</td>\n",
       "      <td>13933.0</td>\n",
       "      <td>1.0</td>\n",
       "      <td>90.0</td>\n",
       "      <td>2.0</td>\n",
       "      <td>574.0</td>\n",
       "      <td>558.0</td>\n",
       "    </tr>\n",
       "    <tr>\n",
       "      <td>3</td>\n",
       "      <td>0</td>\n",
       "      <td>64900000.0</td>\n",
       "      <td>159.0</td>\n",
       "      <td>2015-07-24T00:00:00</td>\n",
       "      <td>3</td>\n",
       "      <td>NaN</td>\n",
       "      <td>14.0</td>\n",
       "      <td>NaN</td>\n",
       "      <td>9</td>\n",
       "      <td>NaN</td>\n",
       "      <td>...</td>\n",
       "      <td>NaN</td>\n",
       "      <td>0.0</td>\n",
       "      <td>Санкт-Петербург</td>\n",
       "      <td>28098.0</td>\n",
       "      <td>6800.0</td>\n",
       "      <td>2.0</td>\n",
       "      <td>84.0</td>\n",
       "      <td>3.0</td>\n",
       "      <td>234.0</td>\n",
       "      <td>424.0</td>\n",
       "    </tr>\n",
       "    <tr>\n",
       "      <td>4</td>\n",
       "      <td>2</td>\n",
       "      <td>10000000.0</td>\n",
       "      <td>100.0</td>\n",
       "      <td>2018-06-19T00:00:00</td>\n",
       "      <td>2</td>\n",
       "      <td>3.03</td>\n",
       "      <td>14.0</td>\n",
       "      <td>32.0</td>\n",
       "      <td>13</td>\n",
       "      <td>NaN</td>\n",
       "      <td>...</td>\n",
       "      <td>41.0</td>\n",
       "      <td>NaN</td>\n",
       "      <td>Санкт-Петербург</td>\n",
       "      <td>31856.0</td>\n",
       "      <td>8098.0</td>\n",
       "      <td>2.0</td>\n",
       "      <td>112.0</td>\n",
       "      <td>1.0</td>\n",
       "      <td>48.0</td>\n",
       "      <td>121.0</td>\n",
       "    </tr>\n",
       "  </tbody>\n",
       "</table>\n",
       "<p>5 rows × 22 columns</p>\n",
       "</div>"
      ],
      "text/plain": [
       "   total_images  last_price  total_area first_day_exposition  rooms  \\\n",
       "0            20  13000000.0       108.0  2019-03-07T00:00:00      3   \n",
       "1             7   3350000.0        40.4  2018-12-04T00:00:00      1   \n",
       "2            10   5196000.0        56.0  2015-08-20T00:00:00      2   \n",
       "3             0  64900000.0       159.0  2015-07-24T00:00:00      3   \n",
       "4             2  10000000.0       100.0  2018-06-19T00:00:00      2   \n",
       "\n",
       "   ceiling_height  floors_total  living_area  floor is_apartment  ...  \\\n",
       "0            2.70          16.0         51.0      8          NaN  ...   \n",
       "1             NaN          11.0         18.6      1          NaN  ...   \n",
       "2             NaN           5.0         34.3      4          NaN  ...   \n",
       "3             NaN          14.0          NaN      9          NaN  ...   \n",
       "4            3.03          14.0         32.0     13          NaN  ...   \n",
       "\n",
       "   kitchen_area  balcony    locality_name  airports_nearest  \\\n",
       "0          25.0      NaN  Санкт-Петербург           18863.0   \n",
       "1          11.0      2.0   посёлок Шушары           12817.0   \n",
       "2           8.3      0.0  Санкт-Петербург           21741.0   \n",
       "3           NaN      0.0  Санкт-Петербург           28098.0   \n",
       "4          41.0      NaN  Санкт-Петербург           31856.0   \n",
       "\n",
       "  cityCenters_nearest  parks_around3000  parks_nearest  ponds_around3000  \\\n",
       "0             16028.0               1.0          482.0               2.0   \n",
       "1             18603.0               0.0            NaN               0.0   \n",
       "2             13933.0               1.0           90.0               2.0   \n",
       "3              6800.0               2.0           84.0               3.0   \n",
       "4              8098.0               2.0          112.0               1.0   \n",
       "\n",
       "   ponds_nearest  days_exposition  \n",
       "0          755.0              NaN  \n",
       "1            NaN             81.0  \n",
       "2          574.0            558.0  \n",
       "3          234.0            424.0  \n",
       "4           48.0            121.0  \n",
       "\n",
       "[5 rows x 22 columns]"
      ]
     },
     "execution_count": 1,
     "metadata": {},
     "output_type": "execute_result"
    }
   ],
   "source": [
    "import pandas as pd\n",
    "import matplotlib.pyplot as plt\n",
    "import seaborn as sns\n",
    "\n",
    "df = pd.read_csv('/datasets/real_estate_data.csv', sep='\\t')\n",
    "df.head()"
   ]
  },
  {
   "cell_type": "code",
   "execution_count": 2,
   "metadata": {},
   "outputs": [
    {
     "name": "stdout",
     "output_type": "stream",
     "text": [
      "<class 'pandas.core.frame.DataFrame'>\n",
      "RangeIndex: 23699 entries, 0 to 23698\n",
      "Data columns (total 22 columns):\n",
      "total_images            23699 non-null int64\n",
      "last_price              23699 non-null float64\n",
      "total_area              23699 non-null float64\n",
      "first_day_exposition    23699 non-null object\n",
      "rooms                   23699 non-null int64\n",
      "ceiling_height          14504 non-null float64\n",
      "floors_total            23613 non-null float64\n",
      "living_area             21796 non-null float64\n",
      "floor                   23699 non-null int64\n",
      "is_apartment            2775 non-null object\n",
      "studio                  23699 non-null bool\n",
      "open_plan               23699 non-null bool\n",
      "kitchen_area            21421 non-null float64\n",
      "balcony                 12180 non-null float64\n",
      "locality_name           23650 non-null object\n",
      "airports_nearest        18157 non-null float64\n",
      "cityCenters_nearest     18180 non-null float64\n",
      "parks_around3000        18181 non-null float64\n",
      "parks_nearest           8079 non-null float64\n",
      "ponds_around3000        18181 non-null float64\n",
      "ponds_nearest           9110 non-null float64\n",
      "days_exposition         20518 non-null float64\n",
      "dtypes: bool(2), float64(14), int64(3), object(3)\n",
      "memory usage: 3.7+ MB\n"
     ]
    }
   ],
   "source": [
    "df.info()"
   ]
  },
  {
   "cell_type": "markdown",
   "metadata": {},
   "source": [
    "### Вывод о представленных данных"
   ]
  },
  {
   "cell_type": "markdown",
   "metadata": {},
   "source": [
    "Необходимо обработать пропуски в столбцах, их достоточно много.\n",
    "В некоторых столбцах, таких как `locality_name`, пропуски заменить нечем, поэтому их придется из датасета удалить.\n",
    "Далее, необходимо обработать явные и неявные дубликаты. Изменить тип данных в столбцах."
   ]
  },
  {
   "cell_type": "markdown",
   "metadata": {},
   "source": [
    "## Предобработка данных"
   ]
  },
  {
   "cell_type": "markdown",
   "metadata": {},
   "source": [
    "### Работа с пропусками в датасете"
   ]
  },
  {
   "cell_type": "code",
   "execution_count": 3,
   "metadata": {
    "scrolled": false
   },
   "outputs": [
    {
     "data": {
      "text/plain": [
       "total_images            0.000000\n",
       "last_price              0.000000\n",
       "total_area              0.000000\n",
       "first_day_exposition    0.000000\n",
       "rooms                   0.000000\n",
       "ceiling_height          0.387991\n",
       "floors_total            0.003629\n",
       "living_area             0.080299\n",
       "floor                   0.000000\n",
       "is_apartment            0.882906\n",
       "studio                  0.000000\n",
       "open_plan               0.000000\n",
       "kitchen_area            0.096122\n",
       "balcony                 0.486054\n",
       "locality_name           0.002068\n",
       "airports_nearest        0.233850\n",
       "cityCenters_nearest     0.232879\n",
       "parks_around3000        0.232837\n",
       "parks_nearest           0.659100\n",
       "ponds_around3000        0.232837\n",
       "ponds_nearest           0.615596\n",
       "days_exposition         0.134225\n",
       "dtype: float64"
      ]
     },
     "execution_count": 3,
     "metadata": {},
     "output_type": "execute_result"
    }
   ],
   "source": [
    "df.isna().mean()# ищем долю пропусков в датасете."
   ]
  },
  {
   "cell_type": "code",
   "execution_count": 4,
   "metadata": {},
   "outputs": [
    {
     "data": {
      "text/plain": [
       "0"
      ]
     },
     "execution_count": 4,
     "metadata": {},
     "output_type": "execute_result"
    }
   ],
   "source": [
    "df.duplicated().sum()# проверка на явные дубликаты"
   ]
  },
  {
   "cell_type": "code",
   "execution_count": 5,
   "metadata": {},
   "outputs": [],
   "source": [
    "df['balcony'] = df['balcony'].fillna(0)# заменим пропуски на 0 , раз не указан балкон значиь его нет."
   ]
  },
  {
   "cell_type": "code",
   "execution_count": 6,
   "metadata": {},
   "outputs": [],
   "source": [
    "df['floors_total'] = df['floors_total'].fillna(1)# заменяем пропуски в этажности дома на 1, раз этаж не указан.\n",
    "#предполодительно этажность дома отсутствует."
   ]
  },
  {
   "cell_type": "code",
   "execution_count": 7,
   "metadata": {},
   "outputs": [
    {
     "name": "stdout",
     "output_type": "stream",
     "text": [
      "49\n"
     ]
    }
   ],
   "source": [
    "print(df['locality_name'].isna().sum())# важные данные, заменить нечем,  44 пустых значения, меньше одного процента в датасете. можно удалить.\n",
    "df = df.dropna(subset=['locality_name'])"
   ]
  },
  {
   "cell_type": "code",
   "execution_count": 8,
   "metadata": {},
   "outputs": [
    {
     "data": {
      "text/plain": [
       "count    14490.000000\n",
       "mean         2.771287\n",
       "std          1.261593\n",
       "min          1.000000\n",
       "25%          2.520000\n",
       "50%          2.650000\n",
       "75%          2.800000\n",
       "max        100.000000\n",
       "Name: ceiling_height, dtype: float64"
      ]
     },
     "execution_count": 8,
     "metadata": {},
     "output_type": "execute_result"
    },
    {
     "data": {
      "image/png": "[encoded data removed]",
      "text/plain": [
       "<Figure size 432x288 with 1 Axes>"
      ]
     },
     "metadata": {
      "needs_background": "light"
     },
     "output_type": "display_data"
    }
   ],
   "source": [
    "plt.ylim(0,10)\n",
    "df.boxplot(column='ceiling_height') # есть некоторые вбросы,потолков высотой в 100м не бывает.. \n",
    "df['ceiling_height'].describe()#видим что 1,2,3 квартили примерно одинаковы. \n",
    "#больше 75 процентов данных содержат значение 2,5-2,7."
   ]
  },
  {
   "cell_type": "code",
   "execution_count": 9,
   "metadata": {},
   "outputs": [],
   "source": [
    "df['ceiling_height'] = df['ceiling_height'].fillna(df['ceiling_height'].median())#можно заменить пропуски в данном столбце на медиану"
   ]
  },
  {
   "cell_type": "code",
   "execution_count": 10,
   "metadata": {},
   "outputs": [
    {
     "data": {
      "text/plain": [
       "False    23600\n",
       "True        50\n",
       "Name: is_apartment, dtype: int64"
      ]
     },
     "execution_count": 10,
     "metadata": {},
     "output_type": "execute_result"
    }
   ],
   "source": [
    "df['is_apartment'] = df['is_apartment'].fillna(False)# пустые значение в данном столбце значат,\n",
    "#что признак \"это апартаменты\" не был проставлен, то есть False.\n",
    "df['is_apartment'].value_counts()"
   ]
  },
  {
   "cell_type": "code",
   "execution_count": 11,
   "metadata": {},
   "outputs": [],
   "source": [
    "#показатели в столбцах ниже взяты из картографических данных. \n",
    "#пропуски там либо потому что либо их не заполнили, либо нет данных о близлежащих парках,аэропортов и тд.\n",
    "#заменить такие данные на среднее или медианное значение будет неверно, восстановить данные не получится, тиак как нет адресов обьекта.\n",
    "df['airports_nearest'] = df['airports_nearest'].fillna(-1)\n",
    "df['cityCenters_nearest'] = df['cityCenters_nearest'].fillna(-1)\n",
    "df['parks_around3000'] = df['parks_around3000'].fillna(0)\n",
    "df['parks_nearest'] = df['parks_nearest'].fillna(0)\n",
    "df['ponds_around3000'] = df['ponds_around3000'].fillna(0)\n",
    "df['ponds_nearest'] = df['ponds_nearest'].fillna(0)\n"
   ]
  },
  {
   "cell_type": "markdown",
   "metadata": {},
   "source": [
    "Заполнили пропуски, где это было возможно:\n",
    "- в столбце `balcony` заменили пропуски на 0, так как если человек не указал количество балконов, то предположительно балкон отсутствует.\n",
    "- в столбце `floors_total` - пропуски заменили на 1, так как если не указан этаж, то можно предположить что этаж первый.\n",
    "- в столбце `locality_name` - 44 пустых значения(меньше одного процента от датасета). Важные для анализа данные, однако заменить нам их нечем,поэтому придется удалить.\n",
    "- в столбце `ceiling_height` - обнаружены аномалии. Я решила, что пропуски в данном столбце заменим на медианное значение(оно же близко к среднему значению, несмотря на аномалии).\n",
    "- в столбце `is_apartment` - пустые значение в данном столбце значат, что признак \"это апартаменты\" не был проставлен.Поэтому заменим пустые значения на False.\n",
    "- в столбце `days_exposition` есть пробелы ,которые нечем заменить. Образовались они скорее всего потому, что на момент формирования датасета обьявление еще не было снято с публикации.\n",
    "\n",
    "Показатели в столбцах ниже взяты из картографических данных, которые человеком не заполняются:\n",
    "\n",
    "- `airports_nearest` и `cityCenters_nearest` были заполнены на значение \"-1\" так как , ни 0, ни среднее, ни медиана не подходит для заполнения в данном случае. 0 может значит что растояние до центра отсутствует так как квартира размещена непосредственно в центре. Тоже касается и аэропорта -  0 может означать что аэропорта по близости нет.\n",
    "- В остальных столбцах  `parks_around3000`, `parks_nearest`, `ponds_around3000`, `ponds_nearest` данные пустые возможно потому, что рядом нет этих обьектов. Заполним их нулями.\n",
    "\n"
   ]
  },
  {
   "cell_type": "markdown",
   "metadata": {},
   "source": [
    "### Замена типов данных"
   ]
  },
  {
   "cell_type": "code",
   "execution_count": 12,
   "metadata": {
    "scrolled": false
   },
   "outputs": [],
   "source": [
    "df['is_apartment'] = df['is_apartment'].astype(bool)# сменили тип данных в сотлбце на булев,\n",
    "#такой тип выбран потому что значение в столбце может быть только два-либо это апартаменты, либо нет. \n",
    "#в информации к датасету это было указано изначально.\n"
   ]
  },
  {
   "cell_type": "code",
   "execution_count": 13,
   "metadata": {},
   "outputs": [],
   "source": [
    "df['balcony'] = df['balcony'].astype('int')# сменили тип на целое число, так как количество балконов не может быть не целым числом."
   ]
  },
  {
   "cell_type": "markdown",
   "metadata": {},
   "source": [
    "## Расчёты и добавление результатов в таблицу"
   ]
  },
  {
   "cell_type": "code",
   "execution_count": 14,
   "metadata": {
    "scrolled": true
   },
   "outputs": [],
   "source": [
    "# посчитаем среднюю цену кв метра за квартиру и добавим в основной датасет.\n",
    "df['price_per_sq_meter'] = df['last_price'] / df['total_area']"
   ]
  },
  {
   "cell_type": "code",
   "execution_count": 15,
   "metadata": {
    "scrolled": true
   },
   "outputs": [],
   "source": [
    "df['first_day_exposition'] = pd.to_datetime(df['first_day_exposition'], format='%Y-%m-%dT%H:%M:%S')# сообщаем Python что данный столбец это дота"
   ]
  },
  {
   "cell_type": "code",
   "execution_count": 16,
   "metadata": {},
   "outputs": [
    {
     "data": {
      "text/html": [
       "<div>\n",
       "<style scoped>\n",
       "    .dataframe tbody tr th:only-of-type {\n",
       "        vertical-align: middle;\n",
       "    }\n",
       "\n",
       "    .dataframe tbody tr th {\n",
       "        vertical-align: top;\n",
       "    }\n",
       "\n",
       "    .dataframe thead th {\n",
       "        text-align: right;\n",
       "    }\n",
       "</style>\n",
       "<table border=\"1\" class=\"dataframe\">\n",
       "  <thead>\n",
       "    <tr style=\"text-align: right;\">\n",
       "      <th></th>\n",
       "      <th>total_images</th>\n",
       "      <th>last_price</th>\n",
       "      <th>total_area</th>\n",
       "      <th>first_day_exposition</th>\n",
       "      <th>rooms</th>\n",
       "      <th>ceiling_height</th>\n",
       "      <th>floors_total</th>\n",
       "      <th>living_area</th>\n",
       "      <th>floor</th>\n",
       "      <th>is_apartment</th>\n",
       "      <th>...</th>\n",
       "      <th>cityCenters_nearest</th>\n",
       "      <th>parks_around3000</th>\n",
       "      <th>parks_nearest</th>\n",
       "      <th>ponds_around3000</th>\n",
       "      <th>ponds_nearest</th>\n",
       "      <th>days_exposition</th>\n",
       "      <th>price_per_sq_meter</th>\n",
       "      <th>week_day_exposition</th>\n",
       "      <th>month_day_exposition</th>\n",
       "      <th>year_day_exposition</th>\n",
       "    </tr>\n",
       "  </thead>\n",
       "  <tbody>\n",
       "    <tr>\n",
       "      <td>0</td>\n",
       "      <td>20</td>\n",
       "      <td>13000000.0</td>\n",
       "      <td>108.0</td>\n",
       "      <td>2019-03-07</td>\n",
       "      <td>3</td>\n",
       "      <td>2.70</td>\n",
       "      <td>16.0</td>\n",
       "      <td>51.0</td>\n",
       "      <td>8</td>\n",
       "      <td>False</td>\n",
       "      <td>...</td>\n",
       "      <td>16028.0</td>\n",
       "      <td>1.0</td>\n",
       "      <td>482.0</td>\n",
       "      <td>2.0</td>\n",
       "      <td>755.0</td>\n",
       "      <td>NaN</td>\n",
       "      <td>120370.370370</td>\n",
       "      <td>3</td>\n",
       "      <td>3</td>\n",
       "      <td>2019</td>\n",
       "    </tr>\n",
       "    <tr>\n",
       "      <td>1</td>\n",
       "      <td>7</td>\n",
       "      <td>3350000.0</td>\n",
       "      <td>40.4</td>\n",
       "      <td>2018-12-04</td>\n",
       "      <td>1</td>\n",
       "      <td>2.65</td>\n",
       "      <td>11.0</td>\n",
       "      <td>18.6</td>\n",
       "      <td>1</td>\n",
       "      <td>False</td>\n",
       "      <td>...</td>\n",
       "      <td>18603.0</td>\n",
       "      <td>0.0</td>\n",
       "      <td>0.0</td>\n",
       "      <td>0.0</td>\n",
       "      <td>0.0</td>\n",
       "      <td>81.0</td>\n",
       "      <td>82920.792079</td>\n",
       "      <td>1</td>\n",
       "      <td>12</td>\n",
       "      <td>2018</td>\n",
       "    </tr>\n",
       "    <tr>\n",
       "      <td>2</td>\n",
       "      <td>10</td>\n",
       "      <td>5196000.0</td>\n",
       "      <td>56.0</td>\n",
       "      <td>2015-08-20</td>\n",
       "      <td>2</td>\n",
       "      <td>2.65</td>\n",
       "      <td>5.0</td>\n",
       "      <td>34.3</td>\n",
       "      <td>4</td>\n",
       "      <td>False</td>\n",
       "      <td>...</td>\n",
       "      <td>13933.0</td>\n",
       "      <td>1.0</td>\n",
       "      <td>90.0</td>\n",
       "      <td>2.0</td>\n",
       "      <td>574.0</td>\n",
       "      <td>558.0</td>\n",
       "      <td>92785.714286</td>\n",
       "      <td>3</td>\n",
       "      <td>8</td>\n",
       "      <td>2015</td>\n",
       "    </tr>\n",
       "    <tr>\n",
       "      <td>3</td>\n",
       "      <td>0</td>\n",
       "      <td>64900000.0</td>\n",
       "      <td>159.0</td>\n",
       "      <td>2015-07-24</td>\n",
       "      <td>3</td>\n",
       "      <td>2.65</td>\n",
       "      <td>14.0</td>\n",
       "      <td>NaN</td>\n",
       "      <td>9</td>\n",
       "      <td>False</td>\n",
       "      <td>...</td>\n",
       "      <td>6800.0</td>\n",
       "      <td>2.0</td>\n",
       "      <td>84.0</td>\n",
       "      <td>3.0</td>\n",
       "      <td>234.0</td>\n",
       "      <td>424.0</td>\n",
       "      <td>408176.100629</td>\n",
       "      <td>4</td>\n",
       "      <td>7</td>\n",
       "      <td>2015</td>\n",
       "    </tr>\n",
       "    <tr>\n",
       "      <td>4</td>\n",
       "      <td>2</td>\n",
       "      <td>10000000.0</td>\n",
       "      <td>100.0</td>\n",
       "      <td>2018-06-19</td>\n",
       "      <td>2</td>\n",
       "      <td>3.03</td>\n",
       "      <td>14.0</td>\n",
       "      <td>32.0</td>\n",
       "      <td>13</td>\n",
       "      <td>False</td>\n",
       "      <td>...</td>\n",
       "      <td>8098.0</td>\n",
       "      <td>2.0</td>\n",
       "      <td>112.0</td>\n",
       "      <td>1.0</td>\n",
       "      <td>48.0</td>\n",
       "      <td>121.0</td>\n",
       "      <td>100000.000000</td>\n",
       "      <td>1</td>\n",
       "      <td>6</td>\n",
       "      <td>2018</td>\n",
       "    </tr>\n",
       "  </tbody>\n",
       "</table>\n",
       "<p>5 rows × 26 columns</p>\n",
       "</div>"
      ],
      "text/plain": [
       "   total_images  last_price  total_area first_day_exposition  rooms  \\\n",
       "0            20  13000000.0       108.0           2019-03-07      3   \n",
       "1             7   3350000.0        40.4           2018-12-04      1   \n",
       "2            10   5196000.0        56.0           2015-08-20      2   \n",
       "3             0  64900000.0       159.0           2015-07-24      3   \n",
       "4             2  10000000.0       100.0           2018-06-19      2   \n",
       "\n",
       "   ceiling_height  floors_total  living_area  floor  is_apartment  ...  \\\n",
       "0            2.70          16.0         51.0      8         False  ...   \n",
       "1            2.65          11.0         18.6      1         False  ...   \n",
       "2            2.65           5.0         34.3      4         False  ...   \n",
       "3            2.65          14.0          NaN      9         False  ...   \n",
       "4            3.03          14.0         32.0     13         False  ...   \n",
       "\n",
       "   cityCenters_nearest  parks_around3000  parks_nearest  ponds_around3000  \\\n",
       "0              16028.0               1.0          482.0               2.0   \n",
       "1              18603.0               0.0            0.0               0.0   \n",
       "2              13933.0               1.0           90.0               2.0   \n",
       "3               6800.0               2.0           84.0               3.0   \n",
       "4               8098.0               2.0          112.0               1.0   \n",
       "\n",
       "  ponds_nearest  days_exposition  price_per_sq_meter  week_day_exposition  \\\n",
       "0         755.0              NaN       120370.370370                    3   \n",
       "1           0.0             81.0        82920.792079                    1   \n",
       "2         574.0            558.0        92785.714286                    3   \n",
       "3         234.0            424.0       408176.100629                    4   \n",
       "4          48.0            121.0       100000.000000                    1   \n",
       "\n",
       "   month_day_exposition  year_day_exposition  \n",
       "0                     3                 2019  \n",
       "1                    12                 2018  \n",
       "2                     8                 2015  \n",
       "3                     7                 2015  \n",
       "4                     6                 2018  \n",
       "\n",
       "[5 rows x 26 columns]"
      ]
     },
     "execution_count": 16,
     "metadata": {},
     "output_type": "execute_result"
    }
   ],
   "source": [
    "#добавим день недели,месяц и год, когда было опубликовано объявление\n",
    "df['week_day_exposition'] = df['first_day_exposition'].dt.weekday\n",
    "df['month_day_exposition'] = df['first_day_exposition'].dt.month\n",
    "df['year_day_exposition'] = df['first_day_exposition'].dt.year\n",
    "df.head()"
   ]
  },
  {
   "cell_type": "code",
   "execution_count": 17,
   "metadata": {},
   "outputs": [],
   "source": [
    "#варианты этажей.разобьем датасет на категории по этажам: первый,последний,другой.\n",
    "#воспользуемся функцией\n",
    "\n",
    "def floor_category(value):\n",
    "    if value['floor'] == 1:\n",
    "        return 'первый'\n",
    "    if value['floor'] == value['floors_total']:\n",
    "        return 'последний'\n",
    "    return 'другой'\n",
    "\n",
    "df['floor_category'] = df.apply(floor_category, axis=1)"
   ]
  },
  {
   "cell_type": "code",
   "execution_count": 18,
   "metadata": {
    "scrolled": true
   },
   "outputs": [
    {
     "data": {
      "text/html": [
       "<div>\n",
       "<style scoped>\n",
       "    .dataframe tbody tr th:only-of-type {\n",
       "        vertical-align: middle;\n",
       "    }\n",
       "\n",
       "    .dataframe tbody tr th {\n",
       "        vertical-align: top;\n",
       "    }\n",
       "\n",
       "    .dataframe thead th {\n",
       "        text-align: right;\n",
       "    }\n",
       "</style>\n",
       "<table border=\"1\" class=\"dataframe\">\n",
       "  <thead>\n",
       "    <tr style=\"text-align: right;\">\n",
       "      <th></th>\n",
       "      <th>total_images</th>\n",
       "      <th>last_price</th>\n",
       "      <th>total_area</th>\n",
       "      <th>first_day_exposition</th>\n",
       "      <th>rooms</th>\n",
       "      <th>ceiling_height</th>\n",
       "      <th>floors_total</th>\n",
       "      <th>living_area</th>\n",
       "      <th>floor</th>\n",
       "      <th>is_apartment</th>\n",
       "      <th>...</th>\n",
       "      <th>ponds_around3000</th>\n",
       "      <th>ponds_nearest</th>\n",
       "      <th>days_exposition</th>\n",
       "      <th>price_per_sq_meter</th>\n",
       "      <th>week_day_exposition</th>\n",
       "      <th>month_day_exposition</th>\n",
       "      <th>year_day_exposition</th>\n",
       "      <th>floor_category</th>\n",
       "      <th>living_area_ratio</th>\n",
       "      <th>kitchen_area_ratio</th>\n",
       "    </tr>\n",
       "  </thead>\n",
       "  <tbody>\n",
       "    <tr>\n",
       "      <td>0</td>\n",
       "      <td>20</td>\n",
       "      <td>13000000.0</td>\n",
       "      <td>108.0</td>\n",
       "      <td>2019-03-07</td>\n",
       "      <td>3</td>\n",
       "      <td>2.70</td>\n",
       "      <td>16.0</td>\n",
       "      <td>51.0</td>\n",
       "      <td>8</td>\n",
       "      <td>False</td>\n",
       "      <td>...</td>\n",
       "      <td>2.0</td>\n",
       "      <td>755.0</td>\n",
       "      <td>NaN</td>\n",
       "      <td>120370.370370</td>\n",
       "      <td>3</td>\n",
       "      <td>3</td>\n",
       "      <td>2019</td>\n",
       "      <td>другой</td>\n",
       "      <td>0.472222</td>\n",
       "      <td>0.231481</td>\n",
       "    </tr>\n",
       "    <tr>\n",
       "      <td>1</td>\n",
       "      <td>7</td>\n",
       "      <td>3350000.0</td>\n",
       "      <td>40.4</td>\n",
       "      <td>2018-12-04</td>\n",
       "      <td>1</td>\n",
       "      <td>2.65</td>\n",
       "      <td>11.0</td>\n",
       "      <td>18.6</td>\n",
       "      <td>1</td>\n",
       "      <td>False</td>\n",
       "      <td>...</td>\n",
       "      <td>0.0</td>\n",
       "      <td>0.0</td>\n",
       "      <td>81.0</td>\n",
       "      <td>82920.792079</td>\n",
       "      <td>1</td>\n",
       "      <td>12</td>\n",
       "      <td>2018</td>\n",
       "      <td>первый</td>\n",
       "      <td>0.460396</td>\n",
       "      <td>0.272277</td>\n",
       "    </tr>\n",
       "    <tr>\n",
       "      <td>2</td>\n",
       "      <td>10</td>\n",
       "      <td>5196000.0</td>\n",
       "      <td>56.0</td>\n",
       "      <td>2015-08-20</td>\n",
       "      <td>2</td>\n",
       "      <td>2.65</td>\n",
       "      <td>5.0</td>\n",
       "      <td>34.3</td>\n",
       "      <td>4</td>\n",
       "      <td>False</td>\n",
       "      <td>...</td>\n",
       "      <td>2.0</td>\n",
       "      <td>574.0</td>\n",
       "      <td>558.0</td>\n",
       "      <td>92785.714286</td>\n",
       "      <td>3</td>\n",
       "      <td>8</td>\n",
       "      <td>2015</td>\n",
       "      <td>другой</td>\n",
       "      <td>0.612500</td>\n",
       "      <td>0.148214</td>\n",
       "    </tr>\n",
       "    <tr>\n",
       "      <td>3</td>\n",
       "      <td>0</td>\n",
       "      <td>64900000.0</td>\n",
       "      <td>159.0</td>\n",
       "      <td>2015-07-24</td>\n",
       "      <td>3</td>\n",
       "      <td>2.65</td>\n",
       "      <td>14.0</td>\n",
       "      <td>NaN</td>\n",
       "      <td>9</td>\n",
       "      <td>False</td>\n",
       "      <td>...</td>\n",
       "      <td>3.0</td>\n",
       "      <td>234.0</td>\n",
       "      <td>424.0</td>\n",
       "      <td>408176.100629</td>\n",
       "      <td>4</td>\n",
       "      <td>7</td>\n",
       "      <td>2015</td>\n",
       "      <td>другой</td>\n",
       "      <td>NaN</td>\n",
       "      <td>NaN</td>\n",
       "    </tr>\n",
       "    <tr>\n",
       "      <td>4</td>\n",
       "      <td>2</td>\n",
       "      <td>10000000.0</td>\n",
       "      <td>100.0</td>\n",
       "      <td>2018-06-19</td>\n",
       "      <td>2</td>\n",
       "      <td>3.03</td>\n",
       "      <td>14.0</td>\n",
       "      <td>32.0</td>\n",
       "      <td>13</td>\n",
       "      <td>False</td>\n",
       "      <td>...</td>\n",
       "      <td>1.0</td>\n",
       "      <td>48.0</td>\n",
       "      <td>121.0</td>\n",
       "      <td>100000.000000</td>\n",
       "      <td>1</td>\n",
       "      <td>6</td>\n",
       "      <td>2018</td>\n",
       "      <td>другой</td>\n",
       "      <td>0.320000</td>\n",
       "      <td>0.410000</td>\n",
       "    </tr>\n",
       "  </tbody>\n",
       "</table>\n",
       "<p>5 rows × 29 columns</p>\n",
       "</div>"
      ],
      "text/plain": [
       "   total_images  last_price  total_area first_day_exposition  rooms  \\\n",
       "0            20  13000000.0       108.0           2019-03-07      3   \n",
       "1             7   3350000.0        40.4           2018-12-04      1   \n",
       "2            10   5196000.0        56.0           2015-08-20      2   \n",
       "3             0  64900000.0       159.0           2015-07-24      3   \n",
       "4             2  10000000.0       100.0           2018-06-19      2   \n",
       "\n",
       "   ceiling_height  floors_total  living_area  floor  is_apartment  ...  \\\n",
       "0            2.70          16.0         51.0      8         False  ...   \n",
       "1            2.65          11.0         18.6      1         False  ...   \n",
       "2            2.65           5.0         34.3      4         False  ...   \n",
       "3            2.65          14.0          NaN      9         False  ...   \n",
       "4            3.03          14.0         32.0     13         False  ...   \n",
       "\n",
       "   ponds_around3000  ponds_nearest  days_exposition  price_per_sq_meter  \\\n",
       "0               2.0          755.0              NaN       120370.370370   \n",
       "1               0.0            0.0             81.0        82920.792079   \n",
       "2               2.0          574.0            558.0        92785.714286   \n",
       "3               3.0          234.0            424.0       408176.100629   \n",
       "4               1.0           48.0            121.0       100000.000000   \n",
       "\n",
       "  week_day_exposition  month_day_exposition  year_day_exposition  \\\n",
       "0                   3                     3                 2019   \n",
       "1                   1                    12                 2018   \n",
       "2                   3                     8                 2015   \n",
       "3                   4                     7                 2015   \n",
       "4                   1                     6                 2018   \n",
       "\n",
       "   floor_category  living_area_ratio  kitchen_area_ratio  \n",
       "0          другой           0.472222            0.231481  \n",
       "1          первый           0.460396            0.272277  \n",
       "2          другой           0.612500            0.148214  \n",
       "3          другой                NaN                 NaN  \n",
       "4          другой           0.320000            0.410000  \n",
       "\n",
       "[5 rows x 29 columns]"
      ]
     },
     "execution_count": 18,
     "metadata": {},
     "output_type": "execute_result"
    }
   ],
   "source": [
    "df['living_area_ratio'] = df['living_area'] / df['total_area']\n",
    "df['kitchen_area_ratio'] = df['kitchen_area'] / df['total_area']\n",
    "df.head()"
   ]
  },
  {
   "cell_type": "markdown",
   "metadata": {},
   "source": [
    "## Исследовательский анализ данных"
   ]
  },
  {
   "cell_type": "markdown",
   "metadata": {},
   "source": [
    "### Гистограммы. Выявление аномальностей/вбросов в данных"
   ]
  },
  {
   "cell_type": "code",
   "execution_count": 19,
   "metadata": {},
   "outputs": [],
   "source": [
    "df = df[df['is_apartment'] == False]# уберем из датасета апартаменты, \n",
    "#так как апартаменты не являются официально жилым помещением и цены на них иные."
   ]
  },
  {
   "cell_type": "markdown",
   "metadata": {},
   "source": [
    "#### Гистограмма по столбцу \"rooms\""
   ]
  },
  {
   "cell_type": "code",
   "execution_count": 20,
   "metadata": {
    "scrolled": true
   },
   "outputs": [
    {
     "data": {
      "text/plain": [
       "<matplotlib.axes._subplots.AxesSubplot at 0x7f049bbfcd10>"
      ]
     },
     "execution_count": 20,
     "metadata": {},
     "output_type": "execute_result"
    },
    {
     "data": {
      "image/png": "[encoded data removed]",
      "text/plain": [
       "<Figure size 432x288 with 1 Axes>"
      ]
     },
     "metadata": {
      "needs_background": "light"
     },
     "output_type": "display_data"
    }
   ],
   "source": [
    "df['rooms'].hist(bins=10, range=(0,20))#гистограмма по комнатам. \n",
    "#больше всего на рынке предлагают квартиры с 1,2,3 комнатами, остальных вариантов поменьше."
   ]
  },
  {
   "cell_type": "markdown",
   "metadata": {},
   "source": [
    "Видим, что количество комнат варируется от 0 до 20. но в основном данные сосредоточены на цифрах от 0 до 8. Количество комнат больше 8 можно считать аномальными и редкими значениями."
   ]
  },
  {
   "cell_type": "markdown",
   "metadata": {},
   "source": [
    "#### Гистограмма по столбцу \"ceiling_height\""
   ]
  },
  {
   "cell_type": "code",
   "execution_count": 21,
   "metadata": {
    "scrolled": true
   },
   "outputs": [
    {
     "data": {
      "text/plain": [
       "<matplotlib.axes._subplots.AxesSubplot at 0x7f04a45a9c90>"
      ]
     },
     "execution_count": 21,
     "metadata": {},
     "output_type": "execute_result"
    },
    {
     "data": {
      "image/png": "[encoded data removed]",
      "text/plain": [
       "<Figure size 432x288 with 1 Axes>"
      ]
     },
     "metadata": {
      "needs_background": "light"
     },
     "output_type": "display_data"
    }
   ],
   "source": [
    "df['ceiling_height'].hist(bins=25)# гистограмма по высоте потолков. \n",
    "#видим что в данных явно есть аномальные значения, рассмотрим их в следующей главе"
   ]
  },
  {
   "cell_type": "markdown",
   "metadata": {},
   "source": [
    "Значения по потолкам доходит аж до 100 метров. Предполагаю это вбросы. Основная масса данных сосредоточена на значении от 1 до 5."
   ]
  },
  {
   "cell_type": "markdown",
   "metadata": {},
   "source": [
    "#### Гистограмма по столбцу \"total_area\""
   ]
  },
  {
   "cell_type": "code",
   "execution_count": 22,
   "metadata": {
    "scrolled": true
   },
   "outputs": [
    {
     "data": {
      "text/plain": [
       "<matplotlib.axes._subplots.AxesSubplot at 0x7f04a449c510>"
      ]
     },
     "execution_count": 22,
     "metadata": {},
     "output_type": "execute_result"
    },
    {
     "data": {
      "image/png": "[encoded data removed]",
      "text/plain": [
       "<Figure size 432x288 with 1 Axes>"
      ]
     },
     "metadata": {
      "needs_background": "light"
     },
     "output_type": "display_data"
    }
   ],
   "source": [
    "df['total_area'].hist(bins=100)#видим что в данных явно есть аномальные значения, рассмотрим их в следующей главе"
   ]
  },
  {
   "cell_type": "markdown",
   "metadata": {},
   "source": [
    "Видим распределение Пуассона, но есть значения превыщающие адэкватные(более 400), если учесть что мы рассматриваем именно площадь жилой квартиры. Такие значения могут исказить графики и выводы по всему датасету."
   ]
  },
  {
   "cell_type": "markdown",
   "metadata": {},
   "source": [
    "#### Гистограмма по столбцу \"last_price\""
   ]
  },
  {
   "cell_type": "code",
   "execution_count": 23,
   "metadata": {
    "scrolled": true
   },
   "outputs": [
    {
     "data": {
      "text/plain": [
       "<matplotlib.axes._subplots.AxesSubplot at 0x7f0524bc6fd0>"
      ]
     },
     "execution_count": 23,
     "metadata": {},
     "output_type": "execute_result"
    },
    {
     "data": {
      "image/png": "[encoded data removed]",
      "text/plain": [
       "<Figure size 432x288 with 1 Axes>"
      ]
     },
     "metadata": {
      "needs_background": "light"
     },
     "output_type": "display_data"
    }
   ],
   "source": [
    "df['last_price'].hist(bins=100, range=(0,100000000))"
   ]
  },
  {
   "cell_type": "markdown",
   "metadata": {},
   "source": [
    "Видим распределение Пуассона, в основном цена состредоточена в промежутке от нескольких тысяч до 200-300млн рублей. Предположу, что цена выше чем 300млн указана как раз за те квартиры, у которых были аномальные значения по площади, указанные на предыдущем графике. "
   ]
  },
  {
   "cell_type": "markdown",
   "metadata": {},
   "source": [
    "#### Гистограмма по столбцу \"days_exposition\""
   ]
  },
  {
   "cell_type": "code",
   "execution_count": 24,
   "metadata": {
    "scrolled": false
   },
   "outputs": [
    {
     "data": {
      "text/plain": [
       "<matplotlib.axes._subplots.AxesSubplot at 0x7f04a4372490>"
      ]
     },
     "execution_count": 24,
     "metadata": {},
     "output_type": "execute_result"
    },
    {
     "data": {
      "image/png": "[encoded data removed]",
      "text/plain": [
       "<Figure size 432x288 with 1 Axes>"
      ]
     },
     "metadata": {
      "needs_background": "light"
     },
     "output_type": "display_data"
    }
   ],
   "source": [
    "df['days_exposition'].plot(kind='hist', bins=100)"
   ]
  },
  {
   "cell_type": "markdown",
   "metadata": {},
   "source": [
    "По данному распределению Пуассона очень хорошо видно, что основная часть квартир в датасете была продана в первые 230 дней после размещения, меньше 25% обьявлений было продано с длительностью размещения больше года."
   ]
  },
  {
   "cell_type": "code",
   "execution_count": 25,
   "metadata": {
    "scrolled": true
   },
   "outputs": [
    {
     "data": {
      "text/plain": [
       "count    20432.000000\n",
       "mean       180.608164\n",
       "std        219.330183\n",
       "min          1.000000\n",
       "25%         45.000000\n",
       "50%         95.000000\n",
       "75%        231.000000\n",
       "max       1580.000000\n",
       "Name: days_exposition, dtype: float64"
      ]
     },
     "execution_count": 25,
     "metadata": {},
     "output_type": "execute_result"
    }
   ],
   "source": [
    "df['days_exposition'].describe()# проверим численные показатели"
   ]
  },
  {
   "cell_type": "code",
   "execution_count": 26,
   "metadata": {
    "scrolled": false
   },
   "outputs": [
    {
     "data": {
      "text/plain": [
       "<matplotlib.axes._subplots.AxesSubplot at 0x7f049b8ec3d0>"
      ]
     },
     "execution_count": 26,
     "metadata": {},
     "output_type": "execute_result"
    },
    {
     "data": {
      "image/png": "[encoded data removed]",
      "text/plain": [
       "<Figure size 432x288 with 1 Axes>"
      ]
     },
     "metadata": {
      "needs_background": "light"
     },
     "output_type": "display_data"
    }
   ],
   "source": [
    "df.boxplot(column='days_exposition')"
   ]
  },
  {
   "cell_type": "markdown",
   "metadata": {},
   "source": [
    "В среднем, продажа квартиры происходит в интервале от 45 дней до 231 дня. можно считать что аномально быстрые продажи это те, которые происходят меньше чем за месяц(30 дней).\n",
    "Аномально долгие продажи, это продажи которые произошли спустя 235 и более дней с момента публикации обьявления."
   ]
  },
  {
   "cell_type": "markdown",
   "metadata": {},
   "source": [
    "### Разбор аномальных значений"
   ]
  },
  {
   "cell_type": "markdown",
   "metadata": {},
   "source": [
    "#### Аномальные значения. Столбец \"ceiling_height\""
   ]
  },
  {
   "cell_type": "code",
   "execution_count": 27,
   "metadata": {
    "scrolled": false
   },
   "outputs": [
    {
     "name": "stdout",
     "output_type": "stream",
     "text": [
      "count    23600.000000\n",
      "mean         2.717637\n",
      "std          0.731358\n",
      "min          1.000000\n",
      "25%          2.600000\n",
      "50%          2.650000\n",
      "75%          2.700000\n",
      "max         32.000000\n",
      "Name: ceiling_height, dtype: float64\n"
     ]
    },
    {
     "data": {
      "text/plain": [
       "<matplotlib.axes._subplots.AxesSubplot at 0x7f04a45e13d0>"
      ]
     },
     "execution_count": 27,
     "metadata": {},
     "output_type": "execute_result"
    },
    {
     "data": {
      "image/png": "[encoded data removed]",
      "text/plain": [
       "<Figure size 432x288 with 1 Axes>"
      ]
     },
     "metadata": {
      "needs_background": "light"
     },
     "output_type": "display_data"
    }
   ],
   "source": [
    "print(df['ceiling_height'].describe())#основная масса значений находится в интервале 2,6 - 2,7м. потолки свыше \n",
    "#4 метров будем считать вбросами\n",
    "plt.ylim(0,10)\n",
    "df.boxplot(column='ceiling_height')"
   ]
  },
  {
   "cell_type": "code",
   "execution_count": 28,
   "metadata": {
    "scrolled": false
   },
   "outputs": [
    {
     "data": {
      "text/html": [
       "<div>\n",
       "<style scoped>\n",
       "    .dataframe tbody tr th:only-of-type {\n",
       "        vertical-align: middle;\n",
       "    }\n",
       "\n",
       "    .dataframe tbody tr th {\n",
       "        vertical-align: top;\n",
       "    }\n",
       "\n",
       "    .dataframe thead th {\n",
       "        text-align: right;\n",
       "    }\n",
       "</style>\n",
       "<table border=\"1\" class=\"dataframe\">\n",
       "  <thead>\n",
       "    <tr style=\"text-align: right;\">\n",
       "      <th></th>\n",
       "      <th>total_images</th>\n",
       "      <th>last_price</th>\n",
       "      <th>total_area</th>\n",
       "      <th>first_day_exposition</th>\n",
       "      <th>rooms</th>\n",
       "      <th>ceiling_height</th>\n",
       "      <th>floors_total</th>\n",
       "      <th>living_area</th>\n",
       "      <th>floor</th>\n",
       "      <th>is_apartment</th>\n",
       "      <th>...</th>\n",
       "      <th>ponds_around3000</th>\n",
       "      <th>ponds_nearest</th>\n",
       "      <th>days_exposition</th>\n",
       "      <th>price_per_sq_meter</th>\n",
       "      <th>week_day_exposition</th>\n",
       "      <th>month_day_exposition</th>\n",
       "      <th>year_day_exposition</th>\n",
       "      <th>floor_category</th>\n",
       "      <th>living_area_ratio</th>\n",
       "      <th>kitchen_area_ratio</th>\n",
       "    </tr>\n",
       "  </thead>\n",
       "  <tbody>\n",
       "    <tr>\n",
       "      <td>154</td>\n",
       "      <td>1</td>\n",
       "      <td>8200000.0</td>\n",
       "      <td>80.0</td>\n",
       "      <td>2018-11-06</td>\n",
       "      <td>3</td>\n",
       "      <td>4.15</td>\n",
       "      <td>3.0</td>\n",
       "      <td>44.2</td>\n",
       "      <td>2</td>\n",
       "      <td>False</td>\n",
       "      <td>...</td>\n",
       "      <td>1.0</td>\n",
       "      <td>838.0</td>\n",
       "      <td>38.0</td>\n",
       "      <td>102500.000000</td>\n",
       "      <td>1</td>\n",
       "      <td>11</td>\n",
       "      <td>2018</td>\n",
       "      <td>другой</td>\n",
       "      <td>0.552500</td>\n",
       "      <td>0.152500</td>\n",
       "    </tr>\n",
       "    <tr>\n",
       "      <td>355</td>\n",
       "      <td>17</td>\n",
       "      <td>3600000.0</td>\n",
       "      <td>55.2</td>\n",
       "      <td>2018-07-12</td>\n",
       "      <td>2</td>\n",
       "      <td>25.00</td>\n",
       "      <td>5.0</td>\n",
       "      <td>32.0</td>\n",
       "      <td>2</td>\n",
       "      <td>False</td>\n",
       "      <td>...</td>\n",
       "      <td>0.0</td>\n",
       "      <td>0.0</td>\n",
       "      <td>259.0</td>\n",
       "      <td>65217.391304</td>\n",
       "      <td>3</td>\n",
       "      <td>7</td>\n",
       "      <td>2018</td>\n",
       "      <td>другой</td>\n",
       "      <td>0.579710</td>\n",
       "      <td>NaN</td>\n",
       "    </tr>\n",
       "    <tr>\n",
       "      <td>464</td>\n",
       "      <td>15</td>\n",
       "      <td>66571000.0</td>\n",
       "      <td>280.3</td>\n",
       "      <td>2015-06-11</td>\n",
       "      <td>6</td>\n",
       "      <td>5.20</td>\n",
       "      <td>8.0</td>\n",
       "      <td>159.5</td>\n",
       "      <td>7</td>\n",
       "      <td>False</td>\n",
       "      <td>...</td>\n",
       "      <td>1.0</td>\n",
       "      <td>616.0</td>\n",
       "      <td>578.0</td>\n",
       "      <td>237499.108098</td>\n",
       "      <td>3</td>\n",
       "      <td>6</td>\n",
       "      <td>2015</td>\n",
       "      <td>другой</td>\n",
       "      <td>0.569033</td>\n",
       "      <td>0.075276</td>\n",
       "    </tr>\n",
       "    <tr>\n",
       "      <td>1026</td>\n",
       "      <td>20</td>\n",
       "      <td>155000000.0</td>\n",
       "      <td>310.0</td>\n",
       "      <td>2018-10-12</td>\n",
       "      <td>5</td>\n",
       "      <td>5.30</td>\n",
       "      <td>3.0</td>\n",
       "      <td>190.0</td>\n",
       "      <td>3</td>\n",
       "      <td>False</td>\n",
       "      <td>...</td>\n",
       "      <td>1.0</td>\n",
       "      <td>603.0</td>\n",
       "      <td>NaN</td>\n",
       "      <td>500000.000000</td>\n",
       "      <td>4</td>\n",
       "      <td>10</td>\n",
       "      <td>2018</td>\n",
       "      <td>последний</td>\n",
       "      <td>0.612903</td>\n",
       "      <td>0.203226</td>\n",
       "    </tr>\n",
       "    <tr>\n",
       "      <td>1053</td>\n",
       "      <td>13</td>\n",
       "      <td>550000.0</td>\n",
       "      <td>29.0</td>\n",
       "      <td>2018-02-01</td>\n",
       "      <td>1</td>\n",
       "      <td>5.00</td>\n",
       "      <td>3.0</td>\n",
       "      <td>NaN</td>\n",
       "      <td>1</td>\n",
       "      <td>False</td>\n",
       "      <td>...</td>\n",
       "      <td>0.0</td>\n",
       "      <td>0.0</td>\n",
       "      <td>6.0</td>\n",
       "      <td>18965.517241</td>\n",
       "      <td>3</td>\n",
       "      <td>2</td>\n",
       "      <td>2018</td>\n",
       "      <td>первый</td>\n",
       "      <td>NaN</td>\n",
       "      <td>NaN</td>\n",
       "    </tr>\n",
       "    <tr>\n",
       "      <td>...</td>\n",
       "      <td>...</td>\n",
       "      <td>...</td>\n",
       "      <td>...</td>\n",
       "      <td>...</td>\n",
       "      <td>...</td>\n",
       "      <td>...</td>\n",
       "      <td>...</td>\n",
       "      <td>...</td>\n",
       "      <td>...</td>\n",
       "      <td>...</td>\n",
       "      <td>...</td>\n",
       "      <td>...</td>\n",
       "      <td>...</td>\n",
       "      <td>...</td>\n",
       "      <td>...</td>\n",
       "      <td>...</td>\n",
       "      <td>...</td>\n",
       "      <td>...</td>\n",
       "      <td>...</td>\n",
       "      <td>...</td>\n",
       "      <td>...</td>\n",
       "    </tr>\n",
       "    <tr>\n",
       "      <td>21923</td>\n",
       "      <td>10</td>\n",
       "      <td>115490000.0</td>\n",
       "      <td>235.0</td>\n",
       "      <td>2017-04-09</td>\n",
       "      <td>5</td>\n",
       "      <td>4.90</td>\n",
       "      <td>5.0</td>\n",
       "      <td>140.0</td>\n",
       "      <td>5</td>\n",
       "      <td>False</td>\n",
       "      <td>...</td>\n",
       "      <td>3.0</td>\n",
       "      <td>253.0</td>\n",
       "      <td>351.0</td>\n",
       "      <td>491446.808511</td>\n",
       "      <td>6</td>\n",
       "      <td>4</td>\n",
       "      <td>2017</td>\n",
       "      <td>последний</td>\n",
       "      <td>0.595745</td>\n",
       "      <td>0.212766</td>\n",
       "    </tr>\n",
       "    <tr>\n",
       "      <td>22055</td>\n",
       "      <td>2</td>\n",
       "      <td>8550000.0</td>\n",
       "      <td>75.1</td>\n",
       "      <td>2017-08-09</td>\n",
       "      <td>3</td>\n",
       "      <td>4.20</td>\n",
       "      <td>6.0</td>\n",
       "      <td>52.5</td>\n",
       "      <td>3</td>\n",
       "      <td>False</td>\n",
       "      <td>...</td>\n",
       "      <td>0.0</td>\n",
       "      <td>0.0</td>\n",
       "      <td>477.0</td>\n",
       "      <td>113848.202397</td>\n",
       "      <td>2</td>\n",
       "      <td>8</td>\n",
       "      <td>2017</td>\n",
       "      <td>другой</td>\n",
       "      <td>0.699068</td>\n",
       "      <td>0.106525</td>\n",
       "    </tr>\n",
       "    <tr>\n",
       "      <td>22309</td>\n",
       "      <td>20</td>\n",
       "      <td>5300000.0</td>\n",
       "      <td>45.0</td>\n",
       "      <td>2017-09-30</td>\n",
       "      <td>1</td>\n",
       "      <td>10.30</td>\n",
       "      <td>16.0</td>\n",
       "      <td>15.5</td>\n",
       "      <td>15</td>\n",
       "      <td>False</td>\n",
       "      <td>...</td>\n",
       "      <td>2.0</td>\n",
       "      <td>450.0</td>\n",
       "      <td>136.0</td>\n",
       "      <td>117777.777778</td>\n",
       "      <td>5</td>\n",
       "      <td>9</td>\n",
       "      <td>2017</td>\n",
       "      <td>другой</td>\n",
       "      <td>0.344444</td>\n",
       "      <td>NaN</td>\n",
       "    </tr>\n",
       "    <tr>\n",
       "      <td>22336</td>\n",
       "      <td>19</td>\n",
       "      <td>9999000.0</td>\n",
       "      <td>92.4</td>\n",
       "      <td>2019-04-05</td>\n",
       "      <td>2</td>\n",
       "      <td>32.00</td>\n",
       "      <td>6.0</td>\n",
       "      <td>55.5</td>\n",
       "      <td>5</td>\n",
       "      <td>False</td>\n",
       "      <td>...</td>\n",
       "      <td>3.0</td>\n",
       "      <td>511.0</td>\n",
       "      <td>NaN</td>\n",
       "      <td>108214.285714</td>\n",
       "      <td>4</td>\n",
       "      <td>4</td>\n",
       "      <td>2019</td>\n",
       "      <td>другой</td>\n",
       "      <td>0.600649</td>\n",
       "      <td>0.178571</td>\n",
       "    </tr>\n",
       "    <tr>\n",
       "      <td>22494</td>\n",
       "      <td>7</td>\n",
       "      <td>91075000.0</td>\n",
       "      <td>491.0</td>\n",
       "      <td>2017-05-27</td>\n",
       "      <td>5</td>\n",
       "      <td>4.20</td>\n",
       "      <td>9.0</td>\n",
       "      <td>274.0</td>\n",
       "      <td>9</td>\n",
       "      <td>False</td>\n",
       "      <td>...</td>\n",
       "      <td>0.0</td>\n",
       "      <td>0.0</td>\n",
       "      <td>115.0</td>\n",
       "      <td>185488.798371</td>\n",
       "      <td>5</td>\n",
       "      <td>5</td>\n",
       "      <td>2017</td>\n",
       "      <td>последний</td>\n",
       "      <td>0.558045</td>\n",
       "      <td>0.091650</td>\n",
       "    </tr>\n",
       "  </tbody>\n",
       "</table>\n",
       "<p>69 rows × 29 columns</p>\n",
       "</div>"
      ],
      "text/plain": [
       "       total_images   last_price  total_area first_day_exposition  rooms  \\\n",
       "154               1    8200000.0        80.0           2018-11-06      3   \n",
       "355              17    3600000.0        55.2           2018-07-12      2   \n",
       "464              15   66571000.0       280.3           2015-06-11      6   \n",
       "1026             20  155000000.0       310.0           2018-10-12      5   \n",
       "1053             13     550000.0        29.0           2018-02-01      1   \n",
       "...             ...          ...         ...                  ...    ...   \n",
       "21923            10  115490000.0       235.0           2017-04-09      5   \n",
       "22055             2    8550000.0        75.1           2017-08-09      3   \n",
       "22309            20    5300000.0        45.0           2017-09-30      1   \n",
       "22336            19    9999000.0        92.4           2019-04-05      2   \n",
       "22494             7   91075000.0       491.0           2017-05-27      5   \n",
       "\n",
       "       ceiling_height  floors_total  living_area  floor  is_apartment  ...  \\\n",
       "154              4.15           3.0         44.2      2         False  ...   \n",
       "355             25.00           5.0         32.0      2         False  ...   \n",
       "464              5.20           8.0        159.5      7         False  ...   \n",
       "1026             5.30           3.0        190.0      3         False  ...   \n",
       "1053             5.00           3.0          NaN      1         False  ...   \n",
       "...               ...           ...          ...    ...           ...  ...   \n",
       "21923            4.90           5.0        140.0      5         False  ...   \n",
       "22055            4.20           6.0         52.5      3         False  ...   \n",
       "22309           10.30          16.0         15.5     15         False  ...   \n",
       "22336           32.00           6.0         55.5      5         False  ...   \n",
       "22494            4.20           9.0        274.0      9         False  ...   \n",
       "\n",
       "       ponds_around3000  ponds_nearest  days_exposition  price_per_sq_meter  \\\n",
       "154                 1.0          838.0             38.0       102500.000000   \n",
       "355                 0.0            0.0            259.0        65217.391304   \n",
       "464                 1.0          616.0            578.0       237499.108098   \n",
       "1026                1.0          603.0              NaN       500000.000000   \n",
       "1053                0.0            0.0              6.0        18965.517241   \n",
       "...                 ...            ...              ...                 ...   \n",
       "21923               3.0          253.0            351.0       491446.808511   \n",
       "22055               0.0            0.0            477.0       113848.202397   \n",
       "22309               2.0          450.0            136.0       117777.777778   \n",
       "22336               3.0          511.0              NaN       108214.285714   \n",
       "22494               0.0            0.0            115.0       185488.798371   \n",
       "\n",
       "      week_day_exposition  month_day_exposition  year_day_exposition  \\\n",
       "154                     1                    11                 2018   \n",
       "355                     3                     7                 2018   \n",
       "464                     3                     6                 2015   \n",
       "1026                    4                    10                 2018   \n",
       "1053                    3                     2                 2018   \n",
       "...                   ...                   ...                  ...   \n",
       "21923                   6                     4                 2017   \n",
       "22055                   2                     8                 2017   \n",
       "22309                   5                     9                 2017   \n",
       "22336                   4                     4                 2019   \n",
       "22494                   5                     5                 2017   \n",
       "\n",
       "       floor_category  living_area_ratio  kitchen_area_ratio  \n",
       "154            другой           0.552500            0.152500  \n",
       "355            другой           0.579710                 NaN  \n",
       "464            другой           0.569033            0.075276  \n",
       "1026        последний           0.612903            0.203226  \n",
       "1053           первый                NaN                 NaN  \n",
       "...               ...                ...                 ...  \n",
       "21923       последний           0.595745            0.212766  \n",
       "22055          другой           0.699068            0.106525  \n",
       "22309          другой           0.344444                 NaN  \n",
       "22336          другой           0.600649            0.178571  \n",
       "22494       последний           0.558045            0.091650  \n",
       "\n",
       "[69 rows x 29 columns]"
      ]
     },
     "execution_count": 28,
     "metadata": {},
     "output_type": "execute_result"
    }
   ],
   "source": [
    "df[df['ceiling_height'] > 4] #видим что аномальных значений по потолкам очень немного - 75 строк. "
   ]
  },
  {
   "cell_type": "code",
   "execution_count": 29,
   "metadata": {},
   "outputs": [],
   "source": [
    "df = df[df['ceiling_height'] <= 4]"
   ]
  },
  {
   "cell_type": "markdown",
   "metadata": {},
   "source": [
    "#### Аномальные значения. Столбец \"rooms\""
   ]
  },
  {
   "cell_type": "code",
   "execution_count": 30,
   "metadata": {
    "scrolled": false
   },
   "outputs": [
    {
     "data": {
      "text/plain": [
       "<matplotlib.axes._subplots.AxesSubplot at 0x7f049b8553d0>"
      ]
     },
     "execution_count": 30,
     "metadata": {},
     "output_type": "execute_result"
    },
    {
     "data": {
      "image/png": "[encoded data removed]",
      "text/plain": [
       "<Figure size 432x288 with 1 Axes>"
      ]
     },
     "metadata": {
      "needs_background": "light"
     },
     "output_type": "display_data"
    }
   ],
   "source": [
    "df.boxplot(column='rooms')#аномальными и редкими тут являюся значения где комнат больше 8, на мой взгляд. \n",
    "#предлагаю редкие значения убрать из статистики, что бы нам не портили картину.\n"
   ]
  },
  {
   "cell_type": "code",
   "execution_count": 31,
   "metadata": {},
   "outputs": [],
   "source": [
    "df = df[df['rooms'] <= 8]#почистим датасет"
   ]
  },
  {
   "cell_type": "markdown",
   "metadata": {},
   "source": [
    "#### Аномальные значения. Столбец \"total_area\""
   ]
  },
  {
   "cell_type": "code",
   "execution_count": 32,
   "metadata": {
    "scrolled": false
   },
   "outputs": [
    {
     "data": {
      "text/plain": [
       "<matplotlib.axes._subplots.AxesSubplot at 0x7f049b7b00d0>"
      ]
     },
     "execution_count": 32,
     "metadata": {},
     "output_type": "execute_result"
    },
    {
     "data": {
      "image/png": "[encoded data removed]",
      "text/plain": [
       "<Figure size 432x288 with 1 Axes>"
      ]
     },
     "metadata": {
      "needs_background": "light"
     },
     "output_type": "display_data"
    }
   ],
   "source": [
    "df.boxplot(column='total_area') #значения,сильно отличающиеся от среднего значения по датасету - свыше 300"
   ]
  },
  {
   "cell_type": "code",
   "execution_count": 33,
   "metadata": {},
   "outputs": [],
   "source": [
    "df = df[df['total_area'] < 300]"
   ]
  },
  {
   "cell_type": "code",
   "execution_count": 34,
   "metadata": {},
   "outputs": [],
   "source": [
    "#выровняем индексы по датасету\n",
    "df = df.reset_index(drop=True)"
   ]
  },
  {
   "cell_type": "code",
   "execution_count": 35,
   "metadata": {},
   "outputs": [
    {
     "name": "stdout",
     "output_type": "stream",
     "text": [
      "<class 'pandas.core.frame.DataFrame'>\n",
      "RangeIndex: 23699 entries, 0 to 23698\n",
      "Data columns (total 22 columns):\n",
      "total_images            23699 non-null int64\n",
      "last_price              23699 non-null float64\n",
      "total_area              23699 non-null float64\n",
      "first_day_exposition    23699 non-null object\n",
      "rooms                   23699 non-null int64\n",
      "ceiling_height          14504 non-null float64\n",
      "floors_total            23613 non-null float64\n",
      "living_area             21796 non-null float64\n",
      "floor                   23699 non-null int64\n",
      "is_apartment            2775 non-null object\n",
      "studio                  23699 non-null bool\n",
      "open_plan               23699 non-null bool\n",
      "kitchen_area            21421 non-null float64\n",
      "balcony                 12180 non-null float64\n",
      "locality_name           23650 non-null object\n",
      "airports_nearest        18157 non-null float64\n",
      "cityCenters_nearest     18180 non-null float64\n",
      "parks_around3000        18181 non-null float64\n",
      "parks_nearest           8079 non-null float64\n",
      "ponds_around3000        18181 non-null float64\n",
      "ponds_nearest           9110 non-null float64\n",
      "days_exposition         20518 non-null float64\n",
      "dtypes: bool(2), float64(14), int64(3), object(3)\n",
      "memory usage: 3.7+ MB\n"
     ]
    }
   ],
   "source": [
    "pd.read_csv('/datasets/real_estate_data.csv', sep='\\t').info()#датасет до изменений"
   ]
  },
  {
   "cell_type": "code",
   "execution_count": 36,
   "metadata": {},
   "outputs": [
    {
     "name": "stdout",
     "output_type": "stream",
     "text": [
      "<class 'pandas.core.frame.DataFrame'>\n",
      "RangeIndex: 23462 entries, 0 to 23461\n",
      "Data columns (total 29 columns):\n",
      "total_images            23462 non-null int64\n",
      "last_price              23462 non-null float64\n",
      "total_area              23462 non-null float64\n",
      "first_day_exposition    23462 non-null datetime64[ns]\n",
      "rooms                   23462 non-null int64\n",
      "ceiling_height          23462 non-null float64\n",
      "floors_total            23462 non-null float64\n",
      "living_area             21591 non-null float64\n",
      "floor                   23462 non-null int64\n",
      "is_apartment            23462 non-null bool\n",
      "studio                  23462 non-null bool\n",
      "open_plan               23462 non-null bool\n",
      "kitchen_area            21234 non-null float64\n",
      "balcony                 23462 non-null int64\n",
      "locality_name           23462 non-null object\n",
      "airports_nearest        23462 non-null float64\n",
      "cityCenters_nearest     23462 non-null float64\n",
      "parks_around3000        23462 non-null float64\n",
      "parks_nearest           23462 non-null float64\n",
      "ponds_around3000        23462 non-null float64\n",
      "ponds_nearest           23462 non-null float64\n",
      "days_exposition         20325 non-null float64\n",
      "price_per_sq_meter      23462 non-null float64\n",
      "week_day_exposition     23462 non-null int64\n",
      "month_day_exposition    23462 non-null int64\n",
      "year_day_exposition     23462 non-null int64\n",
      "floor_category          23462 non-null object\n",
      "living_area_ratio       21591 non-null float64\n",
      "kitchen_area_ratio      21234 non-null float64\n",
      "dtypes: bool(3), datetime64[ns](1), float64(16), int64(7), object(2)\n",
      "memory usage: 4.7+ MB\n"
     ]
    }
   ],
   "source": [
    "df.info()#датасет после изменений"
   ]
  },
  {
   "cell_type": "markdown",
   "metadata": {},
   "source": [
    "## Поиск зависимости цен на недвижимость от других показателей."
   ]
  },
  {
   "cell_type": "markdown",
   "metadata": {},
   "source": [
    "### Зависимость цены от площади квартиры"
   ]
  },
  {
   "cell_type": "code",
   "execution_count": 37,
   "metadata": {
    "scrolled": true
   },
   "outputs": [
    {
     "data": {
      "text/plain": [
       "0.6729086280279196"
      ]
     },
     "execution_count": 37,
     "metadata": {},
     "output_type": "execute_result"
    },
    {
     "data": {
      "image/png": "[encoded data removed]",
      "text/plain": [
       "<Figure size 432x288 with 1 Axes>"
      ]
     },
     "metadata": {
      "needs_background": "light"
     },
     "output_type": "display_data"
    }
   ],
   "source": [
    "df.plot(x='total_area', y='last_price', kind='scatter')\n",
    "df['last_price'].corr(df['total_area'])#достаточно высокая корреляция. что в принципе видно на графике"
   ]
  },
  {
   "cell_type": "markdown",
   "metadata": {},
   "source": [
    "Видим, что наблюдается прямая зависимость цены от площади квартиры. Чем больше площадь квартиры, тем дороже она становится."
   ]
  },
  {
   "cell_type": "markdown",
   "metadata": {},
   "source": [
    "### Зависимость цены от количества комнат в квартире"
   ]
  },
  {
   "cell_type": "code",
   "execution_count": 38,
   "metadata": {
    "scrolled": true
   },
   "outputs": [
    {
     "data": {
      "text/plain": [
       "0.39090497342351216"
      ]
     },
     "execution_count": 38,
     "metadata": {},
     "output_type": "execute_result"
    },
    {
     "data": {
      "image/png": "[encoded data removed]",
      "text/plain": [
       "<Figure size 432x288 with 1 Axes>"
      ]
     },
     "metadata": {
      "needs_background": "light"
     },
     "output_type": "display_data"
    }
   ],
   "source": [
    "df.pivot_table(index='rooms', values='last_price',aggfunc=['max', 'mean']).plot(kind='bar')\n",
    "df['last_price'].corr(df['rooms'])"
   ]
  },
  {
   "cell_type": "markdown",
   "metadata": {},
   "source": [
    "Диаграмма по максимальным значениям показывает,что самая дорогая квартира из нашего датасета это та, которая имеет три комнаты. \n",
    "\n",
    "Однако если брать средние значения по группам, то мы видимо что наблюдается прямая зависимость от количества комнат и цены на квартиру: чем больше комнат(а значит и площадь), тем дороже такая квартира будет стоить.\n",
    "\n",
    "Квартиры с тремя комнатами имеют очень большой интервал значений. Предполагаю, что на цену квартиры влияют еще другие показатели. Рассмотрим их далее."
   ]
  },
  {
   "cell_type": "markdown",
   "metadata": {},
   "source": [
    "### Зависимость цены от этажа размещения квартиры."
   ]
  },
  {
   "cell_type": "code",
   "execution_count": 39,
   "metadata": {
    "scrolled": true
   },
   "outputs": [
    {
     "data": {
      "text/plain": [
       "<matplotlib.axes._subplots.AxesSubplot at 0x7f049b617750>"
      ]
     },
     "execution_count": 39,
     "metadata": {},
     "output_type": "execute_result"
    },
    {
     "data": {
      "image/png": "[encoded data removed]",
      "text/plain": [
       "<Figure size 432x288 with 1 Axes>"
      ]
     },
     "metadata": {
      "needs_background": "light"
     },
     "output_type": "display_data"
    }
   ],
   "source": [
    "df.pivot_table(index='floor_category', values='last_price', aggfunc=['mean']).plot(kind='bar')"
   ]
  },
  {
   "cell_type": "markdown",
   "metadata": {},
   "source": [
    "В среднем,квартиры ,размещенные на первом этаже, стоят дешевле, чем квартиры на последних этажах. Самими дорогими будут квартиры, этаж который отличен от первого и последнего."
   ]
  },
  {
   "cell_type": "markdown",
   "metadata": {},
   "source": [
    "### Зависимость цены квартиры от удаленности от центра."
   ]
  },
  {
   "cell_type": "code",
   "execution_count": 40,
   "metadata": {
    "scrolled": false
   },
   "outputs": [
    {
     "data": {
      "text/plain": [
       "<matplotlib.axes._subplots.AxesSubplot at 0x7f049b617b90>"
      ]
     },
     "execution_count": 40,
     "metadata": {},
     "output_type": "execute_result"
    },
    {
     "data": {
      "image/png": "[encoded data removed]",
      "text/plain": [
       "<Figure size 432x288 with 1 Axes>"
      ]
     },
     "metadata": {
      "needs_background": "light"
     },
     "output_type": "display_data"
    }
   ],
   "source": [
    "df.plot(x='cityCenters_nearest', y='last_price', kind='scatter')"
   ]
  },
  {
   "cell_type": "markdown",
   "metadata": {},
   "source": [
    "Данные распределились более менее равномерно, однако видим, что есть скопление данных в первой части графика.\n",
    "Можно утрверждать, что самые дорогие квартиры находятся в пределах 10км от центра. Чем дальше квартиры от центра, тем сильнее они теряют в цене."
   ]
  },
  {
   "cell_type": "markdown",
   "metadata": {},
   "source": [
    "### Зависимость цен на квартиры от дня размещения"
   ]
  },
  {
   "cell_type": "code",
   "execution_count": 41,
   "metadata": {
    "scrolled": false
   },
   "outputs": [
    {
     "data": {
      "text/plain": [
       "<matplotlib.axes._subplots.AxesSubplot at 0x7f049b6f8750>"
      ]
     },
     "execution_count": 41,
     "metadata": {},
     "output_type": "execute_result"
    },
    {
     "data": {
      "image/png": "[encoded data removed]",
      "text/plain": [
       "<Figure size 432x288 with 1 Axes>"
      ]
     },
     "metadata": {
      "needs_background": "light"
     },
     "output_type": "display_data"
    }
   ],
   "source": [
    "df.pivot_table(index='week_day_exposition', values='last_price', aggfunc=['mean']).plot(kind='bar') "
   ]
  },
  {
   "cell_type": "markdown",
   "metadata": {},
   "source": [
    "На графике видно, что цена не зависит от дня размещения обьявления на платформе."
   ]
  },
  {
   "cell_type": "markdown",
   "metadata": {},
   "source": [
    "### Зависимость цен на квартиры от месяца размещения."
   ]
  },
  {
   "cell_type": "code",
   "execution_count": 42,
   "metadata": {
    "scrolled": true
   },
   "outputs": [
    {
     "data": {
      "text/plain": [
       "<matplotlib.axes._subplots.AxesSubplot at 0x7f049b5efad0>"
      ]
     },
     "execution_count": 42,
     "metadata": {},
     "output_type": "execute_result"
    },
    {
     "data": {
      "image/png": "[encoded data removed]",
      "text/plain": [
       "<Figure size 432x288 with 1 Axes>"
      ]
     },
     "metadata": {
      "needs_background": "light"
     },
     "output_type": "display_data"
    }
   ],
   "source": [
    "df.pivot_table(index='month_day_exposition', values='last_price', aggfunc=['mean']).plot(kind='bar') "
   ]
  },
  {
   "cell_type": "markdown",
   "metadata": {},
   "source": [
    "На графике видно, что цена не зависит от месяца размещения обьявления."
   ]
  },
  {
   "cell_type": "markdown",
   "metadata": {},
   "source": [
    "### Зависимость цен на квартиры от года размещения объявления."
   ]
  },
  {
   "cell_type": "code",
   "execution_count": 43,
   "metadata": {
    "scrolled": false
   },
   "outputs": [
    {
     "data": {
      "text/plain": [
       "<matplotlib.axes._subplots.AxesSubplot at 0x7f049b517b90>"
      ]
     },
     "execution_count": 43,
     "metadata": {},
     "output_type": "execute_result"
    },
    {
     "data": {
      "image/png": "[encoded data removed]",
      "text/plain": [
       "<Figure size 432x288 with 1 Axes>"
      ]
     },
     "metadata": {
      "needs_background": "light"
     },
     "output_type": "display_data"
    }
   ],
   "source": [
    "df.pivot_table(index='year_day_exposition', values='last_price', aggfunc=['mean']).plot(kind='bar') "
   ]
  },
  {
   "cell_type": "markdown",
   "metadata": {},
   "source": [
    "В 2014 году цены на квартиры в среднем были дороже, чем в последующие года. Возможно это связано с какими-то внешними факторами, которые повлияли на рынок недвижимости в целом. "
   ]
  },
  {
   "cell_type": "markdown",
   "metadata": {},
   "source": [
    "## Топ 10 населенных пунктов по количеству объявлений"
   ]
  },
  {
   "cell_type": "code",
   "execution_count": 44,
   "metadata": {
    "scrolled": true
   },
   "outputs": [
    {
     "data": {
      "text/plain": [
       "Санкт-Петербург      15563\n",
       "посёлок Мурино         520\n",
       "посёлок Шушары         440\n",
       "Всеволожск             396\n",
       "Пушкин                 366\n",
       "Колпино                336\n",
       "посёлок Парголово      327\n",
       "Гатчина                306\n",
       "деревня Кудрово        299\n",
       "Выборг                 234\n",
       "Name: locality_name, dtype: int64"
      ]
     },
     "execution_count": 44,
     "metadata": {},
     "output_type": "execute_result"
    }
   ],
   "source": [
    "top_locality_name = df['locality_name'].value_counts().head(10)# фильтруем датасет\n",
    "top_locality_name"
   ]
  },
  {
   "cell_type": "code",
   "execution_count": 45,
   "metadata": {},
   "outputs": [],
   "source": [
    "top10_locality_name = df.query('locality_name in @top_locality_name.index')#оставляем 10 лучших"
   ]
  },
  {
   "cell_type": "code",
   "execution_count": 46,
   "metadata": {
    "scrolled": true
   },
   "outputs": [
    {
     "data": {
      "text/plain": [
       "locality_name\n",
       "Выборг                57934.422615\n",
       "Всеволожск            68654.218079\n",
       "Гатчина               68757.678644\n",
       "Колпино               75185.478229\n",
       "посёлок Шушары        78677.364217\n",
       "посёлок Мурино        85725.241381\n",
       "посёлок Парголово     90175.913458\n",
       "деревня Кудрово       92473.547576\n",
       "Пушкин               103063.039015\n",
       "Санкт-Петербург      114100.932702\n",
       "Name: price_per_sq_meter, dtype: float64"
      ]
     },
     "execution_count": 46,
     "metadata": {},
     "output_type": "execute_result"
    }
   ],
   "source": [
    "top10_locality_name.groupby('locality_name')['price_per_sq_meter'].agg('mean').sort_values()"
   ]
  },
  {
   "cell_type": "markdown",
   "metadata": {},
   "source": [
    "Из представленной таблицы становится ясно, что самая высокая стоимость жилья - в Санкт-Петербурге, а самая низкая - в Выборге.\n"
   ]
  },
  {
   "cell_type": "markdown",
   "metadata": {},
   "source": [
    "## Цены на жилую недвижимость в Санкт - Петербурге"
   ]
  },
  {
   "cell_type": "code",
   "execution_count": 47,
   "metadata": {},
   "outputs": [
    {
     "data": {
      "text/plain": [
       "<matplotlib.axes._subplots.AxesSubplot at 0x7f049b4a7150>"
      ]
     },
     "execution_count": 47,
     "metadata": {},
     "output_type": "execute_result"
    },
    {
     "data": {
      "image/png": "[encoded data removed]",
      "text/plain": [
       "<Figure size 432x288 with 1 Axes>"
      ]
     },
     "metadata": {
      "needs_background": "light"
     },
     "output_type": "display_data"
    }
   ],
   "source": [
    "df['km_to_center'] = df['cityCenters_nearest'] / 1000 #удаленность от центра перевели в км\n",
    "df['km_to_center'] = df['km_to_center'].astype(int)#избавились от лишних цифр после запятой\n",
    "local_saint_pet = df[df['locality_name'] == 'Санкт-Петербург']# выбираем только город Питер\n",
    "local_saint_pet.groupby('km_to_center')['last_price'].mean().plot(kind='line')# строим график"
   ]
  },
  {
   "cell_type": "markdown",
   "metadata": {},
   "source": [
    " На графике зависимости цены от удаленности от центра видно, что после 5ого километра цена на квартиры начинает резко падать. Можем предположить, что это и есть центральная зона , радиусом в 5 км.\n",
    " \n",
    " Далее, произведем фильтрацию по датасету, выберем только те строки, где значение удаленности от центра не превышает 5км."
   ]
  },
  {
   "cell_type": "code",
   "execution_count": 48,
   "metadata": {},
   "outputs": [
    {
     "data": {
      "text/html": [
       "<div>\n",
       "<style scoped>\n",
       "    .dataframe tbody tr th:only-of-type {\n",
       "        vertical-align: middle;\n",
       "    }\n",
       "\n",
       "    .dataframe tbody tr th {\n",
       "        vertical-align: top;\n",
       "    }\n",
       "\n",
       "    .dataframe thead th {\n",
       "        text-align: right;\n",
       "    }\n",
       "</style>\n",
       "<table border=\"1\" class=\"dataframe\">\n",
       "  <thead>\n",
       "    <tr style=\"text-align: right;\">\n",
       "      <th></th>\n",
       "      <th>total_images</th>\n",
       "      <th>last_price</th>\n",
       "      <th>total_area</th>\n",
       "      <th>first_day_exposition</th>\n",
       "      <th>rooms</th>\n",
       "      <th>ceiling_height</th>\n",
       "      <th>floors_total</th>\n",
       "      <th>living_area</th>\n",
       "      <th>floor</th>\n",
       "      <th>is_apartment</th>\n",
       "      <th>...</th>\n",
       "      <th>ponds_nearest</th>\n",
       "      <th>days_exposition</th>\n",
       "      <th>price_per_sq_meter</th>\n",
       "      <th>week_day_exposition</th>\n",
       "      <th>month_day_exposition</th>\n",
       "      <th>year_day_exposition</th>\n",
       "      <th>floor_category</th>\n",
       "      <th>living_area_ratio</th>\n",
       "      <th>kitchen_area_ratio</th>\n",
       "      <th>km_to_center</th>\n",
       "    </tr>\n",
       "  </thead>\n",
       "  <tbody>\n",
       "    <tr>\n",
       "      <td>24</td>\n",
       "      <td>8</td>\n",
       "      <td>6500000.0</td>\n",
       "      <td>97.20</td>\n",
       "      <td>2015-10-31</td>\n",
       "      <td>2</td>\n",
       "      <td>2.65</td>\n",
       "      <td>3.0</td>\n",
       "      <td>46.5</td>\n",
       "      <td>1</td>\n",
       "      <td>False</td>\n",
       "      <td>...</td>\n",
       "      <td>124.0</td>\n",
       "      <td>265.0</td>\n",
       "      <td>66872.427984</td>\n",
       "      <td>5</td>\n",
       "      <td>10</td>\n",
       "      <td>2015</td>\n",
       "      <td>первый</td>\n",
       "      <td>0.478395</td>\n",
       "      <td>0.201646</td>\n",
       "      <td>2</td>\n",
       "    </tr>\n",
       "    <tr>\n",
       "      <td>35</td>\n",
       "      <td>6</td>\n",
       "      <td>15500000.0</td>\n",
       "      <td>149.00</td>\n",
       "      <td>2017-06-26</td>\n",
       "      <td>5</td>\n",
       "      <td>2.65</td>\n",
       "      <td>5.0</td>\n",
       "      <td>104.0</td>\n",
       "      <td>4</td>\n",
       "      <td>False</td>\n",
       "      <td>...</td>\n",
       "      <td>779.0</td>\n",
       "      <td>644.0</td>\n",
       "      <td>104026.845638</td>\n",
       "      <td>0</td>\n",
       "      <td>6</td>\n",
       "      <td>2017</td>\n",
       "      <td>другой</td>\n",
       "      <td>0.697987</td>\n",
       "      <td>0.114094</td>\n",
       "      <td>3</td>\n",
       "    </tr>\n",
       "    <tr>\n",
       "      <td>61</td>\n",
       "      <td>18</td>\n",
       "      <td>7990000.0</td>\n",
       "      <td>74.00</td>\n",
       "      <td>2017-08-24</td>\n",
       "      <td>2</td>\n",
       "      <td>2.65</td>\n",
       "      <td>4.0</td>\n",
       "      <td>43.0</td>\n",
       "      <td>4</td>\n",
       "      <td>False</td>\n",
       "      <td>...</td>\n",
       "      <td>0.0</td>\n",
       "      <td>609.0</td>\n",
       "      <td>107972.972973</td>\n",
       "      <td>3</td>\n",
       "      <td>8</td>\n",
       "      <td>2017</td>\n",
       "      <td>последний</td>\n",
       "      <td>0.581081</td>\n",
       "      <td>0.270270</td>\n",
       "      <td>4</td>\n",
       "    </tr>\n",
       "    <tr>\n",
       "      <td>63</td>\n",
       "      <td>2</td>\n",
       "      <td>20000000.0</td>\n",
       "      <td>118.00</td>\n",
       "      <td>2018-09-11</td>\n",
       "      <td>3</td>\n",
       "      <td>3.00</td>\n",
       "      <td>9.0</td>\n",
       "      <td>68.0</td>\n",
       "      <td>7</td>\n",
       "      <td>False</td>\n",
       "      <td>...</td>\n",
       "      <td>779.0</td>\n",
       "      <td>37.0</td>\n",
       "      <td>169491.525424</td>\n",
       "      <td>1</td>\n",
       "      <td>9</td>\n",
       "      <td>2018</td>\n",
       "      <td>другой</td>\n",
       "      <td>0.576271</td>\n",
       "      <td>0.135593</td>\n",
       "      <td>4</td>\n",
       "    </tr>\n",
       "    <tr>\n",
       "      <td>81</td>\n",
       "      <td>9</td>\n",
       "      <td>10949000.0</td>\n",
       "      <td>68.00</td>\n",
       "      <td>2018-12-27</td>\n",
       "      <td>1</td>\n",
       "      <td>2.65</td>\n",
       "      <td>10.0</td>\n",
       "      <td>NaN</td>\n",
       "      <td>6</td>\n",
       "      <td>False</td>\n",
       "      <td>...</td>\n",
       "      <td>0.0</td>\n",
       "      <td>NaN</td>\n",
       "      <td>161014.705882</td>\n",
       "      <td>3</td>\n",
       "      <td>12</td>\n",
       "      <td>2018</td>\n",
       "      <td>другой</td>\n",
       "      <td>NaN</td>\n",
       "      <td>NaN</td>\n",
       "      <td>0</td>\n",
       "    </tr>\n",
       "    <tr>\n",
       "      <td>...</td>\n",
       "      <td>...</td>\n",
       "      <td>...</td>\n",
       "      <td>...</td>\n",
       "      <td>...</td>\n",
       "      <td>...</td>\n",
       "      <td>...</td>\n",
       "      <td>...</td>\n",
       "      <td>...</td>\n",
       "      <td>...</td>\n",
       "      <td>...</td>\n",
       "      <td>...</td>\n",
       "      <td>...</td>\n",
       "      <td>...</td>\n",
       "      <td>...</td>\n",
       "      <td>...</td>\n",
       "      <td>...</td>\n",
       "      <td>...</td>\n",
       "      <td>...</td>\n",
       "      <td>...</td>\n",
       "      <td>...</td>\n",
       "      <td>...</td>\n",
       "    </tr>\n",
       "    <tr>\n",
       "      <td>23411</td>\n",
       "      <td>14</td>\n",
       "      <td>10100000.0</td>\n",
       "      <td>78.00</td>\n",
       "      <td>2017-05-12</td>\n",
       "      <td>3</td>\n",
       "      <td>3.27</td>\n",
       "      <td>5.0</td>\n",
       "      <td>48.6</td>\n",
       "      <td>5</td>\n",
       "      <td>False</td>\n",
       "      <td>...</td>\n",
       "      <td>117.0</td>\n",
       "      <td>621.0</td>\n",
       "      <td>129487.179487</td>\n",
       "      <td>4</td>\n",
       "      <td>5</td>\n",
       "      <td>2017</td>\n",
       "      <td>последний</td>\n",
       "      <td>0.623077</td>\n",
       "      <td>0.105128</td>\n",
       "      <td>1</td>\n",
       "    </tr>\n",
       "    <tr>\n",
       "      <td>23427</td>\n",
       "      <td>5</td>\n",
       "      <td>9000000.0</td>\n",
       "      <td>110.00</td>\n",
       "      <td>2015-12-10</td>\n",
       "      <td>4</td>\n",
       "      <td>3.36</td>\n",
       "      <td>7.0</td>\n",
       "      <td>64.6</td>\n",
       "      <td>5</td>\n",
       "      <td>False</td>\n",
       "      <td>...</td>\n",
       "      <td>118.0</td>\n",
       "      <td>816.0</td>\n",
       "      <td>81818.181818</td>\n",
       "      <td>3</td>\n",
       "      <td>12</td>\n",
       "      <td>2015</td>\n",
       "      <td>другой</td>\n",
       "      <td>0.587273</td>\n",
       "      <td>0.143636</td>\n",
       "      <td>5</td>\n",
       "    </tr>\n",
       "    <tr>\n",
       "      <td>23428</td>\n",
       "      <td>11</td>\n",
       "      <td>4250000.0</td>\n",
       "      <td>47.00</td>\n",
       "      <td>2016-05-20</td>\n",
       "      <td>1</td>\n",
       "      <td>2.65</td>\n",
       "      <td>6.0</td>\n",
       "      <td>18.2</td>\n",
       "      <td>1</td>\n",
       "      <td>False</td>\n",
       "      <td>...</td>\n",
       "      <td>519.0</td>\n",
       "      <td>131.0</td>\n",
       "      <td>90425.531915</td>\n",
       "      <td>4</td>\n",
       "      <td>5</td>\n",
       "      <td>2016</td>\n",
       "      <td>первый</td>\n",
       "      <td>0.387234</td>\n",
       "      <td>0.310638</td>\n",
       "      <td>4</td>\n",
       "    </tr>\n",
       "    <tr>\n",
       "      <td>23454</td>\n",
       "      <td>11</td>\n",
       "      <td>9470000.0</td>\n",
       "      <td>72.90</td>\n",
       "      <td>2016-10-13</td>\n",
       "      <td>2</td>\n",
       "      <td>2.75</td>\n",
       "      <td>25.0</td>\n",
       "      <td>40.3</td>\n",
       "      <td>7</td>\n",
       "      <td>False</td>\n",
       "      <td>...</td>\n",
       "      <td>806.0</td>\n",
       "      <td>519.0</td>\n",
       "      <td>129903.978052</td>\n",
       "      <td>3</td>\n",
       "      <td>10</td>\n",
       "      <td>2016</td>\n",
       "      <td>другой</td>\n",
       "      <td>0.552812</td>\n",
       "      <td>0.145405</td>\n",
       "      <td>4</td>\n",
       "    </tr>\n",
       "    <tr>\n",
       "      <td>23457</td>\n",
       "      <td>9</td>\n",
       "      <td>9700000.0</td>\n",
       "      <td>133.81</td>\n",
       "      <td>2017-03-21</td>\n",
       "      <td>3</td>\n",
       "      <td>3.70</td>\n",
       "      <td>5.0</td>\n",
       "      <td>73.3</td>\n",
       "      <td>3</td>\n",
       "      <td>False</td>\n",
       "      <td>...</td>\n",
       "      <td>381.0</td>\n",
       "      <td>NaN</td>\n",
       "      <td>72490.845228</td>\n",
       "      <td>1</td>\n",
       "      <td>3</td>\n",
       "      <td>2017</td>\n",
       "      <td>другой</td>\n",
       "      <td>0.547792</td>\n",
       "      <td>0.103356</td>\n",
       "      <td>4</td>\n",
       "    </tr>\n",
       "  </tbody>\n",
       "</table>\n",
       "<p>2805 rows × 30 columns</p>\n",
       "</div>"
      ],
      "text/plain": [
       "       total_images  last_price  total_area first_day_exposition  rooms  \\\n",
       "24                8   6500000.0       97.20           2015-10-31      2   \n",
       "35                6  15500000.0      149.00           2017-06-26      5   \n",
       "61               18   7990000.0       74.00           2017-08-24      2   \n",
       "63                2  20000000.0      118.00           2018-09-11      3   \n",
       "81                9  10949000.0       68.00           2018-12-27      1   \n",
       "...             ...         ...         ...                  ...    ...   \n",
       "23411            14  10100000.0       78.00           2017-05-12      3   \n",
       "23427             5   9000000.0      110.00           2015-12-10      4   \n",
       "23428            11   4250000.0       47.00           2016-05-20      1   \n",
       "23454            11   9470000.0       72.90           2016-10-13      2   \n",
       "23457             9   9700000.0      133.81           2017-03-21      3   \n",
       "\n",
       "       ceiling_height  floors_total  living_area  floor  is_apartment  ...  \\\n",
       "24               2.65           3.0         46.5      1         False  ...   \n",
       "35               2.65           5.0        104.0      4         False  ...   \n",
       "61               2.65           4.0         43.0      4         False  ...   \n",
       "63               3.00           9.0         68.0      7         False  ...   \n",
       "81               2.65          10.0          NaN      6         False  ...   \n",
       "...               ...           ...          ...    ...           ...  ...   \n",
       "23411            3.27           5.0         48.6      5         False  ...   \n",
       "23427            3.36           7.0         64.6      5         False  ...   \n",
       "23428            2.65           6.0         18.2      1         False  ...   \n",
       "23454            2.75          25.0         40.3      7         False  ...   \n",
       "23457            3.70           5.0         73.3      3         False  ...   \n",
       "\n",
       "       ponds_nearest  days_exposition  price_per_sq_meter  \\\n",
       "24             124.0            265.0        66872.427984   \n",
       "35             779.0            644.0       104026.845638   \n",
       "61               0.0            609.0       107972.972973   \n",
       "63             779.0             37.0       169491.525424   \n",
       "81               0.0              NaN       161014.705882   \n",
       "...              ...              ...                 ...   \n",
       "23411          117.0            621.0       129487.179487   \n",
       "23427          118.0            816.0        81818.181818   \n",
       "23428          519.0            131.0        90425.531915   \n",
       "23454          806.0            519.0       129903.978052   \n",
       "23457          381.0              NaN        72490.845228   \n",
       "\n",
       "       week_day_exposition month_day_exposition  year_day_exposition  \\\n",
       "24                       5                   10                 2015   \n",
       "35                       0                    6                 2017   \n",
       "61                       3                    8                 2017   \n",
       "63                       1                    9                 2018   \n",
       "81                       3                   12                 2018   \n",
       "...                    ...                  ...                  ...   \n",
       "23411                    4                    5                 2017   \n",
       "23427                    3                   12                 2015   \n",
       "23428                    4                    5                 2016   \n",
       "23454                    3                   10                 2016   \n",
       "23457                    1                    3                 2017   \n",
       "\n",
       "       floor_category  living_area_ratio  kitchen_area_ratio  km_to_center  \n",
       "24             первый           0.478395            0.201646             2  \n",
       "35             другой           0.697987            0.114094             3  \n",
       "61          последний           0.581081            0.270270             4  \n",
       "63             другой           0.576271            0.135593             4  \n",
       "81             другой                NaN                 NaN             0  \n",
       "...               ...                ...                 ...           ...  \n",
       "23411       последний           0.623077            0.105128             1  \n",
       "23427          другой           0.587273            0.143636             5  \n",
       "23428          первый           0.387234            0.310638             4  \n",
       "23454          другой           0.552812            0.145405             4  \n",
       "23457          другой           0.547792            0.103356             4  \n",
       "\n",
       "[2805 rows x 30 columns]"
      ]
     },
     "execution_count": 48,
     "metadata": {},
     "output_type": "execute_result"
    }
   ],
   "source": [
    "local_saint_pet = local_saint_pet[local_saint_pet['km_to_center'] <=5]\n",
    "local_saint_pet"
   ]
  },
  {
   "cell_type": "markdown",
   "metadata": {},
   "source": [
    "Сформируем таблицу только с данными, по которым нам нужно обнаружить зависимость с ценой."
   ]
  },
  {
   "cell_type": "code",
   "execution_count": 49,
   "metadata": {},
   "outputs": [
    {
     "data": {
      "text/html": [
       "<div>\n",
       "<style scoped>\n",
       "    .dataframe tbody tr th:only-of-type {\n",
       "        vertical-align: middle;\n",
       "    }\n",
       "\n",
       "    .dataframe tbody tr th {\n",
       "        vertical-align: top;\n",
       "    }\n",
       "\n",
       "    .dataframe thead th {\n",
       "        text-align: right;\n",
       "    }\n",
       "</style>\n",
       "<table border=\"1\" class=\"dataframe\">\n",
       "  <thead>\n",
       "    <tr style=\"text-align: right;\">\n",
       "      <th></th>\n",
       "      <th>total_area</th>\n",
       "      <th>last_price</th>\n",
       "      <th>rooms</th>\n",
       "      <th>ceiling_height</th>\n",
       "      <th>floor_category</th>\n",
       "      <th>km_to_center</th>\n",
       "      <th>first_day_exposition</th>\n",
       "      <th>week_day_exposition</th>\n",
       "      <th>month_day_exposition</th>\n",
       "      <th>year_day_exposition</th>\n",
       "    </tr>\n",
       "  </thead>\n",
       "  <tbody>\n",
       "    <tr>\n",
       "      <td>24</td>\n",
       "      <td>97.20</td>\n",
       "      <td>6500000.0</td>\n",
       "      <td>2</td>\n",
       "      <td>2.65</td>\n",
       "      <td>первый</td>\n",
       "      <td>2</td>\n",
       "      <td>2015-10-31</td>\n",
       "      <td>5</td>\n",
       "      <td>10</td>\n",
       "      <td>2015</td>\n",
       "    </tr>\n",
       "    <tr>\n",
       "      <td>35</td>\n",
       "      <td>149.00</td>\n",
       "      <td>15500000.0</td>\n",
       "      <td>5</td>\n",
       "      <td>2.65</td>\n",
       "      <td>другой</td>\n",
       "      <td>3</td>\n",
       "      <td>2017-06-26</td>\n",
       "      <td>0</td>\n",
       "      <td>6</td>\n",
       "      <td>2017</td>\n",
       "    </tr>\n",
       "    <tr>\n",
       "      <td>61</td>\n",
       "      <td>74.00</td>\n",
       "      <td>7990000.0</td>\n",
       "      <td>2</td>\n",
       "      <td>2.65</td>\n",
       "      <td>последний</td>\n",
       "      <td>4</td>\n",
       "      <td>2017-08-24</td>\n",
       "      <td>3</td>\n",
       "      <td>8</td>\n",
       "      <td>2017</td>\n",
       "    </tr>\n",
       "    <tr>\n",
       "      <td>63</td>\n",
       "      <td>118.00</td>\n",
       "      <td>20000000.0</td>\n",
       "      <td>3</td>\n",
       "      <td>3.00</td>\n",
       "      <td>другой</td>\n",
       "      <td>4</td>\n",
       "      <td>2018-09-11</td>\n",
       "      <td>1</td>\n",
       "      <td>9</td>\n",
       "      <td>2018</td>\n",
       "    </tr>\n",
       "    <tr>\n",
       "      <td>81</td>\n",
       "      <td>68.00</td>\n",
       "      <td>10949000.0</td>\n",
       "      <td>1</td>\n",
       "      <td>2.65</td>\n",
       "      <td>другой</td>\n",
       "      <td>0</td>\n",
       "      <td>2018-12-27</td>\n",
       "      <td>3</td>\n",
       "      <td>12</td>\n",
       "      <td>2018</td>\n",
       "    </tr>\n",
       "    <tr>\n",
       "      <td>...</td>\n",
       "      <td>...</td>\n",
       "      <td>...</td>\n",
       "      <td>...</td>\n",
       "      <td>...</td>\n",
       "      <td>...</td>\n",
       "      <td>...</td>\n",
       "      <td>...</td>\n",
       "      <td>...</td>\n",
       "      <td>...</td>\n",
       "      <td>...</td>\n",
       "    </tr>\n",
       "    <tr>\n",
       "      <td>23411</td>\n",
       "      <td>78.00</td>\n",
       "      <td>10100000.0</td>\n",
       "      <td>3</td>\n",
       "      <td>3.27</td>\n",
       "      <td>последний</td>\n",
       "      <td>1</td>\n",
       "      <td>2017-05-12</td>\n",
       "      <td>4</td>\n",
       "      <td>5</td>\n",
       "      <td>2017</td>\n",
       "    </tr>\n",
       "    <tr>\n",
       "      <td>23427</td>\n",
       "      <td>110.00</td>\n",
       "      <td>9000000.0</td>\n",
       "      <td>4</td>\n",
       "      <td>3.36</td>\n",
       "      <td>другой</td>\n",
       "      <td>5</td>\n",
       "      <td>2015-12-10</td>\n",
       "      <td>3</td>\n",
       "      <td>12</td>\n",
       "      <td>2015</td>\n",
       "    </tr>\n",
       "    <tr>\n",
       "      <td>23428</td>\n",
       "      <td>47.00</td>\n",
       "      <td>4250000.0</td>\n",
       "      <td>1</td>\n",
       "      <td>2.65</td>\n",
       "      <td>первый</td>\n",
       "      <td>4</td>\n",
       "      <td>2016-05-20</td>\n",
       "      <td>4</td>\n",
       "      <td>5</td>\n",
       "      <td>2016</td>\n",
       "    </tr>\n",
       "    <tr>\n",
       "      <td>23454</td>\n",
       "      <td>72.90</td>\n",
       "      <td>9470000.0</td>\n",
       "      <td>2</td>\n",
       "      <td>2.75</td>\n",
       "      <td>другой</td>\n",
       "      <td>4</td>\n",
       "      <td>2016-10-13</td>\n",
       "      <td>3</td>\n",
       "      <td>10</td>\n",
       "      <td>2016</td>\n",
       "    </tr>\n",
       "    <tr>\n",
       "      <td>23457</td>\n",
       "      <td>133.81</td>\n",
       "      <td>9700000.0</td>\n",
       "      <td>3</td>\n",
       "      <td>3.70</td>\n",
       "      <td>другой</td>\n",
       "      <td>4</td>\n",
       "      <td>2017-03-21</td>\n",
       "      <td>1</td>\n",
       "      <td>3</td>\n",
       "      <td>2017</td>\n",
       "    </tr>\n",
       "  </tbody>\n",
       "</table>\n",
       "<p>2805 rows × 10 columns</p>\n",
       "</div>"
      ],
      "text/plain": [
       "       total_area  last_price  rooms  ceiling_height floor_category  \\\n",
       "24          97.20   6500000.0      2            2.65         первый   \n",
       "35         149.00  15500000.0      5            2.65         другой   \n",
       "61          74.00   7990000.0      2            2.65      последний   \n",
       "63         118.00  20000000.0      3            3.00         другой   \n",
       "81          68.00  10949000.0      1            2.65         другой   \n",
       "...           ...         ...    ...             ...            ...   \n",
       "23411       78.00  10100000.0      3            3.27      последний   \n",
       "23427      110.00   9000000.0      4            3.36         другой   \n",
       "23428       47.00   4250000.0      1            2.65         первый   \n",
       "23454       72.90   9470000.0      2            2.75         другой   \n",
       "23457      133.81   9700000.0      3            3.70         другой   \n",
       "\n",
       "       km_to_center first_day_exposition  week_day_exposition  \\\n",
       "24                2           2015-10-31                    5   \n",
       "35                3           2017-06-26                    0   \n",
       "61                4           2017-08-24                    3   \n",
       "63                4           2018-09-11                    1   \n",
       "81                0           2018-12-27                    3   \n",
       "...             ...                  ...                  ...   \n",
       "23411             1           2017-05-12                    4   \n",
       "23427             5           2015-12-10                    3   \n",
       "23428             4           2016-05-20                    4   \n",
       "23454             4           2016-10-13                    3   \n",
       "23457             4           2017-03-21                    1   \n",
       "\n",
       "       month_day_exposition  year_day_exposition  \n",
       "24                       10                 2015  \n",
       "35                        6                 2017  \n",
       "61                        8                 2017  \n",
       "63                        9                 2018  \n",
       "81                       12                 2018  \n",
       "...                     ...                  ...  \n",
       "23411                     5                 2017  \n",
       "23427                    12                 2015  \n",
       "23428                     5                 2016  \n",
       "23454                    10                 2016  \n",
       "23457                     3                 2017  \n",
       "\n",
       "[2805 rows x 10 columns]"
      ]
     },
     "execution_count": 49,
     "metadata": {},
     "output_type": "execute_result"
    }
   ],
   "source": [
    "segment_center = local_saint_pet[[\n",
    "    'total_area', 'last_price', 'rooms', \n",
    "    'ceiling_height', 'floor_category', 'km_to_center', 'first_day_exposition', 'week_day_exposition', \n",
    "    'month_day_exposition', 'year_day_exposition'\n",
    "]]\n",
    "\n",
    "segment_center"
   ]
  },
  {
   "cell_type": "markdown",
   "metadata": {},
   "source": [
    "### Зависимость цены  от этажа размещения квартиры."
   ]
  },
  {
   "cell_type": "code",
   "execution_count": 50,
   "metadata": {
    "scrolled": false
   },
   "outputs": [
    {
     "data": {
      "text/plain": [
       "<matplotlib.axes._subplots.AxesSubplot at 0x7f049b48ab10>"
      ]
     },
     "execution_count": 50,
     "metadata": {},
     "output_type": "execute_result"
    },
    {
     "data": {
      "image/png": "[encoded data removed]",
      "text/plain": [
       "<Figure size 432x288 with 1 Axes>"
      ]
     },
     "metadata": {
      "needs_background": "light"
     },
     "output_type": "display_data"
    }
   ],
   "source": [
    "segment_center.groupby('floor_category')['last_price'].mean().plot(kind='bar')"
   ]
  },
  {
   "cell_type": "markdown",
   "metadata": {},
   "source": [
    "Видим, что в целом, график не поменялся. То есть, цены в центре Санкт-Петербурга так же зависят от этажа размещения, как и цены по остальным населенным пунктам.\n",
    "\n",
    "Дешеле будет купить квартиру на первом этаже. \n",
    "\n",
    "Квартира, находящаяся на этаже, отличном от первого и последнего, обойдется значительно дороже."
   ]
  },
  {
   "cell_type": "markdown",
   "metadata": {},
   "source": [
    "### Зависимость цены  от количества комнат в квартире."
   ]
  },
  {
   "cell_type": "code",
   "execution_count": 51,
   "metadata": {
    "scrolled": false
   },
   "outputs": [
    {
     "data": {
      "text/plain": [
       "<matplotlib.axes._subplots.AxesSubplot at 0x7f049b400bd0>"
      ]
     },
     "execution_count": 51,
     "metadata": {},
     "output_type": "execute_result"
    },
    {
     "data": {
      "image/png": "[encoded data removed]",
      "text/plain": [
       "<Figure size 432x288 with 1 Axes>"
      ]
     },
     "metadata": {
      "needs_background": "light"
     },
     "output_type": "display_data"
    }
   ],
   "source": [
    "segment_center.pivot_table(index='rooms', values='last_price', aggfunc=['mean'] ).plot(kind='bar')\n",
    "\n",
    "#sns.barplot(data=segment_center, x=\"rooms\", y=\"last_price\")"
   ]
  },
  {
   "cell_type": "markdown",
   "metadata": {},
   "source": [
    "На графике видна прямая зависимость цен на недвижимость и количеством комнат в ней.\n",
    "Что не удивительно, ведь чаще всего увеличение количества комнат предполагает увеличение площади квартиры. А площадь напрямую коррелирует с ценой."
   ]
  },
  {
   "cell_type": "markdown",
   "metadata": {},
   "source": [
    "### Зависимость цены  от удаленности от центра."
   ]
  },
  {
   "cell_type": "code",
   "execution_count": 52,
   "metadata": {
    "scrolled": false
   },
   "outputs": [
    {
     "data": {
      "text/plain": [
       "<matplotlib.axes._subplots.AxesSubplot at 0x7f049b40a390>"
      ]
     },
     "execution_count": 52,
     "metadata": {},
     "output_type": "execute_result"
    },
    {
     "data": {
      "image/png": "[encoded data removed]",
      "text/plain": [
       "<Figure size 432x288 with 1 Axes>"
      ]
     },
     "metadata": {
      "needs_background": "light"
     },
     "output_type": "display_data"
    }
   ],
   "source": [
    "segment_center.groupby('km_to_center')['last_price'].mean().plot(kind='bar')"
   ]
  },
  {
   "cell_type": "markdown",
   "metadata": {},
   "source": [
    "Видим, что самые дорогие квартиры размещены в центре. По мере удаленности от центра, цена на квартиру падает."
   ]
  },
  {
   "cell_type": "markdown",
   "metadata": {},
   "source": [
    "### Зависимость цены  от даты размещения объявления"
   ]
  },
  {
   "cell_type": "code",
   "execution_count": 53,
   "metadata": {
    "scrolled": true
   },
   "outputs": [
    {
     "data": {
      "text/plain": [
       "<matplotlib.axes._subplots.AxesSubplot at 0x7f049b30f990>"
      ]
     },
     "execution_count": 53,
     "metadata": {},
     "output_type": "execute_result"
    },
    {
     "data": {
      "image/png": "[encoded data removed]",
      "text/plain": [
       "<Figure size 432x288 with 1 Axes>"
      ]
     },
     "metadata": {
      "needs_background": "light"
     },
     "output_type": "display_data"
    }
   ],
   "source": [
    "segment_center.groupby('year_day_exposition')['last_price'].mean().plot(kind='bar')"
   ]
  },
  {
   "cell_type": "markdown",
   "metadata": {},
   "source": [
    "Видим, что график зависимости не отличается от того, что мы строили ранее: В 2014г в Санкт-Петербурге цены на квартиры в среднем были дороже, чем в последующие года. Что наблюдалось и при построении графика для всех локаций.\n",
    "\n",
    "Возможно это связано с какими-то внешними факторами, которые повлияли на рынок недвижимости в целом."
   ]
  },
  {
   "cell_type": "markdown",
   "metadata": {},
   "source": [
    "## Общий вывод"
   ]
  },
  {
   "cell_type": "markdown",
   "metadata": {},
   "source": [
    "В процессе обработки предоставленного датасета, было выявлено много пустот, вбросов и аномальных значений.\n",
    "\n",
    "Обработав датасет, мне удалось провести анализ данных для всех населенных пунктов, представленных в выгрузке,и в частности, для крупного города Санкт-Петербурга. Не обнаружено разницы между выводами при анализе общих данных и частных.\n",
    "\n",
    "Основываясь на предоставленные данные и графики, можно сделать выводы:\n",
    "**цена на недвижимость имеет прямую зависимость от площади недвижимости.** Чем больше площадь, тем будет больше цена.\n",
    "А так же, **цена косвенно зависит от количества комнат, этажа, на котором размещается недвижимость и удаленностью от центра.** \n",
    "\n",
    "**Не обнаружена зависимость между ценой на недвижимостью и высотой потолков, и между датой размещения объявления.**\n",
    "\n",
    "Для общего понимания картины, при покупки жилой недвижимости , необходимо **в косплексе** обращать внимание на следующие показатели: \n",
    "- площадь квартиры\n",
    "- этаж размещения\n",
    "- количество комнат\n",
    "- удаленность от центра\n",
    "\n",
    "Необходимо обратить внимание на аномалии, которые встретились в данном датасете : \n",
    "- общая площадь помещения (более 300кв.м.)\n",
    "- количество комнат(более 8 комнат)\n",
    "- высота потолков (более 4м)\n",
    "\n",
    "В данных столбцах встречалась информация, далекая от реальности. Поэтому, при рассмотрении объявлений со значениями, вызывающими у вас вопросы, стоит насторожится - возможно это мошенническая деятельность."
   ]
  }
 ],
 "metadata": {
  "ExecuteTimeLog": [
   {
    "duration": 1012,
    "start_time": "2022-02-21T09:29:04.146Z"
   },
   {
    "duration": 79,
    "start_time": "2022-02-21T09:31:29.018Z"
   },
   {
    "duration": 80,
    "start_time": "2022-02-21T09:31:58.706Z"
   },
   {
    "duration": 665,
    "start_time": "2022-02-21T09:36:31.352Z"
   },
   {
    "duration": 95,
    "start_time": "2022-02-21T09:37:03.481Z"
   },
   {
    "duration": 331,
    "start_time": "2022-02-21T09:37:12.921Z"
   },
   {
    "duration": 79,
    "start_time": "2022-02-21T09:37:47.062Z"
   },
   {
    "duration": 109,
    "start_time": "2022-02-21T09:44:01.752Z"
   },
   {
    "duration": 82,
    "start_time": "2022-02-21T09:46:12.722Z"
   },
   {
    "duration": 194,
    "start_time": "2022-02-21T09:47:33.542Z"
   },
   {
    "duration": 81,
    "start_time": "2022-02-21T09:47:45.765Z"
   },
   {
    "duration": 142,
    "start_time": "2022-02-21T09:48:56.021Z"
   },
   {
    "duration": 161,
    "start_time": "2022-02-21T09:49:31.004Z"
   },
   {
    "duration": 131,
    "start_time": "2022-02-21T09:49:54.629Z"
   },
   {
    "duration": 119,
    "start_time": "2022-02-21T09:51:38.650Z"
   },
   {
    "duration": 16,
    "start_time": "2022-02-21T09:51:53.060Z"
   },
   {
    "duration": 12,
    "start_time": "2022-02-21T10:00:57.211Z"
   },
   {
    "duration": 9,
    "start_time": "2022-02-21T10:05:27.308Z"
   },
   {
    "duration": 15,
    "start_time": "2022-02-21T10:05:52.724Z"
   },
   {
    "duration": 10,
    "start_time": "2022-02-21T10:08:51.031Z"
   },
   {
    "duration": 9,
    "start_time": "2022-02-21T10:10:38.769Z"
   },
   {
    "duration": 45,
    "start_time": "2022-02-21T10:16:08.368Z"
   },
   {
    "duration": 5,
    "start_time": "2022-02-21T10:19:14.879Z"
   },
   {
    "duration": 69,
    "start_time": "2022-02-21T10:19:58.553Z"
   },
   {
    "duration": 5,
    "start_time": "2022-02-21T10:20:16.525Z"
   },
   {
    "duration": 13,
    "start_time": "2022-02-21T10:22:32.164Z"
   },
   {
    "duration": 12,
    "start_time": "2022-02-21T10:23:41.980Z"
   },
   {
    "duration": 114,
    "start_time": "2022-02-21T10:25:13.967Z"
   },
   {
    "duration": 31,
    "start_time": "2022-02-21T10:25:14.084Z"
   },
   {
    "duration": 14,
    "start_time": "2022-02-21T10:25:15.799Z"
   },
   {
    "duration": 574,
    "start_time": "2022-02-21T10:30:03.753Z"
   },
   {
    "duration": 2050,
    "start_time": "2022-02-21T10:30:18.588Z"
   },
   {
    "duration": 21,
    "start_time": "2022-02-21T10:30:34.314Z"
   },
   {
    "duration": 19,
    "start_time": "2022-02-21T10:34:35.833Z"
   },
   {
    "duration": 13,
    "start_time": "2022-02-21T10:35:06.142Z"
   },
   {
    "duration": 17,
    "start_time": "2022-02-21T10:35:54.884Z"
   },
   {
    "duration": 153,
    "start_time": "2022-02-21T10:36:07.923Z"
   },
   {
    "duration": 5,
    "start_time": "2022-02-21T10:37:19.931Z"
   },
   {
    "duration": 7,
    "start_time": "2022-02-21T10:37:59.910Z"
   },
   {
    "duration": 444,
    "start_time": "2022-02-21T10:39:07.053Z"
   },
   {
    "duration": 6,
    "start_time": "2022-02-21T10:44:48.681Z"
   },
   {
    "duration": 11,
    "start_time": "2022-02-21T10:45:06.980Z"
   },
   {
    "duration": 487,
    "start_time": "2022-02-21T10:45:23.598Z"
   },
   {
    "duration": 10,
    "start_time": "2022-02-21T10:45:30.661Z"
   },
   {
    "duration": 12,
    "start_time": "2022-02-21T10:48:31.902Z"
   },
   {
    "duration": 6,
    "start_time": "2022-02-21T10:48:45.311Z"
   },
   {
    "duration": 174,
    "start_time": "2022-02-21T10:50:38.358Z"
   },
   {
    "duration": 10,
    "start_time": "2022-02-21T10:50:49.354Z"
   },
   {
    "duration": 70,
    "start_time": "2022-02-21T10:53:45.448Z"
   },
   {
    "duration": 12,
    "start_time": "2022-02-21T10:56:28.870Z"
   },
   {
    "duration": 121,
    "start_time": "2022-02-21T10:57:17.279Z"
   },
   {
    "duration": 24,
    "start_time": "2022-02-21T10:57:17.403Z"
   },
   {
    "duration": 13,
    "start_time": "2022-02-21T10:57:17.431Z"
   },
   {
    "duration": 73,
    "start_time": "2022-02-21T10:57:17.447Z"
   },
   {
    "duration": 8,
    "start_time": "2022-02-21T10:57:17.524Z"
   },
   {
    "duration": 7,
    "start_time": "2022-02-21T10:57:22.656Z"
   },
   {
    "duration": 19,
    "start_time": "2022-02-21T10:57:31.524Z"
   },
   {
    "duration": 23,
    "start_time": "2022-02-21T11:04:08.385Z"
   },
   {
    "duration": 23,
    "start_time": "2022-02-21T11:04:24.866Z"
   },
   {
    "duration": 24,
    "start_time": "2022-02-21T11:04:37.382Z"
   },
   {
    "duration": 34,
    "start_time": "2022-02-21T11:04:42.842Z"
   },
   {
    "duration": 58,
    "start_time": "2022-02-21T11:05:10.237Z"
   },
   {
    "duration": 15,
    "start_time": "2022-02-21T11:07:47.454Z"
   },
   {
    "duration": 5,
    "start_time": "2022-02-21T11:08:05.002Z"
   },
   {
    "duration": 646,
    "start_time": "2022-02-21T11:09:50.791Z"
   },
   {
    "duration": 361,
    "start_time": "2022-02-21T11:09:55.747Z"
   },
   {
    "duration": 13,
    "start_time": "2022-02-21T11:10:02.158Z"
   },
   {
    "duration": 56,
    "start_time": "2022-02-21T11:11:52.297Z"
   },
   {
    "duration": 7,
    "start_time": "2022-02-21T11:13:11.993Z"
   },
   {
    "duration": 53,
    "start_time": "2022-02-21T11:16:22.251Z"
   },
   {
    "duration": 22,
    "start_time": "2022-02-21T11:18:36.125Z"
   },
   {
    "duration": 12,
    "start_time": "2022-02-21T11:19:15.013Z"
   },
   {
    "duration": 57,
    "start_time": "2022-02-21T11:19:20.938Z"
   },
   {
    "duration": 7,
    "start_time": "2022-02-21T11:22:49.078Z"
   },
   {
    "duration": 18,
    "start_time": "2022-02-21T11:23:08.764Z"
   },
   {
    "duration": 35,
    "start_time": "2022-02-21T11:25:20.098Z"
   },
   {
    "duration": 180,
    "start_time": "2022-02-21T11:25:27.229Z"
   },
   {
    "duration": 24,
    "start_time": "2022-02-21T11:25:27.412Z"
   },
   {
    "duration": 18,
    "start_time": "2022-02-21T11:25:27.440Z"
   },
   {
    "duration": 86,
    "start_time": "2022-02-21T11:25:27.462Z"
   },
   {
    "duration": 7,
    "start_time": "2022-02-21T11:25:27.552Z"
   },
   {
    "duration": 7,
    "start_time": "2022-02-21T11:25:27.562Z"
   },
   {
    "duration": 11,
    "start_time": "2022-02-21T11:25:27.572Z"
   },
   {
    "duration": 72,
    "start_time": "2022-02-21T11:25:29.206Z"
   },
   {
    "duration": 17,
    "start_time": "2022-02-21T11:29:37.543Z"
   },
   {
    "duration": 116,
    "start_time": "2022-02-21T11:29:54.501Z"
   },
   {
    "duration": 17,
    "start_time": "2022-02-21T11:29:54.621Z"
   },
   {
    "duration": 16,
    "start_time": "2022-02-21T11:29:54.643Z"
   },
   {
    "duration": 75,
    "start_time": "2022-02-21T11:29:54.663Z"
   },
   {
    "duration": 5,
    "start_time": "2022-02-21T11:29:54.741Z"
   },
   {
    "duration": 8,
    "start_time": "2022-02-21T11:29:54.749Z"
   },
   {
    "duration": 6,
    "start_time": "2022-02-21T11:29:54.759Z"
   },
   {
    "duration": 11,
    "start_time": "2022-02-21T11:29:54.768Z"
   },
   {
    "duration": 12,
    "start_time": "2022-02-21T11:29:56.605Z"
   },
   {
    "duration": 10,
    "start_time": "2022-02-21T11:30:33.465Z"
   },
   {
    "duration": 13,
    "start_time": "2022-02-21T11:31:36.127Z"
   },
   {
    "duration": 13,
    "start_time": "2022-02-21T11:31:54.312Z"
   },
   {
    "duration": 337,
    "start_time": "2022-02-21T11:38:26.186Z"
   },
   {
    "duration": 434,
    "start_time": "2022-02-21T11:38:56.304Z"
   },
   {
    "duration": 234,
    "start_time": "2022-02-21T11:39:15.759Z"
   },
   {
    "duration": 351,
    "start_time": "2022-02-21T11:39:55.386Z"
   },
   {
    "duration": 24,
    "start_time": "2022-02-21T11:40:15.205Z"
   },
   {
    "duration": 23,
    "start_time": "2022-02-21T11:41:27.362Z"
   },
   {
    "duration": 33,
    "start_time": "2022-02-21T11:46:20.705Z"
   },
   {
    "duration": 4,
    "start_time": "2022-02-21T11:58:15.003Z"
   },
   {
    "duration": 118,
    "start_time": "2022-02-21T11:59:02.798Z"
   },
   {
    "duration": 16,
    "start_time": "2022-02-21T11:59:02.919Z"
   },
   {
    "duration": 13,
    "start_time": "2022-02-21T11:59:02.938Z"
   },
   {
    "duration": 66,
    "start_time": "2022-02-21T11:59:02.955Z"
   },
   {
    "duration": 6,
    "start_time": "2022-02-21T11:59:03.025Z"
   },
   {
    "duration": 10,
    "start_time": "2022-02-21T11:59:03.034Z"
   },
   {
    "duration": 6,
    "start_time": "2022-02-21T11:59:03.048Z"
   },
   {
    "duration": 9,
    "start_time": "2022-02-21T11:59:03.057Z"
   },
   {
    "duration": 50,
    "start_time": "2022-02-21T11:59:03.069Z"
   },
   {
    "duration": 4,
    "start_time": "2022-02-21T11:59:03.123Z"
   },
   {
    "duration": 459,
    "start_time": "2022-02-21T11:59:05.529Z"
   },
   {
    "duration": 430,
    "start_time": "2022-02-21T12:00:07.412Z"
   },
   {
    "duration": 217,
    "start_time": "2022-02-21T12:02:18.647Z"
   },
   {
    "duration": 357,
    "start_time": "2022-02-21T12:06:58.702Z"
   },
   {
    "duration": 224,
    "start_time": "2022-02-21T12:07:25.564Z"
   },
   {
    "duration": 324,
    "start_time": "2022-02-21T12:07:56.252Z"
   },
   {
    "duration": 109,
    "start_time": "2022-02-21T12:12:07.481Z"
   },
   {
    "duration": 25,
    "start_time": "2022-02-21T12:12:07.594Z"
   },
   {
    "duration": 13,
    "start_time": "2022-02-21T12:12:07.622Z"
   },
   {
    "duration": 36,
    "start_time": "2022-02-21T12:12:07.639Z"
   },
   {
    "duration": 35,
    "start_time": "2022-02-21T12:12:07.678Z"
   },
   {
    "duration": 8,
    "start_time": "2022-02-21T12:12:07.716Z"
   },
   {
    "duration": 6,
    "start_time": "2022-02-21T12:12:07.727Z"
   },
   {
    "duration": 9,
    "start_time": "2022-02-21T12:12:07.736Z"
   },
   {
    "duration": 61,
    "start_time": "2022-02-21T12:12:07.750Z"
   },
   {
    "duration": 304,
    "start_time": "2022-02-21T12:13:06.291Z"
   },
   {
    "duration": 293,
    "start_time": "2022-02-21T12:13:19.608Z"
   },
   {
    "duration": 888,
    "start_time": "2022-02-22T05:22:01.672Z"
   },
   {
    "duration": 261,
    "start_time": "2022-02-22T05:22:11.182Z"
   },
   {
    "duration": 11,
    "start_time": "2022-02-22T05:22:11.445Z"
   },
   {
    "duration": 9,
    "start_time": "2022-02-22T05:22:11.458Z"
   },
   {
    "duration": 28,
    "start_time": "2022-02-22T05:22:11.469Z"
   },
   {
    "duration": 4,
    "start_time": "2022-02-22T05:22:11.519Z"
   },
   {
    "duration": 8,
    "start_time": "2022-02-22T05:22:11.525Z"
   },
   {
    "duration": 7,
    "start_time": "2022-02-22T05:22:11.534Z"
   },
   {
    "duration": 8,
    "start_time": "2022-02-22T05:22:11.543Z"
   },
   {
    "duration": 12,
    "start_time": "2022-02-22T05:22:11.553Z"
   },
   {
    "duration": 2,
    "start_time": "2022-02-22T05:22:11.567Z"
   },
   {
    "duration": 126,
    "start_time": "2022-02-22T05:22:16.239Z"
   },
   {
    "duration": 132,
    "start_time": "2022-02-22T05:23:27.702Z"
   },
   {
    "duration": 129,
    "start_time": "2022-02-22T05:23:49.391Z"
   },
   {
    "duration": 245,
    "start_time": "2022-02-22T05:25:17.492Z"
   },
   {
    "duration": 185,
    "start_time": "2022-02-22T05:25:39.077Z"
   },
   {
    "duration": 171,
    "start_time": "2022-02-22T05:25:59.476Z"
   },
   {
    "duration": 158,
    "start_time": "2022-02-22T05:26:44.193Z"
   },
   {
    "duration": 142,
    "start_time": "2022-02-22T05:29:47.949Z"
   },
   {
    "duration": 194,
    "start_time": "2022-02-22T05:31:31.167Z"
   },
   {
    "duration": 135,
    "start_time": "2022-02-22T05:35:29.136Z"
   },
   {
    "duration": 138,
    "start_time": "2022-02-22T05:36:07.773Z"
   },
   {
    "duration": 5,
    "start_time": "2022-02-22T05:36:20.446Z"
   },
   {
    "duration": 143,
    "start_time": "2022-02-22T05:40:20.618Z"
   },
   {
    "duration": 136,
    "start_time": "2022-02-22T05:40:28.949Z"
   },
   {
    "duration": 169,
    "start_time": "2022-02-22T05:40:37.421Z"
   },
   {
    "duration": 37,
    "start_time": "2022-02-22T05:42:33.955Z"
   },
   {
    "duration": 220,
    "start_time": "2022-02-22T05:51:13.211Z"
   },
   {
    "duration": 182,
    "start_time": "2022-02-22T05:51:16.893Z"
   },
   {
    "duration": 171,
    "start_time": "2022-02-22T05:51:26.306Z"
   },
   {
    "duration": 38,
    "start_time": "2022-02-22T05:52:13.224Z"
   },
   {
    "duration": 148,
    "start_time": "2022-02-22T05:58:56.441Z"
   },
   {
    "duration": 37,
    "start_time": "2022-02-22T06:00:29.694Z"
   },
   {
    "duration": 49,
    "start_time": "2022-02-22T06:01:02.203Z"
   },
   {
    "duration": 36,
    "start_time": "2022-02-22T06:03:10.451Z"
   },
   {
    "duration": 28,
    "start_time": "2022-02-22T06:08:56.780Z"
   },
   {
    "duration": 26,
    "start_time": "2022-02-22T06:09:07.359Z"
   },
   {
    "duration": 11,
    "start_time": "2022-02-22T06:09:11.070Z"
   },
   {
    "duration": 374,
    "start_time": "2022-02-22T06:09:23.160Z"
   },
   {
    "duration": 228,
    "start_time": "2022-02-22T06:11:09.384Z"
   },
   {
    "duration": 88,
    "start_time": "2022-02-22T06:11:17.588Z"
   },
   {
    "duration": 10,
    "start_time": "2022-02-22T06:11:17.678Z"
   },
   {
    "duration": 35,
    "start_time": "2022-02-22T06:11:17.690Z"
   },
   {
    "duration": 42,
    "start_time": "2022-02-22T06:11:17.727Z"
   },
   {
    "duration": 4,
    "start_time": "2022-02-22T06:11:17.770Z"
   },
   {
    "duration": 44,
    "start_time": "2022-02-22T06:11:17.776Z"
   },
   {
    "duration": 33,
    "start_time": "2022-02-22T06:11:17.822Z"
   },
   {
    "duration": 46,
    "start_time": "2022-02-22T06:11:17.857Z"
   },
   {
    "duration": 52,
    "start_time": "2022-02-22T06:11:17.905Z"
   },
   {
    "duration": 31,
    "start_time": "2022-02-22T06:11:17.959Z"
   },
   {
    "duration": 166,
    "start_time": "2022-02-22T06:11:17.992Z"
   },
   {
    "duration": 4,
    "start_time": "2022-02-22T06:11:18.160Z"
   },
   {
    "duration": 178,
    "start_time": "2022-02-22T06:11:18.166Z"
   },
   {
    "duration": 162,
    "start_time": "2022-02-22T06:11:18.346Z"
   },
   {
    "duration": 18,
    "start_time": "2022-02-22T06:11:18.511Z"
   },
   {
    "duration": 256,
    "start_time": "2022-02-22T06:11:18.531Z"
   },
   {
    "duration": 215,
    "start_time": "2022-02-22T06:11:47.975Z"
   },
   {
    "duration": 35,
    "start_time": "2022-02-22T06:22:42.795Z"
   },
   {
    "duration": 476,
    "start_time": "2022-02-22T06:26:48.071Z"
   },
   {
    "duration": 479,
    "start_time": "2022-02-22T06:26:56.394Z"
   },
   {
    "duration": 8580,
    "start_time": "2022-02-22T06:27:39.662Z"
   },
   {
    "duration": 445,
    "start_time": "2022-02-22T06:28:41.867Z"
   },
   {
    "duration": 463,
    "start_time": "2022-02-22T06:29:37.331Z"
   },
   {
    "duration": 88,
    "start_time": "2022-02-22T06:29:54.927Z"
   },
   {
    "duration": 11,
    "start_time": "2022-02-22T06:29:55.017Z"
   },
   {
    "duration": 9,
    "start_time": "2022-02-22T06:29:55.030Z"
   },
   {
    "duration": 31,
    "start_time": "2022-02-22T06:29:55.041Z"
   },
   {
    "duration": 5,
    "start_time": "2022-02-22T06:29:55.074Z"
   },
   {
    "duration": 10,
    "start_time": "2022-02-22T06:29:55.080Z"
   },
   {
    "duration": 27,
    "start_time": "2022-02-22T06:29:55.091Z"
   },
   {
    "duration": 14,
    "start_time": "2022-02-22T06:29:55.122Z"
   },
   {
    "duration": 17,
    "start_time": "2022-02-22T06:29:55.138Z"
   },
   {
    "duration": 3,
    "start_time": "2022-02-22T06:29:55.157Z"
   },
   {
    "duration": 156,
    "start_time": "2022-02-22T06:29:55.162Z"
   },
   {
    "duration": 5,
    "start_time": "2022-02-22T06:29:55.320Z"
   },
   {
    "duration": 170,
    "start_time": "2022-02-22T06:29:55.327Z"
   },
   {
    "duration": 156,
    "start_time": "2022-02-22T06:29:55.498Z"
   },
   {
    "duration": 458,
    "start_time": "2022-02-22T06:30:00.030Z"
   },
   {
    "duration": 8054,
    "start_time": "2022-02-22T06:30:35.090Z"
   },
   {
    "duration": 464,
    "start_time": "2022-02-22T06:30:46.184Z"
   },
   {
    "duration": 320,
    "start_time": "2022-02-22T06:42:06.527Z"
   },
   {
    "duration": 11,
    "start_time": "2022-02-22T06:42:37.327Z"
   },
   {
    "duration": 17,
    "start_time": "2022-02-22T06:42:52.649Z"
   },
   {
    "duration": 37,
    "start_time": "2022-02-22T06:44:50.633Z"
   },
   {
    "duration": 10,
    "start_time": "2022-02-22T06:46:24.715Z"
   },
   {
    "duration": 37,
    "start_time": "2022-02-22T06:47:58.501Z"
   },
   {
    "duration": 5,
    "start_time": "2022-02-22T06:54:07.600Z"
   },
   {
    "duration": 84,
    "start_time": "2022-02-22T06:54:24.714Z"
   },
   {
    "duration": 23,
    "start_time": "2022-02-22T06:54:24.800Z"
   },
   {
    "duration": 10,
    "start_time": "2022-02-22T06:54:24.825Z"
   },
   {
    "duration": 35,
    "start_time": "2022-02-22T06:54:24.837Z"
   },
   {
    "duration": 4,
    "start_time": "2022-02-22T06:54:24.874Z"
   },
   {
    "duration": 21,
    "start_time": "2022-02-22T06:54:24.880Z"
   },
   {
    "duration": 30,
    "start_time": "2022-02-22T06:54:24.903Z"
   },
   {
    "duration": 17,
    "start_time": "2022-02-22T06:54:24.935Z"
   },
   {
    "duration": 29,
    "start_time": "2022-02-22T06:54:24.953Z"
   },
   {
    "duration": 17,
    "start_time": "2022-02-22T06:54:24.984Z"
   },
   {
    "duration": 161,
    "start_time": "2022-02-22T06:54:25.003Z"
   },
   {
    "duration": 6,
    "start_time": "2022-02-22T06:54:25.166Z"
   },
   {
    "duration": 242,
    "start_time": "2022-02-22T06:54:25.174Z"
   },
   {
    "duration": 37,
    "start_time": "2022-02-22T06:54:28.368Z"
   },
   {
    "duration": 7,
    "start_time": "2022-02-22T06:56:00.708Z"
   },
   {
    "duration": 9,
    "start_time": "2022-02-22T06:56:10.946Z"
   },
   {
    "duration": 38,
    "start_time": "2022-02-22T07:00:41.872Z"
   },
   {
    "duration": 25,
    "start_time": "2022-02-22T07:03:57.731Z"
   },
   {
    "duration": 6,
    "start_time": "2022-02-22T07:05:58.737Z"
   },
   {
    "duration": 35,
    "start_time": "2022-02-22T07:06:16.074Z"
   },
   {
    "duration": 35,
    "start_time": "2022-02-22T07:08:01.805Z"
   },
   {
    "duration": 35,
    "start_time": "2022-02-22T07:08:43.018Z"
   },
   {
    "duration": 3,
    "start_time": "2022-02-22T07:10:05.966Z"
   },
   {
    "duration": 2,
    "start_time": "2022-02-22T07:21:25.783Z"
   },
   {
    "duration": 99,
    "start_time": "2022-02-22T07:23:46.809Z"
   },
   {
    "duration": 18,
    "start_time": "2022-02-22T07:23:46.910Z"
   },
   {
    "duration": 9,
    "start_time": "2022-02-22T07:23:46.930Z"
   },
   {
    "duration": 26,
    "start_time": "2022-02-22T07:23:46.941Z"
   },
   {
    "duration": 4,
    "start_time": "2022-02-22T07:23:46.969Z"
   },
   {
    "duration": 9,
    "start_time": "2022-02-22T07:23:46.975Z"
   },
   {
    "duration": 37,
    "start_time": "2022-02-22T07:23:46.986Z"
   },
   {
    "duration": 11,
    "start_time": "2022-02-22T07:23:47.025Z"
   },
   {
    "duration": 164,
    "start_time": "2022-02-22T07:23:47.039Z"
   },
   {
    "duration": 4,
    "start_time": "2022-02-22T07:23:47.205Z"
   },
   {
    "duration": 150,
    "start_time": "2022-02-22T07:23:47.218Z"
   },
   {
    "duration": 3,
    "start_time": "2022-02-22T07:23:47.370Z"
   },
   {
    "duration": 21,
    "start_time": "2022-02-22T07:23:47.374Z"
   },
   {
    "duration": 5,
    "start_time": "2022-02-22T07:23:47.396Z"
   },
   {
    "duration": 6,
    "start_time": "2022-02-22T07:23:47.403Z"
   },
   {
    "duration": 5,
    "start_time": "2022-02-22T07:23:49.876Z"
   },
   {
    "duration": 13,
    "start_time": "2022-02-22T07:24:27.124Z"
   },
   {
    "duration": 9,
    "start_time": "2022-02-22T07:24:53.210Z"
   },
   {
    "duration": 8,
    "start_time": "2022-02-22T07:25:45.826Z"
   },
   {
    "duration": 10,
    "start_time": "2022-02-22T07:25:49.675Z"
   },
   {
    "duration": 29,
    "start_time": "2022-02-22T07:35:07.534Z"
   },
   {
    "duration": 32,
    "start_time": "2022-02-22T07:44:06.983Z"
   },
   {
    "duration": 112,
    "start_time": "2022-02-22T07:44:26.268Z"
   },
   {
    "duration": 14,
    "start_time": "2022-02-22T07:44:26.383Z"
   },
   {
    "duration": 26,
    "start_time": "2022-02-22T07:44:26.400Z"
   },
   {
    "duration": 27,
    "start_time": "2022-02-22T07:44:26.429Z"
   },
   {
    "duration": 4,
    "start_time": "2022-02-22T07:44:26.458Z"
   },
   {
    "duration": 18,
    "start_time": "2022-02-22T07:44:26.464Z"
   },
   {
    "duration": 19,
    "start_time": "2022-02-22T07:44:26.485Z"
   },
   {
    "duration": 20,
    "start_time": "2022-02-22T07:44:26.507Z"
   },
   {
    "duration": 160,
    "start_time": "2022-02-22T07:44:26.530Z"
   },
   {
    "duration": 5,
    "start_time": "2022-02-22T07:44:26.692Z"
   },
   {
    "duration": 166,
    "start_time": "2022-02-22T07:44:26.699Z"
   },
   {
    "duration": 8,
    "start_time": "2022-02-22T07:44:26.867Z"
   },
   {
    "duration": 2,
    "start_time": "2022-02-22T07:44:26.877Z"
   },
   {
    "duration": 9,
    "start_time": "2022-02-22T07:44:26.881Z"
   },
   {
    "duration": 30,
    "start_time": "2022-02-22T07:44:26.891Z"
   },
   {
    "duration": 4,
    "start_time": "2022-02-22T07:44:26.923Z"
   },
   {
    "duration": 13,
    "start_time": "2022-02-22T07:44:26.929Z"
   },
   {
    "duration": 12,
    "start_time": "2022-02-22T07:44:26.944Z"
   },
   {
    "duration": 5,
    "start_time": "2022-02-22T07:44:26.959Z"
   },
   {
    "duration": 30,
    "start_time": "2022-02-22T07:44:29.898Z"
   },
   {
    "duration": 27,
    "start_time": "2022-02-22T07:50:39.303Z"
   },
   {
    "duration": 25,
    "start_time": "2022-02-22T07:51:14.923Z"
   },
   {
    "duration": 592,
    "start_time": "2022-02-22T08:20:57.610Z"
   },
   {
    "duration": 586,
    "start_time": "2022-02-22T08:21:54.977Z"
   },
   {
    "duration": 573,
    "start_time": "2022-02-22T08:23:07.654Z"
   },
   {
    "duration": 3,
    "start_time": "2022-02-22T08:26:54.316Z"
   },
   {
    "duration": 5,
    "start_time": "2022-02-22T08:28:08.707Z"
   },
   {
    "duration": 12,
    "start_time": "2022-02-22T08:28:15.410Z"
   },
   {
    "duration": 7,
    "start_time": "2022-02-22T08:29:10.819Z"
   },
   {
    "duration": 79,
    "start_time": "2022-02-22T08:29:19.736Z"
   },
   {
    "duration": 11,
    "start_time": "2022-02-22T08:29:19.817Z"
   },
   {
    "duration": 10,
    "start_time": "2022-02-22T08:29:19.829Z"
   },
   {
    "duration": 27,
    "start_time": "2022-02-22T08:29:19.841Z"
   },
   {
    "duration": 4,
    "start_time": "2022-02-22T08:29:19.869Z"
   },
   {
    "duration": 6,
    "start_time": "2022-02-22T08:29:19.875Z"
   },
   {
    "duration": 39,
    "start_time": "2022-02-22T08:29:19.882Z"
   },
   {
    "duration": 156,
    "start_time": "2022-02-22T08:29:19.924Z"
   },
   {
    "duration": 5,
    "start_time": "2022-02-22T08:29:20.082Z"
   },
   {
    "duration": 15,
    "start_time": "2022-02-22T08:29:20.089Z"
   },
   {
    "duration": 7,
    "start_time": "2022-02-22T08:29:22.468Z"
   },
   {
    "duration": 12,
    "start_time": "2022-02-22T08:31:50.676Z"
   },
   {
    "duration": 23,
    "start_time": "2022-02-22T08:32:36.178Z"
   },
   {
    "duration": 12,
    "start_time": "2022-02-22T08:34:54.761Z"
   },
   {
    "duration": 346,
    "start_time": "2022-02-22T08:35:21.212Z"
   },
   {
    "duration": 12,
    "start_time": "2022-02-22T08:35:30.467Z"
   },
   {
    "duration": 13,
    "start_time": "2022-02-22T08:37:25.215Z"
   },
   {
    "duration": 8,
    "start_time": "2022-02-22T08:37:53.707Z"
   },
   {
    "duration": 18,
    "start_time": "2022-02-22T08:40:27.392Z"
   },
   {
    "duration": 8,
    "start_time": "2022-02-22T08:42:43.203Z"
   },
   {
    "duration": 434,
    "start_time": "2022-02-22T08:50:20.912Z"
   },
   {
    "duration": 26,
    "start_time": "2022-02-22T08:57:59.652Z"
   },
   {
    "duration": 92,
    "start_time": "2022-02-22T09:00:23.891Z"
   },
   {
    "duration": 11,
    "start_time": "2022-02-22T09:00:23.985Z"
   },
   {
    "duration": 36,
    "start_time": "2022-02-22T09:00:23.998Z"
   },
   {
    "duration": 35,
    "start_time": "2022-02-22T09:00:24.036Z"
   },
   {
    "duration": 4,
    "start_time": "2022-02-22T09:00:24.073Z"
   },
   {
    "duration": 26,
    "start_time": "2022-02-22T09:00:24.079Z"
   },
   {
    "duration": 18,
    "start_time": "2022-02-22T09:00:24.107Z"
   },
   {
    "duration": 176,
    "start_time": "2022-02-22T09:00:24.127Z"
   },
   {
    "duration": 14,
    "start_time": "2022-02-22T09:00:24.306Z"
   },
   {
    "duration": 26,
    "start_time": "2022-02-22T09:00:24.322Z"
   },
   {
    "duration": 42,
    "start_time": "2022-02-22T09:00:24.350Z"
   },
   {
    "duration": 10,
    "start_time": "2022-02-22T09:00:24.395Z"
   },
   {
    "duration": 23,
    "start_time": "2022-02-22T09:00:24.407Z"
   },
   {
    "duration": 27,
    "start_time": "2022-02-22T09:00:24.432Z"
   },
   {
    "duration": 26,
    "start_time": "2022-02-22T09:00:24.461Z"
   },
   {
    "duration": 32,
    "start_time": "2022-02-22T09:00:24.490Z"
   },
   {
    "duration": 26,
    "start_time": "2022-02-22T09:00:24.524Z"
   },
   {
    "duration": 64,
    "start_time": "2022-02-22T09:00:24.552Z"
   },
   {
    "duration": 28,
    "start_time": "2022-02-22T09:00:24.618Z"
   },
   {
    "duration": 633,
    "start_time": "2022-02-22T09:00:24.648Z"
   },
   {
    "duration": 36,
    "start_time": "2022-02-22T09:00:25.283Z"
   },
   {
    "duration": 3,
    "start_time": "2022-02-22T09:01:27.296Z"
   },
   {
    "duration": 205,
    "start_time": "2022-02-22T09:04:54.970Z"
   },
   {
    "duration": 177,
    "start_time": "2022-02-22T09:05:09.894Z"
   },
   {
    "duration": 184,
    "start_time": "2022-02-22T09:05:18.188Z"
   },
   {
    "duration": 206,
    "start_time": "2022-02-22T09:05:33.812Z"
   },
   {
    "duration": 403,
    "start_time": "2022-02-22T09:06:52.029Z"
   },
   {
    "duration": 337,
    "start_time": "2022-02-22T09:07:37.051Z"
   },
   {
    "duration": 336,
    "start_time": "2022-02-22T09:07:47.011Z"
   },
   {
    "duration": 368,
    "start_time": "2022-02-22T09:07:55.388Z"
   },
   {
    "duration": 1956,
    "start_time": "2022-02-22T09:10:23.603Z"
   },
   {
    "duration": 18137,
    "start_time": "2022-02-22T09:12:47.760Z"
   },
   {
    "duration": 193,
    "start_time": "2022-02-22T09:13:21.881Z"
   },
   {
    "duration": 181,
    "start_time": "2022-02-22T09:14:10.747Z"
   },
   {
    "duration": 364,
    "start_time": "2022-02-22T09:15:08.554Z"
   },
   {
    "duration": 807,
    "start_time": "2022-02-22T09:15:17.051Z"
   },
   {
    "duration": 209,
    "start_time": "2022-02-22T09:15:22.657Z"
   },
   {
    "duration": 190,
    "start_time": "2022-02-22T09:15:51.240Z"
   },
   {
    "duration": 201,
    "start_time": "2022-02-22T09:15:59.851Z"
   },
   {
    "duration": 209,
    "start_time": "2022-02-22T09:16:05.200Z"
   },
   {
    "duration": 195,
    "start_time": "2022-02-22T09:16:15.206Z"
   },
   {
    "duration": 190,
    "start_time": "2022-02-22T09:16:22.481Z"
   },
   {
    "duration": 173,
    "start_time": "2022-02-22T09:22:55.863Z"
   },
   {
    "duration": 253,
    "start_time": "2022-02-22T09:23:49.774Z"
   },
   {
    "duration": 191,
    "start_time": "2022-02-22T09:24:00.986Z"
   },
   {
    "duration": 197,
    "start_time": "2022-02-22T09:24:23.484Z"
   },
   {
    "duration": 201,
    "start_time": "2022-02-22T09:24:33.217Z"
   },
   {
    "duration": 516,
    "start_time": "2022-02-22T09:24:46.256Z"
   },
   {
    "duration": 341,
    "start_time": "2022-02-22T09:25:00.880Z"
   },
   {
    "duration": 513,
    "start_time": "2022-02-22T09:25:24.825Z"
   },
   {
    "duration": 188,
    "start_time": "2022-02-22T09:25:36.812Z"
   },
   {
    "duration": 325,
    "start_time": "2022-02-22T09:26:17.575Z"
   },
   {
    "duration": 253,
    "start_time": "2022-02-22T09:26:21.590Z"
   },
   {
    "duration": 236,
    "start_time": "2022-02-22T09:26:27.416Z"
   },
   {
    "duration": 96,
    "start_time": "2022-02-22T09:27:08.931Z"
   },
   {
    "duration": 11,
    "start_time": "2022-02-22T09:27:09.029Z"
   },
   {
    "duration": 10,
    "start_time": "2022-02-22T09:27:09.043Z"
   },
   {
    "duration": 28,
    "start_time": "2022-02-22T09:27:09.055Z"
   },
   {
    "duration": 4,
    "start_time": "2022-02-22T09:27:09.085Z"
   },
   {
    "duration": 34,
    "start_time": "2022-02-22T09:27:09.091Z"
   },
   {
    "duration": 15,
    "start_time": "2022-02-22T09:27:09.127Z"
   },
   {
    "duration": 154,
    "start_time": "2022-02-22T09:27:09.144Z"
   },
   {
    "duration": 214,
    "start_time": "2022-02-22T09:27:11.645Z"
   },
   {
    "duration": 89,
    "start_time": "2022-02-22T09:29:47.367Z"
   },
   {
    "duration": 11,
    "start_time": "2022-02-22T09:29:47.458Z"
   },
   {
    "duration": 14,
    "start_time": "2022-02-22T09:29:47.471Z"
   },
   {
    "duration": 47,
    "start_time": "2022-02-22T09:29:47.487Z"
   },
   {
    "duration": 4,
    "start_time": "2022-02-22T09:29:47.536Z"
   },
   {
    "duration": 12,
    "start_time": "2022-02-22T09:29:47.542Z"
   },
   {
    "duration": 14,
    "start_time": "2022-02-22T09:29:47.556Z"
   },
   {
    "duration": 172,
    "start_time": "2022-02-22T09:29:47.573Z"
   },
   {
    "duration": 4,
    "start_time": "2022-02-22T09:29:47.747Z"
   },
   {
    "duration": 7,
    "start_time": "2022-02-22T09:29:47.753Z"
   },
   {
    "duration": 22,
    "start_time": "2022-02-22T09:29:47.763Z"
   },
   {
    "duration": 3,
    "start_time": "2022-02-22T09:29:47.786Z"
   },
   {
    "duration": 29,
    "start_time": "2022-02-22T09:29:47.790Z"
   },
   {
    "duration": 5,
    "start_time": "2022-02-22T09:29:47.821Z"
   },
   {
    "duration": 6,
    "start_time": "2022-02-22T09:29:47.828Z"
   },
   {
    "duration": 14,
    "start_time": "2022-02-22T09:29:47.835Z"
   },
   {
    "duration": 7,
    "start_time": "2022-02-22T09:29:47.850Z"
   },
   {
    "duration": 32,
    "start_time": "2022-02-22T09:29:47.859Z"
   },
   {
    "duration": 39,
    "start_time": "2022-02-22T09:29:47.893Z"
   },
   {
    "duration": 619,
    "start_time": "2022-02-22T09:29:47.933Z"
   },
   {
    "duration": 26,
    "start_time": "2022-02-22T09:29:48.553Z"
   },
   {
    "duration": 212,
    "start_time": "2022-02-22T09:29:48.581Z"
   },
   {
    "duration": 214,
    "start_time": "2022-02-22T09:29:51.556Z"
   },
   {
    "duration": 238,
    "start_time": "2022-02-22T09:31:42.341Z"
   },
   {
    "duration": 223,
    "start_time": "2022-02-22T09:31:51.454Z"
   },
   {
    "duration": 226,
    "start_time": "2022-02-22T09:34:45.442Z"
   },
   {
    "duration": 309,
    "start_time": "2022-02-22T09:34:51.376Z"
   },
   {
    "duration": 187,
    "start_time": "2022-02-22T09:35:01.613Z"
   },
   {
    "duration": 196,
    "start_time": "2022-02-22T09:35:08.074Z"
   },
   {
    "duration": 240,
    "start_time": "2022-02-22T09:35:24.197Z"
   },
   {
    "duration": 349,
    "start_time": "2022-02-22T09:36:09.990Z"
   },
   {
    "duration": 251,
    "start_time": "2022-02-22T09:37:18.555Z"
   },
   {
    "duration": 184,
    "start_time": "2022-02-22T09:37:31.854Z"
   },
   {
    "duration": 558,
    "start_time": "2022-02-22T09:37:52.551Z"
   },
   {
    "duration": 198,
    "start_time": "2022-02-22T09:37:58.020Z"
   },
   {
    "duration": 339,
    "start_time": "2022-02-22T09:38:11.735Z"
   },
   {
    "duration": 339,
    "start_time": "2022-02-22T09:38:15.167Z"
   },
   {
    "duration": 986,
    "start_time": "2022-02-22T09:38:24.535Z"
   },
   {
    "duration": 194,
    "start_time": "2022-02-22T09:42:41.239Z"
   },
   {
    "duration": 345,
    "start_time": "2022-02-22T09:42:51.847Z"
   },
   {
    "duration": 11,
    "start_time": "2022-02-22T09:45:16.234Z"
   },
   {
    "duration": 212,
    "start_time": "2022-02-22T09:46:50.218Z"
   },
   {
    "duration": 163,
    "start_time": "2022-02-22T09:47:32.843Z"
   },
   {
    "duration": 39,
    "start_time": "2022-02-22T10:53:45.160Z"
   },
   {
    "duration": 35,
    "start_time": "2022-02-22T10:57:24.098Z"
   },
   {
    "duration": 5,
    "start_time": "2022-02-22T11:07:10.426Z"
   },
   {
    "duration": 37,
    "start_time": "2022-02-22T11:07:57.430Z"
   },
   {
    "duration": 973,
    "start_time": "2022-02-24T04:29:15.614Z"
   },
   {
    "duration": 16,
    "start_time": "2022-02-24T04:29:16.589Z"
   },
   {
    "duration": 13,
    "start_time": "2022-02-24T04:29:16.608Z"
   },
   {
    "duration": 72,
    "start_time": "2022-02-24T04:29:16.623Z"
   },
   {
    "duration": 5,
    "start_time": "2022-02-24T04:29:16.698Z"
   },
   {
    "duration": 13,
    "start_time": "2022-02-24T04:29:16.706Z"
   },
   {
    "duration": 40,
    "start_time": "2022-02-24T04:29:16.722Z"
   },
   {
    "duration": 239,
    "start_time": "2022-02-24T04:29:16.767Z"
   },
   {
    "duration": 6,
    "start_time": "2022-02-24T04:29:17.009Z"
   },
   {
    "duration": 11,
    "start_time": "2022-02-24T04:29:17.017Z"
   },
   {
    "duration": 52,
    "start_time": "2022-02-24T04:29:17.030Z"
   },
   {
    "duration": 6,
    "start_time": "2022-02-24T04:29:17.085Z"
   },
   {
    "duration": 13,
    "start_time": "2022-02-24T04:29:17.093Z"
   },
   {
    "duration": 11,
    "start_time": "2022-02-24T04:29:17.108Z"
   },
   {
    "duration": 74,
    "start_time": "2022-02-24T04:29:17.121Z"
   },
   {
    "duration": 940,
    "start_time": "2022-02-24T04:29:17.197Z"
   },
   {
    "duration": 48,
    "start_time": "2022-02-24T04:29:18.140Z"
   },
   {
    "duration": 265,
    "start_time": "2022-02-24T04:29:21.116Z"
   },
   {
    "duration": 13,
    "start_time": "2022-02-24T04:31:06.289Z"
   },
   {
    "duration": 215,
    "start_time": "2022-02-24T04:32:16.177Z"
   },
   {
    "duration": 12,
    "start_time": "2022-02-24T04:48:05.112Z"
   },
   {
    "duration": 64,
    "start_time": "2022-02-24T04:48:22.063Z"
   },
   {
    "duration": 25,
    "start_time": "2022-02-24T04:48:31.195Z"
   },
   {
    "duration": 7,
    "start_time": "2022-02-24T04:49:01.889Z"
   },
   {
    "duration": 12,
    "start_time": "2022-02-24T04:49:53.275Z"
   },
   {
    "duration": 7,
    "start_time": "2022-02-24T04:50:19.717Z"
   },
   {
    "duration": 6,
    "start_time": "2022-02-24T04:51:33.600Z"
   },
   {
    "duration": 19,
    "start_time": "2022-02-24T04:51:44.029Z"
   },
   {
    "duration": 5,
    "start_time": "2022-02-24T04:51:57.072Z"
   },
   {
    "duration": 15,
    "start_time": "2022-02-24T05:05:16.094Z"
   },
   {
    "duration": 18,
    "start_time": "2022-02-24T05:08:13.527Z"
   },
   {
    "duration": 19,
    "start_time": "2022-02-24T05:08:54.303Z"
   },
   {
    "duration": 20,
    "start_time": "2022-02-24T05:10:07.150Z"
   },
   {
    "duration": 36745,
    "start_time": "2022-02-24T05:10:54.093Z"
   },
   {
    "duration": 22,
    "start_time": "2022-02-24T05:12:22.014Z"
   },
   {
    "duration": 744,
    "start_time": "2022-02-24T05:15:39.804Z"
   },
   {
    "duration": 751,
    "start_time": "2022-02-24T05:16:00.012Z"
   },
   {
    "duration": 826,
    "start_time": "2022-02-24T05:16:26.364Z"
   },
   {
    "duration": 573,
    "start_time": "2022-02-24T05:18:33.869Z"
   },
   {
    "duration": 288,
    "start_time": "2022-02-24T05:18:47.205Z"
   },
   {
    "duration": 1866,
    "start_time": "2022-02-24T05:28:45.067Z"
   },
   {
    "duration": 835,
    "start_time": "2022-02-24T05:29:42.482Z"
   },
   {
    "duration": 707,
    "start_time": "2022-02-24T05:30:38.277Z"
   },
   {
    "duration": 7,
    "start_time": "2022-02-24T05:31:13.513Z"
   },
   {
    "duration": 9,
    "start_time": "2022-02-24T05:31:46.743Z"
   },
   {
    "duration": 464,
    "start_time": "2022-02-24T05:32:42.667Z"
   },
   {
    "duration": 6,
    "start_time": "2022-02-24T05:32:45.446Z"
   },
   {
    "duration": 66,
    "start_time": "2022-02-24T05:33:12.651Z"
   },
   {
    "duration": 7980,
    "start_time": "2022-02-24T05:33:18.276Z"
   },
   {
    "duration": 15,
    "start_time": "2022-02-24T05:33:41.329Z"
   },
   {
    "duration": 14,
    "start_time": "2022-02-24T05:35:33.782Z"
   },
   {
    "duration": 237,
    "start_time": "2022-02-24T05:36:17.415Z"
   },
   {
    "duration": 211,
    "start_time": "2022-02-24T05:36:48.424Z"
   },
   {
    "duration": 215,
    "start_time": "2022-02-24T05:37:04.456Z"
   },
   {
    "duration": 219,
    "start_time": "2022-02-24T05:37:15.564Z"
   },
   {
    "duration": 204,
    "start_time": "2022-02-24T05:37:26.790Z"
   },
   {
    "duration": 208,
    "start_time": "2022-02-24T05:37:34.212Z"
   },
   {
    "duration": 10,
    "start_time": "2022-02-24T05:40:01.614Z"
   },
   {
    "duration": 11,
    "start_time": "2022-02-24T05:45:08.546Z"
   },
   {
    "duration": 758,
    "start_time": "2022-02-24T05:50:15.776Z"
   },
   {
    "duration": 816,
    "start_time": "2022-02-24T05:50:54.161Z"
   },
   {
    "duration": 828,
    "start_time": "2022-02-24T05:53:52.912Z"
   },
   {
    "duration": 23,
    "start_time": "2022-02-24T05:53:53.743Z"
   },
   {
    "duration": 14,
    "start_time": "2022-02-24T05:53:53.771Z"
   },
   {
    "duration": 38,
    "start_time": "2022-02-24T05:53:53.789Z"
   },
   {
    "duration": 6,
    "start_time": "2022-02-24T05:53:53.862Z"
   },
   {
    "duration": 10,
    "start_time": "2022-02-24T05:53:53.871Z"
   },
   {
    "duration": 30,
    "start_time": "2022-02-24T05:53:53.883Z"
   },
   {
    "duration": 246,
    "start_time": "2022-02-24T05:53:53.917Z"
   },
   {
    "duration": 6,
    "start_time": "2022-02-24T05:53:54.167Z"
   },
   {
    "duration": 10,
    "start_time": "2022-02-24T05:53:54.176Z"
   },
   {
    "duration": 34,
    "start_time": "2022-02-24T05:53:54.189Z"
   },
   {
    "duration": 5,
    "start_time": "2022-02-24T05:53:54.226Z"
   },
   {
    "duration": 32,
    "start_time": "2022-02-24T05:53:54.233Z"
   },
   {
    "duration": 6,
    "start_time": "2022-02-24T05:53:54.268Z"
   },
   {
    "duration": 12,
    "start_time": "2022-02-24T05:53:54.277Z"
   },
   {
    "duration": 85,
    "start_time": "2022-02-24T05:53:54.292Z"
   },
   {
    "duration": 1087,
    "start_time": "2022-02-24T05:53:54.380Z"
   },
   {
    "duration": 41,
    "start_time": "2022-02-24T05:53:55.470Z"
   },
   {
    "duration": 292,
    "start_time": "2022-02-24T05:53:55.513Z"
   },
   {
    "duration": 85,
    "start_time": "2022-02-24T05:53:55.808Z"
   },
   {
    "duration": 8,
    "start_time": "2022-02-24T05:53:55.896Z"
   },
   {
    "duration": 478,
    "start_time": "2022-02-24T05:53:55.907Z"
   },
   {
    "duration": 371,
    "start_time": "2022-02-24T05:53:56.390Z"
   },
   {
    "duration": 677,
    "start_time": "2022-02-24T05:53:56.765Z"
   },
   {
    "duration": 571,
    "start_time": "2022-02-24T05:53:57.446Z"
   },
   {
    "duration": 745,
    "start_time": "2022-02-24T05:53:58.021Z"
   },
   {
    "duration": 14,
    "start_time": "2022-02-24T05:53:58.770Z"
   },
   {
    "duration": 269,
    "start_time": "2022-02-24T05:53:58.786Z"
   },
   {
    "duration": 21,
    "start_time": "2022-02-24T05:53:59.058Z"
   },
   {
    "duration": 764,
    "start_time": "2022-02-24T05:54:53.570Z"
   },
   {
    "duration": 36909,
    "start_time": "2022-02-24T05:55:20.144Z"
   },
   {
    "duration": 2027,
    "start_time": "2022-02-24T06:02:08.490Z"
   },
   {
    "duration": 667,
    "start_time": "2022-02-24T06:03:19.223Z"
   },
   {
    "duration": 726,
    "start_time": "2022-02-24T06:03:41.901Z"
   },
   {
    "duration": 750,
    "start_time": "2022-02-24T06:06:31.746Z"
   },
   {
    "duration": 743,
    "start_time": "2022-02-24T06:06:45.151Z"
   },
   {
    "duration": 722,
    "start_time": "2022-02-24T06:06:59.388Z"
   },
   {
    "duration": 11,
    "start_time": "2022-02-24T06:08:49.479Z"
   },
   {
    "duration": 6,
    "start_time": "2022-02-24T06:09:52.909Z"
   },
   {
    "duration": 355,
    "start_time": "2022-02-24T06:10:52.756Z"
   },
   {
    "duration": 14,
    "start_time": "2022-02-24T06:13:48.096Z"
   },
   {
    "duration": 26,
    "start_time": "2022-02-24T06:13:49.508Z"
   },
   {
    "duration": 712,
    "start_time": "2022-02-24T06:15:34.742Z"
   },
   {
    "duration": 327,
    "start_time": "2022-02-24T06:16:21.086Z"
   },
   {
    "duration": 1,
    "start_time": "2022-02-24T06:17:57.383Z"
   },
   {
    "duration": 137,
    "start_time": "2022-02-24T06:18:57.256Z"
   },
   {
    "duration": 15,
    "start_time": "2022-02-24T06:18:57.396Z"
   },
   {
    "duration": 13,
    "start_time": "2022-02-24T06:18:57.414Z"
   },
   {
    "duration": 63,
    "start_time": "2022-02-24T06:18:57.430Z"
   },
   {
    "duration": 5,
    "start_time": "2022-02-24T06:18:57.495Z"
   },
   {
    "duration": 9,
    "start_time": "2022-02-24T06:18:57.502Z"
   },
   {
    "duration": 16,
    "start_time": "2022-02-24T06:18:57.513Z"
   },
   {
    "duration": 237,
    "start_time": "2022-02-24T06:18:57.561Z"
   },
   {
    "duration": 6,
    "start_time": "2022-02-24T06:18:57.802Z"
   },
   {
    "duration": 10,
    "start_time": "2022-02-24T06:18:57.811Z"
   },
   {
    "duration": 55,
    "start_time": "2022-02-24T06:18:57.823Z"
   },
   {
    "duration": 6,
    "start_time": "2022-02-24T06:18:57.880Z"
   },
   {
    "duration": 10,
    "start_time": "2022-02-24T06:18:57.889Z"
   },
   {
    "duration": 8,
    "start_time": "2022-02-24T06:18:57.902Z"
   },
   {
    "duration": 16,
    "start_time": "2022-02-24T06:18:57.913Z"
   },
   {
    "duration": 75,
    "start_time": "2022-02-24T06:18:57.932Z"
   },
   {
    "duration": 953,
    "start_time": "2022-02-24T06:18:58.010Z"
   },
   {
    "duration": 42,
    "start_time": "2022-02-24T06:18:58.965Z"
   },
   {
    "duration": 265,
    "start_time": "2022-02-24T06:18:59.010Z"
   },
   {
    "duration": 57,
    "start_time": "2022-02-24T06:18:59.277Z"
   },
   {
    "duration": 28,
    "start_time": "2022-02-24T06:18:59.337Z"
   },
   {
    "duration": 331,
    "start_time": "2022-02-24T06:18:59.367Z"
   },
   {
    "duration": 373,
    "start_time": "2022-02-24T06:18:59.702Z"
   },
   {
    "duration": 404,
    "start_time": "2022-02-24T06:19:00.078Z"
   },
   {
    "duration": 563,
    "start_time": "2022-02-24T06:19:00.485Z"
   },
   {
    "duration": 558,
    "start_time": "2022-02-24T06:19:01.050Z"
   },
   {
    "duration": 11,
    "start_time": "2022-02-24T06:19:01.610Z"
   },
   {
    "duration": 268,
    "start_time": "2022-02-24T06:19:01.623Z"
   },
   {
    "duration": 20,
    "start_time": "2022-02-24T06:19:01.894Z"
   },
   {
    "duration": 748,
    "start_time": "2022-02-24T06:23:28.556Z"
   },
   {
    "duration": 22,
    "start_time": "2022-02-24T06:25:03.687Z"
   },
   {
    "duration": 336,
    "start_time": "2022-02-24T06:25:24.134Z"
   },
   {
    "duration": 373,
    "start_time": "2022-02-24T06:25:41.696Z"
   },
   {
    "duration": 584,
    "start_time": "2022-02-24T06:26:39.089Z"
   },
   {
    "duration": 22,
    "start_time": "2022-02-24T06:26:49.040Z"
   },
   {
    "duration": 34,
    "start_time": "2022-02-24T06:32:38.694Z"
   },
   {
    "duration": 376,
    "start_time": "2022-02-24T06:32:44.356Z"
   },
   {
    "duration": 486,
    "start_time": "2022-02-24T06:32:58.844Z"
   },
   {
    "duration": 487,
    "start_time": "2022-02-24T06:35:15.048Z"
   },
   {
    "duration": 478,
    "start_time": "2022-02-24T06:35:25.457Z"
   },
   {
    "duration": 55,
    "start_time": "2022-02-24T06:36:12.719Z"
   },
   {
    "duration": 67,
    "start_time": "2022-02-24T06:36:53.145Z"
   },
   {
    "duration": 364,
    "start_time": "2022-02-24T06:42:16.508Z"
   },
   {
    "duration": 361,
    "start_time": "2022-02-24T06:42:29.340Z"
   },
   {
    "duration": 462,
    "start_time": "2022-02-24T06:42:50.910Z"
   },
   {
    "duration": 9,
    "start_time": "2022-02-24T06:45:41.814Z"
   },
   {
    "duration": 57,
    "start_time": "2022-02-24T06:46:25.988Z"
   },
   {
    "duration": 651,
    "start_time": "2022-02-24T06:47:26.622Z"
   },
   {
    "duration": 780,
    "start_time": "2022-02-24T06:48:53.184Z"
   },
   {
    "duration": 471,
    "start_time": "2022-02-24T06:50:01.093Z"
   },
   {
    "duration": 11,
    "start_time": "2022-02-24T06:51:22.132Z"
   },
   {
    "duration": 11,
    "start_time": "2022-02-24T06:51:40.970Z"
   },
   {
    "duration": 13,
    "start_time": "2022-02-24T06:52:41.215Z"
   },
   {
    "duration": 467,
    "start_time": "2022-02-24T06:52:42.907Z"
   },
   {
    "duration": 12,
    "start_time": "2022-02-24T06:53:01.305Z"
   },
   {
    "duration": 496,
    "start_time": "2022-02-24T06:53:03.889Z"
   },
   {
    "duration": 133,
    "start_time": "2022-02-24T06:54:14.455Z"
   },
   {
    "duration": 16,
    "start_time": "2022-02-24T06:54:14.590Z"
   },
   {
    "duration": 11,
    "start_time": "2022-02-24T06:54:14.609Z"
   },
   {
    "duration": 75,
    "start_time": "2022-02-24T06:54:14.623Z"
   },
   {
    "duration": 5,
    "start_time": "2022-02-24T06:54:14.701Z"
   },
   {
    "duration": 12,
    "start_time": "2022-02-24T06:54:14.709Z"
   },
   {
    "duration": 45,
    "start_time": "2022-02-24T06:54:14.724Z"
   },
   {
    "duration": 248,
    "start_time": "2022-02-24T06:54:14.774Z"
   },
   {
    "duration": 6,
    "start_time": "2022-02-24T06:54:15.025Z"
   },
   {
    "duration": 30,
    "start_time": "2022-02-24T06:54:15.034Z"
   },
   {
    "duration": 31,
    "start_time": "2022-02-24T06:54:15.067Z"
   },
   {
    "duration": 5,
    "start_time": "2022-02-24T06:54:15.100Z"
   },
   {
    "duration": 13,
    "start_time": "2022-02-24T06:54:15.108Z"
   },
   {
    "duration": 8,
    "start_time": "2022-02-24T06:54:15.124Z"
   },
   {
    "duration": 37,
    "start_time": "2022-02-24T06:54:15.135Z"
   },
   {
    "duration": 53,
    "start_time": "2022-02-24T06:54:15.175Z"
   },
   {
    "duration": 946,
    "start_time": "2022-02-24T06:54:15.231Z"
   },
   {
    "duration": 38,
    "start_time": "2022-02-24T06:54:16.179Z"
   },
   {
    "duration": 249,
    "start_time": "2022-02-24T06:54:16.219Z"
   },
   {
    "duration": 52,
    "start_time": "2022-02-24T06:54:16.471Z"
   },
   {
    "duration": 7,
    "start_time": "2022-02-24T06:54:16.525Z"
   },
   {
    "duration": 305,
    "start_time": "2022-02-24T06:54:16.561Z"
   },
   {
    "duration": 353,
    "start_time": "2022-02-24T06:54:16.871Z"
   },
   {
    "duration": 408,
    "start_time": "2022-02-24T06:54:17.227Z"
   },
   {
    "duration": 556,
    "start_time": "2022-02-24T06:54:17.638Z"
   },
   {
    "duration": 583,
    "start_time": "2022-02-24T06:54:18.197Z"
   },
   {
    "duration": 12,
    "start_time": "2022-02-24T06:54:18.782Z"
   },
   {
    "duration": 265,
    "start_time": "2022-02-24T06:54:18.796Z"
   },
   {
    "duration": 20,
    "start_time": "2022-02-24T06:54:19.063Z"
   },
   {
    "duration": 729,
    "start_time": "2022-02-24T06:54:19.086Z"
   },
   {
    "duration": 485,
    "start_time": "2022-02-24T06:54:19.818Z"
   },
   {
    "duration": 12,
    "start_time": "2022-02-24T06:54:20.306Z"
   },
   {
    "duration": 369,
    "start_time": "2022-02-24T06:58:29.439Z"
   },
   {
    "duration": 67,
    "start_time": "2022-02-24T06:59:20.236Z"
   },
   {
    "duration": 35,
    "start_time": "2022-02-24T06:59:32.721Z"
   },
   {
    "duration": 129,
    "start_time": "2022-02-24T06:59:41.378Z"
   },
   {
    "duration": 17,
    "start_time": "2022-02-24T06:59:41.511Z"
   },
   {
    "duration": 37,
    "start_time": "2022-02-24T06:59:41.532Z"
   },
   {
    "duration": 38,
    "start_time": "2022-02-24T06:59:41.572Z"
   },
   {
    "duration": 5,
    "start_time": "2022-02-24T06:59:41.612Z"
   },
   {
    "duration": 9,
    "start_time": "2022-02-24T06:59:41.619Z"
   },
   {
    "duration": 43,
    "start_time": "2022-02-24T06:59:41.630Z"
   },
   {
    "duration": 246,
    "start_time": "2022-02-24T06:59:41.678Z"
   },
   {
    "duration": 6,
    "start_time": "2022-02-24T06:59:41.928Z"
   },
   {
    "duration": 32,
    "start_time": "2022-02-24T06:59:41.937Z"
   },
   {
    "duration": 33,
    "start_time": "2022-02-24T06:59:41.972Z"
   },
   {
    "duration": 7,
    "start_time": "2022-02-24T06:59:42.008Z"
   },
   {
    "duration": 7,
    "start_time": "2022-02-24T06:59:42.017Z"
   },
   {
    "duration": 38,
    "start_time": "2022-02-24T06:59:42.026Z"
   },
   {
    "duration": 15,
    "start_time": "2022-02-24T06:59:42.067Z"
   },
   {
    "duration": 56,
    "start_time": "2022-02-24T06:59:42.085Z"
   },
   {
    "duration": 977,
    "start_time": "2022-02-24T06:59:42.160Z"
   },
   {
    "duration": 52,
    "start_time": "2022-02-24T06:59:43.139Z"
   },
   {
    "duration": 245,
    "start_time": "2022-02-24T06:59:43.194Z"
   },
   {
    "duration": 63,
    "start_time": "2022-02-24T06:59:43.442Z"
   },
   {
    "duration": 8,
    "start_time": "2022-02-24T06:59:43.508Z"
   },
   {
    "duration": 333,
    "start_time": "2022-02-24T06:59:43.519Z"
   },
   {
    "duration": 363,
    "start_time": "2022-02-24T06:59:43.861Z"
   },
   {
    "duration": 419,
    "start_time": "2022-02-24T06:59:44.228Z"
   },
   {
    "duration": 595,
    "start_time": "2022-02-24T06:59:44.650Z"
   },
   {
    "duration": 562,
    "start_time": "2022-02-24T06:59:45.248Z"
   },
   {
    "duration": 14,
    "start_time": "2022-02-24T06:59:45.813Z"
   },
   {
    "duration": 273,
    "start_time": "2022-02-24T06:59:45.829Z"
   },
   {
    "duration": 18,
    "start_time": "2022-02-24T06:59:46.105Z"
   },
   {
    "duration": 775,
    "start_time": "2022-02-24T06:59:46.126Z"
   },
   {
    "duration": 485,
    "start_time": "2022-02-24T06:59:46.903Z"
   },
   {
    "duration": 48,
    "start_time": "2022-02-24T06:59:51.983Z"
   },
   {
    "duration": 58,
    "start_time": "2022-02-24T07:01:21.829Z"
   },
   {
    "duration": 13,
    "start_time": "2022-02-24T07:01:54.870Z"
   },
   {
    "duration": 331,
    "start_time": "2022-02-24T07:04:23.650Z"
   },
   {
    "duration": 8,
    "start_time": "2022-02-24T07:05:28.544Z"
   },
   {
    "duration": 129,
    "start_time": "2022-02-24T07:09:52.956Z"
   },
   {
    "duration": 13,
    "start_time": "2022-02-24T07:09:53.088Z"
   },
   {
    "duration": 11,
    "start_time": "2022-02-24T07:09:53.104Z"
   },
   {
    "duration": 65,
    "start_time": "2022-02-24T07:09:53.118Z"
   },
   {
    "duration": 4,
    "start_time": "2022-02-24T07:09:53.187Z"
   },
   {
    "duration": 8,
    "start_time": "2022-02-24T07:09:53.194Z"
   },
   {
    "duration": 14,
    "start_time": "2022-02-24T07:09:53.204Z"
   },
   {
    "duration": 270,
    "start_time": "2022-02-24T07:09:53.221Z"
   },
   {
    "duration": 7,
    "start_time": "2022-02-24T07:09:53.494Z"
   },
   {
    "duration": 10,
    "start_time": "2022-02-24T07:09:53.503Z"
   },
   {
    "duration": 58,
    "start_time": "2022-02-24T07:09:53.516Z"
   },
   {
    "duration": 7,
    "start_time": "2022-02-24T07:09:53.577Z"
   },
   {
    "duration": 9,
    "start_time": "2022-02-24T07:09:53.587Z"
   },
   {
    "duration": 6,
    "start_time": "2022-02-24T07:09:53.599Z"
   },
   {
    "duration": 54,
    "start_time": "2022-02-24T07:09:53.608Z"
   },
   {
    "duration": 57,
    "start_time": "2022-02-24T07:09:53.665Z"
   },
   {
    "duration": 976,
    "start_time": "2022-02-24T07:09:53.725Z"
   },
   {
    "duration": 40,
    "start_time": "2022-02-24T07:09:54.703Z"
   },
   {
    "duration": 247,
    "start_time": "2022-02-24T07:09:54.762Z"
   },
   {
    "duration": 70,
    "start_time": "2022-02-24T07:09:55.013Z"
   },
   {
    "duration": 9,
    "start_time": "2022-02-24T07:09:55.086Z"
   },
   {
    "duration": 8,
    "start_time": "2022-02-24T07:09:55.097Z"
   },
   {
    "duration": 8,
    "start_time": "2022-02-24T07:09:55.110Z"
   },
   {
    "duration": 376,
    "start_time": "2022-02-24T07:09:55.120Z"
   },
   {
    "duration": 372,
    "start_time": "2022-02-24T07:09:55.499Z"
   },
   {
    "duration": 404,
    "start_time": "2022-02-24T07:09:55.873Z"
   },
   {
    "duration": 557,
    "start_time": "2022-02-24T07:09:56.280Z"
   },
   {
    "duration": 606,
    "start_time": "2022-02-24T07:09:56.840Z"
   },
   {
    "duration": 21,
    "start_time": "2022-02-24T07:09:57.448Z"
   },
   {
    "duration": 255,
    "start_time": "2022-02-24T07:09:57.471Z"
   },
   {
    "duration": 707,
    "start_time": "2022-02-24T07:10:18.635Z"
   },
   {
    "duration": 368,
    "start_time": "2022-02-24T07:10:37.446Z"
   },
   {
    "duration": 122,
    "start_time": "2022-02-24T07:16:45.592Z"
   },
   {
    "duration": 15,
    "start_time": "2022-02-24T07:16:45.716Z"
   },
   {
    "duration": 33,
    "start_time": "2022-02-24T07:16:45.734Z"
   },
   {
    "duration": 38,
    "start_time": "2022-02-24T07:16:45.771Z"
   },
   {
    "duration": 4,
    "start_time": "2022-02-24T07:16:45.812Z"
   },
   {
    "duration": 7,
    "start_time": "2022-02-24T07:16:45.818Z"
   },
   {
    "duration": 14,
    "start_time": "2022-02-24T07:16:45.862Z"
   },
   {
    "duration": 224,
    "start_time": "2022-02-24T07:16:45.880Z"
   },
   {
    "duration": 6,
    "start_time": "2022-02-24T07:16:46.107Z"
   },
   {
    "duration": 10,
    "start_time": "2022-02-24T07:16:46.116Z"
   },
   {
    "duration": 54,
    "start_time": "2022-02-24T07:16:46.129Z"
   },
   {
    "duration": 6,
    "start_time": "2022-02-24T07:16:46.185Z"
   },
   {
    "duration": 20,
    "start_time": "2022-02-24T07:16:46.194Z"
   },
   {
    "duration": 9,
    "start_time": "2022-02-24T07:16:46.217Z"
   },
   {
    "duration": 35,
    "start_time": "2022-02-24T07:16:46.229Z"
   },
   {
    "duration": 55,
    "start_time": "2022-02-24T07:16:46.267Z"
   },
   {
    "duration": 954,
    "start_time": "2022-02-24T07:16:46.325Z"
   },
   {
    "duration": 40,
    "start_time": "2022-02-24T07:16:47.281Z"
   },
   {
    "duration": 273,
    "start_time": "2022-02-24T07:16:47.324Z"
   },
   {
    "duration": 65,
    "start_time": "2022-02-24T07:16:47.599Z"
   },
   {
    "duration": 9,
    "start_time": "2022-02-24T07:16:50.139Z"
   },
   {
    "duration": 9,
    "start_time": "2022-02-24T07:16:52.024Z"
   },
   {
    "duration": 9,
    "start_time": "2022-02-24T07:17:10.757Z"
   },
   {
    "duration": 328,
    "start_time": "2022-02-24T07:17:27.005Z"
   },
   {
    "duration": 324,
    "start_time": "2022-02-24T07:17:42.747Z"
   },
   {
    "duration": 300,
    "start_time": "2022-02-24T07:17:48.179Z"
   },
   {
    "duration": 355,
    "start_time": "2022-02-24T07:18:08.642Z"
   },
   {
    "duration": 364,
    "start_time": "2022-02-24T07:18:21.097Z"
   },
   {
    "duration": 398,
    "start_time": "2022-02-24T07:18:47.494Z"
   },
   {
    "duration": 303,
    "start_time": "2022-02-24T07:18:55.843Z"
   },
   {
    "duration": 555,
    "start_time": "2022-02-24T07:19:00.986Z"
   },
   {
    "duration": 591,
    "start_time": "2022-02-24T07:19:18.370Z"
   },
   {
    "duration": 3280,
    "start_time": "2022-02-24T07:19:24.560Z"
   },
   {
    "duration": 598,
    "start_time": "2022-02-24T07:19:35.041Z"
   },
   {
    "duration": 426,
    "start_time": "2022-02-24T07:21:00.263Z"
   },
   {
    "duration": 341,
    "start_time": "2022-02-24T07:21:10.993Z"
   },
   {
    "duration": 137,
    "start_time": "2022-02-24T07:23:40.530Z"
   },
   {
    "duration": 14,
    "start_time": "2022-02-24T07:23:40.670Z"
   },
   {
    "duration": 11,
    "start_time": "2022-02-24T07:23:40.686Z"
   },
   {
    "duration": 71,
    "start_time": "2022-02-24T07:23:40.700Z"
   },
   {
    "duration": 5,
    "start_time": "2022-02-24T07:23:40.773Z"
   },
   {
    "duration": 7,
    "start_time": "2022-02-24T07:23:40.780Z"
   },
   {
    "duration": 16,
    "start_time": "2022-02-24T07:23:40.789Z"
   },
   {
    "duration": 252,
    "start_time": "2022-02-24T07:23:40.809Z"
   },
   {
    "duration": 7,
    "start_time": "2022-02-24T07:23:41.064Z"
   },
   {
    "duration": 14,
    "start_time": "2022-02-24T07:23:41.073Z"
   },
   {
    "duration": 29,
    "start_time": "2022-02-24T07:23:41.090Z"
   },
   {
    "duration": 5,
    "start_time": "2022-02-24T07:23:41.122Z"
   },
   {
    "duration": 6,
    "start_time": "2022-02-24T07:23:41.161Z"
   },
   {
    "duration": 5,
    "start_time": "2022-02-24T07:23:41.170Z"
   },
   {
    "duration": 13,
    "start_time": "2022-02-24T07:23:41.178Z"
   },
   {
    "duration": 81,
    "start_time": "2022-02-24T07:23:41.193Z"
   },
   {
    "duration": 972,
    "start_time": "2022-02-24T07:23:41.278Z"
   },
   {
    "duration": 40,
    "start_time": "2022-02-24T07:23:42.253Z"
   },
   {
    "duration": 354,
    "start_time": "2022-02-24T07:23:42.296Z"
   },
   {
    "duration": 361,
    "start_time": "2022-02-24T07:23:42.653Z"
   },
   {
    "duration": 576,
    "start_time": "2022-02-24T07:23:43.017Z"
   },
   {
    "duration": 572,
    "start_time": "2022-02-24T07:23:43.595Z"
   },
   {
    "duration": 597,
    "start_time": "2022-02-24T07:23:44.171Z"
   },
   {
    "duration": 13,
    "start_time": "2022-02-24T07:23:44.770Z"
   },
   {
    "duration": 270,
    "start_time": "2022-02-24T07:23:44.785Z"
   },
   {
    "duration": 256,
    "start_time": "2022-02-24T07:23:45.057Z"
   },
   {
    "duration": 72,
    "start_time": "2022-02-24T07:23:45.316Z"
   },
   {
    "duration": 9,
    "start_time": "2022-02-24T07:23:45.391Z"
   },
   {
    "duration": 10,
    "start_time": "2022-02-24T07:23:45.403Z"
   },
   {
    "duration": 8,
    "start_time": "2022-02-24T07:23:45.415Z"
   },
   {
    "duration": 358,
    "start_time": "2022-02-24T07:24:27.583Z"
   },
   {
    "duration": 331,
    "start_time": "2022-02-24T07:24:34.482Z"
   },
   {
    "duration": 376,
    "start_time": "2022-02-24T07:24:39.587Z"
   },
   {
    "duration": 139,
    "start_time": "2022-02-24T07:26:31.950Z"
   },
   {
    "duration": 15,
    "start_time": "2022-02-24T07:26:32.092Z"
   },
   {
    "duration": 14,
    "start_time": "2022-02-24T07:26:32.112Z"
   },
   {
    "duration": 67,
    "start_time": "2022-02-24T07:26:32.129Z"
   },
   {
    "duration": 6,
    "start_time": "2022-02-24T07:26:32.199Z"
   },
   {
    "duration": 8,
    "start_time": "2022-02-24T07:26:32.208Z"
   },
   {
    "duration": 56,
    "start_time": "2022-02-24T07:26:32.218Z"
   },
   {
    "duration": 239,
    "start_time": "2022-02-24T07:26:32.277Z"
   },
   {
    "duration": 6,
    "start_time": "2022-02-24T07:26:32.520Z"
   },
   {
    "duration": 12,
    "start_time": "2022-02-24T07:26:32.529Z"
   },
   {
    "duration": 46,
    "start_time": "2022-02-24T07:26:32.543Z"
   },
   {
    "duration": 6,
    "start_time": "2022-02-24T07:26:32.591Z"
   },
   {
    "duration": 9,
    "start_time": "2022-02-24T07:26:32.600Z"
   },
   {
    "duration": 6,
    "start_time": "2022-02-24T07:26:32.611Z"
   },
   {
    "duration": 47,
    "start_time": "2022-02-24T07:26:32.619Z"
   },
   {
    "duration": 46,
    "start_time": "2022-02-24T07:26:32.668Z"
   },
   {
    "duration": 958,
    "start_time": "2022-02-24T07:26:32.717Z"
   },
   {
    "duration": 38,
    "start_time": "2022-02-24T07:26:33.678Z"
   },
   {
    "duration": 368,
    "start_time": "2022-02-24T07:26:33.719Z"
   },
   {
    "duration": 365,
    "start_time": "2022-02-24T07:26:34.090Z"
   },
   {
    "duration": 600,
    "start_time": "2022-02-24T07:26:34.461Z"
   },
   {
    "duration": 589,
    "start_time": "2022-02-24T07:26:35.065Z"
   },
   {
    "duration": 587,
    "start_time": "2022-02-24T07:26:35.660Z"
   },
   {
    "duration": 21,
    "start_time": "2022-02-24T07:26:36.250Z"
   },
   {
    "duration": 273,
    "start_time": "2022-02-24T07:26:36.274Z"
   },
   {
    "duration": 705,
    "start_time": "2022-02-24T07:26:48.088Z"
   },
   {
    "duration": 453,
    "start_time": "2022-02-24T07:27:04.093Z"
   },
   {
    "duration": 10,
    "start_time": "2022-02-24T07:28:01.511Z"
   },
   {
    "duration": 8082,
    "start_time": "2022-02-24T07:29:05.898Z"
   },
   {
    "duration": 33,
    "start_time": "2022-02-24T07:29:20.326Z"
   },
   {
    "duration": 417,
    "start_time": "2022-02-24T07:31:28.613Z"
   },
   {
    "duration": 333,
    "start_time": "2022-02-24T07:32:02.130Z"
   },
   {
    "duration": 323,
    "start_time": "2022-02-24T07:32:12.202Z"
   },
   {
    "duration": 621,
    "start_time": "2022-02-24T07:32:59.594Z"
   },
   {
    "duration": 10,
    "start_time": "2022-02-24T07:34:23.681Z"
   },
   {
    "duration": 10,
    "start_time": "2022-02-24T07:34:41.500Z"
   },
   {
    "duration": 338,
    "start_time": "2022-02-24T07:35:07.381Z"
   },
   {
    "duration": 12,
    "start_time": "2022-02-24T07:35:16.143Z"
   },
   {
    "duration": 15,
    "start_time": "2022-02-24T07:35:44.617Z"
   },
   {
    "duration": 11,
    "start_time": "2022-02-24T07:36:00.511Z"
   },
   {
    "duration": 51,
    "start_time": "2022-02-24T07:37:04.107Z"
   },
   {
    "duration": 54,
    "start_time": "2022-02-24T07:38:02.798Z"
   },
   {
    "duration": 10,
    "start_time": "2022-02-24T07:39:11.690Z"
   },
   {
    "duration": 56,
    "start_time": "2022-02-24T07:39:42.230Z"
   },
   {
    "duration": 11,
    "start_time": "2022-02-24T07:39:58.666Z"
   },
   {
    "duration": 9,
    "start_time": "2022-02-24T07:40:49.546Z"
   },
   {
    "duration": 726,
    "start_time": "2022-02-24T07:40:55.111Z"
   },
   {
    "duration": 416,
    "start_time": "2022-02-24T07:41:19.033Z"
   },
   {
    "duration": 122,
    "start_time": "2022-02-24T07:41:48.578Z"
   },
   {
    "duration": 127,
    "start_time": "2022-02-24T07:41:48.702Z"
   },
   {
    "duration": 206,
    "start_time": "2022-02-24T07:41:48.832Z"
   },
   {
    "duration": 334,
    "start_time": "2022-02-24T07:41:49.041Z"
   },
   {
    "duration": 264,
    "start_time": "2022-02-24T07:41:49.377Z"
   },
   {
    "duration": 202,
    "start_time": "2022-02-24T07:41:49.643Z"
   },
   {
    "duration": 295,
    "start_time": "2022-02-24T07:41:49.847Z"
   },
   {
    "duration": 535,
    "start_time": "2022-02-24T07:41:50.145Z"
   },
   {
    "duration": 139,
    "start_time": "2022-02-24T07:41:50.683Z"
   },
   {
    "duration": 233,
    "start_time": "2022-02-24T07:41:50.825Z"
   },
   {
    "duration": 201,
    "start_time": "2022-02-24T07:41:51.061Z"
   },
   {
    "duration": 172,
    "start_time": "2022-02-24T07:41:51.264Z"
   },
   {
    "duration": 345,
    "start_time": "2022-02-24T07:41:51.439Z"
   },
   {
    "duration": 386,
    "start_time": "2022-02-24T07:41:51.787Z"
   },
   {
    "duration": 306,
    "start_time": "2022-02-24T07:41:52.176Z"
   },
   {
    "duration": 337,
    "start_time": "2022-02-24T07:41:52.484Z"
   },
   {
    "duration": 3269,
    "start_time": "2022-02-24T07:41:52.824Z"
   },
   {
    "duration": 38,
    "start_time": "2022-02-24T07:41:56.095Z"
   },
   {
    "duration": 365,
    "start_time": "2022-02-24T07:41:56.135Z"
   },
   {
    "duration": 355,
    "start_time": "2022-02-24T07:41:56.503Z"
   },
   {
    "duration": 567,
    "start_time": "2022-02-24T07:41:56.860Z"
   },
   {
    "duration": 585,
    "start_time": "2022-02-24T07:41:57.430Z"
   },
   {
    "duration": 556,
    "start_time": "2022-02-24T07:41:58.019Z"
   },
   {
    "duration": 12,
    "start_time": "2022-02-24T07:41:58.578Z"
   },
   {
    "duration": 260,
    "start_time": "2022-02-24T07:41:58.592Z"
   },
   {
    "duration": 299,
    "start_time": "2022-02-24T07:41:58.855Z"
   },
   {
    "duration": 53,
    "start_time": "2022-02-24T07:41:59.157Z"
   },
   {
    "duration": 10,
    "start_time": "2022-02-24T07:41:59.212Z"
   },
   {
    "duration": 38,
    "start_time": "2022-02-24T07:41:59.224Z"
   },
   {
    "duration": 11,
    "start_time": "2022-02-24T07:41:59.265Z"
   },
   {
    "duration": 43,
    "start_time": "2022-02-24T07:41:59.279Z"
   },
   {
    "duration": 36,
    "start_time": "2022-02-24T07:41:59.325Z"
   },
   {
    "duration": 5,
    "start_time": "2022-02-24T07:41:59.364Z"
   },
   {
    "duration": 354,
    "start_time": "2022-02-24T07:42:18.815Z"
   },
   {
    "duration": 738,
    "start_time": "2022-02-24T07:42:25.874Z"
   },
   {
    "duration": 667,
    "start_time": "2022-02-24T07:43:01.325Z"
   },
   {
    "duration": 684,
    "start_time": "2022-02-24T07:44:04.031Z"
   },
   {
    "duration": 378,
    "start_time": "2022-02-24T07:44:34.862Z"
   },
   {
    "duration": 679,
    "start_time": "2022-02-24T07:45:11.998Z"
   },
   {
    "duration": 736,
    "start_time": "2022-02-24T07:45:51.379Z"
   },
   {
    "duration": 735,
    "start_time": "2022-02-24T07:46:42.586Z"
   },
   {
    "duration": 820,
    "start_time": "2022-02-24T07:49:32.104Z"
   },
   {
    "duration": 632,
    "start_time": "2022-02-24T07:50:12.885Z"
   },
   {
    "duration": 713,
    "start_time": "2022-02-24T07:50:27.921Z"
   },
   {
    "duration": 6,
    "start_time": "2022-02-24T07:50:58.238Z"
   },
   {
    "duration": 719,
    "start_time": "2022-02-24T07:51:12.228Z"
   },
   {
    "duration": 764,
    "start_time": "2022-02-24T07:51:42.766Z"
   },
   {
    "duration": 1044,
    "start_time": "2022-02-24T07:52:08.782Z"
   },
   {
    "duration": 389,
    "start_time": "2022-02-24T08:22:13.871Z"
   },
   {
    "duration": 39,
    "start_time": "2022-02-24T08:28:09.425Z"
   },
   {
    "duration": 10,
    "start_time": "2022-02-24T08:28:13.960Z"
   },
   {
    "duration": 735,
    "start_time": "2022-02-24T08:40:19.885Z"
   },
   {
    "duration": 25526,
    "start_time": "2022-02-24T08:40:54.516Z"
   },
   {
    "duration": 873,
    "start_time": "2022-02-24T08:41:31.573Z"
   },
   {
    "duration": 278219,
    "start_time": "2022-02-24T08:42:41.975Z"
   },
   {
    "duration": 3855,
    "start_time": "2022-02-24T08:47:20.197Z"
   },
   {
    "duration": 400,
    "start_time": "2022-02-24T08:50:31.616Z"
   },
   {
    "duration": 389,
    "start_time": "2022-02-24T08:51:19.621Z"
   },
   {
    "duration": 294,
    "start_time": "2022-02-24T08:51:41.848Z"
   },
   {
    "duration": 267,
    "start_time": "2022-02-24T08:52:48.134Z"
   },
   {
    "duration": 266,
    "start_time": "2022-02-24T08:53:25.775Z"
   },
   {
    "duration": 281,
    "start_time": "2022-02-24T08:53:40.519Z"
   },
   {
    "duration": 282,
    "start_time": "2022-02-24T08:53:48.015Z"
   },
   {
    "duration": 308,
    "start_time": "2022-02-24T08:53:57.484Z"
   },
   {
    "duration": 297,
    "start_time": "2022-02-24T08:54:44.978Z"
   },
   {
    "duration": 382,
    "start_time": "2022-02-24T08:55:06.035Z"
   },
   {
    "duration": 448,
    "start_time": "2022-02-24T08:55:45.180Z"
   },
   {
    "duration": 305,
    "start_time": "2022-02-24T08:56:12.730Z"
   },
   {
    "duration": 344,
    "start_time": "2022-02-24T08:58:43.520Z"
   },
   {
    "duration": 395,
    "start_time": "2022-02-24T08:58:46.622Z"
   },
   {
    "duration": 133,
    "start_time": "2022-02-24T09:03:51.200Z"
   },
   {
    "duration": 18,
    "start_time": "2022-02-24T09:03:51.360Z"
   },
   {
    "duration": 13,
    "start_time": "2022-02-24T09:03:51.381Z"
   },
   {
    "duration": 65,
    "start_time": "2022-02-24T09:03:51.397Z"
   },
   {
    "duration": 7,
    "start_time": "2022-02-24T09:03:51.465Z"
   },
   {
    "duration": 6,
    "start_time": "2022-02-24T09:03:51.474Z"
   },
   {
    "duration": 18,
    "start_time": "2022-02-24T09:03:51.482Z"
   },
   {
    "duration": 265,
    "start_time": "2022-02-24T09:03:51.504Z"
   },
   {
    "duration": 7,
    "start_time": "2022-02-24T09:03:51.772Z"
   },
   {
    "duration": 13,
    "start_time": "2022-02-24T09:03:51.782Z"
   },
   {
    "duration": 65,
    "start_time": "2022-02-24T09:03:51.798Z"
   },
   {
    "duration": 7,
    "start_time": "2022-02-24T09:03:51.866Z"
   },
   {
    "duration": 9,
    "start_time": "2022-02-24T09:03:51.876Z"
   },
   {
    "duration": 5,
    "start_time": "2022-02-24T09:03:51.888Z"
   },
   {
    "duration": 12,
    "start_time": "2022-02-24T09:03:51.895Z"
   },
   {
    "duration": 92,
    "start_time": "2022-02-24T09:03:51.909Z"
   },
   {
    "duration": 947,
    "start_time": "2022-02-24T09:03:52.004Z"
   },
   {
    "duration": 44,
    "start_time": "2022-02-24T09:03:52.954Z"
   },
   {
    "duration": 342,
    "start_time": "2022-02-24T09:03:53.000Z"
   },
   {
    "duration": 363,
    "start_time": "2022-02-24T09:03:53.345Z"
   },
   {
    "duration": 576,
    "start_time": "2022-02-24T09:03:53.711Z"
   },
   {
    "duration": 2908,
    "start_time": "2022-02-24T09:03:54.290Z"
   },
   {
    "duration": 565,
    "start_time": "2022-02-24T09:03:57.204Z"
   },
   {
    "duration": 15,
    "start_time": "2022-02-24T09:03:57.773Z"
   },
   {
    "duration": 277,
    "start_time": "2022-02-24T09:03:57.790Z"
   },
   {
    "duration": 237,
    "start_time": "2022-02-24T09:03:58.070Z"
   },
   {
    "duration": 66,
    "start_time": "2022-02-24T09:03:58.309Z"
   },
   {
    "duration": 8,
    "start_time": "2022-02-24T09:03:58.377Z"
   },
   {
    "duration": 8,
    "start_time": "2022-02-24T09:03:58.388Z"
   },
   {
    "duration": 8,
    "start_time": "2022-02-24T09:03:58.398Z"
   },
   {
    "duration": 84,
    "start_time": "2022-02-24T09:03:58.408Z"
   },
   {
    "duration": 8,
    "start_time": "2022-02-24T09:03:58.494Z"
   },
   {
    "duration": 15,
    "start_time": "2022-02-24T09:03:58.504Z"
   },
   {
    "duration": 715,
    "start_time": "2022-02-24T09:03:58.521Z"
   },
   {
    "duration": 346,
    "start_time": "2022-02-24T09:03:59.238Z"
   },
   {
    "duration": 361,
    "start_time": "2022-02-24T09:03:59.586Z"
   },
   {
    "duration": 730,
    "start_time": "2022-02-24T09:03:59.955Z"
   },
   {
    "duration": 313,
    "start_time": "2022-02-24T09:04:00.687Z"
   },
   {
    "duration": 364,
    "start_time": "2022-02-24T09:04:01.002Z"
   },
   {
    "duration": 309,
    "start_time": "2022-02-24T09:04:01.368Z"
   },
   {
    "duration": 11,
    "start_time": "2022-02-24T09:04:04.353Z"
   },
   {
    "duration": 11,
    "start_time": "2022-02-24T09:04:56.879Z"
   },
   {
    "duration": 11,
    "start_time": "2022-02-24T09:05:07.516Z"
   },
   {
    "duration": 12,
    "start_time": "2022-02-24T09:05:13.977Z"
   },
   {
    "duration": 8,
    "start_time": "2022-02-24T09:05:40.404Z"
   },
   {
    "duration": 11,
    "start_time": "2022-02-24T09:05:53.482Z"
   },
   {
    "duration": 5,
    "start_time": "2022-02-24T09:08:49.865Z"
   },
   {
    "duration": 69,
    "start_time": "2022-02-24T09:10:04.815Z"
   },
   {
    "duration": 11,
    "start_time": "2022-02-24T09:11:11.121Z"
   },
   {
    "duration": 1194,
    "start_time": "2022-02-24T10:56:26.058Z"
   },
   {
    "duration": 10,
    "start_time": "2022-02-24T10:56:27.254Z"
   },
   {
    "duration": 9,
    "start_time": "2022-02-24T10:56:27.266Z"
   },
   {
    "duration": 23,
    "start_time": "2022-02-24T10:56:27.277Z"
   },
   {
    "duration": 4,
    "start_time": "2022-02-24T10:56:27.301Z"
   },
   {
    "duration": 27,
    "start_time": "2022-02-24T10:56:27.306Z"
   },
   {
    "duration": 11,
    "start_time": "2022-02-24T10:56:27.335Z"
   },
   {
    "duration": 133,
    "start_time": "2022-02-24T10:56:27.348Z"
   },
   {
    "duration": 4,
    "start_time": "2022-02-24T10:56:27.483Z"
   },
   {
    "duration": 7,
    "start_time": "2022-02-24T10:56:27.489Z"
   },
   {
    "duration": 35,
    "start_time": "2022-02-24T10:56:27.498Z"
   },
   {
    "duration": 5,
    "start_time": "2022-02-24T10:56:27.535Z"
   },
   {
    "duration": 7,
    "start_time": "2022-02-24T10:56:27.541Z"
   },
   {
    "duration": 5,
    "start_time": "2022-02-24T10:56:27.549Z"
   },
   {
    "duration": 7,
    "start_time": "2022-02-24T10:56:27.556Z"
   },
   {
    "duration": 30,
    "start_time": "2022-02-24T10:56:27.565Z"
   },
   {
    "duration": 585,
    "start_time": "2022-02-24T10:56:27.596Z"
   },
   {
    "duration": 25,
    "start_time": "2022-02-24T10:56:28.182Z"
   },
   {
    "duration": 198,
    "start_time": "2022-02-24T10:56:28.210Z"
   },
   {
    "duration": 188,
    "start_time": "2022-02-24T10:56:28.409Z"
   },
   {
    "duration": 377,
    "start_time": "2022-02-24T10:56:28.599Z"
   },
   {
    "duration": 307,
    "start_time": "2022-02-24T10:56:28.978Z"
   },
   {
    "duration": 296,
    "start_time": "2022-02-24T10:56:29.289Z"
   },
   {
    "duration": 9,
    "start_time": "2022-02-24T10:56:29.588Z"
   },
   {
    "duration": 157,
    "start_time": "2022-02-24T10:56:29.599Z"
   },
   {
    "duration": 132,
    "start_time": "2022-02-24T10:56:29.758Z"
   },
   {
    "duration": 42,
    "start_time": "2022-02-24T10:56:29.892Z"
   },
   {
    "duration": 7,
    "start_time": "2022-02-24T10:56:29.935Z"
   },
   {
    "duration": 5,
    "start_time": "2022-02-24T10:56:29.943Z"
   },
   {
    "duration": 5,
    "start_time": "2022-02-24T10:56:29.950Z"
   },
   {
    "duration": 26,
    "start_time": "2022-02-24T10:56:29.956Z"
   },
   {
    "duration": 5,
    "start_time": "2022-02-24T10:56:29.983Z"
   },
   {
    "duration": 4,
    "start_time": "2022-02-24T10:56:29.990Z"
   },
   {
    "duration": 408,
    "start_time": "2022-02-24T10:56:34.804Z"
   },
   {
    "duration": 491,
    "start_time": "2022-02-24T10:57:30.101Z"
   },
   {
    "duration": 210,
    "start_time": "2022-02-24T10:58:01.529Z"
   },
   {
    "duration": 151,
    "start_time": "2022-02-24T10:58:06.185Z"
   },
   {
    "duration": 537,
    "start_time": "2022-02-24T10:58:20.021Z"
   },
   {
    "duration": 167,
    "start_time": "2022-02-24T10:58:41.623Z"
   },
   {
    "duration": 178,
    "start_time": "2022-02-24T10:58:44.313Z"
   },
   {
    "duration": 163,
    "start_time": "2022-02-24T10:58:47.648Z"
   },
   {
    "duration": 6,
    "start_time": "2022-02-24T10:59:02.432Z"
   },
   {
    "duration": 10,
    "start_time": "2022-02-24T10:59:05.996Z"
   },
   {
    "duration": 778,
    "start_time": "2022-02-24T11:02:02.958Z"
   },
   {
    "duration": 7,
    "start_time": "2022-02-24T11:02:11.134Z"
   },
   {
    "duration": 6,
    "start_time": "2022-02-24T11:02:26.868Z"
   },
   {
    "duration": 8,
    "start_time": "2022-02-24T11:02:32.014Z"
   },
   {
    "duration": 9,
    "start_time": "2022-02-24T11:04:48.669Z"
   },
   {
    "duration": 34,
    "start_time": "2022-02-24T11:23:20.213Z"
   },
   {
    "duration": 7376,
    "start_time": "2022-02-24T11:24:19.953Z"
   },
   {
    "duration": 9,
    "start_time": "2022-02-24T11:24:32.654Z"
   },
   {
    "duration": 18,
    "start_time": "2022-02-24T11:30:47.033Z"
   },
   {
    "duration": 9,
    "start_time": "2022-02-24T11:31:04.582Z"
   },
   {
    "duration": 18,
    "start_time": "2022-02-24T11:31:11.462Z"
   },
   {
    "duration": 8,
    "start_time": "2022-02-24T11:33:07.145Z"
   },
   {
    "duration": 32,
    "start_time": "2022-02-24T11:36:40.144Z"
   },
   {
    "duration": 8,
    "start_time": "2022-02-24T11:44:51.145Z"
   },
   {
    "duration": 5421,
    "start_time": "2022-02-24T11:47:42.482Z"
   },
   {
    "duration": 5897,
    "start_time": "2022-02-24T11:48:10.316Z"
   },
   {
    "duration": 5109,
    "start_time": "2022-02-24T11:51:22.763Z"
   },
   {
    "duration": 10,
    "start_time": "2022-02-24T11:52:15.398Z"
   },
   {
    "duration": 14,
    "start_time": "2022-02-24T11:53:02.011Z"
   },
   {
    "duration": 93,
    "start_time": "2022-02-24T11:53:31.788Z"
   },
   {
    "duration": 10,
    "start_time": "2022-02-24T11:53:31.882Z"
   },
   {
    "duration": 9,
    "start_time": "2022-02-24T11:53:31.893Z"
   },
   {
    "duration": 40,
    "start_time": "2022-02-24T11:53:31.903Z"
   },
   {
    "duration": 3,
    "start_time": "2022-02-24T11:53:31.945Z"
   },
   {
    "duration": 4,
    "start_time": "2022-02-24T11:53:31.949Z"
   },
   {
    "duration": 10,
    "start_time": "2022-02-24T11:53:31.955Z"
   },
   {
    "duration": 150,
    "start_time": "2022-02-24T11:53:31.968Z"
   },
   {
    "duration": 13,
    "start_time": "2022-02-24T11:53:32.121Z"
   },
   {
    "duration": 8,
    "start_time": "2022-02-24T11:53:32.136Z"
   },
   {
    "duration": 20,
    "start_time": "2022-02-24T11:53:32.146Z"
   },
   {
    "duration": 3,
    "start_time": "2022-02-24T11:53:32.168Z"
   },
   {
    "duration": 8,
    "start_time": "2022-02-24T11:53:32.173Z"
   },
   {
    "duration": 4,
    "start_time": "2022-02-24T11:53:32.183Z"
   },
   {
    "duration": 11,
    "start_time": "2022-02-24T11:53:32.188Z"
   },
   {
    "duration": 55,
    "start_time": "2022-02-24T11:53:32.200Z"
   },
   {
    "duration": 516,
    "start_time": "2022-02-24T11:53:32.257Z"
   },
   {
    "duration": 22,
    "start_time": "2022-02-24T11:53:32.774Z"
   },
   {
    "duration": 192,
    "start_time": "2022-02-24T11:53:32.798Z"
   },
   {
    "duration": 175,
    "start_time": "2022-02-24T11:53:32.992Z"
   },
   {
    "duration": 363,
    "start_time": "2022-02-24T11:53:33.168Z"
   },
   {
    "duration": 341,
    "start_time": "2022-02-24T11:53:33.533Z"
   },
   {
    "duration": 304,
    "start_time": "2022-02-24T11:53:33.877Z"
   },
   {
    "duration": 8,
    "start_time": "2022-02-24T11:53:34.183Z"
   },
   {
    "duration": 149,
    "start_time": "2022-02-24T11:53:34.192Z"
   },
   {
    "duration": 135,
    "start_time": "2022-02-24T11:53:34.343Z"
   },
   {
    "duration": 29,
    "start_time": "2022-02-24T11:53:34.479Z"
   },
   {
    "duration": 23,
    "start_time": "2022-02-24T11:53:34.510Z"
   },
   {
    "duration": 5,
    "start_time": "2022-02-24T11:53:34.534Z"
   },
   {
    "duration": 7,
    "start_time": "2022-02-24T11:53:34.541Z"
   },
   {
    "duration": 27,
    "start_time": "2022-02-24T11:53:34.549Z"
   },
   {
    "duration": 6,
    "start_time": "2022-02-24T11:53:34.578Z"
   },
   {
    "duration": 4,
    "start_time": "2022-02-24T11:53:34.586Z"
   },
   {
    "duration": 494,
    "start_time": "2022-02-24T11:53:34.592Z"
   },
   {
    "duration": 200,
    "start_time": "2022-02-24T11:53:35.088Z"
   },
   {
    "duration": 149,
    "start_time": "2022-02-24T11:53:35.290Z"
   },
   {
    "duration": 458,
    "start_time": "2022-02-24T11:53:35.441Z"
   },
   {
    "duration": 170,
    "start_time": "2022-02-24T11:53:35.901Z"
   },
   {
    "duration": 192,
    "start_time": "2022-02-24T11:53:36.073Z"
   },
   {
    "duration": 258,
    "start_time": "2022-02-24T11:53:36.267Z"
   },
   {
    "duration": 7,
    "start_time": "2022-02-24T11:53:36.527Z"
   },
   {
    "duration": 8,
    "start_time": "2022-02-24T11:53:36.536Z"
   },
   {
    "duration": 6,
    "start_time": "2022-02-24T11:53:36.546Z"
   },
   {
    "duration": 38,
    "start_time": "2022-02-24T11:53:41.697Z"
   },
   {
    "duration": 25,
    "start_time": "2022-02-24T11:54:02.419Z"
   },
   {
    "duration": 12,
    "start_time": "2022-02-24T11:54:10.068Z"
   },
   {
    "duration": 10,
    "start_time": "2022-02-24T11:55:52.889Z"
   },
   {
    "duration": 37,
    "start_time": "2022-02-24T11:57:04.698Z"
   },
   {
    "duration": 12,
    "start_time": "2022-02-24T11:58:40.667Z"
   },
   {
    "duration": 14,
    "start_time": "2022-02-24T12:00:40.491Z"
   },
   {
    "duration": 157,
    "start_time": "2022-02-24T12:01:09.768Z"
   },
   {
    "duration": 260,
    "start_time": "2022-02-24T12:01:58.150Z"
   },
   {
    "duration": 162,
    "start_time": "2022-02-24T12:02:13.717Z"
   },
   {
    "duration": 30,
    "start_time": "2022-02-24T12:05:50.286Z"
   },
   {
    "duration": 312,
    "start_time": "2022-02-25T05:06:11.452Z"
   },
   {
    "duration": 1197,
    "start_time": "2022-02-25T05:06:16.254Z"
   },
   {
    "duration": 9,
    "start_time": "2022-02-25T05:06:17.453Z"
   },
   {
    "duration": 7,
    "start_time": "2022-02-25T05:06:17.464Z"
   },
   {
    "duration": 23,
    "start_time": "2022-02-25T05:06:17.473Z"
   },
   {
    "duration": 4,
    "start_time": "2022-02-25T05:06:17.498Z"
   },
   {
    "duration": 28,
    "start_time": "2022-02-25T05:06:17.503Z"
   },
   {
    "duration": 10,
    "start_time": "2022-02-25T05:06:17.532Z"
   },
   {
    "duration": 137,
    "start_time": "2022-02-25T05:06:17.544Z"
   },
   {
    "duration": 4,
    "start_time": "2022-02-25T05:06:17.684Z"
   },
   {
    "duration": 6,
    "start_time": "2022-02-25T05:06:17.690Z"
   },
   {
    "duration": 36,
    "start_time": "2022-02-25T05:06:17.697Z"
   },
   {
    "duration": 3,
    "start_time": "2022-02-25T05:06:17.735Z"
   },
   {
    "duration": 7,
    "start_time": "2022-02-25T05:06:17.739Z"
   },
   {
    "duration": 5,
    "start_time": "2022-02-25T05:06:17.747Z"
   },
   {
    "duration": 8,
    "start_time": "2022-02-25T05:06:17.753Z"
   },
   {
    "duration": 30,
    "start_time": "2022-02-25T05:06:17.762Z"
   },
   {
    "duration": 547,
    "start_time": "2022-02-25T05:06:17.794Z"
   },
   {
    "duration": 21,
    "start_time": "2022-02-25T05:06:18.343Z"
   },
   {
    "duration": 186,
    "start_time": "2022-02-25T05:06:18.366Z"
   },
   {
    "duration": 191,
    "start_time": "2022-02-25T05:06:18.554Z"
   },
   {
    "duration": 336,
    "start_time": "2022-02-25T05:06:18.747Z"
   },
   {
    "duration": 291,
    "start_time": "2022-02-25T05:06:19.085Z"
   },
   {
    "duration": 308,
    "start_time": "2022-02-25T05:06:19.378Z"
   },
   {
    "duration": 8,
    "start_time": "2022-02-25T05:06:19.688Z"
   },
   {
    "duration": 152,
    "start_time": "2022-02-25T05:06:19.697Z"
   },
   {
    "duration": 131,
    "start_time": "2022-02-25T05:06:19.851Z"
   },
   {
    "duration": 28,
    "start_time": "2022-02-25T05:06:19.985Z"
   },
   {
    "duration": 19,
    "start_time": "2022-02-25T05:06:20.015Z"
   },
   {
    "duration": 5,
    "start_time": "2022-02-25T05:06:20.036Z"
   },
   {
    "duration": 7,
    "start_time": "2022-02-25T05:06:20.042Z"
   },
   {
    "duration": 28,
    "start_time": "2022-02-25T05:06:20.050Z"
   },
   {
    "duration": 6,
    "start_time": "2022-02-25T05:06:20.079Z"
   },
   {
    "duration": 4,
    "start_time": "2022-02-25T05:06:20.087Z"
   },
   {
    "duration": 584,
    "start_time": "2022-02-25T05:06:20.092Z"
   },
   {
    "duration": 200,
    "start_time": "2022-02-25T05:06:20.678Z"
   },
   {
    "duration": 156,
    "start_time": "2022-02-25T05:06:20.880Z"
   },
   {
    "duration": 469,
    "start_time": "2022-02-25T05:06:21.037Z"
   },
   {
    "duration": 239,
    "start_time": "2022-02-25T05:06:21.507Z"
   },
   {
    "duration": 193,
    "start_time": "2022-02-25T05:06:21.747Z"
   },
   {
    "duration": 168,
    "start_time": "2022-02-25T05:06:21.942Z"
   },
   {
    "duration": 7,
    "start_time": "2022-02-25T05:06:22.112Z"
   },
   {
    "duration": 16,
    "start_time": "2022-02-25T05:06:22.121Z"
   },
   {
    "duration": 8,
    "start_time": "2022-02-25T05:06:22.139Z"
   },
   {
    "duration": 173,
    "start_time": "2022-02-25T05:06:22.149Z"
   },
   {
    "duration": 23,
    "start_time": "2022-02-25T05:06:24.258Z"
   },
   {
    "duration": 297,
    "start_time": "2022-02-25T05:06:35.347Z"
   },
   {
    "duration": 16,
    "start_time": "2022-02-25T05:12:39.827Z"
   },
   {
    "duration": 3608,
    "start_time": "2022-02-25T05:13:14.038Z"
   },
   {
    "duration": 3880,
    "start_time": "2022-02-25T05:13:52.642Z"
   },
   {
    "duration": 305,
    "start_time": "2022-02-25T05:17:25.253Z"
   },
   {
    "duration": 291,
    "start_time": "2022-02-25T05:17:49.874Z"
   },
   {
    "duration": 28254,
    "start_time": "2022-02-25T05:17:53.644Z"
   },
   {
    "duration": 6,
    "start_time": "2022-02-25T05:19:46.827Z"
   },
   {
    "duration": 8,
    "start_time": "2022-02-25T05:20:02.028Z"
   },
   {
    "duration": 204,
    "start_time": "2022-02-25T05:21:51.171Z"
   },
   {
    "duration": 445,
    "start_time": "2022-02-25T05:22:13.020Z"
   },
   {
    "duration": 277,
    "start_time": "2022-02-25T05:22:31.606Z"
   },
   {
    "duration": 389,
    "start_time": "2022-02-25T05:23:24.415Z"
   },
   {
    "duration": 126,
    "start_time": "2022-02-25T05:24:58.410Z"
   },
   {
    "duration": 119,
    "start_time": "2022-02-25T05:25:32.448Z"
   },
   {
    "duration": 100,
    "start_time": "2022-02-25T05:25:47.586Z"
   },
   {
    "duration": 11,
    "start_time": "2022-02-25T05:25:47.688Z"
   },
   {
    "duration": 31,
    "start_time": "2022-02-25T05:25:47.701Z"
   },
   {
    "duration": 24,
    "start_time": "2022-02-25T05:25:47.734Z"
   },
   {
    "duration": 3,
    "start_time": "2022-02-25T05:25:47.760Z"
   },
   {
    "duration": 6,
    "start_time": "2022-02-25T05:25:47.764Z"
   },
   {
    "duration": 11,
    "start_time": "2022-02-25T05:25:47.771Z"
   },
   {
    "duration": 141,
    "start_time": "2022-02-25T05:25:47.784Z"
   },
   {
    "duration": 4,
    "start_time": "2022-02-25T05:25:47.931Z"
   },
   {
    "duration": 7,
    "start_time": "2022-02-25T05:25:47.937Z"
   },
   {
    "duration": 19,
    "start_time": "2022-02-25T05:25:47.945Z"
   },
   {
    "duration": 4,
    "start_time": "2022-02-25T05:25:47.965Z"
   },
   {
    "duration": 5,
    "start_time": "2022-02-25T05:25:47.970Z"
   },
   {
    "duration": 4,
    "start_time": "2022-02-25T05:25:47.976Z"
   },
   {
    "duration": 11,
    "start_time": "2022-02-25T05:25:47.981Z"
   },
   {
    "duration": 55,
    "start_time": "2022-02-25T05:25:47.994Z"
   },
   {
    "duration": 528,
    "start_time": "2022-02-25T05:25:48.050Z"
   },
   {
    "duration": 22,
    "start_time": "2022-02-25T05:25:48.580Z"
   },
   {
    "duration": 198,
    "start_time": "2022-02-25T05:25:48.603Z"
   },
   {
    "duration": 192,
    "start_time": "2022-02-25T05:25:48.803Z"
   },
   {
    "duration": 280,
    "start_time": "2022-02-25T05:25:48.997Z"
   },
   {
    "duration": 289,
    "start_time": "2022-02-25T05:25:49.278Z"
   },
   {
    "duration": 317,
    "start_time": "2022-02-25T05:25:49.571Z"
   },
   {
    "duration": 8,
    "start_time": "2022-02-25T05:25:49.890Z"
   },
   {
    "duration": 147,
    "start_time": "2022-02-25T05:25:49.899Z"
   },
   {
    "duration": 141,
    "start_time": "2022-02-25T05:25:50.047Z"
   },
   {
    "duration": 30,
    "start_time": "2022-02-25T05:25:50.189Z"
   },
   {
    "duration": 7,
    "start_time": "2022-02-25T05:25:50.231Z"
   },
   {
    "duration": 125,
    "start_time": "2022-02-25T05:26:01.113Z"
   },
   {
    "duration": 122,
    "start_time": "2022-02-25T05:28:03.701Z"
   },
   {
    "duration": 44,
    "start_time": "2022-02-25T05:29:05.660Z"
   },
   {
    "duration": 29,
    "start_time": "2022-02-25T05:29:14.497Z"
   },
   {
    "duration": 41,
    "start_time": "2022-02-25T05:29:33.668Z"
   },
   {
    "duration": 120,
    "start_time": "2022-02-25T05:29:47.444Z"
   },
   {
    "duration": 89,
    "start_time": "2022-02-25T05:30:46.005Z"
   },
   {
    "duration": 10,
    "start_time": "2022-02-25T05:30:46.095Z"
   },
   {
    "duration": 13,
    "start_time": "2022-02-25T05:30:46.107Z"
   },
   {
    "duration": 41,
    "start_time": "2022-02-25T05:30:46.122Z"
   },
   {
    "duration": 4,
    "start_time": "2022-02-25T05:30:46.164Z"
   },
   {
    "duration": 23,
    "start_time": "2022-02-25T05:30:46.169Z"
   },
   {
    "duration": 19,
    "start_time": "2022-02-25T05:30:46.193Z"
   },
   {
    "duration": 133,
    "start_time": "2022-02-25T05:30:46.214Z"
   },
   {
    "duration": 4,
    "start_time": "2022-02-25T05:30:46.349Z"
   },
   {
    "duration": 17,
    "start_time": "2022-02-25T05:30:46.355Z"
   },
   {
    "duration": 37,
    "start_time": "2022-02-25T05:30:46.373Z"
   },
   {
    "duration": 5,
    "start_time": "2022-02-25T05:30:46.412Z"
   },
   {
    "duration": 18,
    "start_time": "2022-02-25T05:30:46.419Z"
   },
   {
    "duration": 13,
    "start_time": "2022-02-25T05:30:46.439Z"
   },
   {
    "duration": 31,
    "start_time": "2022-02-25T05:30:46.454Z"
   },
   {
    "duration": 57,
    "start_time": "2022-02-25T05:30:46.486Z"
   },
   {
    "duration": 525,
    "start_time": "2022-02-25T05:30:46.545Z"
   },
   {
    "duration": 23,
    "start_time": "2022-02-25T05:30:47.072Z"
   },
   {
    "duration": 179,
    "start_time": "2022-02-25T05:30:47.096Z"
   },
   {
    "duration": 188,
    "start_time": "2022-02-25T05:30:47.276Z"
   },
   {
    "duration": 287,
    "start_time": "2022-02-25T05:30:47.466Z"
   },
   {
    "duration": 299,
    "start_time": "2022-02-25T05:30:47.755Z"
   },
   {
    "duration": 293,
    "start_time": "2022-02-25T05:30:48.056Z"
   },
   {
    "duration": 7,
    "start_time": "2022-02-25T05:30:48.351Z"
   },
   {
    "duration": 143,
    "start_time": "2022-02-25T05:30:48.359Z"
   },
   {
    "duration": 129,
    "start_time": "2022-02-25T05:30:48.504Z"
   },
   {
    "duration": 30,
    "start_time": "2022-02-25T05:30:48.635Z"
   },
   {
    "duration": 5,
    "start_time": "2022-02-25T05:30:48.667Z"
   },
   {
    "duration": 147,
    "start_time": "2022-02-25T05:30:48.673Z"
   },
   {
    "duration": 10,
    "start_time": "2022-02-25T05:30:48.821Z"
   },
   {
    "duration": 128,
    "start_time": "2022-02-25T05:30:48.833Z"
   },
   {
    "duration": 5,
    "start_time": "2022-02-25T05:30:48.962Z"
   },
   {
    "duration": 5,
    "start_time": "2022-02-25T05:30:48.969Z"
   },
   {
    "duration": 484,
    "start_time": "2022-02-25T05:30:55.885Z"
   },
   {
    "duration": 193,
    "start_time": "2022-02-25T05:30:59.334Z"
   },
   {
    "duration": 140,
    "start_time": "2022-02-25T05:31:02.888Z"
   },
   {
    "duration": 462,
    "start_time": "2022-02-25T05:31:06.039Z"
   },
   {
    "duration": 158,
    "start_time": "2022-02-25T05:31:09.339Z"
   },
   {
    "duration": 479,
    "start_time": "2022-02-25T05:31:12.274Z"
   },
   {
    "duration": 160,
    "start_time": "2022-02-25T05:31:15.291Z"
   },
   {
    "duration": 79,
    "start_time": "2022-02-25T05:31:38.751Z"
   },
   {
    "duration": 10,
    "start_time": "2022-02-25T05:31:38.832Z"
   },
   {
    "duration": 7,
    "start_time": "2022-02-25T05:31:38.844Z"
   },
   {
    "duration": 22,
    "start_time": "2022-02-25T05:31:38.853Z"
   },
   {
    "duration": 4,
    "start_time": "2022-02-25T05:31:38.876Z"
   },
   {
    "duration": 8,
    "start_time": "2022-02-25T05:31:38.881Z"
   },
   {
    "duration": 10,
    "start_time": "2022-02-25T05:31:38.890Z"
   },
   {
    "duration": 127,
    "start_time": "2022-02-25T05:31:38.933Z"
   },
   {
    "duration": 4,
    "start_time": "2022-02-25T05:31:39.062Z"
   },
   {
    "duration": 8,
    "start_time": "2022-02-25T05:31:39.068Z"
   },
   {
    "duration": 20,
    "start_time": "2022-02-25T05:31:39.078Z"
   },
   {
    "duration": 3,
    "start_time": "2022-02-25T05:31:39.100Z"
   },
   {
    "duration": 31,
    "start_time": "2022-02-25T05:31:39.104Z"
   },
   {
    "duration": 4,
    "start_time": "2022-02-25T05:31:39.136Z"
   },
   {
    "duration": 10,
    "start_time": "2022-02-25T05:31:39.141Z"
   },
   {
    "duration": 35,
    "start_time": "2022-02-25T05:31:39.152Z"
   },
   {
    "duration": 561,
    "start_time": "2022-02-25T05:31:39.189Z"
   },
   {
    "duration": 24,
    "start_time": "2022-02-25T05:31:39.752Z"
   },
   {
    "duration": 190,
    "start_time": "2022-02-25T05:31:39.777Z"
   },
   {
    "duration": 179,
    "start_time": "2022-02-25T05:31:39.969Z"
   },
   {
    "duration": 291,
    "start_time": "2022-02-25T05:31:40.149Z"
   },
   {
    "duration": 297,
    "start_time": "2022-02-25T05:31:40.441Z"
   },
   {
    "duration": 297,
    "start_time": "2022-02-25T05:31:40.741Z"
   },
   {
    "duration": 8,
    "start_time": "2022-02-25T05:31:41.040Z"
   },
   {
    "duration": 144,
    "start_time": "2022-02-25T05:31:41.050Z"
   },
   {
    "duration": 136,
    "start_time": "2022-02-25T05:31:41.196Z"
   },
   {
    "duration": 31,
    "start_time": "2022-02-25T05:31:41.333Z"
   },
   {
    "duration": 6,
    "start_time": "2022-02-25T05:31:41.365Z"
   },
   {
    "duration": 141,
    "start_time": "2022-02-25T05:31:41.372Z"
   },
   {
    "duration": 18,
    "start_time": "2022-02-25T05:31:41.515Z"
   },
   {
    "duration": 134,
    "start_time": "2022-02-25T05:31:41.534Z"
   },
   {
    "duration": 6,
    "start_time": "2022-02-25T05:31:41.670Z"
   },
   {
    "duration": 4,
    "start_time": "2022-02-25T05:31:41.677Z"
   },
   {
    "duration": 502,
    "start_time": "2022-02-25T05:31:41.682Z"
   },
   {
    "duration": 201,
    "start_time": "2022-02-25T05:31:42.186Z"
   },
   {
    "duration": 150,
    "start_time": "2022-02-25T05:31:42.389Z"
   },
   {
    "duration": 471,
    "start_time": "2022-02-25T05:31:42.541Z"
   },
   {
    "duration": 167,
    "start_time": "2022-02-25T05:31:43.014Z"
   },
   {
    "duration": 187,
    "start_time": "2022-02-25T05:31:43.183Z"
   },
   {
    "duration": 154,
    "start_time": "2022-02-25T05:31:43.371Z"
   },
   {
    "duration": 11,
    "start_time": "2022-02-25T05:31:43.526Z"
   },
   {
    "duration": 11,
    "start_time": "2022-02-25T05:31:43.539Z"
   },
   {
    "duration": 7,
    "start_time": "2022-02-25T05:31:43.551Z"
   },
   {
    "duration": 176,
    "start_time": "2022-02-25T05:31:43.559Z"
   },
   {
    "duration": 23,
    "start_time": "2022-02-25T05:31:43.737Z"
   },
   {
    "duration": 17,
    "start_time": "2022-02-25T05:31:43.762Z"
   },
   {
    "duration": 146,
    "start_time": "2022-02-25T05:31:45.931Z"
   },
   {
    "duration": 122,
    "start_time": "2022-02-25T05:32:18.646Z"
   },
   {
    "duration": 4480,
    "start_time": "2022-02-25T05:35:29.331Z"
   },
   {
    "duration": 191,
    "start_time": "2022-02-25T05:35:38.348Z"
   },
   {
    "duration": 265,
    "start_time": "2022-02-25T05:37:44.499Z"
   },
   {
    "duration": 294,
    "start_time": "2022-02-25T05:38:20.332Z"
   },
   {
    "duration": 307,
    "start_time": "2022-02-25T05:40:01.928Z"
   },
   {
    "duration": 17950,
    "start_time": "2022-02-25T05:41:00.585Z"
   },
   {
    "duration": 355,
    "start_time": "2022-02-25T05:41:46.111Z"
   },
   {
    "duration": 277,
    "start_time": "2022-02-25T05:44:48.271Z"
   },
   {
    "duration": 467,
    "start_time": "2022-02-25T05:48:26.949Z"
   },
   {
    "duration": 345,
    "start_time": "2022-02-25T05:49:16.796Z"
   },
   {
    "duration": 457,
    "start_time": "2022-02-25T05:49:26.050Z"
   },
   {
    "duration": 6,
    "start_time": "2022-02-25T05:50:15.495Z"
   },
   {
    "duration": 391,
    "start_time": "2022-02-25T05:50:52.211Z"
   },
   {
    "duration": 585,
    "start_time": "2022-02-25T05:51:03.795Z"
   },
   {
    "duration": 6,
    "start_time": "2022-02-25T05:52:04.511Z"
   },
   {
    "duration": 13,
    "start_time": "2022-02-25T05:52:54.934Z"
   },
   {
    "duration": 165,
    "start_time": "2022-02-25T05:53:11.826Z"
   },
   {
    "duration": 278,
    "start_time": "2022-02-25T05:55:19.958Z"
   },
   {
    "duration": 301,
    "start_time": "2022-02-25T05:55:33.569Z"
   },
   {
    "duration": 85,
    "start_time": "2022-02-25T05:55:41.765Z"
   },
   {
    "duration": 9,
    "start_time": "2022-02-25T05:55:41.851Z"
   },
   {
    "duration": 7,
    "start_time": "2022-02-25T05:55:41.862Z"
   },
   {
    "duration": 23,
    "start_time": "2022-02-25T05:55:41.870Z"
   },
   {
    "duration": 3,
    "start_time": "2022-02-25T05:55:41.895Z"
   },
   {
    "duration": 35,
    "start_time": "2022-02-25T05:55:41.899Z"
   },
   {
    "duration": 10,
    "start_time": "2022-02-25T05:55:41.936Z"
   },
   {
    "duration": 143,
    "start_time": "2022-02-25T05:55:41.948Z"
   },
   {
    "duration": 4,
    "start_time": "2022-02-25T05:55:42.094Z"
   },
   {
    "duration": 7,
    "start_time": "2022-02-25T05:55:42.100Z"
   },
   {
    "duration": 32,
    "start_time": "2022-02-25T05:55:42.108Z"
   },
   {
    "duration": 3,
    "start_time": "2022-02-25T05:55:42.141Z"
   },
   {
    "duration": 6,
    "start_time": "2022-02-25T05:55:42.146Z"
   },
   {
    "duration": 5,
    "start_time": "2022-02-25T05:55:42.153Z"
   },
   {
    "duration": 10,
    "start_time": "2022-02-25T05:55:42.160Z"
   },
   {
    "duration": 47,
    "start_time": "2022-02-25T05:55:42.172Z"
   },
   {
    "duration": 531,
    "start_time": "2022-02-25T05:55:42.220Z"
   },
   {
    "duration": 21,
    "start_time": "2022-02-25T05:55:42.753Z"
   },
   {
    "duration": 188,
    "start_time": "2022-02-25T05:55:42.775Z"
   },
   {
    "duration": 181,
    "start_time": "2022-02-25T05:55:42.964Z"
   },
   {
    "duration": 295,
    "start_time": "2022-02-25T05:55:43.146Z"
   },
   {
    "duration": 305,
    "start_time": "2022-02-25T05:55:43.443Z"
   },
   {
    "duration": 303,
    "start_time": "2022-02-25T05:55:43.751Z"
   },
   {
    "duration": 7,
    "start_time": "2022-02-25T05:55:44.056Z"
   },
   {
    "duration": 145,
    "start_time": "2022-02-25T05:55:44.065Z"
   },
   {
    "duration": 136,
    "start_time": "2022-02-25T05:55:44.211Z"
   },
   {
    "duration": 30,
    "start_time": "2022-02-25T05:55:44.349Z"
   },
   {
    "duration": 6,
    "start_time": "2022-02-25T05:55:44.380Z"
   },
   {
    "duration": 138,
    "start_time": "2022-02-25T05:55:44.388Z"
   },
   {
    "duration": 5,
    "start_time": "2022-02-25T05:55:44.532Z"
   },
   {
    "duration": 131,
    "start_time": "2022-02-25T05:55:44.539Z"
   },
   {
    "duration": 6,
    "start_time": "2022-02-25T05:55:44.671Z"
   },
   {
    "duration": 4,
    "start_time": "2022-02-25T05:55:44.679Z"
   },
   {
    "duration": 487,
    "start_time": "2022-02-25T05:55:44.684Z"
   },
   {
    "duration": 195,
    "start_time": "2022-02-25T05:55:45.172Z"
   },
   {
    "duration": 154,
    "start_time": "2022-02-25T05:55:45.369Z"
   },
   {
    "duration": 481,
    "start_time": "2022-02-25T05:55:45.525Z"
   },
   {
    "duration": 183,
    "start_time": "2022-02-25T05:55:46.008Z"
   },
   {
    "duration": 192,
    "start_time": "2022-02-25T05:55:46.193Z"
   },
   {
    "duration": 166,
    "start_time": "2022-02-25T05:55:46.386Z"
   },
   {
    "duration": 7,
    "start_time": "2022-02-25T05:55:46.554Z"
   },
   {
    "duration": 10,
    "start_time": "2022-02-25T05:55:46.563Z"
   },
   {
    "duration": 8,
    "start_time": "2022-02-25T05:55:46.575Z"
   },
   {
    "duration": 180,
    "start_time": "2022-02-25T05:55:46.584Z"
   },
   {
    "duration": 21,
    "start_time": "2022-02-25T05:55:46.766Z"
   },
   {
    "duration": 15,
    "start_time": "2022-02-25T05:55:46.789Z"
   },
   {
    "duration": 6,
    "start_time": "2022-02-25T05:55:49.321Z"
   },
   {
    "duration": 130,
    "start_time": "2022-02-25T05:59:18.891Z"
   },
   {
    "duration": 6,
    "start_time": "2022-02-25T05:59:37.381Z"
   },
   {
    "duration": 132,
    "start_time": "2022-02-25T06:00:01.870Z"
   },
   {
    "duration": 7,
    "start_time": "2022-02-25T06:00:34.060Z"
   },
   {
    "duration": 6,
    "start_time": "2022-02-25T06:01:30.623Z"
   },
   {
    "duration": 347,
    "start_time": "2022-02-25T06:02:41.223Z"
   },
   {
    "duration": 126,
    "start_time": "2022-02-25T06:04:05.919Z"
   },
   {
    "duration": 129,
    "start_time": "2022-02-25T06:04:12.778Z"
   },
   {
    "duration": 16,
    "start_time": "2022-02-25T06:04:39.539Z"
   },
   {
    "duration": 132,
    "start_time": "2022-02-25T06:04:42.219Z"
   },
   {
    "duration": 339,
    "start_time": "2022-02-25T06:04:44.464Z"
   },
   {
    "duration": 139,
    "start_time": "2022-02-25T06:04:54.419Z"
   },
   {
    "duration": 372,
    "start_time": "2022-02-25T06:08:40.703Z"
   },
   {
    "duration": 166,
    "start_time": "2022-02-25T06:09:22.691Z"
   },
   {
    "duration": 273,
    "start_time": "2022-02-25T06:09:40.662Z"
   },
   {
    "duration": 289,
    "start_time": "2022-02-25T06:10:26.746Z"
   },
   {
    "duration": 240,
    "start_time": "2022-02-25T06:10:43.877Z"
   },
   {
    "duration": 367,
    "start_time": "2022-02-25T06:11:34.555Z"
   },
   {
    "duration": 140,
    "start_time": "2022-02-25T06:12:01.441Z"
   },
   {
    "duration": 336,
    "start_time": "2022-02-25T06:13:25.240Z"
   },
   {
    "duration": 38914,
    "start_time": "2022-02-25T06:13:30.351Z"
   },
   {
    "duration": 219,
    "start_time": "2022-02-25T06:14:26.764Z"
   },
   {
    "duration": 92,
    "start_time": "2022-02-25T06:57:36.225Z"
   },
   {
    "duration": 9,
    "start_time": "2022-02-25T06:57:36.319Z"
   },
   {
    "duration": 7,
    "start_time": "2022-02-25T06:57:36.330Z"
   },
   {
    "duration": 22,
    "start_time": "2022-02-25T06:57:36.338Z"
   },
   {
    "duration": 4,
    "start_time": "2022-02-25T06:57:36.362Z"
   },
   {
    "duration": 7,
    "start_time": "2022-02-25T06:57:36.367Z"
   },
   {
    "duration": 10,
    "start_time": "2022-02-25T06:57:36.375Z"
   },
   {
    "duration": 135,
    "start_time": "2022-02-25T06:57:36.387Z"
   },
   {
    "duration": 10,
    "start_time": "2022-02-25T06:57:36.524Z"
   },
   {
    "duration": 7,
    "start_time": "2022-02-25T06:57:36.535Z"
   },
   {
    "duration": 19,
    "start_time": "2022-02-25T06:57:36.543Z"
   },
   {
    "duration": 6,
    "start_time": "2022-02-25T06:57:41.570Z"
   },
   {
    "duration": 9,
    "start_time": "2022-02-25T06:58:14.972Z"
   },
   {
    "duration": 82,
    "start_time": "2022-02-25T07:00:43.471Z"
   },
   {
    "duration": 284,
    "start_time": "2022-02-25T07:00:43.554Z"
   },
   {
    "duration": 326,
    "start_time": "2022-02-25T07:00:43.840Z"
   },
   {
    "duration": 77,
    "start_time": "2022-02-25T07:00:44.167Z"
   },
   {
    "duration": 3,
    "start_time": "2022-02-25T07:00:44.246Z"
   },
   {
    "duration": 8,
    "start_time": "2022-02-25T07:00:44.250Z"
   },
   {
    "duration": 16,
    "start_time": "2022-02-25T07:00:44.259Z"
   },
   {
    "duration": 127,
    "start_time": "2022-02-25T07:00:44.278Z"
   },
   {
    "duration": 4,
    "start_time": "2022-02-25T07:00:44.406Z"
   },
   {
    "duration": 6,
    "start_time": "2022-02-25T07:00:44.412Z"
   },
   {
    "duration": 32,
    "start_time": "2022-02-25T07:00:44.420Z"
   },
   {
    "duration": 241,
    "start_time": "2022-02-25T07:00:47.616Z"
   },
   {
    "duration": 5,
    "start_time": "2022-02-25T07:00:53.040Z"
   },
   {
    "duration": 6,
    "start_time": "2022-02-25T07:01:04.300Z"
   },
   {
    "duration": 31,
    "start_time": "2022-02-25T07:01:43.100Z"
   },
   {
    "duration": 34,
    "start_time": "2022-02-25T07:02:24.150Z"
   },
   {
    "duration": 81,
    "start_time": "2022-02-25T07:05:09.710Z"
   },
   {
    "duration": 9,
    "start_time": "2022-02-25T07:05:09.793Z"
   },
   {
    "duration": 6,
    "start_time": "2022-02-25T07:05:09.804Z"
   },
   {
    "duration": 39,
    "start_time": "2022-02-25T07:05:09.813Z"
   },
   {
    "duration": 3,
    "start_time": "2022-02-25T07:05:09.853Z"
   },
   {
    "duration": 4,
    "start_time": "2022-02-25T07:05:09.858Z"
   },
   {
    "duration": 10,
    "start_time": "2022-02-25T07:05:09.863Z"
   },
   {
    "duration": 135,
    "start_time": "2022-02-25T07:05:09.875Z"
   },
   {
    "duration": 4,
    "start_time": "2022-02-25T07:05:10.011Z"
   },
   {
    "duration": 15,
    "start_time": "2022-02-25T07:05:10.017Z"
   },
   {
    "duration": 33,
    "start_time": "2022-02-25T07:05:23.904Z"
   },
   {
    "duration": 35,
    "start_time": "2022-02-25T07:05:35.632Z"
   },
   {
    "duration": 7,
    "start_time": "2022-02-25T07:06:00.302Z"
   },
   {
    "duration": 58,
    "start_time": "2022-02-25T07:08:11.213Z"
   },
   {
    "duration": 3,
    "start_time": "2022-02-25T07:10:47.538Z"
   },
   {
    "duration": 6,
    "start_time": "2022-02-25T07:16:00.785Z"
   },
   {
    "duration": 9,
    "start_time": "2022-02-25T07:47:14.227Z"
   },
   {
    "duration": 563,
    "start_time": "2022-02-25T08:23:22.660Z"
   },
   {
    "duration": 463,
    "start_time": "2022-02-25T08:24:02.588Z"
   },
   {
    "duration": 743,
    "start_time": "2022-02-25T08:24:15.641Z"
   },
   {
    "duration": 311,
    "start_time": "2022-02-25T08:24:21.929Z"
   },
   {
    "duration": 128,
    "start_time": "2022-02-25T08:30:36.505Z"
   },
   {
    "duration": 88,
    "start_time": "2022-02-25T08:49:57.460Z"
   },
   {
    "duration": 9,
    "start_time": "2022-02-25T08:49:57.550Z"
   },
   {
    "duration": 8,
    "start_time": "2022-02-25T08:49:57.561Z"
   },
   {
    "duration": 23,
    "start_time": "2022-02-25T08:49:57.571Z"
   },
   {
    "duration": 4,
    "start_time": "2022-02-25T08:49:57.596Z"
   },
   {
    "duration": 31,
    "start_time": "2022-02-25T08:49:57.601Z"
   },
   {
    "duration": 12,
    "start_time": "2022-02-25T08:49:57.633Z"
   },
   {
    "duration": 143,
    "start_time": "2022-02-25T08:49:57.648Z"
   },
   {
    "duration": 4,
    "start_time": "2022-02-25T08:49:57.793Z"
   },
   {
    "duration": 8,
    "start_time": "2022-02-25T08:49:57.799Z"
   },
   {
    "duration": 7,
    "start_time": "2022-02-25T08:49:57.808Z"
   },
   {
    "duration": 16,
    "start_time": "2022-02-25T08:49:57.817Z"
   },
   {
    "duration": 7,
    "start_time": "2022-02-25T08:49:57.834Z"
   },
   {
    "duration": 3,
    "start_time": "2022-02-25T08:49:57.843Z"
   },
   {
    "duration": 10,
    "start_time": "2022-02-25T08:49:57.848Z"
   },
   {
    "duration": 31,
    "start_time": "2022-02-25T08:49:57.859Z"
   },
   {
    "duration": 1300,
    "start_time": "2022-02-25T08:49:57.891Z"
   },
   {
    "duration": 23,
    "start_time": "2022-02-25T08:49:59.192Z"
   },
   {
    "duration": 22,
    "start_time": "2022-02-25T08:49:59.216Z"
   },
   {
    "duration": 194,
    "start_time": "2022-02-25T08:49:59.240Z"
   },
   {
    "duration": 205,
    "start_time": "2022-02-25T08:49:59.436Z"
   },
   {
    "duration": 322,
    "start_time": "2022-02-25T08:49:59.643Z"
   },
   {
    "duration": 346,
    "start_time": "2022-02-25T08:49:59.968Z"
   },
   {
    "duration": 337,
    "start_time": "2022-02-25T08:50:00.315Z"
   },
   {
    "duration": 8,
    "start_time": "2022-02-25T08:50:00.653Z"
   },
   {
    "duration": 159,
    "start_time": "2022-02-25T08:50:00.663Z"
   },
   {
    "duration": 152,
    "start_time": "2022-02-25T08:50:00.824Z"
   },
   {
    "duration": 35,
    "start_time": "2022-02-25T08:50:00.979Z"
   },
   {
    "duration": 21,
    "start_time": "2022-02-25T08:50:01.016Z"
   },
   {
    "duration": 174,
    "start_time": "2022-02-25T08:50:01.039Z"
   },
   {
    "duration": 7,
    "start_time": "2022-02-25T08:50:01.215Z"
   },
   {
    "duration": 146,
    "start_time": "2022-02-25T08:50:01.223Z"
   },
   {
    "duration": 8,
    "start_time": "2022-02-25T08:50:01.371Z"
   },
   {
    "duration": 32,
    "start_time": "2022-02-25T08:50:01.381Z"
   },
   {
    "duration": 473,
    "start_time": "2022-02-25T08:50:03.316Z"
   },
   {
    "duration": 175,
    "start_time": "2022-02-25T08:51:03.638Z"
   },
   {
    "duration": 163,
    "start_time": "2022-02-25T08:51:38.249Z"
   },
   {
    "duration": 255,
    "start_time": "2022-02-25T08:56:37.365Z"
   },
   {
    "duration": 175,
    "start_time": "2022-02-25T09:02:37.565Z"
   },
   {
    "duration": 147,
    "start_time": "2022-02-25T09:03:31.619Z"
   },
   {
    "duration": 175,
    "start_time": "2022-02-25T09:37:03.273Z"
   },
   {
    "duration": 175,
    "start_time": "2022-02-25T09:37:27.483Z"
   },
   {
    "duration": 171,
    "start_time": "2022-02-25T09:39:45.000Z"
   },
   {
    "duration": 161,
    "start_time": "2022-02-25T09:40:00.156Z"
   },
   {
    "duration": 152,
    "start_time": "2022-02-25T09:40:14.089Z"
   },
   {
    "duration": 8,
    "start_time": "2022-02-25T09:44:15.736Z"
   },
   {
    "duration": 275,
    "start_time": "2022-02-25T09:49:01.862Z"
   },
   {
    "duration": 165,
    "start_time": "2022-02-25T09:49:09.290Z"
   },
   {
    "duration": 86,
    "start_time": "2022-02-25T09:49:18.351Z"
   },
   {
    "duration": 10,
    "start_time": "2022-02-25T09:49:18.439Z"
   },
   {
    "duration": 18,
    "start_time": "2022-02-25T09:49:18.451Z"
   },
   {
    "duration": 37,
    "start_time": "2022-02-25T09:49:18.471Z"
   },
   {
    "duration": 3,
    "start_time": "2022-02-25T09:49:18.510Z"
   },
   {
    "duration": 17,
    "start_time": "2022-02-25T09:49:18.515Z"
   },
   {
    "duration": 42,
    "start_time": "2022-02-25T09:49:18.534Z"
   },
   {
    "duration": 173,
    "start_time": "2022-02-25T09:49:18.578Z"
   },
   {
    "duration": 4,
    "start_time": "2022-02-25T09:49:18.754Z"
   },
   {
    "duration": 8,
    "start_time": "2022-02-25T09:49:18.760Z"
   },
   {
    "duration": 7,
    "start_time": "2022-02-25T09:49:18.770Z"
   },
   {
    "duration": 3,
    "start_time": "2022-02-25T09:49:18.778Z"
   },
   {
    "duration": 8,
    "start_time": "2022-02-25T09:49:18.783Z"
   },
   {
    "duration": 6,
    "start_time": "2022-02-25T09:49:18.792Z"
   },
   {
    "duration": 34,
    "start_time": "2022-02-25T09:49:18.800Z"
   },
   {
    "duration": 30,
    "start_time": "2022-02-25T09:49:18.836Z"
   },
   {
    "duration": 528,
    "start_time": "2022-02-25T09:49:18.868Z"
   },
   {
    "duration": 35,
    "start_time": "2022-02-25T09:49:19.398Z"
   },
   {
    "duration": 9,
    "start_time": "2022-02-25T09:49:19.434Z"
   },
   {
    "duration": 188,
    "start_time": "2022-02-25T09:49:19.445Z"
   },
   {
    "duration": 188,
    "start_time": "2022-02-25T09:49:19.635Z"
   },
   {
    "duration": 288,
    "start_time": "2022-02-25T09:49:19.824Z"
   },
   {
    "duration": 295,
    "start_time": "2022-02-25T09:49:20.114Z"
   },
   {
    "duration": 304,
    "start_time": "2022-02-25T09:49:20.410Z"
   },
   {
    "duration": 16,
    "start_time": "2022-02-25T09:49:20.716Z"
   },
   {
    "duration": 143,
    "start_time": "2022-02-25T09:49:20.734Z"
   },
   {
    "duration": 133,
    "start_time": "2022-02-25T09:49:20.880Z"
   },
   {
    "duration": 41,
    "start_time": "2022-02-25T09:49:21.014Z"
   },
   {
    "duration": 7,
    "start_time": "2022-02-25T09:49:21.056Z"
   },
   {
    "duration": 140,
    "start_time": "2022-02-25T09:49:21.065Z"
   },
   {
    "duration": 8,
    "start_time": "2022-02-25T09:49:21.207Z"
   },
   {
    "duration": 132,
    "start_time": "2022-02-25T09:49:21.232Z"
   },
   {
    "duration": 6,
    "start_time": "2022-02-25T09:49:21.366Z"
   },
   {
    "duration": 3,
    "start_time": "2022-02-25T09:49:21.374Z"
   },
   {
    "duration": 511,
    "start_time": "2022-02-25T09:49:21.379Z"
   },
   {
    "duration": 204,
    "start_time": "2022-02-25T09:49:21.891Z"
   },
   {
    "duration": 239,
    "start_time": "2022-02-25T09:49:22.096Z"
   },
   {
    "duration": 621,
    "start_time": "2022-02-25T09:49:22.337Z"
   },
   {
    "duration": 175,
    "start_time": "2022-02-25T09:49:22.960Z"
   },
   {
    "duration": 192,
    "start_time": "2022-02-25T09:49:23.137Z"
   },
   {
    "duration": 159,
    "start_time": "2022-02-25T09:49:23.330Z"
   },
   {
    "duration": 7,
    "start_time": "2022-02-25T09:49:23.491Z"
   },
   {
    "duration": 46,
    "start_time": "2022-02-25T09:49:23.500Z"
   },
   {
    "duration": 14,
    "start_time": "2022-02-25T09:49:23.548Z"
   },
   {
    "duration": 176,
    "start_time": "2022-02-25T09:49:27.035Z"
   },
   {
    "duration": 22,
    "start_time": "2022-02-25T09:51:34.990Z"
   },
   {
    "duration": 33,
    "start_time": "2022-02-25T09:51:43.698Z"
   },
   {
    "duration": 103,
    "start_time": "2022-02-25T09:52:33.745Z"
   },
   {
    "duration": 9,
    "start_time": "2022-02-25T09:52:33.850Z"
   },
   {
    "duration": 32,
    "start_time": "2022-02-25T09:52:33.861Z"
   },
   {
    "duration": 32,
    "start_time": "2022-02-25T09:52:33.896Z"
   },
   {
    "duration": 14,
    "start_time": "2022-02-25T09:52:33.931Z"
   },
   {
    "duration": 14,
    "start_time": "2022-02-25T09:52:33.947Z"
   },
   {
    "duration": 34,
    "start_time": "2022-02-25T09:52:33.963Z"
   },
   {
    "duration": 135,
    "start_time": "2022-02-25T09:52:33.999Z"
   },
   {
    "duration": 4,
    "start_time": "2022-02-25T09:52:34.136Z"
   },
   {
    "duration": 36,
    "start_time": "2022-02-25T09:52:34.142Z"
   },
   {
    "duration": 35,
    "start_time": "2022-02-25T09:52:34.179Z"
   },
   {
    "duration": 28,
    "start_time": "2022-02-25T09:52:34.215Z"
   },
   {
    "duration": 47,
    "start_time": "2022-02-25T09:52:34.245Z"
   },
   {
    "duration": 20,
    "start_time": "2022-02-25T09:52:34.295Z"
   },
   {
    "duration": 22,
    "start_time": "2022-02-25T09:52:34.317Z"
   },
   {
    "duration": 64,
    "start_time": "2022-02-25T09:52:34.341Z"
   },
   {
    "duration": 579,
    "start_time": "2022-02-25T09:52:34.407Z"
   },
   {
    "duration": 21,
    "start_time": "2022-02-25T09:52:34.987Z"
   },
   {
    "duration": 24,
    "start_time": "2022-02-25T09:52:35.010Z"
   },
   {
    "duration": 190,
    "start_time": "2022-02-25T09:52:35.035Z"
   },
   {
    "duration": 239,
    "start_time": "2022-02-25T09:52:35.227Z"
   },
   {
    "duration": 315,
    "start_time": "2022-02-25T09:52:35.468Z"
   },
   {
    "duration": 400,
    "start_time": "2022-02-25T09:52:35.787Z"
   },
   {
    "duration": 339,
    "start_time": "2022-02-25T09:52:36.189Z"
   },
   {
    "duration": 7,
    "start_time": "2022-02-25T09:52:36.530Z"
   },
   {
    "duration": 174,
    "start_time": "2022-02-25T09:52:36.539Z"
   },
   {
    "duration": 177,
    "start_time": "2022-02-25T09:52:36.715Z"
   },
   {
    "duration": 38,
    "start_time": "2022-02-25T09:52:36.894Z"
   },
   {
    "duration": 7,
    "start_time": "2022-02-25T09:52:36.933Z"
   },
   {
    "duration": 143,
    "start_time": "2022-02-25T09:52:36.942Z"
   },
   {
    "duration": 10,
    "start_time": "2022-02-25T09:52:37.087Z"
   },
   {
    "duration": 128,
    "start_time": "2022-02-25T09:52:37.098Z"
   },
   {
    "duration": 7,
    "start_time": "2022-02-25T09:52:37.232Z"
   },
   {
    "duration": 17,
    "start_time": "2022-02-25T09:52:37.241Z"
   },
   {
    "duration": 530,
    "start_time": "2022-02-25T09:52:37.260Z"
   },
   {
    "duration": 219,
    "start_time": "2022-02-25T09:52:37.792Z"
   },
   {
    "duration": 172,
    "start_time": "2022-02-25T09:52:38.013Z"
   },
   {
    "duration": 554,
    "start_time": "2022-02-25T09:52:38.187Z"
   },
   {
    "duration": 209,
    "start_time": "2022-02-25T09:52:38.744Z"
   },
   {
    "duration": 223,
    "start_time": "2022-02-25T09:52:38.955Z"
   },
   {
    "duration": 168,
    "start_time": "2022-02-25T09:52:39.180Z"
   },
   {
    "duration": 23,
    "start_time": "2022-02-25T09:52:39.350Z"
   },
   {
    "duration": 31,
    "start_time": "2022-02-25T09:52:39.374Z"
   },
   {
    "duration": 12,
    "start_time": "2022-02-25T09:52:39.406Z"
   },
   {
    "duration": 185,
    "start_time": "2022-02-25T09:52:39.419Z"
   },
   {
    "duration": 43,
    "start_time": "2022-02-25T09:52:39.606Z"
   },
   {
    "duration": 16,
    "start_time": "2022-02-25T09:52:39.651Z"
   },
   {
    "duration": 156,
    "start_time": "2022-02-25T09:53:54.881Z"
   },
   {
    "duration": 402,
    "start_time": "2022-02-25T09:53:57.703Z"
   },
   {
    "duration": 146,
    "start_time": "2022-02-25T09:54:00.489Z"
   },
   {
    "duration": 227,
    "start_time": "2022-02-25T09:54:02.821Z"
   },
   {
    "duration": 189,
    "start_time": "2022-02-25T10:01:22.516Z"
   },
   {
    "duration": 168,
    "start_time": "2022-02-25T10:01:37.451Z"
   },
   {
    "duration": 293,
    "start_time": "2022-02-25T11:08:36.516Z"
   },
   {
    "duration": 40145,
    "start_time": "2022-02-25T11:09:15.293Z"
   },
   {
    "duration": 405,
    "start_time": "2022-02-25T11:13:14.127Z"
   },
   {
    "duration": 135,
    "start_time": "2022-02-25T11:14:21.553Z"
   },
   {
    "duration": 138,
    "start_time": "2022-02-25T11:14:48.526Z"
   },
   {
    "duration": 32,
    "start_time": "2022-02-25T11:15:54.866Z"
   },
   {
    "duration": 42,
    "start_time": "2022-02-25T11:17:28.578Z"
   },
   {
    "duration": 19,
    "start_time": "2022-02-25T11:39:14.426Z"
   },
   {
    "duration": 21919,
    "start_time": "2022-02-25T11:39:33.275Z"
   },
   {
    "duration": 14406,
    "start_time": "2022-02-25T11:40:28.016Z"
   },
   {
    "duration": 153,
    "start_time": "2022-02-25T11:41:00.868Z"
   },
   {
    "duration": 292,
    "start_time": "2022-02-25T11:41:19.573Z"
   },
   {
    "duration": 164,
    "start_time": "2022-02-25T11:41:38.073Z"
   },
   {
    "duration": 150,
    "start_time": "2022-02-25T11:41:47.443Z"
   },
   {
    "duration": 34,
    "start_time": "2022-02-25T11:45:13.624Z"
   },
   {
    "duration": 33,
    "start_time": "2022-02-25T11:47:06.342Z"
   },
   {
    "duration": 34,
    "start_time": "2022-02-25T11:47:47.083Z"
   },
   {
    "duration": 14,
    "start_time": "2022-02-25T11:50:58.731Z"
   },
   {
    "duration": 404,
    "start_time": "2022-02-25T12:16:01.971Z"
   },
   {
    "duration": 10,
    "start_time": "2022-02-25T12:16:02.377Z"
   },
   {
    "duration": 8,
    "start_time": "2022-02-25T12:16:02.389Z"
   },
   {
    "duration": 56,
    "start_time": "2022-02-25T12:16:02.399Z"
   },
   {
    "duration": 3,
    "start_time": "2022-02-25T12:16:02.457Z"
   },
   {
    "duration": 4,
    "start_time": "2022-02-25T12:16:02.462Z"
   },
   {
    "duration": 10,
    "start_time": "2022-02-25T12:16:02.468Z"
   },
   {
    "duration": 141,
    "start_time": "2022-02-25T12:16:02.480Z"
   },
   {
    "duration": 11,
    "start_time": "2022-02-25T12:16:02.623Z"
   },
   {
    "duration": 9,
    "start_time": "2022-02-25T12:16:02.635Z"
   },
   {
    "duration": 7,
    "start_time": "2022-02-25T12:16:02.645Z"
   },
   {
    "duration": 5,
    "start_time": "2022-02-25T12:16:02.653Z"
   },
   {
    "duration": 5,
    "start_time": "2022-02-25T12:16:02.659Z"
   },
   {
    "duration": 4,
    "start_time": "2022-02-25T12:16:02.665Z"
   },
   {
    "duration": 11,
    "start_time": "2022-02-25T12:16:02.671Z"
   },
   {
    "duration": 53,
    "start_time": "2022-02-25T12:16:02.683Z"
   },
   {
    "duration": 577,
    "start_time": "2022-02-25T12:16:02.738Z"
   },
   {
    "duration": 20,
    "start_time": "2022-02-25T12:16:03.317Z"
   },
   {
    "duration": 8,
    "start_time": "2022-02-25T12:16:03.339Z"
   },
   {
    "duration": 168,
    "start_time": "2022-02-25T12:16:03.348Z"
   },
   {
    "duration": 184,
    "start_time": "2022-02-25T12:16:03.517Z"
   },
   {
    "duration": 283,
    "start_time": "2022-02-25T12:16:03.704Z"
   },
   {
    "duration": 307,
    "start_time": "2022-02-25T12:16:03.992Z"
   },
   {
    "duration": 310,
    "start_time": "2022-02-25T12:16:04.301Z"
   },
   {
    "duration": 8,
    "start_time": "2022-02-25T12:16:04.612Z"
   },
   {
    "duration": 139,
    "start_time": "2022-02-25T12:16:04.632Z"
   },
   {
    "duration": 129,
    "start_time": "2022-02-25T12:16:04.773Z"
   },
   {
    "duration": 40,
    "start_time": "2022-02-25T12:16:04.904Z"
   },
   {
    "duration": 7,
    "start_time": "2022-02-25T12:16:04.945Z"
   },
   {
    "duration": 145,
    "start_time": "2022-02-25T12:16:04.954Z"
   },
   {
    "duration": 8,
    "start_time": "2022-02-25T12:16:05.101Z"
   },
   {
    "duration": 135,
    "start_time": "2022-02-25T12:16:05.111Z"
   },
   {
    "duration": 6,
    "start_time": "2022-02-25T12:16:05.248Z"
   },
   {
    "duration": 3,
    "start_time": "2022-02-25T12:16:05.256Z"
   },
   {
    "duration": 502,
    "start_time": "2022-02-25T12:16:05.261Z"
   },
   {
    "duration": 203,
    "start_time": "2022-02-25T12:16:05.764Z"
   },
   {
    "duration": 166,
    "start_time": "2022-02-25T12:16:05.968Z"
   },
   {
    "duration": 461,
    "start_time": "2022-02-25T12:16:06.136Z"
   },
   {
    "duration": 176,
    "start_time": "2022-02-25T12:16:06.599Z"
   },
   {
    "duration": 201,
    "start_time": "2022-02-25T12:16:06.777Z"
   },
   {
    "duration": 186,
    "start_time": "2022-02-25T12:16:06.980Z"
   },
   {
    "duration": 9,
    "start_time": "2022-02-25T12:16:07.168Z"
   },
   {
    "duration": 22,
    "start_time": "2022-02-25T12:16:07.179Z"
   },
   {
    "duration": 8,
    "start_time": "2022-02-25T12:16:07.202Z"
   },
   {
    "duration": 182,
    "start_time": "2022-02-25T12:16:07.212Z"
   },
   {
    "duration": 38,
    "start_time": "2022-02-25T12:16:07.395Z"
   },
   {
    "duration": 18,
    "start_time": "2022-02-25T12:16:07.434Z"
   },
   {
    "duration": 155,
    "start_time": "2022-02-25T12:16:07.454Z"
   },
   {
    "duration": 183,
    "start_time": "2022-02-25T12:16:07.610Z"
   },
   {
    "duration": 149,
    "start_time": "2022-02-25T12:16:07.795Z"
   },
   {
    "duration": 150,
    "start_time": "2022-02-25T12:16:24.828Z"
   },
   {
    "duration": 312,
    "start_time": "2022-03-09T05:39:40.862Z"
   },
   {
    "duration": 1111,
    "start_time": "2022-03-09T05:39:47.226Z"
   },
   {
    "duration": 11,
    "start_time": "2022-03-09T05:39:48.339Z"
   },
   {
    "duration": 8,
    "start_time": "2022-03-09T05:39:48.352Z"
   },
   {
    "duration": 49,
    "start_time": "2022-03-09T05:39:48.362Z"
   },
   {
    "duration": 4,
    "start_time": "2022-03-09T05:39:48.412Z"
   },
   {
    "duration": 5,
    "start_time": "2022-03-09T05:39:48.417Z"
   },
   {
    "duration": 10,
    "start_time": "2022-03-09T05:39:48.423Z"
   },
   {
    "duration": 146,
    "start_time": "2022-03-09T05:39:48.435Z"
   },
   {
    "duration": 4,
    "start_time": "2022-03-09T05:39:48.584Z"
   },
   {
    "duration": 20,
    "start_time": "2022-03-09T05:39:48.590Z"
   },
   {
    "duration": 7,
    "start_time": "2022-03-09T05:39:48.611Z"
   },
   {
    "duration": 3,
    "start_time": "2022-03-09T05:39:48.619Z"
   },
   {
    "duration": 6,
    "start_time": "2022-03-09T05:39:48.624Z"
   },
   {
    "duration": 6,
    "start_time": "2022-03-09T05:39:48.632Z"
   },
   {
    "duration": 8,
    "start_time": "2022-03-09T05:39:48.640Z"
   },
   {
    "duration": 31,
    "start_time": "2022-03-09T05:39:48.649Z"
   },
   {
    "duration": 578,
    "start_time": "2022-03-09T05:39:48.705Z"
   },
   {
    "duration": 25,
    "start_time": "2022-03-09T05:39:49.285Z"
   },
   {
    "duration": 10,
    "start_time": "2022-03-09T05:39:49.312Z"
   },
   {
    "duration": 194,
    "start_time": "2022-03-09T05:39:49.324Z"
   },
   {
    "duration": 199,
    "start_time": "2022-03-09T05:39:49.519Z"
   },
   {
    "duration": 370,
    "start_time": "2022-03-09T05:39:49.720Z"
   },
   {
    "duration": 322,
    "start_time": "2022-03-09T05:39:50.091Z"
   },
   {
    "duration": 326,
    "start_time": "2022-03-09T05:39:50.415Z"
   },
   {
    "duration": 8,
    "start_time": "2022-03-09T05:39:50.743Z"
   },
   {
    "duration": 162,
    "start_time": "2022-03-09T05:39:50.753Z"
   },
   {
    "duration": 149,
    "start_time": "2022-03-09T05:39:50.919Z"
   },
   {
    "duration": 40,
    "start_time": "2022-03-09T05:39:51.070Z"
   },
   {
    "duration": 8,
    "start_time": "2022-03-09T05:39:51.112Z"
   },
   {
    "duration": 147,
    "start_time": "2022-03-09T05:39:51.121Z"
   },
   {
    "duration": 8,
    "start_time": "2022-03-09T05:39:51.269Z"
   },
   {
    "duration": 138,
    "start_time": "2022-03-09T05:39:51.279Z"
   },
   {
    "duration": 6,
    "start_time": "2022-03-09T05:39:51.419Z"
   },
   {
    "duration": 7,
    "start_time": "2022-03-09T05:39:51.427Z"
   },
   {
    "duration": 11,
    "start_time": "2022-03-09T05:39:53.607Z"
   },
   {
    "duration": 77,
    "start_time": "2022-03-09T05:43:13.052Z"
   },
   {
    "duration": 71,
    "start_time": "2022-03-09T05:45:16.930Z"
   },
   {
    "duration": 1117,
    "start_time": "2022-03-09T06:01:53.904Z"
   },
   {
    "duration": 10,
    "start_time": "2022-03-09T06:01:55.023Z"
   },
   {
    "duration": 8,
    "start_time": "2022-03-09T06:01:55.036Z"
   },
   {
    "duration": 24,
    "start_time": "2022-03-09T06:01:55.046Z"
   },
   {
    "duration": 3,
    "start_time": "2022-03-09T06:01:55.072Z"
   },
   {
    "duration": 4,
    "start_time": "2022-03-09T06:01:55.105Z"
   },
   {
    "duration": 14,
    "start_time": "2022-03-09T06:01:55.110Z"
   },
   {
    "duration": 134,
    "start_time": "2022-03-09T06:01:55.126Z"
   },
   {
    "duration": 4,
    "start_time": "2022-03-09T06:01:55.263Z"
   },
   {
    "duration": 9,
    "start_time": "2022-03-09T06:01:55.268Z"
   },
   {
    "duration": 6,
    "start_time": "2022-03-09T06:01:55.278Z"
   },
   {
    "duration": 19,
    "start_time": "2022-03-09T06:01:55.285Z"
   },
   {
    "duration": 8,
    "start_time": "2022-03-09T06:01:55.306Z"
   },
   {
    "duration": 6,
    "start_time": "2022-03-09T06:01:55.315Z"
   },
   {
    "duration": 7,
    "start_time": "2022-03-09T06:01:55.323Z"
   },
   {
    "duration": 27,
    "start_time": "2022-03-09T06:01:55.331Z"
   },
   {
    "duration": 522,
    "start_time": "2022-03-09T06:01:55.359Z"
   },
   {
    "duration": 25,
    "start_time": "2022-03-09T06:01:55.883Z"
   },
   {
    "duration": 10,
    "start_time": "2022-03-09T06:01:55.909Z"
   },
   {
    "duration": 175,
    "start_time": "2022-03-09T06:01:55.920Z"
   },
   {
    "duration": 172,
    "start_time": "2022-03-09T06:01:56.097Z"
   },
   {
    "duration": 311,
    "start_time": "2022-03-09T06:01:56.271Z"
   },
   {
    "duration": 291,
    "start_time": "2022-03-09T06:01:56.584Z"
   },
   {
    "duration": 329,
    "start_time": "2022-03-09T06:01:56.876Z"
   },
   {
    "duration": 7,
    "start_time": "2022-03-09T06:01:57.207Z"
   },
   {
    "duration": 130,
    "start_time": "2022-03-09T06:01:57.215Z"
   },
   {
    "duration": 119,
    "start_time": "2022-03-09T06:01:57.348Z"
   },
   {
    "duration": 27,
    "start_time": "2022-03-09T06:01:57.468Z"
   },
   {
    "duration": 14,
    "start_time": "2022-03-09T06:01:57.496Z"
   },
   {
    "duration": 124,
    "start_time": "2022-03-09T06:01:57.511Z"
   },
   {
    "duration": 7,
    "start_time": "2022-03-09T06:01:57.636Z"
   },
   {
    "duration": 134,
    "start_time": "2022-03-09T06:01:57.645Z"
   },
   {
    "duration": 6,
    "start_time": "2022-03-09T06:01:57.780Z"
   },
   {
    "duration": 18,
    "start_time": "2022-03-09T06:01:57.787Z"
   },
   {
    "duration": 70,
    "start_time": "2022-03-09T06:01:57.806Z"
   },
   {
    "duration": 9,
    "start_time": "2022-03-09T06:01:57.877Z"
   },
   {
    "duration": 440,
    "start_time": "2022-03-09T06:01:57.888Z"
   },
   {
    "duration": 184,
    "start_time": "2022-03-09T06:01:58.329Z"
   },
   {
    "duration": 204,
    "start_time": "2022-03-09T06:01:58.515Z"
   },
   {
    "duration": 445,
    "start_time": "2022-03-09T06:01:58.720Z"
   },
   {
    "duration": 160,
    "start_time": "2022-03-09T06:01:59.167Z"
   },
   {
    "duration": 178,
    "start_time": "2022-03-09T06:01:59.329Z"
   },
   {
    "duration": 150,
    "start_time": "2022-03-09T06:01:59.509Z"
   },
   {
    "duration": 7,
    "start_time": "2022-03-09T06:01:59.661Z"
   },
   {
    "duration": 10,
    "start_time": "2022-03-09T06:01:59.669Z"
   },
   {
    "duration": 6,
    "start_time": "2022-03-09T06:01:59.680Z"
   },
   {
    "duration": 149,
    "start_time": "2022-03-09T06:01:59.705Z"
   },
   {
    "duration": 28,
    "start_time": "2022-03-09T06:01:59.856Z"
   },
   {
    "duration": 28,
    "start_time": "2022-03-09T06:01:59.885Z"
   },
   {
    "duration": 129,
    "start_time": "2022-03-09T06:01:59.914Z"
   },
   {
    "duration": 165,
    "start_time": "2022-03-09T06:02:00.044Z"
   },
   {
    "duration": 146,
    "start_time": "2022-03-09T06:02:00.210Z"
   },
   {
    "duration": 134,
    "start_time": "2022-03-09T06:02:00.357Z"
   }
  ],
  "kernelspec": {
   "display_name": "Python 3 (ipykernel)",
   "language": "python",
   "name": "python3"
  },
  "language_info": {
   "codemirror_mode": {
    "name": "ipython",
    "version": 3
   },
   "file_extension": ".py",
   "mimetype": "text/x-python",
   "name": "python",
   "nbconvert_exporter": "python",
   "pygments_lexer": "ipython3",
   "version": "3.9.7"
  },
  "toc": {
   "base_numbering": 1,
   "nav_menu": {},
   "number_sections": true,
   "sideBar": true,
   "skip_h1_title": true,
   "title_cell": "Содержание",
   "title_sidebar": "Contents",
   "toc_cell": true,
   "toc_position": {
    "height": "calc(100% - 180px)",
    "left": "10px",
    "top": "150px",
    "width": "165px"
   },
   "toc_section_display": true,
   "toc_window_display": false
  }
 },
 "nbformat": 4,
 "nbformat_minor": 4
}

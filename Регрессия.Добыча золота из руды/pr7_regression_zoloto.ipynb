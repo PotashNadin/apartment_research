{
 "cells": [
  {
   "cell_type": "markdown",
   "metadata": {
    "toc": true
   },
   "source": [
    "<h1>Содержание<span class=\"tocSkip\"></span></h1>\n",
    "<div class=\"toc\"><ul class=\"toc-item\"><li><span><a href=\"#Описание-данных\" data-toc-modified-id=\"Описание-данных-1\"><span class=\"toc-item-num\">1&nbsp;&nbsp;</span>Описание данных</a></span></li><li><span><a href=\"#Подготовка-данных\" data-toc-modified-id=\"Подготовка-данных-2\"><span class=\"toc-item-num\">2&nbsp;&nbsp;</span>Подготовка данных</a></span></li><li><span><a href=\"#Анализ-данных\" data-toc-modified-id=\"Анализ-данных-3\"><span class=\"toc-item-num\">3&nbsp;&nbsp;</span>Анализ данных</a></span><ul class=\"toc-item\"><li><span><a href=\"#Расчет-эффективности-обогощения\" data-toc-modified-id=\"Расчет-эффективности-обогощения-3.1\"><span class=\"toc-item-num\">3.1&nbsp;&nbsp;</span>Расчет эффективности обогощения</a></span></li><li><span><a href=\"#Просмотр-признаков-в-тестовой-и-обучающей-выборке\" data-toc-modified-id=\"Просмотр-признаков-в-тестовой-и-обучающей-выборке-3.2\"><span class=\"toc-item-num\">3.2&nbsp;&nbsp;</span>Просмотр признаков в тестовой и обучающей выборке</a></span></li><li><span><a href=\"#Изменение-концентрации-металлов-(Au,-Ag,-Pb)-на-различных-этапах-очистки.\" data-toc-modified-id=\"Изменение-концентрации-металлов-(Au,-Ag,-Pb)-на-различных-этапах-очистки.-3.3\"><span class=\"toc-item-num\">3.3&nbsp;&nbsp;</span>Изменение концентрации металлов (Au, Ag, Pb) на различных этапах очистки.</a></span><ul class=\"toc-item\"><li><span><a href=\"#Изменение-концентрации-металла-Au-(золото)\" data-toc-modified-id=\"Изменение-концентрации-металла-Au-(золото)-3.3.1\"><span class=\"toc-item-num\">3.3.1&nbsp;&nbsp;</span>Изменение концентрации металла Au (золото)</a></span></li><li><span><a href=\"#Изменение-концентрации-металла-Ag-(серебро)\" data-toc-modified-id=\"Изменение-концентрации-металла-Ag-(серебро)-3.3.2\"><span class=\"toc-item-num\">3.3.2&nbsp;&nbsp;</span>Изменение концентрации металла Ag (серебро)</a></span></li><li><span><a href=\"#Изменение-концентрации-металла-Pb-(свинец)\" data-toc-modified-id=\"Изменение-концентрации-металла-Pb-(свинец)-3.3.3\"><span class=\"toc-item-num\">3.3.3&nbsp;&nbsp;</span>Изменение концентрации металла Pb (свинец)</a></span></li></ul></li><li><span><a href=\"#Оценка-размеров-гранул-сырья-в-обучающей-и-тестовой-выборке\" data-toc-modified-id=\"Оценка-размеров-гранул-сырья-в-обучающей-и-тестовой-выборке-3.4\"><span class=\"toc-item-num\">3.4&nbsp;&nbsp;</span>Оценка размеров гранул сырья в обучающей и тестовой выборке</a></span><ul class=\"toc-item\"><li><span><a href=\"#Этап-rougher\" data-toc-modified-id=\"Этап-rougher-3.4.1\"><span class=\"toc-item-num\">3.4.1&nbsp;&nbsp;</span>Этап rougher</a></span></li><li><span><a href=\"#Этап-primary_cleaner\" data-toc-modified-id=\"Этап-primary_cleaner-3.4.2\"><span class=\"toc-item-num\">3.4.2&nbsp;&nbsp;</span>Этап primary_cleaner</a></span></li></ul></li><li><span><a href=\"#Исследование-суммарной-концентрации-веществ-на-разных-этапах.\" data-toc-modified-id=\"Исследование-суммарной-концентрации-веществ-на-разных-этапах.-3.5\"><span class=\"toc-item-num\">3.5&nbsp;&nbsp;</span>Исследование суммарной концентрации веществ на разных этапах.</a></span></li></ul></li><li><span><a href=\"#Модель\" data-toc-modified-id=\"Модель-4\"><span class=\"toc-item-num\">4&nbsp;&nbsp;</span>Модель</a></span><ul class=\"toc-item\"><li><span><a href=\"#Функция-sMAPE\" data-toc-modified-id=\"Функция-sMAPE-4.1\"><span class=\"toc-item-num\">4.1&nbsp;&nbsp;</span>Функция sMAPE</a></span></li><li><span><a href=\"#Линейная-регрессия\" data-toc-modified-id=\"Линейная-регрессия-4.2\"><span class=\"toc-item-num\">4.2&nbsp;&nbsp;</span>Линейная регрессия</a></span></li><li><span><a href=\"#Дерево-решений\" data-toc-modified-id=\"Дерево-решений-4.3\"><span class=\"toc-item-num\">4.3&nbsp;&nbsp;</span>Дерево решений</a></span></li><li><span><a href=\"#Случайный-лес\" data-toc-modified-id=\"Случайный-лес-4.4\"><span class=\"toc-item-num\">4.4&nbsp;&nbsp;</span>Случайный лес</a></span></li><li><span><a href=\"#Проверка-модели-на-тестовой-выборке\" data-toc-modified-id=\"Проверка-модели-на-тестовой-выборке-4.5\"><span class=\"toc-item-num\">4.5&nbsp;&nbsp;</span>Проверка модели на тестовой выборке</a></span></li></ul></li><li><span><a href=\"#Выводы\" data-toc-modified-id=\"Выводы-5\"><span class=\"toc-item-num\">5&nbsp;&nbsp;</span>Выводы</a></span></li><li><span><a href=\"#Чек-лист-готовности-проекта\" data-toc-modified-id=\"Чек-лист-готовности-проекта-6\"><span class=\"toc-item-num\">6&nbsp;&nbsp;</span>Чек-лист готовности проекта</a></span></li></ul></div>"
   ]
  },
  {
   "cell_type": "markdown",
   "metadata": {},
   "source": [
    "# Восстановление золота из руды"
   ]
  },
  {
   "cell_type": "markdown",
   "metadata": {},
   "source": [
    "## Подготовка данных"
   ]
  },
  {
   "cell_type": "code",
   "execution_count": 235,
   "metadata": {},
   "outputs": [],
   "source": [
    "import pandas as pd\n",
    "import numpy as np\n",
    "import matplotlib.pyplot as plt\n",
    "from sklearn.metrics import mean_absolute_error, mean_squared_error, make_scorer\n",
    "from sklearn.model_selection import GridSearchCV, cross_val_score\n",
    "from sklearn.linear_model import LinearRegression\n",
    "from sklearn.tree import DecisionTreeRegressor\n",
    "from sklearn.ensemble import RandomForestRegressor\n",
    "from sklearn.dummy import DummyRegressor\n",
    "pd.options.mode.chained_assignment = None"
   ]
  },
  {
   "cell_type": "code",
   "execution_count": 236,
   "metadata": {},
   "outputs": [],
   "source": [
    "df_train = pd.read_csv('/datasets/gold_recovery_train_new.csv')\n",
    "df_test = pd.read_csv('/datasets/gold_recovery_test_new.csv')\n",
    "df_full = pd.read_csv('/datasets/gold_recovery_full_new.csv')"
   ]
  },
  {
   "cell_type": "code",
   "execution_count": 237,
   "metadata": {},
   "outputs": [
    {
     "data": {
      "text/plain": [
       "date                                          0.000000\n",
       "final.output.concentrate_ag                   0.000051\n",
       "final.output.concentrate_pb                   0.000051\n",
       "final.output.concentrate_sol                  0.010854\n",
       "final.output.concentrate_au                   0.000000\n",
       "                                                ...   \n",
       "secondary_cleaner.state.floatbank5_a_level    0.000051\n",
       "secondary_cleaner.state.floatbank5_b_air      0.000051\n",
       "secondary_cleaner.state.floatbank5_b_level    0.000051\n",
       "secondary_cleaner.state.floatbank6_a_air      0.000103\n",
       "secondary_cleaner.state.floatbank6_a_level    0.000051\n",
       "Length: 87, dtype: float64"
      ]
     },
     "execution_count": 237,
     "metadata": {},
     "output_type": "execute_result"
    }
   ],
   "source": [
    "df_full.isna().mean()"
   ]
  },
  {
   "cell_type": "markdown",
   "metadata": {},
   "source": [
    "в столбцах есть пропуски, нулем данное значение заменить нельзя,так  как ноль имеет свою интерпретацию. Медиана и среднее также не подойдут.  В задании сказано, что \"Соседние по времени параметры часто похожи.\" Попробуем заменить пропуски на значения \"по-соседству\"."
   ]
  },
  {
   "cell_type": "code",
   "execution_count": 238,
   "metadata": {},
   "outputs": [],
   "source": [
    "df_train = df_train.fillna(method='ffill')"
   ]
  },
  {
   "cell_type": "code",
   "execution_count": 239,
   "metadata": {},
   "outputs": [],
   "source": [
    "df_test = df_test.fillna(method='ffill')"
   ]
  },
  {
   "cell_type": "code",
   "execution_count": 240,
   "metadata": {},
   "outputs": [],
   "source": [
    "df_full = df_full.fillna(method='ffill')"
   ]
  },
  {
   "cell_type": "code",
   "execution_count": 241,
   "metadata": {},
   "outputs": [
    {
     "name": "stdout",
     "output_type": "stream",
     "text": [
      "0 0 0\n"
     ]
    }
   ],
   "source": [
    "print(df_test.isna().sum().sum(), df_train.isna().sum().sum(), df_full.isna().sum().sum())\n"
   ]
  },
  {
   "cell_type": "markdown",
   "metadata": {},
   "source": [
    "## Анализ данных"
   ]
  },
  {
   "cell_type": "markdown",
   "metadata": {},
   "source": [
    "### Расчет эффективности обогощения"
   ]
  },
  {
   "cell_type": "markdown",
   "metadata": {},
   "source": [
    "*Эффективность обогащения рассчитывается по формуле:*\n",
    "$Recovery = \\frac{C \\times (F - T)}{F \\times (C - T)} \\times 100\\%$\n",
    "\n",
    "*Где:*\n",
    "\n",
    "- C — доля золота в концентрате после флотации/очистки (rougher.output.concentrate_au)\n",
    "- F — доля золота в сырье/концентрате до флотации/очистки (rougher.input.feed_au)\n",
    "- T — доля золота в отвальных хвостах после флотации/очистки (rougher.output.tail_au)\n",
    "     \n",
    "Посчитаем эффективность обогощения самостоятельно на тренировочной выборке и сравним с представленным показателем в столбце  `rougher.output.recovery`.\n",
    "\n",
    "Рассчитаем MAE по полученным данным.\n"
   ]
  },
  {
   "cell_type": "code",
   "execution_count": 242,
   "metadata": {},
   "outputs": [
    {
     "data": {
      "text/plain": [
       "0        87.107763\n",
       "1        86.843261\n",
       "2        86.842308\n",
       "3        87.226430\n",
       "4        86.688794\n",
       "           ...    \n",
       "14144    89.574376\n",
       "14145    87.724007\n",
       "14146    88.890579\n",
       "14147    89.858126\n",
       "14148    89.514960\n",
       "Length: 14149, dtype: float64"
      ]
     },
     "execution_count": 242,
     "metadata": {},
     "output_type": "execute_result"
    }
   ],
   "source": [
    "C = df_train['rougher.output.concentrate_au']\n",
    "F = df_train['rougher.input.feed_au'] \n",
    "T = df_train['rougher.output.tail_au']\n",
    "\n",
    "recovery = ((C * (F-T) )/ (F * (C-T))) * 100\n",
    "recovery"
   ]
  },
  {
   "cell_type": "code",
   "execution_count": 243,
   "metadata": {
    "scrolled": true
   },
   "outputs": [
    {
     "data": {
      "text/plain": [
       "9.73512347450521e-15"
      ]
     },
     "execution_count": 243,
     "metadata": {},
     "output_type": "execute_result"
    }
   ],
   "source": [
    "mean_absolute_error(recovery, df_train['rougher.output.recovery'])"
   ]
  },
  {
   "cell_type": "markdown",
   "metadata": {},
   "source": [
    "Значение MAE очень маленькое, значит наши расчеты совпадают с расчетами в датасете."
   ]
  },
  {
   "cell_type": "markdown",
   "metadata": {},
   "source": [
    "### Просмотр признаков в тестовой и обучающей выборке"
   ]
  },
  {
   "cell_type": "markdown",
   "metadata": {},
   "source": [
    "Проанализируем признаки, недоступные в тестовой выборке.\n",
    "проверим,что это за параметры."
   ]
  },
  {
   "cell_type": "code",
   "execution_count": 244,
   "metadata": {
    "scrolled": false
   },
   "outputs": [
    {
     "name": "stdout",
     "output_type": "stream",
     "text": [
      "<class 'pandas.core.frame.DataFrame'>\n",
      "RangeIndex: 14149 entries, 0 to 14148\n",
      "Data columns (total 34 columns):\n",
      " #   Column                                              Non-Null Count  Dtype  \n",
      "---  ------                                              --------------  -----  \n",
      " 0   final.output.concentrate_ag                         14149 non-null  float64\n",
      " 1   final.output.concentrate_pb                         14149 non-null  float64\n",
      " 2   final.output.concentrate_sol                        14149 non-null  float64\n",
      " 3   final.output.concentrate_au                         14149 non-null  float64\n",
      " 4   final.output.recovery                               14149 non-null  float64\n",
      " 5   final.output.tail_ag                                14149 non-null  float64\n",
      " 6   final.output.tail_pb                                14149 non-null  float64\n",
      " 7   final.output.tail_sol                               14149 non-null  float64\n",
      " 8   final.output.tail_au                                14149 non-null  float64\n",
      " 9   primary_cleaner.output.concentrate_ag               14149 non-null  float64\n",
      " 10  primary_cleaner.output.concentrate_pb               14149 non-null  float64\n",
      " 11  primary_cleaner.output.concentrate_sol              14149 non-null  float64\n",
      " 12  primary_cleaner.output.concentrate_au               14149 non-null  float64\n",
      " 13  primary_cleaner.output.tail_ag                      14149 non-null  float64\n",
      " 14  primary_cleaner.output.tail_pb                      14149 non-null  float64\n",
      " 15  primary_cleaner.output.tail_sol                     14149 non-null  float64\n",
      " 16  primary_cleaner.output.tail_au                      14149 non-null  float64\n",
      " 17  rougher.calculation.sulfate_to_au_concentrate       14149 non-null  float64\n",
      " 18  rougher.calculation.floatbank10_sulfate_to_au_feed  14149 non-null  float64\n",
      " 19  rougher.calculation.floatbank11_sulfate_to_au_feed  14149 non-null  float64\n",
      " 20  rougher.calculation.au_pb_ratio                     14149 non-null  float64\n",
      " 21  rougher.output.concentrate_ag                       14149 non-null  float64\n",
      " 22  rougher.output.concentrate_pb                       14149 non-null  float64\n",
      " 23  rougher.output.concentrate_sol                      14149 non-null  float64\n",
      " 24  rougher.output.concentrate_au                       14149 non-null  float64\n",
      " 25  rougher.output.recovery                             14149 non-null  float64\n",
      " 26  rougher.output.tail_ag                              14149 non-null  float64\n",
      " 27  rougher.output.tail_pb                              14149 non-null  float64\n",
      " 28  rougher.output.tail_sol                             14149 non-null  float64\n",
      " 29  rougher.output.tail_au                              14149 non-null  float64\n",
      " 30  secondary_cleaner.output.tail_ag                    14149 non-null  float64\n",
      " 31  secondary_cleaner.output.tail_pb                    14149 non-null  float64\n",
      " 32  secondary_cleaner.output.tail_sol                   14149 non-null  float64\n",
      " 33  secondary_cleaner.output.tail_au                    14149 non-null  float64\n",
      "dtypes: float64(34)\n",
      "memory usage: 3.7 MB\n"
     ]
    }
   ],
   "source": [
    "#уберем из обучающей выборки все столбцы которые есть в тестовой \n",
    "set_features = df_train.drop(df_test.columns, axis=1)\n",
    "set_features.info()"
   ]
  },
  {
   "cell_type": "markdown",
   "metadata": {},
   "source": [
    "Перед нами список 34 параметров, которые отсутствуют в тестовой выборке.\n",
    "А именно:\n",
    " - целевой признак(этап final)\n",
    " - параметры продукта(output) на этапе primary_cleaner\n",
    " - параметры продукта(output) на этапе secondary_cleaner\n",
    " - calculation для \"типа параметра\"\n",
    "\n",
    "Данные отсутствуют  по понятным причинам - эти данные появляются уже после выполненного процесса, поэтому при обучении модели эти данные не должны быть ей известны,иначе произойдет так называемая утечка данных и модель будет обучена ошибочно.\n",
    "\n",
    "Поэтому,за признаки для обучение модели возьмем лишь те параметры,которые были в тестовом файле."
   ]
  },
  {
   "cell_type": "markdown",
   "metadata": {},
   "source": [
    "### Изменение концентрации металлов (Au, Ag, Pb) на различных этапах очистки."
   ]
  },
  {
   "cell_type": "markdown",
   "metadata": {},
   "source": [
    "#### Изменение концентрации металла Au (золото)"
   ]
  },
  {
   "cell_type": "code",
   "execution_count": 245,
   "metadata": {
    "scrolled": false
   },
   "outputs": [
    {
     "data": {
      "image/png": "[encoded data removed]",
      "text/plain": [
       "<Figure size 720x432 with 1 Axes>"
      ]
     },
     "metadata": {
      "needs_background": "light"
     },
     "output_type": "display_data"
    }
   ],
   "source": [
    "concentrate_Au = df_train[[col for col in df_train.columns if 'concentrate_au' in col]]\n",
    "concentrate_Au.plot(kind='hist',bins=100,alpha=0.7, figsize = (10,6))\n",
    "plt.title(\"Изменение концентрации металла Au на различных этапах отчистки\")\n",
    "plt.xlabel(\"Концентрация\")\n",
    "plt.show()"
   ]
  },
  {
   "cell_type": "code",
   "execution_count": 246,
   "metadata": {
    "scrolled": true
   },
   "outputs": [
    {
     "data": {
      "text/plain": [
       "final.output.concentrate_au              44.003792\n",
       "primary_cleaner.output.concentrate_au    32.386836\n",
       "rougher.output.concentrate_au            19.439958\n",
       "dtype: float64"
      ]
     },
     "execution_count": 246,
     "metadata": {},
     "output_type": "execute_result"
    }
   ],
   "source": [
    "df_train[[col for col in df_train.columns if 'concentrate_au' in col]].mean()"
   ]
  },
  {
   "cell_type": "markdown",
   "metadata": {},
   "source": [
    "#### Изменение концентрации металла Ag (серебро)"
   ]
  },
  {
   "cell_type": "code",
   "execution_count": 247,
   "metadata": {
    "scrolled": false
   },
   "outputs": [
    {
     "data": {
      "image/png": "[encoded data removed]",
      "text/plain": [
       "<Figure size 720x432 with 1 Axes>"
      ]
     },
     "metadata": {
      "needs_background": "light"
     },
     "output_type": "display_data"
    }
   ],
   "source": [
    "concentrate_Ag = df_train[[col for col in df_train.columns if 'concentrate_ag' in col]]\n",
    "concentrate_Ag.plot(kind='hist',bins=100,alpha=0.7, figsize = (10,6))\n",
    "plt.title(\"Изменение концентрации металла Ag на различных этапах отчистки\")\n",
    "plt.xlabel(\"Концентрация\")\n",
    "plt.show()"
   ]
  },
  {
   "cell_type": "code",
   "execution_count": 248,
   "metadata": {
    "scrolled": true
   },
   "outputs": [
    {
     "data": {
      "text/plain": [
       "final.output.concentrate_ag               5.141921\n",
       "primary_cleaner.output.concentrate_ag     8.200916\n",
       "rougher.output.concentrate_ag            11.775812\n",
       "dtype: float64"
      ]
     },
     "execution_count": 248,
     "metadata": {},
     "output_type": "execute_result"
    }
   ],
   "source": [
    "df_train[[col for col in df_train.columns if 'concentrate_ag' in col]].mean()"
   ]
  },
  {
   "cell_type": "markdown",
   "metadata": {},
   "source": [
    "#### Изменение концентрации металла Pb (свинец)"
   ]
  },
  {
   "cell_type": "code",
   "execution_count": 249,
   "metadata": {
    "scrolled": false
   },
   "outputs": [
    {
     "data": {
      "image/png": "[encoded data removed]",
      "text/plain": [
       "<Figure size 720x432 with 1 Axes>"
      ]
     },
     "metadata": {
      "needs_background": "light"
     },
     "output_type": "display_data"
    }
   ],
   "source": [
    "concentrate_Pb = df_train[[col for col in df_train.columns if 'concentrate_pb' in col]]\n",
    "concentrate_Pb.plot(kind='hist',bins=100,alpha=0.7, figsize = (10,6))\n",
    "plt.title(\"Изменение концентрации металла Pb на различных этапах отчистки\")\n",
    "plt.xlabel(\"Концентрация\")\n",
    "plt.show()"
   ]
  },
  {
   "cell_type": "code",
   "execution_count": 250,
   "metadata": {},
   "outputs": [
    {
     "data": {
      "text/plain": [
       "final.output.concentrate_pb              10.132848\n",
       "primary_cleaner.output.concentrate_pb     9.568544\n",
       "rougher.output.concentrate_pb             7.664555\n",
       "dtype: float64"
      ]
     },
     "execution_count": 250,
     "metadata": {},
     "output_type": "execute_result"
    }
   ],
   "source": [
    "df_train[[col for col in df_train.columns if 'concentrate_pb' in col]].mean()"
   ]
  },
  {
   "cell_type": "markdown",
   "metadata": {},
   "source": [
    "**Вывод:**\n",
    "\n",
    "Концентрация Au (золота) растет на протяжении всех этапов, с этапа флотации до финального этапа выросла в 2,3раза.\n",
    "\n",
    "Концентрация Ag (серебра) падает начиная с этапа флотации, в 2 раза\n",
    "\n",
    "Концентрация Pb (свинца) медленно растет на протяжении всех этапов очистки, в 1,4 раза"
   ]
  },
  {
   "cell_type": "markdown",
   "metadata": {},
   "source": [
    "### Оценка размеров гранул сырья в обучающей и тестовой выборке"
   ]
  },
  {
   "cell_type": "markdown",
   "metadata": {},
   "source": [
    "#### Этап rougher"
   ]
  },
  {
   "cell_type": "code",
   "execution_count": 251,
   "metadata": {
    "scrolled": false
   },
   "outputs": [
    {
     "data": {
      "image/png": "[encoded data removed]",
      "text/plain": [
       "<Figure size 720x432 with 1 Axes>"
      ]
     },
     "metadata": {
      "needs_background": "light"
     },
     "output_type": "display_data"
    }
   ],
   "source": [
    "plt.figure(figsize = (10,6))\n",
    "#plt.ylim()\n",
    "plt.xlim(0,400)\n",
    "ax = df_train['rougher.input.feed_size'].plot(kind='hist',bins=100)\n",
    "df_test['rougher.input.feed_size'].plot(kind='hist',ax=ax,alpha=0.7,bins=100);\n",
    "plt.title(\"Размер гранул сырья на этапе rougher\")\n",
    "plt.xlabel(\"Размер гранул\")\n",
    "plt.ylabel(\"Количество испытаний\");"
   ]
  },
  {
   "cell_type": "markdown",
   "metadata": {},
   "source": [
    "#### Этап primary_cleaner"
   ]
  },
  {
   "cell_type": "code",
   "execution_count": 252,
   "metadata": {
    "scrolled": false
   },
   "outputs": [
    {
     "name": "stdout",
     "output_type": "stream",
     "text": [
      "Среднее значение в обучающей выборке: 7.322309906901314\n",
      "Среднее значение в тестовой выборке: 7.266339191270906\n"
     ]
    },
    {
     "data": {
      "image/png": "[encoded data removed]",
      "text/plain": [
       "<Figure size 720x432 with 1 Axes>"
      ]
     },
     "metadata": {
      "needs_background": "light"
     },
     "output_type": "display_data"
    }
   ],
   "source": [
    "plt.figure(figsize = (10,6))\n",
    "#plt.ylim()\n",
    "plt.xlim(0,14)\n",
    "ax = df_train['primary_cleaner.input.feed_size'].plot(kind='hist',bins=100)\n",
    "df_test['primary_cleaner.input.feed_size'].plot(kind='hist',ax=ax,alpha=0.7,bins=100);\n",
    "plt.title(\"Размер гранул сырья на этапе primary_cleaner\")\n",
    "plt.xlabel(\"Размер гранул\")\n",
    "plt.ylabel(\"Количество испытаний\");\n",
    "print('Среднее значение в обучающей выборке:', df_train['primary_cleaner.input.feed_size'].mean())\n",
    "print('Среднее значение в тестовой выборке:', df_test['primary_cleaner.input.feed_size'].mean())"
   ]
  },
  {
   "cell_type": "markdown",
   "metadata": {},
   "source": [
    "**Выводы:**\n",
    "По графикам видим, что распределение размеров гранул сырья на обучающей и тестовой выборках совпадают. Значит, оценка модели будет правильной."
   ]
  },
  {
   "cell_type": "markdown",
   "metadata": {},
   "source": [
    "### Исследование суммарной концентрации веществ на разных этапах."
   ]
  },
  {
   "cell_type": "code",
   "execution_count": 253,
   "metadata": {},
   "outputs": [],
   "source": [
    "concentrate = df_train[['date','final.output.concentrate_ag', 'final.output.concentrate_pb',\n",
    "       'final.output.concentrate_sol', 'final.output.concentrate_au',\n",
    "       'primary_cleaner.output.concentrate_ag',\n",
    "       'primary_cleaner.output.concentrate_pb',\n",
    "       'primary_cleaner.output.concentrate_sol',\n",
    "       'primary_cleaner.output.concentrate_au',\n",
    "       'rougher.output.concentrate_ag', 'rougher.output.concentrate_pb',\n",
    "       'rougher.output.concentrate_sol', 'rougher.output.concentrate_au']]"
   ]
  },
  {
   "cell_type": "code",
   "execution_count": 254,
   "metadata": {},
   "outputs": [],
   "source": [
    "concentrate['primary_cleaner_sum'] = concentrate['primary_cleaner.output.concentrate_ag'] + concentrate['primary_cleaner.output.concentrate_pb'] + concentrate['primary_cleaner.output.concentrate_sol'] + concentrate['primary_cleaner.output.concentrate_au']\n",
    "concentrate['rougher_sum'] = concentrate['rougher.output.concentrate_ag'] + concentrate['primary_cleaner.output.concentrate_pb'] + concentrate['primary_cleaner.output.concentrate_sol'] + concentrate['primary_cleaner.output.concentrate_au']\n",
    "concentrate['final_sum'] = concentrate['final.output.concentrate_ag'] + concentrate['final.output.concentrate_pb'] + concentrate['final.output.concentrate_au'] + concentrate['final.output.concentrate_sol']"
   ]
  },
  {
   "cell_type": "code",
   "execution_count": 255,
   "metadata": {},
   "outputs": [
    {
     "data": {
      "image/png": "[encoded data removed]",
      "text/plain": [
       "<Figure size 720x432 with 1 Axes>"
      ]
     },
     "metadata": {
      "needs_background": "light"
     },
     "output_type": "display_data"
    }
   ],
   "source": [
    "concentrate[['rougher_sum','primary_cleaner_sum','final_sum']].plot(kind='box',figsize = (10,6),grid=True);\n",
    "#plt.ylim(0,80)\n",
    "plt.show();"
   ]
  },
  {
   "cell_type": "markdown",
   "metadata": {},
   "source": [
    "Напишем функцию для удаления аномалий."
   ]
  },
  {
   "cell_type": "code",
   "execution_count": 256,
   "metadata": {},
   "outputs": [],
   "source": [
    "def calc_anomaly(df):\n",
    "    for i in ['primary_cleaner_sum','rougher_sum','final_sum']:\n",
    "        q75, q25 = np.percentile(df[i], [75,25])\n",
    "        iqr = q75 - q25\n",
    "        down_border = q25 - 1.5*iqr\n",
    "        up_border = q75 + 1.5*iqr\n",
    "        df = df[(df[i]>down_border)&(df[i]<up_border)]      \n",
    "    return df\n",
    "\n"
   ]
  },
  {
   "cell_type": "code",
   "execution_count": 257,
   "metadata": {},
   "outputs": [
    {
     "name": "stdout",
     "output_type": "stream",
     "text": [
      "(14149, 16)\n",
      "(12581, 16)\n"
     ]
    }
   ],
   "source": [
    "print(concentrate.shape)\n",
    "concentrate = calc_anomaly(concentrate)\n",
    "print(concentrate.shape)"
   ]
  },
  {
   "cell_type": "code",
   "execution_count": 258,
   "metadata": {
    "scrolled": false
   },
   "outputs": [
    {
     "data": {
      "image/png": "[encoded data removed]",
      "text/plain": [
       "<Figure size 720x432 with 1 Axes>"
      ]
     },
     "metadata": {
      "needs_background": "light"
     },
     "output_type": "display_data"
    }
   ],
   "source": [
    "concentrate[['rougher_sum','primary_cleaner_sum','final_sum']].plot(kind='box',figsize = (10,6),grid=True);\n",
    "#plt.ylim(0,80)\n",
    "plt.show();"
   ]
  },
  {
   "cell_type": "code",
   "execution_count": 259,
   "metadata": {
    "scrolled": true
   },
   "outputs": [
    {
     "name": "stdout",
     "output_type": "stream",
     "text": [
      "(14149, 87)\n",
      "(12581, 87)\n"
     ]
    }
   ],
   "source": [
    "#отфильтруем обучающий датасет от аномалий.\n",
    "print(df_train.shape)\n",
    "series = concentrate['date']\n",
    "df_train = df_train.query('date in @series')\n",
    "print(df_train.shape)"
   ]
  },
  {
   "cell_type": "markdown",
   "metadata": {},
   "source": [
    "## Модель"
   ]
  },
  {
   "cell_type": "code",
   "execution_count": 260,
   "metadata": {
    "scrolled": false
   },
   "outputs": [],
   "source": [
    "#подготовим тестовую выборку \n",
    "df_target = df_full[['date','rougher.output.recovery','final.output.recovery']]# вытащим из полного датасета наши таргеты.\n",
    "df_target.set_index('date', inplace=True)#сделаем индексами поле date\n",
    "df_test.set_index('date', inplace=True)#сделаем индексами поле date\n",
    "df_target = df_target.loc[df_test.index]# отфильтруем наши цели по индексам как в тестовой выборке\n",
    "\n",
    "df_test.reset_index(inplace=True)#возвращаем нормальный индекс\n",
    "df_test = df_test.drop('date',axis=1)#удаляем поле date так как оно не нужно для обучения модели"
   ]
  },
  {
   "cell_type": "code",
   "execution_count": 261,
   "metadata": {},
   "outputs": [
    {
     "data": {
      "text/html": [
       "<div>\n",
       "<style scoped>\n",
       "    .dataframe tbody tr th:only-of-type {\n",
       "        vertical-align: middle;\n",
       "    }\n",
       "\n",
       "    .dataframe tbody tr th {\n",
       "        vertical-align: top;\n",
       "    }\n",
       "\n",
       "    .dataframe thead th {\n",
       "        text-align: right;\n",
       "    }\n",
       "</style>\n",
       "<table border=\"1\" class=\"dataframe\">\n",
       "  <thead>\n",
       "    <tr style=\"text-align: right;\">\n",
       "      <th></th>\n",
       "      <th>rougher.output.recovery</th>\n",
       "      <th>final.output.recovery</th>\n",
       "    </tr>\n",
       "    <tr>\n",
       "      <th>date</th>\n",
       "      <th></th>\n",
       "      <th></th>\n",
       "    </tr>\n",
       "  </thead>\n",
       "  <tbody>\n",
       "    <tr>\n",
       "      <th>2017-12-31 19:59:59</th>\n",
       "      <td>95.172585</td>\n",
       "      <td>68.919891</td>\n",
       "    </tr>\n",
       "    <tr>\n",
       "      <th>2017-12-31 20:59:59</th>\n",
       "      <td>94.575036</td>\n",
       "      <td>68.440582</td>\n",
       "    </tr>\n",
       "    <tr>\n",
       "      <th>2017-12-31 21:59:59</th>\n",
       "      <td>93.018138</td>\n",
       "      <td>67.092759</td>\n",
       "    </tr>\n",
       "    <tr>\n",
       "      <th>2017-12-31 22:59:59</th>\n",
       "      <td>92.599042</td>\n",
       "      <td>68.061186</td>\n",
       "    </tr>\n",
       "    <tr>\n",
       "      <th>2017-12-31 23:59:59</th>\n",
       "      <td>91.177695</td>\n",
       "      <td>71.699976</td>\n",
       "    </tr>\n",
       "  </tbody>\n",
       "</table>\n",
       "</div>"
      ],
      "text/plain": [
       "                     rougher.output.recovery  final.output.recovery\n",
       "date                                                               \n",
       "2017-12-31 19:59:59                95.172585              68.919891\n",
       "2017-12-31 20:59:59                94.575036              68.440582\n",
       "2017-12-31 21:59:59                93.018138              67.092759\n",
       "2017-12-31 22:59:59                92.599042              68.061186\n",
       "2017-12-31 23:59:59                91.177695              71.699976"
      ]
     },
     "execution_count": 261,
     "metadata": {},
     "output_type": "execute_result"
    }
   ],
   "source": [
    "df_target.tail(5)"
   ]
  },
  {
   "cell_type": "markdown",
   "metadata": {},
   "source": [
    "### Функция sMAPE"
   ]
  },
  {
   "cell_type": "code",
   "execution_count": 262,
   "metadata": {},
   "outputs": [],
   "source": [
    "#расчет функции sMAPE\n",
    "def calculate_smape(target, predictions):\n",
    "    numerator = np.abs(target - predictions)\n",
    "    denominator = (np.abs(target) + np.abs(predictions)) / 2 \n",
    "    \n",
    "    return 1 / len(target) * np.sum(numerator / denominator) * 100 \n",
    "\n",
    "#итоговое sMAPE\n",
    "def smape_final(cv_routher,cv_final):\n",
    "    return 0.25 * cv_routher + 0.75 * cv_final\n",
    "\n",
    "\n",
    "#для кросс-валидации используем нашу метрику, для этого понадобится метод make_scorer\n",
    "smape_scorer = make_scorer(calculate_smape,greater_is_better=False)\n",
    "\n",
    "\n"
   ]
  },
  {
   "cell_type": "code",
   "execution_count": null,
   "metadata": {},
   "outputs": [],
   "source": []
  },
  {
   "cell_type": "code",
   "execution_count": 263,
   "metadata": {},
   "outputs": [],
   "source": [
    "#для обучающей выборки\n",
    "features = df_train[df_test.columns]# удалим лишние признаки из тренировочной выборки\n",
    "\n",
    "#для этапа флотации\n",
    "features_rougher = features[[col for col in features.columns if 'rougher' in col]]\n",
    "target_rougher = df_train['rougher.output.recovery']\n",
    "\n",
    "# для отчистки и финального этапа\n",
    "features_final = features[[col for col in features.columns if 'rougher' not in col]]\n",
    "target_final = df_train['final.output.recovery']\n",
    "\n",
    "#для тестовой выборки \n",
    "\n",
    "#для этапа флотации\n",
    "test_features_rougher = df_test[[col for col in df_test.columns if 'rougher' in col]]\n",
    "test_target_rougher = df_target['rougher.output.recovery']\n",
    "# для отчистки и финального этапа\n",
    "test_features_final = df_test[[col for col in df_test.columns if 'rougher' not in col]]\n",
    "test_target_final = df_target['final.output.recovery']"
   ]
  },
  {
   "cell_type": "code",
   "execution_count": 264,
   "metadata": {},
   "outputs": [
    {
     "data": {
      "text/plain": [
       "(5290,)"
      ]
     },
     "execution_count": 264,
     "metadata": {},
     "output_type": "execute_result"
    }
   ],
   "source": [
    "test_target_final.shape"
   ]
  },
  {
   "cell_type": "code",
   "execution_count": 265,
   "metadata": {},
   "outputs": [
    {
     "data": {
      "text/plain": [
       "-10.159661558477142"
      ]
     },
     "execution_count": 265,
     "metadata": {},
     "output_type": "execute_result"
    }
   ],
   "source": [
    "model_dummy = DummyRegressor()\n",
    "scores_dummy_rougher = cross_val_score(model_dummy, features_rougher, target_rougher, cv=5, scoring=smape_scorer).mean()\n",
    "scores_dummy_final = cross_val_score(model_dummy, features_final, target_final, cv=5, scoring=smape_scorer).mean()\n",
    "smape_final(scores_dummy_rougher,scores_dummy_final)"
   ]
  },
  {
   "cell_type": "markdown",
   "metadata": {},
   "source": [
    "### Линейная регрессия"
   ]
  },
  {
   "cell_type": "code",
   "execution_count": 266,
   "metadata": {},
   "outputs": [
    {
     "data": {
      "text/plain": [
       "-9.637925781393099"
      ]
     },
     "execution_count": 266,
     "metadata": {},
     "output_type": "execute_result"
    }
   ],
   "source": [
    "# модели линейной регрессии и проверка кросс-валидации\n",
    "model_lr = LinearRegression()\n",
    "scores_lr_rougher = cross_val_score(model_lr, features_rougher, target_rougher, cv=5, scoring=smape_scorer).mean()\n",
    "scores_lr_final = cross_val_score(model_lr, features_final, target_final, cv=5, scoring=smape_scorer).mean()\n",
    "smape_final(scores_lr_rougher,scores_lr_final)"
   ]
  },
  {
   "cell_type": "markdown",
   "metadata": {},
   "source": [
    "### Дерево решений"
   ]
  },
  {
   "cell_type": "code",
   "execution_count": 267,
   "metadata": {},
   "outputs": [
    {
     "data": {
      "text/plain": [
       "{'max_depth': 3}"
      ]
     },
     "execution_count": 267,
     "metadata": {},
     "output_type": "execute_result"
    }
   ],
   "source": [
    "# находим лучшее значение для дерева решений\n",
    "param_grid = {'max_depth': range(1, 11)}\n",
    "\n",
    "search_m = DecisionTreeRegressor(random_state=42)\n",
    "search_model = GridSearchCV(search_m, param_grid, cv=5, scoring=smape_scorer)\n",
    "search_model.fit(features_rougher, target_rougher)\n",
    "search_model.best_params_"
   ]
  },
  {
   "cell_type": "code",
   "execution_count": 268,
   "metadata": {},
   "outputs": [
    {
     "data": {
      "text/plain": [
       "-14.130554095192517"
      ]
     },
     "execution_count": 268,
     "metadata": {},
     "output_type": "execute_result"
    }
   ],
   "source": [
    "model_dtr = DecisionTreeRegressor(random_state=42, max_depth= 3)\n",
    "scores_dtr_rougher = cross_val_score(model_dtr, features_rougher, target_rougher, cv=5, scoring=smape_scorer).mean()\n",
    "scores_dtr_final = cross_val_score(model_dtr, features_final, target_final, cv=5, scoring=smape_scorer).mean()\n",
    "smape_final(scores_dtr_rougher,scores_dtr_final)"
   ]
  },
  {
   "cell_type": "markdown",
   "metadata": {},
   "source": [
    "### Случайный лес"
   ]
  },
  {
   "cell_type": "code",
   "execution_count": 269,
   "metadata": {},
   "outputs": [
    {
     "data": {
      "text/plain": [
       "{'n_estimators': 30}"
      ]
     },
     "execution_count": 269,
     "metadata": {},
     "output_type": "execute_result"
    }
   ],
   "source": [
    "# модель случайного леса \n",
    "parametrs = {'n_estimators': range (10, 31, 10)}\n",
    "\n",
    "model_rfr = RandomForestRegressor(random_state=42, max_depth=3)\n",
    "grid = GridSearchCV(model_rfr, parametrs, cv=5, scoring=smape_scorer)\n",
    "grid.fit(features_rougher, target_rougher)\n",
    "grid.best_params_"
   ]
  },
  {
   "cell_type": "code",
   "execution_count": 270,
   "metadata": {
    "scrolled": true
   },
   "outputs": [
    {
     "data": {
      "text/plain": [
       "-12.510768077332951"
      ]
     },
     "execution_count": 270,
     "metadata": {},
     "output_type": "execute_result"
    }
   ],
   "source": [
    "model_rfr = RandomForestRegressor(random_state=42, n_estimators = 30, max_depth= 3)\n",
    "scores_rfr_rougher = cross_val_score(model_rfr, features_rougher, target_rougher, cv=5, scoring=smape_scorer).mean()\n",
    "scores_rfr_final = cross_val_score(model_rfr, features_final, target_final, cv=5, scoring=smape_scorer).mean()\n",
    "smape_final(scores_rfr_rougher,scores_rfr_final)"
   ]
  },
  {
   "cell_type": "markdown",
   "metadata": {},
   "source": [
    "### Проверка модели на тестовой выборке"
   ]
  },
  {
   "cell_type": "code",
   "execution_count": 271,
   "metadata": {},
   "outputs": [
    {
     "data": {
      "text/plain": [
       "-9.58489125396934"
      ]
     },
     "execution_count": 271,
     "metadata": {},
     "output_type": "execute_result"
    }
   ],
   "source": [
    "model_dummy = DummyRegressor()\n",
    "scores_dummy_rougher = cross_val_score(model_dummy, test_features_rougher, test_target_rougher, cv=5, scoring=smape_scorer).mean()\n",
    "scores_dummy_final = cross_val_score(model_dummy, features_final, target_final, cv=5, scoring=smape_scorer).mean()\n",
    "smape_final(scores_dummy_rougher,scores_dummy_final)"
   ]
  },
  {
   "cell_type": "code",
   "execution_count": 272,
   "metadata": {},
   "outputs": [
    {
     "data": {
      "text/plain": [
       "-9.693975255508654"
      ]
     },
     "execution_count": 272,
     "metadata": {},
     "output_type": "execute_result"
    }
   ],
   "source": [
    "model = LinearRegression()\n",
    "scores_rougher = cross_val_score(model, test_features_rougher, test_target_rougher, cv=5, scoring=smape_scorer).mean()\n",
    "scores_final = cross_val_score(model, test_features_final, test_target_final, cv=5, scoring=smape_scorer).mean()\n",
    "smape_final(scores_rougher,scores_final)"
   ]
  },
  {
   "cell_type": "code",
   "execution_count": 273,
   "metadata": {},
   "outputs": [
    {
     "data": {
      "text/html": [
       "<div>\n",
       "<style scoped>\n",
       "    .dataframe tbody tr th:only-of-type {\n",
       "        vertical-align: middle;\n",
       "    }\n",
       "\n",
       "    .dataframe tbody tr th {\n",
       "        vertical-align: top;\n",
       "    }\n",
       "\n",
       "    .dataframe thead th {\n",
       "        text-align: right;\n",
       "    }\n",
       "</style>\n",
       "<table border=\"1\" class=\"dataframe\">\n",
       "  <thead>\n",
       "    <tr style=\"text-align: right;\">\n",
       "      <th></th>\n",
       "      <th>model name</th>\n",
       "      <th>cross_val_score_rougher</th>\n",
       "      <th>cross_val_score_final</th>\n",
       "      <th>smape_final</th>\n",
       "    </tr>\n",
       "  </thead>\n",
       "  <tbody>\n",
       "    <tr>\n",
       "      <th>0</th>\n",
       "      <td>DummyRegressor</td>\n",
       "      <td>-11.314924</td>\n",
       "      <td>-9.774574</td>\n",
       "      <td>-10.159662</td>\n",
       "    </tr>\n",
       "    <tr>\n",
       "      <th>1</th>\n",
       "      <td>DecisionTreeRegressor</td>\n",
       "      <td>-11.637030</td>\n",
       "      <td>-14.961729</td>\n",
       "      <td>-14.130554</td>\n",
       "    </tr>\n",
       "    <tr>\n",
       "      <th>2</th>\n",
       "      <td>RandomForestRegressor</td>\n",
       "      <td>-11.253141</td>\n",
       "      <td>-12.718853</td>\n",
       "      <td>-12.352425</td>\n",
       "    </tr>\n",
       "    <tr>\n",
       "      <th>3</th>\n",
       "      <td>LinearRegression</td>\n",
       "      <td>-11.407475</td>\n",
       "      <td>-9.048076</td>\n",
       "      <td>-9.637926</td>\n",
       "    </tr>\n",
       "  </tbody>\n",
       "</table>\n",
       "</div>"
      ],
      "text/plain": [
       "              model name  cross_val_score_rougher  cross_val_score_final  \\\n",
       "0         DummyRegressor               -11.314924              -9.774574   \n",
       "1  DecisionTreeRegressor               -11.637030             -14.961729   \n",
       "2  RandomForestRegressor               -11.253141             -12.718853   \n",
       "3       LinearRegression               -11.407475              -9.048076   \n",
       "\n",
       "   smape_final  \n",
       "0   -10.159662  \n",
       "1   -14.130554  \n",
       "2   -12.352425  \n",
       "3    -9.637926  "
      ]
     },
     "execution_count": 273,
     "metadata": {},
     "output_type": "execute_result"
    }
   ],
   "source": [
    "random_state = 123\n",
    "max_depth = 3\n",
    "n_estimators = 30\n",
    "cv = 5\n",
    "models = [DummyRegressor(), \n",
    "          DecisionTreeRegressor(random_state = random_state, max_depth=max_depth), \n",
    "          RandomForestRegressor(random_state=random_state,max_depth=max_depth,n_estimators = n_estimators), \n",
    "          LinearRegression()]\n",
    "\n",
    "\n",
    "results_cross_val = []\n",
    "\n",
    "for model in models:  \n",
    "    \n",
    "    cross_val_score_rougher = cross_val_score(model, \n",
    "                                              features_rougher, \n",
    "                                              target_rougher, \n",
    "                                              cv=cv, scoring=smape_scorer).mean()\n",
    "    cross_val_score_final = cross_val_score(model, \n",
    "                                            features_final, \n",
    "                                            target_final, \n",
    "                                            cv=cv, scoring=smape_scorer).mean()\n",
    "\n",
    "    smape_f = smape_final(cross_val_score_rougher,cross_val_score_final)\n",
    "    results_cross_val.append({'model name': model.__class__.__name__, \n",
    "                              'cross_val_score_rougher': cross_val_score_rougher, \n",
    "                              'cross_val_score_final': cross_val_score_final,\n",
    "                             'smape_final': smape_f}) \n",
    "              \n",
    "pd.DataFrame(results_cross_val)"
   ]
  },
  {
   "cell_type": "code",
   "execution_count": 274,
   "metadata": {
    "scrolled": true
   },
   "outputs": [
    {
     "data": {
      "text/html": [
       "<div>\n",
       "<style scoped>\n",
       "    .dataframe tbody tr th:only-of-type {\n",
       "        vertical-align: middle;\n",
       "    }\n",
       "\n",
       "    .dataframe tbody tr th {\n",
       "        vertical-align: top;\n",
       "    }\n",
       "\n",
       "    .dataframe thead th {\n",
       "        text-align: right;\n",
       "    }\n",
       "</style>\n",
       "<table border=\"1\" class=\"dataframe\">\n",
       "  <thead>\n",
       "    <tr style=\"text-align: right;\">\n",
       "      <th></th>\n",
       "      <th>model name</th>\n",
       "      <th>cross_val_score_rougher</th>\n",
       "      <th>cross_val_score_final</th>\n",
       "      <th>smape_final</th>\n",
       "    </tr>\n",
       "  </thead>\n",
       "  <tbody>\n",
       "    <tr>\n",
       "      <th>0</th>\n",
       "      <td>DummyRegressor</td>\n",
       "      <td>-9.015842</td>\n",
       "      <td>-9.582188</td>\n",
       "      <td>-9.440602</td>\n",
       "    </tr>\n",
       "    <tr>\n",
       "      <th>1</th>\n",
       "      <td>LinearRegression</td>\n",
       "      <td>-10.441599</td>\n",
       "      <td>-9.444767</td>\n",
       "      <td>-9.693975</td>\n",
       "    </tr>\n",
       "  </tbody>\n",
       "</table>\n",
       "</div>"
      ],
      "text/plain": [
       "         model name  cross_val_score_rougher  cross_val_score_final  \\\n",
       "0    DummyRegressor                -9.015842              -9.582188   \n",
       "1  LinearRegression               -10.441599              -9.444767   \n",
       "\n",
       "   smape_final  \n",
       "0    -9.440602  \n",
       "1    -9.693975  "
      ]
     },
     "execution_count": 274,
     "metadata": {},
     "output_type": "execute_result"
    }
   ],
   "source": [
    "cv = 5\n",
    "models = [DummyRegressor(), LinearRegression()]\n",
    "\n",
    "\n",
    "results_cross_val = []\n",
    "\n",
    "for model in models:  \n",
    "    \n",
    "    cross_val_score_rougher = cross_val_score(model, \n",
    "                                              test_features_rougher, \n",
    "                                              test_target_rougher, \n",
    "                                              cv=cv, scoring=smape_scorer).mean()\n",
    "    cross_val_score_final = cross_val_score(model, \n",
    "                                            test_features_final, \n",
    "                                            test_target_final, \n",
    "                                            cv=cv, scoring=smape_scorer).mean()\n",
    "\n",
    "    smape_f = smape_final(cross_val_score_rougher,cross_val_score_final)\n",
    "    results_cross_val.append({'model name': model.__class__.__name__, \n",
    "                              'cross_val_score_rougher': cross_val_score_rougher, \n",
    "                              'cross_val_score_final': cross_val_score_final,\n",
    "                             'smape_final': smape_f}) \n",
    "              \n",
    "pd.DataFrame(results_cross_val)"
   ]
  },
  {
   "cell_type": "markdown",
   "metadata": {},
   "source": [
    "## Выводы\n",
    "\n",
    "\n",
    "Используя модель DummyRegressor мы обозначили себе некое минимальное пороговое значение. \n",
    "На обучающей выборке эта модель показала результат метрики 11.57, на тестовой - 10.77.\n",
    "Лучший результат показала модель линейной регрессии: на тренировочной выборке модель линейной регрессии показало результат -11.19, лучше чем пороговое значение. На тестовой выборке, линейная регрессия показала значение метрики 9.69."
   ]
  },
  {
   "cell_type": "code",
   "execution_count": null,
   "metadata": {},
   "outputs": [],
   "source": []
  }
 ],
 "metadata": {
  "ExecuteTimeLog": [
   {
    "duration": 542,
    "start_time": "2022-05-11T05:48:38.611Z"
   },
   {
    "duration": 4770,
    "start_time": "2022-05-11T05:50:29.100Z"
   },
   {
    "duration": 51,
    "start_time": "2022-05-11T05:50:44.075Z"
   },
   {
    "duration": 45,
    "start_time": "2022-05-11T05:50:56.767Z"
   },
   {
    "duration": 32,
    "start_time": "2022-05-11T05:51:24.941Z"
   },
   {
    "duration": 43,
    "start_time": "2022-05-11T05:58:06.011Z"
   },
   {
    "duration": 31,
    "start_time": "2022-05-11T05:58:34.447Z"
   },
   {
    "duration": 32,
    "start_time": "2022-05-11T06:05:27.018Z"
   },
   {
    "duration": 18,
    "start_time": "2022-05-11T06:14:31.920Z"
   },
   {
    "duration": 14,
    "start_time": "2022-05-11T06:15:19.181Z"
   },
   {
    "duration": 15,
    "start_time": "2022-05-11T07:05:12.310Z"
   },
   {
    "duration": 26,
    "start_time": "2022-05-11T07:08:18.642Z"
   },
   {
    "duration": 64,
    "start_time": "2022-05-11T07:12:41.176Z"
   },
   {
    "duration": 21,
    "start_time": "2022-05-11T07:14:34.443Z"
   },
   {
    "duration": 27,
    "start_time": "2022-05-11T07:14:52.625Z"
   },
   {
    "duration": 9,
    "start_time": "2022-05-11T07:44:36.143Z"
   },
   {
    "duration": 8,
    "start_time": "2022-05-11T07:44:58.134Z"
   },
   {
    "duration": 42,
    "start_time": "2022-05-11T07:45:25.053Z"
   },
   {
    "duration": 106,
    "start_time": "2022-05-11T07:46:20.861Z"
   },
   {
    "duration": 9,
    "start_time": "2022-05-11T07:46:41.353Z"
   },
   {
    "duration": 14,
    "start_time": "2022-05-11T07:46:49.617Z"
   },
   {
    "duration": 10,
    "start_time": "2022-05-11T07:47:42.009Z"
   },
   {
    "duration": 11,
    "start_time": "2022-05-11T07:48:37.388Z"
   },
   {
    "duration": 10,
    "start_time": "2022-05-11T07:49:05.182Z"
   },
   {
    "duration": 10,
    "start_time": "2022-05-11T07:49:11.488Z"
   },
   {
    "duration": 10,
    "start_time": "2022-05-11T07:49:16.984Z"
   },
   {
    "duration": 11,
    "start_time": "2022-05-11T07:49:20.358Z"
   },
   {
    "duration": 152,
    "start_time": "2022-05-11T07:49:43.500Z"
   },
   {
    "duration": 23,
    "start_time": "2022-05-11T07:49:47.327Z"
   },
   {
    "duration": 48,
    "start_time": "2022-05-11T07:50:29.607Z"
   },
   {
    "duration": 46,
    "start_time": "2022-05-11T07:52:26.662Z"
   },
   {
    "duration": 20,
    "start_time": "2022-05-11T07:52:42.590Z"
   },
   {
    "duration": 51,
    "start_time": "2022-05-11T07:52:47.620Z"
   },
   {
    "duration": 38,
    "start_time": "2022-05-11T07:53:21.639Z"
   },
   {
    "duration": 18,
    "start_time": "2022-05-11T07:53:57.305Z"
   },
   {
    "duration": 20,
    "start_time": "2022-05-11T07:54:25.902Z"
   },
   {
    "duration": 46,
    "start_time": "2022-05-11T07:54:42.740Z"
   },
   {
    "duration": 16,
    "start_time": "2022-05-11T07:57:27.265Z"
   },
   {
    "duration": 876,
    "start_time": "2022-05-11T07:58:04.951Z"
   },
   {
    "duration": 35,
    "start_time": "2022-05-11T08:09:49.918Z"
   },
   {
    "duration": 26,
    "start_time": "2022-05-11T08:09:58.774Z"
   },
   {
    "duration": 3,
    "start_time": "2022-05-11T08:10:47.738Z"
   },
   {
    "duration": 935,
    "start_time": "2022-05-11T08:10:50.039Z"
   },
   {
    "duration": 24,
    "start_time": "2022-05-11T08:10:53.268Z"
   },
   {
    "duration": 112,
    "start_time": "2022-05-11T08:11:09.507Z"
   },
   {
    "duration": 28,
    "start_time": "2022-05-11T08:11:18.012Z"
   },
   {
    "duration": 22,
    "start_time": "2022-05-11T08:12:09.638Z"
   },
   {
    "duration": 10,
    "start_time": "2022-05-11T08:13:11.438Z"
   },
   {
    "duration": 21,
    "start_time": "2022-05-11T08:13:20.142Z"
   },
   {
    "duration": 197,
    "start_time": "2022-05-11T08:15:22.541Z"
   },
   {
    "duration": 44,
    "start_time": "2022-05-11T08:15:29.207Z"
   },
   {
    "duration": 25,
    "start_time": "2022-05-11T08:40:53.322Z"
   },
   {
    "duration": 169,
    "start_time": "2022-05-11T09:42:03.006Z"
   },
   {
    "duration": 8,
    "start_time": "2022-05-11T09:47:18.914Z"
   },
   {
    "duration": 21,
    "start_time": "2022-05-11T09:47:40.862Z"
   },
   {
    "duration": 121,
    "start_time": "2022-05-11T09:52:14.876Z"
   },
   {
    "duration": 832,
    "start_time": "2022-05-11T09:52:36.544Z"
   },
   {
    "duration": 24,
    "start_time": "2022-05-11T09:52:39.261Z"
   },
   {
    "duration": 16,
    "start_time": "2022-05-11T09:52:43.594Z"
   },
   {
    "duration": 9,
    "start_time": "2022-05-11T09:52:44.312Z"
   },
   {
    "duration": 218,
    "start_time": "2022-05-11T09:57:20.216Z"
   },
   {
    "duration": 7,
    "start_time": "2022-05-11T09:57:48.320Z"
   },
   {
    "duration": 7,
    "start_time": "2022-05-11T09:57:57.592Z"
   },
   {
    "duration": 18,
    "start_time": "2022-05-11T09:58:38.711Z"
   },
   {
    "duration": 12,
    "start_time": "2022-05-11T10:01:17.632Z"
   },
   {
    "duration": 15,
    "start_time": "2022-05-11T10:03:17.553Z"
   },
   {
    "duration": 1162,
    "start_time": "2022-05-11T10:05:02.639Z"
   },
   {
    "duration": 8,
    "start_time": "2022-05-11T10:09:47.985Z"
   },
   {
    "duration": 7,
    "start_time": "2022-05-11T10:10:54.085Z"
   },
   {
    "duration": 87,
    "start_time": "2022-05-11T10:11:31.617Z"
   },
   {
    "duration": 13,
    "start_time": "2022-05-11T10:11:57.658Z"
   },
   {
    "duration": 15,
    "start_time": "2022-05-11T10:18:17.932Z"
   },
   {
    "duration": 6,
    "start_time": "2022-05-11T10:18:20.833Z"
   },
   {
    "duration": 13,
    "start_time": "2022-05-11T10:19:01.679Z"
   },
   {
    "duration": 8,
    "start_time": "2022-05-11T10:19:03.795Z"
   },
   {
    "duration": 9,
    "start_time": "2022-05-11T10:19:08.934Z"
   },
   {
    "duration": 7,
    "start_time": "2022-05-11T10:22:05.392Z"
   },
   {
    "duration": 7,
    "start_time": "2022-05-11T10:22:35.130Z"
   },
   {
    "duration": 6,
    "start_time": "2022-05-11T10:31:15.384Z"
   },
   {
    "duration": 23,
    "start_time": "2022-05-11T10:33:02.589Z"
   },
   {
    "duration": 7,
    "start_time": "2022-05-11T10:33:37.902Z"
   },
   {
    "duration": 11,
    "start_time": "2022-05-11T10:34:00.242Z"
   },
   {
    "duration": 15,
    "start_time": "2022-05-11T10:34:16.530Z"
   },
   {
    "duration": 58,
    "start_time": "2022-05-11T10:35:41.417Z"
   },
   {
    "duration": 22,
    "start_time": "2022-05-11T10:36:19.624Z"
   },
   {
    "duration": 21,
    "start_time": "2022-05-11T10:39:12.801Z"
   },
   {
    "duration": 28,
    "start_time": "2022-05-11T10:59:12.130Z"
   },
   {
    "duration": 8,
    "start_time": "2022-05-11T11:27:16.862Z"
   },
   {
    "duration": 1487,
    "start_time": "2022-05-12T05:59:04.967Z"
   },
   {
    "duration": 802,
    "start_time": "2022-05-12T05:59:06.456Z"
   },
   {
    "duration": 30,
    "start_time": "2022-05-12T05:59:07.261Z"
   },
   {
    "duration": 14,
    "start_time": "2022-05-12T05:59:07.294Z"
   },
   {
    "duration": 6,
    "start_time": "2022-05-12T05:59:13.356Z"
   },
   {
    "duration": 20,
    "start_time": "2022-05-12T05:59:54.012Z"
   },
   {
    "duration": 23,
    "start_time": "2022-05-12T06:02:49.815Z"
   },
   {
    "duration": 7,
    "start_time": "2022-05-12T06:02:52.657Z"
   },
   {
    "duration": 7,
    "start_time": "2022-05-12T06:02:54.643Z"
   },
   {
    "duration": 3,
    "start_time": "2022-05-12T06:03:18.137Z"
   },
   {
    "duration": 817,
    "start_time": "2022-05-12T06:03:18.143Z"
   },
   {
    "duration": 28,
    "start_time": "2022-05-12T06:03:18.963Z"
   },
   {
    "duration": 3,
    "start_time": "2022-05-12T06:03:18.993Z"
   },
   {
    "duration": 7,
    "start_time": "2022-05-12T06:03:18.999Z"
   },
   {
    "duration": 12,
    "start_time": "2022-05-12T06:03:20.938Z"
   },
   {
    "duration": 7,
    "start_time": "2022-05-12T06:03:23.594Z"
   },
   {
    "duration": 8,
    "start_time": "2022-05-12T06:03:25.621Z"
   },
   {
    "duration": 14,
    "start_time": "2022-05-12T06:04:01.981Z"
   },
   {
    "duration": 8,
    "start_time": "2022-05-12T06:04:04.539Z"
   },
   {
    "duration": 14,
    "start_time": "2022-05-12T06:04:06.830Z"
   },
   {
    "duration": 19,
    "start_time": "2022-05-12T06:12:38.847Z"
   },
   {
    "duration": 27,
    "start_time": "2022-05-12T06:13:02.817Z"
   },
   {
    "duration": 903,
    "start_time": "2022-05-12T06:41:00.365Z"
   },
   {
    "duration": 34,
    "start_time": "2022-05-12T06:46:12.237Z"
   },
   {
    "duration": 6,
    "start_time": "2022-05-12T06:48:54.124Z"
   },
   {
    "duration": 18,
    "start_time": "2022-05-12T06:49:00.372Z"
   },
   {
    "duration": 458,
    "start_time": "2022-05-12T06:50:19.568Z"
   },
   {
    "duration": 318,
    "start_time": "2022-05-12T06:51:10.046Z"
   },
   {
    "duration": 5,
    "start_time": "2022-05-12T06:54:21.774Z"
   },
   {
    "duration": 579,
    "start_time": "2022-05-12T06:54:29.671Z"
   },
   {
    "duration": 161,
    "start_time": "2022-05-12T06:55:20.646Z"
   },
   {
    "duration": 315,
    "start_time": "2022-05-12T06:55:31.371Z"
   },
   {
    "duration": 1083,
    "start_time": "2022-05-12T06:55:41.505Z"
   },
   {
    "duration": 24,
    "start_time": "2022-05-12T06:55:46.966Z"
   },
   {
    "duration": 1218,
    "start_time": "2022-05-12T06:56:46.477Z"
   },
   {
    "duration": 1123,
    "start_time": "2022-05-12T06:56:53.038Z"
   },
   {
    "duration": 1137,
    "start_time": "2022-05-12T06:59:25.495Z"
   },
   {
    "duration": 1221,
    "start_time": "2022-05-12T06:59:40.874Z"
   },
   {
    "duration": 949,
    "start_time": "2022-05-12T07:01:12.811Z"
   },
   {
    "duration": 1117,
    "start_time": "2022-05-12T07:01:17.704Z"
   },
   {
    "duration": 1156,
    "start_time": "2022-05-12T07:01:57.576Z"
   },
   {
    "duration": 1047,
    "start_time": "2022-05-12T07:02:19.297Z"
   },
   {
    "duration": 949,
    "start_time": "2022-05-12T07:02:32.651Z"
   },
   {
    "duration": 26,
    "start_time": "2022-05-12T07:03:54.036Z"
   },
   {
    "duration": 7,
    "start_time": "2022-05-12T07:07:30.189Z"
   },
   {
    "duration": 13,
    "start_time": "2022-05-12T07:07:40.992Z"
   },
   {
    "duration": 14,
    "start_time": "2022-05-12T07:08:00.414Z"
   },
   {
    "duration": 53,
    "start_time": "2022-05-12T07:11:06.619Z"
   },
   {
    "duration": 22,
    "start_time": "2022-05-12T07:11:32.690Z"
   },
   {
    "duration": 768,
    "start_time": "2022-05-12T07:17:41.099Z"
   },
   {
    "duration": 392,
    "start_time": "2022-05-12T07:18:43.535Z"
   },
   {
    "duration": 275,
    "start_time": "2022-05-12T07:21:09.038Z"
   },
   {
    "duration": 297,
    "start_time": "2022-05-12T07:21:46.750Z"
   },
   {
    "duration": 252,
    "start_time": "2022-05-12T07:22:04.224Z"
   },
   {
    "duration": 276,
    "start_time": "2022-05-12T07:23:13.518Z"
   },
   {
    "duration": 9,
    "start_time": "2022-05-12T07:24:27.034Z"
   },
   {
    "duration": 9,
    "start_time": "2022-05-12T07:24:32.265Z"
   },
   {
    "duration": 296,
    "start_time": "2022-05-12T07:25:34.383Z"
   },
   {
    "duration": 230,
    "start_time": "2022-05-12T07:25:47.414Z"
   },
   {
    "duration": 238,
    "start_time": "2022-05-12T07:28:12.818Z"
   },
   {
    "duration": 218,
    "start_time": "2022-05-12T07:28:46.230Z"
   },
   {
    "duration": 5051,
    "start_time": "2022-05-12T07:29:23.469Z"
   },
   {
    "duration": 228,
    "start_time": "2022-05-12T07:29:57.307Z"
   },
   {
    "duration": 216,
    "start_time": "2022-05-12T07:30:12.361Z"
   },
   {
    "duration": 2524,
    "start_time": "2022-05-12T07:31:33.072Z"
   },
   {
    "duration": 243,
    "start_time": "2022-05-12T07:33:29.131Z"
   },
   {
    "duration": 215,
    "start_time": "2022-05-12T07:33:45.356Z"
   },
   {
    "duration": 221,
    "start_time": "2022-05-12T07:34:51.575Z"
   },
   {
    "duration": 305,
    "start_time": "2022-05-12T07:35:49.112Z"
   },
   {
    "duration": 260,
    "start_time": "2022-05-12T07:35:57.786Z"
   },
   {
    "duration": 418,
    "start_time": "2022-05-12T07:36:37.021Z"
   },
   {
    "duration": 367,
    "start_time": "2022-05-12T07:36:43.465Z"
   },
   {
    "duration": 313,
    "start_time": "2022-05-12T07:37:44.106Z"
   },
   {
    "duration": 335,
    "start_time": "2022-05-12T07:37:52.301Z"
   },
   {
    "duration": 356,
    "start_time": "2022-05-12T07:38:19.015Z"
   },
   {
    "duration": 339,
    "start_time": "2022-05-12T07:38:34.307Z"
   },
   {
    "duration": 393,
    "start_time": "2022-05-12T07:39:10.572Z"
   },
   {
    "duration": 388,
    "start_time": "2022-05-12T07:39:38.604Z"
   },
   {
    "duration": 653,
    "start_time": "2022-05-12T07:40:18.739Z"
   },
   {
    "duration": 839,
    "start_time": "2022-05-12T07:40:31.758Z"
   },
   {
    "duration": 713,
    "start_time": "2022-05-12T07:41:09.967Z"
   },
   {
    "duration": 831,
    "start_time": "2022-05-12T07:41:31.455Z"
   },
   {
    "duration": 915,
    "start_time": "2022-05-12T07:44:29.388Z"
   },
   {
    "duration": 1268,
    "start_time": "2022-05-12T07:44:39.535Z"
   },
   {
    "duration": 704,
    "start_time": "2022-05-12T07:45:20.716Z"
   },
   {
    "duration": 1168,
    "start_time": "2022-05-12T07:56:57.275Z"
   },
   {
    "duration": 912,
    "start_time": "2022-05-12T07:57:04.444Z"
   },
   {
    "duration": 1259,
    "start_time": "2022-05-12T07:57:59.993Z"
   },
   {
    "duration": 830,
    "start_time": "2022-05-12T08:03:15.059Z"
   },
   {
    "duration": 824,
    "start_time": "2022-05-12T08:03:58.906Z"
   },
   {
    "duration": 682,
    "start_time": "2022-05-12T08:04:12.609Z"
   },
   {
    "duration": 671,
    "start_time": "2022-05-12T08:04:18.315Z"
   },
   {
    "duration": 709,
    "start_time": "2022-05-12T08:04:25.938Z"
   },
   {
    "duration": 851,
    "start_time": "2022-05-12T08:04:39.387Z"
   },
   {
    "duration": 869,
    "start_time": "2022-05-12T08:07:35.521Z"
   },
   {
    "duration": 1066,
    "start_time": "2022-05-12T08:08:01.058Z"
   },
   {
    "duration": 18,
    "start_time": "2022-05-12T08:11:18.222Z"
   },
   {
    "duration": 4,
    "start_time": "2022-05-12T08:12:19.151Z"
   },
   {
    "duration": 1298,
    "start_time": "2022-05-12T08:12:19.158Z"
   },
   {
    "duration": 30,
    "start_time": "2022-05-12T08:12:20.458Z"
   },
   {
    "duration": 23,
    "start_time": "2022-05-12T08:12:20.492Z"
   },
   {
    "duration": 42,
    "start_time": "2022-05-12T08:12:20.518Z"
   },
   {
    "duration": 14,
    "start_time": "2022-05-12T08:12:20.563Z"
   },
   {
    "duration": 29,
    "start_time": "2022-05-12T08:12:20.580Z"
   },
   {
    "duration": 49,
    "start_time": "2022-05-12T08:12:20.611Z"
   },
   {
    "duration": 84,
    "start_time": "2022-05-12T08:12:20.663Z"
   },
   {
    "duration": 1785,
    "start_time": "2022-05-12T08:12:20.752Z"
   },
   {
    "duration": 1496,
    "start_time": "2022-05-12T08:12:22.540Z"
   },
   {
    "duration": 1678,
    "start_time": "2022-05-12T08:12:24.039Z"
   },
   {
    "duration": 1094,
    "start_time": "2022-05-12T08:12:25.731Z"
   },
   {
    "duration": 19,
    "start_time": "2022-05-12T08:12:43.330Z"
   },
   {
    "duration": 9,
    "start_time": "2022-05-12T08:13:52.406Z"
   },
   {
    "duration": 1050,
    "start_time": "2022-05-12T08:14:23.525Z"
   },
   {
    "duration": 595,
    "start_time": "2022-05-12T08:15:18.263Z"
   },
   {
    "duration": 1219,
    "start_time": "2022-05-12T08:15:45.810Z"
   },
   {
    "duration": 885,
    "start_time": "2022-05-12T08:16:42.271Z"
   },
   {
    "duration": 5,
    "start_time": "2022-05-12T08:18:26.135Z"
   },
   {
    "duration": 1216,
    "start_time": "2022-05-12T08:18:26.153Z"
   },
   {
    "duration": 28,
    "start_time": "2022-05-12T08:18:27.373Z"
   },
   {
    "duration": 46,
    "start_time": "2022-05-12T08:18:27.404Z"
   },
   {
    "duration": 9,
    "start_time": "2022-05-12T08:18:27.453Z"
   },
   {
    "duration": 24,
    "start_time": "2022-05-12T08:18:27.466Z"
   },
   {
    "duration": 47,
    "start_time": "2022-05-12T08:18:27.493Z"
   },
   {
    "duration": 8,
    "start_time": "2022-05-12T08:18:27.543Z"
   },
   {
    "duration": 32,
    "start_time": "2022-05-12T08:18:27.555Z"
   },
   {
    "duration": 1594,
    "start_time": "2022-05-12T08:18:27.590Z"
   },
   {
    "duration": 1585,
    "start_time": "2022-05-12T08:18:29.187Z"
   },
   {
    "duration": 1559,
    "start_time": "2022-05-12T08:18:30.775Z"
   },
   {
    "duration": 825,
    "start_time": "2022-05-12T08:18:32.337Z"
   },
   {
    "duration": 77,
    "start_time": "2022-05-12T08:18:51.267Z"
   },
   {
    "duration": 23,
    "start_time": "2022-05-12T08:20:38.565Z"
   },
   {
    "duration": 1170,
    "start_time": "2022-05-12T08:21:05.875Z"
   },
   {
    "duration": 1087,
    "start_time": "2022-05-12T08:22:15.269Z"
   },
   {
    "duration": 16,
    "start_time": "2022-05-12T08:46:23.974Z"
   },
   {
    "duration": 23,
    "start_time": "2022-05-12T08:47:52.403Z"
   },
   {
    "duration": 11,
    "start_time": "2022-05-12T08:52:09.327Z"
   },
   {
    "duration": 15,
    "start_time": "2022-05-12T08:52:25.782Z"
   },
   {
    "duration": 10,
    "start_time": "2022-05-12T08:52:35.318Z"
   },
   {
    "duration": 12,
    "start_time": "2022-05-12T08:52:50.032Z"
   },
   {
    "duration": 12,
    "start_time": "2022-05-12T08:54:35.762Z"
   },
   {
    "duration": 10,
    "start_time": "2022-05-12T08:54:36.439Z"
   },
   {
    "duration": 13,
    "start_time": "2022-05-12T08:54:37.133Z"
   },
   {
    "duration": 8,
    "start_time": "2022-05-12T08:56:44.677Z"
   },
   {
    "duration": 1266,
    "start_time": "2022-05-12T08:56:44.692Z"
   },
   {
    "duration": 43,
    "start_time": "2022-05-12T08:56:45.961Z"
   },
   {
    "duration": 4,
    "start_time": "2022-05-12T08:56:46.008Z"
   },
   {
    "duration": 18,
    "start_time": "2022-05-12T08:56:46.015Z"
   },
   {
    "duration": 16,
    "start_time": "2022-05-12T08:56:46.036Z"
   },
   {
    "duration": 8,
    "start_time": "2022-05-12T08:56:46.055Z"
   },
   {
    "duration": 15,
    "start_time": "2022-05-12T08:56:46.093Z"
   },
   {
    "duration": 33,
    "start_time": "2022-05-12T08:56:46.111Z"
   },
   {
    "duration": 1134,
    "start_time": "2022-05-12T08:56:57.009Z"
   },
   {
    "duration": 1272,
    "start_time": "2022-05-12T08:57:06.159Z"
   },
   {
    "duration": 1257,
    "start_time": "2022-05-12T08:57:09.688Z"
   },
   {
    "duration": 1205,
    "start_time": "2022-05-12T08:57:18.010Z"
   },
   {
    "duration": 1475,
    "start_time": "2022-05-12T08:59:46.261Z"
   },
   {
    "duration": 2321,
    "start_time": "2022-05-12T09:00:06.673Z"
   },
   {
    "duration": 1759,
    "start_time": "2022-05-12T09:00:09.001Z"
   },
   {
    "duration": 192,
    "start_time": "2022-05-12T09:03:15.559Z"
   },
   {
    "duration": 185,
    "start_time": "2022-05-12T09:03:24.690Z"
   },
   {
    "duration": 457,
    "start_time": "2022-05-12T09:03:28.900Z"
   },
   {
    "duration": 259,
    "start_time": "2022-05-12T09:04:09.737Z"
   },
   {
    "duration": 284,
    "start_time": "2022-05-12T09:04:28.569Z"
   },
   {
    "duration": 257,
    "start_time": "2022-05-12T09:04:36.716Z"
   },
   {
    "duration": 330,
    "start_time": "2022-05-12T09:04:46.040Z"
   },
   {
    "duration": 346,
    "start_time": "2022-05-12T09:04:51.714Z"
   },
   {
    "duration": 262,
    "start_time": "2022-05-12T09:04:58.591Z"
   },
   {
    "duration": 277,
    "start_time": "2022-05-12T09:06:55.795Z"
   },
   {
    "duration": 292,
    "start_time": "2022-05-12T09:07:31.409Z"
   },
   {
    "duration": 276,
    "start_time": "2022-05-12T09:08:06.415Z"
   },
   {
    "duration": 383,
    "start_time": "2022-05-12T09:08:26.618Z"
   },
   {
    "duration": 646,
    "start_time": "2022-05-12T09:12:11.451Z"
   },
   {
    "duration": 1479,
    "start_time": "2022-05-12T09:12:22.586Z"
   },
   {
    "duration": 424,
    "start_time": "2022-05-12T09:13:13.073Z"
   },
   {
    "duration": 43,
    "start_time": "2022-05-12T10:21:04.457Z"
   },
   {
    "duration": 53,
    "start_time": "2022-05-12T10:25:43.327Z"
   },
   {
    "duration": 12,
    "start_time": "2022-05-12T10:26:02.817Z"
   },
   {
    "duration": 15,
    "start_time": "2022-05-12T10:32:00.873Z"
   },
   {
    "duration": 39,
    "start_time": "2022-05-12T10:32:05.622Z"
   },
   {
    "duration": 7,
    "start_time": "2022-05-12T10:32:30.604Z"
   },
   {
    "duration": 7,
    "start_time": "2022-05-12T10:32:48.636Z"
   },
   {
    "duration": 6,
    "start_time": "2022-05-12T10:33:33.190Z"
   },
   {
    "duration": 11,
    "start_time": "2022-05-12T10:36:18.469Z"
   },
   {
    "duration": 5,
    "start_time": "2022-05-12T11:10:33.436Z"
   },
   {
    "duration": 112,
    "start_time": "2022-05-12T11:23:37.384Z"
   },
   {
    "duration": 3,
    "start_time": "2022-05-12T11:58:17.804Z"
   },
   {
    "duration": 14,
    "start_time": "2022-05-12T11:58:31.354Z"
   },
   {
    "duration": 242,
    "start_time": "2022-05-12T11:58:52.143Z"
   },
   {
    "duration": 210,
    "start_time": "2022-05-12T12:05:54.233Z"
   },
   {
    "duration": 265,
    "start_time": "2022-05-12T12:06:14.963Z"
   },
   {
    "duration": 356,
    "start_time": "2022-05-12T12:06:50.849Z"
   },
   {
    "duration": 905,
    "start_time": "2022-05-12T12:07:16.553Z"
   },
   {
    "duration": 476,
    "start_time": "2022-05-12T12:07:52.574Z"
   },
   {
    "duration": 492,
    "start_time": "2022-05-12T12:08:27.294Z"
   },
   {
    "duration": 12,
    "start_time": "2022-05-12T12:12:54.116Z"
   },
   {
    "duration": 1573,
    "start_time": "2022-05-13T05:59:00.140Z"
   },
   {
    "duration": 654,
    "start_time": "2022-05-13T05:59:01.715Z"
   },
   {
    "duration": 16,
    "start_time": "2022-05-13T05:59:02.371Z"
   },
   {
    "duration": 9,
    "start_time": "2022-05-13T05:59:02.389Z"
   },
   {
    "duration": 4,
    "start_time": "2022-05-13T05:59:02.401Z"
   },
   {
    "duration": 14,
    "start_time": "2022-05-13T05:59:02.406Z"
   },
   {
    "duration": 4,
    "start_time": "2022-05-13T05:59:02.422Z"
   },
   {
    "duration": 43,
    "start_time": "2022-05-13T05:59:02.427Z"
   },
   {
    "duration": 24,
    "start_time": "2022-05-13T05:59:02.472Z"
   },
   {
    "duration": 569,
    "start_time": "2022-05-13T05:59:02.497Z"
   },
   {
    "duration": 733,
    "start_time": "2022-05-13T05:59:03.068Z"
   },
   {
    "duration": 597,
    "start_time": "2022-05-13T05:59:03.802Z"
   },
   {
    "duration": 464,
    "start_time": "2022-05-13T05:59:04.402Z"
   },
   {
    "duration": 17,
    "start_time": "2022-05-13T05:59:04.868Z"
   },
   {
    "duration": 367,
    "start_time": "2022-05-13T05:59:04.886Z"
   },
   {
    "duration": 359,
    "start_time": "2022-05-13T05:59:05.255Z"
   },
   {
    "duration": 5,
    "start_time": "2022-05-13T05:59:16.981Z"
   },
   {
    "duration": 10,
    "start_time": "2022-05-13T05:59:19.303Z"
   },
   {
    "duration": 3,
    "start_time": "2022-05-13T06:01:20.992Z"
   },
   {
    "duration": 8,
    "start_time": "2022-05-13T06:01:28.186Z"
   },
   {
    "duration": 112,
    "start_time": "2022-05-13T06:02:32.992Z"
   },
   {
    "duration": 173,
    "start_time": "2022-05-13T06:03:37.458Z"
   },
   {
    "duration": 163,
    "start_time": "2022-05-13T06:03:51.460Z"
   },
   {
    "duration": 190,
    "start_time": "2022-05-13T06:04:21.318Z"
   },
   {
    "duration": 247,
    "start_time": "2022-05-13T06:05:04.040Z"
   },
   {
    "duration": 287,
    "start_time": "2022-05-13T06:05:15.464Z"
   },
   {
    "duration": 176,
    "start_time": "2022-05-13T06:05:22.626Z"
   },
   {
    "duration": 146,
    "start_time": "2022-05-13T06:05:43.088Z"
   },
   {
    "duration": 135,
    "start_time": "2022-05-13T06:05:49.618Z"
   },
   {
    "duration": 142,
    "start_time": "2022-05-13T06:05:54.734Z"
   },
   {
    "duration": 13,
    "start_time": "2022-05-13T06:12:10.030Z"
   },
   {
    "duration": 114,
    "start_time": "2022-05-13T06:12:14.527Z"
   },
   {
    "duration": 1030,
    "start_time": "2022-05-13T06:13:39.443Z"
   },
   {
    "duration": 1034,
    "start_time": "2022-05-13T06:13:46.729Z"
   },
   {
    "duration": 1761,
    "start_time": "2022-05-13T06:15:05.424Z"
   },
   {
    "duration": 10,
    "start_time": "2022-05-13T06:21:22.600Z"
   },
   {
    "duration": 548650,
    "start_time": "2022-05-13T06:21:36.780Z"
   },
   {
    "duration": 4,
    "start_time": "2022-05-13T06:31:13.147Z"
   },
   {
    "duration": 923,
    "start_time": "2022-05-13T06:31:13.153Z"
   },
   {
    "duration": 18,
    "start_time": "2022-05-13T06:31:14.078Z"
   },
   {
    "duration": 9,
    "start_time": "2022-05-13T06:31:14.097Z"
   },
   {
    "duration": 4,
    "start_time": "2022-05-13T06:31:14.109Z"
   },
   {
    "duration": 12,
    "start_time": "2022-05-13T06:31:14.115Z"
   },
   {
    "duration": 5,
    "start_time": "2022-05-13T06:31:14.129Z"
   },
   {
    "duration": 38,
    "start_time": "2022-05-13T06:31:14.136Z"
   },
   {
    "duration": 23,
    "start_time": "2022-05-13T06:31:14.178Z"
   },
   {
    "duration": 1106,
    "start_time": "2022-05-13T06:31:14.203Z"
   },
   {
    "duration": 618,
    "start_time": "2022-05-13T06:31:15.314Z"
   },
   {
    "duration": 958,
    "start_time": "2022-05-13T06:31:15.934Z"
   },
   {
    "duration": 386,
    "start_time": "2022-05-13T06:31:16.895Z"
   },
   {
    "duration": 12,
    "start_time": "2022-05-13T06:31:17.282Z"
   },
   {
    "duration": 385,
    "start_time": "2022-05-13T06:31:17.296Z"
   },
   {
    "duration": 379,
    "start_time": "2022-05-13T06:31:17.683Z"
   },
   {
    "duration": 12,
    "start_time": "2022-05-13T06:31:18.063Z"
   },
   {
    "duration": 16,
    "start_time": "2022-05-13T06:31:18.077Z"
   },
   {
    "duration": 136,
    "start_time": "2022-05-13T06:31:18.095Z"
   },
   {
    "duration": 12,
    "start_time": "2022-05-13T06:31:18.232Z"
   },
   {
    "duration": 2409,
    "start_time": "2022-05-13T06:31:29.763Z"
   },
   {
    "duration": 239,
    "start_time": "2022-05-13T06:31:49.888Z"
   },
   {
    "duration": 246,
    "start_time": "2022-05-13T06:32:23.094Z"
   },
   {
    "duration": 105,
    "start_time": "2022-05-13T06:33:02.421Z"
   },
   {
    "duration": 9191,
    "start_time": "2022-05-13T06:35:56.549Z"
   },
   {
    "duration": 1731,
    "start_time": "2022-05-13T06:44:47.669Z"
   },
   {
    "duration": 14,
    "start_time": "2022-05-13T07:05:03.709Z"
   },
   {
    "duration": 13,
    "start_time": "2022-05-13T07:06:04.428Z"
   },
   {
    "duration": 15,
    "start_time": "2022-05-13T07:06:16.206Z"
   },
   {
    "duration": 12,
    "start_time": "2022-05-13T07:06:33.040Z"
   },
   {
    "duration": 18,
    "start_time": "2022-05-13T07:07:14.357Z"
   },
   {
    "duration": 6,
    "start_time": "2022-05-13T07:07:52.451Z"
   },
   {
    "duration": 6,
    "start_time": "2022-05-13T07:08:10.994Z"
   },
   {
    "duration": 2,
    "start_time": "2022-05-13T07:29:22.444Z"
   },
   {
    "duration": 2889,
    "start_time": "2022-05-13T07:29:57.280Z"
   },
   {
    "duration": 4,
    "start_time": "2022-05-13T07:31:47.562Z"
   },
   {
    "duration": 19,
    "start_time": "2022-05-13T07:44:42.015Z"
   },
   {
    "duration": 4,
    "start_time": "2022-05-13T07:46:06.855Z"
   },
   {
    "duration": 2347,
    "start_time": "2022-05-13T07:46:21.221Z"
   },
   {
    "duration": 9,
    "start_time": "2022-05-13T07:48:09.461Z"
   },
   {
    "duration": 4,
    "start_time": "2022-05-13T07:48:14.642Z"
   },
   {
    "duration": 1664656,
    "start_time": "2022-05-13T07:54:53.379Z"
   },
   {
    "duration": 0,
    "start_time": "2022-05-13T08:22:38.037Z"
   },
   {
    "duration": 10,
    "start_time": "2022-05-13T08:22:55.665Z"
   },
   {
    "duration": 679,
    "start_time": "2022-05-13T08:22:58.144Z"
   },
   {
    "duration": 7,
    "start_time": "2022-05-13T08:23:01.331Z"
   },
   {
    "duration": 10,
    "start_time": "2022-05-13T08:23:21.283Z"
   },
   {
    "duration": 9,
    "start_time": "2022-05-13T08:30:34.215Z"
   },
   {
    "duration": 8,
    "start_time": "2022-05-13T08:32:11.102Z"
   },
   {
    "duration": 9,
    "start_time": "2022-05-13T08:34:07.751Z"
   },
   {
    "duration": 10,
    "start_time": "2022-05-13T08:35:21.126Z"
   },
   {
    "duration": 8,
    "start_time": "2022-05-13T08:35:32.403Z"
   },
   {
    "duration": 8,
    "start_time": "2022-05-13T08:37:35.339Z"
   },
   {
    "duration": 19,
    "start_time": "2022-05-13T08:37:46.330Z"
   },
   {
    "duration": 4,
    "start_time": "2022-05-13T08:38:36.278Z"
   },
   {
    "duration": 784,
    "start_time": "2022-05-13T08:38:36.284Z"
   },
   {
    "duration": 12,
    "start_time": "2022-05-13T08:38:37.070Z"
   },
   {
    "duration": 14,
    "start_time": "2022-05-13T08:38:37.084Z"
   },
   {
    "duration": 14,
    "start_time": "2022-05-13T08:38:37.100Z"
   },
   {
    "duration": 19,
    "start_time": "2022-05-13T08:38:37.116Z"
   },
   {
    "duration": 15,
    "start_time": "2022-05-13T08:38:45.371Z"
   },
   {
    "duration": 5,
    "start_time": "2022-05-13T08:38:47.833Z"
   },
   {
    "duration": 13,
    "start_time": "2022-05-13T08:38:50.091Z"
   },
   {
    "duration": 8,
    "start_time": "2022-05-13T08:39:55.558Z"
   },
   {
    "duration": 8,
    "start_time": "2022-05-13T08:41:38.812Z"
   },
   {
    "duration": 13,
    "start_time": "2022-05-13T08:42:59.967Z"
   },
   {
    "duration": 9,
    "start_time": "2022-05-13T08:43:10.580Z"
   },
   {
    "duration": 10,
    "start_time": "2022-05-13T08:43:23.836Z"
   },
   {
    "duration": 2,
    "start_time": "2022-05-13T08:47:10.966Z"
   },
   {
    "duration": 9,
    "start_time": "2022-05-13T08:55:09.373Z"
   },
   {
    "duration": 9,
    "start_time": "2022-05-13T08:55:25.068Z"
   },
   {
    "duration": 8,
    "start_time": "2022-05-13T08:55:32.357Z"
   },
   {
    "duration": 7,
    "start_time": "2022-05-13T08:55:34.251Z"
   },
   {
    "duration": 19,
    "start_time": "2022-05-13T08:55:38.415Z"
   },
   {
    "duration": 4,
    "start_time": "2022-05-13T08:59:41.389Z"
   },
   {
    "duration": 745,
    "start_time": "2022-05-13T08:59:41.396Z"
   },
   {
    "duration": 19,
    "start_time": "2022-05-13T08:59:42.143Z"
   },
   {
    "duration": 2,
    "start_time": "2022-05-13T08:59:42.164Z"
   },
   {
    "duration": 22,
    "start_time": "2022-05-13T08:59:42.168Z"
   },
   {
    "duration": 25,
    "start_time": "2022-05-13T08:59:47.048Z"
   },
   {
    "duration": 7,
    "start_time": "2022-05-13T08:59:55.901Z"
   },
   {
    "duration": 8,
    "start_time": "2022-05-13T08:59:58.054Z"
   },
   {
    "duration": 5,
    "start_time": "2022-05-13T09:00:02.194Z"
   },
   {
    "duration": 16,
    "start_time": "2022-05-13T09:00:03.798Z"
   },
   {
    "duration": 8,
    "start_time": "2022-05-13T09:06:35.844Z"
   },
   {
    "duration": 7,
    "start_time": "2022-05-13T09:07:07.530Z"
   },
   {
    "duration": 2581,
    "start_time": "2022-05-13T09:13:33.218Z"
   },
   {
    "duration": 20,
    "start_time": "2022-05-13T09:13:44.592Z"
   },
   {
    "duration": 2117,
    "start_time": "2022-05-13T09:16:52.132Z"
   },
   {
    "duration": 2703,
    "start_time": "2022-05-13T09:17:08.599Z"
   },
   {
    "duration": 2215,
    "start_time": "2022-05-13T09:17:24.750Z"
   },
   {
    "duration": 8,
    "start_time": "2022-05-13T09:17:37.144Z"
   },
   {
    "duration": 6,
    "start_time": "2022-05-13T09:18:23.032Z"
   },
   {
    "duration": 1986,
    "start_time": "2022-05-13T09:18:44.063Z"
   },
   {
    "duration": 20,
    "start_time": "2022-05-13T09:20:29.587Z"
   },
   {
    "duration": 4,
    "start_time": "2022-05-13T09:20:55.770Z"
   },
   {
    "duration": 22,
    "start_time": "2022-05-13T09:21:14.350Z"
   },
   {
    "duration": 3,
    "start_time": "2022-05-13T09:24:25.874Z"
   },
   {
    "duration": 699,
    "start_time": "2022-05-13T09:27:35.863Z"
   },
   {
    "duration": 994,
    "start_time": "2022-05-13T09:27:53.101Z"
   },
   {
    "duration": 135,
    "start_time": "2022-05-13T09:28:04.449Z"
   },
   {
    "duration": 965,
    "start_time": "2022-05-13T09:28:10.370Z"
   },
   {
    "duration": 1112,
    "start_time": "2022-05-13T09:29:25.767Z"
   },
   {
    "duration": 1068,
    "start_time": "2022-05-13T09:29:28.883Z"
   },
   {
    "duration": 1239,
    "start_time": "2022-05-13T09:29:32.200Z"
   },
   {
    "duration": 6,
    "start_time": "2022-05-13T09:51:06.687Z"
   },
   {
    "duration": 156,
    "start_time": "2022-05-13T09:52:53.743Z"
   },
   {
    "duration": 18,
    "start_time": "2022-05-13T09:54:25.866Z"
   },
   {
    "duration": 17,
    "start_time": "2022-05-13T09:54:38.509Z"
   },
   {
    "duration": 13,
    "start_time": "2022-05-13T09:54:55.839Z"
   },
   {
    "duration": 12,
    "start_time": "2022-05-13T09:55:07.340Z"
   },
   {
    "duration": 15,
    "start_time": "2022-05-13T09:55:25.244Z"
   },
   {
    "duration": 20,
    "start_time": "2022-05-13T09:55:46.976Z"
   },
   {
    "duration": 28,
    "start_time": "2022-05-13T09:57:18.344Z"
   },
   {
    "duration": 45,
    "start_time": "2022-05-13T09:58:00.785Z"
   },
   {
    "duration": 12,
    "start_time": "2022-05-13T09:58:46.930Z"
   },
   {
    "duration": 17,
    "start_time": "2022-05-13T09:58:59.810Z"
   },
   {
    "duration": 10,
    "start_time": "2022-05-13T10:00:20.510Z"
   },
   {
    "duration": 13,
    "start_time": "2022-05-13T10:00:57.233Z"
   },
   {
    "duration": 12,
    "start_time": "2022-05-13T10:01:25.641Z"
   },
   {
    "duration": 7,
    "start_time": "2022-05-13T10:01:40.060Z"
   },
   {
    "duration": 19,
    "start_time": "2022-05-13T10:01:46.882Z"
   },
   {
    "duration": 42,
    "start_time": "2022-05-13T10:02:06.562Z"
   },
   {
    "duration": 27,
    "start_time": "2022-05-13T10:02:23.173Z"
   },
   {
    "duration": 21,
    "start_time": "2022-05-13T10:06:37.640Z"
   },
   {
    "duration": 4,
    "start_time": "2022-05-13T10:06:46.042Z"
   },
   {
    "duration": 17,
    "start_time": "2022-05-13T10:07:11.158Z"
   },
   {
    "duration": 16,
    "start_time": "2022-05-13T10:07:20.809Z"
   },
   {
    "duration": 29,
    "start_time": "2022-05-13T10:07:25.052Z"
   },
   {
    "duration": 8,
    "start_time": "2022-05-13T10:07:34.227Z"
   },
   {
    "duration": 5,
    "start_time": "2022-05-13T10:07:38.204Z"
   },
   {
    "duration": 4,
    "start_time": "2022-05-13T10:08:02.246Z"
   },
   {
    "duration": 6,
    "start_time": "2022-05-13T10:08:14.208Z"
   },
   {
    "duration": 37,
    "start_time": "2022-05-13T10:09:03.920Z"
   },
   {
    "duration": 37,
    "start_time": "2022-05-13T10:14:09.551Z"
   },
   {
    "duration": 31,
    "start_time": "2022-05-13T10:14:46.640Z"
   },
   {
    "duration": 6,
    "start_time": "2022-05-13T10:17:07.222Z"
   },
   {
    "duration": 18,
    "start_time": "2022-05-13T10:17:12.392Z"
   },
   {
    "duration": 3,
    "start_time": "2022-05-13T10:17:46.957Z"
   },
   {
    "duration": 2916,
    "start_time": "2022-05-13T10:17:46.964Z"
   },
   {
    "duration": 15,
    "start_time": "2022-05-13T10:17:49.886Z"
   },
   {
    "duration": 28,
    "start_time": "2022-05-13T10:17:49.906Z"
   },
   {
    "duration": 8,
    "start_time": "2022-05-13T10:17:49.937Z"
   },
   {
    "duration": 13,
    "start_time": "2022-05-13T10:17:49.947Z"
   },
   {
    "duration": 54,
    "start_time": "2022-05-13T10:17:49.962Z"
   },
   {
    "duration": 26,
    "start_time": "2022-05-13T10:17:50.018Z"
   },
   {
    "duration": 225,
    "start_time": "2022-05-13T10:17:50.046Z"
   },
   {
    "duration": 0,
    "start_time": "2022-05-13T10:17:50.273Z"
   },
   {
    "duration": 0,
    "start_time": "2022-05-13T10:17:50.275Z"
   },
   {
    "duration": 0,
    "start_time": "2022-05-13T10:17:50.276Z"
   },
   {
    "duration": 0,
    "start_time": "2022-05-13T10:17:50.277Z"
   },
   {
    "duration": 0,
    "start_time": "2022-05-13T10:17:50.278Z"
   },
   {
    "duration": 0,
    "start_time": "2022-05-13T10:17:50.280Z"
   },
   {
    "duration": 0,
    "start_time": "2022-05-13T10:17:50.281Z"
   },
   {
    "duration": 0,
    "start_time": "2022-05-13T10:17:50.282Z"
   },
   {
    "duration": 0,
    "start_time": "2022-05-13T10:17:50.284Z"
   },
   {
    "duration": 0,
    "start_time": "2022-05-13T10:17:50.285Z"
   },
   {
    "duration": 0,
    "start_time": "2022-05-13T10:17:50.286Z"
   },
   {
    "duration": 0,
    "start_time": "2022-05-13T10:17:50.287Z"
   },
   {
    "duration": 0,
    "start_time": "2022-05-13T10:17:50.289Z"
   },
   {
    "duration": 4,
    "start_time": "2022-05-13T10:18:20.707Z"
   },
   {
    "duration": 828,
    "start_time": "2022-05-13T10:18:20.713Z"
   },
   {
    "duration": 10,
    "start_time": "2022-05-13T10:18:21.542Z"
   },
   {
    "duration": 23,
    "start_time": "2022-05-13T10:18:21.563Z"
   },
   {
    "duration": 27,
    "start_time": "2022-05-13T10:18:21.588Z"
   },
   {
    "duration": 13,
    "start_time": "2022-05-13T10:18:21.618Z"
   },
   {
    "duration": 12,
    "start_time": "2022-05-13T10:18:21.633Z"
   },
   {
    "duration": 29,
    "start_time": "2022-05-13T10:18:21.647Z"
   },
   {
    "duration": 10,
    "start_time": "2022-05-13T10:18:21.682Z"
   },
   {
    "duration": 26,
    "start_time": "2022-05-13T10:18:21.694Z"
   },
   {
    "duration": 822,
    "start_time": "2022-05-13T10:18:21.722Z"
   },
   {
    "duration": 849,
    "start_time": "2022-05-13T10:18:22.547Z"
   },
   {
    "duration": 740,
    "start_time": "2022-05-13T10:18:23.398Z"
   },
   {
    "duration": 553,
    "start_time": "2022-05-13T10:18:24.140Z"
   },
   {
    "duration": 14,
    "start_time": "2022-05-13T10:18:24.699Z"
   },
   {
    "duration": 610,
    "start_time": "2022-05-13T10:18:24.716Z"
   },
   {
    "duration": 481,
    "start_time": "2022-05-13T10:18:25.329Z"
   },
   {
    "duration": 8,
    "start_time": "2022-05-13T10:18:25.812Z"
   },
   {
    "duration": 14,
    "start_time": "2022-05-13T10:18:25.822Z"
   },
   {
    "duration": 155,
    "start_time": "2022-05-13T10:18:25.839Z"
   },
   {
    "duration": 37,
    "start_time": "2022-05-13T10:18:32.452Z"
   },
   {
    "duration": 5,
    "start_time": "2022-05-13T10:19:08.638Z"
   },
   {
    "duration": 4,
    "start_time": "2022-05-13T10:19:18.006Z"
   },
   {
    "duration": 21,
    "start_time": "2022-05-13T10:19:25.728Z"
   },
   {
    "duration": 25,
    "start_time": "2022-05-13T10:19:47.923Z"
   },
   {
    "duration": 20,
    "start_time": "2022-05-13T10:20:14.913Z"
   },
   {
    "duration": 25,
    "start_time": "2022-05-13T10:20:38.734Z"
   },
   {
    "duration": 23,
    "start_time": "2022-05-13T10:22:37.880Z"
   },
   {
    "duration": 2756,
    "start_time": "2022-05-16T08:09:17.520Z"
   },
   {
    "duration": 602,
    "start_time": "2022-05-16T08:09:20.278Z"
   },
   {
    "duration": 12,
    "start_time": "2022-05-16T08:09:26.497Z"
   },
   {
    "duration": 11,
    "start_time": "2022-05-16T08:09:40.772Z"
   },
   {
    "duration": 4,
    "start_time": "2022-05-16T08:09:41.030Z"
   },
   {
    "duration": 14,
    "start_time": "2022-05-16T08:09:41.206Z"
   },
   {
    "duration": 14,
    "start_time": "2022-05-16T08:09:41.400Z"
   },
   {
    "duration": 9,
    "start_time": "2022-05-16T08:14:45.257Z"
   },
   {
    "duration": 6,
    "start_time": "2022-05-16T08:14:45.786Z"
   },
   {
    "duration": 12,
    "start_time": "2022-05-16T08:15:08.442Z"
   },
   {
    "duration": 566,
    "start_time": "2022-05-16T08:15:16.363Z"
   },
   {
    "duration": 7,
    "start_time": "2022-05-16T08:15:16.931Z"
   },
   {
    "duration": 1025,
    "start_time": "2022-05-16T08:15:17.702Z"
   },
   {
    "duration": 8,
    "start_time": "2022-05-16T08:15:18.730Z"
   },
   {
    "duration": 536,
    "start_time": "2022-05-16T08:15:19.100Z"
   },
   {
    "duration": 6,
    "start_time": "2022-05-16T08:16:36.399Z"
   },
   {
    "duration": 8,
    "start_time": "2022-05-16T08:16:36.855Z"
   },
   {
    "duration": 176,
    "start_time": "2022-05-16T08:16:37.053Z"
   },
   {
    "duration": 14,
    "start_time": "2022-05-16T08:21:10.796Z"
   },
   {
    "duration": 18,
    "start_time": "2022-05-16T08:21:28.445Z"
   },
   {
    "duration": 97,
    "start_time": "2022-05-16T08:21:46.045Z"
   },
   {
    "duration": 4,
    "start_time": "2022-05-16T08:22:14.454Z"
   },
   {
    "duration": 14,
    "start_time": "2022-05-16T08:22:45.123Z"
   },
   {
    "duration": 4,
    "start_time": "2022-05-16T08:22:45.487Z"
   },
   {
    "duration": 33,
    "start_time": "2022-05-16T08:22:46.048Z"
   },
   {
    "duration": 2141,
    "start_time": "2022-05-16T08:22:51.933Z"
   },
   {
    "duration": 6159,
    "start_time": "2022-05-16T08:22:54.607Z"
   },
   {
    "duration": 876,
    "start_time": "2022-05-16T08:23:00.771Z"
   },
   {
    "duration": 15573,
    "start_time": "2022-05-16T08:23:01.649Z"
   },
   {
    "duration": 15050,
    "start_time": "2022-05-16T08:23:17.224Z"
   },
   {
    "duration": 29,
    "start_time": "2022-05-16T08:23:32.275Z"
   },
   {
    "duration": 1870,
    "start_time": "2022-05-16T08:23:32.306Z"
   },
   {
    "duration": 1662,
    "start_time": "2022-05-18T09:19:48.582Z"
   },
   {
    "duration": 3412,
    "start_time": "2022-05-18T09:19:50.247Z"
   },
   {
    "duration": 12,
    "start_time": "2022-05-18T09:19:53.660Z"
   },
   {
    "duration": 15,
    "start_time": "2022-05-18T09:19:53.674Z"
   },
   {
    "duration": 4,
    "start_time": "2022-05-18T09:19:53.690Z"
   },
   {
    "duration": 21,
    "start_time": "2022-05-18T09:19:53.695Z"
   },
   {
    "duration": 14,
    "start_time": "2022-05-18T09:19:53.717Z"
   },
   {
    "duration": 8,
    "start_time": "2022-05-18T09:19:53.732Z"
   },
   {
    "duration": 5,
    "start_time": "2022-05-18T09:19:53.742Z"
   },
   {
    "duration": 13,
    "start_time": "2022-05-18T09:19:53.774Z"
   },
   {
    "duration": 734,
    "start_time": "2022-05-18T09:19:53.789Z"
   },
   {
    "duration": 8,
    "start_time": "2022-05-18T09:19:54.525Z"
   },
   {
    "duration": 664,
    "start_time": "2022-05-18T09:19:54.534Z"
   },
   {
    "duration": 7,
    "start_time": "2022-05-18T09:19:55.200Z"
   },
   {
    "duration": 737,
    "start_time": "2022-05-18T09:19:55.208Z"
   },
   {
    "duration": 7,
    "start_time": "2022-05-18T09:19:55.947Z"
   },
   {
    "duration": 412,
    "start_time": "2022-05-18T09:19:55.955Z"
   },
   {
    "duration": 552,
    "start_time": "2022-05-18T09:19:56.369Z"
   },
   {
    "duration": 4,
    "start_time": "2022-05-18T09:20:00.269Z"
   },
   {
    "duration": 5,
    "start_time": "2022-05-18T09:20:07.960Z"
   },
   {
    "duration": 4,
    "start_time": "2022-05-18T09:20:13.294Z"
   },
   {
    "duration": 10,
    "start_time": "2022-05-18T09:20:30.215Z"
   },
   {
    "duration": 114,
    "start_time": "2022-05-18T09:20:35.298Z"
   },
   {
    "duration": 27,
    "start_time": "2022-05-18T09:22:44.113Z"
   },
   {
    "duration": 4,
    "start_time": "2022-05-18T09:23:36.679Z"
   },
   {
    "duration": 4,
    "start_time": "2022-05-18T09:24:39.756Z"
   },
   {
    "duration": 794,
    "start_time": "2022-05-18T09:24:39.762Z"
   },
   {
    "duration": 16,
    "start_time": "2022-05-18T09:24:40.560Z"
   },
   {
    "duration": 16,
    "start_time": "2022-05-18T09:24:40.577Z"
   },
   {
    "duration": 5,
    "start_time": "2022-05-18T09:24:40.595Z"
   },
   {
    "duration": 21,
    "start_time": "2022-05-18T09:24:40.602Z"
   },
   {
    "duration": 20,
    "start_time": "2022-05-18T09:24:40.625Z"
   },
   {
    "duration": 34,
    "start_time": "2022-05-18T09:24:40.647Z"
   },
   {
    "duration": 6,
    "start_time": "2022-05-18T09:24:40.683Z"
   },
   {
    "duration": 17,
    "start_time": "2022-05-18T09:24:40.690Z"
   },
   {
    "duration": 771,
    "start_time": "2022-05-18T09:24:40.709Z"
   },
   {
    "duration": 9,
    "start_time": "2022-05-18T09:24:41.482Z"
   },
   {
    "duration": 736,
    "start_time": "2022-05-18T09:24:41.493Z"
   },
   {
    "duration": 11,
    "start_time": "2022-05-18T09:24:42.231Z"
   },
   {
    "duration": 944,
    "start_time": "2022-05-18T09:24:42.244Z"
   },
   {
    "duration": 8,
    "start_time": "2022-05-18T09:24:43.189Z"
   },
   {
    "duration": 437,
    "start_time": "2022-05-18T09:24:43.198Z"
   },
   {
    "duration": 421,
    "start_time": "2022-05-18T09:24:43.637Z"
   },
   {
    "duration": 5,
    "start_time": "2022-05-18T09:24:44.060Z"
   },
   {
    "duration": 2,
    "start_time": "2022-05-18T09:24:44.075Z"
   },
   {
    "duration": 14,
    "start_time": "2022-05-18T09:24:44.078Z"
   },
   {
    "duration": 9,
    "start_time": "2022-05-18T09:24:48.419Z"
   },
   {
    "duration": 139,
    "start_time": "2022-05-18T09:25:03.443Z"
   },
   {
    "duration": 3,
    "start_time": "2022-05-18T09:29:30.961Z"
   },
   {
    "duration": 655,
    "start_time": "2022-05-18T09:29:30.966Z"
   },
   {
    "duration": 14,
    "start_time": "2022-05-18T09:29:31.622Z"
   },
   {
    "duration": 10,
    "start_time": "2022-05-18T09:29:31.639Z"
   },
   {
    "duration": 4,
    "start_time": "2022-05-18T09:29:31.651Z"
   },
   {
    "duration": 11,
    "start_time": "2022-05-18T09:29:31.675Z"
   },
   {
    "duration": 15,
    "start_time": "2022-05-18T09:29:31.687Z"
   },
   {
    "duration": 9,
    "start_time": "2022-05-18T09:29:31.703Z"
   },
   {
    "duration": 5,
    "start_time": "2022-05-18T09:29:31.715Z"
   },
   {
    "duration": 20,
    "start_time": "2022-05-18T09:29:31.722Z"
   },
   {
    "duration": 901,
    "start_time": "2022-05-18T09:29:31.744Z"
   },
   {
    "duration": 6,
    "start_time": "2022-05-18T09:29:32.647Z"
   },
   {
    "duration": 767,
    "start_time": "2022-05-18T09:29:32.655Z"
   },
   {
    "duration": 8,
    "start_time": "2022-05-18T09:29:33.424Z"
   },
   {
    "duration": 852,
    "start_time": "2022-05-18T09:29:33.434Z"
   },
   {
    "duration": 7,
    "start_time": "2022-05-18T09:29:34.289Z"
   },
   {
    "duration": 434,
    "start_time": "2022-05-18T09:29:34.298Z"
   },
   {
    "duration": 416,
    "start_time": "2022-05-18T09:29:34.735Z"
   },
   {
    "duration": 6,
    "start_time": "2022-05-18T09:29:35.153Z"
   },
   {
    "duration": 7,
    "start_time": "2022-05-18T09:29:35.160Z"
   },
   {
    "duration": 9,
    "start_time": "2022-05-18T09:29:35.175Z"
   },
   {
    "duration": 205,
    "start_time": "2022-05-18T09:29:49.741Z"
   },
   {
    "duration": 216,
    "start_time": "2022-05-18T09:32:20.085Z"
   },
   {
    "duration": 264,
    "start_time": "2022-05-18T09:32:32.006Z"
   },
   {
    "duration": 204,
    "start_time": "2022-05-18T09:40:45.150Z"
   },
   {
    "duration": 58,
    "start_time": "2022-05-18T09:41:20.194Z"
   },
   {
    "duration": 48,
    "start_time": "2022-05-18T09:41:20.557Z"
   },
   {
    "duration": 33,
    "start_time": "2022-05-18T09:42:15.433Z"
   },
   {
    "duration": 3,
    "start_time": "2022-05-18T09:44:56.582Z"
   },
   {
    "duration": 38,
    "start_time": "2022-05-18T09:55:05.107Z"
   },
   {
    "duration": 4,
    "start_time": "2022-05-18T09:55:13.501Z"
   },
   {
    "duration": 21,
    "start_time": "2022-05-18T09:56:04.151Z"
   },
   {
    "duration": 29,
    "start_time": "2022-05-18T09:57:26.486Z"
   },
   {
    "duration": 19,
    "start_time": "2022-05-18T09:57:30.965Z"
   },
   {
    "duration": 18,
    "start_time": "2022-05-18T09:57:46.705Z"
   },
   {
    "duration": 84,
    "start_time": "2022-05-18T09:58:01.820Z"
   },
   {
    "duration": 19,
    "start_time": "2022-05-18T09:59:06.214Z"
   },
   {
    "duration": 5,
    "start_time": "2022-05-18T09:59:12.139Z"
   },
   {
    "duration": 77,
    "start_time": "2022-05-18T09:59:22.564Z"
   },
   {
    "duration": 5,
    "start_time": "2022-05-18T09:59:31.340Z"
   },
   {
    "duration": 7,
    "start_time": "2022-05-18T09:59:36.307Z"
   },
   {
    "duration": 25,
    "start_time": "2022-05-18T10:01:48.111Z"
   },
   {
    "duration": 8,
    "start_time": "2022-05-18T10:02:21.354Z"
   },
   {
    "duration": 189,
    "start_time": "2022-05-18T10:02:24.740Z"
   },
   {
    "duration": 6,
    "start_time": "2022-05-18T10:03:07.717Z"
   },
   {
    "duration": 4,
    "start_time": "2022-05-18T10:03:33.465Z"
   },
   {
    "duration": 662,
    "start_time": "2022-05-18T10:03:33.471Z"
   },
   {
    "duration": 14,
    "start_time": "2022-05-18T10:03:34.136Z"
   },
   {
    "duration": 23,
    "start_time": "2022-05-18T10:03:34.152Z"
   },
   {
    "duration": 5,
    "start_time": "2022-05-18T10:03:34.177Z"
   },
   {
    "duration": 18,
    "start_time": "2022-05-18T10:03:34.184Z"
   },
   {
    "duration": 25,
    "start_time": "2022-05-18T10:03:34.204Z"
   },
   {
    "duration": 8,
    "start_time": "2022-05-18T10:03:34.232Z"
   },
   {
    "duration": 11,
    "start_time": "2022-05-18T10:03:34.242Z"
   },
   {
    "duration": 17,
    "start_time": "2022-05-18T10:03:34.275Z"
   },
   {
    "duration": 743,
    "start_time": "2022-05-18T10:03:34.295Z"
   },
   {
    "duration": 9,
    "start_time": "2022-05-18T10:03:35.043Z"
   },
   {
    "duration": 818,
    "start_time": "2022-05-18T10:03:35.054Z"
   },
   {
    "duration": 10,
    "start_time": "2022-05-18T10:03:35.875Z"
   },
   {
    "duration": 748,
    "start_time": "2022-05-18T10:03:35.887Z"
   },
   {
    "duration": 7,
    "start_time": "2022-05-18T10:03:36.636Z"
   },
   {
    "duration": 442,
    "start_time": "2022-05-18T10:03:36.645Z"
   },
   {
    "duration": 543,
    "start_time": "2022-05-18T10:03:37.089Z"
   },
   {
    "duration": 5,
    "start_time": "2022-05-18T10:03:37.634Z"
   },
   {
    "duration": 7,
    "start_time": "2022-05-18T10:03:37.641Z"
   },
   {
    "duration": 9,
    "start_time": "2022-05-18T10:03:37.650Z"
   },
   {
    "duration": 18,
    "start_time": "2022-05-18T10:03:37.660Z"
   },
   {
    "duration": 5,
    "start_time": "2022-05-18T10:03:37.680Z"
   },
   {
    "duration": 9,
    "start_time": "2022-05-18T10:03:39.850Z"
   },
   {
    "duration": 8,
    "start_time": "2022-05-18T10:03:41.734Z"
   },
   {
    "duration": 144,
    "start_time": "2022-05-18T10:03:43.678Z"
   },
   {
    "duration": 4,
    "start_time": "2022-05-18T10:12:54.464Z"
   },
   {
    "duration": 34,
    "start_time": "2022-05-18T10:13:05.075Z"
   },
   {
    "duration": 147,
    "start_time": "2022-05-18T10:13:15.374Z"
   },
   {
    "duration": 5,
    "start_time": "2022-05-18T10:13:23.451Z"
   },
   {
    "duration": 690,
    "start_time": "2022-05-18T10:13:23.458Z"
   },
   {
    "duration": 10,
    "start_time": "2022-05-18T10:13:24.150Z"
   },
   {
    "duration": 23,
    "start_time": "2022-05-18T10:13:24.162Z"
   },
   {
    "duration": 10,
    "start_time": "2022-05-18T10:13:24.188Z"
   },
   {
    "duration": 16,
    "start_time": "2022-05-18T10:13:24.200Z"
   },
   {
    "duration": 16,
    "start_time": "2022-05-18T10:13:24.217Z"
   },
   {
    "duration": 8,
    "start_time": "2022-05-18T10:13:24.235Z"
   },
   {
    "duration": 33,
    "start_time": "2022-05-18T10:13:24.244Z"
   },
   {
    "duration": 18,
    "start_time": "2022-05-18T10:13:24.279Z"
   },
   {
    "duration": 743,
    "start_time": "2022-05-18T10:13:24.299Z"
   },
   {
    "duration": 7,
    "start_time": "2022-05-18T10:13:25.043Z"
   },
   {
    "duration": 863,
    "start_time": "2022-05-18T10:13:25.052Z"
   },
   {
    "duration": 7,
    "start_time": "2022-05-18T10:13:25.917Z"
   },
   {
    "duration": 746,
    "start_time": "2022-05-18T10:13:25.926Z"
   },
   {
    "duration": 14,
    "start_time": "2022-05-18T10:13:26.676Z"
   },
   {
    "duration": 447,
    "start_time": "2022-05-18T10:13:26.693Z"
   },
   {
    "duration": 593,
    "start_time": "2022-05-18T10:13:27.141Z"
   },
   {
    "duration": 5,
    "start_time": "2022-05-18T10:13:27.736Z"
   },
   {
    "duration": 9,
    "start_time": "2022-05-18T10:13:27.742Z"
   },
   {
    "duration": 10,
    "start_time": "2022-05-18T10:13:27.752Z"
   },
   {
    "duration": 11,
    "start_time": "2022-05-18T10:13:27.764Z"
   },
   {
    "duration": 5,
    "start_time": "2022-05-18T10:13:30.235Z"
   },
   {
    "duration": 2,
    "start_time": "2022-05-18T10:13:40.841Z"
   },
   {
    "duration": 4,
    "start_time": "2022-05-18T10:13:44.599Z"
   },
   {
    "duration": 26,
    "start_time": "2022-05-18T10:13:47.945Z"
   },
   {
    "duration": 164,
    "start_time": "2022-05-18T10:13:51.750Z"
   },
   {
    "duration": 9,
    "start_time": "2022-05-18T10:14:17.344Z"
   },
   {
    "duration": 159,
    "start_time": "2022-05-18T10:14:19.794Z"
   },
   {
    "duration": 14,
    "start_time": "2022-05-18T10:19:44.351Z"
   },
   {
    "duration": 17,
    "start_time": "2022-05-18T10:22:45.636Z"
   },
   {
    "duration": 4,
    "start_time": "2022-05-18T10:23:08.126Z"
   },
   {
    "duration": 667,
    "start_time": "2022-05-18T10:23:08.132Z"
   },
   {
    "duration": 10,
    "start_time": "2022-05-18T10:23:08.801Z"
   },
   {
    "duration": 8,
    "start_time": "2022-05-18T10:23:08.813Z"
   },
   {
    "duration": 4,
    "start_time": "2022-05-18T10:23:08.822Z"
   },
   {
    "duration": 14,
    "start_time": "2022-05-18T10:23:08.828Z"
   },
   {
    "duration": 37,
    "start_time": "2022-05-18T10:23:08.844Z"
   },
   {
    "duration": 7,
    "start_time": "2022-05-18T10:23:08.883Z"
   },
   {
    "duration": 5,
    "start_time": "2022-05-18T10:23:08.892Z"
   },
   {
    "duration": 15,
    "start_time": "2022-05-18T10:23:08.898Z"
   },
   {
    "duration": 707,
    "start_time": "2022-05-18T10:23:08.914Z"
   },
   {
    "duration": 7,
    "start_time": "2022-05-18T10:23:09.623Z"
   },
   {
    "duration": 778,
    "start_time": "2022-05-18T10:23:09.632Z"
   },
   {
    "duration": 7,
    "start_time": "2022-05-18T10:23:10.411Z"
   },
   {
    "duration": 681,
    "start_time": "2022-05-18T10:23:10.419Z"
   },
   {
    "duration": 7,
    "start_time": "2022-05-18T10:23:11.102Z"
   },
   {
    "duration": 440,
    "start_time": "2022-05-18T10:23:11.110Z"
   },
   {
    "duration": 553,
    "start_time": "2022-05-18T10:23:11.551Z"
   },
   {
    "duration": 4,
    "start_time": "2022-05-18T10:23:12.106Z"
   },
   {
    "duration": 9,
    "start_time": "2022-05-18T10:23:12.112Z"
   },
   {
    "duration": 152,
    "start_time": "2022-05-18T10:23:12.123Z"
   },
   {
    "duration": 3,
    "start_time": "2022-05-18T10:23:12.277Z"
   },
   {
    "duration": 11,
    "start_time": "2022-05-18T10:23:12.283Z"
   },
   {
    "duration": 149,
    "start_time": "2022-05-18T10:23:12.297Z"
   },
   {
    "duration": 10,
    "start_time": "2022-05-18T10:23:35.540Z"
   },
   {
    "duration": 3,
    "start_time": "2022-05-18T10:24:29.018Z"
   },
   {
    "duration": 763,
    "start_time": "2022-05-18T10:24:29.024Z"
   },
   {
    "duration": 10,
    "start_time": "2022-05-18T10:24:29.789Z"
   },
   {
    "duration": 10,
    "start_time": "2022-05-18T10:24:29.801Z"
   },
   {
    "duration": 5,
    "start_time": "2022-05-18T10:24:29.813Z"
   },
   {
    "duration": 12,
    "start_time": "2022-05-18T10:24:29.819Z"
   },
   {
    "duration": 51,
    "start_time": "2022-05-18T10:24:29.833Z"
   },
   {
    "duration": 11,
    "start_time": "2022-05-18T10:24:29.886Z"
   },
   {
    "duration": 6,
    "start_time": "2022-05-18T10:24:29.900Z"
   },
   {
    "duration": 30,
    "start_time": "2022-05-18T10:24:29.907Z"
   },
   {
    "duration": 730,
    "start_time": "2022-05-18T10:24:29.939Z"
   },
   {
    "duration": 8,
    "start_time": "2022-05-18T10:24:30.671Z"
   },
   {
    "duration": 769,
    "start_time": "2022-05-18T10:24:30.680Z"
   },
   {
    "duration": 8,
    "start_time": "2022-05-18T10:24:31.451Z"
   },
   {
    "duration": 686,
    "start_time": "2022-05-18T10:24:31.461Z"
   },
   {
    "duration": 8,
    "start_time": "2022-05-18T10:24:32.149Z"
   },
   {
    "duration": 552,
    "start_time": "2022-05-18T10:24:32.158Z"
   },
   {
    "duration": 591,
    "start_time": "2022-05-18T10:24:32.712Z"
   },
   {
    "duration": 4,
    "start_time": "2022-05-18T10:24:33.305Z"
   },
   {
    "duration": 12,
    "start_time": "2022-05-18T10:24:33.311Z"
   },
   {
    "duration": 145,
    "start_time": "2022-05-18T10:24:33.325Z"
   },
   {
    "duration": 3,
    "start_time": "2022-05-18T10:24:33.475Z"
   },
   {
    "duration": 16,
    "start_time": "2022-05-18T10:24:33.480Z"
   },
   {
    "duration": 201,
    "start_time": "2022-05-18T10:24:33.500Z"
   },
   {
    "duration": 16,
    "start_time": "2022-05-18T10:24:33.703Z"
   },
   {
    "duration": 16,
    "start_time": "2022-05-18T10:24:33.721Z"
   },
   {
    "duration": 40,
    "start_time": "2022-05-18T10:24:52.984Z"
   },
   {
    "duration": 8,
    "start_time": "2022-05-18T10:25:53.042Z"
   },
   {
    "duration": 6,
    "start_time": "2022-05-18T10:26:32.239Z"
   },
   {
    "duration": 11,
    "start_time": "2022-05-18T10:27:03.722Z"
   },
   {
    "duration": 4,
    "start_time": "2022-05-18T10:27:07.923Z"
   },
   {
    "duration": 48,
    "start_time": "2022-05-18T10:27:12.845Z"
   },
   {
    "duration": 1491,
    "start_time": "2022-05-18T10:27:16.485Z"
   },
   {
    "duration": 6122,
    "start_time": "2022-05-18T10:27:21.774Z"
   },
   {
    "duration": 843,
    "start_time": "2022-05-18T10:27:30.853Z"
   },
   {
    "duration": 14915,
    "start_time": "2022-05-18T10:27:42.585Z"
   },
   {
    "duration": 15065,
    "start_time": "2022-05-18T10:28:01.169Z"
   },
   {
    "duration": 34,
    "start_time": "2022-05-18T10:28:19.505Z"
   },
   {
    "duration": 1748,
    "start_time": "2022-05-18T10:28:21.834Z"
   },
   {
    "duration": 237397,
    "start_time": "2022-05-18T10:44:35.690Z"
   },
   {
    "duration": 17951,
    "start_time": "2022-05-18T10:55:13.729Z"
   },
   {
    "duration": 17638,
    "start_time": "2022-05-18T10:59:17.142Z"
   },
   {
    "duration": 1921,
    "start_time": "2022-05-18T11:05:50.573Z"
   },
   {
    "duration": 5,
    "start_time": "2022-05-18T11:09:17.457Z"
   },
   {
    "duration": 4,
    "start_time": "2022-05-18T11:14:31.388Z"
   },
   {
    "duration": 4,
    "start_time": "2022-05-18T11:15:24.089Z"
   },
   {
    "duration": 4,
    "start_time": "2022-05-18T11:15:44.770Z"
   },
   {
    "duration": 4,
    "start_time": "2022-05-18T11:29:26.170Z"
   },
   {
    "duration": 31,
    "start_time": "2022-05-18T11:30:01.971Z"
   },
   {
    "duration": 4,
    "start_time": "2022-05-18T11:32:40.264Z"
   },
   {
    "duration": 4,
    "start_time": "2022-05-18T11:32:53.319Z"
   },
   {
    "duration": 9,
    "start_time": "2022-05-18T11:33:03.753Z"
   },
   {
    "duration": 15,
    "start_time": "2022-05-18T11:33:08.699Z"
   },
   {
    "duration": 5,
    "start_time": "2022-05-18T11:33:22.264Z"
   },
   {
    "duration": 19,
    "start_time": "2022-05-18T11:33:53.616Z"
   },
   {
    "duration": 3,
    "start_time": "2022-05-18T11:33:57.346Z"
   },
   {
    "duration": 4,
    "start_time": "2022-05-18T11:34:18.428Z"
   },
   {
    "duration": 764,
    "start_time": "2022-05-18T11:34:18.446Z"
   },
   {
    "duration": 15,
    "start_time": "2022-05-18T11:34:19.212Z"
   },
   {
    "duration": 12,
    "start_time": "2022-05-18T11:34:19.229Z"
   },
   {
    "duration": 5,
    "start_time": "2022-05-18T11:34:19.243Z"
   },
   {
    "duration": 41,
    "start_time": "2022-05-18T11:34:19.251Z"
   },
   {
    "duration": 14,
    "start_time": "2022-05-18T11:34:19.294Z"
   },
   {
    "duration": 7,
    "start_time": "2022-05-18T11:34:19.310Z"
   },
   {
    "duration": 8,
    "start_time": "2022-05-18T11:34:19.319Z"
   },
   {
    "duration": 15,
    "start_time": "2022-05-18T11:34:19.328Z"
   },
   {
    "duration": 823,
    "start_time": "2022-05-18T11:34:19.345Z"
   },
   {
    "duration": 9,
    "start_time": "2022-05-18T11:34:20.170Z"
   },
   {
    "duration": 646,
    "start_time": "2022-05-18T11:34:20.180Z"
   },
   {
    "duration": 7,
    "start_time": "2022-05-18T11:34:20.828Z"
   },
   {
    "duration": 653,
    "start_time": "2022-05-18T11:34:20.837Z"
   },
   {
    "duration": 7,
    "start_time": "2022-05-18T11:34:21.492Z"
   },
   {
    "duration": 565,
    "start_time": "2022-05-18T11:34:21.501Z"
   },
   {
    "duration": 414,
    "start_time": "2022-05-18T11:34:22.068Z"
   },
   {
    "duration": 4,
    "start_time": "2022-05-18T11:34:22.485Z"
   },
   {
    "duration": 11,
    "start_time": "2022-05-18T11:34:22.491Z"
   },
   {
    "duration": 148,
    "start_time": "2022-05-18T11:34:22.503Z"
   },
   {
    "duration": 3,
    "start_time": "2022-05-18T11:34:22.653Z"
   },
   {
    "duration": 21,
    "start_time": "2022-05-18T11:34:22.658Z"
   },
   {
    "duration": 159,
    "start_time": "2022-05-18T11:34:22.680Z"
   },
   {
    "duration": 37,
    "start_time": "2022-05-18T11:34:22.841Z"
   },
   {
    "duration": 22,
    "start_time": "2022-05-18T11:34:22.880Z"
   },
   {
    "duration": 18,
    "start_time": "2022-05-18T11:34:22.904Z"
   },
   {
    "duration": 6,
    "start_time": "2022-05-18T11:34:22.926Z"
   },
   {
    "duration": 15,
    "start_time": "2022-05-18T11:34:22.934Z"
   },
   {
    "duration": 19,
    "start_time": "2022-05-18T11:34:22.951Z"
   },
   {
    "duration": 47,
    "start_time": "2022-05-18T11:34:22.975Z"
   },
   {
    "duration": 1962,
    "start_time": "2022-05-18T11:34:23.024Z"
   },
   {
    "duration": 6098,
    "start_time": "2022-05-18T11:34:24.988Z"
   },
   {
    "duration": 848,
    "start_time": "2022-05-18T11:34:31.087Z"
   },
   {
    "duration": 14892,
    "start_time": "2022-05-18T11:34:31.937Z"
   },
   {
    "duration": 14714,
    "start_time": "2022-05-18T11:34:46.830Z"
   },
   {
    "duration": 40,
    "start_time": "2022-05-18T11:35:01.546Z"
   },
   {
    "duration": 1991,
    "start_time": "2022-05-18T11:35:01.588Z"
   },
   {
    "duration": 17699,
    "start_time": "2022-05-18T11:35:03.581Z"
   },
   {
    "duration": 1697,
    "start_time": "2022-05-18T11:35:21.282Z"
   },
   {
    "duration": 5,
    "start_time": "2022-05-18T11:35:44.607Z"
   },
   {
    "duration": 4,
    "start_time": "2022-05-18T11:35:49.505Z"
   },
   {
    "duration": 16,
    "start_time": "2022-05-18T11:35:53.497Z"
   },
   {
    "duration": 4,
    "start_time": "2022-05-18T11:35:55.168Z"
   },
   {
    "duration": 27,
    "start_time": "2022-05-18T11:36:16.971Z"
   },
   {
    "duration": 5,
    "start_time": "2022-05-18T11:37:18.612Z"
   }
  ],
  "kernelspec": {
   "display_name": "Python 3 (ipykernel)",
   "language": "python",
   "name": "python3"
  },
  "language_info": {
   "codemirror_mode": {
    "name": "ipython",
    "version": 3
   },
   "file_extension": ".py",
   "mimetype": "text/x-python",
   "name": "python",
   "nbconvert_exporter": "python",
   "pygments_lexer": "ipython3",
   "version": "3.9.7"
  },
  "toc": {
   "base_numbering": 1,
   "nav_menu": {},
   "number_sections": true,
   "sideBar": true,
   "skip_h1_title": true,
   "title_cell": "Содержание",
   "title_sidebar": "Contents",
   "toc_cell": true,
   "toc_position": {},
   "toc_section_display": true,
   "toc_window_display": true
  }
 },
 "nbformat": 4,
 "nbformat_minor": 2
}

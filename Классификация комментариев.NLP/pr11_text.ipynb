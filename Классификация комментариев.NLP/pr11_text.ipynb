{
 "cells": [
  {
   "cell_type": "markdown",
   "metadata": {
    "toc": true
   },
   "source": [
    "<h1>Содержание<span class=\"tocSkip\"></span></h1>\n",
    "<div class=\"toc\"><ul class=\"toc-item\"><li><span><a href=\"#Подготовка\" data-toc-modified-id=\"Подготовка-1\"><span class=\"toc-item-num\">1&nbsp;&nbsp;</span>Подготовка</a></span><ul class=\"toc-item\"><li><span><a href=\"#Очистка-текста-от-знаков-препинания\" data-toc-modified-id=\"Очистка-текста-от-знаков-препинания-1.1\"><span class=\"toc-item-num\">1.1&nbsp;&nbsp;</span>Очистка текста от знаков препинания</a></span></li><li><span><a href=\"#Токенизация-и-лемматизация\" data-toc-modified-id=\"Токенизация-и-лемматизация-1.2\"><span class=\"toc-item-num\">1.2&nbsp;&nbsp;</span>Токенизация и лемматизация</a></span></li></ul></li><li><span><a href=\"#Обучение\" data-toc-modified-id=\"Обучение-2\"><span class=\"toc-item-num\">2&nbsp;&nbsp;</span>Обучение</a></span><ul class=\"toc-item\"><li><span><a href=\"#DecisionTreeClassifier\" data-toc-modified-id=\"DecisionTreeClassifier-2.1\"><span class=\"toc-item-num\">2.1&nbsp;&nbsp;</span>DecisionTreeClassifier</a></span></li><li><span><a href=\"#LogisticRegression\" data-toc-modified-id=\"LogisticRegression-2.2\"><span class=\"toc-item-num\">2.2&nbsp;&nbsp;</span>LogisticRegression</a></span></li><li><span><a href=\"#CatBoostClassifier\" data-toc-modified-id=\"CatBoostClassifier-2.3\"><span class=\"toc-item-num\">2.3&nbsp;&nbsp;</span>CatBoostClassifier</a></span></li></ul></li><li><span><a href=\"#Выводы\" data-toc-modified-id=\"Выводы-3\"><span class=\"toc-item-num\">3&nbsp;&nbsp;</span>Выводы</a></span></li><li><span><a href=\"#Чек-лист-проверки\" data-toc-modified-id=\"Чек-лист-проверки-4\"><span class=\"toc-item-num\">4&nbsp;&nbsp;</span>Чек-лист проверки</a></span></li></ul></div>"
   ]
  },
  {
   "cell_type": "markdown",
   "metadata": {},
   "source": [
    "# Проект для портала"
   ]
  },
  {
   "cell_type": "markdown",
   "metadata": {},
   "source": [
    "## Подготовка"
   ]
  },
  {
   "cell_type": "code",
   "execution_count": 1,
   "metadata": {},
   "outputs": [
    {
     "name": "stderr",
     "output_type": "stream",
     "text": [
      "[nltk_data] Downloading package wordnet to /home/jovyan/nltk_data...\n",
      "[nltk_data]   Package wordnet is already up-to-date!\n"
     ]
    }
   ],
   "source": [
    "import pandas as pd\n",
    "import re\n",
    "import nltk\n",
    "from nltk.corpus import wordnet \n",
    "nltk.download('wordnet')\n",
    "from nltk.corpus import stopwords as nltk_stopwords\n",
    "from sklearn.feature_extraction.text import CountVectorizer\n",
    "from sklearn.feature_extraction.text import TfidfVectorizer \n",
    "from sklearn.model_selection import train_test_split\n",
    "from sklearn.linear_model import LogisticRegression\n",
    "from catboost import CatBoostClassifier, Pool\n",
    "from sklearn.metrics import f1_score\n",
    "from nltk import word_tokenize\n",
    "from nltk.stem import WordNetLemmatizer\n",
    "from sklearn.tree import DecisionTreeClassifier"
   ]
  },
  {
   "cell_type": "code",
   "execution_count": 2,
   "metadata": {},
   "outputs": [
    {
     "data": {
      "text/html": [
       "<div>\n",
       "<style scoped>\n",
       "    .dataframe tbody tr th:only-of-type {\n",
       "        vertical-align: middle;\n",
       "    }\n",
       "\n",
       "    .dataframe tbody tr th {\n",
       "        vertical-align: top;\n",
       "    }\n",
       "\n",
       "    .dataframe thead th {\n",
       "        text-align: right;\n",
       "    }\n",
       "</style>\n",
       "<table border=\"1\" class=\"dataframe\">\n",
       "  <thead>\n",
       "    <tr style=\"text-align: right;\">\n",
       "      <th></th>\n",
       "      <th>text</th>\n",
       "      <th>toxic</th>\n",
       "    </tr>\n",
       "  </thead>\n",
       "  <tbody>\n",
       "    <tr>\n",
       "      <th>0</th>\n",
       "      <td>Explanation\\nWhy the edits made under my usern...</td>\n",
       "      <td>0</td>\n",
       "    </tr>\n",
       "    <tr>\n",
       "      <th>1</th>\n",
       "      <td>D'aww! He matches this background colour I'm s...</td>\n",
       "      <td>0</td>\n",
       "    </tr>\n",
       "    <tr>\n",
       "      <th>2</th>\n",
       "      <td>Hey man, I'm really not trying to edit war. It...</td>\n",
       "      <td>0</td>\n",
       "    </tr>\n",
       "    <tr>\n",
       "      <th>3</th>\n",
       "      <td>\"\\nMore\\nI can't make any real suggestions on ...</td>\n",
       "      <td>0</td>\n",
       "    </tr>\n",
       "    <tr>\n",
       "      <th>4</th>\n",
       "      <td>You, sir, are my hero. Any chance you remember...</td>\n",
       "      <td>0</td>\n",
       "    </tr>\n",
       "    <tr>\n",
       "      <th>...</th>\n",
       "      <td>...</td>\n",
       "      <td>...</td>\n",
       "    </tr>\n",
       "    <tr>\n",
       "      <th>159566</th>\n",
       "      <td>\":::::And for the second time of asking, when ...</td>\n",
       "      <td>0</td>\n",
       "    </tr>\n",
       "    <tr>\n",
       "      <th>159567</th>\n",
       "      <td>You should be ashamed of yourself \\n\\nThat is ...</td>\n",
       "      <td>0</td>\n",
       "    </tr>\n",
       "    <tr>\n",
       "      <th>159568</th>\n",
       "      <td>Spitzer \\n\\nUmm, theres no actual article for ...</td>\n",
       "      <td>0</td>\n",
       "    </tr>\n",
       "    <tr>\n",
       "      <th>159569</th>\n",
       "      <td>And it looks like it was actually you who put ...</td>\n",
       "      <td>0</td>\n",
       "    </tr>\n",
       "    <tr>\n",
       "      <th>159570</th>\n",
       "      <td>\"\\nAnd ... I really don't think you understand...</td>\n",
       "      <td>0</td>\n",
       "    </tr>\n",
       "  </tbody>\n",
       "</table>\n",
       "<p>159571 rows × 2 columns</p>\n",
       "</div>"
      ],
      "text/plain": [
       "                                                     text  toxic\n",
       "0       Explanation\\nWhy the edits made under my usern...      0\n",
       "1       D'aww! He matches this background colour I'm s...      0\n",
       "2       Hey man, I'm really not trying to edit war. It...      0\n",
       "3       \"\\nMore\\nI can't make any real suggestions on ...      0\n",
       "4       You, sir, are my hero. Any chance you remember...      0\n",
       "...                                                   ...    ...\n",
       "159566  \":::::And for the second time of asking, when ...      0\n",
       "159567  You should be ashamed of yourself \\n\\nThat is ...      0\n",
       "159568  Spitzer \\n\\nUmm, theres no actual article for ...      0\n",
       "159569  And it looks like it was actually you who put ...      0\n",
       "159570  \"\\nAnd ... I really don't think you understand...      0\n",
       "\n",
       "[159571 rows x 2 columns]"
      ]
     },
     "execution_count": 2,
     "metadata": {},
     "output_type": "execute_result"
    }
   ],
   "source": [
    "df = pd.read_csv(...)\n",
    "df"
   ]
  },
  {
   "cell_type": "markdown",
   "metadata": {},
   "source": [
    "Видим большой обьем текстовых данных. Если работать со всем датасетом, то мой ПК не вывозит обучение и предсказание модели,недостаточно RAM. А в тренажере яндекса постоянно падает ядро, поэтому я вынуждена выделить из датасета часть данных и показать работу на них."
   ]
  },
  {
   "cell_type": "markdown",
   "metadata": {},
   "source": [
    "Рассмотрим сколько всего негативных комментариев. "
   ]
  },
  {
   "cell_type": "code",
   "execution_count": 3,
   "metadata": {},
   "outputs": [
    {
     "data": {
      "text/plain": [
       "text     16225\n",
       "toxic    16225\n",
       "dtype: int64"
      ]
     },
     "execution_count": 3,
     "metadata": {},
     "output_type": "execute_result"
    }
   ],
   "source": [
    "df[df['toxic'] == 1].count()"
   ]
  },
  {
   "cell_type": "markdown",
   "metadata": {},
   "source": [
    "Возьмем все строки из негативного класса 1, в количестве 16225. А так же возьмем 15% от похитивного класса 0 - их количество 21500.\n",
    "\n",
    "Далее,склеим их в датасет и произведем предобработку данных."
   ]
  },
  {
   "cell_type": "code",
   "execution_count": 4,
   "metadata": {},
   "outputs": [
    {
     "data": {
      "text/html": [
       "<div>\n",
       "<style scoped>\n",
       "    .dataframe tbody tr th:only-of-type {\n",
       "        vertical-align: middle;\n",
       "    }\n",
       "\n",
       "    .dataframe tbody tr th {\n",
       "        vertical-align: top;\n",
       "    }\n",
       "\n",
       "    .dataframe thead th {\n",
       "        text-align: right;\n",
       "    }\n",
       "</style>\n",
       "<table border=\"1\" class=\"dataframe\">\n",
       "  <thead>\n",
       "    <tr style=\"text-align: right;\">\n",
       "      <th></th>\n",
       "      <th>text</th>\n",
       "      <th>toxic</th>\n",
       "    </tr>\n",
       "  </thead>\n",
       "  <tbody>\n",
       "    <tr>\n",
       "      <th>6</th>\n",
       "      <td>COCKSUCKER BEFORE YOU PISS AROUND ON MY WORK</td>\n",
       "      <td>1</td>\n",
       "    </tr>\n",
       "    <tr>\n",
       "      <th>12</th>\n",
       "      <td>Hey... what is it..\\n@ | talk .\\nWhat is it......</td>\n",
       "      <td>1</td>\n",
       "    </tr>\n",
       "    <tr>\n",
       "      <th>16</th>\n",
       "      <td>Bye! \\n\\nDon't look, come or think of comming ...</td>\n",
       "      <td>1</td>\n",
       "    </tr>\n",
       "    <tr>\n",
       "      <th>42</th>\n",
       "      <td>You are gay or antisemmitian? \\n\\nArchangel WH...</td>\n",
       "      <td>1</td>\n",
       "    </tr>\n",
       "    <tr>\n",
       "      <th>43</th>\n",
       "      <td>FUCK YOUR FILTHY MOTHER IN THE ASS, DRY!</td>\n",
       "      <td>1</td>\n",
       "    </tr>\n",
       "    <tr>\n",
       "      <th>...</th>\n",
       "      <td>...</td>\n",
       "      <td>...</td>\n",
       "    </tr>\n",
       "    <tr>\n",
       "      <th>159494</th>\n",
       "      <td>\"\\n\\n our previous conversation \\n\\nyou fuckin...</td>\n",
       "      <td>1</td>\n",
       "    </tr>\n",
       "    <tr>\n",
       "      <th>159514</th>\n",
       "      <td>YOU ARE A MISCHIEVIOUS PUBIC HAIR</td>\n",
       "      <td>1</td>\n",
       "    </tr>\n",
       "    <tr>\n",
       "      <th>159541</th>\n",
       "      <td>Your absurd edits \\n\\nYour absurd edits on gre...</td>\n",
       "      <td>1</td>\n",
       "    </tr>\n",
       "    <tr>\n",
       "      <th>159546</th>\n",
       "      <td>\"\\n\\nHey listen don't you ever!!!! Delete my e...</td>\n",
       "      <td>1</td>\n",
       "    </tr>\n",
       "    <tr>\n",
       "      <th>159554</th>\n",
       "      <td>and i'm going to keep posting the stuff u dele...</td>\n",
       "      <td>1</td>\n",
       "    </tr>\n",
       "  </tbody>\n",
       "</table>\n",
       "<p>16225 rows × 2 columns</p>\n",
       "</div>"
      ],
      "text/plain": [
       "                                                     text  toxic\n",
       "6            COCKSUCKER BEFORE YOU PISS AROUND ON MY WORK      1\n",
       "12      Hey... what is it..\\n@ | talk .\\nWhat is it......      1\n",
       "16      Bye! \\n\\nDon't look, come or think of comming ...      1\n",
       "42      You are gay or antisemmitian? \\n\\nArchangel WH...      1\n",
       "43               FUCK YOUR FILTHY MOTHER IN THE ASS, DRY!      1\n",
       "...                                                   ...    ...\n",
       "159494  \"\\n\\n our previous conversation \\n\\nyou fuckin...      1\n",
       "159514                  YOU ARE A MISCHIEVIOUS PUBIC HAIR      1\n",
       "159541  Your absurd edits \\n\\nYour absurd edits on gre...      1\n",
       "159546  \"\\n\\nHey listen don't you ever!!!! Delete my e...      1\n",
       "159554  and i'm going to keep posting the stuff u dele...      1\n",
       "\n",
       "[16225 rows x 2 columns]"
      ]
     },
     "execution_count": 4,
     "metadata": {},
     "output_type": "execute_result"
    }
   ],
   "source": [
    "df_neg = df[df['toxic'] == 1]\n",
    "df_neg"
   ]
  },
  {
   "cell_type": "code",
   "execution_count": 5,
   "metadata": {},
   "outputs": [
    {
     "data": {
      "text/html": [
       "<div>\n",
       "<style scoped>\n",
       "    .dataframe tbody tr th:only-of-type {\n",
       "        vertical-align: middle;\n",
       "    }\n",
       "\n",
       "    .dataframe tbody tr th {\n",
       "        vertical-align: top;\n",
       "    }\n",
       "\n",
       "    .dataframe thead th {\n",
       "        text-align: right;\n",
       "    }\n",
       "</style>\n",
       "<table border=\"1\" class=\"dataframe\">\n",
       "  <thead>\n",
       "    <tr style=\"text-align: right;\">\n",
       "      <th></th>\n",
       "      <th>text</th>\n",
       "      <th>toxic</th>\n",
       "    </tr>\n",
       "  </thead>\n",
       "  <tbody>\n",
       "    <tr>\n",
       "      <th>0</th>\n",
       "      <td>Explanation\\nWhy the edits made under my usern...</td>\n",
       "      <td>0</td>\n",
       "    </tr>\n",
       "    <tr>\n",
       "      <th>1</th>\n",
       "      <td>D'aww! He matches this background colour I'm s...</td>\n",
       "      <td>0</td>\n",
       "    </tr>\n",
       "    <tr>\n",
       "      <th>2</th>\n",
       "      <td>Hey man, I'm really not trying to edit war. It...</td>\n",
       "      <td>0</td>\n",
       "    </tr>\n",
       "    <tr>\n",
       "      <th>3</th>\n",
       "      <td>\"\\nMore\\nI can't make any real suggestions on ...</td>\n",
       "      <td>0</td>\n",
       "    </tr>\n",
       "    <tr>\n",
       "      <th>4</th>\n",
       "      <td>You, sir, are my hero. Any chance you remember...</td>\n",
       "      <td>0</td>\n",
       "    </tr>\n",
       "    <tr>\n",
       "      <th>...</th>\n",
       "      <td>...</td>\n",
       "      <td>...</td>\n",
       "    </tr>\n",
       "    <tr>\n",
       "      <th>23971</th>\n",
       "      <td>\"\\n\\n This is wrong \\n\\n\"\"Change in playoff fo...</td>\n",
       "      <td>0</td>\n",
       "    </tr>\n",
       "    <tr>\n",
       "      <th>23972</th>\n",
       "      <td>The article Fisher, Jonothan has been speedily...</td>\n",
       "      <td>0</td>\n",
       "    </tr>\n",
       "    <tr>\n",
       "      <th>23973</th>\n",
       "      <td>\"\\nYour bizarre fascination with me is disturb...</td>\n",
       "      <td>0</td>\n",
       "    </tr>\n",
       "    <tr>\n",
       "      <th>23974</th>\n",
       "      <td>Minnie Minoso's first game with White Sox (hom...</td>\n",
       "      <td>0</td>\n",
       "    </tr>\n",
       "    <tr>\n",
       "      <th>23975</th>\n",
       "      <td>Time for archiving? \\n\\nHi again. I just notic...</td>\n",
       "      <td>0</td>\n",
       "    </tr>\n",
       "  </tbody>\n",
       "</table>\n",
       "<p>21500 rows × 2 columns</p>\n",
       "</div>"
      ],
      "text/plain": [
       "                                                    text  toxic\n",
       "0      Explanation\\nWhy the edits made under my usern...      0\n",
       "1      D'aww! He matches this background colour I'm s...      0\n",
       "2      Hey man, I'm really not trying to edit war. It...      0\n",
       "3      \"\\nMore\\nI can't make any real suggestions on ...      0\n",
       "4      You, sir, are my hero. Any chance you remember...      0\n",
       "...                                                  ...    ...\n",
       "23971  \"\\n\\n This is wrong \\n\\n\"\"Change in playoff fo...      0\n",
       "23972  The article Fisher, Jonothan has been speedily...      0\n",
       "23973  \"\\nYour bizarre fascination with me is disturb...      0\n",
       "23974  Minnie Minoso's first game with White Sox (hom...      0\n",
       "23975  Time for archiving? \\n\\nHi again. I just notic...      0\n",
       "\n",
       "[21500 rows x 2 columns]"
      ]
     },
     "execution_count": 5,
     "metadata": {},
     "output_type": "execute_result"
    }
   ],
   "source": [
    "df_pos = df[df['toxic'] == 0][:21500]\n",
    "df_pos"
   ]
  },
  {
   "cell_type": "code",
   "execution_count": 6,
   "metadata": {},
   "outputs": [
    {
     "data": {
      "text/html": [
       "<div>\n",
       "<style scoped>\n",
       "    .dataframe tbody tr th:only-of-type {\n",
       "        vertical-align: middle;\n",
       "    }\n",
       "\n",
       "    .dataframe tbody tr th {\n",
       "        vertical-align: top;\n",
       "    }\n",
       "\n",
       "    .dataframe thead th {\n",
       "        text-align: right;\n",
       "    }\n",
       "</style>\n",
       "<table border=\"1\" class=\"dataframe\">\n",
       "  <thead>\n",
       "    <tr style=\"text-align: right;\">\n",
       "      <th></th>\n",
       "      <th>text</th>\n",
       "      <th>toxic</th>\n",
       "    </tr>\n",
       "  </thead>\n",
       "  <tbody>\n",
       "    <tr>\n",
       "      <th>0</th>\n",
       "      <td>COCKSUCKER BEFORE YOU PISS AROUND ON MY WORK</td>\n",
       "      <td>1</td>\n",
       "    </tr>\n",
       "    <tr>\n",
       "      <th>1</th>\n",
       "      <td>Hey... what is it..\\n@ | talk .\\nWhat is it......</td>\n",
       "      <td>1</td>\n",
       "    </tr>\n",
       "    <tr>\n",
       "      <th>2</th>\n",
       "      <td>Bye! \\n\\nDon't look, come or think of comming ...</td>\n",
       "      <td>1</td>\n",
       "    </tr>\n",
       "    <tr>\n",
       "      <th>3</th>\n",
       "      <td>You are gay or antisemmitian? \\n\\nArchangel WH...</td>\n",
       "      <td>1</td>\n",
       "    </tr>\n",
       "    <tr>\n",
       "      <th>4</th>\n",
       "      <td>FUCK YOUR FILTHY MOTHER IN THE ASS, DRY!</td>\n",
       "      <td>1</td>\n",
       "    </tr>\n",
       "    <tr>\n",
       "      <th>...</th>\n",
       "      <td>...</td>\n",
       "      <td>...</td>\n",
       "    </tr>\n",
       "    <tr>\n",
       "      <th>37720</th>\n",
       "      <td>\"\\n\\n This is wrong \\n\\n\"\"Change in playoff fo...</td>\n",
       "      <td>0</td>\n",
       "    </tr>\n",
       "    <tr>\n",
       "      <th>37721</th>\n",
       "      <td>The article Fisher, Jonothan has been speedily...</td>\n",
       "      <td>0</td>\n",
       "    </tr>\n",
       "    <tr>\n",
       "      <th>37722</th>\n",
       "      <td>\"\\nYour bizarre fascination with me is disturb...</td>\n",
       "      <td>0</td>\n",
       "    </tr>\n",
       "    <tr>\n",
       "      <th>37723</th>\n",
       "      <td>Minnie Minoso's first game with White Sox (hom...</td>\n",
       "      <td>0</td>\n",
       "    </tr>\n",
       "    <tr>\n",
       "      <th>37724</th>\n",
       "      <td>Time for archiving? \\n\\nHi again. I just notic...</td>\n",
       "      <td>0</td>\n",
       "    </tr>\n",
       "  </tbody>\n",
       "</table>\n",
       "<p>37725 rows × 2 columns</p>\n",
       "</div>"
      ],
      "text/plain": [
       "                                                    text  toxic\n",
       "0           COCKSUCKER BEFORE YOU PISS AROUND ON MY WORK      1\n",
       "1      Hey... what is it..\\n@ | talk .\\nWhat is it......      1\n",
       "2      Bye! \\n\\nDon't look, come or think of comming ...      1\n",
       "3      You are gay or antisemmitian? \\n\\nArchangel WH...      1\n",
       "4               FUCK YOUR FILTHY MOTHER IN THE ASS, DRY!      1\n",
       "...                                                  ...    ...\n",
       "37720  \"\\n\\n This is wrong \\n\\n\"\"Change in playoff fo...      0\n",
       "37721  The article Fisher, Jonothan has been speedily...      0\n",
       "37722  \"\\nYour bizarre fascination with me is disturb...      0\n",
       "37723  Minnie Minoso's first game with White Sox (hom...      0\n",
       "37724  Time for archiving? \\n\\nHi again. I just notic...      0\n",
       "\n",
       "[37725 rows x 2 columns]"
      ]
     },
     "execution_count": 6,
     "metadata": {},
     "output_type": "execute_result"
    }
   ],
   "source": [
    "df_slice = pd.concat([df_neg, df_pos], ignore_index=True)\n",
    "df_slice"
   ]
  },
  {
   "cell_type": "code",
   "execution_count": 7,
   "metadata": {
    "scrolled": true
   },
   "outputs": [
    {
     "data": {
      "text/plain": [
       "0    0.569914\n",
       "1    0.430086\n",
       "Name: toxic, dtype: float64"
      ]
     },
     "execution_count": 7,
     "metadata": {},
     "output_type": "execute_result"
    }
   ],
   "source": [
    "df_slice['toxic'].value_counts(normalize=True) "
   ]
  },
  {
   "cell_type": "markdown",
   "metadata": {},
   "source": [
    "### Очистка текста от знаков препинания"
   ]
  },
  {
   "cell_type": "markdown",
   "metadata": {},
   "source": [
    "С помощью библиотеки re проведем отчистку текста от знаков препинания."
   ]
  },
  {
   "cell_type": "code",
   "execution_count": 8,
   "metadata": {},
   "outputs": [],
   "source": [
    "reg_expr=[]\n",
    "\n",
    "for text in df_slice['text']:\n",
    "    regular_expression = re.sub(r'[^a-zA-Z]',' ',text)\n",
    "    reg_expr.append(' '.join(regular_expression.split()))\n",
    "    \n",
    "df_slice['reg_expr'] = reg_expr"
   ]
  },
  {
   "cell_type": "code",
   "execution_count": 9,
   "metadata": {
    "scrolled": false
   },
   "outputs": [
    {
     "data": {
      "text/html": [
       "<div>\n",
       "<style scoped>\n",
       "    .dataframe tbody tr th:only-of-type {\n",
       "        vertical-align: middle;\n",
       "    }\n",
       "\n",
       "    .dataframe tbody tr th {\n",
       "        vertical-align: top;\n",
       "    }\n",
       "\n",
       "    .dataframe thead th {\n",
       "        text-align: right;\n",
       "    }\n",
       "</style>\n",
       "<table border=\"1\" class=\"dataframe\">\n",
       "  <thead>\n",
       "    <tr style=\"text-align: right;\">\n",
       "      <th></th>\n",
       "      <th>text</th>\n",
       "      <th>toxic</th>\n",
       "      <th>reg_expr</th>\n",
       "    </tr>\n",
       "  </thead>\n",
       "  <tbody>\n",
       "    <tr>\n",
       "      <th>0</th>\n",
       "      <td>COCKSUCKER BEFORE YOU PISS AROUND ON MY WORK</td>\n",
       "      <td>1</td>\n",
       "      <td>COCKSUCKER BEFORE YOU PISS AROUND ON MY WORK</td>\n",
       "    </tr>\n",
       "    <tr>\n",
       "      <th>1</th>\n",
       "      <td>Hey... what is it..\\n@ | talk .\\nWhat is it......</td>\n",
       "      <td>1</td>\n",
       "      <td>Hey what is it talk What is it an exclusive gr...</td>\n",
       "    </tr>\n",
       "    <tr>\n",
       "      <th>2</th>\n",
       "      <td>Bye! \\n\\nDon't look, come or think of comming ...</td>\n",
       "      <td>1</td>\n",
       "      <td>Bye Don t look come or think of comming back T...</td>\n",
       "    </tr>\n",
       "    <tr>\n",
       "      <th>3</th>\n",
       "      <td>You are gay or antisemmitian? \\n\\nArchangel WH...</td>\n",
       "      <td>1</td>\n",
       "      <td>You are gay or antisemmitian Archangel WHite T...</td>\n",
       "    </tr>\n",
       "    <tr>\n",
       "      <th>4</th>\n",
       "      <td>FUCK YOUR FILTHY MOTHER IN THE ASS, DRY!</td>\n",
       "      <td>1</td>\n",
       "      <td>FUCK YOUR FILTHY MOTHER IN THE ASS DRY</td>\n",
       "    </tr>\n",
       "    <tr>\n",
       "      <th>...</th>\n",
       "      <td>...</td>\n",
       "      <td>...</td>\n",
       "      <td>...</td>\n",
       "    </tr>\n",
       "    <tr>\n",
       "      <th>37720</th>\n",
       "      <td>\"\\n\\n This is wrong \\n\\n\"\"Change in playoff fo...</td>\n",
       "      <td>0</td>\n",
       "      <td>This is wrong Change in playoff format The pla...</td>\n",
       "    </tr>\n",
       "    <tr>\n",
       "      <th>37721</th>\n",
       "      <td>The article Fisher, Jonothan has been speedily...</td>\n",
       "      <td>0</td>\n",
       "      <td>The article Fisher Jonothan has been speedily ...</td>\n",
       "    </tr>\n",
       "    <tr>\n",
       "      <th>37722</th>\n",
       "      <td>\"\\nYour bizarre fascination with me is disturb...</td>\n",
       "      <td>0</td>\n",
       "      <td>Your bizarre fascination with me is disturbing...</td>\n",
       "    </tr>\n",
       "    <tr>\n",
       "      <th>37723</th>\n",
       "      <td>Minnie Minoso's first game with White Sox (hom...</td>\n",
       "      <td>0</td>\n",
       "      <td>Minnie Minoso s first game with White Sox home...</td>\n",
       "    </tr>\n",
       "    <tr>\n",
       "      <th>37724</th>\n",
       "      <td>Time for archiving? \\n\\nHi again. I just notic...</td>\n",
       "      <td>0</td>\n",
       "      <td>Time for archiving Hi again I just noticed how...</td>\n",
       "    </tr>\n",
       "  </tbody>\n",
       "</table>\n",
       "<p>37725 rows × 3 columns</p>\n",
       "</div>"
      ],
      "text/plain": [
       "                                                    text  toxic  \\\n",
       "0           COCKSUCKER BEFORE YOU PISS AROUND ON MY WORK      1   \n",
       "1      Hey... what is it..\\n@ | talk .\\nWhat is it......      1   \n",
       "2      Bye! \\n\\nDon't look, come or think of comming ...      1   \n",
       "3      You are gay or antisemmitian? \\n\\nArchangel WH...      1   \n",
       "4               FUCK YOUR FILTHY MOTHER IN THE ASS, DRY!      1   \n",
       "...                                                  ...    ...   \n",
       "37720  \"\\n\\n This is wrong \\n\\n\"\"Change in playoff fo...      0   \n",
       "37721  The article Fisher, Jonothan has been speedily...      0   \n",
       "37722  \"\\nYour bizarre fascination with me is disturb...      0   \n",
       "37723  Minnie Minoso's first game with White Sox (hom...      0   \n",
       "37724  Time for archiving? \\n\\nHi again. I just notic...      0   \n",
       "\n",
       "                                                reg_expr  \n",
       "0           COCKSUCKER BEFORE YOU PISS AROUND ON MY WORK  \n",
       "1      Hey what is it talk What is it an exclusive gr...  \n",
       "2      Bye Don t look come or think of comming back T...  \n",
       "3      You are gay or antisemmitian Archangel WHite T...  \n",
       "4                 FUCK YOUR FILTHY MOTHER IN THE ASS DRY  \n",
       "...                                                  ...  \n",
       "37720  This is wrong Change in playoff format The pla...  \n",
       "37721  The article Fisher Jonothan has been speedily ...  \n",
       "37722  Your bizarre fascination with me is disturbing...  \n",
       "37723  Minnie Minoso s first game with White Sox home...  \n",
       "37724  Time for archiving Hi again I just noticed how...  \n",
       "\n",
       "[37725 rows x 3 columns]"
      ]
     },
     "execution_count": 9,
     "metadata": {},
     "output_type": "execute_result"
    }
   ],
   "source": [
    "df_slice#добавили в датасет новый столбец"
   ]
  },
  {
   "cell_type": "markdown",
   "metadata": {},
   "source": [
    "### Токенизация и лемматизация"
   ]
  },
  {
   "cell_type": "markdown",
   "metadata": {},
   "source": [
    "С помощью библиотеки nltk произведем токенизацию и лемматизацию слов."
   ]
  },
  {
   "cell_type": "code",
   "execution_count": 10,
   "metadata": {},
   "outputs": [],
   "source": [
    "lemmatizer = WordNetLemmatizer()\n",
    "\n",
    "def lemmatization(data):\n",
    "    lemm_texts_list = []\n",
    "    for text in data:\n",
    "        word_list = nltk.word_tokenize(text)\n",
    "        text_lem = ' '.join([lemmatizer.lemmatize(w) for w in word_list])\n",
    "        lemm_texts_list.append(text_lem)\n",
    "    return lemm_texts_list"
   ]
  },
  {
   "cell_type": "code",
   "execution_count": 11,
   "metadata": {
    "scrolled": true
   },
   "outputs": [],
   "source": [
    "df_slice['lem_text'] = pd.Series(lemmatization(df_slice['reg_expr']))"
   ]
  },
  {
   "cell_type": "code",
   "execution_count": 12,
   "metadata": {},
   "outputs": [
    {
     "data": {
      "text/html": [
       "<div>\n",
       "<style scoped>\n",
       "    .dataframe tbody tr th:only-of-type {\n",
       "        vertical-align: middle;\n",
       "    }\n",
       "\n",
       "    .dataframe tbody tr th {\n",
       "        vertical-align: top;\n",
       "    }\n",
       "\n",
       "    .dataframe thead th {\n",
       "        text-align: right;\n",
       "    }\n",
       "</style>\n",
       "<table border=\"1\" class=\"dataframe\">\n",
       "  <thead>\n",
       "    <tr style=\"text-align: right;\">\n",
       "      <th></th>\n",
       "      <th>text</th>\n",
       "      <th>toxic</th>\n",
       "      <th>reg_expr</th>\n",
       "      <th>lem_text</th>\n",
       "    </tr>\n",
       "  </thead>\n",
       "  <tbody>\n",
       "    <tr>\n",
       "      <th>0</th>\n",
       "      <td>COCKSUCKER BEFORE YOU PISS AROUND ON MY WORK</td>\n",
       "      <td>1</td>\n",
       "      <td>COCKSUCKER BEFORE YOU PISS AROUND ON MY WORK</td>\n",
       "      <td>COCKSUCKER BEFORE YOU PISS AROUND ON MY WORK</td>\n",
       "    </tr>\n",
       "    <tr>\n",
       "      <th>1</th>\n",
       "      <td>Hey... what is it..\\n@ | talk .\\nWhat is it......</td>\n",
       "      <td>1</td>\n",
       "      <td>Hey what is it talk What is it an exclusive gr...</td>\n",
       "      <td>Hey what is it talk What is it an exclusive gr...</td>\n",
       "    </tr>\n",
       "    <tr>\n",
       "      <th>2</th>\n",
       "      <td>Bye! \\n\\nDon't look, come or think of comming ...</td>\n",
       "      <td>1</td>\n",
       "      <td>Bye Don t look come or think of comming back T...</td>\n",
       "      <td>Bye Don t look come or think of comming back T...</td>\n",
       "    </tr>\n",
       "    <tr>\n",
       "      <th>3</th>\n",
       "      <td>You are gay or antisemmitian? \\n\\nArchangel WH...</td>\n",
       "      <td>1</td>\n",
       "      <td>You are gay or antisemmitian Archangel WHite T...</td>\n",
       "      <td>You are gay or antisemmitian Archangel WHite T...</td>\n",
       "    </tr>\n",
       "    <tr>\n",
       "      <th>4</th>\n",
       "      <td>FUCK YOUR FILTHY MOTHER IN THE ASS, DRY!</td>\n",
       "      <td>1</td>\n",
       "      <td>FUCK YOUR FILTHY MOTHER IN THE ASS DRY</td>\n",
       "      <td>FUCK YOUR FILTHY MOTHER IN THE ASS DRY</td>\n",
       "    </tr>\n",
       "    <tr>\n",
       "      <th>...</th>\n",
       "      <td>...</td>\n",
       "      <td>...</td>\n",
       "      <td>...</td>\n",
       "      <td>...</td>\n",
       "    </tr>\n",
       "    <tr>\n",
       "      <th>37720</th>\n",
       "      <td>\"\\n\\n This is wrong \\n\\n\"\"Change in playoff fo...</td>\n",
       "      <td>0</td>\n",
       "      <td>This is wrong Change in playoff format The pla...</td>\n",
       "      <td>This is wrong Change in playoff format The pla...</td>\n",
       "    </tr>\n",
       "    <tr>\n",
       "      <th>37721</th>\n",
       "      <td>The article Fisher, Jonothan has been speedily...</td>\n",
       "      <td>0</td>\n",
       "      <td>The article Fisher Jonothan has been speedily ...</td>\n",
       "      <td>The article Fisher Jonothan ha been speedily d...</td>\n",
       "    </tr>\n",
       "    <tr>\n",
       "      <th>37722</th>\n",
       "      <td>\"\\nYour bizarre fascination with me is disturb...</td>\n",
       "      <td>0</td>\n",
       "      <td>Your bizarre fascination with me is disturbing...</td>\n",
       "      <td>Your bizarre fascination with me is disturbing...</td>\n",
       "    </tr>\n",
       "    <tr>\n",
       "      <th>37723</th>\n",
       "      <td>Minnie Minoso's first game with White Sox (hom...</td>\n",
       "      <td>0</td>\n",
       "      <td>Minnie Minoso s first game with White Sox home...</td>\n",
       "      <td>Minnie Minoso s first game with White Sox home...</td>\n",
       "    </tr>\n",
       "    <tr>\n",
       "      <th>37724</th>\n",
       "      <td>Time for archiving? \\n\\nHi again. I just notic...</td>\n",
       "      <td>0</td>\n",
       "      <td>Time for archiving Hi again I just noticed how...</td>\n",
       "      <td>Time for archiving Hi again I just noticed how...</td>\n",
       "    </tr>\n",
       "  </tbody>\n",
       "</table>\n",
       "<p>37725 rows × 4 columns</p>\n",
       "</div>"
      ],
      "text/plain": [
       "                                                    text  toxic  \\\n",
       "0           COCKSUCKER BEFORE YOU PISS AROUND ON MY WORK      1   \n",
       "1      Hey... what is it..\\n@ | talk .\\nWhat is it......      1   \n",
       "2      Bye! \\n\\nDon't look, come or think of comming ...      1   \n",
       "3      You are gay or antisemmitian? \\n\\nArchangel WH...      1   \n",
       "4               FUCK YOUR FILTHY MOTHER IN THE ASS, DRY!      1   \n",
       "...                                                  ...    ...   \n",
       "37720  \"\\n\\n This is wrong \\n\\n\"\"Change in playoff fo...      0   \n",
       "37721  The article Fisher, Jonothan has been speedily...      0   \n",
       "37722  \"\\nYour bizarre fascination with me is disturb...      0   \n",
       "37723  Minnie Minoso's first game with White Sox (hom...      0   \n",
       "37724  Time for archiving? \\n\\nHi again. I just notic...      0   \n",
       "\n",
       "                                                reg_expr  \\\n",
       "0           COCKSUCKER BEFORE YOU PISS AROUND ON MY WORK   \n",
       "1      Hey what is it talk What is it an exclusive gr...   \n",
       "2      Bye Don t look come or think of comming back T...   \n",
       "3      You are gay or antisemmitian Archangel WHite T...   \n",
       "4                 FUCK YOUR FILTHY MOTHER IN THE ASS DRY   \n",
       "...                                                  ...   \n",
       "37720  This is wrong Change in playoff format The pla...   \n",
       "37721  The article Fisher Jonothan has been speedily ...   \n",
       "37722  Your bizarre fascination with me is disturbing...   \n",
       "37723  Minnie Minoso s first game with White Sox home...   \n",
       "37724  Time for archiving Hi again I just noticed how...   \n",
       "\n",
       "                                                lem_text  \n",
       "0           COCKSUCKER BEFORE YOU PISS AROUND ON MY WORK  \n",
       "1      Hey what is it talk What is it an exclusive gr...  \n",
       "2      Bye Don t look come or think of comming back T...  \n",
       "3      You are gay or antisemmitian Archangel WHite T...  \n",
       "4                 FUCK YOUR FILTHY MOTHER IN THE ASS DRY  \n",
       "...                                                  ...  \n",
       "37720  This is wrong Change in playoff format The pla...  \n",
       "37721  The article Fisher Jonothan ha been speedily d...  \n",
       "37722  Your bizarre fascination with me is disturbing...  \n",
       "37723  Minnie Minoso s first game with White Sox home...  \n",
       "37724  Time for archiving Hi again I just noticed how...  \n",
       "\n",
       "[37725 rows x 4 columns]"
      ]
     },
     "execution_count": 12,
     "metadata": {},
     "output_type": "execute_result"
    }
   ],
   "source": [
    "df_slice"
   ]
  },
  {
   "cell_type": "markdown",
   "metadata": {},
   "source": [
    "Произведем разделение датасета на тренировочный и тестовый сет."
   ]
  },
  {
   "cell_type": "code",
   "execution_count": 13,
   "metadata": {},
   "outputs": [],
   "source": [
    "X = df_slice['lem_text']\n",
    "y = df_slice['toxic']\n",
    "X_train, X_test, y_train, y_test = train_test_split(X, y, random_state=42, test_size=0.3)"
   ]
  },
  {
   "cell_type": "markdown",
   "metadata": {},
   "source": [
    "Скачаем словарь стоп-слов в англ.языке."
   ]
  },
  {
   "cell_type": "code",
   "execution_count": 14,
   "metadata": {},
   "outputs": [
    {
     "name": "stderr",
     "output_type": "stream",
     "text": [
      "[nltk_data] Downloading package stopwords to /home/jovyan/nltk_data...\n",
      "[nltk_data]   Unzipping corpora/stopwords.zip.\n"
     ]
    }
   ],
   "source": [
    "nltk.download('stopwords')\n",
    "stopwords = set(nltk_stopwords.words('english'))\n",
    "count = TfidfVectorizer(stop_words=stopwords)"
   ]
  },
  {
   "cell_type": "markdown",
   "metadata": {},
   "source": [
    "Формируем наши матрицы признаков, с уже очищенными текстами. "
   ]
  },
  {
   "cell_type": "code",
   "execution_count": 15,
   "metadata": {},
   "outputs": [],
   "source": [
    "tf_idf = count.fit_transform(X_train)\n",
    "tf_idf_test = count.transform(X_test)"
   ]
  },
  {
   "cell_type": "markdown",
   "metadata": {},
   "source": [
    "## Обучение"
   ]
  },
  {
   "cell_type": "markdown",
   "metadata": {},
   "source": [
    "### DecisionTreeClassifier"
   ]
  },
  {
   "cell_type": "code",
   "execution_count": 27,
   "metadata": {},
   "outputs": [
    {
     "data": {
      "text/plain": [
       "0.7513340448239062"
      ]
     },
     "execution_count": 27,
     "metadata": {},
     "output_type": "execute_result"
    }
   ],
   "source": [
    "model = DecisionTreeClassifier(random_state=42,max_depth=39, min_samples_leaf=5)\n",
    "model.fit(tf_idf,y_train)\n",
    "predict = model.predict(tf_idf_test)\n",
    "score = f1_score(y_test,predict)\n",
    "score"
   ]
  },
  {
   "cell_type": "markdown",
   "metadata": {},
   "source": [
    "### LogisticRegression"
   ]
  },
  {
   "cell_type": "code",
   "execution_count": 16,
   "metadata": {
    "scrolled": true
   },
   "outputs": [
    {
     "data": {
      "text/plain": [
       "0.8675034867503486"
      ]
     },
     "execution_count": 16,
     "metadata": {},
     "output_type": "execute_result"
    }
   ],
   "source": [
    "model = LogisticRegression(random_state=42)\n",
    "model.fit(tf_idf,y_train)\n",
    "predict = model.predict(tf_idf_test)\n",
    "score = f1_score(y_test,predict)\n",
    "score"
   ]
  },
  {
   "cell_type": "markdown",
   "metadata": {},
   "source": [
    "### CatBoostClassifier"
   ]
  },
  {
   "cell_type": "code",
   "execution_count": 20,
   "metadata": {},
   "outputs": [
    {
     "name": "stderr",
     "output_type": "stream",
     "text": [
      "Custom logger is already specified. Specify more than one logger at same time is not thread safe."
     ]
    },
    {
     "name": "stdout",
     "output_type": "stream",
     "text": [
      "Learning rate set to 0.041688\n",
      "0:\tlearn: 0.6773910\ttotal: 950ms\tremaining: 15m 49s\n",
      "100:\tlearn: 0.8231170\ttotal: 1m 9s\tremaining: 10m 21s\n",
      "200:\tlearn: 0.8535910\ttotal: 2m 15s\tremaining: 9m\n",
      "300:\tlearn: 0.8697478\ttotal: 3m 20s\tremaining: 7m 46s\n",
      "400:\tlearn: 0.8835590\ttotal: 4m 26s\tremaining: 6m 37s\n",
      "500:\tlearn: 0.8939617\ttotal: 5m 32s\tremaining: 5m 30s\n",
      "600:\tlearn: 0.9012714\ttotal: 6m 40s\tremaining: 4m 25s\n",
      "700:\tlearn: 0.9065968\ttotal: 7m 48s\tremaining: 3m 19s\n",
      "800:\tlearn: 0.9130428\ttotal: 8m 56s\tremaining: 2m 13s\n",
      "900:\tlearn: 0.9173928\ttotal: 10m 1s\tremaining: 1m 6s\n",
      "999:\tlearn: 0.9221125\ttotal: 11m 6s\tremaining: 0us\n"
     ]
    },
    {
     "data": {
      "text/plain": [
       "0.8674433941525611"
      ]
     },
     "execution_count": 20,
     "metadata": {},
     "output_type": "execute_result"
    }
   ],
   "source": [
    "model = CatBoostClassifier(task_type='CPU', iterations = 1000, eval_metric='TotalF1',verbose=100)\n",
    "model.fit(tf_idf,y_train)\n",
    "predict = model.predict(tf_idf_test)\n",
    "score = f1_score(y_test,predict)\n",
    "score"
   ]
  },
  {
   "cell_type": "markdown",
   "metadata": {},
   "source": [
    "## Выводы"
   ]
  },
  {
   "cell_type": "markdown",
   "metadata": {},
   "source": [
    "Обратила внимание, что при использовании балансировки классов в моделях,результат метрики немного становится лучше. В нашем случае, в датасете был сильный дисбаланс классов - порядка 20/80,но я искусственно привела его к 50/50.\n",
    "\n",
    "Большее время и ресурсы затрачиваются именно на лемматизацию текстов и обработку матриц признаков моделями.\n",
    "Логистическая регрессия оказалась самой быстрой в исполнении, однако если подавать ей полный датасет, то она вроде и выдаст значение метрики, но с ошибкой STOP: TOTAL NO. of ITERATIONS REACHED LIMIT.\n",
    "\n",
    "Выводы по моделям особо какие то не могу сделать.. модели отличаются подбором параметров, количеством затраченного времени на обработку матрицы признаков, подходом.. Думаю, выбор модели будет зависить от бизнес-задачи и от того, какая цель в итоге проекта будет стоять.  "
   ]
  },
  {
   "cell_type": "code",
   "execution_count": null,
   "metadata": {},
   "outputs": [],
   "source": []
  }
 ],
 "metadata": {
  "ExecuteTimeLog": [
   {
    "duration": 367,
    "start_time": "2022-06-29T11:33:08.001Z"
   },
   {
    "duration": 2121,
    "start_time": "2022-06-29T11:33:51.811Z"
   },
   {
    "duration": 1780,
    "start_time": "2022-06-30T09:47:44.924Z"
   },
   {
    "duration": 64,
    "start_time": "2022-06-30T09:50:32.751Z"
   },
   {
    "duration": 149,
    "start_time": "2022-06-30T10:27:21.289Z"
   },
   {
    "duration": 3,
    "start_time": "2022-06-30T10:27:24.833Z"
   },
   {
    "duration": 4566,
    "start_time": "2022-06-30T10:27:26.493Z"
   },
   {
    "duration": 2047,
    "start_time": "2022-06-30T10:27:31.065Z"
   },
   {
    "duration": 431,
    "start_time": "2022-06-30T10:29:47.501Z"
   },
   {
    "duration": 9,
    "start_time": "2022-06-30T10:30:04.062Z"
   },
   {
    "duration": 7,
    "start_time": "2022-06-30T10:31:43.762Z"
   },
   {
    "duration": 2626,
    "start_time": "2022-06-30T10:32:21.118Z"
   },
   {
    "duration": 4647,
    "start_time": "2022-06-30T10:32:23.812Z"
   },
   {
    "duration": 2126,
    "start_time": "2022-06-30T10:32:31.990Z"
   },
   {
    "duration": 4,
    "start_time": "2022-06-30T10:32:37.621Z"
   },
   {
    "duration": 212,
    "start_time": "2022-06-30T10:33:04.383Z"
   },
   {
    "duration": 16,
    "start_time": "2022-06-30T10:33:28.024Z"
   },
   {
    "duration": 3,
    "start_time": "2022-06-30T10:34:30.193Z"
   },
   {
    "duration": 1673,
    "start_time": "2022-06-30T10:34:32.143Z"
   },
   {
    "duration": 2475,
    "start_time": "2022-07-04T06:31:53.236Z"
   },
   {
    "duration": 80990,
    "start_time": "2022-07-04T07:07:52.327Z"
   },
   {
    "duration": 2213,
    "start_time": "2022-07-04T07:14:56.639Z"
   },
   {
    "duration": 586,
    "start_time": "2022-07-04T07:17:07.058Z"
   },
   {
    "duration": 3194,
    "start_time": "2022-07-04T07:17:07.647Z"
   },
   {
    "duration": 316,
    "start_time": "2022-07-04T07:17:16.273Z"
   },
   {
    "duration": 1858,
    "start_time": "2022-07-04T07:17:18.800Z"
   },
   {
    "duration": 5,
    "start_time": "2022-07-04T07:17:21.592Z"
   },
   {
    "duration": 6,
    "start_time": "2022-07-04T07:19:48.847Z"
   },
   {
    "duration": 35,
    "start_time": "2022-07-04T07:22:10.702Z"
   },
   {
    "duration": 31,
    "start_time": "2022-07-04T07:22:36.928Z"
   },
   {
    "duration": 4,
    "start_time": "2022-07-04T07:25:41.520Z"
   },
   {
    "duration": 17,
    "start_time": "2022-07-04T07:25:48.585Z"
   },
   {
    "duration": 27,
    "start_time": "2022-07-04T07:26:40.621Z"
   },
   {
    "duration": 202047,
    "start_time": "2022-07-04T07:36:11.429Z"
   },
   {
    "duration": 5,
    "start_time": "2022-07-04T07:40:36.756Z"
   },
   {
    "duration": 3,
    "start_time": "2022-07-04T07:41:39.366Z"
   },
   {
    "duration": 191609,
    "start_time": "2022-07-04T07:46:59.293Z"
   },
   {
    "duration": 52,
    "start_time": "2022-07-04T07:50:48.118Z"
   },
   {
    "duration": 761,
    "start_time": "2022-07-04T07:51:24.502Z"
   },
   {
    "duration": 1785,
    "start_time": "2022-07-04T07:51:49.736Z"
   },
   {
    "duration": 3256,
    "start_time": "2022-07-04T07:51:53.839Z"
   },
   {
    "duration": 1880,
    "start_time": "2022-07-04T07:51:57.096Z"
   },
   {
    "duration": 196544,
    "start_time": "2022-07-04T07:52:23.920Z"
   },
   {
    "duration": 758,
    "start_time": "2022-07-04T07:56:50.154Z"
   },
   {
    "duration": 1685,
    "start_time": "2022-07-04T07:57:07.283Z"
   },
   {
    "duration": 3241,
    "start_time": "2022-07-04T07:57:11.116Z"
   },
   {
    "duration": 49,
    "start_time": "2022-07-04T07:57:32.922Z"
   },
   {
    "duration": 6,
    "start_time": "2022-07-04T07:57:36.395Z"
   },
   {
    "duration": 1728,
    "start_time": "2022-07-04T07:57:45.415Z"
   },
   {
    "duration": 851,
    "start_time": "2022-07-04T07:57:47.146Z"
   },
   {
    "duration": 1862,
    "start_time": "2022-07-04T07:57:47.999Z"
   },
   {
    "duration": 200442,
    "start_time": "2022-07-04T07:57:55.031Z"
   },
   {
    "duration": 3278,
    "start_time": "2022-07-04T08:02:49.999Z"
   },
   {
    "duration": 839,
    "start_time": "2022-07-04T08:03:09.942Z"
   },
   {
    "duration": 206823,
    "start_time": "2022-07-04T08:03:18.950Z"
   },
   {
    "duration": 3,
    "start_time": "2022-07-04T08:07:15.215Z"
   },
   {
    "duration": 99,
    "start_time": "2022-07-04T08:08:09.008Z"
   },
   {
    "duration": 4209,
    "start_time": "2022-07-04T08:11:02.573Z"
   },
   {
    "duration": 14,
    "start_time": "2022-07-04T08:11:12.498Z"
   },
   {
    "duration": 19,
    "start_time": "2022-07-04T08:14:23.476Z"
   },
   {
    "duration": 1332,
    "start_time": "2022-07-04T08:15:00.784Z"
   },
   {
    "duration": 182291,
    "start_time": "2022-07-04T08:17:10.412Z"
   },
   {
    "duration": 1800,
    "start_time": "2022-07-04T08:22:26.032Z"
   },
   {
    "duration": 3382,
    "start_time": "2022-07-04T08:22:27.834Z"
   },
   {
    "duration": 1896,
    "start_time": "2022-07-04T08:22:31.218Z"
   },
   {
    "duration": 181584,
    "start_time": "2022-07-04T08:22:39.819Z"
   },
   {
    "duration": 2405,
    "start_time": "2022-07-04T08:47:54.523Z"
   },
   {
    "duration": 748,
    "start_time": "2022-07-04T08:48:18.079Z"
   },
   {
    "duration": 81337,
    "start_time": "2022-07-04T08:49:34.617Z"
   },
   {
    "duration": 3283,
    "start_time": "2022-07-04T08:51:48.442Z"
   },
   {
    "duration": 1922,
    "start_time": "2022-07-04T08:51:59.411Z"
   },
   {
    "duration": 722,
    "start_time": "2022-07-04T08:52:42.883Z"
   },
   {
    "duration": 500,
    "start_time": "2022-07-04T08:57:19.039Z"
   },
   {
    "duration": 835,
    "start_time": "2022-07-04T09:05:07.756Z"
   },
   {
    "duration": 26,
    "start_time": "2022-07-04T09:06:17.149Z"
   },
   {
    "duration": 53,
    "start_time": "2022-07-04T09:21:31.937Z"
   },
   {
    "duration": 112961,
    "start_time": "2022-07-04T09:21:48.516Z"
   },
   {
    "duration": 3124,
    "start_time": "2022-07-04T09:23:41.480Z"
   },
   {
    "duration": 1895,
    "start_time": "2022-07-04T09:23:44.606Z"
   },
   {
    "duration": 2210,
    "start_time": "2022-07-04T10:28:31.576Z"
   },
   {
    "duration": 3334,
    "start_time": "2022-07-04T10:28:33.788Z"
   },
   {
    "duration": 1993,
    "start_time": "2022-07-04T10:28:37.124Z"
   },
   {
    "duration": 4,
    "start_time": "2022-07-04T10:29:09.010Z"
   },
   {
    "duration": 4,
    "start_time": "2022-07-04T10:29:21.568Z"
   },
   {
    "duration": 118,
    "start_time": "2022-07-04T10:29:55.817Z"
   },
   {
    "duration": 4,
    "start_time": "2022-07-04T10:30:12.669Z"
   },
   {
    "duration": 1282,
    "start_time": "2022-07-04T10:30:18.106Z"
   },
   {
    "duration": 22,
    "start_time": "2022-07-04T10:39:20.506Z"
   },
   {
    "duration": 7,
    "start_time": "2022-07-04T10:40:07.065Z"
   },
   {
    "duration": 7,
    "start_time": "2022-07-04T10:40:16.586Z"
   },
   {
    "duration": 7,
    "start_time": "2022-07-04T10:43:21.066Z"
   },
   {
    "duration": 6,
    "start_time": "2022-07-04T10:43:44.767Z"
   },
   {
    "duration": 4,
    "start_time": "2022-07-04T10:45:55.365Z"
   },
   {
    "duration": 10421,
    "start_time": "2022-07-04T10:47:30.146Z"
   },
   {
    "duration": 14,
    "start_time": "2022-07-04T10:47:51.659Z"
   },
   {
    "duration": 11,
    "start_time": "2022-07-04T10:48:19.934Z"
   },
   {
    "duration": 17,
    "start_time": "2022-07-04T10:48:35.257Z"
   },
   {
    "duration": 15,
    "start_time": "2022-07-04T10:48:52.357Z"
   },
   {
    "duration": 5,
    "start_time": "2022-07-04T10:49:19.600Z"
   },
   {
    "duration": 799,
    "start_time": "2022-07-04T10:49:19.607Z"
   },
   {
    "duration": 6,
    "start_time": "2022-07-04T10:50:49.915Z"
   },
   {
    "duration": 5,
    "start_time": "2022-07-04T10:51:34.291Z"
   },
   {
    "duration": 2212,
    "start_time": "2022-07-04T10:52:07.835Z"
   },
   {
    "duration": 3305,
    "start_time": "2022-07-04T10:52:10.050Z"
   },
   {
    "duration": 1994,
    "start_time": "2022-07-04T10:52:13.357Z"
   },
   {
    "duration": 10,
    "start_time": "2022-07-04T10:52:15.353Z"
   },
   {
    "duration": 1322,
    "start_time": "2022-07-04T10:52:17.921Z"
   },
   {
    "duration": 4,
    "start_time": "2022-07-04T10:52:37.374Z"
   },
   {
    "duration": 20352,
    "start_time": "2022-07-04T10:52:39.675Z"
   },
   {
    "duration": 3169690,
    "start_time": "2022-07-04T10:53:21.367Z"
   },
   {
    "duration": 6,
    "start_time": "2022-07-04T11:48:53.017Z"
   },
   {
    "duration": 494,
    "start_time": "2022-07-04T11:49:06.707Z"
   },
   {
    "duration": 27,
    "start_time": "2022-07-04T11:49:33.111Z"
   },
   {
    "duration": 1613,
    "start_time": "2022-07-05T05:54:51.181Z"
   },
   {
    "duration": 3421,
    "start_time": "2022-07-05T05:54:52.796Z"
   },
   {
    "duration": 1960,
    "start_time": "2022-07-05T05:54:56.219Z"
   },
   {
    "duration": 4,
    "start_time": "2022-07-05T05:55:00.098Z"
   },
   {
    "duration": 1475,
    "start_time": "2022-07-05T05:55:02.633Z"
   },
   {
    "duration": 4,
    "start_time": "2022-07-05T05:56:10.800Z"
   },
   {
    "duration": 8,
    "start_time": "2022-07-05T05:56:12.736Z"
   },
   {
    "duration": 6,
    "start_time": "2022-07-05T05:56:55.466Z"
   },
   {
    "duration": 8,
    "start_time": "2022-07-05T05:57:09.507Z"
   },
   {
    "duration": 11,
    "start_time": "2022-07-05T06:06:33.184Z"
   },
   {
    "duration": 649,
    "start_time": "2022-07-05T06:07:13.806Z"
   },
   {
    "duration": 14,
    "start_time": "2022-07-05T06:07:34.077Z"
   },
   {
    "duration": 2,
    "start_time": "2022-07-05T06:07:56.179Z"
   },
   {
    "duration": 16,
    "start_time": "2022-07-05T06:08:28.943Z"
   },
   {
    "duration": 12,
    "start_time": "2022-07-05T06:08:50.101Z"
   },
   {
    "duration": 381,
    "start_time": "2022-07-05T06:10:22.469Z"
   },
   {
    "duration": 4,
    "start_time": "2022-07-05T06:10:40.024Z"
   },
   {
    "duration": 4,
    "start_time": "2022-07-05T06:36:46.250Z"
   },
   {
    "duration": 4,
    "start_time": "2022-07-05T06:38:56.821Z"
   },
   {
    "duration": 1540,
    "start_time": "2022-07-05T06:40:37.659Z"
   },
   {
    "duration": 1384,
    "start_time": "2022-07-05T06:41:18.603Z"
   },
   {
    "duration": 1294,
    "start_time": "2022-07-05T06:45:17.578Z"
   },
   {
    "duration": 6,
    "start_time": "2022-07-05T06:46:55.805Z"
   },
   {
    "duration": 7,
    "start_time": "2022-07-05T06:47:04.777Z"
   },
   {
    "duration": 5,
    "start_time": "2022-07-05T06:47:10.890Z"
   },
   {
    "duration": 6,
    "start_time": "2022-07-05T06:47:28.428Z"
   },
   {
    "duration": 7,
    "start_time": "2022-07-05T06:47:43.275Z"
   },
   {
    "duration": 1238,
    "start_time": "2022-07-05T06:49:33.088Z"
   },
   {
    "duration": 1444,
    "start_time": "2022-07-05T06:49:50.750Z"
   },
   {
    "duration": 7,
    "start_time": "2022-07-05T06:50:09.464Z"
   },
   {
    "duration": 953,
    "start_time": "2022-07-05T06:50:20.101Z"
   },
   {
    "duration": 1286,
    "start_time": "2022-07-05T06:51:41.334Z"
   },
   {
    "duration": 1251,
    "start_time": "2022-07-05T06:51:54.166Z"
   },
   {
    "duration": 4,
    "start_time": "2022-07-05T06:53:36.903Z"
   },
   {
    "duration": 9,
    "start_time": "2022-07-05T06:57:18.934Z"
   },
   {
    "duration": 3315,
    "start_time": "2022-07-05T06:57:22.218Z"
   },
   {
    "duration": 257,
    "start_time": "2022-07-05T07:00:54.264Z"
   },
   {
    "duration": 42,
    "start_time": "2022-07-05T07:02:24.122Z"
   },
   {
    "duration": 23,
    "start_time": "2022-07-05T07:03:11.166Z"
   },
   {
    "duration": 28,
    "start_time": "2022-07-05T07:03:27.652Z"
   },
   {
    "duration": 32,
    "start_time": "2022-07-05T07:04:08.130Z"
   },
   {
    "duration": 4,
    "start_time": "2022-07-05T07:06:40.825Z"
   },
   {
    "duration": 4,
    "start_time": "2022-07-05T07:06:59.807Z"
   },
   {
    "duration": 6,
    "start_time": "2022-07-05T07:09:31.702Z"
   },
   {
    "duration": 815,
    "start_time": "2022-07-05T07:09:31.712Z"
   },
   {
    "duration": 14,
    "start_time": "2022-07-05T07:09:32.530Z"
   },
   {
    "duration": 13,
    "start_time": "2022-07-05T07:09:32.547Z"
   },
   {
    "duration": 339,
    "start_time": "2022-07-05T07:09:32.563Z"
   },
   {
    "duration": 12,
    "start_time": "2022-07-05T07:09:45.321Z"
   },
   {
    "duration": 4,
    "start_time": "2022-07-05T07:10:04.276Z"
   },
   {
    "duration": 23,
    "start_time": "2022-07-05T07:11:02.932Z"
   },
   {
    "duration": 13,
    "start_time": "2022-07-05T07:11:09.027Z"
   },
   {
    "duration": 9,
    "start_time": "2022-07-05T07:12:14.287Z"
   },
   {
    "duration": 4,
    "start_time": "2022-07-05T07:12:26.214Z"
   },
   {
    "duration": 779,
    "start_time": "2022-07-05T07:12:26.220Z"
   },
   {
    "duration": 10,
    "start_time": "2022-07-05T07:12:27.001Z"
   },
   {
    "duration": 10,
    "start_time": "2022-07-05T07:12:27.014Z"
   },
   {
    "duration": 3358,
    "start_time": "2022-07-05T07:12:27.026Z"
   },
   {
    "duration": 14,
    "start_time": "2022-07-05T07:12:30.386Z"
   },
   {
    "duration": 137,
    "start_time": "2022-07-05T07:12:30.402Z"
   },
   {
    "duration": 13,
    "start_time": "2022-07-05T07:12:30.543Z"
   },
   {
    "duration": 325,
    "start_time": "2022-07-05T07:12:47.918Z"
   },
   {
    "duration": 5,
    "start_time": "2022-07-05T07:12:50.954Z"
   },
   {
    "duration": 3997,
    "start_time": "2022-07-05T07:12:55.746Z"
   },
   {
    "duration": 5465,
    "start_time": "2022-07-05T07:13:13.012Z"
   },
   {
    "duration": 5479,
    "start_time": "2022-07-05T07:13:45.266Z"
   },
   {
    "duration": 16,
    "start_time": "2022-07-05T07:14:31.772Z"
   },
   {
    "duration": 3,
    "start_time": "2022-07-05T07:14:42.915Z"
   },
   {
    "duration": 745,
    "start_time": "2022-07-05T07:14:42.921Z"
   },
   {
    "duration": 12,
    "start_time": "2022-07-05T07:14:43.667Z"
   },
   {
    "duration": 5,
    "start_time": "2022-07-05T07:14:43.681Z"
   },
   {
    "duration": 133646,
    "start_time": "2022-07-05T07:14:43.688Z"
   },
   {
    "duration": 16,
    "start_time": "2022-07-05T07:16:57.335Z"
   },
   {
    "duration": 4435,
    "start_time": "2022-07-05T07:16:57.353Z"
   },
   {
    "duration": 15,
    "start_time": "2022-07-05T07:17:01.790Z"
   },
   {
    "duration": 11353,
    "start_time": "2022-07-05T07:17:01.807Z"
   },
   {
    "duration": 5,
    "start_time": "2022-07-05T07:17:13.163Z"
   },
   {
    "duration": 42903,
    "start_time": "2022-07-05T07:19:07.551Z"
   },
   {
    "duration": 437,
    "start_time": "2022-07-05T08:23:16.437Z"
   },
   {
    "duration": 1692,
    "start_time": "2022-07-05T08:23:27.330Z"
   },
   {
    "duration": 0,
    "start_time": "2022-07-05T08:23:29.026Z"
   },
   {
    "duration": 0,
    "start_time": "2022-07-05T08:23:29.027Z"
   },
   {
    "duration": 0,
    "start_time": "2022-07-05T08:23:29.028Z"
   },
   {
    "duration": 0,
    "start_time": "2022-07-05T08:23:29.034Z"
   },
   {
    "duration": 0,
    "start_time": "2022-07-05T08:23:29.035Z"
   },
   {
    "duration": 0,
    "start_time": "2022-07-05T08:23:29.036Z"
   },
   {
    "duration": 0,
    "start_time": "2022-07-05T08:23:29.037Z"
   },
   {
    "duration": 0,
    "start_time": "2022-07-05T08:23:29.037Z"
   },
   {
    "duration": 0,
    "start_time": "2022-07-05T08:23:29.038Z"
   },
   {
    "duration": 0,
    "start_time": "2022-07-05T08:23:29.039Z"
   },
   {
    "duration": 397,
    "start_time": "2022-07-05T08:24:10.666Z"
   },
   {
    "duration": 4460,
    "start_time": "2022-07-05T08:24:11.065Z"
   },
   {
    "duration": 20,
    "start_time": "2022-07-05T08:24:15.531Z"
   },
   {
    "duration": 4,
    "start_time": "2022-07-05T08:24:15.553Z"
   },
   {
    "duration": 164326,
    "start_time": "2022-07-05T08:24:15.559Z"
   },
   {
    "duration": 31,
    "start_time": "2022-07-05T08:26:59.887Z"
   },
   {
    "duration": 5622,
    "start_time": "2022-07-05T08:26:59.919Z"
   },
   {
    "duration": 14,
    "start_time": "2022-07-05T08:27:05.542Z"
   },
   {
    "duration": 16364,
    "start_time": "2022-07-05T08:27:05.558Z"
   },
   {
    "duration": 9,
    "start_time": "2022-07-05T08:27:21.928Z"
   },
   {
    "duration": 57679,
    "start_time": "2022-07-05T08:27:21.939Z"
   },
   {
    "duration": 79,
    "start_time": "2022-07-05T09:07:18.962Z"
   },
   {
    "duration": 1737,
    "start_time": "2022-07-05T09:07:26.898Z"
   },
   {
    "duration": 3999,
    "start_time": "2022-07-05T09:07:28.637Z"
   },
   {
    "duration": 13,
    "start_time": "2022-07-05T09:07:32.638Z"
   },
   {
    "duration": 8,
    "start_time": "2022-07-05T09:07:32.653Z"
   },
   {
    "duration": 159652,
    "start_time": "2022-07-05T09:07:32.662Z"
   },
   {
    "duration": 13,
    "start_time": "2022-07-05T09:10:12.317Z"
   },
   {
    "duration": 5344,
    "start_time": "2022-07-05T09:10:12.332Z"
   },
   {
    "duration": 13,
    "start_time": "2022-07-05T09:10:17.678Z"
   },
   {
    "duration": 12897,
    "start_time": "2022-07-05T09:10:17.700Z"
   },
   {
    "duration": 12,
    "start_time": "2022-07-05T09:10:30.611Z"
   },
   {
    "duration": 50408,
    "start_time": "2022-07-05T09:10:30.627Z"
   },
   {
    "duration": 59,
    "start_time": "2022-07-05T09:18:34.437Z"
   },
   {
    "duration": 1887,
    "start_time": "2022-07-05T09:18:37.935Z"
   },
   {
    "duration": 2924,
    "start_time": "2022-07-05T09:18:39.826Z"
   },
   {
    "duration": 243,
    "start_time": "2022-07-05T10:50:30.191Z"
   },
   {
    "duration": 123,
    "start_time": "2022-07-05T10:51:19.269Z"
   },
   {
    "duration": 5,
    "start_time": "2022-07-05T10:51:33.470Z"
   },
   {
    "duration": 2979,
    "start_time": "2022-07-05T10:51:33.477Z"
   },
   {
    "duration": 15,
    "start_time": "2022-07-05T10:51:36.458Z"
   },
   {
    "duration": 4,
    "start_time": "2022-07-05T10:51:36.476Z"
   },
   {
    "duration": 159261,
    "start_time": "2022-07-05T10:51:36.481Z"
   },
   {
    "duration": 13,
    "start_time": "2022-07-05T10:54:15.744Z"
   },
   {
    "duration": 5349,
    "start_time": "2022-07-05T10:54:15.759Z"
   },
   {
    "duration": 22,
    "start_time": "2022-07-05T10:54:21.119Z"
   },
   {
    "duration": 14240,
    "start_time": "2022-07-05T10:54:21.143Z"
   },
   {
    "duration": 4,
    "start_time": "2022-07-05T10:54:35.385Z"
   },
   {
    "duration": 46217,
    "start_time": "2022-07-05T10:54:35.391Z"
   },
   {
    "duration": 56,
    "start_time": "2022-07-05T11:11:12.029Z"
   },
   {
    "duration": 2892,
    "start_time": "2022-07-05T11:11:16.045Z"
   },
   {
    "duration": 3091,
    "start_time": "2022-07-05T11:11:18.939Z"
   },
   {
    "duration": 108,
    "start_time": "2022-07-05T11:11:22.032Z"
   },
   {
    "duration": 0,
    "start_time": "2022-07-05T11:11:22.142Z"
   },
   {
    "duration": 0,
    "start_time": "2022-07-05T11:11:22.143Z"
   },
   {
    "duration": 0,
    "start_time": "2022-07-05T11:11:22.144Z"
   },
   {
    "duration": 0,
    "start_time": "2022-07-05T11:11:22.145Z"
   },
   {
    "duration": 0,
    "start_time": "2022-07-05T11:11:22.146Z"
   },
   {
    "duration": 0,
    "start_time": "2022-07-05T11:11:22.147Z"
   },
   {
    "duration": 855,
    "start_time": "2022-07-05T11:11:44.878Z"
   },
   {
    "duration": 8,
    "start_time": "2022-07-05T11:12:18.520Z"
   },
   {
    "duration": 6,
    "start_time": "2022-07-05T11:13:12.576Z"
   },
   {
    "duration": 8,
    "start_time": "2022-07-05T11:13:17.188Z"
   },
   {
    "duration": 5,
    "start_time": "2022-07-05T11:17:29.076Z"
   },
   {
    "duration": 152976,
    "start_time": "2022-07-05T11:17:32.630Z"
   },
   {
    "duration": 12,
    "start_time": "2022-07-05T11:20:47.636Z"
   },
   {
    "duration": 5195,
    "start_time": "2022-07-05T11:20:53.668Z"
   },
   {
    "duration": 14,
    "start_time": "2022-07-05T11:21:01.646Z"
   },
   {
    "duration": 12794,
    "start_time": "2022-07-05T11:21:08.945Z"
   },
   {
    "duration": 4,
    "start_time": "2022-07-05T11:21:36.622Z"
   },
   {
    "duration": 33890,
    "start_time": "2022-07-05T11:22:31.222Z"
   },
   {
    "duration": 126749,
    "start_time": "2022-07-05T11:24:06.335Z"
   },
   {
    "duration": 1409,
    "start_time": "2022-07-05T11:31:55.758Z"
   },
   {
    "duration": 1586,
    "start_time": "2022-07-05T11:33:17.254Z"
   },
   {
    "duration": 36,
    "start_time": "2022-07-05T11:36:34.176Z"
   },
   {
    "duration": 11,
    "start_time": "2022-07-05T11:36:40.350Z"
   },
   {
    "duration": 1726,
    "start_time": "2022-07-05T11:37:01.123Z"
   },
   {
    "duration": 5,
    "start_time": "2022-07-05T11:37:19.115Z"
   },
   {
    "duration": 1312,
    "start_time": "2022-07-05T11:37:28.410Z"
   },
   {
    "duration": 6,
    "start_time": "2022-07-05T11:37:36.947Z"
   },
   {
    "duration": 2940,
    "start_time": "2022-07-05T11:40:01.835Z"
   },
   {
    "duration": 3639,
    "start_time": "2022-07-05T11:40:04.777Z"
   },
   {
    "duration": 9,
    "start_time": "2022-07-05T11:40:08.418Z"
   },
   {
    "duration": 5,
    "start_time": "2022-07-05T11:40:08.430Z"
   },
   {
    "duration": 151340,
    "start_time": "2022-07-05T11:40:08.437Z"
   },
   {
    "duration": 12,
    "start_time": "2022-07-05T11:42:39.779Z"
   },
   {
    "duration": 4931,
    "start_time": "2022-07-05T11:42:39.804Z"
   },
   {
    "duration": 13,
    "start_time": "2022-07-05T11:42:44.737Z"
   },
   {
    "duration": 12297,
    "start_time": "2022-07-05T11:42:44.752Z"
   },
   {
    "duration": 5,
    "start_time": "2022-07-05T11:42:57.051Z"
   },
   {
    "duration": 2132,
    "start_time": "2022-07-05T11:42:57.058Z"
   },
   {
    "duration": 6365,
    "start_time": "2022-07-05T11:43:48.869Z"
   },
   {
    "duration": 4824,
    "start_time": "2022-07-05T11:48:12.053Z"
   },
   {
    "duration": 3380,
    "start_time": "2022-07-05T11:48:26.182Z"
   },
   {
    "duration": 10522,
    "start_time": "2022-07-05T11:48:38.698Z"
   },
   {
    "duration": 3011,
    "start_time": "2022-07-05T11:50:20.833Z"
   },
   {
    "duration": 26,
    "start_time": "2022-07-05T11:53:13.622Z"
   },
   {
    "duration": 14,
    "start_time": "2022-07-05T11:53:49.452Z"
   },
   {
    "duration": 14,
    "start_time": "2022-07-05T11:57:15.421Z"
   },
   {
    "duration": 8,
    "start_time": "2022-07-05T11:58:52.927Z"
   },
   {
    "duration": 4,
    "start_time": "2022-07-05T11:59:09.824Z"
   },
   {
    "duration": 10141,
    "start_time": "2022-07-05T11:59:11.947Z"
   },
   {
    "duration": 19,
    "start_time": "2022-07-05T11:59:36.694Z"
   },
   {
    "duration": 318,
    "start_time": "2022-07-05T12:00:25.324Z"
   },
   {
    "duration": 16,
    "start_time": "2022-07-05T12:00:27.924Z"
   },
   {
    "duration": 953,
    "start_time": "2022-07-05T12:00:44.938Z"
   },
   {
    "duration": 362,
    "start_time": "2022-07-05T12:01:09.558Z"
   },
   {
    "duration": 254,
    "start_time": "2022-07-05T12:01:16.161Z"
   },
   {
    "duration": 193,
    "start_time": "2022-07-05T12:01:20.545Z"
   },
   {
    "duration": 214,
    "start_time": "2022-07-05T12:01:24.554Z"
   },
   {
    "duration": 258,
    "start_time": "2022-07-05T12:01:28.092Z"
   },
   {
    "duration": 262,
    "start_time": "2022-07-05T12:01:31.624Z"
   },
   {
    "duration": 302,
    "start_time": "2022-07-05T12:01:34.771Z"
   },
   {
    "duration": 314,
    "start_time": "2022-07-05T12:01:38.059Z"
   },
   {
    "duration": 283,
    "start_time": "2022-07-05T12:01:41.578Z"
   },
   {
    "duration": 7831,
    "start_time": "2022-07-05T12:01:44.573Z"
   },
   {
    "duration": 297,
    "start_time": "2022-07-05T12:03:18.154Z"
   },
   {
    "duration": 247370,
    "start_time": "2022-07-05T12:03:39.579Z"
   },
   {
    "duration": 48,
    "start_time": "2022-07-06T06:11:56.124Z"
   },
   {
    "duration": 1689,
    "start_time": "2022-07-06T07:02:15.075Z"
   },
   {
    "duration": 2490,
    "start_time": "2022-07-06T07:02:16.767Z"
   },
   {
    "duration": 21,
    "start_time": "2022-07-06T07:02:19.258Z"
   },
   {
    "duration": 12,
    "start_time": "2022-07-06T07:02:23.867Z"
   },
   {
    "duration": 1399,
    "start_time": "2022-07-06T07:03:05.709Z"
   },
   {
    "duration": 2290,
    "start_time": "2022-07-06T07:03:07.111Z"
   },
   {
    "duration": 23,
    "start_time": "2022-07-06T07:03:09.403Z"
   },
   {
    "duration": 11,
    "start_time": "2022-07-06T07:03:09.427Z"
   },
   {
    "duration": 31,
    "start_time": "2022-07-06T07:03:09.440Z"
   },
   {
    "duration": 6,
    "start_time": "2022-07-06T07:03:09.473Z"
   },
   {
    "duration": 7,
    "start_time": "2022-07-06T07:03:09.480Z"
   },
   {
    "duration": 24437,
    "start_time": "2022-07-06T07:03:09.488Z"
   },
   {
    "duration": 11,
    "start_time": "2022-07-06T07:03:33.927Z"
   },
   {
    "duration": 732,
    "start_time": "2022-07-06T07:03:33.939Z"
   },
   {
    "duration": 12,
    "start_time": "2022-07-06T07:03:34.673Z"
   },
   {
    "duration": 420,
    "start_time": "2022-07-06T07:03:34.687Z"
   },
   {
    "duration": 159,
    "start_time": "2022-07-06T07:03:35.109Z"
   },
   {
    "duration": 1595,
    "start_time": "2022-07-06T07:03:35.270Z"
   },
   {
    "duration": 752,
    "start_time": "2022-07-06T07:03:36.867Z"
   },
   {
    "duration": 17044,
    "start_time": "2022-07-06T07:03:37.621Z"
   },
   {
    "duration": 495867,
    "start_time": "2022-07-06T07:03:54.667Z"
   },
   {
    "duration": 674,
    "start_time": "2022-07-06T07:18:04.415Z"
   },
   {
    "duration": 516,
    "start_time": "2022-07-06T07:18:17.185Z"
   },
   {
    "duration": 1090,
    "start_time": "2022-07-06T07:18:21.082Z"
   },
   {
    "duration": 1283,
    "start_time": "2022-07-06T07:18:32.002Z"
   },
   {
    "duration": 1443,
    "start_time": "2022-07-06T07:18:42.176Z"
   },
   {
    "duration": 1056,
    "start_time": "2022-07-06T07:18:49.797Z"
   },
   {
    "duration": 1093,
    "start_time": "2022-07-06T07:18:55.896Z"
   },
   {
    "duration": 1262,
    "start_time": "2022-07-06T07:19:01.251Z"
   },
   {
    "duration": 1243,
    "start_time": "2022-07-06T07:19:05.715Z"
   },
   {
    "duration": 1449,
    "start_time": "2022-07-06T07:19:11.619Z"
   },
   {
    "duration": 479,
    "start_time": "2022-07-06T07:19:43.721Z"
   },
   {
    "duration": 598,
    "start_time": "2022-07-06T07:19:49.390Z"
   },
   {
    "duration": 615,
    "start_time": "2022-07-06T07:19:53.506Z"
   },
   {
    "duration": 558,
    "start_time": "2022-07-06T07:19:56.786Z"
   },
   {
    "duration": 912,
    "start_time": "2022-07-06T07:20:01.316Z"
   },
   {
    "duration": 833,
    "start_time": "2022-07-06T07:20:05.707Z"
   },
   {
    "duration": 957,
    "start_time": "2022-07-06T07:20:11.360Z"
   },
   {
    "duration": 916,
    "start_time": "2022-07-06T07:20:26.243Z"
   },
   {
    "duration": 987,
    "start_time": "2022-07-06T07:20:31.830Z"
   },
   {
    "duration": 896,
    "start_time": "2022-07-06T07:20:37.036Z"
   },
   {
    "duration": 1197,
    "start_time": "2022-07-06T07:20:43.397Z"
   },
   {
    "duration": 1239,
    "start_time": "2022-07-06T07:20:51.851Z"
   },
   {
    "duration": 1271,
    "start_time": "2022-07-06T07:21:01.373Z"
   },
   {
    "duration": 1931,
    "start_time": "2022-07-06T07:21:09.340Z"
   },
   {
    "duration": 1821,
    "start_time": "2022-07-06T07:21:16.222Z"
   },
   {
    "duration": 2146,
    "start_time": "2022-07-06T07:21:25.269Z"
   },
   {
    "duration": 2469,
    "start_time": "2022-07-06T11:48:01.245Z"
   },
   {
    "duration": 2040,
    "start_time": "2022-07-06T11:48:03.716Z"
   },
   {
    "duration": 24,
    "start_time": "2022-07-06T11:48:05.758Z"
   },
   {
    "duration": 10,
    "start_time": "2022-07-06T11:48:05.784Z"
   },
   {
    "duration": 11,
    "start_time": "2022-07-06T11:48:05.796Z"
   },
   {
    "duration": 10,
    "start_time": "2022-07-06T11:48:05.808Z"
   },
   {
    "duration": 4,
    "start_time": "2022-07-06T11:48:06.607Z"
   },
   {
    "duration": 1207,
    "start_time": "2022-07-06T11:48:13.678Z"
   },
   {
    "duration": 5,
    "start_time": "2022-07-06T11:48:21.599Z"
   },
   {
    "duration": 5,
    "start_time": "2022-07-06T11:48:29.075Z"
   },
   {
    "duration": 5,
    "start_time": "2022-07-06T11:48:31.051Z"
   },
   {
    "duration": 7,
    "start_time": "2022-07-06T11:59:50.584Z"
   },
   {
    "duration": 3608,
    "start_time": "2022-07-06T11:59:58.805Z"
   },
   {
    "duration": 2533,
    "start_time": "2022-07-06T12:00:02.416Z"
   },
   {
    "duration": 27,
    "start_time": "2022-07-06T12:00:04.951Z"
   },
   {
    "duration": 13,
    "start_time": "2022-07-06T12:00:04.980Z"
   },
   {
    "duration": 12,
    "start_time": "2022-07-06T12:00:04.995Z"
   },
   {
    "duration": 11,
    "start_time": "2022-07-06T12:00:05.008Z"
   },
   {
    "duration": 5,
    "start_time": "2022-07-06T12:00:05.021Z"
   },
   {
    "duration": 24501,
    "start_time": "2022-07-06T12:00:05.027Z"
   },
   {
    "duration": 12,
    "start_time": "2022-07-06T12:00:29.530Z"
   },
   {
    "duration": 735,
    "start_time": "2022-07-06T12:00:29.543Z"
   },
   {
    "duration": 11,
    "start_time": "2022-07-06T12:00:30.280Z"
   },
   {
    "duration": 508,
    "start_time": "2022-07-06T12:00:30.293Z"
   },
   {
    "duration": 156,
    "start_time": "2022-07-06T12:00:30.803Z"
   },
   {
    "duration": 2164,
    "start_time": "2022-07-06T12:00:30.961Z"
   },
   {
    "duration": 11241,
    "start_time": "2022-07-06T12:00:33.126Z"
   },
   {
    "duration": 1560,
    "start_time": "2022-07-07T05:57:53.967Z"
   },
   {
    "duration": 2265,
    "start_time": "2022-07-07T05:57:55.529Z"
   },
   {
    "duration": 14,
    "start_time": "2022-07-07T05:58:11.482Z"
   },
   {
    "duration": 14,
    "start_time": "2022-07-07T05:58:28.286Z"
   },
   {
    "duration": 13,
    "start_time": "2022-07-07T05:58:45.741Z"
   },
   {
    "duration": 12,
    "start_time": "2022-07-07T06:19:00.913Z"
   },
   {
    "duration": 23,
    "start_time": "2022-07-07T06:19:30.377Z"
   },
   {
    "duration": 12,
    "start_time": "2022-07-07T06:19:46.374Z"
   },
   {
    "duration": 7,
    "start_time": "2022-07-07T06:21:50.949Z"
   },
   {
    "duration": 5,
    "start_time": "2022-07-07T06:28:26.441Z"
   },
   {
    "duration": 2210,
    "start_time": "2022-07-07T06:28:26.448Z"
   },
   {
    "duration": 22,
    "start_time": "2022-07-07T06:28:28.660Z"
   },
   {
    "duration": 13,
    "start_time": "2022-07-07T06:28:28.684Z"
   },
   {
    "duration": 42,
    "start_time": "2022-07-07T06:28:28.700Z"
   },
   {
    "duration": 11,
    "start_time": "2022-07-07T06:28:28.744Z"
   },
   {
    "duration": 7,
    "start_time": "2022-07-07T06:28:28.757Z"
   },
   {
    "duration": 1180,
    "start_time": "2022-07-07T06:28:28.766Z"
   },
   {
    "duration": 0,
    "start_time": "2022-07-07T06:28:29.948Z"
   },
   {
    "duration": 911,
    "start_time": "2022-07-07T06:28:58.456Z"
   },
   {
    "duration": 16,
    "start_time": "2022-07-07T06:29:02.948Z"
   },
   {
    "duration": 3,
    "start_time": "2022-07-07T06:29:55.286Z"
   },
   {
    "duration": 612390,
    "start_time": "2022-07-07T06:30:00.602Z"
   },
   {
    "duration": 11,
    "start_time": "2022-07-07T06:53:51.295Z"
   },
   {
    "duration": 12,
    "start_time": "2022-07-07T06:54:23.299Z"
   },
   {
    "duration": 4,
    "start_time": "2022-07-07T06:56:26.178Z"
   },
   {
    "duration": 21758,
    "start_time": "2022-07-07T06:56:28.875Z"
   },
   {
    "duration": 13,
    "start_time": "2022-07-07T06:57:39.552Z"
   },
   {
    "duration": 1633,
    "start_time": "2022-07-07T07:02:59.330Z"
   },
   {
    "duration": 2185,
    "start_time": "2022-07-07T07:03:00.965Z"
   },
   {
    "duration": 15,
    "start_time": "2022-07-07T07:03:03.152Z"
   },
   {
    "duration": 12,
    "start_time": "2022-07-07T07:03:03.169Z"
   },
   {
    "duration": 44,
    "start_time": "2022-07-07T07:03:03.183Z"
   },
   {
    "duration": 13,
    "start_time": "2022-07-07T07:03:03.229Z"
   },
   {
    "duration": 24,
    "start_time": "2022-07-07T07:03:03.244Z"
   },
   {
    "duration": 902,
    "start_time": "2022-07-07T07:03:03.270Z"
   },
   {
    "duration": 14,
    "start_time": "2022-07-07T07:03:04.173Z"
   },
   {
    "duration": 9,
    "start_time": "2022-07-07T07:03:04.190Z"
   },
   {
    "duration": 19864,
    "start_time": "2022-07-07T07:03:04.201Z"
   },
   {
    "duration": 13,
    "start_time": "2022-07-07T07:03:24.066Z"
   },
   {
    "duration": 26,
    "start_time": "2022-07-07T07:03:24.081Z"
   },
   {
    "duration": 129,
    "start_time": "2022-07-07T07:03:24.109Z"
   },
   {
    "duration": 1569,
    "start_time": "2022-07-07T07:03:24.240Z"
   },
   {
    "duration": 3181,
    "start_time": "2022-07-07T07:03:25.811Z"
   },
   {
    "duration": 11835,
    "start_time": "2022-07-07T07:03:28.993Z"
   },
   {
    "duration": 701282,
    "start_time": "2022-07-07T07:03:40.837Z"
   },
   {
    "duration": 3178,
    "start_time": "2022-07-07T07:15:39.090Z"
   },
   {
    "duration": 672407,
    "start_time": "2022-07-07T07:16:48.354Z"
   },
   {
    "duration": 2983,
    "start_time": "2022-07-07T07:28:00.763Z"
   },
   {
    "duration": 3549,
    "start_time": "2022-07-07T07:28:13.870Z"
   },
   {
    "duration": 3693,
    "start_time": "2022-07-07T07:28:24.720Z"
   },
   {
    "duration": 3720,
    "start_time": "2022-07-07T07:28:34.665Z"
   },
   {
    "duration": 3341,
    "start_time": "2022-07-07T07:28:46.834Z"
   },
   {
    "duration": 3686,
    "start_time": "2022-07-07T07:28:55.656Z"
   },
   {
    "duration": 4053,
    "start_time": "2022-07-07T07:29:04.649Z"
   },
   {
    "duration": 2006,
    "start_time": "2022-07-07T11:53:22.102Z"
   },
   {
    "duration": 2007,
    "start_time": "2022-07-07T11:53:24.110Z"
   },
   {
    "duration": 33,
    "start_time": "2022-07-07T11:53:26.623Z"
   },
   {
    "duration": 18,
    "start_time": "2022-07-07T11:53:27.741Z"
   },
   {
    "duration": 22,
    "start_time": "2022-07-07T11:53:31.652Z"
   },
   {
    "duration": 11,
    "start_time": "2022-07-07T11:53:36.287Z"
   },
   {
    "duration": 9,
    "start_time": "2022-07-07T11:53:38.063Z"
   },
   {
    "duration": 1247,
    "start_time": "2022-07-07T11:53:39.297Z"
   },
   {
    "duration": 27,
    "start_time": "2022-07-07T11:53:40.552Z"
   },
   {
    "duration": 6,
    "start_time": "2022-07-07T11:53:40.581Z"
   },
   {
    "duration": 24744,
    "start_time": "2022-07-07T11:53:40.603Z"
   },
   {
    "duration": 17,
    "start_time": "2022-07-07T11:54:05.350Z"
   },
   {
    "duration": 27,
    "start_time": "2022-07-07T11:54:05.370Z"
   },
   {
    "duration": 207,
    "start_time": "2022-07-07T11:54:05.400Z"
   },
   {
    "duration": 1945,
    "start_time": "2022-07-07T11:54:05.609Z"
   },
   {
    "duration": 11376,
    "start_time": "2022-07-07T11:54:07.556Z"
   }
  ],
  "kernelspec": {
   "display_name": "Python 3 (ipykernel)",
   "language": "python",
   "name": "python3"
  },
  "language_info": {
   "codemirror_mode": {
    "name": "ipython",
    "version": 3
   },
   "file_extension": ".py",
   "mimetype": "text/x-python",
   "name": "python",
   "nbconvert_exporter": "python",
   "pygments_lexer": "ipython3",
   "version": "3.9.7"
  },
  "toc": {
   "base_numbering": 1,
   "nav_menu": {},
   "number_sections": true,
   "sideBar": true,
   "skip_h1_title": true,
   "title_cell": "Содержание",
   "title_sidebar": "Contents",
   "toc_cell": true,
   "toc_position": {
    "height": "calc(100% - 180px)",
    "left": "10px",
    "top": "150px",
    "width": "302.378px"
   },
   "toc_section_display": true,
   "toc_window_display": true
  }
 },
 "nbformat": 4,
 "nbformat_minor": 2
}

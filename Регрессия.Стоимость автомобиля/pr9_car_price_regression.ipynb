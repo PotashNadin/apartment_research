{
 "cells": [
  {
   "cell_type": "markdown",
   "metadata": {},
   "source": [
    "# Определение стоимости автомобилей"
   ]
  },
  {
   "cell_type": "markdown",
   "metadata": {},
   "source": [
    "## Подготовка данных"
   ]
  },
  {
   "cell_type": "code",
   "execution_count": 1,
   "metadata": {},
   "outputs": [],
   "source": [
    "import pandas as pd\n",
    "import numpy as np\n",
    "from sklearn.model_selection import train_test_split, GridSearchCV\n",
    "from sklearn.linear_model import LinearRegression\n",
    "from sklearn.dummy import DummyRegressor\n",
    "from catboost import CatBoostRegressor\n",
    "from catboost import cv, Pool\n",
    "from sklearn.tree import DecisionTreeRegressor\n",
    "from sklearn.metrics import mean_squared_error,make_scorer\n",
    "import lightgbm as lgb\n",
    "import time"
   ]
  },
  {
   "cell_type": "code",
   "execution_count": 2,
   "metadata": {
    "scrolled": false
   },
   "outputs": [
    {
     "data": {
      "text/html": [
       "<div>\n",
       "<style scoped>\n",
       "    .dataframe tbody tr th:only-of-type {\n",
       "        vertical-align: middle;\n",
       "    }\n",
       "\n",
       "    .dataframe tbody tr th {\n",
       "        vertical-align: top;\n",
       "    }\n",
       "\n",
       "    .dataframe thead th {\n",
       "        text-align: right;\n",
       "    }\n",
       "</style>\n",
       "<table border=\"1\" class=\"dataframe\">\n",
       "  <thead>\n",
       "    <tr style=\"text-align: right;\">\n",
       "      <th></th>\n",
       "      <th>DateCrawled</th>\n",
       "      <th>Price</th>\n",
       "      <th>VehicleType</th>\n",
       "      <th>RegistrationYear</th>\n",
       "      <th>Gearbox</th>\n",
       "      <th>Power</th>\n",
       "      <th>Model</th>\n",
       "      <th>Kilometer</th>\n",
       "      <th>RegistrationMonth</th>\n",
       "      <th>FuelType</th>\n",
       "      <th>Brand</th>\n",
       "      <th>NotRepaired</th>\n",
       "      <th>DateCreated</th>\n",
       "      <th>NumberOfPictures</th>\n",
       "      <th>PostalCode</th>\n",
       "      <th>LastSeen</th>\n",
       "    </tr>\n",
       "  </thead>\n",
       "  <tbody>\n",
       "    <tr>\n",
       "      <th>0</th>\n",
       "      <td>2016-03-24 11:52:17</td>\n",
       "      <td>480</td>\n",
       "      <td>NaN</td>\n",
       "      <td>1993</td>\n",
       "      <td>manual</td>\n",
       "      <td>0</td>\n",
       "      <td>golf</td>\n",
       "      <td>150000</td>\n",
       "      <td>0</td>\n",
       "      <td>petrol</td>\n",
       "      <td>volkswagen</td>\n",
       "      <td>NaN</td>\n",
       "      <td>2016-03-24 00:00:00</td>\n",
       "      <td>0</td>\n",
       "      <td>70435</td>\n",
       "      <td>2016-04-07 03:16:57</td>\n",
       "    </tr>\n",
       "    <tr>\n",
       "      <th>1</th>\n",
       "      <td>2016-03-24 10:58:45</td>\n",
       "      <td>18300</td>\n",
       "      <td>coupe</td>\n",
       "      <td>2011</td>\n",
       "      <td>manual</td>\n",
       "      <td>190</td>\n",
       "      <td>NaN</td>\n",
       "      <td>125000</td>\n",
       "      <td>5</td>\n",
       "      <td>gasoline</td>\n",
       "      <td>audi</td>\n",
       "      <td>yes</td>\n",
       "      <td>2016-03-24 00:00:00</td>\n",
       "      <td>0</td>\n",
       "      <td>66954</td>\n",
       "      <td>2016-04-07 01:46:50</td>\n",
       "    </tr>\n",
       "    <tr>\n",
       "      <th>2</th>\n",
       "      <td>2016-03-14 12:52:21</td>\n",
       "      <td>9800</td>\n",
       "      <td>suv</td>\n",
       "      <td>2004</td>\n",
       "      <td>auto</td>\n",
       "      <td>163</td>\n",
       "      <td>grand</td>\n",
       "      <td>125000</td>\n",
       "      <td>8</td>\n",
       "      <td>gasoline</td>\n",
       "      <td>jeep</td>\n",
       "      <td>NaN</td>\n",
       "      <td>2016-03-14 00:00:00</td>\n",
       "      <td>0</td>\n",
       "      <td>90480</td>\n",
       "      <td>2016-04-05 12:47:46</td>\n",
       "    </tr>\n",
       "    <tr>\n",
       "      <th>3</th>\n",
       "      <td>2016-03-17 16:54:04</td>\n",
       "      <td>1500</td>\n",
       "      <td>small</td>\n",
       "      <td>2001</td>\n",
       "      <td>manual</td>\n",
       "      <td>75</td>\n",
       "      <td>golf</td>\n",
       "      <td>150000</td>\n",
       "      <td>6</td>\n",
       "      <td>petrol</td>\n",
       "      <td>volkswagen</td>\n",
       "      <td>no</td>\n",
       "      <td>2016-03-17 00:00:00</td>\n",
       "      <td>0</td>\n",
       "      <td>91074</td>\n",
       "      <td>2016-03-17 17:40:17</td>\n",
       "    </tr>\n",
       "    <tr>\n",
       "      <th>4</th>\n",
       "      <td>2016-03-31 17:25:20</td>\n",
       "      <td>3600</td>\n",
       "      <td>small</td>\n",
       "      <td>2008</td>\n",
       "      <td>manual</td>\n",
       "      <td>69</td>\n",
       "      <td>fabia</td>\n",
       "      <td>90000</td>\n",
       "      <td>7</td>\n",
       "      <td>gasoline</td>\n",
       "      <td>skoda</td>\n",
       "      <td>no</td>\n",
       "      <td>2016-03-31 00:00:00</td>\n",
       "      <td>0</td>\n",
       "      <td>60437</td>\n",
       "      <td>2016-04-06 10:17:21</td>\n",
       "    </tr>\n",
       "  </tbody>\n",
       "</table>\n",
       "</div>"
      ],
      "text/plain": [
       "           DateCrawled  Price VehicleType  RegistrationYear Gearbox  Power  \\\n",
       "0  2016-03-24 11:52:17    480         NaN              1993  manual      0   \n",
       "1  2016-03-24 10:58:45  18300       coupe              2011  manual    190   \n",
       "2  2016-03-14 12:52:21   9800         suv              2004    auto    163   \n",
       "3  2016-03-17 16:54:04   1500       small              2001  manual     75   \n",
       "4  2016-03-31 17:25:20   3600       small              2008  manual     69   \n",
       "\n",
       "   Model  Kilometer  RegistrationMonth  FuelType       Brand NotRepaired  \\\n",
       "0   golf     150000                  0    petrol  volkswagen         NaN   \n",
       "1    NaN     125000                  5  gasoline        audi         yes   \n",
       "2  grand     125000                  8  gasoline        jeep         NaN   \n",
       "3   golf     150000                  6    petrol  volkswagen          no   \n",
       "4  fabia      90000                  7  gasoline       skoda          no   \n",
       "\n",
       "           DateCreated  NumberOfPictures  PostalCode             LastSeen  \n",
       "0  2016-03-24 00:00:00                 0       70435  2016-04-07 03:16:57  \n",
       "1  2016-03-24 00:00:00                 0       66954  2016-04-07 01:46:50  \n",
       "2  2016-03-14 00:00:00                 0       90480  2016-04-05 12:47:46  \n",
       "3  2016-03-17 00:00:00                 0       91074  2016-03-17 17:40:17  \n",
       "4  2016-03-31 00:00:00                 0       60437  2016-04-06 10:17:21  "
      ]
     },
     "execution_count": 2,
     "metadata": {},
     "output_type": "execute_result"
    }
   ],
   "source": [
    "df = pd.read_csv('...')\n",
    "df.head(5)"
   ]
  },
  {
   "cell_type": "markdown",
   "metadata": {},
   "source": [
    "При просмотре данных видим, что есть пустоты, аномальные значения, строки с датами.\n",
    "\n",
    "Дополнительно,исправим наименования столбцов в змеиный регистр."
   ]
  },
  {
   "cell_type": "code",
   "execution_count": 3,
   "metadata": {},
   "outputs": [
    {
     "name": "stdout",
     "output_type": "stream",
     "text": [
      "<class 'pandas.core.frame.DataFrame'>\n",
      "RangeIndex: 354369 entries, 0 to 354368\n",
      "Data columns (total 16 columns):\n",
      " #   Column              Non-Null Count   Dtype \n",
      "---  ------              --------------   ----- \n",
      " 0   date_crawled        354369 non-null  object\n",
      " 1   price               354369 non-null  int64 \n",
      " 2   vehicle_type        316879 non-null  object\n",
      " 3   registration_year   354369 non-null  int64 \n",
      " 4   gearbox             334536 non-null  object\n",
      " 5   power               354369 non-null  int64 \n",
      " 6   model               334664 non-null  object\n",
      " 7   kilometer           354369 non-null  int64 \n",
      " 8   registration_month  354369 non-null  int64 \n",
      " 9   fuel_type           321474 non-null  object\n",
      " 10  brand               354369 non-null  object\n",
      " 11  not_repaired        283215 non-null  object\n",
      " 12  date_created        354369 non-null  object\n",
      " 13  number_of_pictures  354369 non-null  int64 \n",
      " 14  postal_code         354369 non-null  int64 \n",
      " 15  last_seen           354369 non-null  object\n",
      "dtypes: int64(7), object(9)\n",
      "memory usage: 43.3+ MB\n"
     ]
    }
   ],
   "source": [
    "df.columns = df.columns.str.lower()#переводим наименование столбцов в нижний регистр\n",
    "df.rename(columns = {\n",
    "    'datecrawled':'date_crawled', 'vehicletype':'vehicle_type', 'registrationyear':'registration_year',\n",
    "    'registrationmonth':'registration_month', 'fueltype':'fuel_type',\n",
    "       'notrepaired':'not_repaired', 'datecreated':'date_created', \n",
    "    'numberofpictures':'number_of_pictures', 'postalcode':'postal_code','lastseen':'last_seen'\n",
    "    },inplace=True)# переименование в змеиный регистр\n",
    "df.info()"
   ]
  },
  {
   "cell_type": "code",
   "execution_count": 4,
   "metadata": {
    "scrolled": false
   },
   "outputs": [
    {
     "data": {
      "text/html": [
       "<div>\n",
       "<style scoped>\n",
       "    .dataframe tbody tr th:only-of-type {\n",
       "        vertical-align: middle;\n",
       "    }\n",
       "\n",
       "    .dataframe tbody tr th {\n",
       "        vertical-align: top;\n",
       "    }\n",
       "\n",
       "    .dataframe thead th {\n",
       "        text-align: right;\n",
       "    }\n",
       "</style>\n",
       "<table border=\"1\" class=\"dataframe\">\n",
       "  <thead>\n",
       "    <tr style=\"text-align: right;\">\n",
       "      <th></th>\n",
       "      <th>price</th>\n",
       "      <th>registration_year</th>\n",
       "      <th>power</th>\n",
       "      <th>kilometer</th>\n",
       "      <th>registration_month</th>\n",
       "      <th>number_of_pictures</th>\n",
       "      <th>postal_code</th>\n",
       "    </tr>\n",
       "  </thead>\n",
       "  <tbody>\n",
       "    <tr>\n",
       "      <th>count</th>\n",
       "      <td>354369.000000</td>\n",
       "      <td>354369.000000</td>\n",
       "      <td>354369.000000</td>\n",
       "      <td>354369.000000</td>\n",
       "      <td>354369.000000</td>\n",
       "      <td>354369.0</td>\n",
       "      <td>354369.000000</td>\n",
       "    </tr>\n",
       "    <tr>\n",
       "      <th>mean</th>\n",
       "      <td>4416.656776</td>\n",
       "      <td>2004.234448</td>\n",
       "      <td>110.094337</td>\n",
       "      <td>128211.172535</td>\n",
       "      <td>5.714645</td>\n",
       "      <td>0.0</td>\n",
       "      <td>50508.689087</td>\n",
       "    </tr>\n",
       "    <tr>\n",
       "      <th>std</th>\n",
       "      <td>4514.158514</td>\n",
       "      <td>90.227958</td>\n",
       "      <td>189.850405</td>\n",
       "      <td>37905.341530</td>\n",
       "      <td>3.726421</td>\n",
       "      <td>0.0</td>\n",
       "      <td>25783.096248</td>\n",
       "    </tr>\n",
       "    <tr>\n",
       "      <th>min</th>\n",
       "      <td>0.000000</td>\n",
       "      <td>1000.000000</td>\n",
       "      <td>0.000000</td>\n",
       "      <td>5000.000000</td>\n",
       "      <td>0.000000</td>\n",
       "      <td>0.0</td>\n",
       "      <td>1067.000000</td>\n",
       "    </tr>\n",
       "    <tr>\n",
       "      <th>25%</th>\n",
       "      <td>1050.000000</td>\n",
       "      <td>1999.000000</td>\n",
       "      <td>69.000000</td>\n",
       "      <td>125000.000000</td>\n",
       "      <td>3.000000</td>\n",
       "      <td>0.0</td>\n",
       "      <td>30165.000000</td>\n",
       "    </tr>\n",
       "    <tr>\n",
       "      <th>50%</th>\n",
       "      <td>2700.000000</td>\n",
       "      <td>2003.000000</td>\n",
       "      <td>105.000000</td>\n",
       "      <td>150000.000000</td>\n",
       "      <td>6.000000</td>\n",
       "      <td>0.0</td>\n",
       "      <td>49413.000000</td>\n",
       "    </tr>\n",
       "    <tr>\n",
       "      <th>75%</th>\n",
       "      <td>6400.000000</td>\n",
       "      <td>2008.000000</td>\n",
       "      <td>143.000000</td>\n",
       "      <td>150000.000000</td>\n",
       "      <td>9.000000</td>\n",
       "      <td>0.0</td>\n",
       "      <td>71083.000000</td>\n",
       "    </tr>\n",
       "    <tr>\n",
       "      <th>max</th>\n",
       "      <td>20000.000000</td>\n",
       "      <td>9999.000000</td>\n",
       "      <td>20000.000000</td>\n",
       "      <td>150000.000000</td>\n",
       "      <td>12.000000</td>\n",
       "      <td>0.0</td>\n",
       "      <td>99998.000000</td>\n",
       "    </tr>\n",
       "  </tbody>\n",
       "</table>\n",
       "</div>"
      ],
      "text/plain": [
       "               price  registration_year          power      kilometer  \\\n",
       "count  354369.000000      354369.000000  354369.000000  354369.000000   \n",
       "mean     4416.656776        2004.234448     110.094337  128211.172535   \n",
       "std      4514.158514          90.227958     189.850405   37905.341530   \n",
       "min         0.000000        1000.000000       0.000000    5000.000000   \n",
       "25%      1050.000000        1999.000000      69.000000  125000.000000   \n",
       "50%      2700.000000        2003.000000     105.000000  150000.000000   \n",
       "75%      6400.000000        2008.000000     143.000000  150000.000000   \n",
       "max     20000.000000        9999.000000   20000.000000  150000.000000   \n",
       "\n",
       "       registration_month  number_of_pictures    postal_code  \n",
       "count       354369.000000            354369.0  354369.000000  \n",
       "mean             5.714645                 0.0   50508.689087  \n",
       "std              3.726421                 0.0   25783.096248  \n",
       "min              0.000000                 0.0    1067.000000  \n",
       "25%              3.000000                 0.0   30165.000000  \n",
       "50%              6.000000                 0.0   49413.000000  \n",
       "75%              9.000000                 0.0   71083.000000  \n",
       "max             12.000000                 0.0   99998.000000  "
      ]
     },
     "execution_count": 4,
     "metadata": {},
     "output_type": "execute_result"
    }
   ],
   "source": [
    "#рассмотрим численные признаки\n",
    "df.describe()"
   ]
  },
  {
   "cell_type": "code",
   "execution_count": 5,
   "metadata": {},
   "outputs": [
    {
     "data": {
      "text/html": [
       "<div>\n",
       "<style scoped>\n",
       "    .dataframe tbody tr th:only-of-type {\n",
       "        vertical-align: middle;\n",
       "    }\n",
       "\n",
       "    .dataframe tbody tr th {\n",
       "        vertical-align: top;\n",
       "    }\n",
       "\n",
       "    .dataframe thead th {\n",
       "        text-align: right;\n",
       "    }\n",
       "</style>\n",
       "<table border=\"1\" class=\"dataframe\">\n",
       "  <thead>\n",
       "    <tr style=\"text-align: right;\">\n",
       "      <th></th>\n",
       "      <th>date_crawled</th>\n",
       "      <th>vehicle_type</th>\n",
       "      <th>gearbox</th>\n",
       "      <th>model</th>\n",
       "      <th>fuel_type</th>\n",
       "      <th>brand</th>\n",
       "      <th>not_repaired</th>\n",
       "      <th>date_created</th>\n",
       "      <th>last_seen</th>\n",
       "    </tr>\n",
       "  </thead>\n",
       "  <tbody>\n",
       "    <tr>\n",
       "      <th>count</th>\n",
       "      <td>354369</td>\n",
       "      <td>316879</td>\n",
       "      <td>334536</td>\n",
       "      <td>334664</td>\n",
       "      <td>321474</td>\n",
       "      <td>354369</td>\n",
       "      <td>283215</td>\n",
       "      <td>354369</td>\n",
       "      <td>354369</td>\n",
       "    </tr>\n",
       "    <tr>\n",
       "      <th>unique</th>\n",
       "      <td>271174</td>\n",
       "      <td>8</td>\n",
       "      <td>2</td>\n",
       "      <td>250</td>\n",
       "      <td>7</td>\n",
       "      <td>40</td>\n",
       "      <td>2</td>\n",
       "      <td>109</td>\n",
       "      <td>179150</td>\n",
       "    </tr>\n",
       "    <tr>\n",
       "      <th>top</th>\n",
       "      <td>2016-03-24 14:49:47</td>\n",
       "      <td>sedan</td>\n",
       "      <td>manual</td>\n",
       "      <td>golf</td>\n",
       "      <td>petrol</td>\n",
       "      <td>volkswagen</td>\n",
       "      <td>no</td>\n",
       "      <td>2016-04-03 00:00:00</td>\n",
       "      <td>2016-04-06 13:45:54</td>\n",
       "    </tr>\n",
       "    <tr>\n",
       "      <th>freq</th>\n",
       "      <td>7</td>\n",
       "      <td>91457</td>\n",
       "      <td>268251</td>\n",
       "      <td>29232</td>\n",
       "      <td>216352</td>\n",
       "      <td>77013</td>\n",
       "      <td>247161</td>\n",
       "      <td>13719</td>\n",
       "      <td>17</td>\n",
       "    </tr>\n",
       "  </tbody>\n",
       "</table>\n",
       "</div>"
      ],
      "text/plain": [
       "               date_crawled vehicle_type gearbox   model fuel_type  \\\n",
       "count                354369       316879  334536  334664    321474   \n",
       "unique               271174            8       2     250         7   \n",
       "top     2016-03-24 14:49:47        sedan  manual    golf    petrol   \n",
       "freq                      7        91457  268251   29232    216352   \n",
       "\n",
       "             brand not_repaired         date_created            last_seen  \n",
       "count       354369       283215               354369               354369  \n",
       "unique          40            2                  109               179150  \n",
       "top     volkswagen           no  2016-04-03 00:00:00  2016-04-06 13:45:54  \n",
       "freq         77013       247161                13719                   17  "
      ]
     },
     "execution_count": 5,
     "metadata": {},
     "output_type": "execute_result"
    }
   ],
   "source": [
    "df.describe(include='object')#рассмотрим категориальные признаки."
   ]
  },
  {
   "cell_type": "markdown",
   "metadata": {},
   "source": [
    "### Работа с аномальными значениями"
   ]
  },
  {
   "cell_type": "markdown",
   "metadata": {},
   "source": [
    "Столбец `registration_year` имеет аномальные значения года. Возьмем года с 1900 по 2016,остальное будем считать выбросами.\n",
    "\n",
    "Столбец `number_of_pictures` содержит только 0, его можно удалить, так как на предсказание модели он не повлияет. \n",
    "\n",
    "В столбце `registration_month` содержится нулевые значения, однако при их удалении,могут пострадать более важные данные,поэтому трогать данный столбец не будем.\n",
    "\n",
    "В поле `power` имеются нулевые значения,а так же аномально-высокие значения мощности. На 2016 год самый мощный сирийный двигатель имеет 500 лошадиных сил. Возьмем этот порог за оптимальную мощность."
   ]
  },
  {
   "cell_type": "code",
   "execution_count": 6,
   "metadata": {},
   "outputs": [
    {
     "data": {
      "text/plain": [
       "(313646, 16)"
      ]
     },
     "execution_count": 6,
     "metadata": {},
     "output_type": "execute_result"
    }
   ],
   "source": [
    "df = df[df['power'] != 0]\n",
    "df = df[df['power'] < 500]\n",
    "df.shape"
   ]
  },
  {
   "cell_type": "code",
   "execution_count": 7,
   "metadata": {},
   "outputs": [],
   "source": [
    "df = df.drop('number_of_pictures',axis=1)"
   ]
  },
  {
   "cell_type": "code",
   "execution_count": 8,
   "metadata": {
    "scrolled": true
   },
   "outputs": [
    {
     "data": {
      "text/plain": [
       "'2016-04-07 14:36:58'"
      ]
     },
     "execution_count": 8,
     "metadata": {},
     "output_type": "execute_result"
    }
   ],
   "source": [
    "df['date_crawled'].max()"
   ]
  },
  {
   "cell_type": "code",
   "execution_count": 9,
   "metadata": {},
   "outputs": [
    {
     "data": {
      "text/plain": [
       "(302864, 15)"
      ]
     },
     "execution_count": 9,
     "metadata": {},
     "output_type": "execute_result"
    }
   ],
   "source": [
    "df = df[(df['registration_year']>1900)]\n",
    "df = df[(df['registration_year']<=2016)]\n",
    "df.shape "
   ]
  },
  {
   "cell_type": "code",
   "execution_count": 10,
   "metadata": {},
   "outputs": [
    {
     "data": {
      "text/html": [
       "<div>\n",
       "<style scoped>\n",
       "    .dataframe tbody tr th:only-of-type {\n",
       "        vertical-align: middle;\n",
       "    }\n",
       "\n",
       "    .dataframe tbody tr th {\n",
       "        vertical-align: top;\n",
       "    }\n",
       "\n",
       "    .dataframe thead th {\n",
       "        text-align: right;\n",
       "    }\n",
       "</style>\n",
       "<table border=\"1\" class=\"dataframe\">\n",
       "  <thead>\n",
       "    <tr style=\"text-align: right;\">\n",
       "      <th></th>\n",
       "      <th>price</th>\n",
       "      <th>registration_year</th>\n",
       "      <th>power</th>\n",
       "      <th>kilometer</th>\n",
       "      <th>registration_month</th>\n",
       "      <th>postal_code</th>\n",
       "    </tr>\n",
       "  </thead>\n",
       "  <tbody>\n",
       "    <tr>\n",
       "      <th>count</th>\n",
       "      <td>302864.000000</td>\n",
       "      <td>302864.000000</td>\n",
       "      <td>302864.000000</td>\n",
       "      <td>302864.000000</td>\n",
       "      <td>302864.000000</td>\n",
       "      <td>302864.000000</td>\n",
       "    </tr>\n",
       "    <tr>\n",
       "      <th>mean</th>\n",
       "      <td>4749.757799</td>\n",
       "      <td>2002.749336</td>\n",
       "      <td>120.347522</td>\n",
       "      <td>128351.768451</td>\n",
       "      <td>5.964238</td>\n",
       "      <td>51116.465744</td>\n",
       "    </tr>\n",
       "    <tr>\n",
       "      <th>std</th>\n",
       "      <td>4613.138811</td>\n",
       "      <td>6.597520</td>\n",
       "      <td>53.440986</td>\n",
       "      <td>36859.289952</td>\n",
       "      <td>3.599468</td>\n",
       "      <td>25810.631378</td>\n",
       "    </tr>\n",
       "    <tr>\n",
       "      <th>min</th>\n",
       "      <td>0.000000</td>\n",
       "      <td>1910.000000</td>\n",
       "      <td>1.000000</td>\n",
       "      <td>5000.000000</td>\n",
       "      <td>0.000000</td>\n",
       "      <td>1067.000000</td>\n",
       "    </tr>\n",
       "    <tr>\n",
       "      <th>25%</th>\n",
       "      <td>1250.000000</td>\n",
       "      <td>1999.000000</td>\n",
       "      <td>75.000000</td>\n",
       "      <td>125000.000000</td>\n",
       "      <td>3.000000</td>\n",
       "      <td>30880.000000</td>\n",
       "    </tr>\n",
       "    <tr>\n",
       "      <th>50%</th>\n",
       "      <td>3000.000000</td>\n",
       "      <td>2003.000000</td>\n",
       "      <td>110.000000</td>\n",
       "      <td>150000.000000</td>\n",
       "      <td>6.000000</td>\n",
       "      <td>50169.000000</td>\n",
       "    </tr>\n",
       "    <tr>\n",
       "      <th>75%</th>\n",
       "      <td>6900.000000</td>\n",
       "      <td>2007.000000</td>\n",
       "      <td>150.000000</td>\n",
       "      <td>150000.000000</td>\n",
       "      <td>9.000000</td>\n",
       "      <td>71711.000000</td>\n",
       "    </tr>\n",
       "    <tr>\n",
       "      <th>max</th>\n",
       "      <td>20000.000000</td>\n",
       "      <td>2016.000000</td>\n",
       "      <td>490.000000</td>\n",
       "      <td>150000.000000</td>\n",
       "      <td>12.000000</td>\n",
       "      <td>99998.000000</td>\n",
       "    </tr>\n",
       "  </tbody>\n",
       "</table>\n",
       "</div>"
      ],
      "text/plain": [
       "               price  registration_year          power      kilometer  \\\n",
       "count  302864.000000      302864.000000  302864.000000  302864.000000   \n",
       "mean     4749.757799        2002.749336     120.347522  128351.768451   \n",
       "std      4613.138811           6.597520      53.440986   36859.289952   \n",
       "min         0.000000        1910.000000       1.000000    5000.000000   \n",
       "25%      1250.000000        1999.000000      75.000000  125000.000000   \n",
       "50%      3000.000000        2003.000000     110.000000  150000.000000   \n",
       "75%      6900.000000        2007.000000     150.000000  150000.000000   \n",
       "max     20000.000000        2016.000000     490.000000  150000.000000   \n",
       "\n",
       "       registration_month    postal_code  \n",
       "count       302864.000000  302864.000000  \n",
       "mean             5.964238   51116.465744  \n",
       "std              3.599468   25810.631378  \n",
       "min              0.000000    1067.000000  \n",
       "25%              3.000000   30880.000000  \n",
       "50%              6.000000   50169.000000  \n",
       "75%              9.000000   71711.000000  \n",
       "max             12.000000   99998.000000  "
      ]
     },
     "execution_count": 10,
     "metadata": {},
     "output_type": "execute_result"
    }
   ],
   "source": [
    "df.describe()# проверим исправления"
   ]
  },
  {
   "cell_type": "markdown",
   "metadata": {},
   "source": [
    "Видим прямую зависимость цены от мощности автомобиля, чем мощнее авто,тем дороже его стоимость.\n",
    "\n",
    "Прямая корреляция цены наблюдается и с годом регистрации - чем новее автомобиль,тем дороже цена.\n",
    "\n",
    "Присутствует обратная корреляция цены с показателем пробега: чем больше пробег, тем дешевле авто.\n",
    "\n",
    "Автомобили с автоматической коробкой передач ценятся дороже, чем автомобили с механической.\n"
   ]
  },
  {
   "cell_type": "code",
   "execution_count": 12,
   "metadata": {},
   "outputs": [],
   "source": [
    "#удалим столбцы с датами и уберем строки, где цена равна 0.\n",
    "df = df.drop(['date_crawled','date_created','last_seen'],axis=1)\n",
    "df = df[df['price'] != 0]"
   ]
  },
  {
   "cell_type": "code",
   "execution_count": 13,
   "metadata": {
    "scrolled": true
   },
   "outputs": [
    {
     "data": {
      "text/plain": [
       "price                 0.000000\n",
       "vehicle_type          0.037235\n",
       "registration_year     0.000000\n",
       "gearbox               0.018150\n",
       "power                 0.000000\n",
       "model                 0.037747\n",
       "kilometer             0.000000\n",
       "registration_month    0.000000\n",
       "fuel_type             0.052491\n",
       "brand                 0.000000\n",
       "not_repaired          0.144820\n",
       "postal_code           0.000000\n",
       "dtype: float64"
      ]
     },
     "execution_count": 13,
     "metadata": {},
     "output_type": "execute_result"
    }
   ],
   "source": [
    "df.isna().mean() # доля пустот в данных"
   ]
  },
  {
   "cell_type": "markdown",
   "metadata": {},
   "source": [
    "### Работа с пропусками"
   ]
  },
  {
   "cell_type": "markdown",
   "metadata": {},
   "source": [
    "В столбце `vehicle_type` и `model`  заполнить пустоты конкретными данными не удастся, поэтому их либо удаляем, либо заполним заглушкой \"no_info\". Я выберу последнее.\n",
    "\n",
    "В столбцах `gearbox` и  `fuel_type` можем произвести замену пустот по принципу наиболее распространенных значений.\n",
    "В `gearbox` это значение manual, в `fuel_type` это значение petrol.\n",
    "\n",
    "В столбце `not_repaired` пустые значения будем принимать за \"no\", предполагая, что Nan значит,что машина не была разбита."
   ]
  },
  {
   "cell_type": "code",
   "execution_count": 14,
   "metadata": {},
   "outputs": [],
   "source": [
    "df['vehicle_type'] = df['vehicle_type'].fillna('no_info')\n",
    "df['model'] = df['model'].fillna('no_info')\n",
    "\n",
    "df['gearbox'] = df['gearbox'].fillna('manual')\n",
    "df['fuel_type'] = df['fuel_type'].fillna('petrol')\n",
    "\n",
    "df['not_repaired'] = df['not_repaired'].fillna('no')"
   ]
  },
  {
   "cell_type": "markdown",
   "metadata": {},
   "source": [
    "## Анализ моделей"
   ]
  },
  {
   "cell_type": "markdown",
   "metadata": {},
   "source": [
    "### Обучение модели LGBMRegressor"
   ]
  },
  {
   "cell_type": "code",
   "execution_count": 15,
   "metadata": {},
   "outputs": [],
   "source": [
    "#признаки и таргет.\n",
    "X = ['registration_year', 'power', 'kilometer', 'registration_month',\n",
    "       'postal_code','vehicle_type', 'gearbox', 'model', 'fuel_type', 'brand',\n",
    "       'not_repaired']\n",
    "#категориальные признаки.\n",
    "cat_features = ['vehicle_type', 'gearbox', 'model', 'fuel_type', 'brand',\n",
    "       'not_repaired']\n",
    "\n",
    "y = ['price']"
   ]
  },
  {
   "cell_type": "code",
   "execution_count": 16,
   "metadata": {},
   "outputs": [],
   "source": [
    "df_lgb = df.copy()\n",
    "df_lgb[cat_features] = df_lgb[cat_features].astype('category')"
   ]
  },
  {
   "cell_type": "code",
   "execution_count": 17,
   "metadata": {
    "scrolled": true
   },
   "outputs": [
    {
     "name": "stdout",
     "output_type": "stream",
     "text": [
      "(222354, 12) (74118, 12)\n"
     ]
    }
   ],
   "source": [
    "#обучающая и тестовая выборки\n",
    "train, test = train_test_split(df_lgb, test_size=0.25, random_state=42)\n",
    "print(train.shape, test.shape) #проверяем обьем выборок,деление произошло корректно"
   ]
  },
  {
   "cell_type": "code",
   "execution_count": 18,
   "metadata": {},
   "outputs": [
    {
     "name": "stdout",
     "output_type": "stream",
     "text": [
      "CPU times: user 1h 33min 28s, sys: 21.6 s, total: 1h 33min 50s\n",
      "Wall time: 1h 34min 36s\n"
     ]
    },
    {
     "data": {
      "text/plain": [
       "GridSearchCV(cv=5, estimator=LGBMRegressor(random_state=123),\n",
       "             param_grid={'learning_rate': [0.01, 0.05, 0.1, 0.2],\n",
       "                         'max_depth': range(1, 10),\n",
       "                         'n_estimators': [20, 50, 100],\n",
       "                         'num_leaves': [30, 31]},\n",
       "             scoring=make_scorer(rmse, greater_is_better=False))"
      ]
     },
     "execution_count": 18,
     "metadata": {},
     "output_type": "execute_result"
    }
   ],
   "source": [
    "%%time\n",
    "#объявляем модель\n",
    "model_lgb = lgb.LGBMRegressor(\n",
    "    n_jobs=-1,\n",
    "    random_state=123\n",
    ")\n",
    "params = {\n",
    "    'max_depth': range(1,10),\n",
    "    'num_leaves': [30, 31],\n",
    "    'learning_rate': [0.01, 0.05, 0.1,0.2],\n",
    "    'n_estimators': [20, 50, 100]\n",
    "}\n",
    "# функция расчета метрики RMSE\n",
    "def rmse(y_true, y_predicted):\n",
    "    return mean_squared_error(y_true, y_predicted, squared=False)  \n",
    "\n",
    "# мера, используемая при кросс-валидации - RMSE\n",
    "scoring = make_scorer(rmse, greater_is_better=False)\n",
    "\n",
    "grid_search_lgb = GridSearchCV(\n",
    "        estimator=model_lgb,\n",
    "        param_grid=params,\n",
    "        cv=5,\n",
    "        scoring=scoring,\n",
    "    )\n",
    "\n",
    "\n",
    "grid_search_lgb.fit(train[X], train[y].values.ravel())"
   ]
  },
  {
   "cell_type": "code",
   "execution_count": 19,
   "metadata": {},
   "outputs": [
    {
     "data": {
      "text/plain": [
       "{'learning_rate': 0.2, 'max_depth': 9, 'n_estimators': 100, 'num_leaves': 31}"
      ]
     },
     "execution_count": 19,
     "metadata": {},
     "output_type": "execute_result"
    }
   ],
   "source": [
    "grid_search_lgb.best_params_"
   ]
  },
  {
   "cell_type": "code",
   "execution_count": 20,
   "metadata": {},
   "outputs": [
    {
     "data": {
      "text/plain": [
       "-1593.8899769347593"
      ]
     },
     "execution_count": 20,
     "metadata": {},
     "output_type": "execute_result"
    }
   ],
   "source": [
    "grid_search_lgb.best_score_"
   ]
  },
  {
   "cell_type": "code",
   "execution_count": 21,
   "metadata": {},
   "outputs": [],
   "source": [
    "start_time = time.time()\n",
    "\n",
    "\n",
    "#обучаем модель на лучших параметрах \n",
    "model_lgb = lgb.LGBMRegressor(max_depth=9,\n",
    "                              num_leaves=31,learning_rate=0.2,\n",
    "                              n_estimators=100,n_jobs=-1,\n",
    "                              random_state=123).fit(train[X],train[y])\n",
    "\n",
    "\n",
    "t_lgb_f = (time.time() - start_time)"
   ]
  },
  {
   "cell_type": "code",
   "execution_count": 22,
   "metadata": {},
   "outputs": [
    {
     "data": {
      "text/plain": [
       "1587.6314924366"
      ]
     },
     "execution_count": 22,
     "metadata": {},
     "output_type": "execute_result"
    }
   ],
   "source": [
    "start_time = time.time()\n",
    "\n",
    "\n",
    "# предсказываем target на Тестовой выборке\n",
    "y_pred = model_lgb.predict(test[X])\n",
    "# считаем метрику RMSE, должна быть не больше 2500\n",
    "RMSE_lgb = mean_squared_error(test[y], y_pred,squared=False)\n",
    "t_lgb_p = (time.time() - start_time)\n",
    "\n",
    "\n",
    "RMSE_lgb"
   ]
  },
  {
   "cell_type": "markdown",
   "metadata": {},
   "source": [
    "С помощью GridSearchCV из библиотеки sklearn произвели поиск параметров для модели LGBMRegressor. Поиск гиперпараметров производился порядка 1.5-2часа. \n",
    "\n",
    "У модели LGBMRegressor метрика качества RMSE на тестовой выборке получилась 1587, что меньше заданного в задаче порогового значения. Цель достигнута."
   ]
  },
  {
   "cell_type": "markdown",
   "metadata": {},
   "source": [
    "### Обучение модели CatBoostRegressor"
   ]
  },
  {
   "cell_type": "code",
   "execution_count": 23,
   "metadata": {
    "scrolled": true
   },
   "outputs": [
    {
     "name": "stdout",
     "output_type": "stream",
     "text": [
      "(222354, 12) (74118, 12)\n"
     ]
    }
   ],
   "source": [
    "#обучающая и тестовая выборки\n",
    "train, test = train_test_split(df, test_size=0.25, random_state=42)\n",
    "print(train.shape, test.shape) #проверяем обьем выборок,деление произошло корректно"
   ]
  },
  {
   "cell_type": "code",
   "execution_count": 24,
   "metadata": {},
   "outputs": [],
   "source": [
    "#фичи и таргеты\n",
    "X = ['registration_year', 'power', 'kilometer', 'registration_month',\n",
    "       'postal_code','vehicle_type', 'gearbox', 'model', 'fuel_type', 'brand',\n",
    "       'not_repaired']\n",
    "\n",
    "#категориальные признаки\n",
    "cat_features = ['vehicle_type', 'gearbox', 'model', 'fuel_type', 'brand',\n",
    "       'not_repaired']\n",
    "\n",
    "y = ['price']"
   ]
  },
  {
   "cell_type": "code",
   "execution_count": 25,
   "metadata": {},
   "outputs": [],
   "source": [
    "#формируем тренировочный и тестовый датасет для кэтбуста\n",
    "train_data = Pool(data=train[X],\n",
    "                  label=train[y],\n",
    "                  cat_features=cat_features\n",
    "                 )\n",
    "test_data = Pool(data=test[X],\n",
    "                  label=test[y],\n",
    "                  cat_features=cat_features\n",
    "                 )"
   ]
  },
  {
   "cell_type": "code",
   "execution_count": 26,
   "metadata": {},
   "outputs": [],
   "source": [
    "#обозначим используемые параметры,которые будем подбирать кросс-валидацией.\n",
    "parametres = {'cat_features': cat_features,\n",
    "              'eval_metric': 'RMSE',\n",
    "          'loss_function': 'RMSE',\n",
    "              'random_seed': 42,\n",
    "              'verbose':100}"
   ]
  },
  {
   "cell_type": "code",
   "execution_count": 27,
   "metadata": {},
   "outputs": [
    {
     "name": "stdout",
     "output_type": "stream",
     "text": [
      "Training on fold [0/5]\n",
      "\n",
      "bestTest = 1655.327846\n",
      "bestIteration = 999\n",
      "\n",
      "Training on fold [1/5]\n",
      "\n",
      "bestTest = 1634.064329\n",
      "bestIteration = 999\n",
      "\n",
      "Training on fold [2/5]\n",
      "\n",
      "bestTest = 1645.36919\n",
      "bestIteration = 999\n",
      "\n",
      "Training on fold [3/5]\n",
      "\n",
      "bestTest = 1641.487912\n",
      "bestIteration = 999\n",
      "\n",
      "Training on fold [4/5]\n",
      "\n",
      "bestTest = 1656.989479\n",
      "bestIteration = 999\n",
      "\n"
     ]
    }
   ],
   "source": [
    "# запускаем кросс-валидацию, исполнение порядка 25 мин.\n",
    "\n",
    "cv_data = cv(\n",
    "    params = parametres,\n",
    "    pool = train_data,\n",
    "    fold_count=5,\n",
    "    shuffle=True,\n",
    "    partition_random_seed=42,\n",
    "    stratified=False,\n",
    "    verbose=False,\n",
    "    early_stopping_rounds=200\n",
    ")"
   ]
  },
  {
   "cell_type": "code",
   "execution_count": 28,
   "metadata": {
    "scrolled": true
   },
   "outputs": [
    {
     "data": {
      "text/html": [
       "<div>\n",
       "<style scoped>\n",
       "    .dataframe tbody tr th:only-of-type {\n",
       "        vertical-align: middle;\n",
       "    }\n",
       "\n",
       "    .dataframe tbody tr th {\n",
       "        vertical-align: top;\n",
       "    }\n",
       "\n",
       "    .dataframe thead th {\n",
       "        text-align: right;\n",
       "    }\n",
       "</style>\n",
       "<table border=\"1\" class=\"dataframe\">\n",
       "  <thead>\n",
       "    <tr style=\"text-align: right;\">\n",
       "      <th></th>\n",
       "      <th>iterations</th>\n",
       "      <th>test-RMSE-mean</th>\n",
       "      <th>test-RMSE-std</th>\n",
       "      <th>train-RMSE-mean</th>\n",
       "      <th>train-RMSE-std</th>\n",
       "    </tr>\n",
       "  </thead>\n",
       "  <tbody>\n",
       "    <tr>\n",
       "      <th>0</th>\n",
       "      <td>0</td>\n",
       "      <td>6521.461315</td>\n",
       "      <td>23.614537</td>\n",
       "      <td>6521.504003</td>\n",
       "      <td>6.335458</td>\n",
       "    </tr>\n",
       "    <tr>\n",
       "      <th>1</th>\n",
       "      <td>1</td>\n",
       "      <td>6358.875261</td>\n",
       "      <td>23.606253</td>\n",
       "      <td>6358.963894</td>\n",
       "      <td>6.022796</td>\n",
       "    </tr>\n",
       "    <tr>\n",
       "      <th>2</th>\n",
       "      <td>2</td>\n",
       "      <td>6200.816336</td>\n",
       "      <td>23.974962</td>\n",
       "      <td>6200.821118</td>\n",
       "      <td>5.401766</td>\n",
       "    </tr>\n",
       "    <tr>\n",
       "      <th>3</th>\n",
       "      <td>3</td>\n",
       "      <td>6050.301234</td>\n",
       "      <td>24.733154</td>\n",
       "      <td>6050.242955</td>\n",
       "      <td>4.509780</td>\n",
       "    </tr>\n",
       "    <tr>\n",
       "      <th>4</th>\n",
       "      <td>4</td>\n",
       "      <td>5902.734304</td>\n",
       "      <td>24.197323</td>\n",
       "      <td>5902.847712</td>\n",
       "      <td>4.914033</td>\n",
       "    </tr>\n",
       "  </tbody>\n",
       "</table>\n",
       "</div>"
      ],
      "text/plain": [
       "   iterations  test-RMSE-mean  test-RMSE-std  train-RMSE-mean  train-RMSE-std\n",
       "0           0     6521.461315      23.614537      6521.504003        6.335458\n",
       "1           1     6358.875261      23.606253      6358.963894        6.022796\n",
       "2           2     6200.816336      23.974962      6200.821118        5.401766\n",
       "3           3     6050.301234      24.733154      6050.242955        4.509780\n",
       "4           4     5902.734304      24.197323      5902.847712        4.914033"
      ]
     },
     "execution_count": 28,
     "metadata": {},
     "output_type": "execute_result"
    }
   ],
   "source": [
    "# посмотрим на получившийся датасет итераций и RMSE на каждом шагу \n",
    "cv_data.head(5)"
   ]
  },
  {
   "cell_type": "code",
   "execution_count": 29,
   "metadata": {},
   "outputs": [
    {
     "data": {
      "text/plain": [
       "1646.6477511954756"
      ]
     },
     "execution_count": 29,
     "metadata": {},
     "output_type": "execute_result"
    }
   ],
   "source": [
    "#минимальное значение метрики\n",
    "rmse_train = cv_data['test-RMSE-mean'].min()\n",
    "rmse_train"
   ]
  },
  {
   "cell_type": "code",
   "execution_count": 31,
   "metadata": {},
   "outputs": [
    {
     "name": "stdout",
     "output_type": "stream",
     "text": [
      "Learning rate set to 0.096164\n",
      "0:\tlearn: 4321.8326813\ttotal: 218ms\tremaining: 3m 38s\n",
      "100:\tlearn: 1746.2419941\ttotal: 15.6s\tremaining: 2m 18s\n",
      "200:\tlearn: 1659.2439730\ttotal: 31s\tremaining: 2m 3s\n",
      "300:\tlearn: 1617.5820215\ttotal: 45.8s\tremaining: 1m 46s\n",
      "400:\tlearn: 1589.7370876\ttotal: 1m\tremaining: 1m 30s\n",
      "500:\tlearn: 1569.9840435\ttotal: 1m 15s\tremaining: 1m 15s\n",
      "600:\tlearn: 1553.0331086\ttotal: 1m 31s\tremaining: 1m\n",
      "700:\tlearn: 1538.7987243\ttotal: 1m 46s\tremaining: 45.5s\n",
      "800:\tlearn: 1525.7771455\ttotal: 2m 2s\tremaining: 30.4s\n",
      "900:\tlearn: 1514.3210437\ttotal: 2m 17s\tremaining: 15.1s\n",
      "999:\tlearn: 1504.2647574\ttotal: 2m 32s\tremaining: 0us\n"
     ]
    }
   ],
   "source": [
    "start_time = time.time()\n",
    "\n",
    "model = CatBoostRegressor(**parametres).fit(train_data)\n",
    "\n",
    "t_cbr_f = (time.time() - start_time)"
   ]
  },
  {
   "cell_type": "code",
   "execution_count": 32,
   "metadata": {},
   "outputs": [
    {
     "data": {
      "text/plain": [
       "1574.9516797774497"
      ]
     },
     "execution_count": 32,
     "metadata": {},
     "output_type": "execute_result"
    }
   ],
   "source": [
    "start_time = time.time()\n",
    "\n",
    "\n",
    "predictions = model.predict(test_data)\n",
    "RMSE_cat = mean_squared_error(test[y], predictions,squared=False)\n",
    "t_cbr_p = (time.time() - start_time)\n",
    "\n",
    "RMSE_cat"
   ]
  },
  {
   "cell_type": "markdown",
   "metadata": {},
   "source": [
    "С помощью встроенной кросс-валидации произвели поиск гиперпараметров для модели CatBoostRegressor, данный процесс занял порядка 25 минут.\n",
    "\n",
    "Метрика качества RMSE  в данной модели CatBoostRegressor так же показала хороший результат, ее значение - 1574."
   ]
  },
  {
   "cell_type": "markdown",
   "metadata": {},
   "source": [
    "### Обучение моделей DummyRegressor и LinearRegression для сравнения результатов"
   ]
  },
  {
   "cell_type": "code",
   "execution_count": 33,
   "metadata": {
    "scrolled": true
   },
   "outputs": [
    {
     "data": {
      "text/html": [
       "<div>\n",
       "<style scoped>\n",
       "    .dataframe tbody tr th:only-of-type {\n",
       "        vertical-align: middle;\n",
       "    }\n",
       "\n",
       "    .dataframe tbody tr th {\n",
       "        vertical-align: top;\n",
       "    }\n",
       "\n",
       "    .dataframe thead th {\n",
       "        text-align: right;\n",
       "    }\n",
       "</style>\n",
       "<table border=\"1\" class=\"dataframe\">\n",
       "  <thead>\n",
       "    <tr style=\"text-align: right;\">\n",
       "      <th></th>\n",
       "      <th>price</th>\n",
       "      <th>registration_year</th>\n",
       "      <th>power</th>\n",
       "      <th>kilometer</th>\n",
       "      <th>registration_month</th>\n",
       "      <th>postal_code</th>\n",
       "      <th>vehicle_type_convertible</th>\n",
       "      <th>vehicle_type_coupe</th>\n",
       "      <th>vehicle_type_no_info</th>\n",
       "      <th>vehicle_type_other</th>\n",
       "      <th>...</th>\n",
       "      <th>brand_skoda</th>\n",
       "      <th>brand_smart</th>\n",
       "      <th>brand_sonstige_autos</th>\n",
       "      <th>brand_subaru</th>\n",
       "      <th>brand_suzuki</th>\n",
       "      <th>brand_toyota</th>\n",
       "      <th>brand_trabant</th>\n",
       "      <th>brand_volkswagen</th>\n",
       "      <th>brand_volvo</th>\n",
       "      <th>not_repaired_yes</th>\n",
       "    </tr>\n",
       "  </thead>\n",
       "  <tbody>\n",
       "    <tr>\n",
       "      <th>1</th>\n",
       "      <td>18300</td>\n",
       "      <td>2011</td>\n",
       "      <td>190</td>\n",
       "      <td>125000</td>\n",
       "      <td>5</td>\n",
       "      <td>66954</td>\n",
       "      <td>0</td>\n",
       "      <td>1</td>\n",
       "      <td>0</td>\n",
       "      <td>0</td>\n",
       "      <td>...</td>\n",
       "      <td>0</td>\n",
       "      <td>0</td>\n",
       "      <td>0</td>\n",
       "      <td>0</td>\n",
       "      <td>0</td>\n",
       "      <td>0</td>\n",
       "      <td>0</td>\n",
       "      <td>0</td>\n",
       "      <td>0</td>\n",
       "      <td>1</td>\n",
       "    </tr>\n",
       "    <tr>\n",
       "      <th>2</th>\n",
       "      <td>9800</td>\n",
       "      <td>2004</td>\n",
       "      <td>163</td>\n",
       "      <td>125000</td>\n",
       "      <td>8</td>\n",
       "      <td>90480</td>\n",
       "      <td>0</td>\n",
       "      <td>0</td>\n",
       "      <td>0</td>\n",
       "      <td>0</td>\n",
       "      <td>...</td>\n",
       "      <td>0</td>\n",
       "      <td>0</td>\n",
       "      <td>0</td>\n",
       "      <td>0</td>\n",
       "      <td>0</td>\n",
       "      <td>0</td>\n",
       "      <td>0</td>\n",
       "      <td>0</td>\n",
       "      <td>0</td>\n",
       "      <td>0</td>\n",
       "    </tr>\n",
       "    <tr>\n",
       "      <th>3</th>\n",
       "      <td>1500</td>\n",
       "      <td>2001</td>\n",
       "      <td>75</td>\n",
       "      <td>150000</td>\n",
       "      <td>6</td>\n",
       "      <td>91074</td>\n",
       "      <td>0</td>\n",
       "      <td>0</td>\n",
       "      <td>0</td>\n",
       "      <td>0</td>\n",
       "      <td>...</td>\n",
       "      <td>0</td>\n",
       "      <td>0</td>\n",
       "      <td>0</td>\n",
       "      <td>0</td>\n",
       "      <td>0</td>\n",
       "      <td>0</td>\n",
       "      <td>0</td>\n",
       "      <td>1</td>\n",
       "      <td>0</td>\n",
       "      <td>0</td>\n",
       "    </tr>\n",
       "    <tr>\n",
       "      <th>4</th>\n",
       "      <td>3600</td>\n",
       "      <td>2008</td>\n",
       "      <td>69</td>\n",
       "      <td>90000</td>\n",
       "      <td>7</td>\n",
       "      <td>60437</td>\n",
       "      <td>0</td>\n",
       "      <td>0</td>\n",
       "      <td>0</td>\n",
       "      <td>0</td>\n",
       "      <td>...</td>\n",
       "      <td>1</td>\n",
       "      <td>0</td>\n",
       "      <td>0</td>\n",
       "      <td>0</td>\n",
       "      <td>0</td>\n",
       "      <td>0</td>\n",
       "      <td>0</td>\n",
       "      <td>0</td>\n",
       "      <td>0</td>\n",
       "      <td>0</td>\n",
       "    </tr>\n",
       "    <tr>\n",
       "      <th>5</th>\n",
       "      <td>650</td>\n",
       "      <td>1995</td>\n",
       "      <td>102</td>\n",
       "      <td>150000</td>\n",
       "      <td>10</td>\n",
       "      <td>33775</td>\n",
       "      <td>0</td>\n",
       "      <td>0</td>\n",
       "      <td>0</td>\n",
       "      <td>0</td>\n",
       "      <td>...</td>\n",
       "      <td>0</td>\n",
       "      <td>0</td>\n",
       "      <td>0</td>\n",
       "      <td>0</td>\n",
       "      <td>0</td>\n",
       "      <td>0</td>\n",
       "      <td>0</td>\n",
       "      <td>0</td>\n",
       "      <td>0</td>\n",
       "      <td>1</td>\n",
       "    </tr>\n",
       "  </tbody>\n",
       "</table>\n",
       "<p>5 rows × 310 columns</p>\n",
       "</div>"
      ],
      "text/plain": [
       "   price  registration_year  power  kilometer  registration_month  \\\n",
       "1  18300               2011    190     125000                   5   \n",
       "2   9800               2004    163     125000                   8   \n",
       "3   1500               2001     75     150000                   6   \n",
       "4   3600               2008     69      90000                   7   \n",
       "5    650               1995    102     150000                  10   \n",
       "\n",
       "   postal_code  vehicle_type_convertible  vehicle_type_coupe  \\\n",
       "1        66954                         0                   1   \n",
       "2        90480                         0                   0   \n",
       "3        91074                         0                   0   \n",
       "4        60437                         0                   0   \n",
       "5        33775                         0                   0   \n",
       "\n",
       "   vehicle_type_no_info  vehicle_type_other  ...  brand_skoda  brand_smart  \\\n",
       "1                     0                   0  ...            0            0   \n",
       "2                     0                   0  ...            0            0   \n",
       "3                     0                   0  ...            0            0   \n",
       "4                     0                   0  ...            1            0   \n",
       "5                     0                   0  ...            0            0   \n",
       "\n",
       "   brand_sonstige_autos  brand_subaru  brand_suzuki  brand_toyota  \\\n",
       "1                     0             0             0             0   \n",
       "2                     0             0             0             0   \n",
       "3                     0             0             0             0   \n",
       "4                     0             0             0             0   \n",
       "5                     0             0             0             0   \n",
       "\n",
       "   brand_trabant  brand_volkswagen  brand_volvo  not_repaired_yes  \n",
       "1              0                 0            0                 1  \n",
       "2              0                 0            0                 0  \n",
       "3              0                 1            0                 0  \n",
       "4              0                 0            0                 0  \n",
       "5              0                 0            0                 1  \n",
       "\n",
       "[5 rows x 310 columns]"
      ]
     },
     "execution_count": 33,
     "metadata": {},
     "output_type": "execute_result"
    }
   ],
   "source": [
    "df_ohe = pd.get_dummies(df,drop_first=True)#метод OHE + избегаем дамми-ловушку.\n",
    "df_ohe.head()"
   ]
  },
  {
   "cell_type": "code",
   "execution_count": 34,
   "metadata": {
    "scrolled": true
   },
   "outputs": [
    {
     "name": "stdout",
     "output_type": "stream",
     "text": [
      "(222354, 310) (74118, 310)\n"
     ]
    }
   ],
   "source": [
    "train, test = train_test_split(df_ohe, test_size=0.25, random_state=42)\n",
    "print(train.shape, test.shape) #проверяем обьем выборок,деление произошло корректно"
   ]
  },
  {
   "cell_type": "code",
   "execution_count": 35,
   "metadata": {},
   "outputs": [],
   "source": [
    "train_features = train.drop('price',axis=1)\n",
    "train_target = train['price']\n",
    "\n",
    "test_features = test.drop('price',axis=1)\n",
    "test_target = test['price']"
   ]
  },
  {
   "cell_type": "code",
   "execution_count": 36,
   "metadata": {},
   "outputs": [],
   "source": [
    "start_time = time.time()\n",
    "\n",
    "dummy_r = DummyRegressor(strategy=\"mean\").fit(train_features, train_target)\n",
    "t_dummy_f = (time.time() - start_time)"
   ]
  },
  {
   "cell_type": "code",
   "execution_count": 37,
   "metadata": {},
   "outputs": [
    {
     "data": {
      "text/plain": [
       "4611.487567525834"
      ]
     },
     "execution_count": 37,
     "metadata": {},
     "output_type": "execute_result"
    }
   ],
   "source": [
    "start_time = time.time()\n",
    "\n",
    "pred = dummy_r.predict(test_features)\n",
    "RMSE_dummy = mean_squared_error(test_target, pred,squared=False)\n",
    "t_dummy_p = (time.time() - start_time)\n",
    "\n",
    "RMSE_dummy"
   ]
  },
  {
   "cell_type": "code",
   "execution_count": 38,
   "metadata": {},
   "outputs": [],
   "source": [
    "start_time = time.time()\n",
    "\n",
    "lin_reg = LinearRegression().fit(train_features, train_target)\n",
    "\n",
    "t_lin_f= (time.time() - start_time)"
   ]
  },
  {
   "cell_type": "code",
   "execution_count": 39,
   "metadata": {},
   "outputs": [
    {
     "data": {
      "text/plain": [
       "2590.536218930414"
      ]
     },
     "execution_count": 39,
     "metadata": {},
     "output_type": "execute_result"
    }
   ],
   "source": [
    "start_time = time.time()\n",
    "\n",
    "pred_lin = lin_reg.predict(test_features)\n",
    "RMSE_lin = mean_squared_error(test_target, pred_lin,squared=False)\n",
    "\n",
    "t_lin_p = (time.time() - start_time)\n",
    "\n",
    "RMSE_lin"
   ]
  },
  {
   "cell_type": "markdown",
   "metadata": {},
   "source": [
    "# Выводы"
   ]
  },
  {
   "cell_type": "markdown",
   "metadata": {},
   "source": [
    "Подведем итоги нашего эксперимента. Обратим внимание на временные ресурсы, затраченные при работе с моделями: "
   ]
  },
  {
   "cell_type": "code",
   "execution_count": 40,
   "metadata": {},
   "outputs": [
    {
     "data": {
      "text/html": [
       "<div>\n",
       "<style scoped>\n",
       "    .dataframe tbody tr th:only-of-type {\n",
       "        vertical-align: middle;\n",
       "    }\n",
       "\n",
       "    .dataframe tbody tr th {\n",
       "        vertical-align: top;\n",
       "    }\n",
       "\n",
       "    .dataframe thead th {\n",
       "        text-align: right;\n",
       "    }\n",
       "</style>\n",
       "<table border=\"1\" class=\"dataframe\">\n",
       "  <thead>\n",
       "    <tr style=\"text-align: right;\">\n",
       "      <th></th>\n",
       "      <th>LightGBM</th>\n",
       "      <th>CatBoostRegressor</th>\n",
       "      <th>linearRegression</th>\n",
       "      <th>DummyRegressor</th>\n",
       "    </tr>\n",
       "  </thead>\n",
       "  <tbody>\n",
       "    <tr>\n",
       "      <th>Время обучения</th>\n",
       "      <td>4.865045</td>\n",
       "      <td>154.968789</td>\n",
       "      <td>20.038655</td>\n",
       "      <td>0.000902</td>\n",
       "    </tr>\n",
       "    <tr>\n",
       "      <th>Время предсказания</th>\n",
       "      <td>0.597336</td>\n",
       "      <td>0.376136</td>\n",
       "      <td>0.226436</td>\n",
       "      <td>0.001760</td>\n",
       "    </tr>\n",
       "    <tr>\n",
       "      <th>Качество предсказания,RMSE</th>\n",
       "      <td>1587.631492</td>\n",
       "      <td>1574.951680</td>\n",
       "      <td>2590.536219</td>\n",
       "      <td>4611.487568</td>\n",
       "    </tr>\n",
       "  </tbody>\n",
       "</table>\n",
       "</div>"
      ],
      "text/plain": [
       "                               LightGBM  CatBoostRegressor  linearRegression  \\\n",
       "Время обучения                 4.865045         154.968789         20.038655   \n",
       "Время предсказания             0.597336           0.376136          0.226436   \n",
       "Качество предсказания,RMSE  1587.631492        1574.951680       2590.536219   \n",
       "\n",
       "                            DummyRegressor  \n",
       "Время обучения                    0.000902  \n",
       "Время предсказания                0.001760  \n",
       "Качество предсказания,RMSE     4611.487568  "
      ]
     },
     "execution_count": 40,
     "metadata": {},
     "output_type": "execute_result"
    }
   ],
   "source": [
    "table = pd.DataFrame(index=['Время обучения','Время предсказания','Качество предсказания,RMSE'],\n",
    "                    data={\n",
    "  \"LightGBM\": [t_lgb_f, t_lgb_p, RMSE_lgb],\n",
    "  \"CatBoostRegressor\": [t_cbr_f, t_cbr_p, RMSE_cat],\n",
    "  'linearRegression': [t_lin_f, t_lin_p, RMSE_lin],\n",
    "  'DummyRegressor': [t_dummy_f, t_dummy_p, RMSE_dummy]\n",
    "})\n",
    "table"
   ]
  },
  {
   "cell_type": "markdown",
   "metadata": {},
   "source": [
    "Мы видим, что наилучшим значением метрики RMSE было значние, полученное моделью CatBoost. Данная модель удабна тем, что к ее обучению не требуется переделывать или кодировать данные,  она сама умеет обрабатывать категориальные переменные в задачах регрессии.\n",
    "\n",
    "Простые модели, такие как лин.регрессия или dummy-модель конечно могут предсказать данные, но значения RMSE будет значительно хуже, а так же требуется дополнительное кодирование категориальных переменных, чтобы рассчитать задачу регрессии.\n",
    "\n",
    "Модель LightGBM тоже практически не требует подготовки данных для обучения, это безусловно,большой плюс. работает данная модель тоже быстро. Подбор гиперпараметров через GridSearch достаточно долго обрабатывался, но зато результат метрики на тестовой выборке отличный."
   ]
  },
  {
   "cell_type": "code",
   "execution_count": null,
   "metadata": {},
   "outputs": [],
   "source": []
  }
 ],
 "metadata": {
  "ExecuteTimeLog": [
   {
    "duration": 42,
    "start_time": "2022-06-15T21:16:13.833Z"
   },
   {
    "duration": 1071,
    "start_time": "2022-06-15T21:18:29.260Z"
   },
   {
    "duration": 1883,
    "start_time": "2022-06-15T21:18:30.332Z"
   },
   {
    "duration": 121,
    "start_time": "2022-06-15T21:18:32.216Z"
   },
   {
    "duration": 110,
    "start_time": "2022-06-15T21:18:32.339Z"
   },
   {
    "duration": 86,
    "start_time": "2022-06-15T21:18:32.451Z"
   },
   {
    "duration": 36,
    "start_time": "2022-06-15T21:18:32.538Z"
   },
   {
    "duration": 26,
    "start_time": "2022-06-15T21:18:32.575Z"
   },
   {
    "duration": 71,
    "start_time": "2022-06-15T21:18:32.603Z"
   },
   {
    "duration": 79,
    "start_time": "2022-06-15T21:18:32.676Z"
   },
   {
    "duration": 433,
    "start_time": "2022-06-15T21:18:32.757Z"
   },
   {
    "duration": 57,
    "start_time": "2022-06-15T21:18:33.191Z"
   },
   {
    "duration": 81,
    "start_time": "2022-06-15T21:18:33.250Z"
   },
   {
    "duration": 63,
    "start_time": "2022-06-15T21:18:33.332Z"
   },
   {
    "duration": 80,
    "start_time": "2022-06-15T21:18:54.633Z"
   },
   {
    "duration": 46,
    "start_time": "2022-06-16T06:53:22.786Z"
   },
   {
    "duration": 1136,
    "start_time": "2022-06-16T06:53:28.315Z"
   },
   {
    "duration": 1968,
    "start_time": "2022-06-16T06:53:29.453Z"
   },
   {
    "duration": 136,
    "start_time": "2022-06-16T06:53:31.422Z"
   },
   {
    "duration": 107,
    "start_time": "2022-06-16T06:53:31.560Z"
   },
   {
    "duration": 41,
    "start_time": "2022-06-16T06:53:31.669Z"
   },
   {
    "duration": 24,
    "start_time": "2022-06-16T06:53:33.864Z"
   },
   {
    "duration": 70,
    "start_time": "2022-06-16T06:54:50.777Z"
   },
   {
    "duration": 10,
    "start_time": "2022-06-16T06:54:54.531Z"
   },
   {
    "duration": 7,
    "start_time": "2022-06-16T06:54:57.557Z"
   },
   {
    "duration": 1702,
    "start_time": "2022-06-16T06:55:19.627Z"
   },
   {
    "duration": 5,
    "start_time": "2022-06-16T06:57:41.809Z"
   },
   {
    "duration": 190,
    "start_time": "2022-06-16T06:58:53.912Z"
   },
   {
    "duration": 98,
    "start_time": "2022-06-16T07:01:00.501Z"
   },
   {
    "duration": 20,
    "start_time": "2022-06-16T07:05:16.075Z"
   },
   {
    "duration": 14,
    "start_time": "2022-06-16T07:05:25.180Z"
   },
   {
    "duration": 9,
    "start_time": "2022-06-16T07:06:00.683Z"
   },
   {
    "duration": 9,
    "start_time": "2022-06-16T07:06:18.737Z"
   },
   {
    "duration": 8,
    "start_time": "2022-06-16T07:06:24.930Z"
   },
   {
    "duration": 9,
    "start_time": "2022-06-16T07:06:30.056Z"
   },
   {
    "duration": 9,
    "start_time": "2022-06-16T07:06:44.787Z"
   },
   {
    "duration": 8,
    "start_time": "2022-06-16T07:06:56.539Z"
   },
   {
    "duration": 14,
    "start_time": "2022-06-16T07:07:05.288Z"
   },
   {
    "duration": 80,
    "start_time": "2022-06-16T07:14:30.230Z"
   },
   {
    "duration": 32,
    "start_time": "2022-06-16T07:15:08.213Z"
   },
   {
    "duration": 9,
    "start_time": "2022-06-16T07:15:10.475Z"
   },
   {
    "duration": 79,
    "start_time": "2022-06-16T07:15:12.546Z"
   },
   {
    "duration": 150,
    "start_time": "2022-06-16T07:18:38.483Z"
   },
   {
    "duration": 3,
    "start_time": "2022-06-16T07:19:08.002Z"
   },
   {
    "duration": 9,
    "start_time": "2022-06-16T07:21:06.309Z"
   },
   {
    "duration": 15,
    "start_time": "2022-06-16T07:21:19.176Z"
   },
   {
    "duration": 7,
    "start_time": "2022-06-16T07:21:28.523Z"
   },
   {
    "duration": 9,
    "start_time": "2022-06-16T07:21:34.144Z"
   },
   {
    "duration": 72,
    "start_time": "2022-06-16T07:21:50.258Z"
   },
   {
    "duration": 3,
    "start_time": "2022-06-16T07:21:59.873Z"
   },
   {
    "duration": 1691,
    "start_time": "2022-06-16T07:21:59.878Z"
   },
   {
    "duration": 129,
    "start_time": "2022-06-16T07:22:01.571Z"
   },
   {
    "duration": 95,
    "start_time": "2022-06-16T07:22:01.701Z"
   },
   {
    "duration": 74,
    "start_time": "2022-06-16T07:22:01.798Z"
   },
   {
    "duration": 37,
    "start_time": "2022-06-16T07:22:01.874Z"
   },
   {
    "duration": 10,
    "start_time": "2022-06-16T07:22:01.913Z"
   },
   {
    "duration": 16,
    "start_time": "2022-06-16T07:22:09.031Z"
   },
   {
    "duration": 8,
    "start_time": "2022-06-16T07:22:13.112Z"
   },
   {
    "duration": 9,
    "start_time": "2022-06-16T07:22:20.249Z"
   },
   {
    "duration": 11,
    "start_time": "2022-06-16T07:22:27.392Z"
   },
   {
    "duration": 74,
    "start_time": "2022-06-16T07:22:42.339Z"
   },
   {
    "duration": 3,
    "start_time": "2022-06-16T07:25:40.428Z"
   },
   {
    "duration": 1621,
    "start_time": "2022-06-16T07:25:40.434Z"
   },
   {
    "duration": 130,
    "start_time": "2022-06-16T07:25:42.056Z"
   },
   {
    "duration": 94,
    "start_time": "2022-06-16T07:25:42.188Z"
   },
   {
    "duration": 75,
    "start_time": "2022-06-16T07:25:42.284Z"
   },
   {
    "duration": 34,
    "start_time": "2022-06-16T07:25:42.361Z"
   },
   {
    "duration": 9,
    "start_time": "2022-06-16T07:25:42.397Z"
   },
   {
    "duration": 100,
    "start_time": "2022-06-16T07:25:42.408Z"
   },
   {
    "duration": 76,
    "start_time": "2022-06-16T07:25:42.511Z"
   },
   {
    "duration": 3,
    "start_time": "2022-06-16T07:25:42.588Z"
   },
   {
    "duration": 22,
    "start_time": "2022-06-16T07:25:53.569Z"
   },
   {
    "duration": 70,
    "start_time": "2022-06-16T07:25:56.054Z"
   },
   {
    "duration": 32,
    "start_time": "2022-06-16T07:29:17.695Z"
   },
   {
    "duration": 25,
    "start_time": "2022-06-16T07:30:57.030Z"
   },
   {
    "duration": 70,
    "start_time": "2022-06-16T07:31:02.675Z"
   },
   {
    "duration": 32,
    "start_time": "2022-06-16T07:31:09.077Z"
   },
   {
    "duration": 3,
    "start_time": "2022-06-16T07:31:17.835Z"
   },
   {
    "duration": 1542,
    "start_time": "2022-06-16T07:31:17.841Z"
   },
   {
    "duration": 132,
    "start_time": "2022-06-16T07:31:19.385Z"
   },
   {
    "duration": 89,
    "start_time": "2022-06-16T07:31:19.519Z"
   },
   {
    "duration": 72,
    "start_time": "2022-06-16T07:31:19.610Z"
   },
   {
    "duration": 31,
    "start_time": "2022-06-16T07:31:19.684Z"
   },
   {
    "duration": 8,
    "start_time": "2022-06-16T07:31:19.717Z"
   },
   {
    "duration": 91,
    "start_time": "2022-06-16T07:31:19.726Z"
   },
   {
    "duration": 79,
    "start_time": "2022-06-16T07:31:19.819Z"
   },
   {
    "duration": 3,
    "start_time": "2022-06-16T07:31:19.900Z"
   },
   {
    "duration": 55,
    "start_time": "2022-06-16T07:31:19.905Z"
   },
   {
    "duration": 73,
    "start_time": "2022-06-16T07:31:19.961Z"
   },
   {
    "duration": 31,
    "start_time": "2022-06-16T07:31:23.313Z"
   },
   {
    "duration": 19,
    "start_time": "2022-06-16T07:33:12.598Z"
   },
   {
    "duration": 29,
    "start_time": "2022-06-16T07:33:23.718Z"
   },
   {
    "duration": 42,
    "start_time": "2022-06-16T07:34:12.631Z"
   },
   {
    "duration": 31,
    "start_time": "2022-06-16T07:34:17.565Z"
   },
   {
    "duration": 36,
    "start_time": "2022-06-16T07:34:25.566Z"
   },
   {
    "duration": 163,
    "start_time": "2022-06-16T07:44:55.939Z"
   },
   {
    "duration": 94,
    "start_time": "2022-06-16T07:45:29.634Z"
   },
   {
    "duration": 12,
    "start_time": "2022-06-16T07:47:59.904Z"
   },
   {
    "duration": 11,
    "start_time": "2022-06-16T07:48:03.605Z"
   },
   {
    "duration": 27,
    "start_time": "2022-06-16T07:50:32.108Z"
   },
   {
    "duration": 52,
    "start_time": "2022-06-16T07:50:36.435Z"
   },
   {
    "duration": 40,
    "start_time": "2022-06-16T07:51:07.881Z"
   },
   {
    "duration": 5,
    "start_time": "2022-06-16T07:51:42.099Z"
   },
   {
    "duration": 37,
    "start_time": "2022-06-16T07:53:25.364Z"
   },
   {
    "duration": 33,
    "start_time": "2022-06-16T07:58:59.007Z"
   },
   {
    "duration": 33,
    "start_time": "2022-06-16T07:59:49.237Z"
   },
   {
    "duration": 30,
    "start_time": "2022-06-16T08:18:52.412Z"
   },
   {
    "duration": 639,
    "start_time": "2022-06-16T08:19:03.075Z"
   },
   {
    "duration": 438,
    "start_time": "2022-06-16T08:19:06.814Z"
   },
   {
    "duration": 107,
    "start_time": "2022-06-16T08:19:10.653Z"
   },
   {
    "duration": 4095,
    "start_time": "2022-06-16T08:19:19.773Z"
   },
   {
    "duration": 110,
    "start_time": "2022-06-16T08:19:32.166Z"
   },
   {
    "duration": 124,
    "start_time": "2022-06-16T08:20:04.852Z"
   },
   {
    "duration": 10,
    "start_time": "2022-06-16T08:29:16.929Z"
   },
   {
    "duration": 113,
    "start_time": "2022-06-16T08:29:23.590Z"
   },
   {
    "duration": 4,
    "start_time": "2022-06-16T08:30:13.528Z"
   },
   {
    "duration": 42,
    "start_time": "2022-06-16T20:08:20.754Z"
   },
   {
    "duration": 1230,
    "start_time": "2022-06-17T05:06:17.423Z"
   },
   {
    "duration": 1531,
    "start_time": "2022-06-17T05:06:18.655Z"
   },
   {
    "duration": 149,
    "start_time": "2022-06-17T05:06:20.188Z"
   },
   {
    "duration": 92,
    "start_time": "2022-06-17T05:06:20.339Z"
   },
   {
    "duration": 104,
    "start_time": "2022-06-17T05:06:20.433Z"
   },
   {
    "duration": 49,
    "start_time": "2022-06-17T05:06:20.539Z"
   },
   {
    "duration": 24,
    "start_time": "2022-06-17T05:07:00.890Z"
   },
   {
    "duration": 23,
    "start_time": "2022-06-17T05:27:26.901Z"
   },
   {
    "duration": 25,
    "start_time": "2022-06-17T05:27:41.106Z"
   },
   {
    "duration": 78,
    "start_time": "2022-06-17T05:30:09.548Z"
   },
   {
    "duration": 66,
    "start_time": "2022-06-17T05:30:14.628Z"
   },
   {
    "duration": 44,
    "start_time": "2022-06-17T05:30:19.153Z"
   },
   {
    "duration": 80,
    "start_time": "2022-06-17T05:30:21.576Z"
   },
   {
    "duration": 108,
    "start_time": "2022-06-17T05:30:31.376Z"
   },
   {
    "duration": 12610,
    "start_time": "2022-06-17T05:31:01.492Z"
   },
   {
    "duration": 68,
    "start_time": "2022-06-17T05:31:54.830Z"
   },
   {
    "duration": 28143,
    "start_time": "2022-06-17T05:33:43.057Z"
   },
   {
    "duration": 27,
    "start_time": "2022-06-17T05:36:30.402Z"
   },
   {
    "duration": 24568,
    "start_time": "2022-06-17T05:36:37.599Z"
   },
   {
    "duration": 188,
    "start_time": "2022-06-17T05:37:48.917Z"
   },
   {
    "duration": 185,
    "start_time": "2022-06-17T05:38:09.216Z"
   },
   {
    "duration": 3362,
    "start_time": "2022-06-17T05:39:34.150Z"
   },
   {
    "duration": 8654,
    "start_time": "2022-06-17T05:40:31.593Z"
   },
   {
    "duration": 20296,
    "start_time": "2022-06-17T05:42:11.544Z"
   },
   {
    "duration": 19,
    "start_time": "2022-06-17T05:45:48.833Z"
   },
   {
    "duration": 2270,
    "start_time": "2022-06-17T05:51:52.877Z"
   },
   {
    "duration": 46,
    "start_time": "2022-06-17T06:05:14.783Z"
   },
   {
    "duration": 1284,
    "start_time": "2022-06-17T06:05:21.598Z"
   },
   {
    "duration": 1980,
    "start_time": "2022-06-17T06:05:22.884Z"
   },
   {
    "duration": 125,
    "start_time": "2022-06-17T06:05:24.866Z"
   },
   {
    "duration": 102,
    "start_time": "2022-06-17T06:05:24.993Z"
   },
   {
    "duration": 82,
    "start_time": "2022-06-17T06:05:28.283Z"
   },
   {
    "duration": 853,
    "start_time": "2022-06-17T06:05:46.828Z"
   },
   {
    "duration": 6091,
    "start_time": "2022-06-17T06:10:46.192Z"
   },
   {
    "duration": 4,
    "start_time": "2022-06-17T06:20:47.624Z"
   },
   {
    "duration": 1842,
    "start_time": "2022-06-17T06:20:47.630Z"
   },
   {
    "duration": 128,
    "start_time": "2022-06-17T06:20:49.474Z"
   },
   {
    "duration": 188,
    "start_time": "2022-06-17T06:20:49.605Z"
   },
   {
    "duration": 843,
    "start_time": "2022-06-17T06:20:49.794Z"
   },
   {
    "duration": 78,
    "start_time": "2022-06-17T06:20:50.638Z"
   },
   {
    "duration": 46,
    "start_time": "2022-06-17T06:20:50.718Z"
   },
   {
    "duration": 47,
    "start_time": "2022-06-17T06:20:50.766Z"
   },
   {
    "duration": 95,
    "start_time": "2022-06-17T06:20:50.816Z"
   },
   {
    "duration": 83,
    "start_time": "2022-06-17T06:20:50.913Z"
   },
   {
    "duration": 3,
    "start_time": "2022-06-17T06:20:50.997Z"
   },
   {
    "duration": 54,
    "start_time": "2022-06-17T06:20:51.002Z"
   },
   {
    "duration": 67,
    "start_time": "2022-06-17T06:20:51.058Z"
   },
   {
    "duration": 92,
    "start_time": "2022-06-17T06:20:51.126Z"
   },
   {
    "duration": 57,
    "start_time": "2022-06-17T06:21:32.791Z"
   },
   {
    "duration": 9,
    "start_time": "2022-06-17T06:21:51.938Z"
   },
   {
    "duration": 4,
    "start_time": "2022-06-17T06:43:49.296Z"
   },
   {
    "duration": 1735,
    "start_time": "2022-06-17T06:43:49.302Z"
   },
   {
    "duration": 168,
    "start_time": "2022-06-17T06:43:51.039Z"
   },
   {
    "duration": 120,
    "start_time": "2022-06-17T06:43:51.210Z"
   },
   {
    "duration": 1011,
    "start_time": "2022-06-17T06:43:51.332Z"
   },
   {
    "duration": 93,
    "start_time": "2022-06-17T06:43:52.345Z"
   },
   {
    "duration": 47,
    "start_time": "2022-06-17T06:43:52.440Z"
   },
   {
    "duration": 26,
    "start_time": "2022-06-17T06:43:52.489Z"
   },
   {
    "duration": 97,
    "start_time": "2022-06-17T06:43:52.517Z"
   },
   {
    "duration": 81,
    "start_time": "2022-06-17T06:43:52.615Z"
   },
   {
    "duration": 2,
    "start_time": "2022-06-17T06:43:52.698Z"
   },
   {
    "duration": 63,
    "start_time": "2022-06-17T06:43:52.701Z"
   },
   {
    "duration": 106,
    "start_time": "2022-06-17T06:43:52.767Z"
   },
   {
    "duration": 115,
    "start_time": "2022-06-17T06:43:52.878Z"
   },
   {
    "duration": 87,
    "start_time": "2022-06-17T06:43:52.995Z"
   },
   {
    "duration": 13,
    "start_time": "2022-06-17T06:43:53.086Z"
   },
   {
    "duration": 16,
    "start_time": "2022-06-17T06:43:53.101Z"
   },
   {
    "duration": 377,
    "start_time": "2022-06-17T06:43:53.119Z"
   },
   {
    "duration": 3,
    "start_time": "2022-06-17T06:43:55.339Z"
   },
   {
    "duration": 17,
    "start_time": "2022-06-17T06:44:09.707Z"
   },
   {
    "duration": 10,
    "start_time": "2022-06-17T06:44:29.113Z"
   },
   {
    "duration": 3,
    "start_time": "2022-06-17T06:44:34.911Z"
   },
   {
    "duration": 67,
    "start_time": "2022-06-17T06:44:37.924Z"
   },
   {
    "duration": 36,
    "start_time": "2022-06-17T07:03:14.178Z"
   },
   {
    "duration": 35,
    "start_time": "2022-06-17T07:05:55.135Z"
   },
   {
    "duration": 37,
    "start_time": "2022-06-17T07:05:57.614Z"
   },
   {
    "duration": 33,
    "start_time": "2022-06-17T07:07:24.307Z"
   },
   {
    "duration": 23,
    "start_time": "2022-06-17T07:11:56.430Z"
   },
   {
    "duration": 5,
    "start_time": "2022-06-17T07:12:02.032Z"
   },
   {
    "duration": 42,
    "start_time": "2022-06-17T07:12:04.116Z"
   },
   {
    "duration": 40,
    "start_time": "2022-06-17T07:12:19.137Z"
   },
   {
    "duration": 5,
    "start_time": "2022-06-17T07:12:36.107Z"
   },
   {
    "duration": 28,
    "start_time": "2022-06-17T07:12:38.705Z"
   },
   {
    "duration": 4,
    "start_time": "2022-06-17T07:27:03.643Z"
   },
   {
    "duration": 11,
    "start_time": "2022-06-17T07:27:06.497Z"
   },
   {
    "duration": 12,
    "start_time": "2022-06-17T07:27:48.042Z"
   },
   {
    "duration": 9,
    "start_time": "2022-06-17T07:31:20.303Z"
   },
   {
    "duration": 18,
    "start_time": "2022-06-17T07:31:30.423Z"
   },
   {
    "duration": 16,
    "start_time": "2022-06-17T07:32:34.831Z"
   },
   {
    "duration": 3,
    "start_time": "2022-06-17T07:32:36.794Z"
   },
   {
    "duration": 15,
    "start_time": "2022-06-17T07:32:39.245Z"
   },
   {
    "duration": 4,
    "start_time": "2022-06-17T07:33:07.640Z"
   },
   {
    "duration": 16,
    "start_time": "2022-06-17T07:33:10.901Z"
   },
   {
    "duration": 4,
    "start_time": "2022-06-17T07:35:09.948Z"
   },
   {
    "duration": 20,
    "start_time": "2022-06-17T07:35:12.588Z"
   },
   {
    "duration": 4,
    "start_time": "2022-06-17T07:36:07.713Z"
   },
   {
    "duration": 1630,
    "start_time": "2022-06-17T07:36:09.504Z"
   },
   {
    "duration": 3,
    "start_time": "2022-06-17T07:43:58.286Z"
   },
   {
    "duration": 43,
    "start_time": "2022-06-17T07:44:00.146Z"
   },
   {
    "duration": 11,
    "start_time": "2022-06-17T07:44:21.421Z"
   },
   {
    "duration": 79,
    "start_time": "2022-06-17T07:44:24.432Z"
   },
   {
    "duration": 3,
    "start_time": "2022-06-17T07:44:57.719Z"
   },
   {
    "duration": 25,
    "start_time": "2022-06-17T07:44:59.428Z"
   },
   {
    "duration": 12,
    "start_time": "2022-06-17T07:45:25.400Z"
   },
   {
    "duration": 38,
    "start_time": "2022-06-17T07:46:19.113Z"
   },
   {
    "duration": 43,
    "start_time": "2022-06-17T07:46:56.357Z"
   },
   {
    "duration": 40,
    "start_time": "2022-06-17T07:47:14.354Z"
   },
   {
    "duration": 54,
    "start_time": "2022-06-17T07:47:21.592Z"
   },
   {
    "duration": 4,
    "start_time": "2022-06-17T07:50:38.862Z"
   },
   {
    "duration": 55,
    "start_time": "2022-06-17T07:51:36.882Z"
   },
   {
    "duration": 51,
    "start_time": "2022-06-17T07:52:23.240Z"
   },
   {
    "duration": 178,
    "start_time": "2022-06-17T07:52:49.166Z"
   },
   {
    "duration": 58,
    "start_time": "2022-06-17T07:53:35.401Z"
   },
   {
    "duration": 131,
    "start_time": "2022-06-17T07:54:58.551Z"
   },
   {
    "duration": 26,
    "start_time": "2022-06-17T08:04:11.004Z"
   },
   {
    "duration": 143,
    "start_time": "2022-06-17T08:06:40.100Z"
   },
   {
    "duration": 35,
    "start_time": "2022-06-17T08:07:11.045Z"
   },
   {
    "duration": 3,
    "start_time": "2022-06-17T08:07:20.478Z"
   },
   {
    "duration": 138,
    "start_time": "2022-06-17T08:07:39.967Z"
   },
   {
    "duration": 199,
    "start_time": "2022-06-17T08:07:54.352Z"
   },
   {
    "duration": 24,
    "start_time": "2022-06-17T08:08:24.254Z"
   },
   {
    "duration": 34,
    "start_time": "2022-06-17T08:09:42.240Z"
   },
   {
    "duration": 4,
    "start_time": "2022-06-17T08:10:06.517Z"
   },
   {
    "duration": 33,
    "start_time": "2022-06-17T08:10:44.417Z"
   },
   {
    "duration": 131,
    "start_time": "2022-06-17T08:12:07.297Z"
   },
   {
    "duration": 55,
    "start_time": "2022-06-17T08:12:37.780Z"
   },
   {
    "duration": 83,
    "start_time": "2022-06-17T08:12:49.043Z"
   },
   {
    "duration": 3,
    "start_time": "2022-06-17T08:19:25.128Z"
   },
   {
    "duration": 34,
    "start_time": "2022-06-17T08:23:43.550Z"
   },
   {
    "duration": 114,
    "start_time": "2022-06-17T08:24:30.316Z"
   },
   {
    "duration": 63,
    "start_time": "2022-06-17T08:28:17.459Z"
   },
   {
    "duration": 31,
    "start_time": "2022-06-17T08:28:24.574Z"
   },
   {
    "duration": 122,
    "start_time": "2022-06-17T08:28:29.957Z"
   },
   {
    "duration": 222,
    "start_time": "2022-06-17T08:28:48.707Z"
   },
   {
    "duration": 133,
    "start_time": "2022-06-17T08:28:51.852Z"
   },
   {
    "duration": 46,
    "start_time": "2022-06-17T08:29:03.779Z"
   },
   {
    "duration": 213,
    "start_time": "2022-06-17T08:29:15.491Z"
   },
   {
    "duration": 4,
    "start_time": "2022-06-17T08:31:05.497Z"
   },
   {
    "duration": 2113,
    "start_time": "2022-06-17T08:31:05.504Z"
   },
   {
    "duration": 147,
    "start_time": "2022-06-17T08:31:07.619Z"
   },
   {
    "duration": 102,
    "start_time": "2022-06-17T08:31:07.771Z"
   },
   {
    "duration": 875,
    "start_time": "2022-06-17T08:31:07.875Z"
   },
   {
    "duration": 80,
    "start_time": "2022-06-17T08:31:08.752Z"
   },
   {
    "duration": 46,
    "start_time": "2022-06-17T08:31:08.835Z"
   },
   {
    "duration": 26,
    "start_time": "2022-06-17T08:31:08.883Z"
   },
   {
    "duration": 103,
    "start_time": "2022-06-17T08:31:08.912Z"
   },
   {
    "duration": 84,
    "start_time": "2022-06-17T08:31:09.017Z"
   },
   {
    "duration": 4,
    "start_time": "2022-06-17T08:31:09.103Z"
   },
   {
    "duration": 66,
    "start_time": "2022-06-17T08:31:09.109Z"
   },
   {
    "duration": 67,
    "start_time": "2022-06-17T08:31:09.178Z"
   },
   {
    "duration": 88,
    "start_time": "2022-06-17T08:31:09.247Z"
   },
   {
    "duration": 8,
    "start_time": "2022-06-17T08:31:09.337Z"
   },
   {
    "duration": 189,
    "start_time": "2022-06-17T08:31:09.347Z"
   },
   {
    "duration": 42,
    "start_time": "2022-06-17T08:31:09.537Z"
   },
   {
    "duration": 37,
    "start_time": "2022-06-17T08:31:09.581Z"
   },
   {
    "duration": 98,
    "start_time": "2022-06-17T08:31:15.975Z"
   },
   {
    "duration": 55,
    "start_time": "2022-06-17T08:33:36.827Z"
   },
   {
    "duration": 8,
    "start_time": "2022-06-17T08:33:38.534Z"
   },
   {
    "duration": 106,
    "start_time": "2022-06-17T08:33:43.035Z"
   },
   {
    "duration": 65,
    "start_time": "2022-06-17T08:34:11.970Z"
   },
   {
    "duration": 76,
    "start_time": "2022-06-17T08:34:16.876Z"
   },
   {
    "duration": 15,
    "start_time": "2022-06-17T08:38:20.997Z"
   },
   {
    "duration": 4664,
    "start_time": "2022-06-17T08:38:49.928Z"
   },
   {
    "duration": 4510,
    "start_time": "2022-06-17T08:41:08.074Z"
   },
   {
    "duration": 5702,
    "start_time": "2022-06-17T08:41:27.586Z"
   },
   {
    "duration": 51,
    "start_time": "2022-06-17T08:49:06.757Z"
   },
   {
    "duration": 20,
    "start_time": "2022-06-17T08:49:13.056Z"
   },
   {
    "duration": 14,
    "start_time": "2022-06-17T08:51:32.285Z"
   },
   {
    "duration": 93,
    "start_time": "2022-06-17T08:52:21.998Z"
   },
   {
    "duration": 1072,
    "start_time": "2022-06-17T08:52:35.880Z"
   },
   {
    "duration": 1119,
    "start_time": "2022-06-17T08:58:56.647Z"
   },
   {
    "duration": 725,
    "start_time": "2022-06-17T09:10:20.654Z"
   },
   {
    "duration": 437,
    "start_time": "2022-06-17T09:10:23.628Z"
   },
   {
    "duration": 102,
    "start_time": "2022-06-17T09:10:25.684Z"
   },
   {
    "duration": 8,
    "start_time": "2022-06-17T09:11:40.858Z"
   },
   {
    "duration": 22,
    "start_time": "2022-06-17T09:12:33.985Z"
   },
   {
    "duration": 10,
    "start_time": "2022-06-17T09:12:37.389Z"
   },
   {
    "duration": 11,
    "start_time": "2022-06-17T09:13:08.816Z"
   },
   {
    "duration": 7,
    "start_time": "2022-06-17T09:13:27.072Z"
   },
   {
    "duration": 4,
    "start_time": "2022-06-17T09:17:45.243Z"
   },
   {
    "duration": 13,
    "start_time": "2022-06-17T09:19:05.675Z"
   },
   {
    "duration": 31395,
    "start_time": "2022-06-17T09:19:39.271Z"
   },
   {
    "duration": 5,
    "start_time": "2022-06-17T09:22:41.796Z"
   },
   {
    "duration": 11,
    "start_time": "2022-06-17T09:26:56.831Z"
   },
   {
    "duration": 3,
    "start_time": "2022-06-17T09:27:28.552Z"
   },
   {
    "duration": 11,
    "start_time": "2022-06-17T09:27:37.626Z"
   },
   {
    "duration": 15,
    "start_time": "2022-06-17T09:27:42.643Z"
   },
   {
    "duration": 229762,
    "start_time": "2022-06-17T09:28:05.921Z"
   },
   {
    "duration": 15,
    "start_time": "2022-06-17T09:33:32.621Z"
   },
   {
    "duration": 12,
    "start_time": "2022-06-17T09:41:46.390Z"
   },
   {
    "duration": 7,
    "start_time": "2022-06-17T09:44:24.140Z"
   },
   {
    "duration": 4,
    "start_time": "2022-06-17T09:45:17.353Z"
   },
   {
    "duration": 1599,
    "start_time": "2022-06-17T09:45:17.360Z"
   },
   {
    "duration": 125,
    "start_time": "2022-06-17T09:45:18.961Z"
   },
   {
    "duration": 87,
    "start_time": "2022-06-17T09:45:19.088Z"
   },
   {
    "duration": 780,
    "start_time": "2022-06-17T09:45:19.177Z"
   },
   {
    "duration": 76,
    "start_time": "2022-06-17T09:45:19.958Z"
   },
   {
    "duration": 45,
    "start_time": "2022-06-17T09:45:20.036Z"
   },
   {
    "duration": 22,
    "start_time": "2022-06-17T09:45:20.083Z"
   },
   {
    "duration": 88,
    "start_time": "2022-06-17T09:45:20.107Z"
   },
   {
    "duration": 71,
    "start_time": "2022-06-17T09:45:20.197Z"
   },
   {
    "duration": 2,
    "start_time": "2022-06-17T09:45:20.270Z"
   },
   {
    "duration": 48,
    "start_time": "2022-06-17T09:45:20.273Z"
   },
   {
    "duration": 68,
    "start_time": "2022-06-17T09:45:20.323Z"
   },
   {
    "duration": 79,
    "start_time": "2022-06-17T09:45:20.392Z"
   },
   {
    "duration": 3,
    "start_time": "2022-06-17T09:45:20.473Z"
   },
   {
    "duration": 141,
    "start_time": "2022-06-17T09:45:20.477Z"
   },
   {
    "duration": 21,
    "start_time": "2022-06-17T09:45:20.619Z"
   },
   {
    "duration": 35,
    "start_time": "2022-06-17T09:45:23.550Z"
   },
   {
    "duration": 300904,
    "start_time": "2022-06-17T09:45:26.263Z"
   },
   {
    "duration": 3,
    "start_time": "2022-06-17T09:53:34.567Z"
   },
   {
    "duration": 4,
    "start_time": "2022-06-17T09:56:16.762Z"
   },
   {
    "duration": 348305,
    "start_time": "2022-06-17T09:57:57.174Z"
   },
   {
    "duration": 42,
    "start_time": "2022-06-17T10:03:50.198Z"
   },
   {
    "duration": 37973,
    "start_time": "2022-06-17T10:06:30.006Z"
   },
   {
    "duration": 480,
    "start_time": "2022-06-17T10:07:56.597Z"
   },
   {
    "duration": 13778,
    "start_time": "2022-06-17T10:15:42.416Z"
   },
   {
    "duration": 13,
    "start_time": "2022-06-17T10:17:03.633Z"
   },
   {
    "duration": 29,
    "start_time": "2022-06-17T10:17:19.603Z"
   },
   {
    "duration": 3370,
    "start_time": "2022-06-17T10:17:58.612Z"
   },
   {
    "duration": 41530,
    "start_time": "2022-06-17T10:18:30.380Z"
   },
   {
    "duration": 463,
    "start_time": "2022-06-17T10:28:19.096Z"
   },
   {
    "duration": 35,
    "start_time": "2022-06-17T11:20:09.138Z"
   },
   {
    "duration": 5547,
    "start_time": "2022-06-17T11:23:03.723Z"
   },
   {
    "duration": 42941,
    "start_time": "2022-06-17T11:23:23.623Z"
   },
   {
    "duration": 76,
    "start_time": "2022-06-17T11:26:32.526Z"
   },
   {
    "duration": 12,
    "start_time": "2022-06-17T11:26:38.635Z"
   },
   {
    "duration": 31,
    "start_time": "2022-06-17T11:27:04.543Z"
   },
   {
    "duration": 3,
    "start_time": "2022-06-17T11:27:08.339Z"
   },
   {
    "duration": 4,
    "start_time": "2022-06-17T11:27:18.939Z"
   },
   {
    "duration": 3,
    "start_time": "2022-06-17T11:27:42.900Z"
   },
   {
    "duration": 5,
    "start_time": "2022-06-17T11:30:21.491Z"
   },
   {
    "duration": 3,
    "start_time": "2022-06-17T11:30:38.905Z"
   },
   {
    "duration": 11,
    "start_time": "2022-06-17T11:30:58.155Z"
   },
   {
    "duration": 11,
    "start_time": "2022-06-17T11:31:34.589Z"
   },
   {
    "duration": 4,
    "start_time": "2022-06-17T11:34:05.845Z"
   },
   {
    "duration": 3,
    "start_time": "2022-06-17T11:34:27.623Z"
   },
   {
    "duration": 4,
    "start_time": "2022-06-17T11:34:33.357Z"
   },
   {
    "duration": 3,
    "start_time": "2022-06-17T11:35:05.214Z"
   },
   {
    "duration": 5591,
    "start_time": "2022-06-17T11:36:11.181Z"
   },
   {
    "duration": 14388,
    "start_time": "2022-06-17T11:37:29.782Z"
   },
   {
    "duration": 34,
    "start_time": "2022-06-17T11:44:44.861Z"
   },
   {
    "duration": 28,
    "start_time": "2022-06-17T11:44:52.893Z"
   },
   {
    "duration": 4,
    "start_time": "2022-06-17T11:48:20.264Z"
   },
   {
    "duration": 12,
    "start_time": "2022-06-17T11:48:44.244Z"
   },
   {
    "duration": 18,
    "start_time": "2022-06-17T11:53:08.330Z"
   },
   {
    "duration": 7,
    "start_time": "2022-06-17T11:54:03.235Z"
   },
   {
    "duration": 8,
    "start_time": "2022-06-17T11:54:29.507Z"
   },
   {
    "duration": 8,
    "start_time": "2022-06-17T11:55:21.128Z"
   },
   {
    "duration": 18,
    "start_time": "2022-06-17T11:55:53.880Z"
   },
   {
    "duration": 7,
    "start_time": "2022-06-17T11:56:13.809Z"
   },
   {
    "duration": 8,
    "start_time": "2022-06-17T11:56:41.492Z"
   },
   {
    "duration": 15,
    "start_time": "2022-06-17T11:57:13.652Z"
   },
   {
    "duration": 8,
    "start_time": "2022-06-17T11:58:43.158Z"
   },
   {
    "duration": 9,
    "start_time": "2022-06-17T11:59:25.269Z"
   },
   {
    "duration": 18,
    "start_time": "2022-06-17T12:00:16.916Z"
   },
   {
    "duration": 10,
    "start_time": "2022-06-17T12:00:53.472Z"
   },
   {
    "duration": 21160,
    "start_time": "2022-06-17T12:08:49.008Z"
   },
   {
    "duration": 27,
    "start_time": "2022-06-17T12:09:25.401Z"
   },
   {
    "duration": 9,
    "start_time": "2022-06-17T12:09:52.102Z"
   },
   {
    "duration": 50,
    "start_time": "2022-06-17T12:15:23.986Z"
   },
   {
    "duration": 41,
    "start_time": "2022-06-17T12:15:45.406Z"
   },
   {
    "duration": 22,
    "start_time": "2022-06-17T12:16:09.946Z"
   },
   {
    "duration": 20,
    "start_time": "2022-06-17T12:16:16.097Z"
   },
   {
    "duration": 9,
    "start_time": "2022-06-17T12:16:38.712Z"
   },
   {
    "duration": 10,
    "start_time": "2022-06-17T12:17:02.868Z"
   },
   {
    "duration": 10,
    "start_time": "2022-06-17T12:17:12.756Z"
   },
   {
    "duration": 5,
    "start_time": "2022-06-18T07:22:12.473Z"
   },
   {
    "duration": 1115,
    "start_time": "2022-06-18T07:26:52.965Z"
   },
   {
    "duration": 1801,
    "start_time": "2022-06-18T07:26:54.083Z"
   },
   {
    "duration": 126,
    "start_time": "2022-06-18T07:26:55.886Z"
   },
   {
    "duration": 131,
    "start_time": "2022-06-18T07:26:56.013Z"
   },
   {
    "duration": 816,
    "start_time": "2022-06-18T07:26:56.145Z"
   },
   {
    "duration": 94,
    "start_time": "2022-06-18T07:26:56.963Z"
   },
   {
    "duration": 31,
    "start_time": "2022-06-18T07:26:57.059Z"
   },
   {
    "duration": 19,
    "start_time": "2022-06-18T07:26:57.092Z"
   },
   {
    "duration": 78,
    "start_time": "2022-06-18T07:26:57.125Z"
   },
   {
    "duration": 77,
    "start_time": "2022-06-18T07:26:57.205Z"
   },
   {
    "duration": 3,
    "start_time": "2022-06-18T07:26:57.283Z"
   },
   {
    "duration": 55,
    "start_time": "2022-06-18T07:26:57.287Z"
   },
   {
    "duration": 53,
    "start_time": "2022-06-18T07:26:57.344Z"
   },
   {
    "duration": 68,
    "start_time": "2022-06-18T07:26:57.399Z"
   },
   {
    "duration": 4,
    "start_time": "2022-06-18T07:26:57.469Z"
   },
   {
    "duration": 26,
    "start_time": "2022-06-18T07:27:10.219Z"
   },
   {
    "duration": 145,
    "start_time": "2022-06-18T07:27:48.318Z"
   },
   {
    "duration": 36,
    "start_time": "2022-06-18T07:27:57.528Z"
   },
   {
    "duration": 7533149,
    "start_time": "2022-06-18T07:28:26.781Z"
   },
   {
    "duration": 124,
    "start_time": "2022-06-18T09:33:59.932Z"
   },
   {
    "duration": 5,
    "start_time": "2022-06-18T10:18:55.727Z"
   },
   {
    "duration": 4,
    "start_time": "2022-06-18T10:19:00.659Z"
   },
   {
    "duration": 413967,
    "start_time": "2022-06-18T10:19:27.267Z"
   },
   {
    "duration": 591,
    "start_time": "2022-06-18T10:27:05.071Z"
   },
   {
    "duration": 60,
    "start_time": "2022-06-18T10:27:11.563Z"
   },
   {
    "duration": 14,
    "start_time": "2022-06-18T10:27:16.645Z"
   },
   {
    "duration": 4,
    "start_time": "2022-06-18T10:27:20.240Z"
   },
   {
    "duration": 311,
    "start_time": "2022-06-18T10:27:23.922Z"
   },
   {
    "duration": 2,
    "start_time": "2022-06-18T10:27:29.219Z"
   },
   {
    "duration": 697820,
    "start_time": "2022-06-18T10:27:44.733Z"
   },
   {
    "duration": 10,
    "start_time": "2022-06-18T10:49:33.072Z"
   },
   {
    "duration": 5,
    "start_time": "2022-06-18T10:49:36.699Z"
   },
   {
    "duration": 9,
    "start_time": "2022-06-18T10:49:40.043Z"
   },
   {
    "duration": 155529,
    "start_time": "2022-06-18T10:49:59.218Z"
   },
   {
    "duration": 410,
    "start_time": "2022-06-18T10:53:18.422Z"
   },
   {
    "duration": 646,
    "start_time": "2022-06-18T10:53:56.059Z"
   },
   {
    "duration": 434,
    "start_time": "2022-06-18T10:53:59.825Z"
   },
   {
    "duration": 98,
    "start_time": "2022-06-18T10:54:03.384Z"
   },
   {
    "duration": 3,
    "start_time": "2022-06-18T10:54:12.286Z"
   },
   {
    "duration": 5,
    "start_time": "2022-06-18T10:54:45.932Z"
   },
   {
    "duration": 6,
    "start_time": "2022-06-18T10:54:49.155Z"
   },
   {
    "duration": 3,
    "start_time": "2022-06-18T10:54:56.784Z"
   },
   {
    "duration": 6,
    "start_time": "2022-06-18T10:54:59.650Z"
   },
   {
    "duration": 16126,
    "start_time": "2022-06-18T10:55:04.406Z"
   },
   {
    "duration": 316,
    "start_time": "2022-06-18T10:55:22.210Z"
   },
   {
    "duration": 10,
    "start_time": "2022-06-18T10:55:31.287Z"
   },
   {
    "duration": 1247,
    "start_time": "2022-06-20T06:24:58.349Z"
   },
   {
    "duration": 1707,
    "start_time": "2022-06-20T06:25:01.382Z"
   },
   {
    "duration": 133,
    "start_time": "2022-06-20T06:25:05.983Z"
   },
   {
    "duration": 93,
    "start_time": "2022-06-20T06:25:09.772Z"
   },
   {
    "duration": 936,
    "start_time": "2022-06-20T06:25:12.914Z"
   },
   {
    "duration": 88,
    "start_time": "2022-06-20T06:25:19.152Z"
   },
   {
    "duration": 33,
    "start_time": "2022-06-20T06:25:20.390Z"
   },
   {
    "duration": 46,
    "start_time": "2022-06-20T06:25:21.278Z"
   },
   {
    "duration": 77,
    "start_time": "2022-06-20T06:25:22.157Z"
   },
   {
    "duration": 71,
    "start_time": "2022-06-20T06:25:25.180Z"
   },
   {
    "duration": 43,
    "start_time": "2022-06-20T06:25:28.468Z"
   },
   {
    "duration": 69,
    "start_time": "2022-06-20T06:25:29.451Z"
   },
   {
    "duration": 71,
    "start_time": "2022-06-20T06:25:32.411Z"
   },
   {
    "duration": 620,
    "start_time": "2022-06-20T06:25:43.530Z"
   },
   {
    "duration": 343,
    "start_time": "2022-06-20T06:27:30.699Z"
   },
   {
    "duration": 105,
    "start_time": "2022-06-20T06:27:41.075Z"
   },
   {
    "duration": 4,
    "start_time": "2022-06-20T06:27:51.714Z"
   },
   {
    "duration": 7,
    "start_time": "2022-06-20T06:28:02.087Z"
   },
   {
    "duration": 26334,
    "start_time": "2022-06-20T06:28:09.296Z"
   },
   {
    "duration": 235,
    "start_time": "2022-06-20T06:28:37.494Z"
   },
   {
    "duration": 98,
    "start_time": "2022-06-20T06:28:43.068Z"
   },
   {
    "duration": 4,
    "start_time": "2022-06-20T06:46:46.697Z"
   },
   {
    "duration": 1953,
    "start_time": "2022-06-20T06:46:46.702Z"
   },
   {
    "duration": 132,
    "start_time": "2022-06-20T06:46:48.657Z"
   },
   {
    "duration": 91,
    "start_time": "2022-06-20T06:46:48.790Z"
   },
   {
    "duration": 798,
    "start_time": "2022-06-20T06:46:48.883Z"
   },
   {
    "duration": 77,
    "start_time": "2022-06-20T06:46:49.682Z"
   },
   {
    "duration": 31,
    "start_time": "2022-06-20T06:46:49.761Z"
   },
   {
    "duration": 41,
    "start_time": "2022-06-20T06:46:49.793Z"
   },
   {
    "duration": 70,
    "start_time": "2022-06-20T06:46:49.836Z"
   },
   {
    "duration": 83,
    "start_time": "2022-06-20T06:46:49.908Z"
   },
   {
    "duration": 2,
    "start_time": "2022-06-20T06:46:49.993Z"
   },
   {
    "duration": 64,
    "start_time": "2022-06-20T06:46:49.997Z"
   },
   {
    "duration": 72,
    "start_time": "2022-06-20T06:46:50.063Z"
   },
   {
    "duration": 69,
    "start_time": "2022-06-20T06:46:50.136Z"
   },
   {
    "duration": 3,
    "start_time": "2022-06-20T06:46:50.206Z"
   },
   {
    "duration": 141,
    "start_time": "2022-06-20T06:46:50.226Z"
   },
   {
    "duration": 47,
    "start_time": "2022-06-20T06:46:50.369Z"
   },
   {
    "duration": 1197,
    "start_time": "2022-06-20T06:47:03.350Z"
   },
   {
    "duration": 1924,
    "start_time": "2022-06-20T06:47:04.549Z"
   },
   {
    "duration": 153,
    "start_time": "2022-06-20T06:47:06.475Z"
   },
   {
    "duration": 138,
    "start_time": "2022-06-20T06:47:06.630Z"
   },
   {
    "duration": 850,
    "start_time": "2022-06-20T06:47:06.770Z"
   },
   {
    "duration": 94,
    "start_time": "2022-06-20T06:47:07.621Z"
   },
   {
    "duration": 43,
    "start_time": "2022-06-20T06:47:07.717Z"
   },
   {
    "duration": 26,
    "start_time": "2022-06-20T06:47:07.761Z"
   },
   {
    "duration": 104,
    "start_time": "2022-06-20T06:47:07.788Z"
   },
   {
    "duration": 77,
    "start_time": "2022-06-20T06:47:07.894Z"
   },
   {
    "duration": 2,
    "start_time": "2022-06-20T06:47:07.973Z"
   },
   {
    "duration": 53,
    "start_time": "2022-06-20T06:47:07.977Z"
   },
   {
    "duration": 67,
    "start_time": "2022-06-20T06:47:08.032Z"
   },
   {
    "duration": 84,
    "start_time": "2022-06-20T06:47:08.101Z"
   },
   {
    "duration": 3,
    "start_time": "2022-06-20T06:47:08.186Z"
   },
   {
    "duration": 172,
    "start_time": "2022-06-20T06:47:08.191Z"
   },
   {
    "duration": 33,
    "start_time": "2022-06-20T06:47:08.365Z"
   },
   {
    "duration": 5676434,
    "start_time": "2022-06-20T06:47:08.400Z"
   },
   {
    "duration": 4,
    "start_time": "2022-06-20T08:21:44.837Z"
   },
   {
    "duration": 10,
    "start_time": "2022-06-20T08:21:44.843Z"
   },
   {
    "duration": 4875,
    "start_time": "2022-06-20T08:21:44.855Z"
   },
   {
    "duration": 603,
    "start_time": "2022-06-20T08:21:49.732Z"
   },
   {
    "duration": 91,
    "start_time": "2022-06-20T08:21:50.337Z"
   },
   {
    "duration": 4,
    "start_time": "2022-06-20T08:21:50.430Z"
   },
   {
    "duration": 299,
    "start_time": "2022-06-20T08:21:50.436Z"
   },
   {
    "duration": 3,
    "start_time": "2022-06-20T08:21:50.737Z"
   },
   {
    "duration": 675420,
    "start_time": "2022-06-20T08:21:50.742Z"
   },
   {
    "duration": 10,
    "start_time": "2022-06-20T08:33:06.163Z"
   },
   {
    "duration": 17,
    "start_time": "2022-06-20T08:33:06.175Z"
   },
   {
    "duration": 18,
    "start_time": "2022-06-20T08:33:06.194Z"
   },
   {
    "duration": 154991,
    "start_time": "2022-06-20T08:33:06.214Z"
   },
   {
    "duration": 380,
    "start_time": "2022-06-20T08:35:41.207Z"
   },
   {
    "duration": 592,
    "start_time": "2022-06-20T08:35:41.589Z"
   },
   {
    "duration": 335,
    "start_time": "2022-06-20T08:35:42.183Z"
   },
   {
    "duration": 108,
    "start_time": "2022-06-20T08:35:42.520Z"
   },
   {
    "duration": 4,
    "start_time": "2022-06-20T08:35:42.630Z"
   },
   {
    "duration": 35,
    "start_time": "2022-06-20T08:35:42.635Z"
   },
   {
    "duration": 20057,
    "start_time": "2022-06-20T08:35:42.672Z"
   },
   {
    "duration": 298,
    "start_time": "2022-06-20T08:36:02.731Z"
   },
   {
    "duration": 101,
    "start_time": "2022-06-20T08:36:03.032Z"
   }
  ],
  "kernelspec": {
   "display_name": "Python 3 (ipykernel)",
   "language": "python",
   "name": "python3"
  },
  "language_info": {
   "codemirror_mode": {
    "name": "ipython",
    "version": 3
   },
   "file_extension": ".py",
   "mimetype": "text/x-python",
   "name": "python",
   "nbconvert_exporter": "python",
   "pygments_lexer": "ipython3",
   "version": "3.9.7"
  },
  "toc": {
   "base_numbering": 1,
   "nav_menu": {},
   "number_sections": true,
   "sideBar": true,
   "skip_h1_title": true,
   "title_cell": "Table of Contents",
   "title_sidebar": "Contents",
   "toc_cell": false,
   "toc_position": {},
   "toc_section_display": true,
   "toc_window_display": true
  }
 },
 "nbformat": 4,
 "nbformat_minor": 2
}

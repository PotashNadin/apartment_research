{
 "cells": [
  {
   "cell_type": "markdown",
   "metadata": {
    "toc": true
   },
   "source": [
    "<h1>Содержание<span class=\"tocSkip\"></span></h1>\n",
    "<div class=\"toc\"><ul class=\"toc-item\"><li><span><a href=\"#Описание-данных\" data-toc-modified-id=\"Описание-данных-1\"><span class=\"toc-item-num\">1&nbsp;&nbsp;</span>Описание данных</a></span></li><li><span><a href=\"#Подготовка-данных\" data-toc-modified-id=\"Подготовка-данных-2\"><span class=\"toc-item-num\">2&nbsp;&nbsp;</span>Подготовка данных</a></span></li><li><span><a href=\"#Исследовательский-анализ-данных\" data-toc-modified-id=\"Исследовательский-анализ-данных-3\"><span class=\"toc-item-num\">3&nbsp;&nbsp;</span>Исследовательский анализ данных</a></span><ul class=\"toc-item\"><li><span><a href=\"#Количество-выпущенных-игр-и-прибыль-в-год\" data-toc-modified-id=\"Количество-выпущенных-игр-и-прибыль-в-год-3.1\"><span class=\"toc-item-num\">3.1&nbsp;&nbsp;</span>Количество выпущенных игр и прибыль в год</a></span></li><li><span><a href=\"#Количество-проданных-игр-за-все-время-по-каждой-платформе\" data-toc-modified-id=\"Количество-проданных-игр-за-все-время-по-каждой-платформе-3.2\"><span class=\"toc-item-num\">3.2&nbsp;&nbsp;</span>Количество проданных игр за все время по каждой платформе</a></span></li><li><span><a href=\"#Продолжительность-жизни-платформы\" data-toc-modified-id=\"Продолжительность-жизни-платформы-3.3\"><span class=\"toc-item-num\">3.3&nbsp;&nbsp;</span>Продолжительность жизни платформы</a></span></li><li><span><a href=\"#Суммарное-количество-проданных-игр-по-платформам-(за-2015-2016г)\" data-toc-modified-id=\"Суммарное-количество-проданных-игр-по-платформам-(за-2015-2016г)-3.4\"><span class=\"toc-item-num\">3.4&nbsp;&nbsp;</span>Суммарное количество проданных игр по платформам (за 2015-2016г)</a></span></li><li><span><a href=\"#Количество-проданных-игр-по-каждой-платформе-в-год\" data-toc-modified-id=\"Количество-проданных-игр-по-каждой-платформе-в-год-3.5\"><span class=\"toc-item-num\">3.5&nbsp;&nbsp;</span>Количество проданных игр по каждой платформе в год</a></span></li><li><span><a href=\"#Топ-продаж-игр-по-каждой-из-платформ-(-за-2015-2016г)\" data-toc-modified-id=\"Топ-продаж-игр-по-каждой-из-платформ-(-за-2015-2016г)-3.6\"><span class=\"toc-item-num\">3.6&nbsp;&nbsp;</span>Топ продаж игр по каждой из платформ ( за 2015-2016г)</a></span></li><li><span><a href=\"#Влияние-на-продажи-двух-показателей:-оценки-критиков-и-оценку-пользователей\" data-toc-modified-id=\"Влияние-на-продажи-двух-показателей:-оценки-критиков-и-оценку-пользователей-3.7\"><span class=\"toc-item-num\">3.7&nbsp;&nbsp;</span>Влияние на продажи двух показателей: оценки критиков и оценку пользователей</a></span><ul class=\"toc-item\"><li><span><a href=\"#Зависимость-количества-продаж-от-оценки-критиков,-платформа-PS4\" data-toc-modified-id=\"Зависимость-количества-продаж-от-оценки-критиков,-платформа-PS4-3.7.1\"><span class=\"toc-item-num\">3.7.1&nbsp;&nbsp;</span>Зависимость количества продаж от оценки критиков, платформа PS4</a></span></li><li><span><a href=\"#Зависимость-количества-продаж-от-оценки-пользователей,-платформа-PS4\" data-toc-modified-id=\"Зависимость-количества-продаж-от-оценки-пользователей,-платформа-PS4-3.7.2\"><span class=\"toc-item-num\">3.7.2&nbsp;&nbsp;</span>Зависимость количества продаж от оценки пользователей, платформа PS4</a></span></li><li><span><a href=\"#Зависимость-количества-продаж-от-оценки-критиков,-платформа-XOne\" data-toc-modified-id=\"Зависимость-количества-продаж-от-оценки-критиков,-платформа-XOne-3.7.3\"><span class=\"toc-item-num\">3.7.3&nbsp;&nbsp;</span>Зависимость количества продаж от оценки критиков, платформа XOne</a></span></li><li><span><a href=\"#Зависимость-количества-продаж-от-оценки-пользователей,-платформа-XOne\" data-toc-modified-id=\"Зависимость-количества-продаж-от-оценки-пользователей,-платформа-XOne-3.7.4\"><span class=\"toc-item-num\">3.7.4&nbsp;&nbsp;</span>Зависимость количества продаж от оценки пользователей, платформа XOne</a></span></li><li><span><a href=\"#Зависимость-количества-продаж-от-оценки-критиков,-платформа-3DS\" data-toc-modified-id=\"Зависимость-количества-продаж-от-оценки-критиков,-платформа-3DS-3.7.5\"><span class=\"toc-item-num\">3.7.5&nbsp;&nbsp;</span>Зависимость количества продаж от оценки критиков, платформа 3DS</a></span></li><li><span><a href=\"#Зависимость-количества-продаж-от-оценки-пользователей,-платформа-3DS\" data-toc-modified-id=\"Зависимость-количества-продаж-от-оценки-пользователей,-платформа-3DS-3.7.6\"><span class=\"toc-item-num\">3.7.6&nbsp;&nbsp;</span>Зависимость количества продаж от оценки пользователей, платформа 3DS</a></span></li></ul></li><li><span><a href=\"#Количество-продаж-в-разных-жанрах\" data-toc-modified-id=\"Количество-продаж-в-разных-жанрах-3.8\"><span class=\"toc-item-num\">3.8&nbsp;&nbsp;</span>Количество продаж в разных жанрах</a></span></li></ul></li><li><span><a href=\"#Самые-популярные-платформы(за-2015-2016г)\" data-toc-modified-id=\"Самые-популярные-платформы(за-2015-2016г)-4\"><span class=\"toc-item-num\">4&nbsp;&nbsp;</span>Самые популярные платформы(за 2015-2016г)</a></span><ul class=\"toc-item\"><li><span><a href=\"#Для-Северной-Америки\" data-toc-modified-id=\"Для-Северной-Америки-4.1\"><span class=\"toc-item-num\">4.1&nbsp;&nbsp;</span>Для Северной Америки</a></span></li><li><span><a href=\"#Для-Европы\" data-toc-modified-id=\"Для-Европы-4.2\"><span class=\"toc-item-num\">4.2&nbsp;&nbsp;</span>Для Европы</a></span></li><li><span><a href=\"#Для-Японии\" data-toc-modified-id=\"Для-Японии-4.3\"><span class=\"toc-item-num\">4.3&nbsp;&nbsp;</span>Для Японии</a></span></li></ul></li><li><span><a href=\"#Самые-популярные-жанры-(за-2015-2016г)\" data-toc-modified-id=\"Самые-популярные-жанры-(за-2015-2016г)-5\"><span class=\"toc-item-num\">5&nbsp;&nbsp;</span>Самые популярные жанры (за 2015-2016г)</a></span><ul class=\"toc-item\"><li><span><a href=\"#Для-Северной-Америки\" data-toc-modified-id=\"Для-Северной-Америки-5.1\"><span class=\"toc-item-num\">5.1&nbsp;&nbsp;</span>Для Северной Америки</a></span></li><li><span><a href=\"#Для-Европы\" data-toc-modified-id=\"Для-Европы-5.2\"><span class=\"toc-item-num\">5.2&nbsp;&nbsp;</span>Для Европы</a></span></li><li><span><a href=\"#Для-Японии\" data-toc-modified-id=\"Для-Японии-5.3\"><span class=\"toc-item-num\">5.3&nbsp;&nbsp;</span>Для Японии</a></span></li></ul></li><li><span><a href=\"#Влияет-ли-рейтинг-ESRB-на-продажи-в-отдельном-регионе?\" data-toc-modified-id=\"Влияет-ли-рейтинг-ESRB-на-продажи-в-отдельном-регионе?-6\"><span class=\"toc-item-num\">6&nbsp;&nbsp;</span>Влияет ли рейтинг ESRB на продажи в отдельном регионе?</a></span></li><li><span><a href=\"#Гипотеза-Средние-пользовательские-рейтинги-платформ-Xbox-One-и-PC-одинаковые\" data-toc-modified-id=\"Гипотеза-Средние-пользовательские-рейтинги-платформ-Xbox-One-и-PC-одинаковые-7\"><span class=\"toc-item-num\">7&nbsp;&nbsp;</span>Гипотеза Средние пользовательские рейтинги платформ Xbox One и PC одинаковые</a></span></li><li><span><a href=\"#Гипотеза-Средние-пользовательские-рейтинги-жанров-Action--и-Sports-разные.\" data-toc-modified-id=\"Гипотеза-Средние-пользовательские-рейтинги-жанров-Action--и-Sports-разные.-8\"><span class=\"toc-item-num\">8&nbsp;&nbsp;</span>Гипотеза Средние пользовательские рейтинги жанров Action  и Sports разные.</a></span></li></ul></div>"
   ]
  },
  {
   "cell_type": "markdown",
   "metadata": {},
   "source": [
    "# Проект для магазина видеоигр\n"
   ]
  },
  {
   "cell_type": "markdown",
   "metadata": {},
   "source": [
    "# Обзор данных"
   ]
  },
  {
   "cell_type": "code",
   "execution_count": 1,
   "metadata": {
    "scrolled": false
   },
   "outputs": [],
   "source": [
    "import pandas as pd\n",
    "import numpy as np\n",
    "import seaborn as sns\n",
    "import matplotlib.pyplot as plt\n",
    "from scipy import stats as st\n",
    "pd.options.mode.chained_assignment = None "
   ]
  },
  {
   "cell_type": "code",
   "execution_count": 2,
   "metadata": {},
   "outputs": [
    {
     "data": {
      "text/html": [
       "<div>\n",
       "<style scoped>\n",
       "    .dataframe tbody tr th:only-of-type {\n",
       "        vertical-align: middle;\n",
       "    }\n",
       "\n",
       "    .dataframe tbody tr th {\n",
       "        vertical-align: top;\n",
       "    }\n",
       "\n",
       "    .dataframe thead th {\n",
       "        text-align: right;\n",
       "    }\n",
       "</style>\n",
       "<table border=\"1\" class=\"dataframe\">\n",
       "  <thead>\n",
       "    <tr style=\"text-align: right;\">\n",
       "      <th></th>\n",
       "      <th>Name</th>\n",
       "      <th>Platform</th>\n",
       "      <th>Year_of_Release</th>\n",
       "      <th>Genre</th>\n",
       "      <th>NA_sales</th>\n",
       "      <th>EU_sales</th>\n",
       "      <th>JP_sales</th>\n",
       "      <th>Other_sales</th>\n",
       "      <th>Critic_Score</th>\n",
       "      <th>User_Score</th>\n",
       "      <th>Rating</th>\n",
       "    </tr>\n",
       "  </thead>\n",
       "  <tbody>\n",
       "    <tr>\n",
       "      <th>0</th>\n",
       "      <td>Wii Sports</td>\n",
       "      <td>Wii</td>\n",
       "      <td>2006.0</td>\n",
       "      <td>Sports</td>\n",
       "      <td>41.36</td>\n",
       "      <td>28.96</td>\n",
       "      <td>3.77</td>\n",
       "      <td>8.45</td>\n",
       "      <td>76.0</td>\n",
       "      <td>8</td>\n",
       "      <td>E</td>\n",
       "    </tr>\n",
       "    <tr>\n",
       "      <th>1</th>\n",
       "      <td>Super Mario Bros.</td>\n",
       "      <td>NES</td>\n",
       "      <td>1985.0</td>\n",
       "      <td>Platform</td>\n",
       "      <td>29.08</td>\n",
       "      <td>3.58</td>\n",
       "      <td>6.81</td>\n",
       "      <td>0.77</td>\n",
       "      <td>NaN</td>\n",
       "      <td>NaN</td>\n",
       "      <td>NaN</td>\n",
       "    </tr>\n",
       "    <tr>\n",
       "      <th>2</th>\n",
       "      <td>Mario Kart Wii</td>\n",
       "      <td>Wii</td>\n",
       "      <td>2008.0</td>\n",
       "      <td>Racing</td>\n",
       "      <td>15.68</td>\n",
       "      <td>12.76</td>\n",
       "      <td>3.79</td>\n",
       "      <td>3.29</td>\n",
       "      <td>82.0</td>\n",
       "      <td>8.3</td>\n",
       "      <td>E</td>\n",
       "    </tr>\n",
       "    <tr>\n",
       "      <th>3</th>\n",
       "      <td>Wii Sports Resort</td>\n",
       "      <td>Wii</td>\n",
       "      <td>2009.0</td>\n",
       "      <td>Sports</td>\n",
       "      <td>15.61</td>\n",
       "      <td>10.93</td>\n",
       "      <td>3.28</td>\n",
       "      <td>2.95</td>\n",
       "      <td>80.0</td>\n",
       "      <td>8</td>\n",
       "      <td>E</td>\n",
       "    </tr>\n",
       "    <tr>\n",
       "      <th>4</th>\n",
       "      <td>Pokemon Red/Pokemon Blue</td>\n",
       "      <td>GB</td>\n",
       "      <td>1996.0</td>\n",
       "      <td>Role-Playing</td>\n",
       "      <td>11.27</td>\n",
       "      <td>8.89</td>\n",
       "      <td>10.22</td>\n",
       "      <td>1.00</td>\n",
       "      <td>NaN</td>\n",
       "      <td>NaN</td>\n",
       "      <td>NaN</td>\n",
       "    </tr>\n",
       "    <tr>\n",
       "      <th>...</th>\n",
       "      <td>...</td>\n",
       "      <td>...</td>\n",
       "      <td>...</td>\n",
       "      <td>...</td>\n",
       "      <td>...</td>\n",
       "      <td>...</td>\n",
       "      <td>...</td>\n",
       "      <td>...</td>\n",
       "      <td>...</td>\n",
       "      <td>...</td>\n",
       "      <td>...</td>\n",
       "    </tr>\n",
       "    <tr>\n",
       "      <th>16710</th>\n",
       "      <td>Samurai Warriors: Sanada Maru</td>\n",
       "      <td>PS3</td>\n",
       "      <td>2016.0</td>\n",
       "      <td>Action</td>\n",
       "      <td>0.00</td>\n",
       "      <td>0.00</td>\n",
       "      <td>0.01</td>\n",
       "      <td>0.00</td>\n",
       "      <td>NaN</td>\n",
       "      <td>NaN</td>\n",
       "      <td>NaN</td>\n",
       "    </tr>\n",
       "    <tr>\n",
       "      <th>16711</th>\n",
       "      <td>LMA Manager 2007</td>\n",
       "      <td>X360</td>\n",
       "      <td>2006.0</td>\n",
       "      <td>Sports</td>\n",
       "      <td>0.00</td>\n",
       "      <td>0.01</td>\n",
       "      <td>0.00</td>\n",
       "      <td>0.00</td>\n",
       "      <td>NaN</td>\n",
       "      <td>NaN</td>\n",
       "      <td>NaN</td>\n",
       "    </tr>\n",
       "    <tr>\n",
       "      <th>16712</th>\n",
       "      <td>Haitaka no Psychedelica</td>\n",
       "      <td>PSV</td>\n",
       "      <td>2016.0</td>\n",
       "      <td>Adventure</td>\n",
       "      <td>0.00</td>\n",
       "      <td>0.00</td>\n",
       "      <td>0.01</td>\n",
       "      <td>0.00</td>\n",
       "      <td>NaN</td>\n",
       "      <td>NaN</td>\n",
       "      <td>NaN</td>\n",
       "    </tr>\n",
       "    <tr>\n",
       "      <th>16713</th>\n",
       "      <td>Spirits &amp; Spells</td>\n",
       "      <td>GBA</td>\n",
       "      <td>2003.0</td>\n",
       "      <td>Platform</td>\n",
       "      <td>0.01</td>\n",
       "      <td>0.00</td>\n",
       "      <td>0.00</td>\n",
       "      <td>0.00</td>\n",
       "      <td>NaN</td>\n",
       "      <td>NaN</td>\n",
       "      <td>NaN</td>\n",
       "    </tr>\n",
       "    <tr>\n",
       "      <th>16714</th>\n",
       "      <td>Winning Post 8 2016</td>\n",
       "      <td>PSV</td>\n",
       "      <td>2016.0</td>\n",
       "      <td>Simulation</td>\n",
       "      <td>0.00</td>\n",
       "      <td>0.00</td>\n",
       "      <td>0.01</td>\n",
       "      <td>0.00</td>\n",
       "      <td>NaN</td>\n",
       "      <td>NaN</td>\n",
       "      <td>NaN</td>\n",
       "    </tr>\n",
       "  </tbody>\n",
       "</table>\n",
       "<p>16715 rows × 11 columns</p>\n",
       "</div>"
      ],
      "text/plain": [
       "                                Name Platform  Year_of_Release         Genre  \\\n",
       "0                         Wii Sports      Wii           2006.0        Sports   \n",
       "1                  Super Mario Bros.      NES           1985.0      Platform   \n",
       "2                     Mario Kart Wii      Wii           2008.0        Racing   \n",
       "3                  Wii Sports Resort      Wii           2009.0        Sports   \n",
       "4           Pokemon Red/Pokemon Blue       GB           1996.0  Role-Playing   \n",
       "...                              ...      ...              ...           ...   \n",
       "16710  Samurai Warriors: Sanada Maru      PS3           2016.0        Action   \n",
       "16711               LMA Manager 2007     X360           2006.0        Sports   \n",
       "16712        Haitaka no Psychedelica      PSV           2016.0     Adventure   \n",
       "16713               Spirits & Spells      GBA           2003.0      Platform   \n",
       "16714            Winning Post 8 2016      PSV           2016.0    Simulation   \n",
       "\n",
       "       NA_sales  EU_sales  JP_sales  Other_sales  Critic_Score User_Score  \\\n",
       "0         41.36     28.96      3.77         8.45          76.0          8   \n",
       "1         29.08      3.58      6.81         0.77           NaN        NaN   \n",
       "2         15.68     12.76      3.79         3.29          82.0        8.3   \n",
       "3         15.61     10.93      3.28         2.95          80.0          8   \n",
       "4         11.27      8.89     10.22         1.00           NaN        NaN   \n",
       "...         ...       ...       ...          ...           ...        ...   \n",
       "16710      0.00      0.00      0.01         0.00           NaN        NaN   \n",
       "16711      0.00      0.01      0.00         0.00           NaN        NaN   \n",
       "16712      0.00      0.00      0.01         0.00           NaN        NaN   \n",
       "16713      0.01      0.00      0.00         0.00           NaN        NaN   \n",
       "16714      0.00      0.00      0.01         0.00           NaN        NaN   \n",
       "\n",
       "      Rating  \n",
       "0          E  \n",
       "1        NaN  \n",
       "2          E  \n",
       "3          E  \n",
       "4        NaN  \n",
       "...      ...  \n",
       "16710    NaN  \n",
       "16711    NaN  \n",
       "16712    NaN  \n",
       "16713    NaN  \n",
       "16714    NaN  \n",
       "\n",
       "[16715 rows x 11 columns]"
      ]
     },
     "execution_count": 2,
     "metadata": {},
     "output_type": "execute_result"
    }
   ],
   "source": [
    "try: df = pd.read_csv('Games.csv')\n",
    "except: df = pd.read_csv('/datasets/games.csv')\n",
    "df"
   ]
  },
  {
   "cell_type": "code",
   "execution_count": 3,
   "metadata": {
    "scrolled": true
   },
   "outputs": [
    {
     "name": "stdout",
     "output_type": "stream",
     "text": [
      "<class 'pandas.core.frame.DataFrame'>\n",
      "RangeIndex: 16715 entries, 0 to 16714\n",
      "Data columns (total 11 columns):\n",
      " #   Column           Non-Null Count  Dtype  \n",
      "---  ------           --------------  -----  \n",
      " 0   Name             16713 non-null  object \n",
      " 1   Platform         16715 non-null  object \n",
      " 2   Year_of_Release  16446 non-null  float64\n",
      " 3   Genre            16713 non-null  object \n",
      " 4   NA_sales         16715 non-null  float64\n",
      " 5   EU_sales         16715 non-null  float64\n",
      " 6   JP_sales         16715 non-null  float64\n",
      " 7   Other_sales      16715 non-null  float64\n",
      " 8   Critic_Score     8137 non-null   float64\n",
      " 9   User_Score       10014 non-null  object \n",
      " 10  Rating           9949 non-null   object \n",
      "dtypes: float64(6), object(5)\n",
      "memory usage: 1.4+ MB\n"
     ]
    }
   ],
   "source": [
    "df.info()"
   ]
  },
  {
   "cell_type": "markdown",
   "metadata": {},
   "source": [
    "В датасете обнаружено довольно много пропусков.\n",
    "\n",
    "В столбце `name` пропуски удалим, так как пустоты заменить нечем и не понятно о какой игре идет речь.\n",
    "\n",
    "В столбцах `Critic_Score`, `User_Score` так же есть пропуски, пока не будем их ничем заменять, тем более что ни медианой не средним значением их не заменить.  \n",
    "\n",
    "В столбце `Rating` достаточно много пропусков, однако они объяснимы тем, что система рейтинга ESRB появилась только в 1994г. Потребуется заменить пропуски на что-нибудь подходящее.\n",
    "\n",
    "В столбце  `Year_of_Release` чуть позже обратим внимание,будут ли нам пропуски мешать.\n",
    "\n",
    "Так же видим, что столбцы названы не совсем корректно. Необходимо будет привести наименование столбцов к змеиному регистру."
   ]
  },
  {
   "cell_type": "markdown",
   "metadata": {},
   "source": [
    "## Подготовка данных"
   ]
  },
  {
   "cell_type": "code",
   "execution_count": 4,
   "metadata": {},
   "outputs": [
    {
     "data": {
      "text/plain": [
       "Index(['name', 'platform', 'year_of_release', 'genre', 'na_sales', 'eu_sales',\n",
       "       'jp_sales', 'other_sales', 'critic_score', 'user_score', 'rating'],\n",
       "      dtype='object')"
      ]
     },
     "execution_count": 4,
     "metadata": {},
     "output_type": "execute_result"
    }
   ],
   "source": [
    "df.columns = df.columns.str.lower()#привели наименование столбцов к корректному виду\n",
    "df.columns"
   ]
  },
  {
   "cell_type": "code",
   "execution_count": 5,
   "metadata": {
    "scrolled": true
   },
   "outputs": [
    {
     "data": {
      "text/plain": [
       "0"
      ]
     },
     "execution_count": 5,
     "metadata": {},
     "output_type": "execute_result"
    }
   ],
   "source": [
    "df.duplicated().sum()#проверка на дубликаты в датасете "
   ]
  },
  {
   "cell_type": "code",
   "execution_count": 6,
   "metadata": {
    "scrolled": true
   },
   "outputs": [
    {
     "data": {
      "text/html": [
       "<div>\n",
       "<style scoped>\n",
       "    .dataframe tbody tr th:only-of-type {\n",
       "        vertical-align: middle;\n",
       "    }\n",
       "\n",
       "    .dataframe tbody tr th {\n",
       "        vertical-align: top;\n",
       "    }\n",
       "\n",
       "    .dataframe thead th {\n",
       "        text-align: right;\n",
       "    }\n",
       "</style>\n",
       "<table border=\"1\" class=\"dataframe\">\n",
       "  <thead>\n",
       "    <tr style=\"text-align: right;\">\n",
       "      <th></th>\n",
       "      <th>name</th>\n",
       "      <th>platform</th>\n",
       "      <th>year_of_release</th>\n",
       "      <th>genre</th>\n",
       "      <th>na_sales</th>\n",
       "      <th>eu_sales</th>\n",
       "      <th>jp_sales</th>\n",
       "      <th>other_sales</th>\n",
       "      <th>critic_score</th>\n",
       "      <th>user_score</th>\n",
       "      <th>rating</th>\n",
       "    </tr>\n",
       "  </thead>\n",
       "  <tbody>\n",
       "    <tr>\n",
       "      <th>659</th>\n",
       "      <td>NaN</td>\n",
       "      <td>GEN</td>\n",
       "      <td>1993.0</td>\n",
       "      <td>NaN</td>\n",
       "      <td>1.78</td>\n",
       "      <td>0.53</td>\n",
       "      <td>0.00</td>\n",
       "      <td>0.08</td>\n",
       "      <td>NaN</td>\n",
       "      <td>NaN</td>\n",
       "      <td>NaN</td>\n",
       "    </tr>\n",
       "    <tr>\n",
       "      <th>14244</th>\n",
       "      <td>NaN</td>\n",
       "      <td>GEN</td>\n",
       "      <td>1993.0</td>\n",
       "      <td>NaN</td>\n",
       "      <td>0.00</td>\n",
       "      <td>0.00</td>\n",
       "      <td>0.03</td>\n",
       "      <td>0.00</td>\n",
       "      <td>NaN</td>\n",
       "      <td>NaN</td>\n",
       "      <td>NaN</td>\n",
       "    </tr>\n",
       "  </tbody>\n",
       "</table>\n",
       "</div>"
      ],
      "text/plain": [
       "      name platform  year_of_release genre  na_sales  eu_sales  jp_sales  \\\n",
       "659    NaN      GEN           1993.0   NaN      1.78      0.53      0.00   \n",
       "14244  NaN      GEN           1993.0   NaN      0.00      0.00      0.03   \n",
       "\n",
       "       other_sales  critic_score user_score rating  \n",
       "659           0.08           NaN        NaN    NaN  \n",
       "14244         0.00           NaN        NaN    NaN  "
      ]
     },
     "execution_count": 6,
     "metadata": {},
     "output_type": "execute_result"
    }
   ],
   "source": [
    "df[df['name'].isna()]#посмотрим на пустые строки в столбце name"
   ]
  },
  {
   "cell_type": "code",
   "execution_count": 7,
   "metadata": {},
   "outputs": [],
   "source": [
    "df = df.dropna(subset=['name'])#удаляем пустые строки,так как пропущены важные значения,которые ничем не заменить."
   ]
  },
  {
   "cell_type": "code",
   "execution_count": 8,
   "metadata": {
    "scrolled": false
   },
   "outputs": [
    {
     "data": {
      "text/plain": [
       "array(['8', nan, '8.3', '8.5', '6.6', '8.4', '8.6', '7.7', '6.3', '7.4',\n",
       "       '8.2', '9', '7.9', '8.1', '8.7', '7.1', '3.4', '5.3', '4.8', '3.2',\n",
       "       '8.9', '6.4', '7.8', '7.5', '2.6', '7.2', '9.2', '7', '7.3', '4.3',\n",
       "       '7.6', '5.7', '5', '9.1', '6.5', 'tbd', '8.8', '6.9', '9.4', '6.8',\n",
       "       '6.1', '6.7', '5.4', '4', '4.9', '4.5', '9.3', '6.2', '4.2', '6',\n",
       "       '3.7', '4.1', '5.8', '5.6', '5.5', '4.4', '4.6', '5.9', '3.9',\n",
       "       '3.1', '2.9', '5.2', '3.3', '4.7', '5.1', '3.5', '2.5', '1.9', '3',\n",
       "       '2.7', '2.2', '2', '9.5', '2.1', '3.6', '2.8', '1.8', '3.8', '0',\n",
       "       '1.6', '9.6', '2.4', '1.7', '1.1', '0.3', '1.5', '0.7', '1.2',\n",
       "       '2.3', '0.5', '1.3', '0.2', '0.6', '1.4', '0.9', '1', '9.7'],\n",
       "      dtype=object)"
      ]
     },
     "execution_count": 8,
     "metadata": {},
     "output_type": "execute_result"
    }
   ],
   "source": [
    "df['user_score'].unique()"
   ]
  },
  {
   "cell_type": "markdown",
   "metadata": {},
   "source": [
    "Есть значение \"tbd\", которое в дальнейшем может нам помешать обрабатывать данный столбец математическими операциями.\n",
    "На ноль заменить данное значение мы не можем. Заменим на значение, которое не участвует в обозначении рейтинга, установим: \"-1\"."
   ]
  },
  {
   "cell_type": "code",
   "execution_count": 9,
   "metadata": {},
   "outputs": [],
   "source": [
    "df.loc[df['user_score'] == 'tbd','user_score'] = None"
   ]
  },
  {
   "cell_type": "code",
   "execution_count": 10,
   "metadata": {
    "scrolled": true
   },
   "outputs": [
    {
     "name": "stdout",
     "output_type": "stream",
     "text": [
      "<class 'pandas.core.frame.DataFrame'>\n",
      "Int64Index: 16713 entries, 0 to 16714\n",
      "Data columns (total 11 columns):\n",
      " #   Column           Non-Null Count  Dtype  \n",
      "---  ------           --------------  -----  \n",
      " 0   name             16713 non-null  object \n",
      " 1   platform         16713 non-null  object \n",
      " 2   year_of_release  16444 non-null  float64\n",
      " 3   genre            16713 non-null  object \n",
      " 4   na_sales         16713 non-null  float64\n",
      " 5   eu_sales         16713 non-null  float64\n",
      " 6   jp_sales         16713 non-null  float64\n",
      " 7   other_sales      16713 non-null  float64\n",
      " 8   critic_score     8137 non-null   float64\n",
      " 9   user_score       7590 non-null   float64\n",
      " 10  rating           9949 non-null   object \n",
      "dtypes: float64(7), object(4)\n",
      "memory usage: 1.5+ MB\n"
     ]
    }
   ],
   "source": [
    "#заменим тип данных на float, для возможности работать со столбцом и строить графики.\n",
    "df['user_score'] = df['user_score'].astype('float')\n",
    "df.info()"
   ]
  },
  {
   "cell_type": "code",
   "execution_count": 11,
   "metadata": {},
   "outputs": [
    {
     "data": {
      "text/html": [
       "<div>\n",
       "<style scoped>\n",
       "    .dataframe tbody tr th:only-of-type {\n",
       "        vertical-align: middle;\n",
       "    }\n",
       "\n",
       "    .dataframe tbody tr th {\n",
       "        vertical-align: top;\n",
       "    }\n",
       "\n",
       "    .dataframe thead th {\n",
       "        text-align: right;\n",
       "    }\n",
       "</style>\n",
       "<table border=\"1\" class=\"dataframe\">\n",
       "  <thead>\n",
       "    <tr style=\"text-align: right;\">\n",
       "      <th></th>\n",
       "      <th>name</th>\n",
       "      <th>platform</th>\n",
       "      <th>year_of_release</th>\n",
       "      <th>genre</th>\n",
       "      <th>na_sales</th>\n",
       "      <th>eu_sales</th>\n",
       "      <th>jp_sales</th>\n",
       "      <th>other_sales</th>\n",
       "      <th>critic_score</th>\n",
       "      <th>user_score</th>\n",
       "      <th>rating</th>\n",
       "      <th>all_sales</th>\n",
       "    </tr>\n",
       "  </thead>\n",
       "  <tbody>\n",
       "    <tr>\n",
       "      <th>0</th>\n",
       "      <td>Wii Sports</td>\n",
       "      <td>Wii</td>\n",
       "      <td>2006.0</td>\n",
       "      <td>Sports</td>\n",
       "      <td>41.36</td>\n",
       "      <td>28.96</td>\n",
       "      <td>3.77</td>\n",
       "      <td>8.45</td>\n",
       "      <td>76.0</td>\n",
       "      <td>8.0</td>\n",
       "      <td>E</td>\n",
       "      <td>82.54</td>\n",
       "    </tr>\n",
       "    <tr>\n",
       "      <th>1</th>\n",
       "      <td>Super Mario Bros.</td>\n",
       "      <td>NES</td>\n",
       "      <td>1985.0</td>\n",
       "      <td>Platform</td>\n",
       "      <td>29.08</td>\n",
       "      <td>3.58</td>\n",
       "      <td>6.81</td>\n",
       "      <td>0.77</td>\n",
       "      <td>NaN</td>\n",
       "      <td>NaN</td>\n",
       "      <td>NaN</td>\n",
       "      <td>40.24</td>\n",
       "    </tr>\n",
       "    <tr>\n",
       "      <th>2</th>\n",
       "      <td>Mario Kart Wii</td>\n",
       "      <td>Wii</td>\n",
       "      <td>2008.0</td>\n",
       "      <td>Racing</td>\n",
       "      <td>15.68</td>\n",
       "      <td>12.76</td>\n",
       "      <td>3.79</td>\n",
       "      <td>3.29</td>\n",
       "      <td>82.0</td>\n",
       "      <td>8.3</td>\n",
       "      <td>E</td>\n",
       "      <td>35.52</td>\n",
       "    </tr>\n",
       "    <tr>\n",
       "      <th>3</th>\n",
       "      <td>Wii Sports Resort</td>\n",
       "      <td>Wii</td>\n",
       "      <td>2009.0</td>\n",
       "      <td>Sports</td>\n",
       "      <td>15.61</td>\n",
       "      <td>10.93</td>\n",
       "      <td>3.28</td>\n",
       "      <td>2.95</td>\n",
       "      <td>80.0</td>\n",
       "      <td>8.0</td>\n",
       "      <td>E</td>\n",
       "      <td>32.77</td>\n",
       "    </tr>\n",
       "    <tr>\n",
       "      <th>4</th>\n",
       "      <td>Pokemon Red/Pokemon Blue</td>\n",
       "      <td>GB</td>\n",
       "      <td>1996.0</td>\n",
       "      <td>Role-Playing</td>\n",
       "      <td>11.27</td>\n",
       "      <td>8.89</td>\n",
       "      <td>10.22</td>\n",
       "      <td>1.00</td>\n",
       "      <td>NaN</td>\n",
       "      <td>NaN</td>\n",
       "      <td>NaN</td>\n",
       "      <td>31.38</td>\n",
       "    </tr>\n",
       "  </tbody>\n",
       "</table>\n",
       "</div>"
      ],
      "text/plain": [
       "                       name platform  year_of_release         genre  na_sales  \\\n",
       "0                Wii Sports      Wii           2006.0        Sports     41.36   \n",
       "1         Super Mario Bros.      NES           1985.0      Platform     29.08   \n",
       "2            Mario Kart Wii      Wii           2008.0        Racing     15.68   \n",
       "3         Wii Sports Resort      Wii           2009.0        Sports     15.61   \n",
       "4  Pokemon Red/Pokemon Blue       GB           1996.0  Role-Playing     11.27   \n",
       "\n",
       "   eu_sales  jp_sales  other_sales  critic_score  user_score rating  all_sales  \n",
       "0     28.96      3.77         8.45          76.0         8.0      E      82.54  \n",
       "1      3.58      6.81         0.77           NaN         NaN    NaN      40.24  \n",
       "2     12.76      3.79         3.29          82.0         8.3      E      35.52  \n",
       "3     10.93      3.28         2.95          80.0         8.0      E      32.77  \n",
       "4      8.89     10.22         1.00           NaN         NaN    NaN      31.38  "
      ]
     },
     "execution_count": 11,
     "metadata": {},
     "output_type": "execute_result"
    }
   ],
   "source": [
    "#создаем столбец с общими продажами по миру,он потребуется нам для анализа данных\n",
    "#df['all_sales'] = df['na_sales'] + df['eu_sales'] + df['jp_sales'] + df['other_sales']\n",
    "df['all_sales'] = df[['na_sales','eu_sales','jp_sales','other_sales']].sum(axis=1)\n",
    "df.head()"
   ]
  },
  {
   "cell_type": "code",
   "execution_count": 12,
   "metadata": {
    "scrolled": true
   },
   "outputs": [
    {
     "data": {
      "text/plain": [
       "NaN     6195\n",
       "E       3921\n",
       "T       2902\n",
       "M       1535\n",
       "E10+    1392\n",
       "EC         8\n",
       "K-A        3\n",
       "RP         1\n",
       "AO         1\n",
       "Name: rating, dtype: int64"
      ]
     },
     "execution_count": 12,
     "metadata": {},
     "output_type": "execute_result"
    }
   ],
   "source": [
    "#расмотрим пустоты в столбце rating после 1994г,когда этот рейтинг появился.\n",
    "df[df['year_of_release'] > 1994]['rating'].value_counts(dropna=False)"
   ]
  },
  {
   "cell_type": "code",
   "execution_count": 13,
   "metadata": {},
   "outputs": [],
   "source": [
    "#заменим пропуски на \"без рейтинга\", что бы не пропустить важные показатели в дальнейшем.\n",
    "df['rating'] = df['rating'].fillna('No rating')"
   ]
  },
  {
   "cell_type": "code",
   "execution_count": 14,
   "metadata": {},
   "outputs": [
    {
     "data": {
      "text/plain": [
       "No rating    6764\n",
       "E            3990\n",
       "T            2961\n",
       "M            1563\n",
       "E10+         1420\n",
       "EC              8\n",
       "RP              3\n",
       "K-A             3\n",
       "AO              1\n",
       "Name: rating, dtype: int64"
      ]
     },
     "execution_count": 14,
     "metadata": {},
     "output_type": "execute_result"
    }
   ],
   "source": [
    "df['rating'].value_counts(dropna=False)#проверим что все пропуски тут заменены."
   ]
  },
  {
   "cell_type": "markdown",
   "metadata": {},
   "source": [
    "## Исследовательский анализ данных"
   ]
  },
  {
   "cell_type": "markdown",
   "metadata": {},
   "source": [
    "### Количество выпущенных игр и прибыль в год"
   ]
  },
  {
   "cell_type": "markdown",
   "metadata": {},
   "source": [
    "Рассмотрим на графике сколько всего было выпущено игр и заработано денег по годам."
   ]
  },
  {
   "cell_type": "code",
   "execution_count": 15,
   "metadata": {
    "scrolled": false
   },
   "outputs": [
    {
     "data": {
      "image/png": "[encoded data removed]",
      "text/plain": [
       "<Figure size 1152x720 with 1 Axes>"
      ]
     },
     "metadata": {
      "needs_background": "light"
     },
     "output_type": "display_data"
    }
   ],
   "source": [
    "#смотрим, сколько игр выпускалось в разные годы\n",
    "df.groupby('year_of_release').agg({'name':'count','all_sales':'sum'}).plot(kind='bar',figsize=(16,10));\n",
    "plt.title(\"Количество проданных игр в год\")\n",
    "plt.xlabel(\"Год выпуска\")\n",
    "plt.ylabel(\"Кол-во выпущенных игр\");"
   ]
  },
  {
   "cell_type": "markdown",
   "metadata": {},
   "source": [
    "Видим, что пик выпуска игр пришелся на 2008 и 2009 года, рост пошел в 2001 году, спад наблюдается в 2012 году."
   ]
  },
  {
   "cell_type": "markdown",
   "metadata": {},
   "source": [
    "### Количество проданных игр за все время по каждой платформе"
   ]
  },
  {
   "cell_type": "code",
   "execution_count": 16,
   "metadata": {
    "scrolled": false
   },
   "outputs": [
    {
     "data": {
      "image/png": "[encoded data removed]",
      "text/plain": [
       "<Figure size 720x360 with 1 Axes>"
      ]
     },
     "metadata": {
      "needs_background": "light"
     },
     "output_type": "display_data"
    }
   ],
   "source": [
    "#общие продажи по платформам за все года.\n",
    "df.pivot_table(index=['platform'],values='all_sales',aggfunc='sum').sort_values(by='all_sales').plot(kind='bar',figsize=(10,5));\n",
    "plt.title(\"Количество продаж по каждой платформе\")\n",
    "plt.xlabel(\"Платформа\")\n",
    "plt.ylabel(\"млн\");"
   ]
  },
  {
   "cell_type": "markdown",
   "metadata": {},
   "source": [
    "Видим, что платформа PS2 заработала за все время более 1200млн.\n",
    "\n",
    "Следующий топ платформ по заработку это: X360, PS3, Wii, DS, PS.\n",
    "\n",
    "Есть платформы, по которым почти не было продаж за весь период. \n",
    "\n",
    "Так же, очевидно, что ряд данных за определенные года нам уже будут не актуальны: платформы с маленьким количеством продаж, а так же платформы, которые уже не выпускают игры. \n",
    "\n",
    "Далее попробуем понять, какой именно период взять за основу анализа датасета для будущих продаж в магазине."
   ]
  },
  {
   "cell_type": "markdown",
   "metadata": {},
   "source": [
    "### Продолжительность жизни платформы"
   ]
  },
  {
   "cell_type": "code",
   "execution_count": 17,
   "metadata": {
    "scrolled": false
   },
   "outputs": [
    {
     "data": {
      "image/png": "[encoded data removed]",
      "text/plain": [
       "<Figure size 720x360 with 1 Axes>"
      ]
     },
     "metadata": {
      "needs_background": "light"
     },
     "output_type": "display_data"
    }
   ],
   "source": [
    "#посмотрим,как по годам распределились платформы.\n",
    "distr_of_year = df.pivot_table(index=['platform', 'year_of_release'],values='all_sales',aggfunc='sum')\n",
    "distr_of_year = distr_of_year.reset_index()\n",
    "distr_of_year.plot(x='platform', y='year_of_release', kind='scatter',rot=90, figsize=(10,5));\n",
    "#видим, какие платформы перестали существовать,а какие продолжают до сих пор(на момент 2016г ) \n",
    "plt.title(\"Продолжительность жизни платформы\")\n",
    "plt.xlabel(\"Платформа\")\n",
    "plt.ylabel(\"Год\");"
   ]
  },
  {
   "cell_type": "markdown",
   "metadata": {},
   "source": [
    "С помощью необычного графика можно наглядно увидеть, какие платформы уже перестали свое существование, а какие живут уже более 15 лет, например PC!\n",
    "\n",
    "Посчитаем среднюю продолжительность жизни платформы. Причем для расчета возьмем медиану,а не среднее, так как в датасете есть платформы с очень большим и с очень маленьким \"сроком\" жизни.\n",
    "\n",
    "Благодаря этому значению будем понимать,как отфильтровать наш датасет, что бы для анализа использовать только актуальные данные на 2017год."
   ]
  },
  {
   "cell_type": "code",
   "execution_count": 18,
   "metadata": {},
   "outputs": [
    {
     "data": {
      "text/plain": [
       "7.0"
      ]
     },
     "execution_count": 18,
     "metadata": {},
     "output_type": "execute_result"
    }
   ],
   "source": [
    "#рассчитаем среднюю продолжительность жизни платформы.\n",
    "duration_platform = df.pivot_table(index=['platform'],values='year_of_release',aggfunc=['min','max']).reset_index()\n",
    "duration_platform['subtraction'] = duration_platform['max'] - duration_platform['min'] + 1\n",
    "duration_platform['subtraction'].median()"
   ]
  },
  {
   "cell_type": "markdown",
   "metadata": {},
   "source": [
    "В среднем, продолжительность жизни платформы - 7 лет. Однако, брать 7 лет будет не совсем корректно,ведь тогда в выгрузку попадут платформы которые находятся на этапе \"вымирания\". А так же, на фоне 7летних платформ-гигантов нам сложно будет обнаружить новичком, которые только пришли на рынок и возможно уже стали лучшими.\n",
    "А так же, хочется отметить что данная индустрия очень динамично развивается, и то что было актуально 3 года назад,сейчас уже может быть позабыто.\n",
    "\n",
    "Поэтому, для покупки игр в магазин \"Стримчик\" в 2017году, мы возьмем данные за последние 2 года."
   ]
  },
  {
   "cell_type": "code",
   "execution_count": 19,
   "metadata": {
    "scrolled": false
   },
   "outputs": [
    {
     "data": {
      "text/plain": [
       "array([2015., 2016.])"
      ]
     },
     "execution_count": 19,
     "metadata": {},
     "output_type": "execute_result"
    }
   ],
   "source": [
    "#фильтруем датасет. возьмем данные за последние 2 Года, будем считать их актуальными.\n",
    "df_new = df[df['year_of_release'] > 2014]\n",
    "df_new['year_of_release'].unique()"
   ]
  },
  {
   "cell_type": "code",
   "execution_count": 20,
   "metadata": {},
   "outputs": [
    {
     "name": "stdout",
     "output_type": "stream",
     "text": [
      "<class 'pandas.core.frame.DataFrame'>\n",
      "Int64Index: 1108 entries, 31 to 16714\n",
      "Data columns (total 12 columns):\n",
      " #   Column           Non-Null Count  Dtype  \n",
      "---  ------           --------------  -----  \n",
      " 0   name             1108 non-null   object \n",
      " 1   platform         1108 non-null   object \n",
      " 2   year_of_release  1108 non-null   float64\n",
      " 3   genre            1108 non-null   object \n",
      " 4   na_sales         1108 non-null   float64\n",
      " 5   eu_sales         1108 non-null   float64\n",
      " 6   jp_sales         1108 non-null   float64\n",
      " 7   other_sales      1108 non-null   float64\n",
      " 8   critic_score     457 non-null    float64\n",
      " 9   user_score       559 non-null    float64\n",
      " 10  rating           1108 non-null   object \n",
      " 11  all_sales        1108 non-null   float64\n",
      "dtypes: float64(8), object(4)\n",
      "memory usage: 112.5+ KB\n"
     ]
    }
   ],
   "source": [
    "#посмотрим наш обновленный датасет\n",
    "df_new.info()"
   ]
  },
  {
   "cell_type": "markdown",
   "metadata": {},
   "source": [
    "### Суммарное количество проданных игр по платформам (за 2015-2016г)"
   ]
  },
  {
   "cell_type": "markdown",
   "metadata": {},
   "source": [
    "Обратимся к более современным данным, а именно за последние 2 года.\n",
    "\n",
    "Построим график лидеров продаж за взятый период."
   ]
  },
  {
   "cell_type": "code",
   "execution_count": 21,
   "metadata": {
    "scrolled": false
   },
   "outputs": [
    {
     "data": {
      "image/png": "[encoded data removed]",
      "text/plain": [
       "<Figure size 720x360 with 1 Axes>"
      ]
     },
     "metadata": {
      "needs_background": "light"
     },
     "output_type": "display_data"
    }
   ],
   "source": [
    "#список продаж за последние 2 года\n",
    "top_sales_platform = df_new.pivot_table(index='platform', values='all_sales',aggfunc='sum').sort_values(by='all_sales',ascending=False)\n",
    "top_sales_platform.plot(kind='bar',figsize=(10,5));\n",
    "plt.title(\"Топ продаж по платформам за 2015-2016 год\")\n",
    "plt.xlabel(\"Платформа\")\n",
    "plt.ylabel(\"Продажи, млн\");"
   ]
  },
  {
   "cell_type": "markdown",
   "metadata": {},
   "source": [
    "Обратим внимание, что лидер продаж за все времена с 1980года была PS2. Теперь же она даже не попала в топ продаж за последние два года. \n",
    "\n",
    "В данном топе лидирует платформы PS4 и XOne, оставив позади своих предшественников PS3 и X360."
   ]
  },
  {
   "cell_type": "markdown",
   "metadata": {},
   "source": [
    "### Количество проданных игр по каждой платформе в год\n",
    "\n",
    "\n",
    "Рассмотрим продажи по платформам в разбивке по годам."
   ]
  },
  {
   "cell_type": "code",
   "execution_count": 22,
   "metadata": {
    "scrolled": false
   },
   "outputs": [
    {
     "data": {
      "image/png": "[encoded data removed]",
      "text/plain": [
       "<Figure size 432x288 with 2 Axes>"
      ]
     },
     "metadata": {
      "needs_background": "light"
     },
     "output_type": "display_data"
    },
    {
     "data": {
      "image/png": "[encoded data removed]",
      "text/plain": [
       "<Figure size 432x288 with 2 Axes>"
      ]
     },
     "metadata": {
      "needs_background": "light"
     },
     "output_type": "display_data"
    }
   ],
   "source": [
    "top_sales_2015 = df_new[df_new['year_of_release'] == 2015].pivot_table(index='platform',values='all_sales',aggfunc='sum').sort_values(by='all_sales', ascending=False)\n",
    "top_sales_2016 = df_new[df_new['year_of_release'] == 2016].pivot_table(index='platform',values='all_sales',aggfunc='sum').sort_values(by='all_sales', ascending=False)\n",
    "sns.heatmap(top_sales_2015);\n",
    "plt.title(\"Продажи по каждой платформе в 2015 год\")\n",
    "plt.xlabel(\"Платформа\")\n",
    "plt.ylabel(\"Продажи, млн\");\n",
    "plt.show()\n",
    "sns.heatmap(top_sales_2016);\n",
    "plt.title(\"Продажи по каждой платформе в 2016 год\")\n",
    "plt.xlabel(\"Платформа\")\n",
    "plt.ylabel(\"Продажи, млн\");\n",
    "plt.show()"
   ]
  },
  {
   "cell_type": "markdown",
   "metadata": {},
   "source": [
    "Лидеры по продажам за два года оказались однозначными: PS4, XOne, 3DS. PC в 2016 вроде стал лучше продаваться, но все равно не достаточно хорошо, по сравнению с другими консолями."
   ]
  },
  {
   "cell_type": "markdown",
   "metadata": {},
   "source": [
    "### Топ продаж игр по каждой из платформ ( за 2015-2016г)"
   ]
  },
  {
   "cell_type": "code",
   "execution_count": 23,
   "metadata": {},
   "outputs": [
    {
     "data": {
      "text/html": [
       "<div>\n",
       "<style scoped>\n",
       "    .dataframe tbody tr th:only-of-type {\n",
       "        vertical-align: middle;\n",
       "    }\n",
       "\n",
       "    .dataframe tbody tr th {\n",
       "        vertical-align: top;\n",
       "    }\n",
       "\n",
       "    .dataframe thead th {\n",
       "        text-align: right;\n",
       "    }\n",
       "</style>\n",
       "<table border=\"1\" class=\"dataframe\">\n",
       "  <thead>\n",
       "    <tr style=\"text-align: right;\">\n",
       "      <th></th>\n",
       "      <th>all_sales</th>\n",
       "    </tr>\n",
       "    <tr>\n",
       "      <th>platform</th>\n",
       "      <th></th>\n",
       "    </tr>\n",
       "  </thead>\n",
       "  <tbody>\n",
       "    <tr>\n",
       "      <th>PS4</th>\n",
       "      <td>188.15</td>\n",
       "    </tr>\n",
       "    <tr>\n",
       "      <th>XOne</th>\n",
       "      <td>86.29</td>\n",
       "    </tr>\n",
       "    <tr>\n",
       "      <th>3DS</th>\n",
       "      <td>42.92</td>\n",
       "    </tr>\n",
       "  </tbody>\n",
       "</table>\n",
       "</div>"
      ],
      "text/plain": [
       "          all_sales\n",
       "platform           \n",
       "PS4          188.15\n",
       "XOne          86.29\n",
       "3DS           42.92"
      ]
     },
     "execution_count": 23,
     "metadata": {},
     "output_type": "execute_result"
    }
   ],
   "source": [
    "#рассмотрим топ-3 продаж\n",
    "top_sales_platform = top_sales_platform.head(3)\n",
    "top_sales_platform"
   ]
  },
  {
   "cell_type": "code",
   "execution_count": 24,
   "metadata": {},
   "outputs": [
    {
     "name": "stdout",
     "output_type": "stream",
     "text": [
      "<class 'pandas.core.frame.DataFrame'>\n",
      "Int64Index: 1108 entries, 31 to 16714\n",
      "Data columns (total 12 columns):\n",
      " #   Column           Non-Null Count  Dtype  \n",
      "---  ------           --------------  -----  \n",
      " 0   name             1108 non-null   object \n",
      " 1   platform         1108 non-null   object \n",
      " 2   year_of_release  1108 non-null   float64\n",
      " 3   genre            1108 non-null   object \n",
      " 4   na_sales         1108 non-null   float64\n",
      " 5   eu_sales         1108 non-null   float64\n",
      " 6   jp_sales         1108 non-null   float64\n",
      " 7   other_sales      1108 non-null   float64\n",
      " 8   critic_score     457 non-null    float64\n",
      " 9   user_score       559 non-null    float64\n",
      " 10  rating           1108 non-null   object \n",
      " 11  all_sales        1108 non-null   float64\n",
      "dtypes: float64(8), object(4)\n",
      "memory usage: 112.5+ KB\n"
     ]
    }
   ],
   "source": [
    "df_new.info()"
   ]
  },
  {
   "cell_type": "code",
   "execution_count": 25,
   "metadata": {},
   "outputs": [
    {
     "data": {
      "text/plain": [
       "array(['PS4', 'XOne', '3DS'], dtype=object)"
      ]
     },
     "execution_count": 25,
     "metadata": {},
     "output_type": "execute_result"
    }
   ],
   "source": [
    "df_new = df_new.query('platform in @top_sales_platform.index')#Отфильтровали начальный датасет\n",
    "df_new['platform'].unique()#проверка что фильтр сработал"
   ]
  },
  {
   "cell_type": "code",
   "execution_count": 26,
   "metadata": {
    "scrolled": false
   },
   "outputs": [
    {
     "data": {
      "image/png": "[encoded data removed]",
      "text/plain": [
       "<Figure size 720x432 with 1 Axes>"
      ]
     },
     "metadata": {
      "needs_background": "light"
     },
     "output_type": "display_data"
    }
   ],
   "source": [
    "plt.figure(figsize = (10,6))\n",
    "plt.ylim(0,4)\n",
    "sns.boxplot(y='all_sales', x='platform', data=df_new);\n",
    "plt.title(\"Топ продаж игр по каждой из платформ ( за последние  2 года)\")\n",
    "plt.xlabel(\"Платформа\")\n",
    "plt.ylabel(\"Продажи, млн\");"
   ]
  },
  {
   "cell_type": "markdown",
   "metadata": {},
   "source": [
    "Из графика \"ящик с усами\" мы видим, что есть однозначные лидеры по продажам игр на своих платформах.\n",
    "Несмотря на то, что XOne и PS4 только вышли на рынок(3 года), они уже имеют высокие показатели по продажам,как у своих предшественников X360 и PS3 соотвественно. "
   ]
  },
  {
   "cell_type": "markdown",
   "metadata": {},
   "source": [
    "### Влияние на продажи двух показателей: оценки критиков и оценку пользователей "
   ]
  },
  {
   "cell_type": "code",
   "execution_count": 27,
   "metadata": {
    "scrolled": true
   },
   "outputs": [
    {
     "name": "stdout",
     "output_type": "stream",
     "text": [
      "<class 'pandas.core.frame.DataFrame'>\n",
      "Int64Index: 16713 entries, 0 to 16714\n",
      "Data columns (total 12 columns):\n",
      " #   Column           Non-Null Count  Dtype  \n",
      "---  ------           --------------  -----  \n",
      " 0   name             16713 non-null  object \n",
      " 1   platform         16713 non-null  object \n",
      " 2   year_of_release  16444 non-null  float64\n",
      " 3   genre            16713 non-null  object \n",
      " 4   na_sales         16713 non-null  float64\n",
      " 5   eu_sales         16713 non-null  float64\n",
      " 6   jp_sales         16713 non-null  float64\n",
      " 7   other_sales      16713 non-null  float64\n",
      " 8   critic_score     8137 non-null   float64\n",
      " 9   user_score       7590 non-null   float64\n",
      " 10  rating           16713 non-null  object \n",
      " 11  all_sales        16713 non-null  float64\n",
      "dtypes: float64(8), object(4)\n",
      "memory usage: 1.7+ MB\n"
     ]
    }
   ],
   "source": [
    "df.info()"
   ]
  },
  {
   "cell_type": "markdown",
   "metadata": {},
   "source": [
    "Прежде чем приступать к оценке зависимости между значениями, необходимо обратить внимание на пустоты в столбцах \"critic_score\" и \"user_score\".\n",
    "\n",
    "Данные пустоты нет возможности чем то заменить, медиана и среднее здесь не подходят,так как этот показатель скорее категориальный, чем количественный.\n",
    "Придется анализировать данные как есть. При этом, мы будем проводить анализ зависимости за весь период существования топовых платформ - PS4, XOne и 3DS. Во первых,данных будет больше,так как мы убрали фильтр по годам. Во-вторых, картина будет более полной в отношении зависимости продаж и оценок за счет первого пункта."
   ]
  },
  {
   "cell_type": "code",
   "execution_count": 28,
   "metadata": {
    "scrolled": false
   },
   "outputs": [],
   "source": [
    "#возьмем платформу с топ продажами,рассмотрим как влияет оценки критиков и оценка пользователей на продажи в целом\n",
    "ps4_platform = df[df['platform'] == 'PS4']\n",
    "ps4_platform['critic_score'] = ps4_platform['critic_score']/10\n",
    "#превратим 100рейтинг критиков в 10-бальный что бы проще было сравнивать с оценкой пользователей"
   ]
  },
  {
   "cell_type": "markdown",
   "metadata": {},
   "source": [
    "#### Зависимость количества продаж от оценки критиков, платформа PS4"
   ]
  },
  {
   "cell_type": "code",
   "execution_count": 29,
   "metadata": {
    "scrolled": false
   },
   "outputs": [
    {
     "data": {
      "text/plain": [
       "0.4065679020617811"
      ]
     },
     "execution_count": 29,
     "metadata": {},
     "output_type": "execute_result"
    },
    {
     "data": {
      "image/png": "[encoded data removed]",
      "text/plain": [
       "<Figure size 432x288 with 1 Axes>"
      ]
     },
     "metadata": {
      "needs_background": "light"
     },
     "output_type": "display_data"
    }
   ],
   "source": [
    "ps4_platform.plot(x='critic_score',y='all_sales',kind='scatter');\n",
    "plt.title(\"Зависимость количества продаж от оценки критиков, платформа PS4\")\n",
    "plt.xlabel(\"Оценка критиков\")\n",
    "plt.ylabel(\"Продажи, млн\");\n",
    "ps4_platform['critic_score'].corr(ps4_platform['all_sales'])#Значение зависимости двух показателей"
   ]
  },
  {
   "cell_type": "markdown",
   "metadata": {},
   "source": [
    "Значение корреляции: 0.40. Зависимость есть, хоть и небольшая. \n",
    "\n",
    "Значит, при покупке игры на PS4 люди обращают внимание на оценку критиков. Видим из графика, что чем больше оценка критика, тем больше продаж у данной игры. В основном покупки игры сосредоточены с оценкой в интервале от 6 до 9 баллов."
   ]
  },
  {
   "cell_type": "markdown",
   "metadata": {},
   "source": [
    "#### Зависимость количества продаж от оценки пользователей, платформа PS4"
   ]
  },
  {
   "cell_type": "code",
   "execution_count": 30,
   "metadata": {
    "scrolled": true
   },
   "outputs": [
    {
     "data": {
      "text/plain": [
       "-0.031957110204556424"
      ]
     },
     "execution_count": 30,
     "metadata": {},
     "output_type": "execute_result"
    },
    {
     "data": {
      "image/png": "[encoded data removed]",
      "text/plain": [
       "<Figure size 432x288 with 1 Axes>"
      ]
     },
     "metadata": {
      "needs_background": "light"
     },
     "output_type": "display_data"
    }
   ],
   "source": [
    "ps4_platform.plot(x='user_score',y='all_sales',kind='scatter');\n",
    "plt.title(\"Зависимость количества продаж от оценки пользователей, платформа PS4\")\n",
    "plt.xlabel(\"Оценка пользователей\")\n",
    "plt.ylabel(\"Продажи, млн\");\n",
    "ps4_platform['user_score'].corr(ps4_platform['all_sales'])"
   ]
  },
  {
   "cell_type": "markdown",
   "metadata": {},
   "source": [
    "Интересно, видим, что значение корреляции: -0.031, что говорит нам о слабой обратной зависимости. Так же видим на графике распределения, что в целом по всему интервалу оценок есть и низкие продажи, и высокие. \n",
    "\n",
    "То есть,не зависимо от оценки, которые пользователи ставят игре, игры продаются и успешно,и неуспешно. \n"
   ]
  },
  {
   "cell_type": "markdown",
   "metadata": {},
   "source": [
    "#### Зависимость количества продаж от оценки критиков, платформа XOne"
   ]
  },
  {
   "cell_type": "markdown",
   "metadata": {},
   "source": [
    "Возьмем платформу XOne, вторую в рейтинге продаж, и проведем те же действия. Проверим зависимость количества продаж от оценки критиков и от оценки пользователей."
   ]
  },
  {
   "cell_type": "code",
   "execution_count": 31,
   "metadata": {
    "scrolled": false
   },
   "outputs": [],
   "source": [
    "XOne_platform = df[df['platform'] == 'XOne']\n",
    "XOne_platform['critic_score'] = XOne_platform['critic_score']/10"
   ]
  },
  {
   "cell_type": "code",
   "execution_count": 32,
   "metadata": {
    "scrolled": false
   },
   "outputs": [
    {
     "data": {
      "text/plain": [
       "0.4169983280084022"
      ]
     },
     "execution_count": 32,
     "metadata": {},
     "output_type": "execute_result"
    },
    {
     "data": {
      "image/png": "[encoded data removed]",
      "text/plain": [
       "<Figure size 432x288 with 1 Axes>"
      ]
     },
     "metadata": {
      "needs_background": "light"
     },
     "output_type": "display_data"
    }
   ],
   "source": [
    "XOne_platform.plot(x='critic_score',y='all_sales',kind='scatter');\n",
    "plt.title(\"Зависимость количества продаж от оценки критиков, платформа XOne\")\n",
    "plt.xlabel(\"Оценка критиков\")\n",
    "plt.ylabel(\"Продажи, млн\");\n",
    "XOne_platform['critic_score'].corr(XOne_platform['all_sales'])"
   ]
  },
  {
   "cell_type": "markdown",
   "metadata": {},
   "source": [
    "Значение корреляции: 0.416. Наблюдаем небольшую зависимость от продаж игр и оценкой этой игры критиками.\n",
    "Выходит, что при покупке игры на платформе XOne,пользователи прислушиваются к критикам так же, как и на платформе PS4."
   ]
  },
  {
   "cell_type": "markdown",
   "metadata": {},
   "source": [
    "#### Зависимость количества продаж от оценки пользователей, платформа XOne"
   ]
  },
  {
   "cell_type": "code",
   "execution_count": 33,
   "metadata": {
    "scrolled": true
   },
   "outputs": [
    {
     "data": {
      "text/plain": [
       "-0.06892505328279414"
      ]
     },
     "execution_count": 33,
     "metadata": {},
     "output_type": "execute_result"
    },
    {
     "data": {
      "image/png": "[encoded data removed]",
      "text/plain": [
       "<Figure size 432x288 with 1 Axes>"
      ]
     },
     "metadata": {
      "needs_background": "light"
     },
     "output_type": "display_data"
    }
   ],
   "source": [
    "XOne_platform.plot(x='user_score',y='all_sales',kind='scatter');\n",
    "plt.title(\"Зависимость количества продаж от оценки пользователей, платформа XOne\")\n",
    "plt.xlabel(\"Оценка пользователей\")\n",
    "plt.ylabel(\"Продажи, млн\");\n",
    "XOne_platform['user_score'].corr(XOne_platform['all_sales'])"
   ]
  },
  {
   "cell_type": "markdown",
   "metadata": {},
   "source": [
    "Значение корреляции: -0.068, что говорит нам о слабой обратной зависимости. Игры продаются большим тиражом, несмотря на плохие оценки пользователей."
   ]
  },
  {
   "cell_type": "markdown",
   "metadata": {},
   "source": [
    "#### Зависимость количества продаж от оценки критиков, платформа 3DS"
   ]
  },
  {
   "cell_type": "code",
   "execution_count": 34,
   "metadata": {
    "scrolled": false
   },
   "outputs": [],
   "source": [
    "DS_platform = df[df['platform'] == '3DS']\n",
    "DS_platform['critic_score'] = DS_platform['critic_score']/10"
   ]
  },
  {
   "cell_type": "code",
   "execution_count": 35,
   "metadata": {
    "scrolled": true
   },
   "outputs": [
    {
     "data": {
      "text/plain": [
       "0.34940093039241304"
      ]
     },
     "execution_count": 35,
     "metadata": {},
     "output_type": "execute_result"
    },
    {
     "data": {
      "image/png": "[encoded data removed]",
      "text/plain": [
       "<Figure size 432x288 with 1 Axes>"
      ]
     },
     "metadata": {
      "needs_background": "light"
     },
     "output_type": "display_data"
    }
   ],
   "source": [
    "DS_platform.plot(x='critic_score',y='all_sales',kind='scatter');\n",
    "plt.title(\"Зависимость количества продаж от оценки критиков, платформа 3DS\")\n",
    "plt.xlabel(\"Оценка критиков\")\n",
    "plt.ylabel(\"Продажи, млн\");\n",
    "DS_platform['critic_score'].corr(DS_platform['all_sales'])"
   ]
  },
  {
   "cell_type": "markdown",
   "metadata": {},
   "source": [
    "#### Зависимость количества продаж от оценки пользователей, платформа 3DS"
   ]
  },
  {
   "cell_type": "code",
   "execution_count": 36,
   "metadata": {},
   "outputs": [
    {
     "data": {
      "text/plain": [
       "0.22480798039571082"
      ]
     },
     "execution_count": 36,
     "metadata": {},
     "output_type": "execute_result"
    },
    {
     "data": {
      "image/png": "[encoded data removed]",
      "text/plain": [
       "<Figure size 432x288 with 1 Axes>"
      ]
     },
     "metadata": {
      "needs_background": "light"
     },
     "output_type": "display_data"
    }
   ],
   "source": [
    "DS_platform.plot(x='user_score',y='all_sales',kind='scatter');\n",
    "plt.title(\"Зависимость количества продаж от оценки пользователей, платформа 3DS\")\n",
    "plt.xlabel(\"Оценка пользователей\")\n",
    "plt.ylabel(\"Продажи, млн\");\n",
    "DS_platform['user_score'].corr(DS_platform['all_sales'])"
   ]
  },
  {
   "cell_type": "markdown",
   "metadata": {},
   "source": [
    "По платформе 3DS видим небольшую зависимость в обоих случаях - и от оценки пользователей и от оценки критиков. "
   ]
  },
  {
   "cell_type": "markdown",
   "metadata": {},
   "source": [
    "### Количество продаж в разных жанрах"
   ]
  },
  {
   "cell_type": "code",
   "execution_count": 37,
   "metadata": {
    "scrolled": false
   },
   "outputs": [
    {
     "data": {
      "image/png": "[encoded data removed]",
      "text/plain": [
       "<Figure size 432x288 with 2 Axes>"
      ]
     },
     "metadata": {
      "needs_background": "light"
     },
     "output_type": "display_data"
    }
   ],
   "source": [
    "#Сначала Рассмотрим в каком жанре было выпущено больше всего игр(за все время).\n",
    "sns.heatmap(df.pivot_table(index='genre', values='all_sales', aggfunc='count').sort_values(by='all_sales',ascending=False));\n",
    "plt.title(\"В каком жанре было выпущено больше всего игр\")\n",
    "plt.xlabel(\"Количество игр в жанре\")\n",
    "plt.ylabel(\"Жанр\");"
   ]
  },
  {
   "cell_type": "markdown",
   "metadata": {},
   "source": [
    "Больше всего игр было выпущено в жанрах: `Action, Sport, Misc, Role-playing.`\n",
    "Однако, это не означает что эти жанры самые прибыльные."
   ]
  },
  {
   "cell_type": "code",
   "execution_count": 38,
   "metadata": {
    "scrolled": false
   },
   "outputs": [
    {
     "data": {
      "image/png": "[encoded data removed]",
      "text/plain": [
       "<Figure size 432x288 with 2 Axes>"
      ]
     },
     "metadata": {
      "needs_background": "light"
     },
     "output_type": "display_data"
    }
   ],
   "source": [
    "#посмотрим на тепловую карту средних продаж вразных жанрах\n",
    "sns.heatmap(df.pivot_table(index='genre', values='all_sales', aggfunc='mean').sort_values(by='all_sales',ascending=False));\n",
    "plt.title(\"Самые популярные жанры\")\n",
    "plt.xlabel(\"Продажи, млн\")\n",
    "plt.ylabel(\"Жанр\");"
   ]
  },
  {
   "cell_type": "markdown",
   "metadata": {},
   "source": [
    "В среднем, больше всего игровых копий купили именно в жанре `Platform, Shooter, Role-Playing`.\n",
    "Однако, если в данных жанрах были игры-хиты, которые продавались в большом количестве копий, то показатель средней будет сильно искажен. "
   ]
  },
  {
   "cell_type": "code",
   "execution_count": 39,
   "metadata": {
    "scrolled": true
   },
   "outputs": [
    {
     "data": {
      "image/png": "[encoded data removed]",
      "text/plain": [
       "<Figure size 432x288 with 2 Axes>"
      ]
     },
     "metadata": {
      "needs_background": "light"
     },
     "output_type": "display_data"
    }
   ],
   "source": [
    "#посмотрим на тепловую карту медианных продаж вразных жанрах\n",
    "sns.heatmap(df.pivot_table(index='genre', values='all_sales', aggfunc='median').sort_values(by='all_sales',ascending=False));\n",
    "plt.title(\"Самые популярные жанры\")\n",
    "plt.xlabel(\"Продажи, млн\")\n",
    "plt.ylabel(\"Жанр\");"
   ]
  },
  {
   "cell_type": "markdown",
   "metadata": {},
   "source": [
    "Если рассматривать медиану по проданным копиям в каждом из жанров, то лидеры:  `Fighting, Platform, Shooter, Sport`.\n"
   ]
  },
  {
   "cell_type": "code",
   "execution_count": 40,
   "metadata": {
    "scrolled": false
   },
   "outputs": [
    {
     "data": {
      "text/html": [
       "<div>\n",
       "<style scoped>\n",
       "    .dataframe tbody tr th:only-of-type {\n",
       "        vertical-align: middle;\n",
       "    }\n",
       "\n",
       "    .dataframe tbody tr th {\n",
       "        vertical-align: top;\n",
       "    }\n",
       "\n",
       "    .dataframe thead tr th {\n",
       "        text-align: left;\n",
       "    }\n",
       "\n",
       "    .dataframe thead tr:last-of-type th {\n",
       "        text-align: right;\n",
       "    }\n",
       "</style>\n",
       "<table border=\"1\" class=\"dataframe\">\n",
       "  <thead>\n",
       "    <tr>\n",
       "      <th></th>\n",
       "      <th>median</th>\n",
       "      <th>mean</th>\n",
       "      <th>sum</th>\n",
       "      <th>count</th>\n",
       "    </tr>\n",
       "    <tr>\n",
       "      <th></th>\n",
       "      <th>all_sales</th>\n",
       "      <th>all_sales</th>\n",
       "      <th>all_sales</th>\n",
       "      <th>all_sales</th>\n",
       "    </tr>\n",
       "    <tr>\n",
       "      <th>genre</th>\n",
       "      <th></th>\n",
       "      <th></th>\n",
       "      <th></th>\n",
       "      <th></th>\n",
       "    </tr>\n",
       "  </thead>\n",
       "  <tbody>\n",
       "    <tr>\n",
       "      <th>Action</th>\n",
       "      <td>0.19</td>\n",
       "      <td>0.517711</td>\n",
       "      <td>1744.17</td>\n",
       "      <td>3369</td>\n",
       "    </tr>\n",
       "    <tr>\n",
       "      <th>Adventure</th>\n",
       "      <td>0.05</td>\n",
       "      <td>0.182341</td>\n",
       "      <td>237.59</td>\n",
       "      <td>1303</td>\n",
       "    </tr>\n",
       "    <tr>\n",
       "      <th>Fighting</th>\n",
       "      <td>0.21</td>\n",
       "      <td>0.527126</td>\n",
       "      <td>447.53</td>\n",
       "      <td>849</td>\n",
       "    </tr>\n",
       "    <tr>\n",
       "      <th>Misc</th>\n",
       "      <td>0.16</td>\n",
       "      <td>0.458577</td>\n",
       "      <td>802.51</td>\n",
       "      <td>1750</td>\n",
       "    </tr>\n",
       "    <tr>\n",
       "      <th>Platform</th>\n",
       "      <td>0.27</td>\n",
       "      <td>0.932173</td>\n",
       "      <td>827.77</td>\n",
       "      <td>888</td>\n",
       "    </tr>\n",
       "    <tr>\n",
       "      <th>Puzzle</th>\n",
       "      <td>0.11</td>\n",
       "      <td>0.418224</td>\n",
       "      <td>242.57</td>\n",
       "      <td>580</td>\n",
       "    </tr>\n",
       "    <tr>\n",
       "      <th>Racing</th>\n",
       "      <td>0.19</td>\n",
       "      <td>0.583403</td>\n",
       "      <td>728.67</td>\n",
       "      <td>1249</td>\n",
       "    </tr>\n",
       "    <tr>\n",
       "      <th>Role-Playing</th>\n",
       "      <td>0.18</td>\n",
       "      <td>0.623872</td>\n",
       "      <td>934.56</td>\n",
       "      <td>1498</td>\n",
       "    </tr>\n",
       "    <tr>\n",
       "      <th>Shooter</th>\n",
       "      <td>0.24</td>\n",
       "      <td>0.795503</td>\n",
       "      <td>1052.45</td>\n",
       "      <td>1323</td>\n",
       "    </tr>\n",
       "    <tr>\n",
       "      <th>Simulation</th>\n",
       "      <td>0.15</td>\n",
       "      <td>0.446701</td>\n",
       "      <td>389.97</td>\n",
       "      <td>873</td>\n",
       "    </tr>\n",
       "    <tr>\n",
       "      <th>Sports</th>\n",
       "      <td>0.22</td>\n",
       "      <td>0.566980</td>\n",
       "      <td>1331.27</td>\n",
       "      <td>2348</td>\n",
       "    </tr>\n",
       "    <tr>\n",
       "      <th>Strategy</th>\n",
       "      <td>0.10</td>\n",
       "      <td>0.255095</td>\n",
       "      <td>174.23</td>\n",
       "      <td>683</td>\n",
       "    </tr>\n",
       "  </tbody>\n",
       "</table>\n",
       "</div>"
      ],
      "text/plain": [
       "                median      mean       sum     count\n",
       "             all_sales all_sales all_sales all_sales\n",
       "genre                                               \n",
       "Action            0.19  0.517711   1744.17      3369\n",
       "Adventure         0.05  0.182341    237.59      1303\n",
       "Fighting          0.21  0.527126    447.53       849\n",
       "Misc              0.16  0.458577    802.51      1750\n",
       "Platform          0.27  0.932173    827.77       888\n",
       "Puzzle            0.11  0.418224    242.57       580\n",
       "Racing            0.19  0.583403    728.67      1249\n",
       "Role-Playing      0.18  0.623872    934.56      1498\n",
       "Shooter           0.24  0.795503   1052.45      1323\n",
       "Simulation        0.15  0.446701    389.97       873\n",
       "Sports            0.22  0.566980   1331.27      2348\n",
       "Strategy          0.10  0.255095    174.23       683"
      ]
     },
     "execution_count": 40,
     "metadata": {},
     "output_type": "execute_result"
    }
   ],
   "source": [
    "#рассмотрим все показатели в таблице.\n",
    "df.pivot_table(index='genre', values='all_sales', aggfunc=['median','mean','sum','count'])"
   ]
  },
  {
   "cell_type": "code",
   "execution_count": 41,
   "metadata": {},
   "outputs": [
    {
     "data": {
      "image/png": "[encoded data removed]",
      "text/plain": [
       "<Figure size 1080x432 with 1 Axes>"
      ]
     },
     "metadata": {
      "needs_background": "light"
     },
     "output_type": "display_data"
    }
   ],
   "source": [
    "plt.figure(figsize = (15,6))\n",
    "plt.ylim(0,4)\n",
    "sns.boxplot(y='all_sales', x='genre', data=df);\n",
    "plt.title(\"Топ продаж игр в каждом из жанров\")\n",
    "plt.xlabel(\"Жанр\")\n",
    "plt.ylabel(\"Продажи, млн\");"
   ]
  },
  {
   "cell_type": "markdown",
   "metadata": {
    "scrolled": true
   },
   "source": [
    "Больше всего игр было выпущено в жанрах: `Action, Sport, Misc, Role-playing.`\n",
    "\n",
    "Однако самыми прибыльными жанрами(суммарные продажи копий игр) оказались жанры `Action, Shooter, Sports`.\n",
    "Прибыль здесь может быть обусловлена разными факторами, в том числе количеством игр всего.\n",
    "\n",
    "\n",
    "Поясню: \n",
    "\n",
    "Например, в жанре Platform порядка 50%(медиана) игр было куплено в размере 0.27млн копий. При этом таких игр всего 888.\n",
    "Для сравнения, в жанре Action порядке 50%(медиана) игр было куплено в размере 0.19млн копий, при этом всего таких игр 3369.\n",
    "Это означает, что пусть и в жанре Action выпускают много игр и сумма продаж у них большая, выкупают их намного хуже чем игры в жанре Platfrom.\n",
    "\n",
    "Поэтому, учитывая все ранее сказанное, можно предположить, что: \n",
    "- жанр `Shooter` несомненно лидирует. Порядка 50% игр этого жанра покупают тиражом в 0.24млн копий, а среднее по продажам по каждой игре 0.795503млн копий. Суммарно, игр в данном жанре купили 1052.45млн копий.\n",
    "- жанр `Platform` занимает почетное второе место, порядка 50%(медиана) игр было куплено в размере 0.27млн копий, в среднем по каждой игре было куплено 0.93млн копий.\n",
    "\n",
    " \n",
    "А самыми отстающими по всем пораметрам, стали жанры: `Puzzle, Strategy, Adventure`."
   ]
  },
  {
   "cell_type": "markdown",
   "metadata": {},
   "source": [
    "## Самые популярные платформы(за 2015-2016г)"
   ]
  },
  {
   "cell_type": "markdown",
   "metadata": {},
   "source": [
    "### Для Северной Америки"
   ]
  },
  {
   "cell_type": "code",
   "execution_count": 42,
   "metadata": {
    "scrolled": false
   },
   "outputs": [
    {
     "data": {
      "text/html": [
       "<div>\n",
       "<style scoped>\n",
       "    .dataframe tbody tr th:only-of-type {\n",
       "        vertical-align: middle;\n",
       "    }\n",
       "\n",
       "    .dataframe tbody tr th {\n",
       "        vertical-align: top;\n",
       "    }\n",
       "\n",
       "    .dataframe thead th {\n",
       "        text-align: right;\n",
       "    }\n",
       "</style>\n",
       "<table border=\"1\" class=\"dataframe\">\n",
       "  <thead>\n",
       "    <tr style=\"text-align: right;\">\n",
       "      <th></th>\n",
       "      <th>na_sales</th>\n",
       "      <th>share</th>\n",
       "    </tr>\n",
       "    <tr>\n",
       "      <th>platform</th>\n",
       "      <th></th>\n",
       "      <th></th>\n",
       "    </tr>\n",
       "  </thead>\n",
       "  <tbody>\n",
       "    <tr>\n",
       "      <th>PS4</th>\n",
       "      <td>63.86</td>\n",
       "      <td>0.513055</td>\n",
       "    </tr>\n",
       "    <tr>\n",
       "      <th>XOne</th>\n",
       "      <td>50.30</td>\n",
       "      <td>0.404113</td>\n",
       "    </tr>\n",
       "    <tr>\n",
       "      <th>3DS</th>\n",
       "      <td>10.31</td>\n",
       "      <td>0.082831</td>\n",
       "    </tr>\n",
       "  </tbody>\n",
       "</table>\n",
       "</div>"
      ],
      "text/plain": [
       "          na_sales     share\n",
       "platform                    \n",
       "PS4          63.86  0.513055\n",
       "XOne         50.30  0.404113\n",
       "3DS          10.31  0.082831"
      ]
     },
     "execution_count": 42,
     "metadata": {},
     "output_type": "execute_result"
    }
   ],
   "source": [
    "#смотрим для Северной Америки\n",
    "df_region_na = df_new.pivot_table(index='platform',aggfunc={'na_sales':'sum'}).sort_values(by='na_sales',ascending=False)\n",
    "df_region_na['share'] = df_region_na['na_sales'] / df_region_na['na_sales'].sum()\n",
    "df_region_na"
   ]
  },
  {
   "cell_type": "markdown",
   "metadata": {},
   "source": [
    "За последние два года 50% рынка в Северной Америке занимает PS4, а XOne - 40%. оставшиеся 10 процентов приходится на 3DS."
   ]
  },
  {
   "cell_type": "markdown",
   "metadata": {},
   "source": [
    "### Для Европы"
   ]
  },
  {
   "cell_type": "code",
   "execution_count": 43,
   "metadata": {
    "scrolled": false
   },
   "outputs": [
    {
     "data": {
      "text/html": [
       "<div>\n",
       "<style scoped>\n",
       "    .dataframe tbody tr th:only-of-type {\n",
       "        vertical-align: middle;\n",
       "    }\n",
       "\n",
       "    .dataframe tbody tr th {\n",
       "        vertical-align: top;\n",
       "    }\n",
       "\n",
       "    .dataframe thead th {\n",
       "        text-align: right;\n",
       "    }\n",
       "</style>\n",
       "<table border=\"1\" class=\"dataframe\">\n",
       "  <thead>\n",
       "    <tr style=\"text-align: right;\">\n",
       "      <th></th>\n",
       "      <th>eu_sales</th>\n",
       "      <th>share</th>\n",
       "    </tr>\n",
       "    <tr>\n",
       "      <th>platform</th>\n",
       "      <th></th>\n",
       "      <th></th>\n",
       "    </tr>\n",
       "  </thead>\n",
       "  <tbody>\n",
       "    <tr>\n",
       "      <th>PS4</th>\n",
       "      <td>83.54</td>\n",
       "      <td>0.701840</td>\n",
       "    </tr>\n",
       "    <tr>\n",
       "      <th>XOne</th>\n",
       "      <td>28.10</td>\n",
       "      <td>0.236075</td>\n",
       "    </tr>\n",
       "    <tr>\n",
       "      <th>3DS</th>\n",
       "      <td>7.39</td>\n",
       "      <td>0.062085</td>\n",
       "    </tr>\n",
       "  </tbody>\n",
       "</table>\n",
       "</div>"
      ],
      "text/plain": [
       "          eu_sales     share\n",
       "platform                    \n",
       "PS4          83.54  0.701840\n",
       "XOne         28.10  0.236075\n",
       "3DS           7.39  0.062085"
      ]
     },
     "execution_count": 43,
     "metadata": {},
     "output_type": "execute_result"
    }
   ],
   "source": [
    "#смотрим для Европы\n",
    "df_region_eu = df_new.pivot_table(index='platform',aggfunc={'eu_sales':'sum'}).sort_values(by='eu_sales',ascending=False)\n",
    "df_region_eu['share'] = df_region_eu['eu_sales'] / df_region_eu['eu_sales'].sum()\n",
    "df_region_eu"
   ]
  },
  {
   "cell_type": "markdown",
   "metadata": {},
   "source": [
    "В Европе за последние два года на рынке консолей преобладает PS4 - 70%. Платформа XOne занимает 24% рынка, и оставшиеся 6% приходится на 3DS."
   ]
  },
  {
   "cell_type": "markdown",
   "metadata": {},
   "source": [
    "### Для Японии"
   ]
  },
  {
   "cell_type": "code",
   "execution_count": 44,
   "metadata": {
    "scrolled": true
   },
   "outputs": [
    {
     "data": {
      "text/html": [
       "<div>\n",
       "<style scoped>\n",
       "    .dataframe tbody tr th:only-of-type {\n",
       "        vertical-align: middle;\n",
       "    }\n",
       "\n",
       "    .dataframe tbody tr th {\n",
       "        vertical-align: top;\n",
       "    }\n",
       "\n",
       "    .dataframe thead th {\n",
       "        text-align: right;\n",
       "    }\n",
       "</style>\n",
       "<table border=\"1\" class=\"dataframe\">\n",
       "  <thead>\n",
       "    <tr style=\"text-align: right;\">\n",
       "      <th></th>\n",
       "      <th>jp_sales</th>\n",
       "      <th>share</th>\n",
       "    </tr>\n",
       "    <tr>\n",
       "      <th>platform</th>\n",
       "      <th></th>\n",
       "      <th></th>\n",
       "    </tr>\n",
       "  </thead>\n",
       "  <tbody>\n",
       "    <tr>\n",
       "      <th>3DS</th>\n",
       "      <td>23.55</td>\n",
       "      <td>0.658189</td>\n",
       "    </tr>\n",
       "    <tr>\n",
       "      <th>PS4</th>\n",
       "      <td>12.05</td>\n",
       "      <td>0.336780</td>\n",
       "    </tr>\n",
       "    <tr>\n",
       "      <th>XOne</th>\n",
       "      <td>0.18</td>\n",
       "      <td>0.005031</td>\n",
       "    </tr>\n",
       "  </tbody>\n",
       "</table>\n",
       "</div>"
      ],
      "text/plain": [
       "          jp_sales     share\n",
       "platform                    \n",
       "3DS          23.55  0.658189\n",
       "PS4          12.05  0.336780\n",
       "XOne          0.18  0.005031"
      ]
     },
     "execution_count": 44,
     "metadata": {},
     "output_type": "execute_result"
    }
   ],
   "source": [
    "#смотрим для Японии\n",
    "df_region_jp = df_new.pivot_table(index='platform',aggfunc={'jp_sales':'sum'}).sort_values(by='jp_sales',ascending=False)\n",
    "df_region_jp['share'] = df_region_jp['jp_sales'] / df_region_jp['jp_sales'].sum()\n",
    "df_region_jp"
   ]
  },
  {
   "cell_type": "markdown",
   "metadata": {},
   "source": [
    "В Японии за последние два года популярной платформой считается 3DS - 66%, далее 33% рынка занимает платформа PS4, и менее одного процента приходится на платформу XOne."
   ]
  },
  {
   "cell_type": "markdown",
   "metadata": {},
   "source": [
    "## Самые популярные жанры (за 2015-2016г)"
   ]
  },
  {
   "cell_type": "markdown",
   "metadata": {},
   "source": [
    "### Для Северной Америки"
   ]
  },
  {
   "cell_type": "code",
   "execution_count": 45,
   "metadata": {
    "scrolled": false
   },
   "outputs": [
    {
     "data": {
      "text/html": [
       "<div>\n",
       "<style scoped>\n",
       "    .dataframe tbody tr th:only-of-type {\n",
       "        vertical-align: middle;\n",
       "    }\n",
       "\n",
       "    .dataframe tbody tr th {\n",
       "        vertical-align: top;\n",
       "    }\n",
       "\n",
       "    .dataframe thead th {\n",
       "        text-align: right;\n",
       "    }\n",
       "</style>\n",
       "<table border=\"1\" class=\"dataframe\">\n",
       "  <thead>\n",
       "    <tr style=\"text-align: right;\">\n",
       "      <th></th>\n",
       "      <th>na_sales</th>\n",
       "      <th>share</th>\n",
       "    </tr>\n",
       "    <tr>\n",
       "      <th>genre</th>\n",
       "      <th></th>\n",
       "      <th></th>\n",
       "    </tr>\n",
       "  </thead>\n",
       "  <tbody>\n",
       "    <tr>\n",
       "      <th>Shooter</th>\n",
       "      <td>42.99</td>\n",
       "      <td>0.379335</td>\n",
       "    </tr>\n",
       "    <tr>\n",
       "      <th>Action</th>\n",
       "      <td>27.08</td>\n",
       "      <td>0.238948</td>\n",
       "    </tr>\n",
       "    <tr>\n",
       "      <th>Sports</th>\n",
       "      <td>20.59</td>\n",
       "      <td>0.181682</td>\n",
       "    </tr>\n",
       "    <tr>\n",
       "      <th>Role-Playing</th>\n",
       "      <td>18.01</td>\n",
       "      <td>0.158916</td>\n",
       "    </tr>\n",
       "    <tr>\n",
       "      <th>Fighting</th>\n",
       "      <td>4.66</td>\n",
       "      <td>0.041119</td>\n",
       "    </tr>\n",
       "  </tbody>\n",
       "</table>\n",
       "</div>"
      ],
      "text/plain": [
       "              na_sales     share\n",
       "genre                           \n",
       "Shooter          42.99  0.379335\n",
       "Action           27.08  0.238948\n",
       "Sports           20.59  0.181682\n",
       "Role-Playing     18.01  0.158916\n",
       "Fighting          4.66  0.041119"
      ]
     },
     "execution_count": 45,
     "metadata": {},
     "output_type": "execute_result"
    }
   ],
   "source": [
    "#смотрим для Северной Америки\n",
    "df_genre_na = df_new.pivot_table(index='genre',aggfunc={'na_sales':'sum'}).sort_values(by='na_sales',ascending=False).head()\n",
    "df_genre_na['share'] = df_genre_na['na_sales'] / df_genre_na['na_sales'].sum()\n",
    "df_genre_na"
   ]
  },
  {
   "cell_type": "markdown",
   "metadata": {},
   "source": [
    "В Северной Америке больше всего популярны жанр Action и Shooter, они оказались в лидирующих позициях.\n",
    "Игры в жанре Sports оказались на третьем месте."
   ]
  },
  {
   "cell_type": "markdown",
   "metadata": {},
   "source": [
    "### Для Европы"
   ]
  },
  {
   "cell_type": "code",
   "execution_count": 46,
   "metadata": {
    "scrolled": false
   },
   "outputs": [
    {
     "data": {
      "text/html": [
       "<div>\n",
       "<style scoped>\n",
       "    .dataframe tbody tr th:only-of-type {\n",
       "        vertical-align: middle;\n",
       "    }\n",
       "\n",
       "    .dataframe tbody tr th {\n",
       "        vertical-align: top;\n",
       "    }\n",
       "\n",
       "    .dataframe thead th {\n",
       "        text-align: right;\n",
       "    }\n",
       "</style>\n",
       "<table border=\"1\" class=\"dataframe\">\n",
       "  <thead>\n",
       "    <tr style=\"text-align: right;\">\n",
       "      <th></th>\n",
       "      <th>eu_sales</th>\n",
       "      <th>share</th>\n",
       "    </tr>\n",
       "    <tr>\n",
       "      <th>genre</th>\n",
       "      <th></th>\n",
       "      <th></th>\n",
       "    </tr>\n",
       "  </thead>\n",
       "  <tbody>\n",
       "    <tr>\n",
       "      <th>Shooter</th>\n",
       "      <td>35.35</td>\n",
       "      <td>0.331303</td>\n",
       "    </tr>\n",
       "    <tr>\n",
       "      <th>Action</th>\n",
       "      <td>28.00</td>\n",
       "      <td>0.262418</td>\n",
       "    </tr>\n",
       "    <tr>\n",
       "      <th>Sports</th>\n",
       "      <td>22.25</td>\n",
       "      <td>0.208529</td>\n",
       "    </tr>\n",
       "    <tr>\n",
       "      <th>Role-Playing</th>\n",
       "      <td>14.96</td>\n",
       "      <td>0.140206</td>\n",
       "    </tr>\n",
       "    <tr>\n",
       "      <th>Racing</th>\n",
       "      <td>6.14</td>\n",
       "      <td>0.057545</td>\n",
       "    </tr>\n",
       "  </tbody>\n",
       "</table>\n",
       "</div>"
      ],
      "text/plain": [
       "              eu_sales     share\n",
       "genre                           \n",
       "Shooter          35.35  0.331303\n",
       "Action           28.00  0.262418\n",
       "Sports           22.25  0.208529\n",
       "Role-Playing     14.96  0.140206\n",
       "Racing            6.14  0.057545"
      ]
     },
     "execution_count": 46,
     "metadata": {},
     "output_type": "execute_result"
    }
   ],
   "source": [
    "#смотрим для Европы\n",
    "df_genre_eu = df_new.pivot_table(index='genre',aggfunc={'eu_sales':'sum'}).sort_values(by='eu_sales',ascending=False).head()\n",
    "df_genre_eu['share'] = df_genre_eu['eu_sales'] / df_genre_eu['eu_sales'].sum()\n",
    "df_genre_eu"
   ]
  },
  {
   "cell_type": "markdown",
   "metadata": {},
   "source": [
    "В Европе, как и в Северной Америке, так же предпочитают жанры Action и Shooter, Sports.\n"
   ]
  },
  {
   "cell_type": "markdown",
   "metadata": {},
   "source": [
    "### Для Японии"
   ]
  },
  {
   "cell_type": "code",
   "execution_count": 47,
   "metadata": {
    "scrolled": true
   },
   "outputs": [
    {
     "data": {
      "text/html": [
       "<div>\n",
       "<style scoped>\n",
       "    .dataframe tbody tr th:only-of-type {\n",
       "        vertical-align: middle;\n",
       "    }\n",
       "\n",
       "    .dataframe tbody tr th {\n",
       "        vertical-align: top;\n",
       "    }\n",
       "\n",
       "    .dataframe thead th {\n",
       "        text-align: right;\n",
       "    }\n",
       "</style>\n",
       "<table border=\"1\" class=\"dataframe\">\n",
       "  <thead>\n",
       "    <tr style=\"text-align: right;\">\n",
       "      <th></th>\n",
       "      <th>jp_sales</th>\n",
       "      <th>share</th>\n",
       "    </tr>\n",
       "    <tr>\n",
       "      <th>genre</th>\n",
       "      <th></th>\n",
       "      <th></th>\n",
       "    </tr>\n",
       "  </thead>\n",
       "  <tbody>\n",
       "    <tr>\n",
       "      <th>Action</th>\n",
       "      <td>16.47</td>\n",
       "      <td>0.517436</td>\n",
       "    </tr>\n",
       "    <tr>\n",
       "      <th>Role-Playing</th>\n",
       "      <td>9.56</td>\n",
       "      <td>0.300346</td>\n",
       "    </tr>\n",
       "    <tr>\n",
       "      <th>Shooter</th>\n",
       "      <td>2.10</td>\n",
       "      <td>0.065975</td>\n",
       "    </tr>\n",
       "    <tr>\n",
       "      <th>Simulation</th>\n",
       "      <td>1.89</td>\n",
       "      <td>0.059378</td>\n",
       "    </tr>\n",
       "    <tr>\n",
       "      <th>Misc</th>\n",
       "      <td>1.81</td>\n",
       "      <td>0.056865</td>\n",
       "    </tr>\n",
       "  </tbody>\n",
       "</table>\n",
       "</div>"
      ],
      "text/plain": [
       "              jp_sales     share\n",
       "genre                           \n",
       "Action           16.47  0.517436\n",
       "Role-Playing      9.56  0.300346\n",
       "Shooter           2.10  0.065975\n",
       "Simulation        1.89  0.059378\n",
       "Misc              1.81  0.056865"
      ]
     },
     "execution_count": 47,
     "metadata": {},
     "output_type": "execute_result"
    }
   ],
   "source": [
    "df_genre_jp = df_new.pivot_table(index='genre',aggfunc={'jp_sales':'sum'}).sort_values(by='jp_sales',ascending=False).head()\n",
    "df_genre_jp['share'] = df_genre_jp['jp_sales'] / df_genre_jp['jp_sales'].sum()\n",
    "df_genre_jp"
   ]
  },
  {
   "cell_type": "markdown",
   "metadata": {},
   "source": [
    "В Японии на первом месте оказались игры в жанре Action, далее по убыванию продаж: Role-Playing, Shooter, Simulation, Misc."
   ]
  },
  {
   "cell_type": "markdown",
   "metadata": {},
   "source": [
    "## Влияет ли рейтинг ESRB на продажи в отдельном регионе?"
   ]
  },
  {
   "cell_type": "code",
   "execution_count": 48,
   "metadata": {
    "scrolled": false
   },
   "outputs": [
    {
     "data": {
      "text/html": [
       "<div>\n",
       "<style scoped>\n",
       "    .dataframe tbody tr th:only-of-type {\n",
       "        vertical-align: middle;\n",
       "    }\n",
       "\n",
       "    .dataframe tbody tr th {\n",
       "        vertical-align: top;\n",
       "    }\n",
       "\n",
       "    .dataframe thead th {\n",
       "        text-align: right;\n",
       "    }\n",
       "</style>\n",
       "<table border=\"1\" class=\"dataframe\">\n",
       "  <thead>\n",
       "    <tr style=\"text-align: right;\">\n",
       "      <th></th>\n",
       "      <th>na_sales</th>\n",
       "      <th>eu_sales</th>\n",
       "      <th>jp_sales</th>\n",
       "      <th>other_sales</th>\n",
       "    </tr>\n",
       "    <tr>\n",
       "      <th>rating</th>\n",
       "      <th></th>\n",
       "      <th></th>\n",
       "      <th></th>\n",
       "      <th></th>\n",
       "    </tr>\n",
       "  </thead>\n",
       "  <tbody>\n",
       "    <tr>\n",
       "      <th>AO</th>\n",
       "      <td>1.26</td>\n",
       "      <td>0.61</td>\n",
       "      <td>0.00</td>\n",
       "      <td>0.09</td>\n",
       "    </tr>\n",
       "    <tr>\n",
       "      <th>E</th>\n",
       "      <td>1292.99</td>\n",
       "      <td>710.25</td>\n",
       "      <td>198.11</td>\n",
       "      <td>234.17</td>\n",
       "    </tr>\n",
       "    <tr>\n",
       "      <th>E10+</th>\n",
       "      <td>353.32</td>\n",
       "      <td>188.52</td>\n",
       "      <td>40.20</td>\n",
       "      <td>73.56</td>\n",
       "    </tr>\n",
       "    <tr>\n",
       "      <th>EC</th>\n",
       "      <td>1.53</td>\n",
       "      <td>0.11</td>\n",
       "      <td>0.00</td>\n",
       "      <td>0.11</td>\n",
       "    </tr>\n",
       "    <tr>\n",
       "      <th>K-A</th>\n",
       "      <td>2.56</td>\n",
       "      <td>0.27</td>\n",
       "      <td>1.46</td>\n",
       "      <td>0.03</td>\n",
       "    </tr>\n",
       "    <tr>\n",
       "      <th>M</th>\n",
       "      <td>748.48</td>\n",
       "      <td>483.97</td>\n",
       "      <td>64.24</td>\n",
       "      <td>177.10</td>\n",
       "    </tr>\n",
       "    <tr>\n",
       "      <th>No rating</th>\n",
       "      <td>1240.68</td>\n",
       "      <td>613.30</td>\n",
       "      <td>841.93</td>\n",
       "      <td>151.00</td>\n",
       "    </tr>\n",
       "    <tr>\n",
       "      <th>RP</th>\n",
       "      <td>0.00</td>\n",
       "      <td>0.08</td>\n",
       "      <td>0.00</td>\n",
       "      <td>0.01</td>\n",
       "    </tr>\n",
       "    <tr>\n",
       "      <th>T</th>\n",
       "      <td>759.75</td>\n",
       "      <td>427.03</td>\n",
       "      <td>151.40</td>\n",
       "      <td>155.17</td>\n",
       "    </tr>\n",
       "  </tbody>\n",
       "</table>\n",
       "</div>"
      ],
      "text/plain": [
       "           na_sales  eu_sales  jp_sales  other_sales\n",
       "rating                                              \n",
       "AO             1.26      0.61      0.00         0.09\n",
       "E           1292.99    710.25    198.11       234.17\n",
       "E10+         353.32    188.52     40.20        73.56\n",
       "EC             1.53      0.11      0.00         0.11\n",
       "K-A            2.56      0.27      1.46         0.03\n",
       "M            748.48    483.97     64.24       177.10\n",
       "No rating   1240.68    613.30    841.93       151.00\n",
       "RP             0.00      0.08      0.00         0.01\n",
       "T            759.75    427.03    151.40       155.17"
      ]
     },
     "execution_count": 48,
     "metadata": {},
     "output_type": "execute_result"
    },
    {
     "data": {
      "image/png": "[encoded data removed]",
      "text/plain": [
       "<Figure size 1080x432 with 1 Axes>"
      ]
     },
     "metadata": {
      "needs_background": "light"
     },
     "output_type": "display_data"
    }
   ],
   "source": [
    "#расмотрим датасет за все время, а не за последние 2 года.\n",
    "df.groupby('rating').agg({'na_sales':'sum', 'eu_sales':'sum', 'jp_sales':'sum', 'other_sales':'sum'}).plot(kind='bar', figsize = (15,6));\n",
    "plt.title(\"Рейтинг ESRB. Количество проданных игр по регионам\")\n",
    "plt.xlabel(\"Рейтинг ESRB\")\n",
    "plt.ylabel(\"Продажи, млн\");\n",
    "df.groupby('rating').agg({'na_sales':'sum', 'eu_sales':'sum', 'jp_sales':'sum', 'other_sales':'sum'})"
   ]
  },
  {
   "cell_type": "markdown",
   "metadata": {},
   "source": [
    "`E` - *Everyone\n",
    "`EC`- Early childhood\n",
    "`E10+` - Everyone 10 and older\n",
    "`T` - Teen\n",
    "`M` - Mature\n",
    "`RP` - Rating Pending*\n",
    "\n",
    "Стоит отметить, что рейтинг ESRB это общепринятый рейтинг для стран США и Канады. В Европе и в Японии своя система рейтинга - PEGI и CERO соответственно. Предположительно, именно поэтому в столбце rating очень много пустых значений приходится на Японию и Европу. \n",
    "\n",
    "- В Японии очень много игр, не классифицированных рейтингом ESRB, которые пользуются популярностью.\n",
    "\n",
    "- Самым продаваемым в Северной Америке оказались игры с рейтингом E-Everyone и игры без рейтинга.\n",
    "- В Европе одинаково популярны игры в категориях E, M, T, No Rating.\n",
    "\n",
    "\n",
    "В целом, я считаю, что рейтинг как таковой не влияет на продажи игр по всему миру. \n",
    "\n",
    "Мы покупаем игру не потому что она с рейтингом `M` или прочее, а за ее содержание, за оценку критиков, за ее жанр, и прочее факторы. Рейтинг здесь скорее как дополнение, условие, для кого эта игра предназначена.\n"
   ]
  },
  {
   "cell_type": "markdown",
   "metadata": {},
   "source": [
    "## Гипотеза Средние пользовательские рейтинги платформ Xbox One и PC одинаковые"
   ]
  },
  {
   "cell_type": "markdown",
   "metadata": {},
   "source": [
    "Нулевая гипотеза звучит как **Средние пользовательские рейтинги платформ Xbox One и PC одинаковые.**\n",
    "\n",
    "Значит альтернативная гипотеза будет звучать следующим образом: **Средние пользовательские рейтинги платформ Xbox One и PC различаются.** \n",
    "\n",
    "Критический уровень статистической значимости зависит от размера выборки,которую мы будем использовать. Если выборка мала, до пары тысяч строк, то можно выбрать значения 0,05 и 0,01. Чем больше выборка, тем значение alpha должно быть меньше, например 0,001.\n",
    "\n",
    "Для проверки гипотезы о равенстве средних двух генеральных совокупностей используют метод `st.ttest_ind`."
   ]
  },
  {
   "cell_type": "code",
   "execution_count": 49,
   "metadata": {},
   "outputs": [],
   "source": [
    "#в предыдущих заданиях пустоты нам не мешали.сейчас при рассмотрении гипотезы, пустоты помешают рассчитать значение p-value\n",
    "df = df.dropna(subset=['user_score'])"
   ]
  },
  {
   "cell_type": "code",
   "execution_count": 50,
   "metadata": {},
   "outputs": [
    {
     "name": "stdout",
     "output_type": "stream",
     "text": [
      "<class 'pandas.core.frame.DataFrame'>\n",
      "Int64Index: 7590 entries, 0 to 16705\n",
      "Data columns (total 12 columns):\n",
      " #   Column           Non-Null Count  Dtype  \n",
      "---  ------           --------------  -----  \n",
      " 0   name             7590 non-null   object \n",
      " 1   platform         7590 non-null   object \n",
      " 2   year_of_release  7463 non-null   float64\n",
      " 3   genre            7590 non-null   object \n",
      " 4   na_sales         7590 non-null   float64\n",
      " 5   eu_sales         7590 non-null   float64\n",
      " 6   jp_sales         7590 non-null   float64\n",
      " 7   other_sales      7590 non-null   float64\n",
      " 8   critic_score     7017 non-null   float64\n",
      " 9   user_score       7590 non-null   float64\n",
      " 10  rating           7590 non-null   object \n",
      " 11  all_sales        7590 non-null   float64\n",
      "dtypes: float64(8), object(4)\n",
      "memory usage: 770.9+ KB\n"
     ]
    }
   ],
   "source": [
    "df.info()"
   ]
  },
  {
   "cell_type": "code",
   "execution_count": 51,
   "metadata": {},
   "outputs": [],
   "source": [
    "#df = df[df['user_score'] >= 0]"
   ]
  },
  {
   "cell_type": "markdown",
   "metadata": {},
   "source": [
    "<div class=\"alert alert-block alert-success\">\n",
    "<b> 👍 Успех:</b>Отлично, что не забыла про пропуски отрицательные значения)\n",
    "</div>"
   ]
  },
  {
   "cell_type": "code",
   "execution_count": 52,
   "metadata": {
    "scrolled": true
   },
   "outputs": [
    {
     "name": "stdout",
     "output_type": "stream",
     "text": [
      "1.8965188383045526\n",
      "2.3377471580367684\n",
      "p-значение: 4.935072360183565e-06\n",
      "Отвергаем нулевую гипотезу\n"
     ]
    }
   ],
   "source": [
    "#две выборки с разной дисперсией\n",
    "XOne_rating = df[df['platform'] == 'XOne']['user_score']\n",
    "PC_rating = df[df['platform'] == 'PC']['user_score']\n",
    "print(np.var(XOne_rating))\n",
    "print(np.var(PC_rating))\n",
    "alpha = 0.001 # критический уровень статистической значимости\n",
    "            \n",
    "\n",
    "results = st.ttest_ind(XOne_rating, PC_rating, equal_var=False)\n",
    "\n",
    "print('p-значение:', results.pvalue)\n",
    "\n",
    "if results.pvalue < alpha:\n",
    "    print(\"Отвергаем нулевую гипотезу\")\n",
    "else:\n",
    "    print(\"Не получилось отвергнуть нулевую гипотезу\")"
   ]
  },
  {
   "cell_type": "code",
   "execution_count": 53,
   "metadata": {},
   "outputs": [
    {
     "data": {
      "text/plain": [
       "6.521428571428572"
      ]
     },
     "execution_count": 53,
     "metadata": {},
     "output_type": "execute_result"
    }
   ],
   "source": [
    "df[df['platform'] == 'XOne']['user_score'].mean()"
   ]
  },
  {
   "cell_type": "code",
   "execution_count": 54,
   "metadata": {},
   "outputs": [
    {
     "data": {
      "text/plain": [
       "7.062467532467533"
      ]
     },
     "execution_count": 54,
     "metadata": {},
     "output_type": "execute_result"
    }
   ],
   "source": [
    "df[df['platform'] == 'PC']['user_score'].mean()"
   ]
  },
  {
   "cell_type": "markdown",
   "metadata": {},
   "source": [
    "Действительно, средние по двум платформам различны.\n",
    "\n",
    "Нулевая гипотеза \"Средние пользовательские рейтинги платформ Xbox One и PC одинаковые\" **отвергается.**"
   ]
  },
  {
   "cell_type": "markdown",
   "metadata": {},
   "source": [
    "## Гипотеза Средние пользовательские рейтинги жанров Action  и Sports разные."
   ]
  },
  {
   "cell_type": "markdown",
   "metadata": {},
   "source": [
    "Нулевая гипотеза звучит как: **Средние пользовательские рейтинги жанров Action и Sports одинаковые.**\n",
    "\n",
    "Значит альтернативная гипотеза звучит как: **Средние пользовательские рейтинги жанров Action и Sports разные.**"
   ]
  },
  {
   "cell_type": "code",
   "execution_count": 55,
   "metadata": {},
   "outputs": [
    {
     "name": "stdout",
     "output_type": "stream",
     "text": [
      "2.03063665382663\n",
      "2.594160671177017\n",
      "p-значение: 0.11483818791498286\n",
      "Не получилось отвергнуть нулевую гипотезу\n"
     ]
    }
   ],
   "source": [
    "#две выборки с разной дисперсией\n",
    "action_rating = df[df['genre'] == 'Action']['user_score']\n",
    "sports_rating = df[df['genre'] == 'Sports']['user_score']\n",
    "print(np.var(action_rating))\n",
    "print(np.var(sports_rating))\n",
    "alpha = 0.001 # критический уровень статистической значимости\n",
    "            \n",
    "\n",
    "results = st.ttest_ind(action_rating, sports_rating,equal_var=False)\n",
    "\n",
    "print('p-значение:', results.pvalue)\n",
    "\n",
    "if results.pvalue < alpha:\n",
    "    print(\"Отвергаем нулевую гипотезу\")\n",
    "else:\n",
    "    print(\"Не получилось отвергнуть нулевую гипотезу\")"
   ]
  },
  {
   "cell_type": "code",
   "execution_count": 56,
   "metadata": {},
   "outputs": [
    {
     "data": {
      "text/plain": [
       "7.054043715846995"
      ]
     },
     "execution_count": 56,
     "metadata": {},
     "output_type": "execute_result"
    }
   ],
   "source": [
    "df[df['genre'] == 'Action']['user_score'].mean()"
   ]
  },
  {
   "cell_type": "code",
   "execution_count": 57,
   "metadata": {},
   "outputs": [
    {
     "data": {
      "text/plain": [
       "6.961196736174069"
      ]
     },
     "execution_count": 57,
     "metadata": {},
     "output_type": "execute_result"
    }
   ],
   "source": [
    "df[df['genre'] == 'Sports']['user_score'].mean()"
   ]
  },
  {
   "cell_type": "markdown",
   "metadata": {},
   "source": [
    "Действительно, средние по двум платформам приближенно равны.\n",
    "\n",
    "Нулевая гипотеза \"Средние пользовательские рейтинги жанров Action и Sports одинаковые\" **не отвергается**"
   ]
  },
  {
   "cell_type": "markdown",
   "metadata": {},
   "source": [
    "# Общий вывод"
   ]
  },
  {
   "cell_type": "markdown",
   "metadata": {},
   "source": [
    "Подводя итоги по проекту, можно резюмировать следующее:\n",
    "\n",
    "- Нулевая гипотеза \"Средние пользовательские рейтинги жанров Action и Sports одинаковые\" **не отвергнута.**\n",
    "- Альтернативная гипотеза \"Средние пользовательские рейтинги жанров Action и Sports различаются\" **отвергнута**.\n",
    "\n",
    "\n",
    "- Нулевая гипотеза \"Средние пользовательские рейтинги платформ Xbox One и PC одинаковые\" **отвергнута**.\n",
    "- Альтернативная гипотеза \"Средние пользовательские рейтинги платформ Xbox One и PC различаются\" **не отвергается**.\n",
    "\n",
    "При выборе игр в магазин \"Стримчик\" в 2017г., я бы посоветовала обращать внимание на следующие факторы: `платформу`, на которой данная игра выпущена. Самые популярные платформы сейчас это: PS4, 3DS, XOne. Обязательно обратить внимание на `жанр игры` и `страну`,где будет продаваться та или иная игра. Эти два параметра лучше рассматривать в совокупности, так как каждая страна имеет свои предпочтения в жанрах. А так же нужно учеть `рейтинг` критиков об игре, которую вы хотите продавать. Если критики отзывались об игре не лестно, то продажи будут малы. Если знать предпочтения для каждой страны, то можно удачно подобрать ассортимент в магазин игр.\n",
    "\n",
    "Например, на рынке Северной Америки лучше продавать игры с упором на на платформы XOne, PS4. С наибольшим преемуществом выбрать жанры вида Action, Shooter, Sports, и желательно рейтинг критиков был выше 60-70 баллов. \n",
    "\n",
    "Для японского игрового рынка я бы предложила продавать игры, выпускающиеся преемущественно на платформах 3DS, PS4. Жанры взяла бы преемущественно Action, Role-Playing. И, конечно, оценка критиков должна быть достаточно высокой для игры(от 60 баллов)."
   ]
  },
  {
   "cell_type": "code",
   "execution_count": null,
   "metadata": {},
   "outputs": [],
   "source": []
  }
 ],
 "metadata": {
  "ExecuteTimeLog": [
   {
    "duration": 1962,
    "start_time": "2022-04-02T08:18:36.998Z"
   },
   {
    "duration": 91,
    "start_time": "2022-04-02T08:20:24.698Z"
   },
   {
    "duration": 52,
    "start_time": "2022-04-02T08:23:12.787Z"
   },
   {
    "duration": 25,
    "start_time": "2022-04-02T08:23:13.748Z"
   },
   {
    "duration": 73,
    "start_time": "2022-04-02T08:24:11.890Z"
   },
   {
    "duration": 7,
    "start_time": "2022-04-02T08:24:29.824Z"
   },
   {
    "duration": 26,
    "start_time": "2022-04-02T08:24:45.297Z"
   },
   {
    "duration": 20,
    "start_time": "2022-04-02T08:24:46.299Z"
   },
   {
    "duration": 21,
    "start_time": "2022-04-02T08:32:50.110Z"
   },
   {
    "duration": 70,
    "start_time": "2022-04-02T08:33:01.356Z"
   },
   {
    "duration": 69,
    "start_time": "2022-04-02T08:33:02.182Z"
   },
   {
    "duration": 20,
    "start_time": "2022-04-02T08:33:02.749Z"
   },
   {
    "duration": 7,
    "start_time": "2022-04-02T08:33:05.167Z"
   },
   {
    "duration": 23,
    "start_time": "2022-04-02T08:33:06.324Z"
   },
   {
    "duration": 21,
    "start_time": "2022-04-02T08:33:06.631Z"
   },
   {
    "duration": 14,
    "start_time": "2022-04-02T08:33:07.578Z"
   },
   {
    "duration": 9,
    "start_time": "2022-04-02T08:33:08.092Z"
   },
   {
    "duration": 7,
    "start_time": "2022-04-02T08:33:09.468Z"
   },
   {
    "duration": 24,
    "start_time": "2022-04-02T08:33:09.767Z"
   },
   {
    "duration": 21,
    "start_time": "2022-04-02T08:33:48.590Z"
   },
   {
    "duration": 25,
    "start_time": "2022-04-02T08:33:49.894Z"
   },
   {
    "duration": 624,
    "start_time": "2022-04-02T08:35:36.645Z"
   },
   {
    "duration": 435,
    "start_time": "2022-04-02T08:36:57.547Z"
   },
   {
    "duration": 378,
    "start_time": "2022-04-02T08:37:04.667Z"
   },
   {
    "duration": 37,
    "start_time": "2022-04-02T08:38:17.350Z"
   },
   {
    "duration": 13,
    "start_time": "2022-04-02T08:38:18.565Z"
   },
   {
    "duration": 12,
    "start_time": "2022-04-02T08:40:03.239Z"
   },
   {
    "duration": 18,
    "start_time": "2022-04-02T08:40:04.381Z"
   },
   {
    "duration": 284,
    "start_time": "2022-04-02T08:40:05.980Z"
   },
   {
    "duration": 605,
    "start_time": "2022-04-02T08:40:09.743Z"
   },
   {
    "duration": 11,
    "start_time": "2022-04-02T08:42:39.790Z"
   },
   {
    "duration": 12,
    "start_time": "2022-04-02T08:43:47.482Z"
   },
   {
    "duration": 17,
    "start_time": "2022-04-02T08:43:49.082Z"
   },
   {
    "duration": 360,
    "start_time": "2022-04-02T08:43:50.434Z"
   },
   {
    "duration": 8,
    "start_time": "2022-04-02T08:44:47.730Z"
   },
   {
    "duration": 319,
    "start_time": "2022-04-02T08:45:30.215Z"
   },
   {
    "duration": 6,
    "start_time": "2022-04-02T08:45:40.398Z"
   },
   {
    "duration": 232,
    "start_time": "2022-04-02T08:45:43.127Z"
   },
   {
    "duration": 35,
    "start_time": "2022-04-02T08:46:41.102Z"
   },
   {
    "duration": 7,
    "start_time": "2022-04-02T08:47:15.726Z"
   },
   {
    "duration": 229,
    "start_time": "2022-04-02T08:47:26.560Z"
   },
   {
    "duration": 520,
    "start_time": "2022-04-02T08:48:36.584Z"
   },
   {
    "duration": 39,
    "start_time": "2022-04-02T08:51:43.456Z"
   },
   {
    "duration": 38,
    "start_time": "2022-04-02T08:51:46.889Z"
   },
   {
    "duration": 36,
    "start_time": "2022-04-02T08:51:53.080Z"
   },
   {
    "duration": 37,
    "start_time": "2022-04-02T08:51:56.001Z"
   },
   {
    "duration": 38,
    "start_time": "2022-04-02T08:51:59.179Z"
   },
   {
    "duration": 552,
    "start_time": "2022-04-02T08:52:03.529Z"
   },
   {
    "duration": 8,
    "start_time": "2022-04-02T08:57:09.623Z"
   },
   {
    "duration": 6,
    "start_time": "2022-04-02T08:57:10.396Z"
   },
   {
    "duration": 12,
    "start_time": "2022-04-02T08:57:37.702Z"
   },
   {
    "duration": 14,
    "start_time": "2022-04-02T08:58:40.019Z"
   },
   {
    "duration": 9,
    "start_time": "2022-04-02T08:58:43.673Z"
   },
   {
    "duration": 7,
    "start_time": "2022-04-02T08:58:44.570Z"
   },
   {
    "duration": 1790,
    "start_time": "2022-04-04T11:04:45.843Z"
   },
   {
    "duration": 141,
    "start_time": "2022-04-04T11:04:59.742Z"
   },
   {
    "duration": 160,
    "start_time": "2022-04-04T11:05:11.581Z"
   },
   {
    "duration": 84,
    "start_time": "2022-04-04T11:05:44.564Z"
   },
   {
    "duration": 141,
    "start_time": "2022-04-04T11:08:37.093Z"
   },
   {
    "duration": 5,
    "start_time": "2022-04-04T11:12:19.569Z"
   },
   {
    "duration": 194,
    "start_time": "2022-04-04T11:12:19.587Z"
   },
   {
    "duration": 24,
    "start_time": "2022-04-04T11:12:19.785Z"
   },
   {
    "duration": 10,
    "start_time": "2022-04-04T11:12:19.812Z"
   },
   {
    "duration": 50,
    "start_time": "2022-04-04T11:12:19.824Z"
   },
   {
    "duration": 27,
    "start_time": "2022-04-04T11:12:19.877Z"
   },
   {
    "duration": 13,
    "start_time": "2022-04-04T11:12:19.906Z"
   },
   {
    "duration": 7,
    "start_time": "2022-04-04T11:12:19.922Z"
   },
   {
    "duration": 11,
    "start_time": "2022-04-04T11:12:22.963Z"
   },
   {
    "duration": 13,
    "start_time": "2022-04-04T11:12:25.816Z"
   },
   {
    "duration": 9,
    "start_time": "2022-04-04T11:12:48.193Z"
   },
   {
    "duration": 173,
    "start_time": "2022-04-04T11:13:25.649Z"
   },
   {
    "duration": 6,
    "start_time": "2022-04-04T11:13:35.702Z"
   },
   {
    "duration": 5,
    "start_time": "2022-04-04T11:14:37.418Z"
   },
   {
    "duration": 156,
    "start_time": "2022-04-04T11:14:37.427Z"
   },
   {
    "duration": 34,
    "start_time": "2022-04-04T11:14:37.587Z"
   },
   {
    "duration": 8,
    "start_time": "2022-04-04T11:14:37.624Z"
   },
   {
    "duration": 57,
    "start_time": "2022-04-04T11:14:37.636Z"
   },
   {
    "duration": 20,
    "start_time": "2022-04-04T11:14:37.696Z"
   },
   {
    "duration": 12,
    "start_time": "2022-04-04T11:14:37.719Z"
   },
   {
    "duration": 45,
    "start_time": "2022-04-04T11:14:37.734Z"
   },
   {
    "duration": 11,
    "start_time": "2022-04-04T11:14:43.060Z"
   },
   {
    "duration": 9,
    "start_time": "2022-04-04T11:24:56.040Z"
   },
   {
    "duration": 7,
    "start_time": "2022-04-04T11:25:08.481Z"
   },
   {
    "duration": 11,
    "start_time": "2022-04-04T11:26:04.790Z"
   },
   {
    "duration": 7,
    "start_time": "2022-04-04T11:27:26.314Z"
   },
   {
    "duration": 13,
    "start_time": "2022-04-04T11:27:36.439Z"
   },
   {
    "duration": 9,
    "start_time": "2022-04-04T11:27:53.247Z"
   },
   {
    "duration": 40,
    "start_time": "2022-04-04T11:28:02.242Z"
   },
   {
    "duration": 24,
    "start_time": "2022-04-04T11:28:20.976Z"
   },
   {
    "duration": 6,
    "start_time": "2022-04-04T11:28:38.581Z"
   },
   {
    "duration": 38,
    "start_time": "2022-04-04T11:28:41.358Z"
   },
   {
    "duration": 22,
    "start_time": "2022-04-04T11:28:56.381Z"
   },
   {
    "duration": 8,
    "start_time": "2022-04-04T11:29:09.567Z"
   },
   {
    "duration": 6,
    "start_time": "2022-04-04T11:30:02.380Z"
   },
   {
    "duration": 262,
    "start_time": "2022-04-04T11:30:02.390Z"
   },
   {
    "duration": 24,
    "start_time": "2022-04-04T11:30:02.654Z"
   },
   {
    "duration": 18,
    "start_time": "2022-04-04T11:30:02.681Z"
   },
   {
    "duration": 29,
    "start_time": "2022-04-04T11:30:02.702Z"
   },
   {
    "duration": 48,
    "start_time": "2022-04-04T11:30:02.733Z"
   },
   {
    "duration": 11,
    "start_time": "2022-04-04T11:30:02.783Z"
   },
   {
    "duration": 12,
    "start_time": "2022-04-04T11:30:02.796Z"
   },
   {
    "duration": 24,
    "start_time": "2022-04-04T11:30:02.810Z"
   },
   {
    "duration": 7,
    "start_time": "2022-04-04T11:30:28.923Z"
   },
   {
    "duration": 34,
    "start_time": "2022-04-04T11:30:30.942Z"
   },
   {
    "duration": 5,
    "start_time": "2022-04-04T11:31:07.305Z"
   },
   {
    "duration": 136,
    "start_time": "2022-04-04T11:31:07.313Z"
   },
   {
    "duration": 28,
    "start_time": "2022-04-04T11:31:07.453Z"
   },
   {
    "duration": 9,
    "start_time": "2022-04-04T11:31:07.484Z"
   },
   {
    "duration": 21,
    "start_time": "2022-04-04T11:31:07.496Z"
   },
   {
    "duration": 54,
    "start_time": "2022-04-04T11:31:07.520Z"
   },
   {
    "duration": 13,
    "start_time": "2022-04-04T11:31:07.578Z"
   },
   {
    "duration": 14,
    "start_time": "2022-04-04T11:31:07.594Z"
   },
   {
    "duration": 9,
    "start_time": "2022-04-04T11:31:07.611Z"
   },
   {
    "duration": 7,
    "start_time": "2022-04-04T11:31:09.691Z"
   },
   {
    "duration": 46,
    "start_time": "2022-04-04T11:31:12.272Z"
   },
   {
    "duration": 4,
    "start_time": "2022-04-04T11:36:46.741Z"
   },
   {
    "duration": 145,
    "start_time": "2022-04-04T11:36:46.748Z"
   },
   {
    "duration": 19,
    "start_time": "2022-04-04T11:36:46.896Z"
   },
   {
    "duration": 6,
    "start_time": "2022-04-04T11:36:46.917Z"
   },
   {
    "duration": 59,
    "start_time": "2022-04-04T11:36:46.926Z"
   },
   {
    "duration": 21,
    "start_time": "2022-04-04T11:36:46.987Z"
   },
   {
    "duration": 9,
    "start_time": "2022-04-04T11:36:47.011Z"
   },
   {
    "duration": 8,
    "start_time": "2022-04-04T11:36:47.023Z"
   },
   {
    "duration": 47,
    "start_time": "2022-04-04T11:36:47.033Z"
   },
   {
    "duration": 38,
    "start_time": "2022-04-04T11:36:47.083Z"
   },
   {
    "duration": 28,
    "start_time": "2022-04-04T11:37:01.920Z"
   },
   {
    "duration": 37,
    "start_time": "2022-04-04T11:39:15.396Z"
   },
   {
    "duration": 12,
    "start_time": "2022-04-04T11:40:30.181Z"
   },
   {
    "duration": 14,
    "start_time": "2022-04-04T11:40:58.351Z"
   },
   {
    "duration": 13,
    "start_time": "2022-04-04T11:41:17.397Z"
   },
   {
    "duration": 12,
    "start_time": "2022-04-04T11:41:24.685Z"
   },
   {
    "duration": 911,
    "start_time": "2022-04-04T11:45:21.964Z"
   },
   {
    "duration": 698,
    "start_time": "2022-04-04T11:45:42.232Z"
   },
   {
    "duration": 500,
    "start_time": "2022-04-04T11:49:48.486Z"
   },
   {
    "duration": 479,
    "start_time": "2022-04-04T11:50:00.710Z"
   },
   {
    "duration": 563,
    "start_time": "2022-04-04T11:50:07.757Z"
   },
   {
    "duration": 413,
    "start_time": "2022-04-04T11:50:43.711Z"
   },
   {
    "duration": 4,
    "start_time": "2022-04-04T12:01:13.693Z"
   },
   {
    "duration": 140,
    "start_time": "2022-04-04T12:01:13.700Z"
   },
   {
    "duration": 18,
    "start_time": "2022-04-04T12:01:13.844Z"
   },
   {
    "duration": 10,
    "start_time": "2022-04-04T12:01:13.867Z"
   },
   {
    "duration": 40,
    "start_time": "2022-04-04T12:01:13.879Z"
   },
   {
    "duration": 23,
    "start_time": "2022-04-04T12:01:13.921Z"
   },
   {
    "duration": 21,
    "start_time": "2022-04-04T12:01:13.946Z"
   },
   {
    "duration": 8,
    "start_time": "2022-04-04T12:01:13.969Z"
   },
   {
    "duration": 31,
    "start_time": "2022-04-04T12:01:13.979Z"
   },
   {
    "duration": 24,
    "start_time": "2022-04-04T12:01:14.013Z"
   },
   {
    "duration": 31,
    "start_time": "2022-04-04T12:01:14.041Z"
   },
   {
    "duration": 13,
    "start_time": "2022-04-04T12:01:14.074Z"
   },
   {
    "duration": 717,
    "start_time": "2022-04-04T12:01:14.089Z"
   },
   {
    "duration": 427,
    "start_time": "2022-04-04T12:01:14.808Z"
   },
   {
    "duration": 492,
    "start_time": "2022-04-04T12:01:15.237Z"
   },
   {
    "duration": 49,
    "start_time": "2022-04-04T12:01:15.731Z"
   },
   {
    "duration": 10,
    "start_time": "2022-04-04T12:01:23.465Z"
   },
   {
    "duration": 16,
    "start_time": "2022-04-04T12:01:30.437Z"
   },
   {
    "duration": 275,
    "start_time": "2022-04-04T12:03:26.405Z"
   },
   {
    "duration": 5,
    "start_time": "2022-04-04T12:03:53.361Z"
   },
   {
    "duration": 145,
    "start_time": "2022-04-04T12:03:53.368Z"
   },
   {
    "duration": 20,
    "start_time": "2022-04-04T12:03:53.516Z"
   },
   {
    "duration": 20,
    "start_time": "2022-04-04T12:03:53.538Z"
   },
   {
    "duration": 37,
    "start_time": "2022-04-04T12:03:53.562Z"
   },
   {
    "duration": 29,
    "start_time": "2022-04-04T12:03:53.602Z"
   },
   {
    "duration": 37,
    "start_time": "2022-04-04T12:03:53.634Z"
   },
   {
    "duration": 13,
    "start_time": "2022-04-04T12:03:53.673Z"
   },
   {
    "duration": 10,
    "start_time": "2022-04-04T12:03:53.688Z"
   },
   {
    "duration": 23,
    "start_time": "2022-04-04T12:03:53.700Z"
   },
   {
    "duration": 57,
    "start_time": "2022-04-04T12:03:53.726Z"
   },
   {
    "duration": 14,
    "start_time": "2022-04-04T12:03:53.786Z"
   },
   {
    "duration": 739,
    "start_time": "2022-04-04T12:03:53.803Z"
   },
   {
    "duration": 564,
    "start_time": "2022-04-04T12:03:54.545Z"
   },
   {
    "duration": 423,
    "start_time": "2022-04-04T12:03:55.111Z"
   },
   {
    "duration": 50,
    "start_time": "2022-04-04T12:03:55.537Z"
   },
   {
    "duration": 7,
    "start_time": "2022-04-04T12:03:55.590Z"
   },
   {
    "duration": 23,
    "start_time": "2022-04-04T12:03:55.599Z"
   },
   {
    "duration": 311,
    "start_time": "2022-04-04T12:03:57.981Z"
   },
   {
    "duration": 335,
    "start_time": "2022-04-04T12:07:34.341Z"
   },
   {
    "duration": 141,
    "start_time": "2022-04-04T12:10:21.296Z"
   },
   {
    "duration": 133,
    "start_time": "2022-04-04T12:10:38.762Z"
   },
   {
    "duration": 134,
    "start_time": "2022-04-04T12:10:45.977Z"
   },
   {
    "duration": 471,
    "start_time": "2022-04-04T12:11:27.289Z"
   },
   {
    "duration": 32,
    "start_time": "2022-04-04T12:12:42.794Z"
   },
   {
    "duration": 24,
    "start_time": "2022-04-04T12:13:08.945Z"
   },
   {
    "duration": 392,
    "start_time": "2022-04-04T12:13:13.624Z"
   },
   {
    "duration": 399,
    "start_time": "2022-04-04T12:14:01.815Z"
   },
   {
    "duration": 67,
    "start_time": "2022-04-04T14:08:37.698Z"
   },
   {
    "duration": 1685,
    "start_time": "2022-04-04T14:08:42.909Z"
   },
   {
    "duration": 179,
    "start_time": "2022-04-04T14:08:44.596Z"
   },
   {
    "duration": 13,
    "start_time": "2022-04-04T14:08:44.777Z"
   },
   {
    "duration": 9,
    "start_time": "2022-04-04T14:08:44.792Z"
   },
   {
    "duration": 21,
    "start_time": "2022-04-04T14:08:44.802Z"
   },
   {
    "duration": 13,
    "start_time": "2022-04-04T14:08:44.825Z"
   },
   {
    "duration": 18,
    "start_time": "2022-04-04T14:08:44.839Z"
   },
   {
    "duration": 7,
    "start_time": "2022-04-04T14:08:44.858Z"
   },
   {
    "duration": 17,
    "start_time": "2022-04-04T14:08:44.867Z"
   },
   {
    "duration": 16,
    "start_time": "2022-04-04T14:08:44.886Z"
   },
   {
    "duration": 21,
    "start_time": "2022-04-04T14:08:44.903Z"
   },
   {
    "duration": 9,
    "start_time": "2022-04-04T14:08:44.926Z"
   },
   {
    "duration": 409,
    "start_time": "2022-04-04T14:08:44.936Z"
   },
   {
    "duration": 252,
    "start_time": "2022-04-04T14:08:45.346Z"
   },
   {
    "duration": 351,
    "start_time": "2022-04-04T14:08:45.600Z"
   },
   {
    "duration": 37,
    "start_time": "2022-04-04T14:08:45.953Z"
   },
   {
    "duration": 5,
    "start_time": "2022-04-04T14:08:45.991Z"
   },
   {
    "duration": 13,
    "start_time": "2022-04-04T14:08:45.998Z"
   },
   {
    "duration": 239,
    "start_time": "2022-04-04T14:08:46.012Z"
   },
   {
    "duration": 211,
    "start_time": "2022-04-04T14:08:46.253Z"
   },
   {
    "duration": 325,
    "start_time": "2022-04-04T14:08:51.612Z"
   },
   {
    "duration": 321,
    "start_time": "2022-04-04T14:09:35.346Z"
   },
   {
    "duration": 13,
    "start_time": "2022-04-04T14:09:58.960Z"
   },
   {
    "duration": 65,
    "start_time": "2022-04-04T14:10:47.879Z"
   },
   {
    "duration": 13,
    "start_time": "2022-04-04T14:11:05.053Z"
   },
   {
    "duration": 379,
    "start_time": "2022-04-04T14:11:15.293Z"
   },
   {
    "duration": 8,
    "start_time": "2022-04-04T14:12:39.882Z"
   },
   {
    "duration": 16,
    "start_time": "2022-04-04T14:12:45.050Z"
   },
   {
    "duration": 20,
    "start_time": "2022-04-04T14:13:11.794Z"
   },
   {
    "duration": 17,
    "start_time": "2022-04-04T14:13:28.126Z"
   },
   {
    "duration": 12,
    "start_time": "2022-04-04T14:15:47.569Z"
   },
   {
    "duration": 2,
    "start_time": "2022-04-04T14:18:45.036Z"
   },
   {
    "duration": 283,
    "start_time": "2022-04-04T14:20:20.033Z"
   },
   {
    "duration": 108,
    "start_time": "2022-04-04T14:21:20.623Z"
   },
   {
    "duration": 293,
    "start_time": "2022-04-04T14:21:29.153Z"
   },
   {
    "duration": 343,
    "start_time": "2022-04-04T14:21:47.821Z"
   },
   {
    "duration": 229,
    "start_time": "2022-04-04T14:22:06.211Z"
   },
   {
    "duration": 253,
    "start_time": "2022-04-04T14:22:18.282Z"
   },
   {
    "duration": 233,
    "start_time": "2022-04-04T14:22:34.007Z"
   },
   {
    "duration": 279,
    "start_time": "2022-04-04T14:22:37.138Z"
   },
   {
    "duration": 632,
    "start_time": "2022-04-04T14:25:19.804Z"
   },
   {
    "duration": 151,
    "start_time": "2022-04-04T14:26:23.332Z"
   },
   {
    "duration": 6,
    "start_time": "2022-04-04T14:28:22.489Z"
   },
   {
    "duration": 3,
    "start_time": "2022-04-04T14:28:56.573Z"
   },
   {
    "duration": 128,
    "start_time": "2022-04-04T14:28:56.578Z"
   },
   {
    "duration": 12,
    "start_time": "2022-04-04T14:28:56.707Z"
   },
   {
    "duration": 4,
    "start_time": "2022-04-04T14:28:56.721Z"
   },
   {
    "duration": 16,
    "start_time": "2022-04-04T14:28:56.726Z"
   },
   {
    "duration": 11,
    "start_time": "2022-04-04T14:28:56.743Z"
   },
   {
    "duration": 26,
    "start_time": "2022-04-04T14:28:56.755Z"
   },
   {
    "duration": 4,
    "start_time": "2022-04-04T14:28:56.782Z"
   },
   {
    "duration": 7,
    "start_time": "2022-04-04T14:28:56.787Z"
   },
   {
    "duration": 16,
    "start_time": "2022-04-04T14:28:56.795Z"
   },
   {
    "duration": 15,
    "start_time": "2022-04-04T14:28:56.813Z"
   },
   {
    "duration": 7,
    "start_time": "2022-04-04T14:28:56.830Z"
   },
   {
    "duration": 385,
    "start_time": "2022-04-04T14:28:56.838Z"
   },
   {
    "duration": 245,
    "start_time": "2022-04-04T14:28:57.225Z"
   },
   {
    "duration": 214,
    "start_time": "2022-04-04T14:28:57.472Z"
   },
   {
    "duration": 21,
    "start_time": "2022-04-04T14:28:57.687Z"
   },
   {
    "duration": 14,
    "start_time": "2022-04-04T14:28:57.710Z"
   },
   {
    "duration": 23,
    "start_time": "2022-04-04T14:28:57.726Z"
   },
   {
    "duration": 171,
    "start_time": "2022-04-04T14:28:57.750Z"
   },
   {
    "duration": 524,
    "start_time": "2022-04-04T14:28:57.923Z"
   },
   {
    "duration": 7,
    "start_time": "2022-04-04T14:29:07.665Z"
   },
   {
    "duration": 282,
    "start_time": "2022-04-04T14:30:33.929Z"
   },
   {
    "duration": 1349,
    "start_time": "2022-04-05T03:42:06.422Z"
   },
   {
    "duration": 151,
    "start_time": "2022-04-05T03:42:07.773Z"
   },
   {
    "duration": 14,
    "start_time": "2022-04-05T03:42:07.925Z"
   },
   {
    "duration": 4,
    "start_time": "2022-04-05T03:42:07.940Z"
   },
   {
    "duration": 17,
    "start_time": "2022-04-05T03:42:07.946Z"
   },
   {
    "duration": 12,
    "start_time": "2022-04-05T03:42:07.964Z"
   },
   {
    "duration": 8,
    "start_time": "2022-04-05T03:42:08.002Z"
   },
   {
    "duration": 8,
    "start_time": "2022-04-05T03:42:08.012Z"
   },
   {
    "duration": 5,
    "start_time": "2022-04-05T03:42:08.022Z"
   },
   {
    "duration": 15,
    "start_time": "2022-04-05T03:42:08.029Z"
   },
   {
    "duration": 17,
    "start_time": "2022-04-05T03:42:08.046Z"
   },
   {
    "duration": 40,
    "start_time": "2022-04-05T03:42:08.065Z"
   },
   {
    "duration": 5,
    "start_time": "2022-04-05T03:42:11.472Z"
   },
   {
    "duration": 4,
    "start_time": "2022-04-05T03:42:48.101Z"
   },
   {
    "duration": 7,
    "start_time": "2022-04-05T03:42:58.957Z"
   },
   {
    "duration": 93,
    "start_time": "2022-04-05T03:55:35.048Z"
   },
   {
    "duration": 3,
    "start_time": "2022-04-05T03:55:39.971Z"
   },
   {
    "duration": 145,
    "start_time": "2022-04-05T03:55:39.976Z"
   },
   {
    "duration": 14,
    "start_time": "2022-04-05T03:55:40.123Z"
   },
   {
    "duration": 8,
    "start_time": "2022-04-05T03:55:40.138Z"
   },
   {
    "duration": 17,
    "start_time": "2022-04-05T03:55:40.149Z"
   },
   {
    "duration": 34,
    "start_time": "2022-04-05T03:55:40.168Z"
   },
   {
    "duration": 7,
    "start_time": "2022-04-05T03:55:40.204Z"
   },
   {
    "duration": 5,
    "start_time": "2022-04-05T03:55:40.213Z"
   },
   {
    "duration": 11,
    "start_time": "2022-04-05T03:55:40.220Z"
   },
   {
    "duration": 14,
    "start_time": "2022-04-05T03:55:40.233Z"
   },
   {
    "duration": 16,
    "start_time": "2022-04-05T03:55:40.250Z"
   },
   {
    "duration": 39,
    "start_time": "2022-04-05T03:55:40.268Z"
   },
   {
    "duration": 5,
    "start_time": "2022-04-05T03:55:40.308Z"
   },
   {
    "duration": 15,
    "start_time": "2022-04-05T03:55:40.315Z"
   },
   {
    "duration": 423,
    "start_time": "2022-04-05T03:55:40.332Z"
   },
   {
    "duration": 259,
    "start_time": "2022-04-05T03:55:40.757Z"
   },
   {
    "duration": 230,
    "start_time": "2022-04-05T03:55:41.018Z"
   },
   {
    "duration": 24,
    "start_time": "2022-04-05T03:55:41.250Z"
   },
   {
    "duration": 25,
    "start_time": "2022-04-05T03:55:41.276Z"
   },
   {
    "duration": 11,
    "start_time": "2022-04-05T03:55:41.303Z"
   },
   {
    "duration": 173,
    "start_time": "2022-04-05T03:55:41.315Z"
   },
   {
    "duration": 577,
    "start_time": "2022-04-05T03:55:41.490Z"
   },
   {
    "duration": 7,
    "start_time": "2022-04-05T03:55:48.947Z"
   },
   {
    "duration": 3,
    "start_time": "2022-04-05T03:57:44.992Z"
   },
   {
    "duration": 7,
    "start_time": "2022-04-05T03:57:49.570Z"
   },
   {
    "duration": 8,
    "start_time": "2022-04-05T03:57:52.850Z"
   },
   {
    "duration": 22,
    "start_time": "2022-04-05T03:57:55.888Z"
   },
   {
    "duration": 151,
    "start_time": "2022-04-05T03:58:04.701Z"
   },
   {
    "duration": 5,
    "start_time": "2022-04-05T04:00:13.144Z"
   },
   {
    "duration": 5,
    "start_time": "2022-04-05T04:00:15.614Z"
   },
   {
    "duration": 212,
    "start_time": "2022-04-05T04:00:24.811Z"
   },
   {
    "duration": 132,
    "start_time": "2022-04-05T04:03:26.970Z"
   },
   {
    "duration": 128,
    "start_time": "2022-04-05T04:14:58.993Z"
   },
   {
    "duration": 4,
    "start_time": "2022-04-05T04:15:02.534Z"
   },
   {
    "duration": 133,
    "start_time": "2022-04-05T04:15:04.482Z"
   },
   {
    "duration": 133,
    "start_time": "2022-04-05T04:15:28.816Z"
   },
   {
    "duration": 4,
    "start_time": "2022-04-05T04:15:34.631Z"
   },
   {
    "duration": 120,
    "start_time": "2022-04-05T04:15:36.550Z"
   },
   {
    "duration": 152,
    "start_time": "2022-04-05T04:15:42.489Z"
   },
   {
    "duration": 11,
    "start_time": "2022-04-05T04:16:31.933Z"
   },
   {
    "duration": 210,
    "start_time": "2022-04-05T04:27:46.152Z"
   },
   {
    "duration": 128,
    "start_time": "2022-04-05T04:50:13.059Z"
   },
   {
    "duration": 129,
    "start_time": "2022-04-05T04:50:17.333Z"
   },
   {
    "duration": 5,
    "start_time": "2022-04-05T04:51:04.032Z"
   },
   {
    "duration": 125,
    "start_time": "2022-04-05T04:51:06.033Z"
   },
   {
    "duration": 136,
    "start_time": "2022-04-05T04:53:40.989Z"
   },
   {
    "duration": 5,
    "start_time": "2022-04-05T04:59:14.681Z"
   },
   {
    "duration": 209,
    "start_time": "2022-04-05T04:59:16.110Z"
   },
   {
    "duration": 144,
    "start_time": "2022-04-05T04:59:19.233Z"
   },
   {
    "duration": 22,
    "start_time": "2022-04-05T05:05:41.519Z"
   },
   {
    "duration": 13,
    "start_time": "2022-04-05T05:06:18.085Z"
   },
   {
    "duration": 2764,
    "start_time": "2022-04-05T05:13:10.478Z"
   },
   {
    "duration": 2595,
    "start_time": "2022-04-05T05:13:37.900Z"
   },
   {
    "duration": 4,
    "start_time": "2022-04-05T05:13:44.467Z"
   },
   {
    "duration": 139,
    "start_time": "2022-04-05T05:13:44.473Z"
   },
   {
    "duration": 15,
    "start_time": "2022-04-05T05:13:44.613Z"
   },
   {
    "duration": 5,
    "start_time": "2022-04-05T05:13:44.631Z"
   },
   {
    "duration": 16,
    "start_time": "2022-04-05T05:13:44.638Z"
   },
   {
    "duration": 15,
    "start_time": "2022-04-05T05:13:44.656Z"
   },
   {
    "duration": 34,
    "start_time": "2022-04-05T05:13:44.673Z"
   },
   {
    "duration": 5,
    "start_time": "2022-04-05T05:13:44.710Z"
   },
   {
    "duration": 5,
    "start_time": "2022-04-05T05:13:44.719Z"
   },
   {
    "duration": 17,
    "start_time": "2022-04-05T05:13:44.726Z"
   },
   {
    "duration": 17,
    "start_time": "2022-04-05T05:13:44.745Z"
   },
   {
    "duration": 44,
    "start_time": "2022-04-05T05:13:44.764Z"
   },
   {
    "duration": 6,
    "start_time": "2022-04-05T05:13:44.810Z"
   },
   {
    "duration": 8,
    "start_time": "2022-04-05T05:13:44.818Z"
   },
   {
    "duration": 418,
    "start_time": "2022-04-05T05:13:44.828Z"
   },
   {
    "duration": 259,
    "start_time": "2022-04-05T05:13:45.248Z"
   },
   {
    "duration": 229,
    "start_time": "2022-04-05T05:13:45.509Z"
   },
   {
    "duration": 23,
    "start_time": "2022-04-05T05:13:45.740Z"
   },
   {
    "duration": 5,
    "start_time": "2022-04-05T05:13:45.765Z"
   },
   {
    "duration": 32,
    "start_time": "2022-04-05T05:13:45.772Z"
   },
   {
    "duration": 168,
    "start_time": "2022-04-05T05:13:45.806Z"
   },
   {
    "duration": 608,
    "start_time": "2022-04-05T05:13:45.975Z"
   },
   {
    "duration": 7,
    "start_time": "2022-04-05T05:13:46.585Z"
   },
   {
    "duration": 6,
    "start_time": "2022-04-05T05:13:46.602Z"
   },
   {
    "duration": 146,
    "start_time": "2022-04-05T05:13:46.610Z"
   },
   {
    "duration": 10,
    "start_time": "2022-04-05T05:13:46.758Z"
   },
   {
    "duration": 3,
    "start_time": "2022-04-05T05:14:13.375Z"
   },
   {
    "duration": 144,
    "start_time": "2022-04-05T05:14:13.380Z"
   },
   {
    "duration": 15,
    "start_time": "2022-04-05T05:14:13.527Z"
   },
   {
    "duration": 6,
    "start_time": "2022-04-05T05:14:13.544Z"
   },
   {
    "duration": 54,
    "start_time": "2022-04-05T05:14:13.554Z"
   },
   {
    "duration": 25,
    "start_time": "2022-04-05T05:14:13.610Z"
   },
   {
    "duration": 12,
    "start_time": "2022-04-05T05:14:13.638Z"
   },
   {
    "duration": 8,
    "start_time": "2022-04-05T05:14:13.653Z"
   },
   {
    "duration": 8,
    "start_time": "2022-04-05T05:14:13.663Z"
   },
   {
    "duration": 179,
    "start_time": "2022-04-05T05:14:13.700Z"
   },
   {
    "duration": 33,
    "start_time": "2022-04-05T05:14:13.884Z"
   },
   {
    "duration": 14,
    "start_time": "2022-04-05T05:14:13.920Z"
   },
   {
    "duration": 6,
    "start_time": "2022-04-05T05:14:13.937Z"
   },
   {
    "duration": 9,
    "start_time": "2022-04-05T05:14:13.945Z"
   },
   {
    "duration": 421,
    "start_time": "2022-04-05T05:14:13.956Z"
   },
   {
    "duration": 272,
    "start_time": "2022-04-05T05:14:14.378Z"
   },
   {
    "duration": 243,
    "start_time": "2022-04-05T05:14:14.652Z"
   },
   {
    "duration": 24,
    "start_time": "2022-04-05T05:14:14.901Z"
   },
   {
    "duration": 6,
    "start_time": "2022-04-05T05:14:14.927Z"
   },
   {
    "duration": 12,
    "start_time": "2022-04-05T05:14:14.934Z"
   },
   {
    "duration": 210,
    "start_time": "2022-04-05T05:14:14.948Z"
   },
   {
    "duration": 604,
    "start_time": "2022-04-05T05:14:15.161Z"
   },
   {
    "duration": 9,
    "start_time": "2022-04-05T05:14:15.767Z"
   },
   {
    "duration": 11,
    "start_time": "2022-04-05T05:14:24.008Z"
   },
   {
    "duration": 4,
    "start_time": "2022-04-05T05:17:23.454Z"
   },
   {
    "duration": 171,
    "start_time": "2022-04-05T05:17:23.459Z"
   },
   {
    "duration": 13,
    "start_time": "2022-04-05T05:17:23.632Z"
   },
   {
    "duration": 5,
    "start_time": "2022-04-05T05:17:23.646Z"
   },
   {
    "duration": 15,
    "start_time": "2022-04-05T05:17:23.653Z"
   },
   {
    "duration": 38,
    "start_time": "2022-04-05T05:17:23.670Z"
   },
   {
    "duration": 11,
    "start_time": "2022-04-05T05:17:23.710Z"
   },
   {
    "duration": 6,
    "start_time": "2022-04-05T05:17:23.723Z"
   },
   {
    "duration": 8,
    "start_time": "2022-04-05T05:17:23.732Z"
   },
   {
    "duration": 17,
    "start_time": "2022-04-05T05:17:23.741Z"
   },
   {
    "duration": 45,
    "start_time": "2022-04-05T05:17:23.761Z"
   },
   {
    "duration": 10,
    "start_time": "2022-04-05T05:17:23.807Z"
   },
   {
    "duration": 4,
    "start_time": "2022-04-05T05:17:23.818Z"
   },
   {
    "duration": 9,
    "start_time": "2022-04-05T05:17:23.823Z"
   },
   {
    "duration": 401,
    "start_time": "2022-04-05T05:17:23.834Z"
   },
   {
    "duration": 258,
    "start_time": "2022-04-05T05:17:24.236Z"
   },
   {
    "duration": 318,
    "start_time": "2022-04-05T05:17:24.500Z"
   },
   {
    "duration": 24,
    "start_time": "2022-04-05T05:17:24.820Z"
   },
   {
    "duration": 5,
    "start_time": "2022-04-05T05:17:24.846Z"
   },
   {
    "duration": 15,
    "start_time": "2022-04-05T05:17:24.853Z"
   },
   {
    "duration": 177,
    "start_time": "2022-04-05T05:17:24.869Z"
   },
   {
    "duration": 630,
    "start_time": "2022-04-05T05:17:25.048Z"
   },
   {
    "duration": 6,
    "start_time": "2022-04-05T05:17:25.680Z"
   },
   {
    "duration": 10,
    "start_time": "2022-04-05T05:17:25.700Z"
   },
   {
    "duration": 7,
    "start_time": "2022-04-05T05:17:25.712Z"
   },
   {
    "duration": 151,
    "start_time": "2022-04-05T05:17:25.721Z"
   },
   {
    "duration": 14,
    "start_time": "2022-04-05T05:18:20.134Z"
   },
   {
    "duration": 6,
    "start_time": "2022-04-05T05:18:30.013Z"
   },
   {
    "duration": 136,
    "start_time": "2022-04-05T05:18:33.361Z"
   },
   {
    "duration": 6,
    "start_time": "2022-04-05T05:19:10.359Z"
   },
   {
    "duration": 145,
    "start_time": "2022-04-05T05:19:12.597Z"
   },
   {
    "duration": 145,
    "start_time": "2022-04-05T05:19:17.279Z"
   },
   {
    "duration": 129,
    "start_time": "2022-04-05T05:19:24.273Z"
   },
   {
    "duration": 5,
    "start_time": "2022-04-05T05:19:29.120Z"
   },
   {
    "duration": 137,
    "start_time": "2022-04-05T05:19:30.722Z"
   },
   {
    "duration": 133,
    "start_time": "2022-04-05T05:19:34.639Z"
   },
   {
    "duration": 6,
    "start_time": "2022-04-05T05:23:22.921Z"
   },
   {
    "duration": 227,
    "start_time": "2022-04-05T05:23:24.520Z"
   },
   {
    "duration": 131,
    "start_time": "2022-04-05T05:23:47.415Z"
   },
   {
    "duration": 7,
    "start_time": "2022-04-05T05:24:19.972Z"
   },
   {
    "duration": 132,
    "start_time": "2022-04-05T05:24:21.271Z"
   },
   {
    "duration": 138,
    "start_time": "2022-04-05T05:28:11.530Z"
   },
   {
    "duration": 6,
    "start_time": "2022-04-05T05:28:32.241Z"
   },
   {
    "duration": 129,
    "start_time": "2022-04-05T05:28:34.015Z"
   },
   {
    "duration": 121,
    "start_time": "2022-04-05T05:29:01.781Z"
   },
   {
    "duration": 127,
    "start_time": "2022-04-05T05:29:08.551Z"
   },
   {
    "duration": 6,
    "start_time": "2022-04-05T05:53:15.323Z"
   },
   {
    "duration": 295,
    "start_time": "2022-04-05T05:58:32.641Z"
   },
   {
    "duration": 331,
    "start_time": "2022-04-05T06:02:19.295Z"
   },
   {
    "duration": 10,
    "start_time": "2022-04-05T06:04:25.363Z"
   },
   {
    "duration": 26,
    "start_time": "2022-04-05T06:09:16.724Z"
   },
   {
    "duration": 347,
    "start_time": "2022-04-05T06:09:59.877Z"
   },
   {
    "duration": 322,
    "start_time": "2022-04-05T06:11:39.371Z"
   },
   {
    "duration": 376,
    "start_time": "2022-04-05T06:11:42.315Z"
   },
   {
    "duration": 23,
    "start_time": "2022-04-05T06:12:30.616Z"
   },
   {
    "duration": 20,
    "start_time": "2022-04-05T06:12:46.832Z"
   },
   {
    "duration": 27,
    "start_time": "2022-04-05T06:14:03.699Z"
   },
   {
    "duration": 287,
    "start_time": "2022-04-05T06:19:49.395Z"
   },
   {
    "duration": 315,
    "start_time": "2022-04-05T06:20:23.765Z"
   },
   {
    "duration": 312,
    "start_time": "2022-04-05T06:41:58.166Z"
   },
   {
    "duration": 29,
    "start_time": "2022-04-05T06:44:07.258Z"
   },
   {
    "duration": 24,
    "start_time": "2022-04-05T07:06:37.700Z"
   },
   {
    "duration": 28,
    "start_time": "2022-04-05T07:10:03.303Z"
   },
   {
    "duration": 32,
    "start_time": "2022-04-05T07:13:03.307Z"
   },
   {
    "duration": 260,
    "start_time": "2022-04-05T07:39:03.344Z"
   },
   {
    "duration": 309,
    "start_time": "2022-04-05T07:45:26.898Z"
   },
   {
    "duration": 254,
    "start_time": "2022-04-05T07:45:56.227Z"
   },
   {
    "duration": 16,
    "start_time": "2022-04-05T07:49:41.803Z"
   },
   {
    "duration": 4,
    "start_time": "2022-04-05T07:50:14.537Z"
   },
   {
    "duration": 5,
    "start_time": "2022-04-05T07:50:27.461Z"
   },
   {
    "duration": 24,
    "start_time": "2022-04-05T07:53:11.746Z"
   },
   {
    "duration": 3,
    "start_time": "2022-04-05T07:53:50.467Z"
   },
   {
    "duration": 156,
    "start_time": "2022-04-05T07:53:50.472Z"
   },
   {
    "duration": 15,
    "start_time": "2022-04-05T07:53:50.631Z"
   },
   {
    "duration": 6,
    "start_time": "2022-04-05T07:53:50.648Z"
   },
   {
    "duration": 46,
    "start_time": "2022-04-05T07:53:50.656Z"
   },
   {
    "duration": 15,
    "start_time": "2022-04-05T07:53:50.704Z"
   },
   {
    "duration": 8,
    "start_time": "2022-04-05T07:53:50.720Z"
   },
   {
    "duration": 7,
    "start_time": "2022-04-05T07:53:50.730Z"
   },
   {
    "duration": 7,
    "start_time": "2022-04-05T07:53:50.738Z"
   },
   {
    "duration": 15,
    "start_time": "2022-04-05T07:53:50.747Z"
   },
   {
    "duration": 45,
    "start_time": "2022-04-05T07:53:50.765Z"
   },
   {
    "duration": 9,
    "start_time": "2022-04-05T07:53:50.812Z"
   },
   {
    "duration": 4,
    "start_time": "2022-04-05T07:53:50.823Z"
   },
   {
    "duration": 8,
    "start_time": "2022-04-05T07:53:50.828Z"
   },
   {
    "duration": 414,
    "start_time": "2022-04-05T07:53:50.838Z"
   },
   {
    "duration": 352,
    "start_time": "2022-04-05T07:53:51.254Z"
   },
   {
    "duration": 237,
    "start_time": "2022-04-05T07:53:51.607Z"
   },
   {
    "duration": 22,
    "start_time": "2022-04-05T07:53:51.846Z"
   },
   {
    "duration": 7,
    "start_time": "2022-04-05T07:53:51.869Z"
   },
   {
    "duration": 25,
    "start_time": "2022-04-05T07:53:51.877Z"
   },
   {
    "duration": 166,
    "start_time": "2022-04-05T07:53:51.903Z"
   },
   {
    "duration": 571,
    "start_time": "2022-04-05T07:53:52.071Z"
   },
   {
    "duration": 7,
    "start_time": "2022-04-05T07:53:52.644Z"
   },
   {
    "duration": 15,
    "start_time": "2022-04-05T07:53:52.652Z"
   },
   {
    "duration": 17,
    "start_time": "2022-04-05T07:53:52.669Z"
   },
   {
    "duration": 161,
    "start_time": "2022-04-05T07:53:52.687Z"
   },
   {
    "duration": 14,
    "start_time": "2022-04-05T07:53:52.849Z"
   },
   {
    "duration": 6,
    "start_time": "2022-04-05T07:53:52.865Z"
   },
   {
    "duration": 155,
    "start_time": "2022-04-05T07:53:52.874Z"
   },
   {
    "duration": 148,
    "start_time": "2022-04-05T07:53:53.031Z"
   },
   {
    "duration": 5,
    "start_time": "2022-04-05T07:53:53.181Z"
   },
   {
    "duration": 162,
    "start_time": "2022-04-05T07:53:53.188Z"
   },
   {
    "duration": 151,
    "start_time": "2022-04-05T07:53:53.352Z"
   },
   {
    "duration": 7,
    "start_time": "2022-04-05T07:53:53.505Z"
   },
   {
    "duration": 236,
    "start_time": "2022-04-05T07:53:53.514Z"
   },
   {
    "duration": 140,
    "start_time": "2022-04-05T07:53:53.752Z"
   },
   {
    "duration": 297,
    "start_time": "2022-04-05T07:53:53.894Z"
   },
   {
    "duration": 318,
    "start_time": "2022-04-05T07:53:54.201Z"
   },
   {
    "duration": 317,
    "start_time": "2022-04-05T07:53:54.521Z"
   },
   {
    "duration": 32,
    "start_time": "2022-04-05T07:54:02.742Z"
   },
   {
    "duration": 266,
    "start_time": "2022-04-05T07:54:07.683Z"
   },
   {
    "duration": 17,
    "start_time": "2022-04-05T07:54:14.814Z"
   },
   {
    "duration": 13,
    "start_time": "2022-04-05T07:54:41.684Z"
   },
   {
    "duration": 14,
    "start_time": "2022-04-05T07:56:55.368Z"
   },
   {
    "duration": 14,
    "start_time": "2022-04-05T08:00:52.323Z"
   },
   {
    "duration": 17,
    "start_time": "2022-04-05T08:01:33.257Z"
   },
   {
    "duration": 16,
    "start_time": "2022-04-05T08:01:42.422Z"
   },
   {
    "duration": 15,
    "start_time": "2022-04-05T08:02:12.894Z"
   },
   {
    "duration": 14,
    "start_time": "2022-04-05T08:03:06.222Z"
   },
   {
    "duration": 13,
    "start_time": "2022-04-05T08:03:45.218Z"
   },
   {
    "duration": 15,
    "start_time": "2022-04-05T08:03:59.271Z"
   },
   {
    "duration": 15,
    "start_time": "2022-04-05T08:04:36.509Z"
   },
   {
    "duration": 234,
    "start_time": "2022-04-05T08:06:22.239Z"
   },
   {
    "duration": 271,
    "start_time": "2022-04-05T08:08:58.864Z"
   },
   {
    "duration": 15,
    "start_time": "2022-04-05T08:20:21.398Z"
   },
   {
    "duration": 14,
    "start_time": "2022-04-05T08:20:32.419Z"
   },
   {
    "duration": 15,
    "start_time": "2022-04-05T08:20:56.151Z"
   },
   {
    "duration": 229,
    "start_time": "2022-04-05T08:25:39.137Z"
   },
   {
    "duration": 3,
    "start_time": "2022-04-05T08:46:19.836Z"
   },
   {
    "duration": 154,
    "start_time": "2022-04-05T08:46:19.842Z"
   },
   {
    "duration": 15,
    "start_time": "2022-04-05T08:46:19.998Z"
   },
   {
    "duration": 5,
    "start_time": "2022-04-05T08:46:20.014Z"
   },
   {
    "duration": 21,
    "start_time": "2022-04-05T08:46:20.022Z"
   },
   {
    "duration": 13,
    "start_time": "2022-04-05T08:46:20.044Z"
   },
   {
    "duration": 7,
    "start_time": "2022-04-05T08:46:20.058Z"
   },
   {
    "duration": 5,
    "start_time": "2022-04-05T08:46:20.067Z"
   },
   {
    "duration": 5,
    "start_time": "2022-04-05T08:46:20.102Z"
   },
   {
    "duration": 16,
    "start_time": "2022-04-05T08:46:20.109Z"
   },
   {
    "duration": 15,
    "start_time": "2022-04-05T08:46:20.128Z"
   },
   {
    "duration": 8,
    "start_time": "2022-04-05T08:46:20.145Z"
   },
   {
    "duration": 4,
    "start_time": "2022-04-05T08:46:20.155Z"
   },
   {
    "duration": 43,
    "start_time": "2022-04-05T08:46:20.160Z"
   },
   {
    "duration": 521,
    "start_time": "2022-04-05T08:46:20.205Z"
   },
   {
    "duration": 276,
    "start_time": "2022-04-05T08:46:20.727Z"
   },
   {
    "duration": 250,
    "start_time": "2022-04-05T08:46:21.005Z"
   },
   {
    "duration": 23,
    "start_time": "2022-04-05T08:46:21.257Z"
   },
   {
    "duration": 20,
    "start_time": "2022-04-05T08:46:21.282Z"
   },
   {
    "duration": 13,
    "start_time": "2022-04-05T08:46:21.304Z"
   },
   {
    "duration": 189,
    "start_time": "2022-04-05T08:46:21.319Z"
   },
   {
    "duration": 574,
    "start_time": "2022-04-05T08:46:21.510Z"
   },
   {
    "duration": 16,
    "start_time": "2022-04-05T08:46:22.085Z"
   },
   {
    "duration": 10,
    "start_time": "2022-04-05T08:46:22.104Z"
   },
   {
    "duration": 10,
    "start_time": "2022-04-05T08:46:22.116Z"
   },
   {
    "duration": 175,
    "start_time": "2022-04-05T08:46:22.128Z"
   },
   {
    "duration": 14,
    "start_time": "2022-04-05T08:46:22.306Z"
   },
   {
    "duration": 7,
    "start_time": "2022-04-05T08:46:22.322Z"
   },
   {
    "duration": 178,
    "start_time": "2022-04-05T08:46:22.332Z"
   },
   {
    "duration": 160,
    "start_time": "2022-04-05T08:46:22.512Z"
   },
   {
    "duration": 6,
    "start_time": "2022-04-05T08:46:22.674Z"
   },
   {
    "duration": 178,
    "start_time": "2022-04-05T08:46:22.682Z"
   },
   {
    "duration": 263,
    "start_time": "2022-04-05T08:46:22.862Z"
   },
   {
    "duration": 7,
    "start_time": "2022-04-05T08:46:23.127Z"
   },
   {
    "duration": 222,
    "start_time": "2022-04-05T08:46:23.136Z"
   },
   {
    "duration": 184,
    "start_time": "2022-04-05T08:46:23.360Z"
   },
   {
    "duration": 304,
    "start_time": "2022-04-05T08:46:23.546Z"
   },
   {
    "duration": 308,
    "start_time": "2022-04-05T08:46:23.851Z"
   },
   {
    "duration": 325,
    "start_time": "2022-04-05T08:46:24.161Z"
   },
   {
    "duration": 38,
    "start_time": "2022-04-05T08:46:24.487Z"
   },
   {
    "duration": 270,
    "start_time": "2022-04-05T08:46:24.527Z"
   },
   {
    "duration": 16,
    "start_time": "2022-04-05T08:46:24.802Z"
   },
   {
    "duration": 14,
    "start_time": "2022-04-05T08:46:24.820Z"
   },
   {
    "duration": 30,
    "start_time": "2022-04-05T08:46:24.835Z"
   },
   {
    "duration": 14,
    "start_time": "2022-04-05T08:46:24.867Z"
   },
   {
    "duration": 27,
    "start_time": "2022-04-05T08:46:24.883Z"
   },
   {
    "duration": 18,
    "start_time": "2022-04-05T08:46:24.912Z"
   },
   {
    "duration": 242,
    "start_time": "2022-04-05T08:46:24.932Z"
   },
   {
    "duration": 6,
    "start_time": "2022-04-05T08:46:57.309Z"
   },
   {
    "duration": 10,
    "start_time": "2022-04-05T08:47:11.593Z"
   },
   {
    "duration": 7,
    "start_time": "2022-04-05T08:49:29.442Z"
   },
   {
    "duration": 6,
    "start_time": "2022-04-05T08:49:31.454Z"
   },
   {
    "duration": 10,
    "start_time": "2022-04-05T08:49:46.275Z"
   },
   {
    "duration": 7,
    "start_time": "2022-04-05T08:49:52.912Z"
   },
   {
    "duration": 7,
    "start_time": "2022-04-05T08:49:55.009Z"
   },
   {
    "duration": 13,
    "start_time": "2022-04-05T08:51:01.570Z"
   },
   {
    "duration": 10,
    "start_time": "2022-04-05T08:51:18.525Z"
   },
   {
    "duration": 13,
    "start_time": "2022-04-05T08:52:13.335Z"
   },
   {
    "duration": 6,
    "start_time": "2022-04-05T08:53:03.968Z"
   },
   {
    "duration": 7,
    "start_time": "2022-04-05T08:53:05.875Z"
   },
   {
    "duration": 10,
    "start_time": "2022-04-05T08:54:44.303Z"
   },
   {
    "duration": 6,
    "start_time": "2022-04-05T08:54:50.544Z"
   },
   {
    "duration": 6,
    "start_time": "2022-04-05T08:54:52.886Z"
   },
   {
    "duration": 1235,
    "start_time": "2022-04-05T09:18:17.711Z"
   },
   {
    "duration": 150,
    "start_time": "2022-04-05T09:18:18.948Z"
   },
   {
    "duration": 15,
    "start_time": "2022-04-05T09:18:19.099Z"
   },
   {
    "duration": 5,
    "start_time": "2022-04-05T09:18:19.115Z"
   },
   {
    "duration": 17,
    "start_time": "2022-04-05T09:18:19.122Z"
   },
   {
    "duration": 13,
    "start_time": "2022-04-05T09:18:19.140Z"
   },
   {
    "duration": 12,
    "start_time": "2022-04-05T09:18:19.154Z"
   },
   {
    "duration": 5,
    "start_time": "2022-04-05T09:18:19.168Z"
   },
   {
    "duration": 28,
    "start_time": "2022-04-05T09:18:19.175Z"
   },
   {
    "duration": 15,
    "start_time": "2022-04-05T09:18:19.205Z"
   },
   {
    "duration": 17,
    "start_time": "2022-04-05T09:18:19.222Z"
   },
   {
    "duration": 11,
    "start_time": "2022-04-05T09:18:19.240Z"
   },
   {
    "duration": 5,
    "start_time": "2022-04-05T09:18:19.252Z"
   },
   {
    "duration": 43,
    "start_time": "2022-04-05T09:18:19.260Z"
   },
   {
    "duration": 439,
    "start_time": "2022-04-05T09:18:19.305Z"
   },
   {
    "duration": 289,
    "start_time": "2022-04-05T09:18:19.746Z"
   },
   {
    "duration": 254,
    "start_time": "2022-04-05T09:18:20.037Z"
   },
   {
    "duration": 27,
    "start_time": "2022-04-05T09:18:20.301Z"
   },
   {
    "duration": 7,
    "start_time": "2022-04-05T09:18:20.330Z"
   },
   {
    "duration": 15,
    "start_time": "2022-04-05T09:18:20.340Z"
   },
   {
    "duration": 302,
    "start_time": "2022-04-05T09:18:20.357Z"
   },
   {
    "duration": 785,
    "start_time": "2022-04-05T09:18:20.662Z"
   },
   {
    "duration": 9,
    "start_time": "2022-04-05T09:18:21.449Z"
   },
   {
    "duration": 11,
    "start_time": "2022-04-05T09:18:21.459Z"
   },
   {
    "duration": 30,
    "start_time": "2022-04-05T09:18:21.472Z"
   },
   {
    "duration": 156,
    "start_time": "2022-04-05T09:18:21.503Z"
   },
   {
    "duration": 15,
    "start_time": "2022-04-05T09:18:21.661Z"
   },
   {
    "duration": 24,
    "start_time": "2022-04-05T09:18:21.677Z"
   },
   {
    "duration": 258,
    "start_time": "2022-04-05T09:18:21.703Z"
   },
   {
    "duration": 156,
    "start_time": "2022-04-05T09:18:21.963Z"
   },
   {
    "duration": 6,
    "start_time": "2022-04-05T09:18:22.121Z"
   },
   {
    "duration": 155,
    "start_time": "2022-04-05T09:18:22.128Z"
   },
   {
    "duration": 148,
    "start_time": "2022-04-05T09:18:22.285Z"
   },
   {
    "duration": 5,
    "start_time": "2022-04-05T09:18:22.435Z"
   },
   {
    "duration": 148,
    "start_time": "2022-04-05T09:18:22.442Z"
   },
   {
    "duration": 159,
    "start_time": "2022-04-05T09:18:22.592Z"
   },
   {
    "duration": 362,
    "start_time": "2022-04-05T09:18:22.753Z"
   },
   {
    "duration": 312,
    "start_time": "2022-04-05T09:18:23.117Z"
   },
   {
    "duration": 329,
    "start_time": "2022-04-05T09:18:23.431Z"
   },
   {
    "duration": 50,
    "start_time": "2022-04-05T09:18:23.762Z"
   },
   {
    "duration": 304,
    "start_time": "2022-04-05T09:18:23.817Z"
   },
   {
    "duration": 16,
    "start_time": "2022-04-05T09:18:24.124Z"
   },
   {
    "duration": 15,
    "start_time": "2022-04-05T09:18:24.142Z"
   },
   {
    "duration": 15,
    "start_time": "2022-04-05T09:18:24.159Z"
   },
   {
    "duration": 106,
    "start_time": "2022-04-05T09:18:24.202Z"
   },
   {
    "duration": 16,
    "start_time": "2022-04-05T09:18:24.310Z"
   },
   {
    "duration": 20,
    "start_time": "2022-04-05T09:18:24.327Z"
   },
   {
    "duration": 272,
    "start_time": "2022-04-05T09:18:24.349Z"
   },
   {
    "duration": 6,
    "start_time": "2022-04-05T09:18:24.623Z"
   },
   {
    "duration": 11,
    "start_time": "2022-04-05T09:18:24.631Z"
   },
   {
    "duration": 2,
    "start_time": "2022-04-05T09:18:24.644Z"
   },
   {
    "duration": 10,
    "start_time": "2022-04-05T09:18:24.648Z"
   },
   {
    "duration": 6,
    "start_time": "2022-04-05T09:18:24.660Z"
   },
   {
    "duration": 39,
    "start_time": "2022-04-05T09:18:24.667Z"
   },
   {
    "duration": 13,
    "start_time": "2022-04-05T09:18:24.708Z"
   },
   {
    "duration": 5,
    "start_time": "2022-04-05T09:18:24.723Z"
   },
   {
    "duration": 8,
    "start_time": "2022-04-05T09:18:24.730Z"
   }
  ],
  "kernelspec": {
   "display_name": "Python 3 (ipykernel)",
   "language": "python",
   "name": "python3"
  },
  "language_info": {
   "codemirror_mode": {
    "name": "ipython",
    "version": 3
   },
   "file_extension": ".py",
   "mimetype": "text/x-python",
   "name": "python",
   "nbconvert_exporter": "python",
   "pygments_lexer": "ipython3",
   "version": "3.9.7"
  },
  "toc": {
   "base_numbering": 1,
   "nav_menu": {},
   "number_sections": true,
   "sideBar": true,
   "skip_h1_title": true,
   "title_cell": "Содержание",
   "title_sidebar": "Contents",
   "toc_cell": true,
   "toc_position": {
    "height": "522px",
    "left": "192px",
    "top": "416.125px",
    "width": "165px"
   },
   "toc_section_display": true,
   "toc_window_display": false
  }
 },
 "nbformat": 4,
 "nbformat_minor": 2
}

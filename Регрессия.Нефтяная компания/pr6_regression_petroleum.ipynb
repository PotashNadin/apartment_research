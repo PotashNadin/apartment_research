{
 "cells": [
  {
   "cell_type": "markdown",
   "metadata": {},
   "source": [
    "# Выбор локации для скважины"
   ]
  },
  {
   "cell_type": "markdown",
   "metadata": {},
   "source": [
    "## Загрузка и подготовка данных"
   ]
  },
  {
   "cell_type": "code",
   "execution_count": 1,
   "metadata": {},
   "outputs": [],
   "source": [
    "import pandas as pd\n",
    "import numpy as np\n",
    "from sklearn.linear_model import LinearRegression\n",
    "from sklearn.model_selection import train_test_split\n",
    "from sklearn.metrics import mean_squared_error\n",
    "from scipy import stats as st"
   ]
  },
  {
   "cell_type": "code",
   "execution_count": 2,
   "metadata": {
    "scrolled": true
   },
   "outputs": [
    {
     "data": {
      "text/html": [
       "<div>\n",
       "<style scoped>\n",
       "    .dataframe tbody tr th:only-of-type {\n",
       "        vertical-align: middle;\n",
       "    }\n",
       "\n",
       "    .dataframe tbody tr th {\n",
       "        vertical-align: top;\n",
       "    }\n",
       "\n",
       "    .dataframe thead th {\n",
       "        text-align: right;\n",
       "    }\n",
       "</style>\n",
       "<table border=\"1\" class=\"dataframe\">\n",
       "  <thead>\n",
       "    <tr style=\"text-align: right;\">\n",
       "      <th></th>\n",
       "      <th>id</th>\n",
       "      <th>f0</th>\n",
       "      <th>f1</th>\n",
       "      <th>f2</th>\n",
       "      <th>product</th>\n",
       "    </tr>\n",
       "  </thead>\n",
       "  <tbody>\n",
       "    <tr>\n",
       "      <th>0</th>\n",
       "      <td>txEyH</td>\n",
       "      <td>0.705745</td>\n",
       "      <td>-0.497823</td>\n",
       "      <td>1.221170</td>\n",
       "      <td>105.280062</td>\n",
       "    </tr>\n",
       "    <tr>\n",
       "      <th>1</th>\n",
       "      <td>2acmU</td>\n",
       "      <td>1.334711</td>\n",
       "      <td>-0.340164</td>\n",
       "      <td>4.365080</td>\n",
       "      <td>73.037750</td>\n",
       "    </tr>\n",
       "    <tr>\n",
       "      <th>2</th>\n",
       "      <td>409Wp</td>\n",
       "      <td>1.022732</td>\n",
       "      <td>0.151990</td>\n",
       "      <td>1.419926</td>\n",
       "      <td>85.265647</td>\n",
       "    </tr>\n",
       "    <tr>\n",
       "      <th>3</th>\n",
       "      <td>iJLyR</td>\n",
       "      <td>-0.032172</td>\n",
       "      <td>0.139033</td>\n",
       "      <td>2.978566</td>\n",
       "      <td>168.620776</td>\n",
       "    </tr>\n",
       "    <tr>\n",
       "      <th>4</th>\n",
       "      <td>Xdl7t</td>\n",
       "      <td>1.988431</td>\n",
       "      <td>0.155413</td>\n",
       "      <td>4.751769</td>\n",
       "      <td>154.036647</td>\n",
       "    </tr>\n",
       "  </tbody>\n",
       "</table>\n",
       "</div>"
      ],
      "text/plain": [
       "      id        f0        f1        f2     product\n",
       "0  txEyH  0.705745 -0.497823  1.221170  105.280062\n",
       "1  2acmU  1.334711 -0.340164  4.365080   73.037750\n",
       "2  409Wp  1.022732  0.151990  1.419926   85.265647\n",
       "3  iJLyR -0.032172  0.139033  2.978566  168.620776\n",
       "4  Xdl7t  1.988431  0.155413  4.751769  154.036647"
      ]
     },
     "execution_count": 2,
     "metadata": {},
     "output_type": "execute_result"
    }
   ],
   "source": [
    "geo_data_0 = pd.read_csv('/datasets/geo_data_0.csv')\n",
    "geo_data_1 = pd.read_csv('/datasets/geo_data_1.csv')\n",
    "geo_data_2 = pd.read_csv('/datasets/geo_data_2.csv')\n",
    "geo_data_0.head()"
   ]
  },
  {
   "cell_type": "code",
   "execution_count": 3,
   "metadata": {
    "scrolled": true
   },
   "outputs": [
    {
     "data": {
      "text/html": [
       "<div>\n",
       "<style scoped>\n",
       "    .dataframe tbody tr th:only-of-type {\n",
       "        vertical-align: middle;\n",
       "    }\n",
       "\n",
       "    .dataframe tbody tr th {\n",
       "        vertical-align: top;\n",
       "    }\n",
       "\n",
       "    .dataframe thead th {\n",
       "        text-align: right;\n",
       "    }\n",
       "</style>\n",
       "<table border=\"1\" class=\"dataframe\">\n",
       "  <thead>\n",
       "    <tr style=\"text-align: right;\">\n",
       "      <th></th>\n",
       "      <th>id</th>\n",
       "      <th>f0</th>\n",
       "      <th>f1</th>\n",
       "      <th>f2</th>\n",
       "      <th>product</th>\n",
       "    </tr>\n",
       "  </thead>\n",
       "  <tbody>\n",
       "    <tr>\n",
       "      <th>0</th>\n",
       "      <td>kBEdx</td>\n",
       "      <td>-15.001348</td>\n",
       "      <td>-8.276000</td>\n",
       "      <td>-0.005876</td>\n",
       "      <td>3.179103</td>\n",
       "    </tr>\n",
       "    <tr>\n",
       "      <th>1</th>\n",
       "      <td>62mP7</td>\n",
       "      <td>14.272088</td>\n",
       "      <td>-3.475083</td>\n",
       "      <td>0.999183</td>\n",
       "      <td>26.953261</td>\n",
       "    </tr>\n",
       "    <tr>\n",
       "      <th>2</th>\n",
       "      <td>vyE1P</td>\n",
       "      <td>6.263187</td>\n",
       "      <td>-5.948386</td>\n",
       "      <td>5.001160</td>\n",
       "      <td>134.766305</td>\n",
       "    </tr>\n",
       "    <tr>\n",
       "      <th>3</th>\n",
       "      <td>KcrkZ</td>\n",
       "      <td>-13.081196</td>\n",
       "      <td>-11.506057</td>\n",
       "      <td>4.999415</td>\n",
       "      <td>137.945408</td>\n",
       "    </tr>\n",
       "    <tr>\n",
       "      <th>4</th>\n",
       "      <td>AHL4O</td>\n",
       "      <td>12.702195</td>\n",
       "      <td>-8.147433</td>\n",
       "      <td>5.004363</td>\n",
       "      <td>134.766305</td>\n",
       "    </tr>\n",
       "  </tbody>\n",
       "</table>\n",
       "</div>"
      ],
      "text/plain": [
       "      id         f0         f1        f2     product\n",
       "0  kBEdx -15.001348  -8.276000 -0.005876    3.179103\n",
       "1  62mP7  14.272088  -3.475083  0.999183   26.953261\n",
       "2  vyE1P   6.263187  -5.948386  5.001160  134.766305\n",
       "3  KcrkZ -13.081196 -11.506057  4.999415  137.945408\n",
       "4  AHL4O  12.702195  -8.147433  5.004363  134.766305"
      ]
     },
     "execution_count": 3,
     "metadata": {},
     "output_type": "execute_result"
    }
   ],
   "source": [
    "geo_data_1.head()"
   ]
  },
  {
   "cell_type": "code",
   "execution_count": 4,
   "metadata": {
    "scrolled": true
   },
   "outputs": [
    {
     "data": {
      "text/html": [
       "<div>\n",
       "<style scoped>\n",
       "    .dataframe tbody tr th:only-of-type {\n",
       "        vertical-align: middle;\n",
       "    }\n",
       "\n",
       "    .dataframe tbody tr th {\n",
       "        vertical-align: top;\n",
       "    }\n",
       "\n",
       "    .dataframe thead th {\n",
       "        text-align: right;\n",
       "    }\n",
       "</style>\n",
       "<table border=\"1\" class=\"dataframe\">\n",
       "  <thead>\n",
       "    <tr style=\"text-align: right;\">\n",
       "      <th></th>\n",
       "      <th>id</th>\n",
       "      <th>f0</th>\n",
       "      <th>f1</th>\n",
       "      <th>f2</th>\n",
       "      <th>product</th>\n",
       "    </tr>\n",
       "  </thead>\n",
       "  <tbody>\n",
       "    <tr>\n",
       "      <th>0</th>\n",
       "      <td>fwXo0</td>\n",
       "      <td>-1.146987</td>\n",
       "      <td>0.963328</td>\n",
       "      <td>-0.828965</td>\n",
       "      <td>27.758673</td>\n",
       "    </tr>\n",
       "    <tr>\n",
       "      <th>1</th>\n",
       "      <td>WJtFt</td>\n",
       "      <td>0.262778</td>\n",
       "      <td>0.269839</td>\n",
       "      <td>-2.530187</td>\n",
       "      <td>56.069697</td>\n",
       "    </tr>\n",
       "    <tr>\n",
       "      <th>2</th>\n",
       "      <td>ovLUW</td>\n",
       "      <td>0.194587</td>\n",
       "      <td>0.289035</td>\n",
       "      <td>-5.586433</td>\n",
       "      <td>62.871910</td>\n",
       "    </tr>\n",
       "    <tr>\n",
       "      <th>3</th>\n",
       "      <td>q6cA6</td>\n",
       "      <td>2.236060</td>\n",
       "      <td>-0.553760</td>\n",
       "      <td>0.930038</td>\n",
       "      <td>114.572842</td>\n",
       "    </tr>\n",
       "    <tr>\n",
       "      <th>4</th>\n",
       "      <td>WPMUX</td>\n",
       "      <td>-0.515993</td>\n",
       "      <td>1.716266</td>\n",
       "      <td>5.899011</td>\n",
       "      <td>149.600746</td>\n",
       "    </tr>\n",
       "  </tbody>\n",
       "</table>\n",
       "</div>"
      ],
      "text/plain": [
       "      id        f0        f1        f2     product\n",
       "0  fwXo0 -1.146987  0.963328 -0.828965   27.758673\n",
       "1  WJtFt  0.262778  0.269839 -2.530187   56.069697\n",
       "2  ovLUW  0.194587  0.289035 -5.586433   62.871910\n",
       "3  q6cA6  2.236060 -0.553760  0.930038  114.572842\n",
       "4  WPMUX -0.515993  1.716266  5.899011  149.600746"
      ]
     },
     "execution_count": 4,
     "metadata": {},
     "output_type": "execute_result"
    }
   ],
   "source": [
    "geo_data_2.head()"
   ]
  },
  {
   "cell_type": "markdown",
   "metadata": {},
   "source": [
    "Данные не содержат пропусков и дубликатов. Данные готовы к работе.\n",
    "\n",
    "Необходимо удалить в датасетах столбцы `id`, в которых содержатся не нужные для обучения модели данные."
   ]
  },
  {
   "cell_type": "code",
   "execution_count": 5,
   "metadata": {},
   "outputs": [],
   "source": [
    "geo_data_0 = geo_data_0.drop('id',axis=1)\n",
    "geo_data_1 = geo_data_1.drop('id',axis=1) \n",
    "geo_data_2 = geo_data_2.drop('id',axis=1) "
   ]
  },
  {
   "cell_type": "markdown",
   "metadata": {},
   "source": [
    "## Обучение и проверка модели"
   ]
  },
  {
   "cell_type": "markdown",
   "metadata": {},
   "source": [
    "Напишем функцию, которая обучит модель и рассчитает RMSE для каждого представленного региона, а так же покажет нам,сколько в среднем хранится запасов сырья в выбранном регионе."
   ]
  },
  {
   "cell_type": "code",
   "execution_count": 6,
   "metadata": {},
   "outputs": [],
   "source": [
    "def education_model(data):\n",
    "    features = data.drop('product',axis=1) \n",
    "    target = data['product']\n",
    "    \n",
    "    features_train, features_valid, target_train, target_valid = train_test_split(\n",
    "    features, target, test_size=0.25, random_state=42)# отделяем 25% данных для валидационной выборки\n",
    "    \n",
    "    model = LinearRegression()\n",
    "    model.fit(features_train,target_train)\n",
    "    predictions_valid = model.predict(features_valid)\n",
    "    \n",
    "    result = mean_squared_error(target_valid,predictions_valid,squared=False)\n",
    "    print('Средний запас предсказанного сырья', predictions_valid.mean())\n",
    "    print(\"RMSE на валидационной выборке в данном регионе:\", result)\n",
    "    return [result,predictions_valid,target_valid]"
   ]
  },
  {
   "cell_type": "markdown",
   "metadata": {},
   "source": [
    "### Предсказания модели по геоданным первого региона"
   ]
  },
  {
   "cell_type": "code",
   "execution_count": 7,
   "metadata": {
    "scrolled": false
   },
   "outputs": [
    {
     "name": "stdout",
     "output_type": "stream",
     "text": [
      "Средний запас предсказанного сырья 92.3987999065777\n",
      "RMSE на валидационной выборке в данном регионе: 37.756600350261685\n"
     ]
    }
   ],
   "source": [
    "data_0 = education_model(geo_data_0)\n",
    "target_valid_0 = data_0[2]\n",
    "predictions_valid_0 = pd.Series(data_0[1],index=list(target_valid_0.index))"
   ]
  },
  {
   "cell_type": "markdown",
   "metadata": {},
   "source": [
    "### Предсказания модели по геоданным второго региона"
   ]
  },
  {
   "cell_type": "code",
   "execution_count": 8,
   "metadata": {},
   "outputs": [
    {
     "name": "stdout",
     "output_type": "stream",
     "text": [
      "Средний запас предсказанного сырья 68.71287803913762\n",
      "RMSE на валидационной выборке в данном регионе: 0.890280100102884\n"
     ]
    }
   ],
   "source": [
    "data_1 = education_model(geo_data_1)\n",
    "target_valid_1 = data_1[2]\n",
    "predictions_valid_1 = pd.Series(data_1[1],index=list(target_valid_1.index))"
   ]
  },
  {
   "cell_type": "markdown",
   "metadata": {},
   "source": [
    "### Предсказания модели по геоданным третьего региона"
   ]
  },
  {
   "cell_type": "code",
   "execution_count": 9,
   "metadata": {},
   "outputs": [
    {
     "name": "stdout",
     "output_type": "stream",
     "text": [
      "Средний запас предсказанного сырья 94.77102387765939\n",
      "RMSE на валидационной выборке в данном регионе: 40.14587231134218\n"
     ]
    }
   ],
   "source": [
    "data_2 = education_model(geo_data_2)\n",
    "target_valid_2 = data_2[2]\n",
    "predictions_valid_2 = pd.Series(data_2[1],index=list(target_valid_2.index))"
   ]
  },
  {
   "cell_type": "markdown",
   "metadata": {},
   "source": [
    "## Подготовка к расчёту прибыли"
   ]
  },
  {
   "cell_type": "code",
   "execution_count": 10,
   "metadata": {
    "scrolled": false
   },
   "outputs": [
    {
     "data": {
      "text/plain": [
       "111.11111111111111"
      ]
     },
     "execution_count": 10,
     "metadata": {},
     "output_type": "execute_result"
    }
   ],
   "source": [
    "#сохраним в переменные необходимые для расчета данные,как требуется в задании.\n",
    "\n",
    "BUDGET_ALL= 10000000000# готовы потратить на 200 скважин\n",
    "BARREL_PRICE = 450000# цена за тысячу баррелей\n",
    "BUDGET_ONE_WELL = BUDGET_ALL/200 # бюджет на одну скважину\n",
    "PRODUCT_AMOUNT = BUDGET_ONE_WELL/BARREL_PRICE # необходимое количесвто сырья,при условии что цена 450р за 1 баррель\n",
    "PRODUCT_AMOUNT"
   ]
  },
  {
   "cell_type": "markdown",
   "metadata": {},
   "source": [
    "Учитывая заданные условия, мы видим, что в среднем каждая скважина должна иметь объем сырья минимум 111тыс баррелей. В таком случае, компания сможет выйти в прибыль при добычи нефти с таких скважин.\n",
    "Теперь посмотрим, сколько сырья храниться в среднем на месторождениях в данных регионах."
   ]
  },
  {
   "cell_type": "code",
   "execution_count": 11,
   "metadata": {},
   "outputs": [
    {
     "data": {
      "text/plain": [
       "count    100000.000000\n",
       "mean         92.500000\n",
       "std          44.288691\n",
       "min           0.000000\n",
       "25%          56.497507\n",
       "50%          91.849972\n",
       "75%         128.564089\n",
       "max         185.364347\n",
       "Name: product, dtype: float64"
      ]
     },
     "execution_count": 11,
     "metadata": {},
     "output_type": "execute_result"
    }
   ],
   "source": [
    "geo_data_0['product'].describe()"
   ]
  },
  {
   "cell_type": "code",
   "execution_count": 12,
   "metadata": {},
   "outputs": [
    {
     "data": {
      "text/plain": [
       "count    100000.000000\n",
       "mean         68.825000\n",
       "std          45.944423\n",
       "min           0.000000\n",
       "25%          26.953261\n",
       "50%          57.085625\n",
       "75%         107.813044\n",
       "max         137.945408\n",
       "Name: product, dtype: float64"
      ]
     },
     "execution_count": 12,
     "metadata": {},
     "output_type": "execute_result"
    }
   ],
   "source": [
    "geo_data_1['product'].describe()"
   ]
  },
  {
   "cell_type": "code",
   "execution_count": 13,
   "metadata": {
    "scrolled": true
   },
   "outputs": [
    {
     "data": {
      "text/plain": [
       "count    100000.000000\n",
       "mean         95.000000\n",
       "std          44.749921\n",
       "min           0.000000\n",
       "25%          59.450441\n",
       "50%          94.925613\n",
       "75%         130.595027\n",
       "max         190.029838\n",
       "Name: product, dtype: float64"
      ]
     },
     "execution_count": 13,
     "metadata": {},
     "output_type": "execute_result"
    }
   ],
   "source": [
    "geo_data_2['product'].describe()"
   ]
  },
  {
   "cell_type": "markdown",
   "metadata": {},
   "source": [
    "Мы видим, что сырья в в большинстве скважин недостаточно чтобы выйти в прибыль.\n",
    "В первом регионе, второй квантиль уже находится на уровне 94тыс баррелей, значит половина датасета имеет значения выше 95тыс. бар. В третьем регионе картина схожая.\n",
    "\n",
    "Во втором регионе видим, что большая часть скважин недостаточно наполнена сырьем, лишь 25% скважин имеет достаточный объем. Получить прибыль работая в данном регионе будет достаточно сложно. \n",
    "\n"
   ]
  },
  {
   "cell_type": "markdown",
   "metadata": {},
   "source": [
    "Напишем функцию для расчета прибыли с полученного объёма сырья."
   ]
  },
  {
   "cell_type": "code",
   "execution_count": 15,
   "metadata": {},
   "outputs": [],
   "source": [
    "def profit_calc(prediction,target):\n",
    "    state = np.random.RandomState(42)\n",
    "    prediction_sample = prediction.sample(n=500, replace=True, random_state=state)\n",
    "    prediction = prediction_sample.sort_values(ascending=False).head(200)\n",
    "    target = target[list(prediction.index)]\n",
    "    profit_calc = target.sum() * BARREL_PRICE\n",
    "    print('Выгода при работе со скважинами из данного региона составит', profit_calc - BUDGET_ALL)"
   ]
  },
  {
   "cell_type": "code",
   "execution_count": 16,
   "metadata": {},
   "outputs": [
    {
     "name": "stdout",
     "output_type": "stream",
     "text": [
      "Выгода при работе со скважинами из данного региона составит 571778059.8300972\n"
     ]
    }
   ],
   "source": [
    "profit_calc(predictions_valid_0,target_valid_0)"
   ]
  },
  {
   "cell_type": "code",
   "execution_count": 17,
   "metadata": {},
   "outputs": [
    {
     "name": "stdout",
     "output_type": "stream",
     "text": [
      "Выгода при работе со скважинами из данного региона составит 691031721.4379349\n"
     ]
    }
   ],
   "source": [
    "profit_calc(predictions_valid_1,target_valid_1)"
   ]
  },
  {
   "cell_type": "code",
   "execution_count": 18,
   "metadata": {},
   "outputs": [
    {
     "name": "stdout",
     "output_type": "stream",
     "text": [
      "Выгода при работе со скважинами из данного региона составит -27910580.92614174\n"
     ]
    }
   ],
   "source": [
    "profit_calc(predictions_valid_2,target_valid_2)"
   ]
  },
  {
   "cell_type": "markdown",
   "metadata": {},
   "source": [
    "Исходя из данных расчетов, стоит присмотреться к первому региону. Однако утверждать ничего сейчас не можем, ведь мы не знаем какая реально выборка нам попалась. необходимо воспользоваться методом бутстрепа и разобраться,в каком интервале лежит наше среднее и насколько оно прибыльное. "
   ]
  },
  {
   "cell_type": "markdown",
   "metadata": {},
   "source": [
    "## Расчёт прибыли и рисков "
   ]
  },
  {
   "cell_type": "code",
   "execution_count": 19,
   "metadata": {},
   "outputs": [],
   "source": [
    "# напишем функции для бутстрепа и подсчета интервала\n",
    "def bootstrap(prediction,target):\n",
    "    state = np.random.RandomState(42)\n",
    "    values = []\n",
    "    for i in range(1000):\n",
    "        subsample = prediction.sample(n=500, replace=True, random_state=state)\n",
    "        subsample_top = subsample.sort_values(ascending=False).head(200)\n",
    "        target_top = target[list(subsample_top.index)]\n",
    "        profit_subsample = target_top.sum() * BARREL_PRICE - BUDGET_ALL\n",
    "        values.append(profit_subsample) \n",
    "    return values\n",
    "\n",
    "def confidence_interval(values):\n",
    "    lower = values.quantile(0.025)\n",
    "    upper = values.quantile(0.975) \n",
    "    confidence_interval = [lower, upper]\n",
    "    return confidence_interval"
   ]
  },
  {
   "cell_type": "markdown",
   "metadata": {},
   "source": [
    "### Расчет прибыли и рисков для первого региона"
   ]
  },
  {
   "cell_type": "code",
   "execution_count": 20,
   "metadata": {},
   "outputs": [
    {
     "data": {
      "text/plain": [
       "399575478.05422974"
      ]
     },
     "execution_count": 20,
     "metadata": {},
     "output_type": "execute_result"
    }
   ],
   "source": [
    "distribution_geo_data_0 = pd.Series(bootstrap(predictions_valid_0,target_valid_0))\n",
    "distribution_geo_data_0.mean()"
   ]
  },
  {
   "cell_type": "code",
   "execution_count": 21,
   "metadata": {},
   "outputs": [
    {
     "data": {
      "text/plain": [
       "<AxesSubplot:>"
      ]
     },
     "execution_count": 21,
     "metadata": {},
     "output_type": "execute_result"
    },
    {
     "data": {
      "image/png": "[encoded data removed]",
      "text/plain": [
       "<Figure size 432x288 with 1 Axes>"
      ]
     },
     "metadata": {
      "needs_background": "light"
     },
     "output_type": "display_data"
    }
   ],
   "source": [
    "distribution_geo_data_0.hist(bins=30)"
   ]
  },
  {
   "cell_type": "code",
   "execution_count": 22,
   "metadata": {
    "scrolled": true
   },
   "outputs": [
    {
     "data": {
      "text/plain": [
       "[-110467895.33197226, 897460327.7178793]"
      ]
     },
     "execution_count": 22,
     "metadata": {},
     "output_type": "execute_result"
    }
   ],
   "source": [
    "confidence_interval(distribution_geo_data_0)"
   ]
  },
  {
   "cell_type": "code",
   "execution_count": 23,
   "metadata": {},
   "outputs": [
    {
     "data": {
      "text/plain": [
       "0.06"
      ]
     },
     "execution_count": 23,
     "metadata": {},
     "output_type": "execute_result"
    }
   ],
   "source": [
    "distribution_geo_data_0[distribution_geo_data_0 < 0].count() / distribution_geo_data_0.count()"
   ]
  },
  {
   "cell_type": "markdown",
   "metadata": {},
   "source": [
    "Для первого региона мы видим нормальное распределение,95 процентов данных сосредоточены в промежутке (-110467895.33197226,897460327.7178793). Средняя прибыль по региону ~400млн.\n",
    "Однако, в данном регионе вероятность получить убыток = 6%. "
   ]
  },
  {
   "cell_type": "markdown",
   "metadata": {},
   "source": [
    "### Расчет прибыли и рисков для второго региона"
   ]
  },
  {
   "cell_type": "code",
   "execution_count": 24,
   "metadata": {},
   "outputs": [
    {
     "data": {
      "text/plain": [
       "452048890.9064583"
      ]
     },
     "execution_count": 24,
     "metadata": {},
     "output_type": "execute_result"
    }
   ],
   "source": [
    "distribution_geo_data_1 = pd.Series(bootstrap(predictions_valid_1,target_valid_1))\n",
    "distribution_geo_data_1.mean()"
   ]
  },
  {
   "cell_type": "code",
   "execution_count": 25,
   "metadata": {
    "scrolled": true
   },
   "outputs": [
    {
     "data": {
      "text/plain": [
       "<AxesSubplot:>"
      ]
     },
     "execution_count": 25,
     "metadata": {},
     "output_type": "execute_result"
    },
    {
     "data": {
      "image/png": "[encoded data removed]",
      "text/plain": [
       "<Figure size 432x288 with 1 Axes>"
      ]
     },
     "metadata": {
      "needs_background": "light"
     },
     "output_type": "display_data"
    }
   ],
   "source": [
    "distribution_geo_data_1.hist(bins=30)"
   ]
  },
  {
   "cell_type": "code",
   "execution_count": 26,
   "metadata": {
    "scrolled": true
   },
   "outputs": [
    {
     "data": {
      "text/plain": [
       "[61684479.65422669, 845340177.5073848]"
      ]
     },
     "execution_count": 26,
     "metadata": {},
     "output_type": "execute_result"
    }
   ],
   "source": [
    "confidence_interval(distribution_geo_data_1)"
   ]
  },
  {
   "cell_type": "code",
   "execution_count": 27,
   "metadata": {},
   "outputs": [
    {
     "data": {
      "text/plain": [
       "0.015"
      ]
     },
     "execution_count": 27,
     "metadata": {},
     "output_type": "execute_result"
    }
   ],
   "source": [
    "distribution_geo_data_1[distribution_geo_data_1 < 0].count() / distribution_geo_data_1.count()"
   ]
  },
  {
   "cell_type": "markdown",
   "metadata": {},
   "source": [
    "Во втором регионе 452млн прибыли в среднем будет получено. При этом, 95% данных сосредоточены в промежутке от 62млн до 845млн рублей.\n",
    "Вероятность получить убыток в данном регионе - 1,5%"
   ]
  },
  {
   "cell_type": "markdown",
   "metadata": {},
   "source": [
    "### Расчет прибыли и рисков для третьего региона"
   ]
  },
  {
   "cell_type": "code",
   "execution_count": 28,
   "metadata": {},
   "outputs": [
    {
     "data": {
      "text/plain": [
       "375009902.915329"
      ]
     },
     "execution_count": 28,
     "metadata": {},
     "output_type": "execute_result"
    }
   ],
   "source": [
    "distribution_geo_data_2 = pd.Series(bootstrap(predictions_valid_2,target_valid_2))\n",
    "distribution_geo_data_2.mean()"
   ]
  },
  {
   "cell_type": "code",
   "execution_count": 29,
   "metadata": {},
   "outputs": [
    {
     "data": {
      "text/plain": [
       "<AxesSubplot:>"
      ]
     },
     "execution_count": 29,
     "metadata": {},
     "output_type": "execute_result"
    },
    {
     "data": {
      "image/png": "[encoded data removed]",
      "text/plain": [
       "<Figure size 432x288 with 1 Axes>"
      ]
     },
     "metadata": {
      "needs_background": "light"
     },
     "output_type": "display_data"
    }
   ],
   "source": [
    "distribution_geo_data_2.hist(bins=30)"
   ]
  },
  {
   "cell_type": "code",
   "execution_count": 30,
   "metadata": {},
   "outputs": [
    {
     "data": {
      "text/plain": [
       "[-144766727.3048927, 888390403.5342213]"
      ]
     },
     "execution_count": 30,
     "metadata": {},
     "output_type": "execute_result"
    }
   ],
   "source": [
    "confidence_interval(distribution_geo_data_2)"
   ]
  },
  {
   "cell_type": "code",
   "execution_count": 31,
   "metadata": {},
   "outputs": [
    {
     "data": {
      "text/plain": [
       "0.08"
      ]
     },
     "execution_count": 31,
     "metadata": {},
     "output_type": "execute_result"
    }
   ],
   "source": [
    "distribution_geo_data_2[distribution_geo_data_2 < 0].count() / distribution_geo_data_2.count()"
   ]
  },
  {
   "cell_type": "markdown",
   "metadata": {},
   "source": [
    "В третьем регионе средняя прибыль составит 375млн, но при этом 95% значений прибыли лежит в интервале от -144млн(убыток) до 888млн прибыли. Вероятность получить убытки в данном регионе равна 8%"
   ]
  },
  {
   "cell_type": "markdown",
   "metadata": {},
   "source": [
    "## Выводы"
   ]
  },
  {
   "cell_type": "markdown",
   "metadata": {},
   "source": [
    "Самым прибыльным регионом, исходя из расчетов, будет второй регион. Вероятность получения убытка при бурении скважин в данном регионе составит 1,5% . В среднем, прибыль в данном регионе составит 452млн. "
   ]
  },
  {
   "cell_type": "code",
   "execution_count": null,
   "metadata": {},
   "outputs": [],
   "source": []
  }
 ],
 "metadata": {
  "ExecuteTimeLog": [
   {
    "duration": 392,
    "start_time": "2022-05-04T05:39:45.901Z"
   },
   {
    "duration": 373,
    "start_time": "2022-05-04T05:39:48.124Z"
   },
   {
    "duration": 350,
    "start_time": "2022-05-04T05:46:33.884Z"
   },
   {
    "duration": 10,
    "start_time": "2022-05-04T05:46:46.048Z"
   },
   {
    "duration": 11,
    "start_time": "2022-05-04T05:46:57.069Z"
   },
   {
    "duration": 10,
    "start_time": "2022-05-04T05:48:43.061Z"
   },
   {
    "duration": 10,
    "start_time": "2022-05-04T05:48:51.054Z"
   },
   {
    "duration": 10,
    "start_time": "2022-05-04T05:48:55.816Z"
   },
   {
    "duration": 51,
    "start_time": "2022-05-04T05:49:26.013Z"
   },
   {
    "duration": 40,
    "start_time": "2022-05-04T05:49:29.643Z"
   },
   {
    "duration": 46,
    "start_time": "2022-05-04T05:49:33.767Z"
   },
   {
    "duration": 793,
    "start_time": "2022-05-04T06:30:59.852Z"
   },
   {
    "duration": 3,
    "start_time": "2022-05-04T06:31:11.498Z"
   },
   {
    "duration": 382,
    "start_time": "2022-05-04T06:34:06.335Z"
   },
   {
    "duration": 9,
    "start_time": "2022-05-04T06:34:10.055Z"
   },
   {
    "duration": 9,
    "start_time": "2022-05-04T06:34:15.315Z"
   },
   {
    "duration": 17,
    "start_time": "2022-05-04T06:39:00.971Z"
   },
   {
    "duration": 13,
    "start_time": "2022-05-04T06:39:06.153Z"
   },
   {
    "duration": 98,
    "start_time": "2022-05-04T06:51:25.325Z"
   },
   {
    "duration": 94,
    "start_time": "2022-05-04T06:52:14.669Z"
   },
   {
    "duration": 94,
    "start_time": "2022-05-04T06:52:25.303Z"
   },
   {
    "duration": 255,
    "start_time": "2022-05-04T06:52:29.167Z"
   },
   {
    "duration": 86,
    "start_time": "2022-05-04T06:52:34.287Z"
   },
   {
    "duration": 105,
    "start_time": "2022-05-04T06:52:43.262Z"
   },
   {
    "duration": 80,
    "start_time": "2022-05-04T06:52:57.105Z"
   },
   {
    "duration": 4,
    "start_time": "2022-05-04T06:53:55.563Z"
   },
   {
    "duration": 13,
    "start_time": "2022-05-04T06:54:07.586Z"
   },
   {
    "duration": 2,
    "start_time": "2022-05-04T06:54:56.598Z"
   },
   {
    "duration": 5,
    "start_time": "2022-05-04T06:55:00.041Z"
   },
   {
    "duration": 35,
    "start_time": "2022-05-04T06:55:02.187Z"
   },
   {
    "duration": 114,
    "start_time": "2022-05-04T06:55:26.259Z"
   },
   {
    "duration": 28,
    "start_time": "2022-05-04T06:55:31.744Z"
   },
   {
    "duration": 5,
    "start_time": "2022-05-04T07:22:15.431Z"
   },
   {
    "duration": 70,
    "start_time": "2022-05-04T07:22:20.008Z"
   },
   {
    "duration": 56,
    "start_time": "2022-05-04T07:22:33.619Z"
   },
   {
    "duration": 7,
    "start_time": "2022-05-04T07:22:41.724Z"
   },
   {
    "duration": 5,
    "start_time": "2022-05-04T07:23:50.895Z"
   },
   {
    "duration": 5,
    "start_time": "2022-05-04T07:23:55.333Z"
   },
   {
    "duration": 4,
    "start_time": "2022-05-04T07:23:59.171Z"
   },
   {
    "duration": 30,
    "start_time": "2022-05-04T07:26:43.451Z"
   },
   {
    "duration": 2,
    "start_time": "2022-05-04T07:26:47.244Z"
   },
   {
    "duration": 9,
    "start_time": "2022-05-04T07:45:52.393Z"
   },
   {
    "duration": 26,
    "start_time": "2022-05-04T07:45:57.682Z"
   },
   {
    "duration": 3,
    "start_time": "2022-05-04T07:46:00.074Z"
   },
   {
    "duration": 24,
    "start_time": "2022-05-04T07:46:00.869Z"
   },
   {
    "duration": 3,
    "start_time": "2022-05-04T07:46:01.658Z"
   },
   {
    "duration": 8,
    "start_time": "2022-05-04T07:46:03.398Z"
   },
   {
    "duration": 17,
    "start_time": "2022-05-04T07:46:52.346Z"
   },
   {
    "duration": 10,
    "start_time": "2022-05-04T07:47:15.714Z"
   },
   {
    "duration": 9,
    "start_time": "2022-05-04T07:47:47.621Z"
   },
   {
    "duration": 8,
    "start_time": "2022-05-04T07:48:40.832Z"
   },
   {
    "duration": 9,
    "start_time": "2022-05-04T07:55:04.801Z"
   },
   {
    "duration": 3,
    "start_time": "2022-05-04T07:55:48.761Z"
   },
   {
    "duration": 25,
    "start_time": "2022-05-04T07:55:53.853Z"
   },
   {
    "duration": 15,
    "start_time": "2022-05-04T07:56:06.236Z"
   },
   {
    "duration": 6,
    "start_time": "2022-05-04T07:56:14.960Z"
   },
   {
    "duration": 29,
    "start_time": "2022-05-04T07:57:24.014Z"
   },
   {
    "duration": 5,
    "start_time": "2022-05-04T07:57:31.218Z"
   },
   {
    "duration": 26,
    "start_time": "2022-05-04T07:57:33.852Z"
   },
   {
    "duration": 19,
    "start_time": "2022-05-04T07:59:10.138Z"
   },
   {
    "duration": 3,
    "start_time": "2022-05-04T07:59:23.168Z"
   },
   {
    "duration": 381,
    "start_time": "2022-05-04T07:59:23.173Z"
   },
   {
    "duration": 9,
    "start_time": "2022-05-04T07:59:23.555Z"
   },
   {
    "duration": 18,
    "start_time": "2022-05-04T07:59:23.566Z"
   },
   {
    "duration": 12,
    "start_time": "2022-05-04T07:59:23.586Z"
   },
   {
    "duration": 47,
    "start_time": "2022-05-04T08:00:19.227Z"
   },
   {
    "duration": 88,
    "start_time": "2022-05-04T08:00:35.287Z"
   },
   {
    "duration": 30,
    "start_time": "2022-05-04T08:01:00.775Z"
   },
   {
    "duration": 70,
    "start_time": "2022-05-04T08:27:03.511Z"
   },
   {
    "duration": 6,
    "start_time": "2022-05-04T08:29:06.396Z"
   },
   {
    "duration": 32,
    "start_time": "2022-05-04T08:29:33.118Z"
   },
   {
    "duration": 91,
    "start_time": "2022-05-04T08:29:51.786Z"
   },
   {
    "duration": 17,
    "start_time": "2022-05-04T08:32:16.683Z"
   },
   {
    "duration": 27,
    "start_time": "2022-05-04T08:33:02.879Z"
   },
   {
    "duration": 16,
    "start_time": "2022-05-04T08:33:06.946Z"
   },
   {
    "duration": 7,
    "start_time": "2022-05-04T08:33:39.292Z"
   },
   {
    "duration": 4,
    "start_time": "2022-05-04T08:33:51.377Z"
   },
   {
    "duration": 380,
    "start_time": "2022-05-04T08:33:51.384Z"
   },
   {
    "duration": 9,
    "start_time": "2022-05-04T08:33:51.766Z"
   },
   {
    "duration": 12,
    "start_time": "2022-05-04T08:33:51.777Z"
   },
   {
    "duration": 19,
    "start_time": "2022-05-04T08:33:51.791Z"
   },
   {
    "duration": 65,
    "start_time": "2022-05-04T08:33:51.811Z"
   },
   {
    "duration": 17,
    "start_time": "2022-05-04T08:33:53.658Z"
   },
   {
    "duration": 3,
    "start_time": "2022-05-04T09:03:35.068Z"
   },
   {
    "duration": 6,
    "start_time": "2022-05-04T09:05:35.686Z"
   },
   {
    "duration": 6,
    "start_time": "2022-05-04T09:06:48.762Z"
   },
   {
    "duration": 6,
    "start_time": "2022-05-04T09:07:33.068Z"
   },
   {
    "duration": 4,
    "start_time": "2022-05-04T09:07:53.936Z"
   },
   {
    "duration": 3,
    "start_time": "2022-05-04T09:12:42.744Z"
   },
   {
    "duration": 4,
    "start_time": "2022-05-04T09:12:44.526Z"
   },
   {
    "duration": 5,
    "start_time": "2022-05-04T09:13:54.923Z"
   },
   {
    "duration": 5,
    "start_time": "2022-05-04T09:13:56.829Z"
   },
   {
    "duration": 13,
    "start_time": "2022-05-04T09:15:12.806Z"
   },
   {
    "duration": 5,
    "start_time": "2022-05-04T09:18:55.927Z"
   },
   {
    "duration": 31,
    "start_time": "2022-05-04T09:18:57.860Z"
   },
   {
    "duration": 24,
    "start_time": "2022-05-04T09:19:12.107Z"
   },
   {
    "duration": 24,
    "start_time": "2022-05-04T09:19:16.393Z"
   },
   {
    "duration": 5,
    "start_time": "2022-05-04T09:22:02.044Z"
   },
   {
    "duration": 9,
    "start_time": "2022-05-04T09:34:30.132Z"
   },
   {
    "duration": 10,
    "start_time": "2022-05-04T09:37:25.786Z"
   },
   {
    "duration": 9,
    "start_time": "2022-05-04T09:37:32.673Z"
   },
   {
    "duration": 3,
    "start_time": "2022-05-04T09:43:09.905Z"
   },
   {
    "duration": 380,
    "start_time": "2022-05-04T09:43:09.910Z"
   },
   {
    "duration": 9,
    "start_time": "2022-05-04T09:43:10.292Z"
   },
   {
    "duration": 50,
    "start_time": "2022-05-04T09:43:10.303Z"
   },
   {
    "duration": 33,
    "start_time": "2022-05-04T09:43:10.355Z"
   },
   {
    "duration": 9,
    "start_time": "2022-05-04T09:43:10.390Z"
   },
   {
    "duration": 85,
    "start_time": "2022-05-04T09:43:10.401Z"
   },
   {
    "duration": 95,
    "start_time": "2022-05-04T09:43:10.489Z"
   },
   {
    "duration": 92,
    "start_time": "2022-05-04T09:43:10.587Z"
   },
   {
    "duration": 114,
    "start_time": "2022-05-04T09:43:10.682Z"
   },
   {
    "duration": 89,
    "start_time": "2022-05-04T09:43:10.798Z"
   },
   {
    "duration": 106,
    "start_time": "2022-05-04T09:43:10.890Z"
   },
   {
    "duration": 12,
    "start_time": "2022-05-04T09:43:10.998Z"
   },
   {
    "duration": 16,
    "start_time": "2022-05-04T09:43:11.012Z"
   },
   {
    "duration": 31,
    "start_time": "2022-05-04T09:43:11.030Z"
   },
   {
    "duration": 29,
    "start_time": "2022-05-04T09:43:11.063Z"
   },
   {
    "duration": 4,
    "start_time": "2022-05-04T09:51:26.339Z"
   },
   {
    "duration": 4,
    "start_time": "2022-05-04T09:55:03.412Z"
   },
   {
    "duration": 3,
    "start_time": "2022-05-04T09:59:28.219Z"
   },
   {
    "duration": 9,
    "start_time": "2022-05-04T09:59:30.163Z"
   },
   {
    "duration": 8,
    "start_time": "2022-05-04T09:59:49.536Z"
   },
   {
    "duration": 5,
    "start_time": "2022-05-04T10:06:52.703Z"
   },
   {
    "duration": 9,
    "start_time": "2022-05-04T10:06:54.386Z"
   },
   {
    "duration": 8,
    "start_time": "2022-05-04T10:07:29.483Z"
   },
   {
    "duration": 8,
    "start_time": "2022-05-04T10:07:45.283Z"
   },
   {
    "duration": 8,
    "start_time": "2022-05-04T10:09:27.330Z"
   },
   {
    "duration": 7,
    "start_time": "2022-05-04T10:09:42.591Z"
   },
   {
    "duration": 7,
    "start_time": "2022-05-04T10:10:00.690Z"
   },
   {
    "duration": 4,
    "start_time": "2022-05-04T11:35:39.160Z"
   },
   {
    "duration": 50,
    "start_time": "2022-05-04T11:36:01.429Z"
   },
   {
    "duration": 43,
    "start_time": "2022-05-04T11:36:14.936Z"
   },
   {
    "duration": 94,
    "start_time": "2022-05-04T11:36:17.794Z"
   },
   {
    "duration": 4,
    "start_time": "2022-05-04T11:37:44.250Z"
   },
   {
    "duration": 107,
    "start_time": "2022-05-04T11:37:46.468Z"
   },
   {
    "duration": 4,
    "start_time": "2022-05-04T11:38:18.727Z"
   },
   {
    "duration": 150,
    "start_time": "2022-05-04T11:38:21.030Z"
   },
   {
    "duration": 5,
    "start_time": "2022-05-04T11:38:30.881Z"
   },
   {
    "duration": 121,
    "start_time": "2022-05-04T11:38:33.054Z"
   },
   {
    "duration": 110,
    "start_time": "2022-05-04T11:38:35.769Z"
   },
   {
    "duration": 131,
    "start_time": "2022-05-04T11:38:38.142Z"
   },
   {
    "duration": 4,
    "start_time": "2022-05-04T11:40:00.121Z"
   },
   {
    "duration": 3,
    "start_time": "2022-05-04T11:42:42.746Z"
   },
   {
    "duration": 153,
    "start_time": "2022-05-04T12:03:18.922Z"
   },
   {
    "duration": 3,
    "start_time": "2022-05-04T12:03:37.553Z"
   },
   {
    "duration": 2411,
    "start_time": "2022-05-04T12:03:39.362Z"
   },
   {
    "duration": 5,
    "start_time": "2022-05-04T12:04:45.782Z"
   },
   {
    "duration": 2452,
    "start_time": "2022-05-04T12:04:48.623Z"
   },
   {
    "duration": 4,
    "start_time": "2022-05-04T12:05:15.949Z"
   },
   {
    "duration": 23,
    "start_time": "2022-05-04T12:05:17.719Z"
   },
   {
    "duration": 5,
    "start_time": "2022-05-04T12:10:22.918Z"
   },
   {
    "duration": 23,
    "start_time": "2022-05-04T12:10:25.463Z"
   },
   {
    "duration": 85,
    "start_time": "2022-05-04T12:11:23.097Z"
   },
   {
    "duration": 6,
    "start_time": "2022-05-04T12:11:32.800Z"
   },
   {
    "duration": 19,
    "start_time": "2022-05-04T12:11:34.708Z"
   },
   {
    "duration": 1232,
    "start_time": "2022-05-05T04:30:39.931Z"
   },
   {
    "duration": 353,
    "start_time": "2022-05-05T04:30:41.165Z"
   },
   {
    "duration": 8,
    "start_time": "2022-05-05T04:30:41.519Z"
   },
   {
    "duration": 9,
    "start_time": "2022-05-05T04:30:41.528Z"
   },
   {
    "duration": 12,
    "start_time": "2022-05-05T04:30:41.540Z"
   },
   {
    "duration": 6,
    "start_time": "2022-05-05T04:30:41.553Z"
   },
   {
    "duration": 46,
    "start_time": "2022-05-05T04:30:41.561Z"
   },
   {
    "duration": 191,
    "start_time": "2022-05-05T04:30:41.609Z"
   },
   {
    "duration": 24,
    "start_time": "2022-05-05T04:30:41.802Z"
   },
   {
    "duration": 172,
    "start_time": "2022-05-05T04:30:41.828Z"
   },
   {
    "duration": 22,
    "start_time": "2022-05-05T04:30:42.003Z"
   },
   {
    "duration": 74,
    "start_time": "2022-05-05T04:30:42.027Z"
   },
   {
    "duration": 5,
    "start_time": "2022-05-05T04:30:42.104Z"
   },
   {
    "duration": 4,
    "start_time": "2022-05-05T04:30:42.202Z"
   },
   {
    "duration": 6,
    "start_time": "2022-05-05T04:30:42.207Z"
   },
   {
    "duration": 5,
    "start_time": "2022-05-05T04:30:42.215Z"
   },
   {
    "duration": 4,
    "start_time": "2022-05-05T04:30:42.221Z"
   },
   {
    "duration": 175,
    "start_time": "2022-05-05T04:30:42.226Z"
   },
   {
    "duration": 104,
    "start_time": "2022-05-05T04:30:42.403Z"
   },
   {
    "duration": 292,
    "start_time": "2022-05-05T04:30:42.509Z"
   },
   {
    "duration": 3,
    "start_time": "2022-05-05T04:30:46.030Z"
   },
   {
    "duration": 533,
    "start_time": "2022-05-05T04:30:49.862Z"
   },
   {
    "duration": 4,
    "start_time": "2022-05-05T04:32:36.569Z"
   },
   {
    "duration": 204,
    "start_time": "2022-05-05T04:34:04.889Z"
   },
   {
    "duration": 16,
    "start_time": "2022-05-05T04:34:16.068Z"
   },
   {
    "duration": 13,
    "start_time": "2022-05-05T04:34:32.210Z"
   },
   {
    "duration": 9,
    "start_time": "2022-05-05T04:34:44.013Z"
   },
   {
    "duration": 8,
    "start_time": "2022-05-05T04:35:50.038Z"
   },
   {
    "duration": 4,
    "start_time": "2022-05-05T04:36:42.277Z"
   },
   {
    "duration": 340,
    "start_time": "2022-05-05T04:36:45.053Z"
   },
   {
    "duration": 4,
    "start_time": "2022-05-05T04:39:04.916Z"
   },
   {
    "duration": 344,
    "start_time": "2022-05-05T04:39:07.601Z"
   },
   {
    "duration": 86,
    "start_time": "2022-05-05T04:39:48.779Z"
   },
   {
    "duration": 3,
    "start_time": "2022-05-05T04:40:27.038Z"
   },
   {
    "duration": 337,
    "start_time": "2022-05-05T04:40:28.830Z"
   },
   {
    "duration": 7,
    "start_time": "2022-05-05T04:40:51.086Z"
   },
   {
    "duration": 346,
    "start_time": "2022-05-05T04:41:16.613Z"
   },
   {
    "duration": 4,
    "start_time": "2022-05-05T04:41:18.406Z"
   },
   {
    "duration": 5,
    "start_time": "2022-05-05T04:41:24.402Z"
   },
   {
    "duration": 4,
    "start_time": "2022-05-05T04:45:37.794Z"
   },
   {
    "duration": 339,
    "start_time": "2022-05-05T04:45:41.697Z"
   },
   {
    "duration": 5,
    "start_time": "2022-05-05T04:45:43.535Z"
   },
   {
    "duration": 331,
    "start_time": "2022-05-05T04:47:36.073Z"
   },
   {
    "duration": 4,
    "start_time": "2022-05-05T04:47:38.441Z"
   },
   {
    "duration": 334,
    "start_time": "2022-05-05T04:47:45.669Z"
   },
   {
    "duration": 4,
    "start_time": "2022-05-05T04:47:47.394Z"
   },
   {
    "duration": 539,
    "start_time": "2022-05-05T04:49:58.231Z"
   },
   {
    "duration": 113,
    "start_time": "2022-05-05T04:50:59.933Z"
   },
   {
    "duration": 112,
    "start_time": "2022-05-05T04:51:28.481Z"
   },
   {
    "duration": 8,
    "start_time": "2022-05-05T04:58:02.069Z"
   },
   {
    "duration": 12,
    "start_time": "2022-05-05T06:37:54.823Z"
   },
   {
    "duration": 10,
    "start_time": "2022-05-05T06:38:05.961Z"
   },
   {
    "duration": 18,
    "start_time": "2022-05-05T06:38:09.003Z"
   },
   {
    "duration": 9,
    "start_time": "2022-05-05T06:39:10.017Z"
   },
   {
    "duration": 11,
    "start_time": "2022-05-05T06:39:30.758Z"
   },
   {
    "duration": 8,
    "start_time": "2022-05-05T06:40:06.336Z"
   },
   {
    "duration": 19,
    "start_time": "2022-05-05T06:42:39.364Z"
   },
   {
    "duration": 18,
    "start_time": "2022-05-05T06:42:44.739Z"
   },
   {
    "duration": 13,
    "start_time": "2022-05-05T06:42:50.406Z"
   },
   {
    "duration": 3,
    "start_time": "2022-05-05T06:43:10.136Z"
   },
   {
    "duration": 345,
    "start_time": "2022-05-05T06:43:10.141Z"
   },
   {
    "duration": 8,
    "start_time": "2022-05-05T06:43:10.487Z"
   },
   {
    "duration": 8,
    "start_time": "2022-05-05T06:43:10.501Z"
   },
   {
    "duration": 10,
    "start_time": "2022-05-05T06:43:10.510Z"
   },
   {
    "duration": 12,
    "start_time": "2022-05-05T06:43:10.522Z"
   },
   {
    "duration": 3,
    "start_time": "2022-05-05T06:43:10.536Z"
   },
   {
    "duration": 31,
    "start_time": "2022-05-05T06:43:13.478Z"
   },
   {
    "duration": 19,
    "start_time": "2022-05-05T06:43:19.886Z"
   },
   {
    "duration": 20,
    "start_time": "2022-05-05T06:43:26.883Z"
   },
   {
    "duration": 11,
    "start_time": "2022-05-05T06:43:37.940Z"
   },
   {
    "duration": 10,
    "start_time": "2022-05-05T06:43:45.152Z"
   },
   {
    "duration": 11,
    "start_time": "2022-05-05T06:43:48.623Z"
   },
   {
    "duration": 47,
    "start_time": "2022-05-05T06:43:59.162Z"
   },
   {
    "duration": 228,
    "start_time": "2022-05-05T06:44:05.390Z"
   },
   {
    "duration": 4,
    "start_time": "2022-05-05T06:44:19.709Z"
   },
   {
    "duration": 166,
    "start_time": "2022-05-05T06:44:21.535Z"
   },
   {
    "duration": 131,
    "start_time": "2022-05-05T06:44:23.373Z"
   },
   {
    "duration": 158,
    "start_time": "2022-05-05T06:44:26.242Z"
   },
   {
    "duration": 1116,
    "start_time": "2022-05-05T06:44:55.017Z"
   },
   {
    "duration": 348,
    "start_time": "2022-05-05T06:44:56.135Z"
   },
   {
    "duration": 7,
    "start_time": "2022-05-05T06:44:56.485Z"
   },
   {
    "duration": 9,
    "start_time": "2022-05-05T06:44:56.494Z"
   },
   {
    "duration": 13,
    "start_time": "2022-05-05T06:44:56.505Z"
   },
   {
    "duration": 5,
    "start_time": "2022-05-05T06:44:56.519Z"
   },
   {
    "duration": 31,
    "start_time": "2022-05-05T06:44:56.525Z"
   },
   {
    "duration": 116,
    "start_time": "2022-05-05T06:44:56.606Z"
   },
   {
    "duration": 189,
    "start_time": "2022-05-05T06:44:56.724Z"
   },
   {
    "duration": 85,
    "start_time": "2022-05-05T06:44:56.915Z"
   },
   {
    "duration": 101,
    "start_time": "2022-05-05T06:44:57.003Z"
   },
   {
    "duration": 9,
    "start_time": "2022-05-05T06:44:57.106Z"
   },
   {
    "duration": 9,
    "start_time": "2022-05-05T06:44:57.117Z"
   },
   {
    "duration": 3,
    "start_time": "2022-05-05T06:44:57.128Z"
   },
   {
    "duration": 168,
    "start_time": "2022-05-05T06:44:57.133Z"
   },
   {
    "duration": 199,
    "start_time": "2022-05-05T06:44:57.302Z"
   },
   {
    "duration": 107,
    "start_time": "2022-05-05T06:44:57.503Z"
   },
   {
    "duration": 4,
    "start_time": "2022-05-05T06:44:57.700Z"
   },
   {
    "duration": 368,
    "start_time": "2022-05-05T06:44:57.706Z"
   },
   {
    "duration": 404,
    "start_time": "2022-05-05T06:44:58.076Z"
   },
   {
    "duration": 5,
    "start_time": "2022-05-05T06:44:58.481Z"
   },
   {
    "duration": 352,
    "start_time": "2022-05-05T06:44:58.487Z"
   },
   {
    "duration": 131,
    "start_time": "2022-05-05T06:44:58.840Z"
   },
   {
    "duration": 5,
    "start_time": "2022-05-05T06:44:58.973Z"
   },
   {
    "duration": 5,
    "start_time": "2022-05-05T06:44:58.980Z"
   },
   {
    "duration": 355,
    "start_time": "2022-05-05T06:44:58.986Z"
   },
   {
    "duration": 119,
    "start_time": "2022-05-05T06:44:59.343Z"
   },
   {
    "duration": 5,
    "start_time": "2022-05-05T06:44:59.463Z"
   },
   {
    "duration": 52,
    "start_time": "2022-05-05T08:40:15.909Z"
   },
   {
    "duration": 1133,
    "start_time": "2022-05-05T08:49:07.530Z"
   },
   {
    "duration": 1331,
    "start_time": "2022-05-05T08:49:08.666Z"
   },
   {
    "duration": 10,
    "start_time": "2022-05-05T08:49:09.999Z"
   },
   {
    "duration": 10,
    "start_time": "2022-05-05T08:49:10.011Z"
   },
   {
    "duration": 15,
    "start_time": "2022-05-05T08:49:10.023Z"
   },
   {
    "duration": 6,
    "start_time": "2022-05-05T08:49:10.040Z"
   },
   {
    "duration": 69,
    "start_time": "2022-05-05T08:49:10.047Z"
   },
   {
    "duration": 114,
    "start_time": "2022-05-05T08:49:10.118Z"
   },
   {
    "duration": 187,
    "start_time": "2022-05-05T08:49:10.234Z"
   },
   {
    "duration": 6,
    "start_time": "2022-05-05T08:49:10.423Z"
   },
   {
    "duration": 103,
    "start_time": "2022-05-05T08:49:10.510Z"
   },
   {
    "duration": 12,
    "start_time": "2022-05-05T08:49:10.615Z"
   },
   {
    "duration": 13,
    "start_time": "2022-05-05T08:49:10.629Z"
   },
   {
    "duration": 3,
    "start_time": "2022-05-05T08:49:10.646Z"
   },
   {
    "duration": 170,
    "start_time": "2022-05-05T08:49:10.652Z"
   },
   {
    "duration": 196,
    "start_time": "2022-05-05T08:49:10.823Z"
   },
   {
    "duration": 193,
    "start_time": "2022-05-05T08:49:11.021Z"
   },
   {
    "duration": 5,
    "start_time": "2022-05-05T08:49:11.216Z"
   },
   {
    "duration": 463,
    "start_time": "2022-05-05T08:49:11.222Z"
   },
   {
    "duration": 607,
    "start_time": "2022-05-05T08:49:11.686Z"
   },
   {
    "duration": 16,
    "start_time": "2022-05-05T08:49:12.296Z"
   },
   {
    "duration": 458,
    "start_time": "2022-05-05T08:49:12.314Z"
   },
   {
    "duration": 168,
    "start_time": "2022-05-05T08:49:12.774Z"
   },
   {
    "duration": 8,
    "start_time": "2022-05-05T08:49:12.944Z"
   },
   {
    "duration": 6,
    "start_time": "2022-05-05T08:49:12.954Z"
   },
   {
    "duration": 491,
    "start_time": "2022-05-05T08:49:12.961Z"
   },
   {
    "duration": 153,
    "start_time": "2022-05-05T08:49:13.454Z"
   },
   {
    "duration": 6,
    "start_time": "2022-05-05T08:49:13.609Z"
   },
   {
    "duration": 253,
    "start_time": "2022-05-05T08:50:15.805Z"
   },
   {
    "duration": 184,
    "start_time": "2022-05-05T08:50:30.278Z"
   },
   {
    "duration": 234,
    "start_time": "2022-05-05T08:50:34.883Z"
   },
   {
    "duration": 152,
    "start_time": "2022-05-05T09:10:49.130Z"
   },
   {
    "duration": 155,
    "start_time": "2022-05-05T09:10:52.417Z"
   },
   {
    "duration": 1155,
    "start_time": "2022-05-05T09:38:04.397Z"
   },
   {
    "duration": 384,
    "start_time": "2022-05-05T09:38:05.554Z"
   },
   {
    "duration": 9,
    "start_time": "2022-05-05T09:38:05.941Z"
   },
   {
    "duration": 10,
    "start_time": "2022-05-05T09:38:05.952Z"
   },
   {
    "duration": 15,
    "start_time": "2022-05-05T09:38:05.964Z"
   },
   {
    "duration": 29,
    "start_time": "2022-05-05T09:38:05.980Z"
   },
   {
    "duration": 97,
    "start_time": "2022-05-05T09:38:06.011Z"
   },
   {
    "duration": 117,
    "start_time": "2022-05-05T09:38:06.111Z"
   },
   {
    "duration": 194,
    "start_time": "2022-05-05T09:38:06.231Z"
   },
   {
    "duration": 89,
    "start_time": "2022-05-05T09:38:06.429Z"
   },
   {
    "duration": 16,
    "start_time": "2022-05-05T09:38:06.608Z"
   },
   {
    "duration": 14,
    "start_time": "2022-05-05T09:38:06.626Z"
   },
   {
    "duration": 13,
    "start_time": "2022-05-05T09:38:06.642Z"
   },
   {
    "duration": 4,
    "start_time": "2022-05-05T09:38:06.659Z"
   },
   {
    "duration": 153,
    "start_time": "2022-05-05T09:38:06.664Z"
   },
   {
    "duration": 299,
    "start_time": "2022-05-05T09:38:06.819Z"
   },
   {
    "duration": 193,
    "start_time": "2022-05-05T09:38:07.119Z"
   },
   {
    "duration": 5,
    "start_time": "2022-05-05T09:38:07.313Z"
   },
   {
    "duration": 460,
    "start_time": "2022-05-05T09:38:07.320Z"
   },
   {
    "duration": 454,
    "start_time": "2022-05-05T09:38:07.781Z"
   },
   {
    "duration": 6,
    "start_time": "2022-05-05T09:38:08.237Z"
   },
   {
    "duration": 450,
    "start_time": "2022-05-05T09:38:08.245Z"
   },
   {
    "duration": 174,
    "start_time": "2022-05-05T09:38:08.697Z"
   },
   {
    "duration": 9,
    "start_time": "2022-05-05T09:38:08.873Z"
   },
   {
    "duration": 6,
    "start_time": "2022-05-05T09:38:08.885Z"
   },
   {
    "duration": 466,
    "start_time": "2022-05-05T09:38:08.908Z"
   },
   {
    "duration": 177,
    "start_time": "2022-05-05T09:38:09.376Z"
   },
   {
    "duration": 6,
    "start_time": "2022-05-05T09:38:09.556Z"
   },
   {
    "duration": 2854,
    "start_time": "2022-05-06T10:28:06.722Z"
   },
   {
    "duration": 1234,
    "start_time": "2022-05-06T10:28:09.579Z"
   },
   {
    "duration": 14,
    "start_time": "2022-05-06T10:28:10.815Z"
   },
   {
    "duration": 16,
    "start_time": "2022-05-06T10:28:10.831Z"
   },
   {
    "duration": 18,
    "start_time": "2022-05-06T10:28:10.851Z"
   },
   {
    "duration": 18,
    "start_time": "2022-05-06T10:28:10.898Z"
   },
   {
    "duration": 189,
    "start_time": "2022-05-06T10:28:10.918Z"
   },
   {
    "duration": 188,
    "start_time": "2022-05-06T10:28:11.112Z"
   },
   {
    "duration": 198,
    "start_time": "2022-05-06T10:28:11.310Z"
   },
   {
    "duration": 7,
    "start_time": "2022-05-06T10:28:11.511Z"
   },
   {
    "duration": 26,
    "start_time": "2022-05-06T10:28:11.521Z"
   },
   {
    "duration": 70,
    "start_time": "2022-05-06T10:28:11.549Z"
   },
   {
    "duration": 15,
    "start_time": "2022-05-06T10:28:11.622Z"
   },
   {
    "duration": 8,
    "start_time": "2022-05-06T10:28:11.641Z"
   },
   {
    "duration": 5,
    "start_time": "2022-05-06T10:29:05.018Z"
   },
   {
    "duration": 12,
    "start_time": "2022-05-06T10:29:25.067Z"
   },
   {
    "duration": 10,
    "start_time": "2022-05-06T10:29:26.950Z"
   },
   {
    "duration": 11,
    "start_time": "2022-05-06T10:29:29.206Z"
   },
   {
    "duration": 8,
    "start_time": "2022-05-06T10:42:04.843Z"
   },
   {
    "duration": 5,
    "start_time": "2022-05-06T10:43:32.276Z"
   },
   {
    "duration": 9,
    "start_time": "2022-05-06T10:43:38.710Z"
   },
   {
    "duration": 6,
    "start_time": "2022-05-06T10:43:42.039Z"
   },
   {
    "duration": 7,
    "start_time": "2022-05-06T10:43:43.898Z"
   },
   {
    "duration": 8,
    "start_time": "2022-05-06T10:43:52.135Z"
   },
   {
    "duration": 7,
    "start_time": "2022-05-06T10:43:52.994Z"
   },
   {
    "duration": 8,
    "start_time": "2022-05-06T10:43:53.614Z"
   },
   {
    "duration": 6,
    "start_time": "2022-05-06T10:44:01.097Z"
   },
   {
    "duration": 10,
    "start_time": "2022-05-06T10:44:03.368Z"
   },
   {
    "duration": 10,
    "start_time": "2022-05-06T10:44:05.115Z"
   },
   {
    "duration": 9,
    "start_time": "2022-05-06T10:44:07.034Z"
   },
   {
    "duration": 6,
    "start_time": "2022-05-06T10:46:07.073Z"
   },
   {
    "duration": 6,
    "start_time": "2022-05-06T10:46:09.556Z"
   },
   {
    "duration": 8,
    "start_time": "2022-05-06T10:46:11.648Z"
   },
   {
    "duration": 6,
    "start_time": "2022-05-06T10:46:14.177Z"
   },
   {
    "duration": 6,
    "start_time": "2022-05-06T10:56:42.244Z"
   },
   {
    "duration": 157,
    "start_time": "2022-05-06T10:56:44.663Z"
   },
   {
    "duration": 15,
    "start_time": "2022-05-06T11:02:10.106Z"
   },
   {
    "duration": 19,
    "start_time": "2022-05-06T11:02:23.175Z"
   },
   {
    "duration": 17,
    "start_time": "2022-05-06T11:02:38.562Z"
   },
   {
    "duration": 6,
    "start_time": "2022-05-06T11:06:08.163Z"
   },
   {
    "duration": 1110,
    "start_time": "2022-05-06T11:06:14.342Z"
   },
   {
    "duration": 1078,
    "start_time": "2022-05-06T11:06:25.385Z"
   },
   {
    "duration": 847,
    "start_time": "2022-05-06T11:06:42.857Z"
   },
   {
    "duration": 7,
    "start_time": "2022-05-06T11:06:48.748Z"
   },
   {
    "duration": 6,
    "start_time": "2022-05-06T11:16:52.737Z"
   },
   {
    "duration": 9,
    "start_time": "2022-05-06T11:17:10.757Z"
   },
   {
    "duration": 1124,
    "start_time": "2022-05-06T11:20:06.925Z"
   },
   {
    "duration": 1177,
    "start_time": "2022-05-06T11:29:17.301Z"
   },
   {
    "duration": 1142,
    "start_time": "2022-05-06T11:29:50.240Z"
   },
   {
    "duration": 8,
    "start_time": "2022-05-06T11:29:55.482Z"
   },
   {
    "duration": 1704,
    "start_time": "2022-05-06T11:45:41.623Z"
   },
   {
    "duration": 1126,
    "start_time": "2022-05-06T11:46:00.275Z"
   },
   {
    "duration": 1227,
    "start_time": "2022-05-06T11:46:48.804Z"
   },
   {
    "duration": 5,
    "start_time": "2022-05-06T11:48:14.186Z"
   },
   {
    "duration": 571,
    "start_time": "2022-05-06T11:48:14.194Z"
   },
   {
    "duration": 27,
    "start_time": "2022-05-06T11:48:14.768Z"
   },
   {
    "duration": 12,
    "start_time": "2022-05-06T11:48:14.798Z"
   },
   {
    "duration": 18,
    "start_time": "2022-05-06T11:48:14.812Z"
   },
   {
    "duration": 12,
    "start_time": "2022-05-06T11:48:14.832Z"
   },
   {
    "duration": 249,
    "start_time": "2022-05-06T11:48:14.846Z"
   },
   {
    "duration": 198,
    "start_time": "2022-05-06T11:48:15.097Z"
   },
   {
    "duration": 197,
    "start_time": "2022-05-06T11:48:15.297Z"
   },
   {
    "duration": 6,
    "start_time": "2022-05-06T11:48:15.498Z"
   },
   {
    "duration": 17,
    "start_time": "2022-05-06T11:48:15.508Z"
   },
   {
    "duration": 13,
    "start_time": "2022-05-06T11:48:15.527Z"
   },
   {
    "duration": 59,
    "start_time": "2022-05-06T11:48:15.542Z"
   },
   {
    "duration": 3,
    "start_time": "2022-05-06T11:48:15.603Z"
   },
   {
    "duration": 16,
    "start_time": "2022-05-06T11:48:15.608Z"
   },
   {
    "duration": 32,
    "start_time": "2022-05-06T11:48:15.626Z"
   },
   {
    "duration": 12,
    "start_time": "2022-05-06T11:48:15.660Z"
   },
   {
    "duration": 23,
    "start_time": "2022-05-06T11:48:15.674Z"
   },
   {
    "duration": 7,
    "start_time": "2022-05-06T11:48:15.699Z"
   },
   {
    "duration": 1174,
    "start_time": "2022-05-06T11:48:15.709Z"
   },
   {
    "duration": 248,
    "start_time": "2022-05-06T11:48:16.885Z"
   },
   {
    "duration": 9,
    "start_time": "2022-05-06T11:48:17.136Z"
   },
   {
    "duration": 1438,
    "start_time": "2022-05-06T11:48:17.148Z"
   },
   {
    "duration": 254,
    "start_time": "2022-05-06T11:48:18.588Z"
   },
   {
    "duration": 10,
    "start_time": "2022-05-06T11:48:18.844Z"
   },
   {
    "duration": 1207,
    "start_time": "2022-05-06T11:48:18.857Z"
   },
   {
    "duration": 369,
    "start_time": "2022-05-06T11:48:20.066Z"
   },
   {
    "duration": 8,
    "start_time": "2022-05-06T11:48:20.439Z"
   },
   {
    "duration": 14,
    "start_time": "2022-05-06T11:54:53.939Z"
   },
   {
    "duration": 10,
    "start_time": "2022-05-06T11:55:13.663Z"
   },
   {
    "duration": 7,
    "start_time": "2022-05-06T11:55:43.236Z"
   },
   {
    "duration": 7,
    "start_time": "2022-05-06T11:55:50.474Z"
   },
   {
    "duration": 6,
    "start_time": "2022-05-06T11:56:05.810Z"
   },
   {
    "duration": 6,
    "start_time": "2022-05-06T11:56:33.498Z"
   },
   {
    "duration": 7,
    "start_time": "2022-05-06T11:56:53.209Z"
   },
   {
    "duration": 6,
    "start_time": "2022-05-06T11:59:30.133Z"
   },
   {
    "duration": 6,
    "start_time": "2022-05-06T11:59:34.101Z"
   },
   {
    "duration": 8,
    "start_time": "2022-05-06T12:02:03.154Z"
   },
   {
    "duration": 1156,
    "start_time": "2022-05-06T12:02:07.341Z"
   },
   {
    "duration": 229,
    "start_time": "2022-05-06T12:02:09.913Z"
   },
   {
    "duration": 8,
    "start_time": "2022-05-06T12:02:12.189Z"
   },
   {
    "duration": 8,
    "start_time": "2022-05-06T12:02:14.228Z"
   },
   {
    "duration": 1510,
    "start_time": "2022-05-06T12:08:22.003Z"
   },
   {
    "duration": 455,
    "start_time": "2022-05-06T12:08:23.516Z"
   },
   {
    "duration": 21,
    "start_time": "2022-05-06T12:08:23.973Z"
   },
   {
    "duration": 13,
    "start_time": "2022-05-06T12:08:23.996Z"
   },
   {
    "duration": 15,
    "start_time": "2022-05-06T12:08:24.013Z"
   },
   {
    "duration": 13,
    "start_time": "2022-05-06T12:08:24.031Z"
   },
   {
    "duration": 152,
    "start_time": "2022-05-06T12:08:24.046Z"
   },
   {
    "duration": 201,
    "start_time": "2022-05-06T12:08:24.293Z"
   },
   {
    "duration": 200,
    "start_time": "2022-05-06T12:08:24.496Z"
   },
   {
    "duration": 7,
    "start_time": "2022-05-06T12:08:24.699Z"
   },
   {
    "duration": 20,
    "start_time": "2022-05-06T12:08:24.708Z"
   },
   {
    "duration": 13,
    "start_time": "2022-05-06T12:08:24.731Z"
   },
   {
    "duration": 47,
    "start_time": "2022-05-06T12:08:24.747Z"
   },
   {
    "duration": 4,
    "start_time": "2022-05-06T12:08:24.798Z"
   },
   {
    "duration": 12,
    "start_time": "2022-05-06T12:08:24.804Z"
   },
   {
    "duration": 10,
    "start_time": "2022-05-06T12:08:24.819Z"
   },
   {
    "duration": 8,
    "start_time": "2022-05-06T12:08:24.832Z"
   },
   {
    "duration": 8,
    "start_time": "2022-05-06T12:08:24.842Z"
   },
   {
    "duration": 43,
    "start_time": "2022-05-06T12:08:24.852Z"
   },
   {
    "duration": 1161,
    "start_time": "2022-05-06T12:08:24.897Z"
   },
   {
    "duration": 644,
    "start_time": "2022-05-06T12:08:26.060Z"
   },
   {
    "duration": 8,
    "start_time": "2022-05-06T12:08:26.706Z"
   },
   {
    "duration": 8,
    "start_time": "2022-05-06T12:08:26.717Z"
   },
   {
    "duration": 1192,
    "start_time": "2022-05-06T12:08:26.727Z"
   },
   {
    "duration": 243,
    "start_time": "2022-05-06T12:08:27.921Z"
   },
   {
    "duration": 8,
    "start_time": "2022-05-06T12:08:28.166Z"
   },
   {
    "duration": 21,
    "start_time": "2022-05-06T12:08:28.176Z"
   },
   {
    "duration": 1143,
    "start_time": "2022-05-06T12:08:28.199Z"
   },
   {
    "duration": 277,
    "start_time": "2022-05-06T12:08:29.344Z"
   },
   {
    "duration": 8,
    "start_time": "2022-05-06T12:08:29.623Z"
   },
   {
    "duration": 8,
    "start_time": "2022-05-06T12:08:29.633Z"
   }
  ],
  "kernelspec": {
   "display_name": "Python 3 (ipykernel)",
   "language": "python",
   "name": "python3"
  },
  "language_info": {
   "codemirror_mode": {
    "name": "ipython",
    "version": 3
   },
   "file_extension": ".py",
   "mimetype": "text/x-python",
   "name": "python",
   "nbconvert_exporter": "python",
   "pygments_lexer": "ipython3",
   "version": "3.9.7"
  },
  "toc": {
   "base_numbering": 1,
   "nav_menu": {},
   "number_sections": true,
   "sideBar": true,
   "skip_h1_title": true,
   "title_cell": "Table of Contents",
   "title_sidebar": "Contents",
   "toc_cell": false,
   "toc_position": {},
   "toc_section_display": true,
   "toc_window_display": false
  }
 },
 "nbformat": 4,
 "nbformat_minor": 2
}

{
 "cells": [
  {
   "cell_type": "markdown",
   "metadata": {
    "toc": true
   },
   "source": [
    "<h1>Содержание<span class=\"tocSkip\"></span></h1>\n",
    "<div class=\"toc\"><ul class=\"toc-item\"><li><span><a href=\"#Подготовка\" data-toc-modified-id=\"Подготовка-1\"><span class=\"toc-item-num\">1&nbsp;&nbsp;</span>Подготовка</a></span></li><li><span><a href=\"#Анализ\" data-toc-modified-id=\"Анализ-2\"><span class=\"toc-item-num\">2&nbsp;&nbsp;</span>Анализ</a></span><ul class=\"toc-item\"><li><span><a href=\"#Декомпозиция-временного-ряда\" data-toc-modified-id=\"Декомпозиция-временного-ряда-2.1\"><span class=\"toc-item-num\">2.1&nbsp;&nbsp;</span>Декомпозиция временного ряда</a></span></li><li><span><a href=\"#Добавление-признаков\" data-toc-modified-id=\"Добавление-признаков-2.2\"><span class=\"toc-item-num\">2.2&nbsp;&nbsp;</span>Добавление признаков</a></span></li></ul></li><li><span><a href=\"#Обучение\" data-toc-modified-id=\"Обучение-3\"><span class=\"toc-item-num\">3&nbsp;&nbsp;</span>Обучение</a></span><ul class=\"toc-item\"><li><span><a href=\"#Подбор-гиперпараметров\" data-toc-modified-id=\"Подбор-гиперпараметров-3.1\"><span class=\"toc-item-num\">3.1&nbsp;&nbsp;</span>Подбор гиперпараметров</a></span></li></ul></li><li><span><a href=\"#Тестирование\" data-toc-modified-id=\"Тестирование-4\"><span class=\"toc-item-num\">4&nbsp;&nbsp;</span>Тестирование</a></span><ul class=\"toc-item\"><li><span><a href=\"#Предсказание-целевого-признака-с-помощью-LinearRegression\" data-toc-modified-id=\"Предсказание-целевого-признака-с-помощью-LinearRegression-4.1\"><span class=\"toc-item-num\">4.1&nbsp;&nbsp;</span>Предсказание целевого признака с помощью LinearRegression</a></span></li><li><span><a href=\"#Предсказание-целевого-признака-с-помощью-CatBoostRegressor\" data-toc-modified-id=\"Предсказание-целевого-признака-с-помощью-CatBoostRegressor-4.2\"><span class=\"toc-item-num\">4.2&nbsp;&nbsp;</span>Предсказание целевого признака с помощью CatBoostRegressor</a></span></li></ul></li><li><span><a href=\"#Чек-лист-проверки\" data-toc-modified-id=\"Чек-лист-проверки-5\"><span class=\"toc-item-num\">5&nbsp;&nbsp;</span>Чек-лист проверки</a></span></li></ul></div>"
   ]
  },
  {
   "cell_type": "markdown",
   "metadata": {},
   "source": [
    "#  Прогнозирование заказов такси"
   ]
  },
  {
   "cell_type": "markdown",
   "metadata": {},
   "source": [
    "## Подготовка"
   ]
  },
  {
   "cell_type": "code",
   "execution_count": 1,
   "metadata": {},
   "outputs": [],
   "source": [
    "import pandas as pd\n",
    "from statsmodels.tsa.seasonal import seasonal_decompose\n",
    "from sklearn.metrics import mean_squared_error,make_scorer\n",
    "from sklearn.model_selection import train_test_split, GridSearchCV,TimeSeriesSplit\n",
    "from sklearn.linear_model import LinearRegression\n",
    "from sklearn.dummy import DummyRegressor\n",
    "from sklearn.tree import DecisionTreeRegressor\n",
    "from sklearn.ensemble import RandomForestRegressor\n",
    "from catboost import CatBoostRegressor\n",
    "import matplotlib.pyplot as plt"
   ]
  },
  {
   "cell_type": "code",
   "execution_count": 2,
   "metadata": {
    "scrolled": false
   },
   "outputs": [
    {
     "data": {
      "text/plain": [
       "(26496, 1)"
      ]
     },
     "execution_count": 2,
     "metadata": {},
     "output_type": "execute_result"
    }
   ],
   "source": [
    "df = pd.read_csv('/datasets/taxi.csv',parse_dates=[0],index_col=[0])\n",
    "df.shape"
   ]
  },
  {
   "cell_type": "code",
   "execution_count": 3,
   "metadata": {
    "scrolled": false
   },
   "outputs": [
    {
     "data": {
      "text/html": [
       "<div>\n",
       "<style scoped>\n",
       "    .dataframe tbody tr th:only-of-type {\n",
       "        vertical-align: middle;\n",
       "    }\n",
       "\n",
       "    .dataframe tbody tr th {\n",
       "        vertical-align: top;\n",
       "    }\n",
       "\n",
       "    .dataframe thead th {\n",
       "        text-align: right;\n",
       "    }\n",
       "</style>\n",
       "<table border=\"1\" class=\"dataframe\">\n",
       "  <thead>\n",
       "    <tr style=\"text-align: right;\">\n",
       "      <th></th>\n",
       "      <th>num_orders</th>\n",
       "    </tr>\n",
       "    <tr>\n",
       "      <th>datetime</th>\n",
       "      <th></th>\n",
       "    </tr>\n",
       "  </thead>\n",
       "  <tbody>\n",
       "    <tr>\n",
       "      <th>2018-03-01 00:00:00</th>\n",
       "      <td>124</td>\n",
       "    </tr>\n",
       "    <tr>\n",
       "      <th>2018-03-01 01:00:00</th>\n",
       "      <td>85</td>\n",
       "    </tr>\n",
       "    <tr>\n",
       "      <th>2018-03-01 02:00:00</th>\n",
       "      <td>71</td>\n",
       "    </tr>\n",
       "    <tr>\n",
       "      <th>2018-03-01 03:00:00</th>\n",
       "      <td>66</td>\n",
       "    </tr>\n",
       "    <tr>\n",
       "      <th>2018-03-01 04:00:00</th>\n",
       "      <td>43</td>\n",
       "    </tr>\n",
       "    <tr>\n",
       "      <th>...</th>\n",
       "      <td>...</td>\n",
       "    </tr>\n",
       "    <tr>\n",
       "      <th>2018-08-31 19:00:00</th>\n",
       "      <td>136</td>\n",
       "    </tr>\n",
       "    <tr>\n",
       "      <th>2018-08-31 20:00:00</th>\n",
       "      <td>154</td>\n",
       "    </tr>\n",
       "    <tr>\n",
       "      <th>2018-08-31 21:00:00</th>\n",
       "      <td>159</td>\n",
       "    </tr>\n",
       "    <tr>\n",
       "      <th>2018-08-31 22:00:00</th>\n",
       "      <td>223</td>\n",
       "    </tr>\n",
       "    <tr>\n",
       "      <th>2018-08-31 23:00:00</th>\n",
       "      <td>205</td>\n",
       "    </tr>\n",
       "  </tbody>\n",
       "</table>\n",
       "<p>4416 rows × 1 columns</p>\n",
       "</div>"
      ],
      "text/plain": [
       "                     num_orders\n",
       "datetime                       \n",
       "2018-03-01 00:00:00         124\n",
       "2018-03-01 01:00:00          85\n",
       "2018-03-01 02:00:00          71\n",
       "2018-03-01 03:00:00          66\n",
       "2018-03-01 04:00:00          43\n",
       "...                         ...\n",
       "2018-08-31 19:00:00         136\n",
       "2018-08-31 20:00:00         154\n",
       "2018-08-31 21:00:00         159\n",
       "2018-08-31 22:00:00         223\n",
       "2018-08-31 23:00:00         205\n",
       "\n",
       "[4416 rows x 1 columns]"
      ]
     },
     "execution_count": 3,
     "metadata": {},
     "output_type": "execute_result"
    }
   ],
   "source": [
    "df.sort_index(inplace=True)\n",
    "df = df.resample('1H').sum()\n",
    "df"
   ]
  },
  {
   "cell_type": "code",
   "execution_count": 4,
   "metadata": {},
   "outputs": [
    {
     "data": {
      "text/plain": [
       "num_orders    0\n",
       "dtype: int64"
      ]
     },
     "execution_count": 4,
     "metadata": {},
     "output_type": "execute_result"
    }
   ],
   "source": [
    "df.isna().sum()"
   ]
  },
  {
   "cell_type": "markdown",
   "metadata": {},
   "source": [
    "Данные чистые, отсортированы по индексу в хронологическом порядке, пустот нет. можно приступать к анализу временного ряда."
   ]
  },
  {
   "cell_type": "markdown",
   "metadata": {},
   "source": [
    "## Анализ"
   ]
  },
  {
   "cell_type": "markdown",
   "metadata": {},
   "source": [
    "### Декомпозиция временного ряда"
   ]
  },
  {
   "cell_type": "markdown",
   "metadata": {},
   "source": [
    "На данном этапе я проанализирую тренд временного ряда, определю его период сезонности."
   ]
  },
  {
   "cell_type": "code",
   "execution_count": 5,
   "metadata": {
    "scrolled": false
   },
   "outputs": [
    {
     "data": {
      "image/png": "[encoded data removed]",
      "text/plain": [
       "<Figure size 432x288 with 1 Axes>"
      ]
     },
     "metadata": {
      "needs_background": "light"
     },
     "output_type": "display_data"
    }
   ],
   "source": [
    "decomposed = seasonal_decompose(df)\n",
    "decomposed.trend.plot();"
   ]
  },
  {
   "cell_type": "markdown",
   "metadata": {},
   "source": [
    "На графике тренда мы видим, что тренд плавный восходящий, начиная с марта и до августа, количество заказов такси растет."
   ]
  },
  {
   "cell_type": "code",
   "execution_count": 6,
   "metadata": {
    "scrolled": true
   },
   "outputs": [
    {
     "data": {
      "image/png": "[encoded data removed]",
      "text/plain": [
       "<Figure size 432x288 with 1 Axes>"
      ]
     },
     "metadata": {
      "needs_background": "light"
     },
     "output_type": "display_data"
    }
   ],
   "source": [
    "decomposed.seasonal['2018-08-01':'2018-08-02'].plot();"
   ]
  },
  {
   "cell_type": "markdown",
   "metadata": {},
   "source": [
    "На графике видно, что сезонность у нас циклична. Цикл повторяется каждый день, наблюдается внутрисуточная сезонность. \n",
    "\n",
    "Начиная с 00:00 и до 6:00 утра активность падает. В 6 утра фиксируется минимум активности, далее график идет в рост, с колебаниями в районе 12 часов дня и 18 часов вечера. Далее количество заказов достигает своего максимума в 00:00 и потом цикл повторяется."
   ]
  },
  {
   "cell_type": "code",
   "execution_count": 7,
   "metadata": {},
   "outputs": [
    {
     "data": {
      "image/png": "[encoded data removed]",
      "text/plain": [
       "<Figure size 432x288 with 1 Axes>"
      ]
     },
     "metadata": {
      "needs_background": "light"
     },
     "output_type": "display_data"
    }
   ],
   "source": [
    "decomposed.resid.plot();#шумы"
   ]
  },
  {
   "cell_type": "markdown",
   "metadata": {},
   "source": [
    "Рассмотрим, есть ли в данных дневная сезонность и какая она."
   ]
  },
  {
   "cell_type": "code",
   "execution_count": 8,
   "metadata": {
    "scrolled": false
   },
   "outputs": [
    {
     "data": {
      "image/png": "[encoded data removed]",
      "text/plain": [
       "<Figure size 432x288 with 1 Axes>"
      ]
     },
     "metadata": {
      "needs_background": "light"
     },
     "output_type": "display_data"
    }
   ],
   "source": [
    "df_day = pd.read_csv('/datasets/taxi.csv',parse_dates=[0],index_col=[0])\n",
    "df_day.sort_index(inplace=True)\n",
    "df_day = df_day.resample('1D').sum()\n",
    "decomp_day = seasonal_decompose(df_day)\n",
    "decomp_day.seasonal['2018-08-06':'2018-08-20'].plot();"
   ]
  },
  {
   "cell_type": "markdown",
   "metadata": {},
   "source": [
    "На данном графике мы видим что есть закономерность в данных в рамках недели: с пн на вт наблюдается спад в количестве заказов, далее идет уверенный рост до пятницы,с сб на вс наблюдаем снова спад, потом цикл повторяется. значит здесь и дневная сезонность."
   ]
  },
  {
   "cell_type": "markdown",
   "metadata": {},
   "source": [
    "### Добавление признаков\n",
    "\n",
    "\n",
    "Добавим в датасет численные признаки, а именно: день недели, час."
   ]
  },
  {
   "cell_type": "code",
   "execution_count": 9,
   "metadata": {},
   "outputs": [],
   "source": [
    "#функция создания признаков\n",
    "def make_features(data, max_lag, rolling_mean_size):\n",
    "    data['dayofweek'] = data.index.dayofweek\n",
    "    data['hour'] = data.index.hour\n",
    "    \n",
    "    for lag in range(1, max_lag + 1):\n",
    "        data['lag_{}'.format(lag)] = data['num_orders'].shift(lag)\n",
    "\n",
    "    data['rolling_mean'] = data['num_orders'].shift().rolling(rolling_mean_size).mean()\n",
    "\n",
    "\n"
   ]
  },
  {
   "cell_type": "code",
   "execution_count": 10,
   "metadata": {},
   "outputs": [],
   "source": [
    "make_features(df,168,24)"
   ]
  },
  {
   "cell_type": "code",
   "execution_count": 11,
   "metadata": {},
   "outputs": [
    {
     "data": {
      "text/html": [
       "<div>\n",
       "<style scoped>\n",
       "    .dataframe tbody tr th:only-of-type {\n",
       "        vertical-align: middle;\n",
       "    }\n",
       "\n",
       "    .dataframe tbody tr th {\n",
       "        vertical-align: top;\n",
       "    }\n",
       "\n",
       "    .dataframe thead th {\n",
       "        text-align: right;\n",
       "    }\n",
       "</style>\n",
       "<table border=\"1\" class=\"dataframe\">\n",
       "  <thead>\n",
       "    <tr style=\"text-align: right;\">\n",
       "      <th></th>\n",
       "      <th>num_orders</th>\n",
       "      <th>dayofweek</th>\n",
       "      <th>hour</th>\n",
       "      <th>lag_1</th>\n",
       "      <th>lag_2</th>\n",
       "      <th>lag_3</th>\n",
       "      <th>lag_4</th>\n",
       "      <th>lag_5</th>\n",
       "      <th>lag_6</th>\n",
       "      <th>lag_7</th>\n",
       "      <th>...</th>\n",
       "      <th>lag_160</th>\n",
       "      <th>lag_161</th>\n",
       "      <th>lag_162</th>\n",
       "      <th>lag_163</th>\n",
       "      <th>lag_164</th>\n",
       "      <th>lag_165</th>\n",
       "      <th>lag_166</th>\n",
       "      <th>lag_167</th>\n",
       "      <th>lag_168</th>\n",
       "      <th>rolling_mean</th>\n",
       "    </tr>\n",
       "    <tr>\n",
       "      <th>datetime</th>\n",
       "      <th></th>\n",
       "      <th></th>\n",
       "      <th></th>\n",
       "      <th></th>\n",
       "      <th></th>\n",
       "      <th></th>\n",
       "      <th></th>\n",
       "      <th></th>\n",
       "      <th></th>\n",
       "      <th></th>\n",
       "      <th></th>\n",
       "      <th></th>\n",
       "      <th></th>\n",
       "      <th></th>\n",
       "      <th></th>\n",
       "      <th></th>\n",
       "      <th></th>\n",
       "      <th></th>\n",
       "      <th></th>\n",
       "      <th></th>\n",
       "      <th></th>\n",
       "    </tr>\n",
       "  </thead>\n",
       "  <tbody>\n",
       "    <tr>\n",
       "      <th>2018-03-01 00:00:00</th>\n",
       "      <td>124</td>\n",
       "      <td>3</td>\n",
       "      <td>0</td>\n",
       "      <td>NaN</td>\n",
       "      <td>NaN</td>\n",
       "      <td>NaN</td>\n",
       "      <td>NaN</td>\n",
       "      <td>NaN</td>\n",
       "      <td>NaN</td>\n",
       "      <td>NaN</td>\n",
       "      <td>...</td>\n",
       "      <td>NaN</td>\n",
       "      <td>NaN</td>\n",
       "      <td>NaN</td>\n",
       "      <td>NaN</td>\n",
       "      <td>NaN</td>\n",
       "      <td>NaN</td>\n",
       "      <td>NaN</td>\n",
       "      <td>NaN</td>\n",
       "      <td>NaN</td>\n",
       "      <td>NaN</td>\n",
       "    </tr>\n",
       "    <tr>\n",
       "      <th>2018-03-01 01:00:00</th>\n",
       "      <td>85</td>\n",
       "      <td>3</td>\n",
       "      <td>1</td>\n",
       "      <td>124.0</td>\n",
       "      <td>NaN</td>\n",
       "      <td>NaN</td>\n",
       "      <td>NaN</td>\n",
       "      <td>NaN</td>\n",
       "      <td>NaN</td>\n",
       "      <td>NaN</td>\n",
       "      <td>...</td>\n",
       "      <td>NaN</td>\n",
       "      <td>NaN</td>\n",
       "      <td>NaN</td>\n",
       "      <td>NaN</td>\n",
       "      <td>NaN</td>\n",
       "      <td>NaN</td>\n",
       "      <td>NaN</td>\n",
       "      <td>NaN</td>\n",
       "      <td>NaN</td>\n",
       "      <td>NaN</td>\n",
       "    </tr>\n",
       "    <tr>\n",
       "      <th>2018-03-01 02:00:00</th>\n",
       "      <td>71</td>\n",
       "      <td>3</td>\n",
       "      <td>2</td>\n",
       "      <td>85.0</td>\n",
       "      <td>124.0</td>\n",
       "      <td>NaN</td>\n",
       "      <td>NaN</td>\n",
       "      <td>NaN</td>\n",
       "      <td>NaN</td>\n",
       "      <td>NaN</td>\n",
       "      <td>...</td>\n",
       "      <td>NaN</td>\n",
       "      <td>NaN</td>\n",
       "      <td>NaN</td>\n",
       "      <td>NaN</td>\n",
       "      <td>NaN</td>\n",
       "      <td>NaN</td>\n",
       "      <td>NaN</td>\n",
       "      <td>NaN</td>\n",
       "      <td>NaN</td>\n",
       "      <td>NaN</td>\n",
       "    </tr>\n",
       "    <tr>\n",
       "      <th>2018-03-01 03:00:00</th>\n",
       "      <td>66</td>\n",
       "      <td>3</td>\n",
       "      <td>3</td>\n",
       "      <td>71.0</td>\n",
       "      <td>85.0</td>\n",
       "      <td>124.0</td>\n",
       "      <td>NaN</td>\n",
       "      <td>NaN</td>\n",
       "      <td>NaN</td>\n",
       "      <td>NaN</td>\n",
       "      <td>...</td>\n",
       "      <td>NaN</td>\n",
       "      <td>NaN</td>\n",
       "      <td>NaN</td>\n",
       "      <td>NaN</td>\n",
       "      <td>NaN</td>\n",
       "      <td>NaN</td>\n",
       "      <td>NaN</td>\n",
       "      <td>NaN</td>\n",
       "      <td>NaN</td>\n",
       "      <td>NaN</td>\n",
       "    </tr>\n",
       "    <tr>\n",
       "      <th>2018-03-01 04:00:00</th>\n",
       "      <td>43</td>\n",
       "      <td>3</td>\n",
       "      <td>4</td>\n",
       "      <td>66.0</td>\n",
       "      <td>71.0</td>\n",
       "      <td>85.0</td>\n",
       "      <td>124.0</td>\n",
       "      <td>NaN</td>\n",
       "      <td>NaN</td>\n",
       "      <td>NaN</td>\n",
       "      <td>...</td>\n",
       "      <td>NaN</td>\n",
       "      <td>NaN</td>\n",
       "      <td>NaN</td>\n",
       "      <td>NaN</td>\n",
       "      <td>NaN</td>\n",
       "      <td>NaN</td>\n",
       "      <td>NaN</td>\n",
       "      <td>NaN</td>\n",
       "      <td>NaN</td>\n",
       "      <td>NaN</td>\n",
       "    </tr>\n",
       "  </tbody>\n",
       "</table>\n",
       "<p>5 rows × 172 columns</p>\n",
       "</div>"
      ],
      "text/plain": [
       "                     num_orders  dayofweek  hour  lag_1  lag_2  lag_3  lag_4  \\\n",
       "datetime                                                                       \n",
       "2018-03-01 00:00:00         124          3     0    NaN    NaN    NaN    NaN   \n",
       "2018-03-01 01:00:00          85          3     1  124.0    NaN    NaN    NaN   \n",
       "2018-03-01 02:00:00          71          3     2   85.0  124.0    NaN    NaN   \n",
       "2018-03-01 03:00:00          66          3     3   71.0   85.0  124.0    NaN   \n",
       "2018-03-01 04:00:00          43          3     4   66.0   71.0   85.0  124.0   \n",
       "\n",
       "                     lag_5  lag_6  lag_7  ...  lag_160  lag_161  lag_162  \\\n",
       "datetime                                  ...                              \n",
       "2018-03-01 00:00:00    NaN    NaN    NaN  ...      NaN      NaN      NaN   \n",
       "2018-03-01 01:00:00    NaN    NaN    NaN  ...      NaN      NaN      NaN   \n",
       "2018-03-01 02:00:00    NaN    NaN    NaN  ...      NaN      NaN      NaN   \n",
       "2018-03-01 03:00:00    NaN    NaN    NaN  ...      NaN      NaN      NaN   \n",
       "2018-03-01 04:00:00    NaN    NaN    NaN  ...      NaN      NaN      NaN   \n",
       "\n",
       "                     lag_163  lag_164  lag_165  lag_166  lag_167  lag_168  \\\n",
       "datetime                                                                    \n",
       "2018-03-01 00:00:00      NaN      NaN      NaN      NaN      NaN      NaN   \n",
       "2018-03-01 01:00:00      NaN      NaN      NaN      NaN      NaN      NaN   \n",
       "2018-03-01 02:00:00      NaN      NaN      NaN      NaN      NaN      NaN   \n",
       "2018-03-01 03:00:00      NaN      NaN      NaN      NaN      NaN      NaN   \n",
       "2018-03-01 04:00:00      NaN      NaN      NaN      NaN      NaN      NaN   \n",
       "\n",
       "                     rolling_mean  \n",
       "datetime                           \n",
       "2018-03-01 00:00:00           NaN  \n",
       "2018-03-01 01:00:00           NaN  \n",
       "2018-03-01 02:00:00           NaN  \n",
       "2018-03-01 03:00:00           NaN  \n",
       "2018-03-01 04:00:00           NaN  \n",
       "\n",
       "[5 rows x 172 columns]"
      ]
     },
     "execution_count": 11,
     "metadata": {},
     "output_type": "execute_result"
    }
   ],
   "source": [
    "df.head(5)"
   ]
  },
  {
   "cell_type": "markdown",
   "metadata": {},
   "source": [
    "## Обучение"
   ]
  },
  {
   "cell_type": "markdown",
   "metadata": {},
   "source": [
    "В данной задаче я решила протестировать следующие модели: DummyRegressor, LinearRegression, DecisionTreeRegressor, RandomForestRegressor, CatBoostRegressor. \n",
    "\n",
    "Сначала я разделю датасет на выборки, тестовую и обучающую. \n",
    "Далее, проведу подбор гиперпараметров для RandomForestRegressor, DecisionTreeRegressor, CatBoostRegressor. Потом произведу обучение моделей по полученным гиперпараметрам и выполню предсказания."
   ]
  },
  {
   "cell_type": "code",
   "execution_count": 12,
   "metadata": {},
   "outputs": [],
   "source": [
    "#поделим на выборки\n",
    "train, test = train_test_split(df, shuffle=False, test_size=0.1)\n",
    "train = train.dropna()"
   ]
  },
  {
   "cell_type": "code",
   "execution_count": 13,
   "metadata": {},
   "outputs": [
    {
     "name": "stdout",
     "output_type": "stream",
     "text": [
      "(3806, 172) (442, 172)\n"
     ]
    }
   ],
   "source": [
    "print(train.shape, test.shape)"
   ]
  },
  {
   "cell_type": "code",
   "execution_count": 14,
   "metadata": {},
   "outputs": [],
   "source": [
    "#определим цели и признаки\n",
    "train_features = train.drop('num_orders', axis=1)\n",
    "train_target = train['num_orders']\n",
    "\n",
    "test_features = test.drop('num_orders', axis=1)\n",
    "test_target = test['num_orders']"
   ]
  },
  {
   "cell_type": "code",
   "execution_count": 15,
   "metadata": {},
   "outputs": [],
   "source": [
    "#задаим функцию rmse что бы использовать ее в гридсерч.\n",
    "def rmse(y_true, y_predicted):\n",
    "    return mean_squared_error(y_true, y_predicted, squared=False)\n",
    "scoring = make_scorer(rmse, greater_is_better=False)\n",
    "\n",
    "#создадим список,который пополним данными по гиперпараметрам каждой модели\n",
    "results_gridsearch = []\n",
    "tscv = TimeSeriesSplit(n_splits=3)\n",
    "random_state = 42"
   ]
  },
  {
   "cell_type": "markdown",
   "metadata": {},
   "source": [
    "### Подбор гиперпараметров"
   ]
  },
  {
   "cell_type": "markdown",
   "metadata": {},
   "source": [
    "Запустим  GridSearchCV сначала для DecisionTreeRegressor, что бы найти глубину дерева, потом данное значение будем использовать в модели RandomForestRegressor и подберем непосредственно количество деревьев."
   ]
  },
  {
   "cell_type": "code",
   "execution_count": 16,
   "metadata": {
    "scrolled": false
   },
   "outputs": [
    {
     "name": "stdout",
     "output_type": "stream",
     "text": [
      "Fitting 3 folds for each of 72 candidates, totalling 216 fits\n"
     ]
    },
    {
     "data": {
      "text/html": [
       "<div>\n",
       "<style scoped>\n",
       "    .dataframe tbody tr th:only-of-type {\n",
       "        vertical-align: middle;\n",
       "    }\n",
       "\n",
       "    .dataframe tbody tr th {\n",
       "        vertical-align: top;\n",
       "    }\n",
       "\n",
       "    .dataframe thead th {\n",
       "        text-align: right;\n",
       "    }\n",
       "</style>\n",
       "<table border=\"1\" class=\"dataframe\">\n",
       "  <thead>\n",
       "    <tr style=\"text-align: right;\">\n",
       "      <th></th>\n",
       "      <th>model name</th>\n",
       "      <th>Best parametres</th>\n",
       "      <th>Best score</th>\n",
       "    </tr>\n",
       "  </thead>\n",
       "  <tbody>\n",
       "    <tr>\n",
       "      <th>0</th>\n",
       "      <td>DecisionTreeRegressor</td>\n",
       "      <td>{'max_depth': 4, 'min_samples_leaf': 9}</td>\n",
       "      <td>27.024577</td>\n",
       "    </tr>\n",
       "  </tbody>\n",
       "</table>\n",
       "</div>"
      ],
      "text/plain": [
       "              model name                          Best parametres  Best score\n",
       "0  DecisionTreeRegressor  {'max_depth': 4, 'min_samples_leaf': 9}   27.024577"
      ]
     },
     "execution_count": 16,
     "metadata": {},
     "output_type": "execute_result"
    }
   ],
   "source": [
    "param = {'max_depth': range(1,10), 'min_samples_leaf':range(2,10)}\n",
    "model = DecisionTreeRegressor(random_state = random_state)\n",
    "\n",
    "grid_search = GridSearchCV(estimator=model, \n",
    "                           param_grid=param, \n",
    "                           n_jobs=-1, cv=tscv, verbose=1, \n",
    "                           scoring=scoring)\n",
    "\n",
    "grid_search.fit(train_features,train_target)\n",
    "\n",
    "results_gridsearch.append({'model name': model.__class__.__name__, \n",
    "                              'Best parametres': grid_search.best_params_,'Best score': abs(grid_search.best_score_)}) \n",
    "\n",
    "max_depth = grid_search.best_params_.get('max_depth')\n",
    "min_samples_leaf = grid_search.best_params_.get('min_samples_leaf')\n",
    "\n",
    "pd.DataFrame(results_gridsearch)"
   ]
  },
  {
   "cell_type": "markdown",
   "metadata": {},
   "source": [
    "Используем найденную глубину дерева для того чтобы подобрать гипермпараметр n_estimators в RandomForestRegressor."
   ]
  },
  {
   "cell_type": "code",
   "execution_count": 17,
   "metadata": {
    "scrolled": false
   },
   "outputs": [
    {
     "name": "stdout",
     "output_type": "stream",
     "text": [
      "Fitting 3 folds for each of 10 candidates, totalling 30 fits\n"
     ]
    },
    {
     "data": {
      "text/html": [
       "<div>\n",
       "<style scoped>\n",
       "    .dataframe tbody tr th:only-of-type {\n",
       "        vertical-align: middle;\n",
       "    }\n",
       "\n",
       "    .dataframe tbody tr th {\n",
       "        vertical-align: top;\n",
       "    }\n",
       "\n",
       "    .dataframe thead th {\n",
       "        text-align: right;\n",
       "    }\n",
       "</style>\n",
       "<table border=\"1\" class=\"dataframe\">\n",
       "  <thead>\n",
       "    <tr style=\"text-align: right;\">\n",
       "      <th></th>\n",
       "      <th>model name</th>\n",
       "      <th>Best parametres</th>\n",
       "      <th>Best score</th>\n",
       "    </tr>\n",
       "  </thead>\n",
       "  <tbody>\n",
       "    <tr>\n",
       "      <th>0</th>\n",
       "      <td>DecisionTreeRegressor</td>\n",
       "      <td>{'max_depth': 4, 'min_samples_leaf': 9}</td>\n",
       "      <td>27.024577</td>\n",
       "    </tr>\n",
       "    <tr>\n",
       "      <th>1</th>\n",
       "      <td>RandomForestRegressor</td>\n",
       "      <td>{'n_estimators': 50}</td>\n",
       "      <td>24.723514</td>\n",
       "    </tr>\n",
       "  </tbody>\n",
       "</table>\n",
       "</div>"
      ],
      "text/plain": [
       "              model name                          Best parametres  Best score\n",
       "0  DecisionTreeRegressor  {'max_depth': 4, 'min_samples_leaf': 9}   27.024577\n",
       "1  RandomForestRegressor                     {'n_estimators': 50}   24.723514"
      ]
     },
     "execution_count": 17,
     "metadata": {},
     "output_type": "execute_result"
    }
   ],
   "source": [
    "param = {'n_estimators':range(10,101,10)}\n",
    "model = RandomForestRegressor(random_state=random_state, \n",
    "                              max_depth=max_depth,\n",
    "                              min_samples_leaf=min_samples_leaf)\n",
    "\n",
    "grid_search = GridSearchCV(estimator=model, \n",
    "                           param_grid=param, \n",
    "                           n_jobs=-1, cv=tscv, verbose=1, \n",
    "                           scoring=scoring)\n",
    "\n",
    "grid_search.fit(train_features,train_target)\n",
    "\n",
    "results_gridsearch.append({'model name': model.__class__.__name__, \n",
    "                              'Best parametres': grid_search.best_params_,'Best score': abs(grid_search.best_score_)}) \n",
    "\n",
    "n_estimators = grid_search.best_params_.get('n_estimators')\n",
    "pd.DataFrame(results_gridsearch)"
   ]
  },
  {
   "cell_type": "markdown",
   "metadata": {},
   "source": [
    "Используем найденные значения,чтобы обучить модель CatBoost."
   ]
  },
  {
   "cell_type": "code",
   "execution_count": 18,
   "metadata": {},
   "outputs": [
    {
     "name": "stdout",
     "output_type": "stream",
     "text": [
      "Fitting 3 folds for each of 9 candidates, totalling 27 fits\n"
     ]
    },
    {
     "data": {
      "text/html": [
       "<div>\n",
       "<style scoped>\n",
       "    .dataframe tbody tr th:only-of-type {\n",
       "        vertical-align: middle;\n",
       "    }\n",
       "\n",
       "    .dataframe tbody tr th {\n",
       "        vertical-align: top;\n",
       "    }\n",
       "\n",
       "    .dataframe thead th {\n",
       "        text-align: right;\n",
       "    }\n",
       "</style>\n",
       "<table border=\"1\" class=\"dataframe\">\n",
       "  <thead>\n",
       "    <tr style=\"text-align: right;\">\n",
       "      <th></th>\n",
       "      <th>model name</th>\n",
       "      <th>Best parametres</th>\n",
       "      <th>Best score</th>\n",
       "    </tr>\n",
       "  </thead>\n",
       "  <tbody>\n",
       "    <tr>\n",
       "      <th>0</th>\n",
       "      <td>DecisionTreeRegressor</td>\n",
       "      <td>{'max_depth': 4, 'min_samples_leaf': 9}</td>\n",
       "      <td>27.024577</td>\n",
       "    </tr>\n",
       "    <tr>\n",
       "      <th>1</th>\n",
       "      <td>RandomForestRegressor</td>\n",
       "      <td>{'n_estimators': 50}</td>\n",
       "      <td>24.723514</td>\n",
       "    </tr>\n",
       "    <tr>\n",
       "      <th>2</th>\n",
       "      <td>CatBoostRegressor</td>\n",
       "      <td>{'iterations': 1000, 'learning_rate': 0.01}</td>\n",
       "      <td>23.205592</td>\n",
       "    </tr>\n",
       "  </tbody>\n",
       "</table>\n",
       "</div>"
      ],
      "text/plain": [
       "              model name                              Best parametres  \\\n",
       "0  DecisionTreeRegressor      {'max_depth': 4, 'min_samples_leaf': 9}   \n",
       "1  RandomForestRegressor                         {'n_estimators': 50}   \n",
       "2      CatBoostRegressor  {'iterations': 1000, 'learning_rate': 0.01}   \n",
       "\n",
       "   Best score  \n",
       "0   27.024577  \n",
       "1   24.723514  \n",
       "2   23.205592  "
      ]
     },
     "execution_count": 18,
     "metadata": {},
     "output_type": "execute_result"
    }
   ],
   "source": [
    "param = {'learning_rate': [0.01, 0.05, 0.1],\n",
    "         'iterations': [200, 500, 1000]}\n",
    "\n",
    "model = CatBoostRegressor(random_state=random_state, \n",
    "                          verbose=False,\n",
    "                          depth=max_depth)\n",
    "\n",
    "grid_search = GridSearchCV(estimator=model, \n",
    "                           param_grid=param, \n",
    "                           n_jobs=-1, cv=tscv, verbose=1, \n",
    "                           scoring=scoring)\n",
    "\n",
    "grid_search.fit(train_features,train_target)\n",
    "results_gridsearch.append({'model name': model.__class__.__name__, \n",
    "                              'Best parametres': grid_search.best_params_,'Best score': abs(grid_search.best_score_)}) \n",
    "\n",
    "pd.DataFrame(results_gridsearch)"
   ]
  },
  {
   "cell_type": "markdown",
   "metadata": {},
   "source": [
    "Итоговые вычисления моделей, с учетом всех подобранных гиперпараметров."
   ]
  },
  {
   "cell_type": "code",
   "execution_count": 19,
   "metadata": {
    "scrolled": true
   },
   "outputs": [
    {
     "data": {
      "text/html": [
       "<div>\n",
       "<style scoped>\n",
       "    .dataframe tbody tr th:only-of-type {\n",
       "        vertical-align: middle;\n",
       "    }\n",
       "\n",
       "    .dataframe tbody tr th {\n",
       "        vertical-align: top;\n",
       "    }\n",
       "\n",
       "    .dataframe thead th {\n",
       "        text-align: right;\n",
       "    }\n",
       "</style>\n",
       "<table border=\"1\" class=\"dataframe\">\n",
       "  <thead>\n",
       "    <tr style=\"text-align: right;\">\n",
       "      <th></th>\n",
       "      <th>model name</th>\n",
       "      <th>RMSE</th>\n",
       "    </tr>\n",
       "  </thead>\n",
       "  <tbody>\n",
       "    <tr>\n",
       "      <th>0</th>\n",
       "      <td>CatBoostRegressor</td>\n",
       "      <td>19.145352</td>\n",
       "    </tr>\n",
       "    <tr>\n",
       "      <th>1</th>\n",
       "      <td>DecisionTreeRegressor</td>\n",
       "      <td>22.778248</td>\n",
       "    </tr>\n",
       "    <tr>\n",
       "      <th>2</th>\n",
       "      <td>RandomForestRegressor</td>\n",
       "      <td>21.193903</td>\n",
       "    </tr>\n",
       "    <tr>\n",
       "      <th>3</th>\n",
       "      <td>LinearRegression</td>\n",
       "      <td>20.506528</td>\n",
       "    </tr>\n",
       "    <tr>\n",
       "      <th>4</th>\n",
       "      <td>DummyRegressor</td>\n",
       "      <td>38.678217</td>\n",
       "    </tr>\n",
       "  </tbody>\n",
       "</table>\n",
       "</div>"
      ],
      "text/plain": [
       "              model name       RMSE\n",
       "0      CatBoostRegressor  19.145352\n",
       "1  DecisionTreeRegressor  22.778248\n",
       "2  RandomForestRegressor  21.193903\n",
       "3       LinearRegression  20.506528\n",
       "4         DummyRegressor  38.678217"
      ]
     },
     "execution_count": 19,
     "metadata": {},
     "output_type": "execute_result"
    }
   ],
   "source": [
    "iterations = grid_search.best_params_.get('iterations')\n",
    "learning_rate = grid_search.best_params_.get('learning_rate')\n",
    "\n",
    "models = [CatBoostRegressor(random_state=random_state,\n",
    "                            verbose=False,\n",
    "                            depth=max_depth,\n",
    "                           iterations = iterations,\n",
    "                           learning_rate = learning_rate), \n",
    "          DecisionTreeRegressor(random_state = random_state, \n",
    "                                max_depth=max_depth, \n",
    "                               min_samples_leaf = min_samples_leaf), \n",
    "          RandomForestRegressor(random_state=random_state, \n",
    "                                max_depth=max_depth, \n",
    "                                n_estimators = n_estimators,\n",
    "                                min_samples_leaf = min_samples_leaf), \n",
    "          LinearRegression(),\n",
    "          DummyRegressor()]\n",
    "\n",
    "\n",
    "results_predict = []\n",
    "\n",
    "for model in models:\n",
    "    model.fit(train_features,train_target)\n",
    "    prediction = model.predict(train_features)\n",
    "    rmse = mean_squared_error(train_target, prediction, squared=False)\n",
    "    \n",
    "    \n",
    "    results_predict.append({'model name': model.__class__.__name__, \n",
    "                              'RMSE': rmse}) \n",
    "              \n",
    "pd.DataFrame(results_predict)"
   ]
  },
  {
   "cell_type": "markdown",
   "metadata": {},
   "source": [
    "Интересно, что наипростейшая модель LinearRegression справилась на уровне сложной модели CatBoostRegressor. Возьмем эти две модели и проведем итоговое предсказание на тестовой выборке, посмотрим кто точнее сможет предсказать  временной ряд."
   ]
  },
  {
   "cell_type": "markdown",
   "metadata": {},
   "source": [
    "## Тестирование"
   ]
  },
  {
   "cell_type": "markdown",
   "metadata": {},
   "source": [
    "Выполним предсказания целевого признака на тестовой выборке."
   ]
  },
  {
   "cell_type": "markdown",
   "metadata": {},
   "source": [
    "### Предсказание целевого признака с помощью LinearRegression"
   ]
  },
  {
   "cell_type": "code",
   "execution_count": 20,
   "metadata": {},
   "outputs": [
    {
     "data": {
      "text/plain": [
       "34.578633781810865"
      ]
     },
     "execution_count": 20,
     "metadata": {},
     "output_type": "execute_result"
    }
   ],
   "source": [
    "model = LinearRegression()\n",
    "model.fit(train_features,train_target)\n",
    "prediction = model.predict(test_features)\n",
    "rmse = mean_squared_error(test_target, prediction, squared=False)\n",
    "rmse"
   ]
  },
  {
   "cell_type": "code",
   "execution_count": 21,
   "metadata": {},
   "outputs": [],
   "source": [
    "pred = pd.Series(prediction, index=test.index)\n",
    "target = test_target[:49]#48часов\n",
    "pred = pred[:49]"
   ]
  },
  {
   "cell_type": "code",
   "execution_count": 22,
   "metadata": {},
   "outputs": [
    {
     "data": {
      "image/png": "[encoded data removed]",
      "text/plain": [
       "<Figure size 1440x720 with 1 Axes>"
      ]
     },
     "metadata": {
      "needs_background": "light"
     },
     "output_type": "display_data"
    }
   ],
   "source": [
    "plt.figure(figsize=(20, 10))\n",
    "a = target.plot(linewidth=2, label=\"Целевой\")\n",
    "pred.plot(ax=a,linewidth=4, label=\"Предсказания\")\n",
    "plt.title(\"Целевой признак и предсказания\")\n",
    "plt.xlabel('Дата')\n",
    "plt.ylabel('Заказы')\n",
    "plt.legend(loc='best',fancybox=True, shadow=True)\n",
    "plt.grid(True)\n",
    "plt.show();"
   ]
  },
  {
   "cell_type": "markdown",
   "metadata": {},
   "source": [
    "### Предсказание целевого признака с помощью CatBoostRegressor"
   ]
  },
  {
   "cell_type": "code",
   "execution_count": 23,
   "metadata": {},
   "outputs": [
    {
     "data": {
      "text/plain": [
       "37.70569871339322"
      ]
     },
     "execution_count": 23,
     "metadata": {},
     "output_type": "execute_result"
    }
   ],
   "source": [
    "model = CatBoostRegressor(random_state=random_state,\n",
    "                            verbose=False,\n",
    "                            depth=max_depth,\n",
    "                           iterations = iterations,\n",
    "                           learning_rate = learning_rate)\n",
    "model.fit(train_features,train_target)\n",
    "prediction = model.predict(test_features)\n",
    "rmse = mean_squared_error(test_target, prediction, squared=False)\n",
    "rmse"
   ]
  },
  {
   "cell_type": "code",
   "execution_count": 24,
   "metadata": {},
   "outputs": [],
   "source": [
    "pred = pd.Series(prediction, index=test.index)\n",
    "target = test_target[:49]\n",
    "pred = pred[:49]"
   ]
  },
  {
   "cell_type": "code",
   "execution_count": 25,
   "metadata": {},
   "outputs": [
    {
     "data": {
      "image/png": "[encoded data removed]",
      "text/plain": [
       "<Figure size 1440x720 with 1 Axes>"
      ]
     },
     "metadata": {
      "needs_background": "light"
     },
     "output_type": "display_data"
    }
   ],
   "source": [
    "plt.figure(figsize=(20, 10))\n",
    "a = target.plot(linewidth=2, label=\"Целевой\")\n",
    "pred.plot(ax=a,linewidth=4, label=\"Предсказания\")\n",
    "plt.title(\"Целевой признак и предсказания\")\n",
    "plt.xlabel('Дата')\n",
    "plt.ylabel('Заказы')\n",
    "plt.legend(loc='best',fancybox=True, shadow=True)\n",
    "plt.grid(True)\n",
    "plt.show();"
   ]
  },
  {
   "cell_type": "markdown",
   "metadata": {},
   "source": [
    "На графике можно увидеть качество предсказания наших моделей. Обе модели имеют сильные погрешности в период с 6 до 12 часов, и с 00 до 6 утра. \n",
    "Однако, модели линейной регрессии показала более точные результаты, это видно и по метрике, и по тому как график предсказаний повторяет график целевого признака.\n",
    "\n",
    "Интересно, что это две принципиально разные модели, однако с предсказанием они справились одинаково, при этом ресурсозатратность у них очень отличается. Думаю, выбор модели зависит от того какую цель преследует бизнес, какова длительность прогнозирования и пр.."
   ]
  },
  {
   "cell_type": "code",
   "execution_count": null,
   "metadata": {},
   "outputs": [],
   "source": []
  }
 ],
 "metadata": {
  "ExecuteTimeLog": [
   {
    "duration": 355,
    "start_time": "2022-06-22T06:07:57.892Z"
   },
   {
    "duration": 125,
    "start_time": "2022-06-22T06:08:27.737Z"
   },
   {
    "duration": 68,
    "start_time": "2022-06-22T06:13:06.262Z"
   },
   {
    "duration": 45,
    "start_time": "2022-06-22T06:13:38.527Z"
   },
   {
    "duration": 68,
    "start_time": "2022-06-22T06:13:51.876Z"
   },
   {
    "duration": 65,
    "start_time": "2022-06-22T06:16:48.533Z"
   },
   {
    "duration": 52,
    "start_time": "2022-06-22T06:16:59.704Z"
   },
   {
    "duration": 51,
    "start_time": "2022-06-22T06:21:55.885Z"
   },
   {
    "duration": 719,
    "start_time": "2022-06-22T06:22:13.675Z"
   },
   {
    "duration": 85,
    "start_time": "2022-06-22T06:22:45.099Z"
   },
   {
    "duration": 449,
    "start_time": "2022-06-22T06:22:48.739Z"
   },
   {
    "duration": 465,
    "start_time": "2022-06-22T06:25:30.748Z"
   },
   {
    "duration": 364,
    "start_time": "2022-06-22T06:25:42.019Z"
   },
   {
    "duration": 81,
    "start_time": "2022-06-22T06:27:07.728Z"
   },
   {
    "duration": 401,
    "start_time": "2022-06-22T06:27:48.976Z"
   },
   {
    "duration": 370,
    "start_time": "2022-06-22T06:27:57.377Z"
   },
   {
    "duration": 339,
    "start_time": "2022-06-22T06:28:05.673Z"
   },
   {
    "duration": 9,
    "start_time": "2022-06-22T06:31:07.732Z"
   },
   {
    "duration": 514,
    "start_time": "2022-06-22T06:31:29.627Z"
   },
   {
    "duration": 53,
    "start_time": "2022-06-22T06:32:37.119Z"
   },
   {
    "duration": 13,
    "start_time": "2022-06-22T06:32:44.889Z"
   },
   {
    "duration": 14,
    "start_time": "2022-06-22T06:33:03.529Z"
   },
   {
    "duration": 10,
    "start_time": "2022-06-22T06:33:45.346Z"
   },
   {
    "duration": 10,
    "start_time": "2022-06-22T06:34:13.727Z"
   },
   {
    "duration": 35,
    "start_time": "2022-06-22T06:34:29.840Z"
   },
   {
    "duration": 115,
    "start_time": "2022-06-22T06:35:34.824Z"
   },
   {
    "duration": 62,
    "start_time": "2022-06-22T06:36:45.881Z"
   },
   {
    "duration": 4,
    "start_time": "2022-06-22T06:37:07.874Z"
   },
   {
    "duration": 45,
    "start_time": "2022-06-22T06:37:10.581Z"
   },
   {
    "duration": 57,
    "start_time": "2022-06-22T06:37:35.083Z"
   },
   {
    "duration": 8,
    "start_time": "2022-06-22T06:37:44.877Z"
   },
   {
    "duration": 12,
    "start_time": "2022-06-22T06:39:09.304Z"
   },
   {
    "duration": 309,
    "start_time": "2022-06-22T06:39:21.117Z"
   },
   {
    "duration": 191,
    "start_time": "2022-06-22T06:39:51.886Z"
   },
   {
    "duration": 314,
    "start_time": "2022-06-22T06:40:56.620Z"
   },
   {
    "duration": 283,
    "start_time": "2022-06-22T06:41:41.419Z"
   },
   {
    "duration": 154,
    "start_time": "2022-06-22T06:41:58.437Z"
   },
   {
    "duration": 167,
    "start_time": "2022-06-22T06:42:04.834Z"
   },
   {
    "duration": 160,
    "start_time": "2022-06-22T06:42:43.942Z"
   },
   {
    "duration": 146,
    "start_time": "2022-06-22T06:42:52.516Z"
   },
   {
    "duration": 273,
    "start_time": "2022-06-22T06:44:35.023Z"
   },
   {
    "duration": 263,
    "start_time": "2022-06-22T06:45:59.152Z"
   },
   {
    "duration": 325,
    "start_time": "2022-06-22T06:51:42.416Z"
   },
   {
    "duration": 164,
    "start_time": "2022-06-22T06:52:14.476Z"
   },
   {
    "duration": 239,
    "start_time": "2022-06-22T06:55:01.993Z"
   },
   {
    "duration": 317,
    "start_time": "2022-06-22T06:55:17.419Z"
   },
   {
    "duration": 260,
    "start_time": "2022-06-22T06:55:27.073Z"
   },
   {
    "duration": 325,
    "start_time": "2022-06-22T06:55:33.088Z"
   },
   {
    "duration": 314,
    "start_time": "2022-06-22T06:55:41.769Z"
   },
   {
    "duration": 295,
    "start_time": "2022-06-22T06:56:25.145Z"
   },
   {
    "duration": 215,
    "start_time": "2022-06-22T06:56:39.089Z"
   },
   {
    "duration": 185,
    "start_time": "2022-06-22T06:57:13.774Z"
   },
   {
    "duration": 20,
    "start_time": "2022-06-22T07:02:00.378Z"
   },
   {
    "duration": 23,
    "start_time": "2022-06-22T07:05:39.932Z"
   },
   {
    "duration": 8,
    "start_time": "2022-06-22T07:05:45.735Z"
   },
   {
    "duration": 9,
    "start_time": "2022-06-22T07:05:51.295Z"
   },
   {
    "duration": 8,
    "start_time": "2022-06-22T07:07:38.171Z"
   },
   {
    "duration": 129,
    "start_time": "2022-06-22T07:16:50.667Z"
   },
   {
    "duration": 1178,
    "start_time": "2022-06-22T07:19:50.648Z"
   },
   {
    "duration": 5,
    "start_time": "2022-06-22T07:20:11.519Z"
   },
   {
    "duration": 23,
    "start_time": "2022-06-22T07:20:14.030Z"
   },
   {
    "duration": 56,
    "start_time": "2022-06-22T07:20:16.053Z"
   },
   {
    "duration": 11,
    "start_time": "2022-06-22T07:26:26.377Z"
   },
   {
    "duration": 19,
    "start_time": "2022-06-22T07:26:28.627Z"
   },
   {
    "duration": 15,
    "start_time": "2022-06-22T07:26:40.960Z"
   },
   {
    "duration": 4,
    "start_time": "2022-06-22T07:28:56.643Z"
   },
   {
    "duration": 7813,
    "start_time": "2022-06-22T07:47:13.254Z"
   },
   {
    "duration": 27,
    "start_time": "2022-06-22T07:49:03.139Z"
   },
   {
    "duration": 36,
    "start_time": "2022-06-22T07:49:17.269Z"
   },
   {
    "duration": 5,
    "start_time": "2022-06-22T07:54:34.213Z"
   },
   {
    "duration": 21,
    "start_time": "2022-06-22T08:01:37.653Z"
   },
   {
    "duration": 6,
    "start_time": "2022-06-22T08:02:17.978Z"
   },
   {
    "duration": 35,
    "start_time": "2022-06-22T08:02:26.371Z"
   },
   {
    "duration": 5,
    "start_time": "2022-06-22T08:10:19.998Z"
   },
   {
    "duration": 1268,
    "start_time": "2022-06-22T08:10:23.088Z"
   },
   {
    "duration": 1247,
    "start_time": "2022-06-22T08:10:47.512Z"
   },
   {
    "duration": 1309,
    "start_time": "2022-06-22T08:11:05.197Z"
   },
   {
    "duration": 11,
    "start_time": "2022-06-22T08:11:35.761Z"
   },
   {
    "duration": 1424,
    "start_time": "2022-06-22T08:11:37.515Z"
   },
   {
    "duration": 35,
    "start_time": "2022-06-22T08:11:43.824Z"
   },
   {
    "duration": 44,
    "start_time": "2022-06-22T08:12:12.579Z"
   },
   {
    "duration": 18195,
    "start_time": "2022-06-22T08:12:26.154Z"
   },
   {
    "duration": 17640,
    "start_time": "2022-06-22T08:13:06.767Z"
   },
   {
    "duration": 10384,
    "start_time": "2022-06-22T08:17:51.875Z"
   },
   {
    "duration": 14,
    "start_time": "2022-06-22T08:21:32.850Z"
   },
   {
    "duration": 6,
    "start_time": "2022-06-22T08:27:14.149Z"
   },
   {
    "duration": 6,
    "start_time": "2022-06-22T08:27:16.719Z"
   },
   {
    "duration": 16,
    "start_time": "2022-06-22T08:27:42.777Z"
   },
   {
    "duration": 14,
    "start_time": "2022-06-22T08:27:50.512Z"
   },
   {
    "duration": 20,
    "start_time": "2022-06-22T08:28:01.063Z"
   },
   {
    "duration": 15,
    "start_time": "2022-06-22T08:28:07.719Z"
   },
   {
    "duration": 3,
    "start_time": "2022-06-22T08:29:58.038Z"
   },
   {
    "duration": 4,
    "start_time": "2022-06-22T08:30:00.204Z"
   },
   {
    "duration": 1323,
    "start_time": "2022-06-22T08:30:04.339Z"
   },
   {
    "duration": 4,
    "start_time": "2022-06-22T08:30:07.934Z"
   },
   {
    "duration": 24,
    "start_time": "2022-06-22T08:34:00.067Z"
   },
   {
    "duration": 243,
    "start_time": "2022-06-22T08:43:58.691Z"
   },
   {
    "duration": 213,
    "start_time": "2022-06-22T08:44:18.091Z"
   },
   {
    "duration": 1472,
    "start_time": "2022-06-22T08:53:18.620Z"
   },
   {
    "duration": 94,
    "start_time": "2022-06-22T08:53:20.097Z"
   },
   {
    "duration": 24,
    "start_time": "2022-06-22T08:53:20.199Z"
   },
   {
    "duration": 670,
    "start_time": "2022-06-22T08:53:20.226Z"
   },
   {
    "duration": 208,
    "start_time": "2022-06-22T08:53:20.899Z"
   },
   {
    "duration": 408,
    "start_time": "2022-06-22T08:53:21.110Z"
   },
   {
    "duration": 5,
    "start_time": "2022-06-22T08:53:21.521Z"
   },
   {
    "duration": 50,
    "start_time": "2022-06-22T08:53:21.528Z"
   },
   {
    "duration": 87,
    "start_time": "2022-06-22T08:53:21.589Z"
   },
   {
    "duration": 36,
    "start_time": "2022-06-22T08:53:21.685Z"
   },
   {
    "duration": 4,
    "start_time": "2022-06-22T08:53:21.723Z"
   },
   {
    "duration": 14,
    "start_time": "2022-06-22T08:53:21.729Z"
   },
   {
    "duration": 46,
    "start_time": "2022-06-22T08:53:21.745Z"
   },
   {
    "duration": 1346,
    "start_time": "2022-06-22T08:53:21.794Z"
   },
   {
    "duration": 13431,
    "start_time": "2022-06-22T08:53:23.142Z"
   },
   {
    "duration": 8782,
    "start_time": "2022-06-22T08:53:36.586Z"
   },
   {
    "duration": 10200,
    "start_time": "2022-06-22T10:22:14.432Z"
   },
   {
    "duration": 46,
    "start_time": "2022-06-22T10:24:23.734Z"
   },
   {
    "duration": 12,
    "start_time": "2022-06-22T10:24:36.978Z"
   },
   {
    "duration": 77,
    "start_time": "2022-06-22T10:25:15.419Z"
   },
   {
    "duration": 68,
    "start_time": "2022-06-22T10:25:27.777Z"
   },
   {
    "duration": 27,
    "start_time": "2022-06-22T10:25:29.482Z"
   },
   {
    "duration": 14,
    "start_time": "2022-06-22T10:25:33.248Z"
   },
   {
    "duration": 5,
    "start_time": "2022-06-22T10:26:16.619Z"
   },
   {
    "duration": 85,
    "start_time": "2022-06-22T10:26:16.627Z"
   },
   {
    "duration": 23,
    "start_time": "2022-06-22T10:26:16.714Z"
   },
   {
    "duration": 10,
    "start_time": "2022-06-22T10:26:16.740Z"
   },
   {
    "duration": 331,
    "start_time": "2022-06-22T10:26:16.752Z"
   },
   {
    "duration": 183,
    "start_time": "2022-06-22T10:26:17.087Z"
   },
   {
    "duration": 300,
    "start_time": "2022-06-22T10:26:17.272Z"
   },
   {
    "duration": 8,
    "start_time": "2022-06-22T10:26:17.574Z"
   },
   {
    "duration": 42,
    "start_time": "2022-06-22T10:26:17.584Z"
   },
   {
    "duration": 33,
    "start_time": "2022-06-22T10:26:17.630Z"
   },
   {
    "duration": 21,
    "start_time": "2022-06-22T10:26:17.668Z"
   },
   {
    "duration": 18,
    "start_time": "2022-06-22T10:26:17.693Z"
   },
   {
    "duration": 11,
    "start_time": "2022-06-22T10:26:17.714Z"
   },
   {
    "duration": 5,
    "start_time": "2022-06-22T10:26:17.728Z"
   },
   {
    "duration": 1273,
    "start_time": "2022-06-22T10:26:17.735Z"
   },
   {
    "duration": 18456,
    "start_time": "2022-06-22T10:26:19.010Z"
   },
   {
    "duration": 11191,
    "start_time": "2022-06-22T10:26:37.469Z"
   },
   {
    "duration": 5,
    "start_time": "2022-06-22T10:36:56.101Z"
   },
   {
    "duration": 72,
    "start_time": "2022-06-22T10:36:56.108Z"
   },
   {
    "duration": 18,
    "start_time": "2022-06-22T10:36:56.185Z"
   },
   {
    "duration": 6,
    "start_time": "2022-06-22T10:36:56.206Z"
   },
   {
    "duration": 332,
    "start_time": "2022-06-22T10:36:56.214Z"
   },
   {
    "duration": 192,
    "start_time": "2022-06-22T10:36:56.548Z"
   },
   {
    "duration": 373,
    "start_time": "2022-06-22T10:36:56.742Z"
   },
   {
    "duration": 4,
    "start_time": "2022-06-22T10:36:57.117Z"
   },
   {
    "duration": 41,
    "start_time": "2022-06-22T10:36:57.125Z"
   },
   {
    "duration": 34,
    "start_time": "2022-06-22T10:36:57.168Z"
   },
   {
    "duration": 10,
    "start_time": "2022-06-22T10:36:57.204Z"
   },
   {
    "duration": 4,
    "start_time": "2022-06-22T10:36:57.217Z"
   },
   {
    "duration": 43,
    "start_time": "2022-06-22T10:36:57.223Z"
   },
   {
    "duration": 17,
    "start_time": "2022-06-22T10:36:57.271Z"
   },
   {
    "duration": 3979,
    "start_time": "2022-06-22T10:36:57.290Z"
   },
   {
    "duration": 18225,
    "start_time": "2022-06-22T10:37:01.275Z"
   },
   {
    "duration": 11755,
    "start_time": "2022-06-22T10:37:19.505Z"
   },
   {
    "duration": 114590,
    "start_time": "2022-06-22T10:37:53.922Z"
   },
   {
    "duration": 7,
    "start_time": "2022-06-22T10:43:20.402Z"
   },
   {
    "duration": 80,
    "start_time": "2022-06-22T10:43:20.414Z"
   },
   {
    "duration": 19,
    "start_time": "2022-06-22T10:43:20.497Z"
   },
   {
    "duration": 7,
    "start_time": "2022-06-22T10:43:20.519Z"
   },
   {
    "duration": 330,
    "start_time": "2022-06-22T10:43:20.528Z"
   },
   {
    "duration": 181,
    "start_time": "2022-06-22T10:43:20.867Z"
   },
   {
    "duration": 267,
    "start_time": "2022-06-22T10:43:21.051Z"
   },
   {
    "duration": 5,
    "start_time": "2022-06-22T10:43:21.320Z"
   },
   {
    "duration": 39,
    "start_time": "2022-06-22T10:43:21.327Z"
   },
   {
    "duration": 39,
    "start_time": "2022-06-22T10:43:21.374Z"
   },
   {
    "duration": 16,
    "start_time": "2022-06-22T10:43:21.416Z"
   },
   {
    "duration": 11,
    "start_time": "2022-06-22T10:43:21.434Z"
   },
   {
    "duration": 60,
    "start_time": "2022-06-22T10:43:21.447Z"
   },
   {
    "duration": 18,
    "start_time": "2022-06-22T10:43:21.509Z"
   },
   {
    "duration": 2141,
    "start_time": "2022-06-22T10:43:21.530Z"
   },
   {
    "duration": 649266,
    "start_time": "2022-06-22T10:43:23.673Z"
   },
   {
    "duration": 9194,
    "start_time": "2022-06-22T10:56:04.178Z"
   },
   {
    "duration": 13,
    "start_time": "2022-06-22T10:57:52.197Z"
   },
   {
    "duration": 34,
    "start_time": "2022-06-22T10:57:54.334Z"
   },
   {
    "duration": 12,
    "start_time": "2022-06-22T10:57:57.851Z"
   },
   {
    "duration": 10,
    "start_time": "2022-06-22T10:57:59.967Z"
   },
   {
    "duration": 6,
    "start_time": "2022-06-22T10:58:02.529Z"
   },
   {
    "duration": 5,
    "start_time": "2022-06-22T10:58:05.722Z"
   },
   {
    "duration": 3365,
    "start_time": "2022-06-22T10:58:07.710Z"
   },
   {
    "duration": 37053,
    "start_time": "2022-06-22T10:58:12.984Z"
   },
   {
    "duration": 10904,
    "start_time": "2022-06-22T10:58:53.908Z"
   },
   {
    "duration": 26,
    "start_time": "2022-06-22T10:59:23.843Z"
   },
   {
    "duration": 24,
    "start_time": "2022-06-22T10:59:26.623Z"
   },
   {
    "duration": 15,
    "start_time": "2022-06-22T10:59:30.240Z"
   },
   {
    "duration": 4,
    "start_time": "2022-06-22T10:59:31.626Z"
   },
   {
    "duration": 13,
    "start_time": "2022-06-22T10:59:32.647Z"
   },
   {
    "duration": 5,
    "start_time": "2022-06-22T10:59:34.232Z"
   },
   {
    "duration": 4126,
    "start_time": "2022-06-22T10:59:37.397Z"
   },
   {
    "duration": 64985,
    "start_time": "2022-06-22T10:59:43.047Z"
   },
   {
    "duration": 13093,
    "start_time": "2022-06-22T11:01:35.778Z"
   },
   {
    "duration": 4,
    "start_time": "2022-06-22T11:10:54.122Z"
   },
   {
    "duration": 62,
    "start_time": "2022-06-22T11:10:54.128Z"
   },
   {
    "duration": 14,
    "start_time": "2022-06-22T11:10:54.192Z"
   },
   {
    "duration": 6,
    "start_time": "2022-06-22T11:10:54.208Z"
   },
   {
    "duration": 269,
    "start_time": "2022-06-22T11:10:54.217Z"
   },
   {
    "duration": 346,
    "start_time": "2022-06-22T11:10:54.488Z"
   },
   {
    "duration": 272,
    "start_time": "2022-06-22T11:10:54.837Z"
   },
   {
    "duration": 5,
    "start_time": "2022-06-22T11:10:55.110Z"
   },
   {
    "duration": 23,
    "start_time": "2022-06-22T11:10:55.118Z"
   },
   {
    "duration": 27,
    "start_time": "2022-06-22T11:10:55.157Z"
   },
   {
    "duration": 11,
    "start_time": "2022-06-22T11:10:55.187Z"
   },
   {
    "duration": 4,
    "start_time": "2022-06-22T11:10:55.200Z"
   },
   {
    "duration": 10,
    "start_time": "2022-06-22T11:10:55.206Z"
   },
   {
    "duration": 11,
    "start_time": "2022-06-22T11:10:55.219Z"
   },
   {
    "duration": 2867,
    "start_time": "2022-06-22T11:10:55.232Z"
   },
   {
    "duration": 13373,
    "start_time": "2022-06-22T11:11:10.304Z"
   },
   {
    "duration": 52,
    "start_time": "2022-06-22T11:13:47.587Z"
   },
   {
    "duration": 17297,
    "start_time": "2022-06-22T11:13:52.667Z"
   },
   {
    "duration": 32,
    "start_time": "2022-06-22T11:15:48.612Z"
   },
   {
    "duration": 1342,
    "start_time": "2022-06-22T11:16:40.082Z"
   },
   {
    "duration": 17,
    "start_time": "2022-06-22T11:17:59.065Z"
   },
   {
    "duration": 13,
    "start_time": "2022-06-22T11:18:13.331Z"
   },
   {
    "duration": 2858,
    "start_time": "2022-06-22T11:18:20.277Z"
   },
   {
    "duration": 32076,
    "start_time": "2022-06-22T11:18:26.979Z"
   },
   {
    "duration": 9869,
    "start_time": "2022-06-22T11:23:40.386Z"
   },
   {
    "duration": 574,
    "start_time": "2022-06-22T11:24:08.271Z"
   },
   {
    "duration": 9851,
    "start_time": "2022-06-22T11:24:28.706Z"
   },
   {
    "duration": 209323,
    "start_time": "2022-06-22T11:26:24.911Z"
   },
   {
    "duration": 5,
    "start_time": "2022-06-22T11:31:39.437Z"
   },
   {
    "duration": 4,
    "start_time": "2022-06-22T11:33:11.439Z"
   },
   {
    "duration": 95,
    "start_time": "2022-06-22T11:33:11.446Z"
   },
   {
    "duration": 18,
    "start_time": "2022-06-22T11:33:11.543Z"
   },
   {
    "duration": 17,
    "start_time": "2022-06-22T11:33:11.564Z"
   },
   {
    "duration": 251,
    "start_time": "2022-06-22T11:33:11.584Z"
   },
   {
    "duration": 200,
    "start_time": "2022-06-22T11:33:11.837Z"
   },
   {
    "duration": 253,
    "start_time": "2022-06-22T11:33:12.039Z"
   },
   {
    "duration": 4,
    "start_time": "2022-06-22T11:33:12.295Z"
   },
   {
    "duration": 23,
    "start_time": "2022-06-22T11:33:12.302Z"
   },
   {
    "duration": 41,
    "start_time": "2022-06-22T11:33:12.327Z"
   },
   {
    "duration": 13,
    "start_time": "2022-06-22T11:33:12.372Z"
   },
   {
    "duration": 7,
    "start_time": "2022-06-22T11:33:12.387Z"
   },
   {
    "duration": 13,
    "start_time": "2022-06-22T11:33:12.396Z"
   },
   {
    "duration": 10,
    "start_time": "2022-06-22T11:33:12.411Z"
   },
   {
    "duration": 2895,
    "start_time": "2022-06-22T11:33:12.423Z"
   },
   {
    "duration": 32585,
    "start_time": "2022-06-22T11:33:15.320Z"
   },
   {
    "duration": 138536,
    "start_time": "2022-06-22T11:33:47.907Z"
   },
   {
    "duration": 4390,
    "start_time": "2022-06-22T11:42:28.502Z"
   },
   {
    "duration": 6612,
    "start_time": "2022-06-22T11:44:40.351Z"
   },
   {
    "duration": 9064,
    "start_time": "2022-06-22T11:45:01.495Z"
   },
   {
    "duration": 6958,
    "start_time": "2022-06-22T11:46:17.313Z"
   },
   {
    "duration": 8960,
    "start_time": "2022-06-22T11:46:30.627Z"
   },
   {
    "duration": 8996,
    "start_time": "2022-06-22T11:47:53.669Z"
   },
   {
    "duration": 36904,
    "start_time": "2022-06-22T11:49:29.414Z"
   },
   {
    "duration": 5,
    "start_time": "2022-06-22T11:55:10.390Z"
   },
   {
    "duration": 77,
    "start_time": "2022-06-22T11:55:10.403Z"
   },
   {
    "duration": 23,
    "start_time": "2022-06-22T11:55:10.482Z"
   },
   {
    "duration": 8,
    "start_time": "2022-06-22T11:55:10.508Z"
   },
   {
    "duration": 282,
    "start_time": "2022-06-22T11:55:10.518Z"
   },
   {
    "duration": 326,
    "start_time": "2022-06-22T11:55:10.803Z"
   },
   {
    "duration": 287,
    "start_time": "2022-06-22T11:55:11.131Z"
   },
   {
    "duration": 5,
    "start_time": "2022-06-22T11:55:11.420Z"
   },
   {
    "duration": 39,
    "start_time": "2022-06-22T11:55:11.427Z"
   },
   {
    "duration": 26,
    "start_time": "2022-06-22T11:55:11.469Z"
   },
   {
    "duration": 10,
    "start_time": "2022-06-22T11:55:11.498Z"
   },
   {
    "duration": 5,
    "start_time": "2022-06-22T11:55:11.510Z"
   },
   {
    "duration": 8,
    "start_time": "2022-06-22T11:55:16.174Z"
   },
   {
    "duration": 6,
    "start_time": "2022-06-22T11:55:27.308Z"
   },
   {
    "duration": 6,
    "start_time": "2022-06-22T11:55:42.417Z"
   },
   {
    "duration": 5,
    "start_time": "2022-06-22T11:58:44.232Z"
   },
   {
    "duration": 54,
    "start_time": "2022-06-22T11:58:44.240Z"
   },
   {
    "duration": 15,
    "start_time": "2022-06-22T11:58:44.295Z"
   },
   {
    "duration": 6,
    "start_time": "2022-06-22T11:58:44.313Z"
   },
   {
    "duration": 326,
    "start_time": "2022-06-22T11:58:44.321Z"
   },
   {
    "duration": 220,
    "start_time": "2022-06-22T11:58:44.656Z"
   },
   {
    "duration": 293,
    "start_time": "2022-06-22T11:58:44.878Z"
   },
   {
    "duration": 5,
    "start_time": "2022-06-22T11:58:45.174Z"
   },
   {
    "duration": 29,
    "start_time": "2022-06-22T11:58:45.183Z"
   },
   {
    "duration": 23,
    "start_time": "2022-06-22T11:58:45.214Z"
   },
   {
    "duration": 10,
    "start_time": "2022-06-22T11:58:54.116Z"
   },
   {
    "duration": 10,
    "start_time": "2022-06-22T11:59:08.050Z"
   },
   {
    "duration": 6,
    "start_time": "2022-06-22T11:59:23.548Z"
   },
   {
    "duration": 5,
    "start_time": "2022-06-22T11:59:25.329Z"
   },
   {
    "duration": 8,
    "start_time": "2022-06-22T12:00:04.005Z"
   },
   {
    "duration": 4,
    "start_time": "2022-06-22T12:00:13.994Z"
   },
   {
    "duration": 6149,
    "start_time": "2022-06-22T12:02:20.176Z"
   },
   {
    "duration": 31419,
    "start_time": "2022-06-22T12:02:43.774Z"
   },
   {
    "duration": 279175,
    "start_time": "2022-06-22T12:03:27.630Z"
   },
   {
    "duration": 6864,
    "start_time": "2022-06-22T12:09:47.407Z"
   },
   {
    "duration": 6421,
    "start_time": "2022-06-22T12:13:31.080Z"
   },
   {
    "duration": 5789,
    "start_time": "2022-06-22T12:13:56.705Z"
   },
   {
    "duration": 6317,
    "start_time": "2022-06-22T12:14:44.608Z"
   },
   {
    "duration": 9346,
    "start_time": "2022-06-22T12:16:32.769Z"
   },
   {
    "duration": 1213,
    "start_time": "2022-06-23T05:16:12.849Z"
   },
   {
    "duration": 130,
    "start_time": "2022-06-23T05:16:14.064Z"
   },
   {
    "duration": 18,
    "start_time": "2022-06-23T05:16:14.195Z"
   },
   {
    "duration": 5,
    "start_time": "2022-06-23T05:16:14.214Z"
   },
   {
    "duration": 686,
    "start_time": "2022-06-23T05:16:14.222Z"
   },
   {
    "duration": 174,
    "start_time": "2022-06-23T05:16:14.909Z"
   },
   {
    "duration": 305,
    "start_time": "2022-06-23T05:16:15.084Z"
   },
   {
    "duration": 4,
    "start_time": "2022-06-23T05:16:15.391Z"
   },
   {
    "duration": 32,
    "start_time": "2022-06-23T05:16:15.397Z"
   },
   {
    "duration": 20,
    "start_time": "2022-06-23T05:16:15.436Z"
   },
   {
    "duration": 26,
    "start_time": "2022-06-23T05:16:15.458Z"
   },
   {
    "duration": 10,
    "start_time": "2022-06-23T05:16:15.486Z"
   },
   {
    "duration": 22,
    "start_time": "2022-06-23T05:16:15.498Z"
   },
   {
    "duration": 26,
    "start_time": "2022-06-23T05:16:15.523Z"
   },
   {
    "duration": 4155,
    "start_time": "2022-06-23T05:16:15.551Z"
   },
   {
    "duration": 23637,
    "start_time": "2022-06-23T05:16:19.708Z"
   },
   {
    "duration": 181840,
    "start_time": "2022-06-23T05:16:43.347Z"
   },
   {
    "duration": 5347,
    "start_time": "2022-06-23T05:19:45.189Z"
   },
   {
    "duration": 4240,
    "start_time": "2022-06-23T05:19:50.543Z"
   },
   {
    "duration": 4,
    "start_time": "2022-06-23T05:34:41.793Z"
   },
   {
    "duration": 90,
    "start_time": "2022-06-23T05:34:41.800Z"
   },
   {
    "duration": 13,
    "start_time": "2022-06-23T05:34:41.891Z"
   },
   {
    "duration": 25,
    "start_time": "2022-06-23T05:34:41.906Z"
   },
   {
    "duration": 227,
    "start_time": "2022-06-23T05:34:41.935Z"
   },
   {
    "duration": 149,
    "start_time": "2022-06-23T05:34:42.164Z"
   },
   {
    "duration": 234,
    "start_time": "2022-06-23T05:34:42.315Z"
   },
   {
    "duration": 4,
    "start_time": "2022-06-23T05:34:42.551Z"
   },
   {
    "duration": 44,
    "start_time": "2022-06-23T05:34:42.558Z"
   },
   {
    "duration": 22,
    "start_time": "2022-06-23T05:34:42.603Z"
   },
   {
    "duration": 34,
    "start_time": "2022-06-23T05:34:42.627Z"
   },
   {
    "duration": 17,
    "start_time": "2022-06-23T05:34:42.663Z"
   },
   {
    "duration": 31,
    "start_time": "2022-06-23T05:34:42.682Z"
   },
   {
    "duration": 35,
    "start_time": "2022-06-23T05:34:42.715Z"
   },
   {
    "duration": 4877,
    "start_time": "2022-06-23T05:34:42.752Z"
   },
   {
    "duration": 27564,
    "start_time": "2022-06-23T05:34:47.632Z"
   },
   {
    "duration": 7456,
    "start_time": "2022-06-23T05:35:15.198Z"
   },
   {
    "duration": 0,
    "start_time": "2022-06-23T05:35:22.656Z"
   },
   {
    "duration": 1,
    "start_time": "2022-06-23T05:35:22.657Z"
   },
   {
    "duration": 4,
    "start_time": "2022-06-23T05:41:14.598Z"
   },
   {
    "duration": 65,
    "start_time": "2022-06-23T05:41:14.604Z"
   },
   {
    "duration": 13,
    "start_time": "2022-06-23T05:41:14.671Z"
   },
   {
    "duration": 5,
    "start_time": "2022-06-23T05:41:14.687Z"
   },
   {
    "duration": 279,
    "start_time": "2022-06-23T05:41:14.694Z"
   },
   {
    "duration": 276,
    "start_time": "2022-06-23T05:41:14.975Z"
   },
   {
    "duration": 239,
    "start_time": "2022-06-23T05:41:15.253Z"
   },
   {
    "duration": 4,
    "start_time": "2022-06-23T05:41:15.495Z"
   },
   {
    "duration": 29,
    "start_time": "2022-06-23T05:41:15.501Z"
   },
   {
    "duration": 28,
    "start_time": "2022-06-23T05:41:15.532Z"
   },
   {
    "duration": 12,
    "start_time": "2022-06-23T05:41:15.562Z"
   },
   {
    "duration": 5,
    "start_time": "2022-06-23T05:41:17.413Z"
   },
   {
    "duration": 1454,
    "start_time": "2022-06-23T05:45:08.922Z"
   },
   {
    "duration": 59,
    "start_time": "2022-06-23T05:45:10.379Z"
   },
   {
    "duration": 23,
    "start_time": "2022-06-23T05:45:10.442Z"
   },
   {
    "duration": 6,
    "start_time": "2022-06-23T05:45:10.467Z"
   },
   {
    "duration": 541,
    "start_time": "2022-06-23T05:45:10.476Z"
   },
   {
    "duration": 176,
    "start_time": "2022-06-23T05:45:11.019Z"
   },
   {
    "duration": 397,
    "start_time": "2022-06-23T05:45:11.197Z"
   },
   {
    "duration": 6,
    "start_time": "2022-06-23T05:45:11.597Z"
   },
   {
    "duration": 32,
    "start_time": "2022-06-23T05:45:11.605Z"
   },
   {
    "duration": 39,
    "start_time": "2022-06-23T05:45:11.646Z"
   },
   {
    "duration": 10,
    "start_time": "2022-06-23T05:45:11.687Z"
   },
   {
    "duration": 5,
    "start_time": "2022-06-23T05:45:11.699Z"
   },
   {
    "duration": 27,
    "start_time": "2022-06-23T05:45:11.706Z"
   },
   {
    "duration": 17,
    "start_time": "2022-06-23T05:45:11.741Z"
   },
   {
    "duration": 6625,
    "start_time": "2022-06-23T05:45:11.760Z"
   },
   {
    "duration": 34300,
    "start_time": "2022-06-23T05:45:18.387Z"
   },
   {
    "duration": 172917,
    "start_time": "2022-06-23T05:45:52.689Z"
   },
   {
    "duration": 3040,
    "start_time": "2022-06-23T05:48:45.608Z"
   },
   {
    "duration": 1622,
    "start_time": "2022-06-23T05:48:48.651Z"
   },
   {
    "duration": 925,
    "start_time": "2022-06-23T05:49:16.762Z"
   },
   {
    "duration": 12,
    "start_time": "2022-06-23T05:50:27.261Z"
   },
   {
    "duration": 895,
    "start_time": "2022-06-23T05:50:34.467Z"
   },
   {
    "duration": 9,
    "start_time": "2022-06-23T05:50:39.913Z"
   },
   {
    "duration": 9,
    "start_time": "2022-06-23T05:50:50.789Z"
   },
   {
    "duration": 8,
    "start_time": "2022-06-23T05:52:31.459Z"
   },
   {
    "duration": 16,
    "start_time": "2022-06-23T05:52:35.027Z"
   },
   {
    "duration": 21,
    "start_time": "2022-06-23T05:52:37.352Z"
   },
   {
    "duration": 4210,
    "start_time": "2022-06-23T22:12:26.615Z"
   },
   {
    "duration": 69,
    "start_time": "2022-06-23T22:12:32.495Z"
   },
   {
    "duration": 21,
    "start_time": "2022-06-23T22:12:33.196Z"
   },
   {
    "duration": 7,
    "start_time": "2022-06-23T22:12:34.796Z"
   },
   {
    "duration": 515,
    "start_time": "2022-06-23T22:14:00.693Z"
   },
   {
    "duration": 141,
    "start_time": "2022-06-23T22:14:01.691Z"
   },
   {
    "duration": 253,
    "start_time": "2022-06-23T22:14:02.295Z"
   },
   {
    "duration": 1228,
    "start_time": "2022-06-24T04:59:31.556Z"
   },
   {
    "duration": 137,
    "start_time": "2022-06-24T04:59:32.786Z"
   },
   {
    "duration": 31,
    "start_time": "2022-06-24T04:59:32.924Z"
   },
   {
    "duration": 8,
    "start_time": "2022-06-24T04:59:32.956Z"
   },
   {
    "duration": 646,
    "start_time": "2022-06-24T04:59:32.966Z"
   },
   {
    "duration": 156,
    "start_time": "2022-06-24T04:59:33.615Z"
   },
   {
    "duration": 244,
    "start_time": "2022-06-24T05:00:00.743Z"
   },
   {
    "duration": 142,
    "start_time": "2022-06-24T05:00:13.050Z"
   },
   {
    "duration": 233,
    "start_time": "2022-06-24T05:00:39.474Z"
   },
   {
    "duration": 242,
    "start_time": "2022-06-24T05:01:25.327Z"
   },
   {
    "duration": 319,
    "start_time": "2022-06-24T05:01:29.466Z"
   },
   {
    "duration": 227,
    "start_time": "2022-06-24T05:01:33.353Z"
   },
   {
    "duration": 205,
    "start_time": "2022-06-24T05:01:47.557Z"
   },
   {
    "duration": 246,
    "start_time": "2022-06-24T05:02:03.417Z"
   },
   {
    "duration": 263,
    "start_time": "2022-06-24T05:09:49.056Z"
   },
   {
    "duration": 365,
    "start_time": "2022-06-24T05:10:21.204Z"
   },
   {
    "duration": 175,
    "start_time": "2022-06-24T05:10:38.058Z"
   },
   {
    "duration": 196,
    "start_time": "2022-06-24T05:11:03.954Z"
   },
   {
    "duration": 261,
    "start_time": "2022-06-24T05:11:31.710Z"
   },
   {
    "duration": 226,
    "start_time": "2022-06-24T05:15:23.763Z"
   },
   {
    "duration": 228,
    "start_time": "2022-06-24T05:15:43.888Z"
   },
   {
    "duration": 6,
    "start_time": "2022-06-24T06:53:55.126Z"
   },
   {
    "duration": 73,
    "start_time": "2022-06-24T06:53:55.134Z"
   },
   {
    "duration": 13,
    "start_time": "2022-06-24T06:53:55.209Z"
   },
   {
    "duration": 20,
    "start_time": "2022-06-24T06:53:55.224Z"
   },
   {
    "duration": 230,
    "start_time": "2022-06-24T06:53:55.250Z"
   },
   {
    "duration": 170,
    "start_time": "2022-06-24T06:53:55.482Z"
   },
   {
    "duration": 223,
    "start_time": "2022-06-24T06:53:55.656Z"
   },
   {
    "duration": 290,
    "start_time": "2022-06-24T06:53:55.881Z"
   },
   {
    "duration": 5,
    "start_time": "2022-06-24T06:53:56.173Z"
   },
   {
    "duration": 100,
    "start_time": "2022-06-24T06:53:56.180Z"
   },
   {
    "duration": 13,
    "start_time": "2022-06-24T06:53:56.283Z"
   },
   {
    "duration": 13,
    "start_time": "2022-06-24T06:53:56.298Z"
   },
   {
    "duration": 10,
    "start_time": "2022-06-24T06:53:56.313Z"
   },
   {
    "duration": 44,
    "start_time": "2022-06-24T06:53:56.325Z"
   },
   {
    "duration": 9,
    "start_time": "2022-06-24T06:53:56.371Z"
   },
   {
    "duration": 1463,
    "start_time": "2022-06-24T06:53:56.383Z"
   },
   {
    "duration": 5558,
    "start_time": "2022-06-24T06:54:18.545Z"
   },
   {
    "duration": 82414,
    "start_time": "2022-06-24T06:54:29.776Z"
   },
   {
    "duration": 5241,
    "start_time": "2022-06-24T06:56:32.694Z"
   },
   {
    "duration": 11,
    "start_time": "2022-06-24T06:56:52.364Z"
   },
   {
    "duration": 5210,
    "start_time": "2022-06-24T06:56:55.858Z"
   },
   {
    "duration": 4,
    "start_time": "2022-06-24T06:57:45.757Z"
   },
   {
    "duration": 94,
    "start_time": "2022-06-24T06:57:45.762Z"
   },
   {
    "duration": 12,
    "start_time": "2022-06-24T06:57:45.857Z"
   },
   {
    "duration": 19,
    "start_time": "2022-06-24T06:57:45.871Z"
   },
   {
    "duration": 229,
    "start_time": "2022-06-24T06:57:45.891Z"
   },
   {
    "duration": 167,
    "start_time": "2022-06-24T06:57:46.121Z"
   },
   {
    "duration": 253,
    "start_time": "2022-06-24T06:57:46.290Z"
   },
   {
    "duration": 223,
    "start_time": "2022-06-24T06:57:46.544Z"
   },
   {
    "duration": 4,
    "start_time": "2022-06-24T06:57:46.769Z"
   },
   {
    "duration": 34,
    "start_time": "2022-06-24T06:57:46.774Z"
   },
   {
    "duration": 12,
    "start_time": "2022-06-24T06:57:46.809Z"
   },
   {
    "duration": 54,
    "start_time": "2022-06-24T06:57:46.823Z"
   },
   {
    "duration": 21,
    "start_time": "2022-06-24T06:57:46.878Z"
   },
   {
    "duration": 22,
    "start_time": "2022-06-24T06:57:46.901Z"
   },
   {
    "duration": 37,
    "start_time": "2022-06-24T06:57:46.925Z"
   },
   {
    "duration": 1521,
    "start_time": "2022-06-24T06:57:46.963Z"
   },
   {
    "duration": 6563,
    "start_time": "2022-06-24T06:57:48.486Z"
   },
   {
    "duration": 86841,
    "start_time": "2022-06-24T06:57:55.052Z"
   },
   {
    "duration": 2146,
    "start_time": "2022-06-24T06:59:21.894Z"
   },
   {
    "duration": 95,
    "start_time": "2022-06-24T06:59:24.042Z"
   },
   {
    "duration": 1461,
    "start_time": "2022-06-24T06:59:24.142Z"
   },
   {
    "duration": 4,
    "start_time": "2022-06-24T07:01:54.315Z"
   },
   {
    "duration": 65,
    "start_time": "2022-06-24T07:01:54.321Z"
   },
   {
    "duration": 14,
    "start_time": "2022-06-24T07:01:54.387Z"
   },
   {
    "duration": 6,
    "start_time": "2022-06-24T07:01:54.404Z"
   },
   {
    "duration": 250,
    "start_time": "2022-06-24T07:01:54.411Z"
   },
   {
    "duration": 153,
    "start_time": "2022-06-24T07:01:54.662Z"
   },
   {
    "duration": 307,
    "start_time": "2022-06-24T07:01:54.817Z"
   },
   {
    "duration": 216,
    "start_time": "2022-06-24T07:01:55.127Z"
   },
   {
    "duration": 5,
    "start_time": "2022-06-24T07:01:55.352Z"
   },
   {
    "duration": 10,
    "start_time": "2022-06-24T07:01:55.360Z"
   },
   {
    "duration": 12,
    "start_time": "2022-06-24T07:01:55.373Z"
   },
   {
    "duration": 9,
    "start_time": "2022-06-24T07:01:55.386Z"
   },
   {
    "duration": 9,
    "start_time": "2022-06-24T07:01:55.397Z"
   },
   {
    "duration": 25,
    "start_time": "2022-06-24T07:01:55.407Z"
   },
   {
    "duration": 23,
    "start_time": "2022-06-24T07:01:55.437Z"
   },
   {
    "duration": 1954,
    "start_time": "2022-06-24T07:01:55.462Z"
   },
   {
    "duration": 7127,
    "start_time": "2022-06-24T07:01:57.418Z"
   },
   {
    "duration": 96005,
    "start_time": "2022-06-24T07:02:04.547Z"
   },
   {
    "duration": 5775,
    "start_time": "2022-06-24T07:03:40.554Z"
   },
   {
    "duration": 16,
    "start_time": "2022-06-24T07:03:46.330Z"
   },
   {
    "duration": 4898,
    "start_time": "2022-06-24T07:03:46.348Z"
   },
   {
    "duration": 3,
    "start_time": "2022-06-24T07:07:38.509Z"
   },
   {
    "duration": 58,
    "start_time": "2022-06-24T07:07:38.514Z"
   },
   {
    "duration": 12,
    "start_time": "2022-06-24T07:07:38.574Z"
   },
   {
    "duration": 4,
    "start_time": "2022-06-24T07:07:38.588Z"
   },
   {
    "duration": 204,
    "start_time": "2022-06-24T07:07:38.594Z"
   },
   {
    "duration": 154,
    "start_time": "2022-06-24T07:07:38.800Z"
   },
   {
    "duration": 205,
    "start_time": "2022-06-24T07:07:38.956Z"
   },
   {
    "duration": 206,
    "start_time": "2022-06-24T07:07:39.162Z"
   },
   {
    "duration": 4,
    "start_time": "2022-06-24T07:07:39.369Z"
   },
   {
    "duration": 37,
    "start_time": "2022-06-24T07:07:39.374Z"
   },
   {
    "duration": 12,
    "start_time": "2022-06-24T07:07:39.414Z"
   },
   {
    "duration": 29,
    "start_time": "2022-06-24T07:07:39.428Z"
   },
   {
    "duration": 18,
    "start_time": "2022-06-24T07:07:39.459Z"
   },
   {
    "duration": 17,
    "start_time": "2022-06-24T07:07:39.479Z"
   },
   {
    "duration": 28,
    "start_time": "2022-06-24T07:07:39.498Z"
   },
   {
    "duration": 2187,
    "start_time": "2022-06-24T07:07:39.527Z"
   },
   {
    "duration": 9123,
    "start_time": "2022-06-24T07:07:41.716Z"
   },
   {
    "duration": 117027,
    "start_time": "2022-06-24T07:07:50.845Z"
   },
   {
    "duration": 1772,
    "start_time": "2022-06-24T07:09:47.874Z"
   },
   {
    "duration": 103,
    "start_time": "2022-06-24T07:09:49.649Z"
   },
   {
    "duration": 1217,
    "start_time": "2022-06-24T07:09:49.753Z"
   },
   {
    "duration": 4,
    "start_time": "2022-06-24T07:11:31.385Z"
   },
   {
    "duration": 66,
    "start_time": "2022-06-24T07:11:31.390Z"
   },
   {
    "duration": 13,
    "start_time": "2022-06-24T07:11:31.458Z"
   },
   {
    "duration": 19,
    "start_time": "2022-06-24T07:11:31.473Z"
   },
   {
    "duration": 333,
    "start_time": "2022-06-24T07:11:31.495Z"
   },
   {
    "duration": 156,
    "start_time": "2022-06-24T07:11:31.839Z"
   },
   {
    "duration": 242,
    "start_time": "2022-06-24T07:11:31.996Z"
   },
   {
    "duration": 180,
    "start_time": "2022-06-24T07:11:32.240Z"
   },
   {
    "duration": 14,
    "start_time": "2022-06-24T07:11:32.421Z"
   },
   {
    "duration": 21,
    "start_time": "2022-06-24T07:11:32.440Z"
   },
   {
    "duration": 19,
    "start_time": "2022-06-24T07:11:32.462Z"
   },
   {
    "duration": 25,
    "start_time": "2022-06-24T07:11:32.482Z"
   },
   {
    "duration": 8,
    "start_time": "2022-06-24T07:11:32.510Z"
   },
   {
    "duration": 26,
    "start_time": "2022-06-24T07:11:32.520Z"
   },
   {
    "duration": 20,
    "start_time": "2022-06-24T07:11:32.548Z"
   },
   {
    "duration": 2635,
    "start_time": "2022-06-24T07:11:32.570Z"
   },
   {
    "duration": 10923,
    "start_time": "2022-06-24T07:11:35.207Z"
   },
   {
    "duration": 142613,
    "start_time": "2022-06-24T07:11:46.131Z"
   },
   {
    "duration": 5181,
    "start_time": "2022-06-24T07:14:08.746Z"
   },
   {
    "duration": 17,
    "start_time": "2022-06-24T07:14:13.935Z"
   },
   {
    "duration": 4653,
    "start_time": "2022-06-24T07:14:13.954Z"
   },
   {
    "duration": 4,
    "start_time": "2022-06-24T07:16:44.044Z"
   },
   {
    "duration": 57,
    "start_time": "2022-06-24T07:16:44.050Z"
   },
   {
    "duration": 13,
    "start_time": "2022-06-24T07:16:44.109Z"
   },
   {
    "duration": 15,
    "start_time": "2022-06-24T07:16:44.124Z"
   },
   {
    "duration": 205,
    "start_time": "2022-06-24T07:16:44.142Z"
   },
   {
    "duration": 170,
    "start_time": "2022-06-24T07:16:44.349Z"
   },
   {
    "duration": 248,
    "start_time": "2022-06-24T07:16:44.521Z"
   },
   {
    "duration": 205,
    "start_time": "2022-06-24T07:16:44.771Z"
   },
   {
    "duration": 3,
    "start_time": "2022-06-24T07:16:44.978Z"
   },
   {
    "duration": 13,
    "start_time": "2022-06-24T07:16:44.982Z"
   },
   {
    "duration": 15,
    "start_time": "2022-06-24T07:16:44.997Z"
   },
   {
    "duration": 29,
    "start_time": "2022-06-24T07:16:45.013Z"
   },
   {
    "duration": 4,
    "start_time": "2022-06-24T07:16:45.045Z"
   },
   {
    "duration": 14,
    "start_time": "2022-06-24T07:16:45.050Z"
   },
   {
    "duration": 10,
    "start_time": "2022-06-24T07:16:45.066Z"
   },
   {
    "duration": 3367,
    "start_time": "2022-06-24T07:16:45.078Z"
   },
   {
    "duration": 12096,
    "start_time": "2022-06-24T07:16:48.447Z"
   },
   {
    "duration": 165101,
    "start_time": "2022-06-24T07:17:00.544Z"
   },
   {
    "duration": 4993,
    "start_time": "2022-06-24T07:19:45.647Z"
   },
   {
    "duration": 96,
    "start_time": "2022-06-24T07:19:50.642Z"
   },
   {
    "duration": 4395,
    "start_time": "2022-06-24T07:19:50.746Z"
   },
   {
    "duration": 6,
    "start_time": "2022-06-24T07:21:33.229Z"
   },
   {
    "duration": 63,
    "start_time": "2022-06-24T07:21:33.239Z"
   },
   {
    "duration": 18,
    "start_time": "2022-06-24T07:21:33.305Z"
   },
   {
    "duration": 47,
    "start_time": "2022-06-24T07:21:33.326Z"
   },
   {
    "duration": 214,
    "start_time": "2022-06-24T07:21:33.374Z"
   },
   {
    "duration": 164,
    "start_time": "2022-06-24T07:21:33.590Z"
   },
   {
    "duration": 246,
    "start_time": "2022-06-24T07:21:33.756Z"
   },
   {
    "duration": 255,
    "start_time": "2022-06-24T07:21:34.004Z"
   },
   {
    "duration": 5,
    "start_time": "2022-06-24T07:21:34.262Z"
   },
   {
    "duration": 14,
    "start_time": "2022-06-24T07:21:34.269Z"
   },
   {
    "duration": 12,
    "start_time": "2022-06-24T07:21:34.286Z"
   },
   {
    "duration": 27,
    "start_time": "2022-06-24T07:21:34.300Z"
   },
   {
    "duration": 19,
    "start_time": "2022-06-24T07:21:34.334Z"
   },
   {
    "duration": 13,
    "start_time": "2022-06-24T07:21:34.355Z"
   },
   {
    "duration": 8,
    "start_time": "2022-06-24T07:21:34.370Z"
   },
   {
    "duration": 3795,
    "start_time": "2022-06-24T07:21:34.380Z"
   },
   {
    "duration": 14674,
    "start_time": "2022-06-24T07:21:38.177Z"
   },
   {
    "duration": 198634,
    "start_time": "2022-06-24T07:21:52.852Z"
   },
   {
    "duration": 6157,
    "start_time": "2022-06-24T07:25:11.487Z"
   },
   {
    "duration": 25,
    "start_time": "2022-06-24T07:25:17.727Z"
   },
   {
    "duration": 4857,
    "start_time": "2022-06-24T07:25:17.754Z"
   },
   {
    "duration": 8,
    "start_time": "2022-06-24T07:26:51.024Z"
   },
   {
    "duration": 76,
    "start_time": "2022-06-24T07:26:51.038Z"
   },
   {
    "duration": 13,
    "start_time": "2022-06-24T07:26:51.115Z"
   },
   {
    "duration": 18,
    "start_time": "2022-06-24T07:26:51.130Z"
   },
   {
    "duration": 213,
    "start_time": "2022-06-24T07:26:51.151Z"
   },
   {
    "duration": 153,
    "start_time": "2022-06-24T07:26:51.365Z"
   },
   {
    "duration": 303,
    "start_time": "2022-06-24T07:26:51.519Z"
   },
   {
    "duration": 191,
    "start_time": "2022-06-24T07:26:51.824Z"
   },
   {
    "duration": 12,
    "start_time": "2022-06-24T07:26:52.016Z"
   },
   {
    "duration": 24,
    "start_time": "2022-06-24T07:26:52.035Z"
   },
   {
    "duration": 17,
    "start_time": "2022-06-24T07:26:52.061Z"
   },
   {
    "duration": 24,
    "start_time": "2022-06-24T07:26:52.079Z"
   },
   {
    "duration": 17,
    "start_time": "2022-06-24T07:26:52.105Z"
   },
   {
    "duration": 29,
    "start_time": "2022-06-24T07:26:52.125Z"
   },
   {
    "duration": 27,
    "start_time": "2022-06-24T07:26:52.156Z"
   },
   {
    "duration": 2090,
    "start_time": "2022-06-24T07:26:52.184Z"
   },
   {
    "duration": 11181,
    "start_time": "2022-06-24T07:26:54.276Z"
   },
   {
    "duration": 165527,
    "start_time": "2022-06-24T07:27:05.459Z"
   },
   {
    "duration": 4651,
    "start_time": "2022-06-24T07:29:50.988Z"
   },
   {
    "duration": 97,
    "start_time": "2022-06-24T07:29:55.641Z"
   },
   {
    "duration": 3331,
    "start_time": "2022-06-24T07:29:55.740Z"
   },
   {
    "duration": 3,
    "start_time": "2022-06-24T07:33:07.299Z"
   },
   {
    "duration": 73,
    "start_time": "2022-06-24T07:33:07.305Z"
   },
   {
    "duration": 16,
    "start_time": "2022-06-24T07:33:07.380Z"
   },
   {
    "duration": 6,
    "start_time": "2022-06-24T07:33:07.398Z"
   },
   {
    "duration": 255,
    "start_time": "2022-06-24T07:33:07.406Z"
   },
   {
    "duration": 161,
    "start_time": "2022-06-24T07:33:07.663Z"
   },
   {
    "duration": 245,
    "start_time": "2022-06-24T07:33:07.826Z"
   },
   {
    "duration": 217,
    "start_time": "2022-06-24T07:33:08.072Z"
   },
   {
    "duration": 4,
    "start_time": "2022-06-24T07:33:08.291Z"
   },
   {
    "duration": 15,
    "start_time": "2022-06-24T07:33:08.297Z"
   },
   {
    "duration": 28,
    "start_time": "2022-06-24T07:33:08.313Z"
   },
   {
    "duration": 29,
    "start_time": "2022-06-24T07:33:08.343Z"
   },
   {
    "duration": 3,
    "start_time": "2022-06-24T07:33:08.375Z"
   },
   {
    "duration": 12,
    "start_time": "2022-06-24T07:33:08.380Z"
   },
   {
    "duration": 7,
    "start_time": "2022-06-24T07:33:08.394Z"
   },
   {
    "duration": 5640,
    "start_time": "2022-06-24T07:33:08.403Z"
   },
   {
    "duration": 27567,
    "start_time": "2022-06-24T07:33:14.047Z"
   },
   {
    "duration": 264027,
    "start_time": "2022-06-24T07:33:41.616Z"
   },
   {
    "duration": 4696,
    "start_time": "2022-06-24T07:38:05.645Z"
   },
   {
    "duration": 13,
    "start_time": "2022-06-24T07:38:10.347Z"
   },
   {
    "duration": 3903,
    "start_time": "2022-06-24T07:38:10.362Z"
   },
   {
    "duration": 5,
    "start_time": "2022-06-24T07:43:05.242Z"
   },
   {
    "duration": 154,
    "start_time": "2022-06-24T07:44:28.680Z"
   },
   {
    "duration": 272,
    "start_time": "2022-06-24T07:45:28.814Z"
   },
   {
    "duration": 118,
    "start_time": "2022-06-24T07:46:20.272Z"
   },
   {
    "duration": 165,
    "start_time": "2022-06-24T07:48:59.616Z"
   },
   {
    "duration": 159,
    "start_time": "2022-06-24T07:49:08.790Z"
   },
   {
    "duration": 273,
    "start_time": "2022-06-24T07:49:25.806Z"
   },
   {
    "duration": 307,
    "start_time": "2022-06-24T07:49:39.095Z"
   },
   {
    "duration": 291,
    "start_time": "2022-06-24T07:50:08.887Z"
   },
   {
    "duration": 496,
    "start_time": "2022-06-24T07:50:14.799Z"
   },
   {
    "duration": 425,
    "start_time": "2022-06-24T07:50:29.086Z"
   },
   {
    "duration": 393,
    "start_time": "2022-06-24T07:50:38.627Z"
   },
   {
    "duration": 402,
    "start_time": "2022-06-24T07:50:50.226Z"
   },
   {
    "duration": 9,
    "start_time": "2022-06-24T07:51:55.892Z"
   },
   {
    "duration": 8,
    "start_time": "2022-06-24T07:52:47.271Z"
   },
   {
    "duration": 394,
    "start_time": "2022-06-24T07:53:14.460Z"
   },
   {
    "duration": 8,
    "start_time": "2022-06-24T07:53:19.225Z"
   },
   {
    "duration": 404,
    "start_time": "2022-06-24T07:53:20.830Z"
   },
   {
    "duration": 552,
    "start_time": "2022-06-24T07:54:23.898Z"
   },
   {
    "duration": 462,
    "start_time": "2022-06-24T07:57:07.715Z"
   },
   {
    "duration": 360,
    "start_time": "2022-06-24T07:57:20.350Z"
   },
   {
    "duration": 3,
    "start_time": "2022-06-24T07:57:53.507Z"
   },
   {
    "duration": 517,
    "start_time": "2022-06-24T07:58:25.891Z"
   },
   {
    "duration": 516,
    "start_time": "2022-06-24T08:00:24.718Z"
   },
   {
    "duration": 7,
    "start_time": "2022-06-24T08:01:41.953Z"
   },
   {
    "duration": 8,
    "start_time": "2022-06-24T08:01:59.980Z"
   },
   {
    "duration": 5,
    "start_time": "2022-06-24T08:02:08.216Z"
   },
   {
    "duration": 7,
    "start_time": "2022-06-24T08:02:46.395Z"
   },
   {
    "duration": 7,
    "start_time": "2022-06-24T08:03:04.610Z"
   },
   {
    "duration": 11,
    "start_time": "2022-06-24T08:03:18.826Z"
   },
   {
    "duration": 408,
    "start_time": "2022-06-24T08:03:48.242Z"
   },
   {
    "duration": 307,
    "start_time": "2022-06-24T08:04:31.584Z"
   },
   {
    "duration": 221,
    "start_time": "2022-06-24T08:04:51.480Z"
   },
   {
    "duration": 209,
    "start_time": "2022-06-24T08:05:17.521Z"
   },
   {
    "duration": 192,
    "start_time": "2022-06-24T08:05:45.727Z"
   },
   {
    "duration": 433,
    "start_time": "2022-06-24T08:08:31.064Z"
   },
   {
    "duration": 271,
    "start_time": "2022-06-24T08:08:50.541Z"
   },
   {
    "duration": 301,
    "start_time": "2022-06-24T08:09:06.043Z"
   },
   {
    "duration": 4,
    "start_time": "2022-06-24T08:13:03.515Z"
   },
   {
    "duration": 67,
    "start_time": "2022-06-24T08:13:03.522Z"
   },
   {
    "duration": 12,
    "start_time": "2022-06-24T08:13:03.590Z"
   },
   {
    "duration": 5,
    "start_time": "2022-06-24T08:13:03.604Z"
   },
   {
    "duration": 234,
    "start_time": "2022-06-24T08:13:03.611Z"
   },
   {
    "duration": 166,
    "start_time": "2022-06-24T08:13:03.847Z"
   },
   {
    "duration": 335,
    "start_time": "2022-06-24T08:13:04.015Z"
   },
   {
    "duration": 201,
    "start_time": "2022-06-24T08:13:04.351Z"
   },
   {
    "duration": 4,
    "start_time": "2022-06-24T08:13:04.553Z"
   },
   {
    "duration": 129,
    "start_time": "2022-06-24T08:13:04.559Z"
   },
   {
    "duration": 21,
    "start_time": "2022-06-24T08:13:04.690Z"
   },
   {
    "duration": 29,
    "start_time": "2022-06-24T08:13:04.713Z"
   },
   {
    "duration": 4,
    "start_time": "2022-06-24T08:13:04.745Z"
   },
   {
    "duration": 18,
    "start_time": "2022-06-24T08:13:04.750Z"
   },
   {
    "duration": 27,
    "start_time": "2022-06-24T08:13:04.770Z"
   },
   {
    "duration": 20364,
    "start_time": "2022-06-24T08:13:04.799Z"
   },
   {
    "duration": 78264,
    "start_time": "2022-06-24T08:13:25.164Z"
   },
   {
    "duration": 210771,
    "start_time": "2022-06-24T08:14:43.433Z"
   },
   {
    "duration": 21748,
    "start_time": "2022-06-24T08:18:14.205Z"
   },
   {
    "duration": 21,
    "start_time": "2022-06-24T08:18:36.032Z"
   },
   {
    "duration": 15893,
    "start_time": "2022-06-24T08:18:36.128Z"
   },
   {
    "duration": 3,
    "start_time": "2022-06-24T08:18:52.023Z"
   },
   {
    "duration": 308,
    "start_time": "2022-06-24T08:18:52.038Z"
   },
   {
    "duration": 6,
    "start_time": "2022-06-24T08:23:24.542Z"
   },
   {
    "duration": 54,
    "start_time": "2022-06-24T08:23:24.550Z"
   },
   {
    "duration": 13,
    "start_time": "2022-06-24T08:23:24.606Z"
   },
   {
    "duration": 16,
    "start_time": "2022-06-24T08:23:24.621Z"
   },
   {
    "duration": 265,
    "start_time": "2022-06-24T08:23:24.638Z"
   },
   {
    "duration": 254,
    "start_time": "2022-06-24T08:23:24.904Z"
   },
   {
    "duration": 216,
    "start_time": "2022-06-24T08:23:25.160Z"
   },
   {
    "duration": 200,
    "start_time": "2022-06-24T08:23:25.377Z"
   },
   {
    "duration": 3,
    "start_time": "2022-06-24T08:23:25.579Z"
   },
   {
    "duration": 109,
    "start_time": "2022-06-24T08:23:25.585Z"
   },
   {
    "duration": 22,
    "start_time": "2022-06-24T08:23:25.696Z"
   },
   {
    "duration": 18,
    "start_time": "2022-06-24T08:23:25.727Z"
   },
   {
    "duration": 6,
    "start_time": "2022-06-24T08:23:25.747Z"
   },
   {
    "duration": 10,
    "start_time": "2022-06-24T08:23:25.754Z"
   },
   {
    "duration": 8,
    "start_time": "2022-06-24T08:23:25.766Z"
   },
   {
    "duration": 53230,
    "start_time": "2022-06-24T08:23:25.776Z"
   },
   {
    "duration": 251016,
    "start_time": "2022-06-24T08:24:19.007Z"
   },
   {
    "duration": 748331,
    "start_time": "2022-06-24T08:28:30.033Z"
   },
   {
    "duration": 31769,
    "start_time": "2022-06-24T08:40:58.366Z"
   },
   {
    "duration": 91,
    "start_time": "2022-06-24T08:41:30.138Z"
   },
   {
    "duration": 22344,
    "start_time": "2022-06-24T08:41:30.230Z"
   },
   {
    "duration": 4,
    "start_time": "2022-06-24T08:41:52.576Z"
   },
   {
    "duration": 319,
    "start_time": "2022-06-24T08:41:52.581Z"
   },
   {
    "duration": 30784,
    "start_time": "2022-06-24T08:47:29.645Z"
   },
   {
    "duration": 292,
    "start_time": "2022-06-24T08:50:41.035Z"
   },
   {
    "duration": 4,
    "start_time": "2022-06-24T08:50:44.886Z"
   },
   {
    "duration": 277,
    "start_time": "2022-06-24T08:50:53.229Z"
   },
   {
    "duration": 4,
    "start_time": "2022-06-24T09:10:55.169Z"
   },
   {
    "duration": 46,
    "start_time": "2022-06-24T09:10:55.175Z"
   },
   {
    "duration": 12,
    "start_time": "2022-06-24T09:10:55.222Z"
   },
   {
    "duration": 5,
    "start_time": "2022-06-24T09:10:55.237Z"
   },
   {
    "duration": 291,
    "start_time": "2022-06-24T09:10:55.244Z"
   },
   {
    "duration": 139,
    "start_time": "2022-06-24T09:10:55.538Z"
   },
   {
    "duration": 192,
    "start_time": "2022-06-24T09:10:55.679Z"
   },
   {
    "duration": 183,
    "start_time": "2022-06-24T09:10:55.872Z"
   },
   {
    "duration": 4,
    "start_time": "2022-06-24T09:10:56.057Z"
   },
   {
    "duration": 104,
    "start_time": "2022-06-24T09:10:56.063Z"
   },
   {
    "duration": 21,
    "start_time": "2022-06-24T09:10:56.169Z"
   },
   {
    "duration": 38,
    "start_time": "2022-06-24T09:10:56.192Z"
   },
   {
    "duration": 4,
    "start_time": "2022-06-24T09:10:56.233Z"
   },
   {
    "duration": 13,
    "start_time": "2022-06-24T09:10:56.239Z"
   },
   {
    "duration": 13,
    "start_time": "2022-06-24T09:10:56.254Z"
   },
   {
    "duration": 19229,
    "start_time": "2022-06-24T09:10:56.269Z"
   },
   {
    "duration": 73537,
    "start_time": "2022-06-24T09:11:15.500Z"
   },
   {
    "duration": 189789,
    "start_time": "2022-06-24T09:12:29.039Z"
   },
   {
    "duration": 18596,
    "start_time": "2022-06-24T09:15:38.830Z"
   },
   {
    "duration": 405,
    "start_time": "2022-06-24T09:15:57.430Z"
   },
   {
    "duration": 5,
    "start_time": "2022-06-24T09:15:57.929Z"
   },
   {
    "duration": 311,
    "start_time": "2022-06-24T09:15:57.936Z"
   },
   {
    "duration": 14439,
    "start_time": "2022-06-24T09:15:58.249Z"
   },
   {
    "duration": 4,
    "start_time": "2022-06-24T09:16:12.689Z"
   },
   {
    "duration": 265,
    "start_time": "2022-06-24T09:16:12.694Z"
   },
   {
    "duration": 5,
    "start_time": "2022-06-24T09:23:08.757Z"
   },
   {
    "duration": 358,
    "start_time": "2022-06-24T09:23:10.382Z"
   },
   {
    "duration": 7,
    "start_time": "2022-06-24T09:23:43.225Z"
   },
   {
    "duration": 208,
    "start_time": "2022-06-24T09:25:29.952Z"
   },
   {
    "duration": 277,
    "start_time": "2022-06-24T09:25:41.115Z"
   },
   {
    "duration": 8,
    "start_time": "2022-06-24T09:26:36.730Z"
   },
   {
    "duration": 293,
    "start_time": "2022-06-24T09:26:38.695Z"
   },
   {
    "duration": 10,
    "start_time": "2022-06-24T09:26:59.057Z"
   },
   {
    "duration": 10,
    "start_time": "2022-06-24T09:27:10.483Z"
   },
   {
    "duration": 19,
    "start_time": "2022-06-24T09:27:49.323Z"
   },
   {
    "duration": 3,
    "start_time": "2022-06-24T09:27:55.904Z"
   },
   {
    "duration": 269,
    "start_time": "2022-06-24T09:27:59.854Z"
   },
   {
    "duration": 4,
    "start_time": "2022-06-24T09:29:06.728Z"
   },
   {
    "duration": 309,
    "start_time": "2022-06-24T09:29:08.502Z"
   },
   {
    "duration": 5,
    "start_time": "2022-06-24T09:29:34.142Z"
   },
   {
    "duration": 5,
    "start_time": "2022-06-24T09:29:41.186Z"
   },
   {
    "duration": 284,
    "start_time": "2022-06-24T09:29:42.395Z"
   },
   {
    "duration": 314,
    "start_time": "2022-06-24T09:30:19.319Z"
   },
   {
    "duration": 3,
    "start_time": "2022-06-24T09:30:21.519Z"
   },
   {
    "duration": 268,
    "start_time": "2022-06-24T09:30:23.214Z"
   },
   {
    "duration": 14134,
    "start_time": "2022-06-24T09:30:25.883Z"
   },
   {
    "duration": 4,
    "start_time": "2022-06-24T09:30:41.467Z"
   },
   {
    "duration": 278,
    "start_time": "2022-06-24T09:30:42.594Z"
   },
   {
    "duration": 1495,
    "start_time": "2022-06-24T09:38:11.337Z"
   },
   {
    "duration": 49,
    "start_time": "2022-06-24T09:38:12.834Z"
   },
   {
    "duration": 16,
    "start_time": "2022-06-24T09:38:12.885Z"
   },
   {
    "duration": 5,
    "start_time": "2022-06-24T09:38:12.903Z"
   },
   {
    "duration": 221,
    "start_time": "2022-06-24T09:38:12.909Z"
   },
   {
    "duration": 158,
    "start_time": "2022-06-24T09:38:13.131Z"
   },
   {
    "duration": 287,
    "start_time": "2022-06-24T09:38:13.291Z"
   },
   {
    "duration": 202,
    "start_time": "2022-06-24T09:38:13.579Z"
   },
   {
    "duration": 4,
    "start_time": "2022-06-24T09:38:13.783Z"
   },
   {
    "duration": 138,
    "start_time": "2022-06-24T09:38:13.790Z"
   },
   {
    "duration": 30,
    "start_time": "2022-06-24T09:38:13.930Z"
   },
   {
    "duration": 22,
    "start_time": "2022-06-24T09:38:13.961Z"
   },
   {
    "duration": 4,
    "start_time": "2022-06-24T09:38:13.985Z"
   },
   {
    "duration": 12,
    "start_time": "2022-06-24T09:38:13.991Z"
   },
   {
    "duration": 4,
    "start_time": "2022-06-24T09:38:14.028Z"
   },
   {
    "duration": 19306,
    "start_time": "2022-06-24T09:38:14.034Z"
   },
   {
    "duration": 75856,
    "start_time": "2022-06-24T09:38:33.342Z"
   },
   {
    "duration": 192468,
    "start_time": "2022-06-24T09:39:49.200Z"
   },
   {
    "duration": 19059,
    "start_time": "2022-06-24T09:43:01.670Z"
   },
   {
    "duration": 394,
    "start_time": "2022-06-24T09:43:20.732Z"
   },
   {
    "duration": 95,
    "start_time": "2022-06-24T09:43:21.132Z"
   },
   {
    "duration": 361,
    "start_time": "2022-06-24T09:43:21.229Z"
   },
   {
    "duration": 13705,
    "start_time": "2022-06-24T09:43:21.592Z"
   },
   {
    "duration": 4,
    "start_time": "2022-06-24T09:43:35.298Z"
   },
   {
    "duration": 247,
    "start_time": "2022-06-24T09:43:35.303Z"
   }
  ],
  "kernelspec": {
   "display_name": "Python 3 (ipykernel)",
   "language": "python",
   "name": "python3"
  },
  "language_info": {
   "codemirror_mode": {
    "name": "ipython",
    "version": 3
   },
   "file_extension": ".py",
   "mimetype": "text/x-python",
   "name": "python",
   "nbconvert_exporter": "python",
   "pygments_lexer": "ipython3",
   "version": "3.9.7"
  },
  "toc": {
   "base_numbering": 1,
   "nav_menu": {},
   "number_sections": true,
   "sideBar": true,
   "skip_h1_title": true,
   "title_cell": "Содержание",
   "title_sidebar": "Contents",
   "toc_cell": true,
   "toc_position": {
    "height": "calc(100% - 180px)",
    "left": "10px",
    "top": "150px",
    "width": "165px"
   },
   "toc_section_display": true,
   "toc_window_display": true
  }
 },
 "nbformat": 4,
 "nbformat_minor": 2
}
